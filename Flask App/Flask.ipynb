{
 "cells": [
  {
   "cell_type": "markdown",
   "metadata": {},
   "source": [
    "## Django Vs Flask\n",
    "1. __Django__ : Django is an open source web framework, which follows the principle of \"Don't repeat yourself\".\n",
    "2. __Flask__ : Flask is a Python web framework build with a small core and easy to extend design.\n",
    "3. Vs: \n",
    "    * Django works with Postgres, MySQL, Oracle etc. But if you want to work with NoSQL like MongoDB or No database Flask is a option.\n",
    "    * Django is a full stack framework, where as Falsk falls under a category of micro framework.\n",
    "    * Django is suitable for Large and longer time projects, while Flask is for small and shorter projects.\n",
    "    * Django is a Full Featured - meaning it is good at creating full featured web application with server side tempelating. Whereas Flask is more suitable for Static or RESTful web service that feeds your mobile app. \n",
    "    * Flask performs little better than Django bacause it has fewer layer.\n",
    "    * Django - Instagram, Pinterest, Udemy\n",
    "    * Flask - Netflix, lyft, Zillow, Reddit"
   ]
  },
  {
   "cell_type": "markdown",
   "metadata": {},
   "source": [
    "\n"
   ]
  },
  {
   "cell_type": "markdown",
   "metadata": {},
   "source": [
    "## Getting Started with Flask\n",
    "1. https://flask.palletsprojects.com/en/1.1.x/quickstart/#quickstart\n",
    "2. We will be creating a Flask based Blog web application. Python code for application is present in GitHub: Knowledge\\Flask App\n",
    "3. Reference is Corey Schafer Flask Tutorial.\n",
    "4. "
   ]
  }
 ],
 "metadata": {
  "kernelspec": {
   "display_name": "Python 3",
   "language": "python",
   "name": "python3"
  },
  "language_info": {
   "codemirror_mode": {
    "name": "ipython",
    "version": 3
   },
   "file_extension": ".py",
   "mimetype": "text/x-python",
   "name": "python",
   "nbconvert_exporter": "python",
   "pygments_lexer": "ipython3",
   "version": "3.8.0"
  }
 },
 "nbformat": 4,
 "nbformat_minor": 2
}
