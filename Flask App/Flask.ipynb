{
 "cells": [
  {
   "cell_type": "markdown",
   "metadata": {},
   "source": [
    "## Django Vs Flask\n",
    "1. __Django__ : Django is an open source web framework, which follows the principle of \"Don't repeat yourself\".\n",
    "2. __Flask__ : Flask is a Python web framework build with a small core and easy to extend design.\n",
    "3. Vs: \n",
    "    * Django works with Postgres, MySQL, Oracle etc. But if you want to work with NoSQL like MongoDB or No database Flask is a option.\n",
    "    * Django is a full stack framework, where as Falsk falls under a category of micro framework.\n",
    "    * Django is suitable for Large and longer time projects, while Flask is for small and shorter projects.\n",
    "    * Django is a Full Featured - meaning it is good at creating full featured web application with server side tempelating. Whereas Flask is more suitable for Static or RESTful web service that feeds your mobile app. \n",
    "    * Flask performs little better than Django bacause it has fewer layer.\n",
    "    * Django - Instagram, Pinterest, Udemy\n",
    "    * Flask - Netflix, lyft, Zillow, Reddit"
   ]
  },
  {
   "cell_type": "markdown",
   "metadata": {},
   "source": [
    "### HTTP, GET and POST - TODO\n",
    "1. __HTTP__ : The Hypertext Transfer Protocol (HTTP) is designed to enable communications between clients and servers. HTTP works as a request-response protocol between a client and server.  A client (browser) submits an HTTP request to the server; then the server returns a response to the client. The response contains status information about the request and may also contain the requested content.\n",
    "2. __HTTP Methods__ : GET, POST, PUT, HEAD, DELETE, PATCH, OPTIONS\n",
    "    1. https://www.w3schools.com/tags/ref_httpmethods.asp\n",
    "    2. __GET__:GET is used to request data from a server. When we hit localhost:5000/home a GET /home resquest is sent to server.\n",
    "    3. __POST__: POST is used to send data to a server to create/update a resource."
   ]
  },
  {
   "cell_type": "markdown",
   "metadata": {},
   "source": [
    "### HTML Messages:\n",
    "1. When a browser requests a service from a web server, an error might occur, and the server might return an error code like 404 Not Found.\n",
    "2. But these messages are something called HTTP status messages. In fact, the server always returns a message for every request. The most common message is 200 OK.\n",
    "3. List of all errors can be found in https://www.w3schools.com/tags/ref_httpmessages.asp"
   ]
  },
  {
   "cell_type": "markdown",
   "metadata": {},
   "source": [
    "## Getting Started with Flask\n",
    "1. https://flask.palletsprojects.com/en/1.1.x/quickstart/#quickstart\n",
    "2. We will be creating a Flask based Blog web application. Python code for application is present in GitHub: Knowledge\\Flask App\n",
    "3. Reference is Corey Schafer Flask Tutorial."
   ]
  },
  {
   "cell_type": "code",
   "execution_count": null,
   "metadata": {},
   "outputs": [],
   "source": [
    "#First we imported the Flask class.\n",
    "from flask import Flask\n",
    "\n",
    "# Instantiating the Flask class to create a application, the __name__ is a spl variable in python \n",
    "# that holds the module name. If we run the python file directly then __name__ will be __main__.\n",
    "# This is needed so that Flask knows where to look for templates, static files, and so on.\n",
    "app = Flask(__name__)\n",
    "\n",
    "# We then use the route() decorator to tell Flask what URL should trigger our function.\n",
    "# Routes are what we type in our browser to go to different pages. like contact page, help page.\n",
    "# We create these different pages using route decorators in flask\n",
    "# \"/\" is teh root page or home page of our website.\n",
    "@app.route('/')\n",
    "def hello_world():\n",
    "    return 'Hello, World!' # this is where HTML is return, but this is for basic we are returning a text"
   ]
  },
  {
   "cell_type": "code",
   "execution_count": null,
   "metadata": {},
   "outputs": [],
   "source": [
    "# We need to tell the terminator the application to work with by doing a set\n",
    "..\\Knowledge\\Flask App > set FLASK_APP=flaskblog.py\n",
    "# to run the application\n",
    "> flask run\n",
    "# this will run the application on your local IP address alias localhost with some port number\n",
    ">  Running on http://127.0.0.1:5000/ (Press CTRL+C to quit)\n",
    "# With this way of runnig the application if you make any changes you will have to stop your server and run it again to see \n",
    "# changes in your files. So the work around is run the application in debug mode.\n",
    "> set FLASK_DEBUG=1\n",
    "> flask run # this will run now in debug so the chnages in application are see without restarting the application."
   ]
  },
  {
   "cell_type": "code",
   "execution_count": null,
   "metadata": {},
   "outputs": [],
   "source": [
    "# we can view any HTML page source code by right clicking and selecting \"View Page Source\".\n",
    "# Also inspect will come handy for debugging your HTML page."
   ]
  },
  {
   "cell_type": "code",
   "execution_count": null,
   "metadata": {},
   "outputs": [],
   "source": [
    "# Another way of running the app rather than throught the terminal using > flask run \n",
    "# Stop the previous flask run (if running ) then just run the python script as is \n",
    "from flask import Flask\n",
    "app = Flask(__name__)\n",
    "@app.route('/')\n",
    "def hello_world():\n",
    "    return '<h1>Hello, World! by Veena</h1>'\n",
    "\n",
    "if __name__ == '__main__':\n",
    "    app.run(debug=True)"
   ]
  },
  {
   "cell_type": "markdown",
   "metadata": {},
   "source": [
    "### Templates : \n",
    "1. Generating HTML from within Python is not fun, and actually pretty cumbersome because you have to do the HTML escaping on your own to keep the application secure. That's where Templates come handy. Templates are a way to organize large HTML codes in a web application. \n",
    "2. Flask configures the __Jinja2 template engine__ for you automatically for template redenrding. Flask will look for templates in the templates folder.\n",
    "3. So if your application is a module(one sigle .py file), this folder is next to that module,  \n",
    "    * /application.py  \n",
    "    * /templates  \n",
    "        * /hello.html  \n",
    "      \n",
    "   if it’s a package it’s actually inside your package:\n",
    "    * /application\n",
    "        * /__init__.py\n",
    "        * /templates\n",
    "            * /hello.html\n",
    "4. So create a folder with name templates and add .html files per page or multiple .html files per page. And use render_template from flask to render the templates.  \n",
    "5. https://jinja.palletsprojects.com/en/2.11.x/templates/"
   ]
  },
  {
   "cell_type": "code",
   "execution_count": null,
   "metadata": {},
   "outputs": [],
   "source": [
    "# flaskblog.py\n",
    "# This is how we render a template.\n",
    "return render_template('about.html')\n",
    "# IF you want to pass information to the template, use any variable ('posts' here) as a argument and the same variable \n",
    "# will be available in the templates for your use.\n",
    "post =[some data from database]\n",
    "return render_template('about.html', posts=posts)"
   ]
  },
  {
   "cell_type": "code",
   "execution_count": 2,
   "metadata": {},
   "outputs": [
    {
     "ename": "SyntaxError",
     "evalue": "invalid syntax (<ipython-input-2-f85414c1e50f>, line 3)",
     "output_type": "error",
     "traceback": [
      "\u001b[1;36m  File \u001b[1;32m\"<ipython-input-2-f85414c1e50f>\"\u001b[1;36m, line \u001b[1;32m3\u001b[0m\n\u001b[1;33m    <body>\u001b[0m\n\u001b[1;37m    ^\u001b[0m\n\u001b[1;31mSyntaxError\u001b[0m\u001b[1;31m:\u001b[0m invalid syntax\n"
     ]
    }
   ],
   "source": [
    "# templates/home.html\n",
    "# We can loop over the posts here in templates using the code block {% for ...%} followed by {% endfor %}\n",
    "<body>\n",
    "    {% for post in posts %}\n",
    "    <h1>{{ post.title }}</h1>\n",
    "    <p>By {{ post.author }} on {{ post.date_posted }}</p>\n",
    "    <p>{{ post.content }}</p>\n",
    "    {% endfor  %}\n",
    "</body>"
   ]
  },
  {
   "cell_type": "markdown",
   "metadata": {},
   "source": [
    "### Templates Inheritance:\n",
    "1. There will be lot of html code which will be common in multiple htmml files. Its a good programming practice to keep it in one single file rather than repeating the code everywhere. For this we use template inheritance.\n",
    "2. To do this we use a layout.html and use code block in there which can be overwritten by the child html.\n",
    "10. https://flask.palletsprojects.com/en/1.1.x/patterns/templateinheritance/"
   ]
  },
  {
   "cell_type": "code",
   "execution_count": null,
   "metadata": {},
   "outputs": [],
   "source": [
    "# layout.html\n",
    "... complete html body which is common to all html pages ...\n",
    "# Here content is the name of the block which will be over written in the child class\n",
    "<body>\n",
    "    {% block content %} {% endblock content %}\n",
    "</body>\n",
    "\n",
    "# home.html\n",
    "# We use 'extends' which will then extends the layout.html to child followed by replacement of the content block.\n",
    "{% extends \"layout.html\" %}\n",
    "{% block content %}\n",
    "    <h1>About Page</h1>\n",
    "{% endblock content %}"
   ]
  },
  {
   "cell_type": "markdown",
   "metadata": {},
   "source": [
    "### Bootstrap:\n",
    "1. Bootstrap is a free and open-source CSS framework directed at responsive, mobile-first front-end web development. It contains CSS- and JavaScript-based design templates for typography, forms, buttons, navigation, and other interface components.\n",
    "2. To quickly add some style to our webpage we will use bootstrap.\n",
    "3. Quick guide - https://getbootstrap.com/docs/4.5/getting-started/introduction/\n",
    "4. Adding couple of line of code (bootstrap code) will give us access to lots of class which can be used for styling. This is muc quicker way to make style than typing .css manually.\n",
    "5. Lots of bootstrap styling are available for easy building of Navigation bars, container styling og blogs."
   ]
  },
  {
   "cell_type": "markdown",
   "metadata": {},
   "source": [
    "1. Flask requires all the static files like css and javascript files to be placed in a folder named \"static\".\n",
    "2. Lots of prewritten bootstrap code is added to the layout.html which will provide us with basic Navigation and structure. And main.css is added under static folder for specific styling. \n",
    "3. __url_for__ : "
   ]
  },
  {
   "cell_type": "markdown",
   "metadata": {},
   "source": [
    "### CSS: https://www.w3schools.com/css/css_howto.asp\n",
    "1. When a browser reads a style sheet, it will format the HTML document according to the information in the style sheet.\n",
    "2. Three Ways to Insert CSS: \n",
    "    * External CSS: Each HTML page must include a reference to the external style sheet file inside the <link> element, inside the head section.\n",
    "    * Internal CSS: An internal style sheet may be used if one single HTML page has a unique style.The internal style is defined inside the <style/> element, inside the head section.\n",
    "    * Inline CSS: An inline style may be used to apply a unique style for a single element."
   ]
  },
  {
   "cell_type": "code",
   "execution_count": null,
   "metadata": {},
   "outputs": [],
   "source": [
    "# linking the main.css to our application for styling\n",
    "# in loyout.html\n",
    "<head>\n",
    "...\n",
    "# we will use url_for() function to build a URL(Uniform Resource Locator) to a specific function. \n",
    "<link rel=\"stylesheet\" type=\"text/css\" href=\"{{ url_for('static', filename='main.css') }}\">\n",
    "# above is equavalent to this code without url_for(), but url_for has some advantages.\n",
    "<link rel=\"stylesheet\" type=\"text/css\" href=\"/static/main.css\">\n",
    "...\n",
    "</head>"
   ]
  },
  {
   "cell_type": "markdown",
   "metadata": {},
   "source": [
    "#### Why would you want to build URLs using the URL reversing function url_for() instead of hard-coding them into your templates?\n",
    "1. Reversing is often more descriptive than hard-coding the URLs.\n",
    "2. You can change your URLs in one go instead of needing to remember to manually change hard-coded URLs.\n",
    "3. URL building handles escaping of special characters and Unicode data transparently.\n",
    "4. The generated paths are always absolute, avoiding unexpected behavior of relative paths in browsers.\n",
    "5. If your application is placed outside the URL root, for example, in /myapplication instead of /, url_for() properly handles that for you."
   ]
  },
  {
   "cell_type": "code",
   "execution_count": null,
   "metadata": {},
   "outputs": [],
   "source": []
  },
  {
   "cell_type": "code",
   "execution_count": null,
   "metadata": {},
   "outputs": [],
   "source": []
  }
 ],
 "metadata": {
  "kernelspec": {
   "display_name": "Python 3",
   "language": "python",
   "name": "python3"
  },
  "language_info": {
   "codemirror_mode": {
    "name": "ipython",
    "version": 3
   },
   "file_extension": ".py",
   "mimetype": "text/x-python",
   "name": "python",
   "nbconvert_exporter": "python",
   "pygments_lexer": "ipython3",
   "version": "3.8.0"
  }
 },
 "nbformat": 4,
 "nbformat_minor": 2
}
