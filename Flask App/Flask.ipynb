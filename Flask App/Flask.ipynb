{
 "cells": [
  {
   "cell_type": "markdown",
   "metadata": {},
   "source": [
    "## Django Vs Flask\n",
    "1. __Django__ : Django is an open source web framework, which follows the principle of \"Don't repeat yourself\".\n",
    "2. __Flask__ : Flask is a Python web framework build with a small core and easy to extend design.\n",
    "3. Vs: \n",
    "    * Django works with Postgres, MySQL, Oracle etc. But if you want to work with NoSQL like MongoDB or No database Flask is a option.\n",
    "    * Django is a full stack framework, where as Falsk falls under a category of micro framework.\n",
    "    * Django is suitable for Large and longer time projects, while Flask is for small and shorter projects.\n",
    "    * Django is a Full Featured - meaning it is good at creating full featured web application with server side tempelating. Whereas Flask is more suitable for Static or RESTful web service that feeds your mobile app. \n",
    "    * Flask performs little better than Django bacause it has fewer layer.\n",
    "    * Django - Instagram, Pinterest, Udemy\n",
    "    * Flask - Netflix, lyft, Zillow, Reddit"
   ]
  },
  {
   "cell_type": "markdown",
   "metadata": {},
   "source": [
    "### HTTP, GET and POST - TODO\n",
    "1. __HTTP__ : The Hypertext Transfer Protocol (HTTP) is designed to enable communications between clients and servers. HTTP works as a request-response protocol between a client and server.  A client (browser) submits an HTTP request to the server; then the server returns a response to the client. The response contains status information about the request and may also contain the requested content.\n",
    "2. __HTTP Methods__ : GET, POST, PUT, HEAD, DELETE, PATCH, OPTIONS\n",
    "    1. https://www.w3schools.com/tags/ref_httpmethods.asp\n",
    "    2. __GET__:GET is used to request data from a server. When we hit localhost:5000/home a GET /home resquest is sent to server.\n",
    "    3. __POST__: POST is used to send data to a server to create/update a resource."
   ]
  },
  {
   "cell_type": "markdown",
   "metadata": {},
   "source": [
    "### HTML Messages:\n",
    "1. When a browser requests a service from a web server, an error might occur, and the server might return an error code like 404 Not Found.\n",
    "2. But these messages are something called HTTP status messages. In fact, the server always returns a message for every request. The most common message is 200 OK.\n",
    "3. List of all errors can be found in https://www.w3schools.com/tags/ref_httpmessages.asp"
   ]
  },
  {
   "cell_type": "markdown",
   "metadata": {},
   "source": [
    "## Getting Started with Flask\n",
    "1. https://flask.palletsprojects.com/en/1.1.x/quickstart/#quickstart\n",
    "2. We will be creating a Flask based Blog web application. Python code for application is present in GitHub: Knowledge\\Flask App\n",
    "3. Reference is Corey Schafer Flask Tutorial."
   ]
  },
  {
   "cell_type": "code",
   "execution_count": null,
   "metadata": {},
   "outputs": [],
   "source": [
    "#First we imported the Flask class.\n",
    "from flask import Flask\n",
    "\n",
    "# Instantiating the Flask class to create a application, the __name__ is a spl variable in python \n",
    "# that holds the module name. If we run the python file directly then __name__ will be __main__.\n",
    "# This is needed so that Flask knows where to look for templates, static files, and so on.\n",
    "app = Flask(__name__)\n",
    "\n",
    "# We then use the route() decorator to tell Flask what URL should trigger our function.\n",
    "# Routes are what we type in our browser to go to different pages. like contact page, help page.\n",
    "# We create these different pages using route decorators in flask\n",
    "# \"/\" is teh root page or home page of our website.\n",
    "@app.route('/')\n",
    "def hello_world():\n",
    "    return 'Hello, World!' # this is where HTML is return, but this is for basic we are returning a text"
   ]
  },
  {
   "cell_type": "code",
   "execution_count": null,
   "metadata": {},
   "outputs": [],
   "source": [
    "# We need to tell the terminator the application to work with by doing a set\n",
    "..\\Knowledge\\Flask App > set FLASK_APP=flaskblog.py\n",
    "# to run the application\n",
    "> flask run\n",
    "# this will run the application on your local IP address alias localhost with some port number\n",
    ">  Running on http://127.0.0.1:5000/ (Press CTRL+C to quit)\n",
    "# With this way of runnig the application if you make any changes you will have to stop your server and run it again to see \n",
    "# changes in your files. So the work around is run the application in debug mode.\n",
    "> set FLASK_DEBUG=1\n",
    "> flask run # this will run now in debug so the chnages in application are see without restarting the application."
   ]
  },
  {
   "cell_type": "code",
   "execution_count": null,
   "metadata": {},
   "outputs": [],
   "source": [
    "# we can view any HTML page source code by right clicking and selecting \"View Page Source\".\n",
    "# Also inspect will come handy for debugging your HTML page."
   ]
  },
  {
   "cell_type": "code",
   "execution_count": null,
   "metadata": {},
   "outputs": [],
   "source": [
    "# Another way of running the app rather than throught the terminal using > flask run \n",
    "# Stop the previous flask run (if running ) then just run the python script as is \n",
    "from flask import Flask\n",
    "app = Flask(__name__)\n",
    "@app.route('/')\n",
    "def hello_world():\n",
    "    return '<h1>Hello, World! by Veena</h1>'\n",
    "\n",
    "if __name__ == '__main__':\n",
    "    app.run(debug=True)"
   ]
  },
  {
   "cell_type": "markdown",
   "metadata": {},
   "source": [
    "### Templates :"
   ]
  }
 ],
 "metadata": {
  "kernelspec": {
   "display_name": "Python 3",
   "language": "python",
   "name": "python3"
  },
  "language_info": {
   "codemirror_mode": {
    "name": "ipython",
    "version": 3
   },
   "file_extension": ".py",
   "mimetype": "text/x-python",
   "name": "python",
   "nbconvert_exporter": "python",
   "pygments_lexer": "ipython3",
   "version": "3.8.0"
  }
 },
 "nbformat": 4,
 "nbformat_minor": 2
}
