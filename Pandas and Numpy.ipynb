{
 "cells": [
  {
   "cell_type": "markdown",
   "metadata": {},
   "source": [
    "# Pandas\n",
    "Note: We will be using Stackoverflow 2019 Survey dataset in this tutorial.\n",
    "https://insights.stackoverflow.com/survey"
   ]
  },
  {
   "cell_type": "markdown",
   "metadata": {},
   "source": [
    "### Magic functions:\n",
    "1. These magic commands are intended to solve common problems in data analysis using Python.\n",
    "2. Magic commands act as convenient functions where Python syntax is not the most natural one. They are useful to embed invalid python syntax in their work flow.\n",
    "3. There are two types of Magic commands:\n",
    "    a. Line Magic: They are similar to command line calls. They start with % character. Rest of the line is its argument passed without parentheses or quotes. Line magics can be used as expression and their return value can be assigned to variable.\n",
    "    b. Cell Magic: They have %% character prefix. Unlike line magic functions, they can operate on multiple lines below their call. They can in fact make arbitrary modifications to the input they receive, which need not even be a valid Python code at all.\n",
    "4. Common magic function:\n",
    "    * %MagicFunction? Use this to know more about.\n",
    "    * %alias alias_name cmd --> use to create alias name for system commands\n",
    "    * %run hello.py--> This command runs a Python script from within IPython shell.\n",
    "    * %time expression --> This command displays time required by IPython environment to execute a Python expression.\n",
    "    * %timeit --> \n",
    "    * %who --> This line magic prints all interactive variables, with some minimal formatting.\n",
    "    * @register_line_magic -->  A user defined function is converted into a line magic function using this decorator."
   ]
  },
  {
   "cell_type": "code",
   "execution_count": 1,
   "metadata": {},
   "outputs": [
    {
     "name": "stdout",
     "output_type": "stream",
     "text": [
      "724 ns ± 60.5 ns per loop (mean ± std. dev. of 7 runs, 1000000 loops each)\n"
     ]
    }
   ],
   "source": [
    "%timeit sum(range(10))"
   ]
  },
  {
   "cell_type": "code",
   "execution_count": 2,
   "metadata": {},
   "outputs": [],
   "source": [
    "# Use %MagicFunction? to get a help doc on that magic function. See below example.\n",
    "# %matplotlib?\n",
    "# While using Jupyter notebook, %matplotlib inline directive displays plot output in the browser only."
   ]
  },
  {
   "cell_type": "code",
   "execution_count": 3,
   "metadata": {},
   "outputs": [],
   "source": [
    "# %timeit?"
   ]
  },
  {
   "cell_type": "code",
   "execution_count": 4,
   "metadata": {},
   "outputs": [
    {
     "data": {
      "application/json": {
       "cell": {
        "!": "OSMagics",
        "HTML": "Other",
        "SVG": "Other",
        "bash": "Other",
        "capture": "ExecutionMagics",
        "cmd": "Other",
        "debug": "ExecutionMagics",
        "file": "Other",
        "html": "DisplayMagics",
        "javascript": "DisplayMagics",
        "js": "DisplayMagics",
        "latex": "DisplayMagics",
        "markdown": "DisplayMagics",
        "perl": "Other",
        "prun": "ExecutionMagics",
        "pypy": "Other",
        "python": "Other",
        "python2": "Other",
        "python3": "Other",
        "ruby": "Other",
        "script": "ScriptMagics",
        "sh": "Other",
        "svg": "DisplayMagics",
        "sx": "OSMagics",
        "system": "OSMagics",
        "time": "ExecutionMagics",
        "timeit": "ExecutionMagics",
        "writefile": "OSMagics"
       },
       "line": {
        "alias": "OSMagics",
        "alias_magic": "BasicMagics",
        "autoawait": "AsyncMagics",
        "autocall": "AutoMagics",
        "automagic": "AutoMagics",
        "autosave": "KernelMagics",
        "bookmark": "OSMagics",
        "cd": "OSMagics",
        "clear": "KernelMagics",
        "cls": "KernelMagics",
        "colors": "BasicMagics",
        "conda": "PackagingMagics",
        "config": "ConfigMagics",
        "connect_info": "KernelMagics",
        "copy": "Other",
        "ddir": "Other",
        "debug": "ExecutionMagics",
        "dhist": "OSMagics",
        "dirs": "OSMagics",
        "doctest_mode": "BasicMagics",
        "echo": "Other",
        "ed": "Other",
        "edit": "KernelMagics",
        "env": "OSMagics",
        "gui": "BasicMagics",
        "hist": "Other",
        "history": "HistoryMagics",
        "killbgscripts": "ScriptMagics",
        "ldir": "Other",
        "less": "KernelMagics",
        "load": "CodeMagics",
        "load_ext": "ExtensionMagics",
        "loadpy": "CodeMagics",
        "logoff": "LoggingMagics",
        "logon": "LoggingMagics",
        "logstart": "LoggingMagics",
        "logstate": "LoggingMagics",
        "logstop": "LoggingMagics",
        "ls": "Other",
        "lsmagic": "BasicMagics",
        "macro": "ExecutionMagics",
        "magic": "BasicMagics",
        "matplotlib": "PylabMagics",
        "mkdir": "Other",
        "more": "KernelMagics",
        "notebook": "BasicMagics",
        "page": "BasicMagics",
        "pastebin": "CodeMagics",
        "pdb": "ExecutionMagics",
        "pdef": "NamespaceMagics",
        "pdoc": "NamespaceMagics",
        "pfile": "NamespaceMagics",
        "pinfo": "NamespaceMagics",
        "pinfo2": "NamespaceMagics",
        "pip": "PackagingMagics",
        "popd": "OSMagics",
        "pprint": "BasicMagics",
        "precision": "BasicMagics",
        "prun": "ExecutionMagics",
        "psearch": "NamespaceMagics",
        "psource": "NamespaceMagics",
        "pushd": "OSMagics",
        "pwd": "OSMagics",
        "pycat": "OSMagics",
        "pylab": "PylabMagics",
        "qtconsole": "KernelMagics",
        "quickref": "BasicMagics",
        "recall": "HistoryMagics",
        "rehashx": "OSMagics",
        "reload_ext": "ExtensionMagics",
        "ren": "Other",
        "rep": "Other",
        "rerun": "HistoryMagics",
        "reset": "NamespaceMagics",
        "reset_selective": "NamespaceMagics",
        "rmdir": "Other",
        "run": "ExecutionMagics",
        "save": "CodeMagics",
        "sc": "OSMagics",
        "set_env": "OSMagics",
        "store": "StoreMagics",
        "sx": "OSMagics",
        "system": "OSMagics",
        "tb": "ExecutionMagics",
        "time": "ExecutionMagics",
        "timeit": "ExecutionMagics",
        "unalias": "OSMagics",
        "unload_ext": "ExtensionMagics",
        "who": "NamespaceMagics",
        "who_ls": "NamespaceMagics",
        "whos": "NamespaceMagics",
        "xdel": "NamespaceMagics",
        "xmode": "BasicMagics"
       }
      },
      "text/plain": [
       "Available line magics:\n",
       "%alias  %alias_magic  %autoawait  %autocall  %automagic  %autosave  %bookmark  %cd  %clear  %cls  %colors  %conda  %config  %connect_info  %copy  %ddir  %debug  %dhist  %dirs  %doctest_mode  %echo  %ed  %edit  %env  %gui  %hist  %history  %killbgscripts  %ldir  %less  %load  %load_ext  %loadpy  %logoff  %logon  %logstart  %logstate  %logstop  %ls  %lsmagic  %macro  %magic  %matplotlib  %mkdir  %more  %notebook  %page  %pastebin  %pdb  %pdef  %pdoc  %pfile  %pinfo  %pinfo2  %pip  %popd  %pprint  %precision  %prun  %psearch  %psource  %pushd  %pwd  %pycat  %pylab  %qtconsole  %quickref  %recall  %rehashx  %reload_ext  %ren  %rep  %rerun  %reset  %reset_selective  %rmdir  %run  %save  %sc  %set_env  %store  %sx  %system  %tb  %time  %timeit  %unalias  %unload_ext  %who  %who_ls  %whos  %xdel  %xmode\n",
       "\n",
       "Available cell magics:\n",
       "%%!  %%HTML  %%SVG  %%bash  %%capture  %%cmd  %%debug  %%file  %%html  %%javascript  %%js  %%latex  %%markdown  %%perl  %%prun  %%pypy  %%python  %%python2  %%python3  %%ruby  %%script  %%sh  %%svg  %%sx  %%system  %%time  %%timeit  %%writefile\n",
       "\n",
       "Automagic is ON, % prefix IS NOT needed for line magics."
      ]
     },
     "execution_count": 4,
     "metadata": {},
     "output_type": "execute_result"
    }
   ],
   "source": [
    "# Displays all magic functions currently available\n",
    "%lsmagic"
   ]
  },
  {
   "cell_type": "code",
   "execution_count": 3,
   "metadata": {},
   "outputs": [],
   "source": [
    "import pandas as pd\n",
    "import os\n",
    "import numpy as np\n",
    "import random\n",
    "import matplotlib.pyplot as plt\n",
    "import seaborn as sbs"
   ]
  },
  {
   "cell_type": "code",
   "execution_count": 6,
   "metadata": {},
   "outputs": [],
   "source": [
    "#set options for pd to display n columns, otherwise your columns will be trimmed\n",
    "pd.set_option('display.max_columns', 85)\n",
    "pd.set_option('display.max_rows', 85)"
   ]
  },
  {
   "cell_type": "code",
   "execution_count": 7,
   "metadata": {},
   "outputs": [
    {
     "data": {
      "text/html": [
       "<div>\n",
       "<style scoped>\n",
       "    .dataframe tbody tr th:only-of-type {\n",
       "        vertical-align: middle;\n",
       "    }\n",
       "\n",
       "    .dataframe tbody tr th {\n",
       "        vertical-align: top;\n",
       "    }\n",
       "\n",
       "    .dataframe thead th {\n",
       "        text-align: right;\n",
       "    }\n",
       "</style>\n",
       "<table border=\"1\" class=\"dataframe\">\n",
       "  <thead>\n",
       "    <tr style=\"text-align: right;\">\n",
       "      <th></th>\n",
       "      <th>test</th>\n",
       "      <th>test</th>\n",
       "      <th>test.1</th>\n",
       "      <th>test.2</th>\n",
       "      <th>test.3</th>\n",
       "    </tr>\n",
       "  </thead>\n",
       "  <tbody>\n",
       "    <tr>\n",
       "      <th>veena1</th>\n",
       "      <td>veena2</td>\n",
       "      <td>veena3</td>\n",
       "      <td>veena4</td>\n",
       "      <td>veena5</td>\n",
       "      <td>veena6</td>\n",
       "    </tr>\n",
       "    <tr>\n",
       "      <th>kal</th>\n",
       "      <td>kal</td>\n",
       "      <td>kal</td>\n",
       "      <td>kal</td>\n",
       "      <td>kal</td>\n",
       "      <td>kal</td>\n",
       "    </tr>\n",
       "  </tbody>\n",
       "</table>\n",
       "</div>"
      ],
      "text/plain": [
       "          test    test  test.1  test.2  test.3\n",
       "veena1  veena2  veena3  veena4  veena5  veena6\n",
       "kal        kal     kal     kal     kal     kal"
      ]
     },
     "execution_count": 7,
     "metadata": {},
     "output_type": "execute_result"
    }
   ],
   "source": [
    "# Sample read with same column names\n",
    "# use r'' for full path name\n",
    "test = pd.read_table(r'.\\data\\test.tsv') # index_col= False is available\n",
    "# Uncomment and see how we can use pd.read_csv and also set first column to be used as a data rather than columnn index\n",
    "# test = pd.read_csv(r'D:\\Veena\\Data Science Project\\Knowledge\\data\\test.tsv', sep='\\t', index_col=False) # same as above\n",
    "test"
   ]
  },
  {
   "cell_type": "code",
   "execution_count": 8,
   "metadata": {},
   "outputs": [
    {
     "name": "stdout",
     "output_type": "stream",
     "text": [
      "<class 'list'>\n",
      "<class 'pandas.core.frame.DataFrame'>\n"
     ]
    }
   ],
   "source": [
    "# Reading data from HTML: \n",
    "# Here we will be reading the table that is available in the this website\n",
    "url = \"http://www.basketball-reference.com/leagues/NBA_2015_totals.html\"\n",
    "data = pd.read_html(url) # Docstring: Read HTML tables into a ``list`` of ``DataFrame`` objects.\n",
    "print(type(data))\n",
    "print(type(data[0])) # So items in list are dataframe objects"
   ]
  },
  {
   "cell_type": "code",
   "execution_count": 9,
   "metadata": {},
   "outputs": [
    {
     "name": "stdout",
     "output_type": "stream",
     "text": [
      "1\n"
     ]
    }
   ],
   "source": [
    "print(len(data)) # so there is only one table which is the table in html web"
   ]
  },
  {
   "cell_type": "code",
   "execution_count": 10,
   "metadata": {},
   "outputs": [
    {
     "data": {
      "text/html": [
       "<div>\n",
       "<style scoped>\n",
       "    .dataframe tbody tr th:only-of-type {\n",
       "        vertical-align: middle;\n",
       "    }\n",
       "\n",
       "    .dataframe tbody tr th {\n",
       "        vertical-align: top;\n",
       "    }\n",
       "\n",
       "    .dataframe thead th {\n",
       "        text-align: right;\n",
       "    }\n",
       "</style>\n",
       "<table border=\"1\" class=\"dataframe\">\n",
       "  <thead>\n",
       "    <tr style=\"text-align: right;\">\n",
       "      <th></th>\n",
       "      <th>Rk</th>\n",
       "      <th>Player</th>\n",
       "      <th>Pos</th>\n",
       "      <th>Age</th>\n",
       "      <th>Tm</th>\n",
       "      <th>G</th>\n",
       "      <th>GS</th>\n",
       "      <th>MP</th>\n",
       "      <th>FG</th>\n",
       "      <th>FGA</th>\n",
       "      <th>FG%</th>\n",
       "      <th>3P</th>\n",
       "      <th>3PA</th>\n",
       "      <th>3P%</th>\n",
       "      <th>2P</th>\n",
       "      <th>2PA</th>\n",
       "      <th>2P%</th>\n",
       "      <th>eFG%</th>\n",
       "      <th>FT</th>\n",
       "      <th>FTA</th>\n",
       "      <th>FT%</th>\n",
       "      <th>ORB</th>\n",
       "      <th>DRB</th>\n",
       "      <th>TRB</th>\n",
       "      <th>AST</th>\n",
       "      <th>STL</th>\n",
       "      <th>BLK</th>\n",
       "      <th>TOV</th>\n",
       "      <th>PF</th>\n",
       "      <th>PTS</th>\n",
       "    </tr>\n",
       "  </thead>\n",
       "  <tbody>\n",
       "    <tr>\n",
       "      <th>0</th>\n",
       "      <td>1</td>\n",
       "      <td>Quincy Acy</td>\n",
       "      <td>PF</td>\n",
       "      <td>24</td>\n",
       "      <td>NYK</td>\n",
       "      <td>68</td>\n",
       "      <td>22</td>\n",
       "      <td>1287</td>\n",
       "      <td>152</td>\n",
       "      <td>331</td>\n",
       "      <td>.459</td>\n",
       "      <td>18</td>\n",
       "      <td>60</td>\n",
       "      <td>.300</td>\n",
       "      <td>134</td>\n",
       "      <td>271</td>\n",
       "      <td>.494</td>\n",
       "      <td>.486</td>\n",
       "      <td>76</td>\n",
       "      <td>97</td>\n",
       "      <td>.784</td>\n",
       "      <td>79</td>\n",
       "      <td>222</td>\n",
       "      <td>301</td>\n",
       "      <td>68</td>\n",
       "      <td>27</td>\n",
       "      <td>22</td>\n",
       "      <td>60</td>\n",
       "      <td>147</td>\n",
       "      <td>398</td>\n",
       "    </tr>\n",
       "    <tr>\n",
       "      <th>1</th>\n",
       "      <td>2</td>\n",
       "      <td>Jordan Adams</td>\n",
       "      <td>SG</td>\n",
       "      <td>20</td>\n",
       "      <td>MEM</td>\n",
       "      <td>30</td>\n",
       "      <td>0</td>\n",
       "      <td>248</td>\n",
       "      <td>35</td>\n",
       "      <td>86</td>\n",
       "      <td>.407</td>\n",
       "      <td>10</td>\n",
       "      <td>25</td>\n",
       "      <td>.400</td>\n",
       "      <td>25</td>\n",
       "      <td>61</td>\n",
       "      <td>.410</td>\n",
       "      <td>.465</td>\n",
       "      <td>14</td>\n",
       "      <td>23</td>\n",
       "      <td>.609</td>\n",
       "      <td>9</td>\n",
       "      <td>19</td>\n",
       "      <td>28</td>\n",
       "      <td>16</td>\n",
       "      <td>16</td>\n",
       "      <td>7</td>\n",
       "      <td>14</td>\n",
       "      <td>24</td>\n",
       "      <td>94</td>\n",
       "    </tr>\n",
       "    <tr>\n",
       "      <th>2</th>\n",
       "      <td>3</td>\n",
       "      <td>Steven Adams</td>\n",
       "      <td>C</td>\n",
       "      <td>21</td>\n",
       "      <td>OKC</td>\n",
       "      <td>70</td>\n",
       "      <td>67</td>\n",
       "      <td>1771</td>\n",
       "      <td>217</td>\n",
       "      <td>399</td>\n",
       "      <td>.544</td>\n",
       "      <td>0</td>\n",
       "      <td>2</td>\n",
       "      <td>.000</td>\n",
       "      <td>217</td>\n",
       "      <td>397</td>\n",
       "      <td>.547</td>\n",
       "      <td>.544</td>\n",
       "      <td>103</td>\n",
       "      <td>205</td>\n",
       "      <td>.502</td>\n",
       "      <td>199</td>\n",
       "      <td>324</td>\n",
       "      <td>523</td>\n",
       "      <td>66</td>\n",
       "      <td>38</td>\n",
       "      <td>86</td>\n",
       "      <td>99</td>\n",
       "      <td>222</td>\n",
       "      <td>537</td>\n",
       "    </tr>\n",
       "    <tr>\n",
       "      <th>3</th>\n",
       "      <td>4</td>\n",
       "      <td>Jeff Adrien</td>\n",
       "      <td>PF</td>\n",
       "      <td>28</td>\n",
       "      <td>MIN</td>\n",
       "      <td>17</td>\n",
       "      <td>0</td>\n",
       "      <td>215</td>\n",
       "      <td>19</td>\n",
       "      <td>44</td>\n",
       "      <td>.432</td>\n",
       "      <td>0</td>\n",
       "      <td>0</td>\n",
       "      <td>NaN</td>\n",
       "      <td>19</td>\n",
       "      <td>44</td>\n",
       "      <td>.432</td>\n",
       "      <td>.432</td>\n",
       "      <td>22</td>\n",
       "      <td>38</td>\n",
       "      <td>.579</td>\n",
       "      <td>23</td>\n",
       "      <td>54</td>\n",
       "      <td>77</td>\n",
       "      <td>15</td>\n",
       "      <td>4</td>\n",
       "      <td>9</td>\n",
       "      <td>9</td>\n",
       "      <td>30</td>\n",
       "      <td>60</td>\n",
       "    </tr>\n",
       "    <tr>\n",
       "      <th>4</th>\n",
       "      <td>5</td>\n",
       "      <td>Arron Afflalo</td>\n",
       "      <td>SG</td>\n",
       "      <td>29</td>\n",
       "      <td>TOT</td>\n",
       "      <td>78</td>\n",
       "      <td>72</td>\n",
       "      <td>2502</td>\n",
       "      <td>375</td>\n",
       "      <td>884</td>\n",
       "      <td>.424</td>\n",
       "      <td>118</td>\n",
       "      <td>333</td>\n",
       "      <td>.354</td>\n",
       "      <td>257</td>\n",
       "      <td>551</td>\n",
       "      <td>.466</td>\n",
       "      <td>.491</td>\n",
       "      <td>167</td>\n",
       "      <td>198</td>\n",
       "      <td>.843</td>\n",
       "      <td>27</td>\n",
       "      <td>220</td>\n",
       "      <td>247</td>\n",
       "      <td>129</td>\n",
       "      <td>41</td>\n",
       "      <td>7</td>\n",
       "      <td>116</td>\n",
       "      <td>167</td>\n",
       "      <td>1035</td>\n",
       "    </tr>\n",
       "  </tbody>\n",
       "</table>\n",
       "</div>"
      ],
      "text/plain": [
       "  Rk         Player Pos Age   Tm   G  GS    MP   FG  FGA   FG%   3P  3PA  \\\n",
       "0  1     Quincy Acy  PF  24  NYK  68  22  1287  152  331  .459   18   60   \n",
       "1  2   Jordan Adams  SG  20  MEM  30   0   248   35   86  .407   10   25   \n",
       "2  3   Steven Adams   C  21  OKC  70  67  1771  217  399  .544    0    2   \n",
       "3  4    Jeff Adrien  PF  28  MIN  17   0   215   19   44  .432    0    0   \n",
       "4  5  Arron Afflalo  SG  29  TOT  78  72  2502  375  884  .424  118  333   \n",
       "\n",
       "    3P%   2P  2PA   2P%  eFG%   FT  FTA   FT%  ORB  DRB  TRB  AST STL BLK  \\\n",
       "0  .300  134  271  .494  .486   76   97  .784   79  222  301   68  27  22   \n",
       "1  .400   25   61  .410  .465   14   23  .609    9   19   28   16  16   7   \n",
       "2  .000  217  397  .547  .544  103  205  .502  199  324  523   66  38  86   \n",
       "3   NaN   19   44  .432  .432   22   38  .579   23   54   77   15   4   9   \n",
       "4  .354  257  551  .466  .491  167  198  .843   27  220  247  129  41   7   \n",
       "\n",
       "   TOV   PF   PTS  \n",
       "0   60  147   398  \n",
       "1   14   24    94  \n",
       "2   99  222   537  \n",
       "3    9   30    60  \n",
       "4  116  167  1035  "
      ]
     },
     "execution_count": 10,
     "metadata": {},
     "output_type": "execute_result"
    }
   ],
   "source": [
    "data[0].head(5)"
   ]
  },
  {
   "cell_type": "code",
   "execution_count": 11,
   "metadata": {},
   "outputs": [
    {
     "name": "stdout",
     "output_type": "stream",
     "text": [
      "    col1  col2\n",
      "s1     1     3\n",
      "s2     2     4\n"
     ]
    },
    {
     "data": {
      "text/html": [
       "<div>\n",
       "<style scoped>\n",
       "    .dataframe tbody tr th:only-of-type {\n",
       "        vertical-align: middle;\n",
       "    }\n",
       "\n",
       "    .dataframe tbody tr th {\n",
       "        vertical-align: top;\n",
       "    }\n",
       "\n",
       "    .dataframe thead th {\n",
       "        text-align: right;\n",
       "    }\n",
       "</style>\n",
       "<table border=\"1\" class=\"dataframe\">\n",
       "  <thead>\n",
       "    <tr style=\"text-align: right;\">\n",
       "      <th></th>\n",
       "      <th>Unnamed: 0</th>\n",
       "      <th>col1</th>\n",
       "      <th>col2</th>\n",
       "    </tr>\n",
       "  </thead>\n",
       "  <tbody>\n",
       "    <tr>\n",
       "      <th>0</th>\n",
       "      <td>s1</td>\n",
       "      <td>1</td>\n",
       "      <td>3</td>\n",
       "    </tr>\n",
       "    <tr>\n",
       "      <th>1</th>\n",
       "      <td>s2</td>\n",
       "      <td>2</td>\n",
       "      <td>4</td>\n",
       "    </tr>\n",
       "  </tbody>\n",
       "</table>\n",
       "</div>"
      ],
      "text/plain": [
       "  Unnamed: 0  col1  col2\n",
       "0         s1     1     3\n",
       "1         s2     2     4"
      ]
     },
     "execution_count": 11,
     "metadata": {},
     "output_type": "execute_result"
    }
   ],
   "source": [
    "data ={\n",
    "    'col1':[1,2],\n",
    "    'col2':[3,4],\n",
    "}\n",
    "da = pd.DataFrame(data=data, index = ['s1', 's2'])\n",
    "print(da)\n",
    "da.to_csv('data/output_sample.csv')\n",
    "# by default the first column is read as a index column. But in this case (open the csv) we have a leading ','\n",
    "# (pandas mark the name of that column as \"Unnamed:0\")\n",
    "# it is considered as a data column. Remove it and run the code again.\n",
    "res = pd.read_csv('data/output_sample.csv')\n",
    "res"
   ]
  },
  {
   "cell_type": "code",
   "execution_count": 12,
   "metadata": {},
   "outputs": [
    {
     "data": {
      "text/html": [
       "<div>\n",
       "<style scoped>\n",
       "    .dataframe tbody tr th:only-of-type {\n",
       "        vertical-align: middle;\n",
       "    }\n",
       "\n",
       "    .dataframe tbody tr th {\n",
       "        vertical-align: top;\n",
       "    }\n",
       "\n",
       "    .dataframe thead th {\n",
       "        text-align: right;\n",
       "    }\n",
       "</style>\n",
       "<table border=\"1\" class=\"dataframe\">\n",
       "  <thead>\n",
       "    <tr style=\"text-align: right;\">\n",
       "      <th></th>\n",
       "      <th>col1</th>\n",
       "      <th>col2</th>\n",
       "    </tr>\n",
       "    <tr>\n",
       "      <th>I</th>\n",
       "      <th></th>\n",
       "      <th></th>\n",
       "    </tr>\n",
       "  </thead>\n",
       "  <tbody>\n",
       "    <tr>\n",
       "      <th>s1</th>\n",
       "      <td>1</td>\n",
       "      <td>3</td>\n",
       "    </tr>\n",
       "    <tr>\n",
       "      <th>s2</th>\n",
       "      <td>2</td>\n",
       "      <td>4</td>\n",
       "    </tr>\n",
       "  </tbody>\n",
       "</table>\n",
       "</div>"
      ],
      "text/plain": [
       "    col1  col2\n",
       "I             \n",
       "s1     1     3\n",
       "s2     2     4"
      ]
     },
     "execution_count": 12,
     "metadata": {},
     "output_type": "execute_result"
    }
   ],
   "source": [
    "# store the data with index_label as 'I' and see and read the index as 'I' and see the result.\n",
    "da.to_csv('data/output_sample.csv',  index_label='I')\n",
    "res = pd.read_csv('data/output_sample.csv', index_col = 'I')\n",
    "res"
   ]
  },
  {
   "cell_type": "code",
   "execution_count": 13,
   "metadata": {},
   "outputs": [
    {
     "data": {
      "text/html": [
       "<div>\n",
       "<style scoped>\n",
       "    .dataframe tbody tr th:only-of-type {\n",
       "        vertical-align: middle;\n",
       "    }\n",
       "\n",
       "    .dataframe tbody tr th {\n",
       "        vertical-align: top;\n",
       "    }\n",
       "\n",
       "    .dataframe thead th {\n",
       "        text-align: right;\n",
       "    }\n",
       "</style>\n",
       "<table border=\"1\" class=\"dataframe\">\n",
       "  <thead>\n",
       "    <tr style=\"text-align: right;\">\n",
       "      <th></th>\n",
       "      <th>col1</th>\n",
       "      <th>col2</th>\n",
       "    </tr>\n",
       "    <tr>\n",
       "      <th>I</th>\n",
       "      <th></th>\n",
       "      <th></th>\n",
       "    </tr>\n",
       "  </thead>\n",
       "  <tbody>\n",
       "    <tr>\n",
       "      <th>s1</th>\n",
       "      <td>1</td>\n",
       "      <td>3</td>\n",
       "    </tr>\n",
       "    <tr>\n",
       "      <th>s2</th>\n",
       "      <td>2</td>\n",
       "      <td>4</td>\n",
       "    </tr>\n",
       "  </tbody>\n",
       "</table>\n",
       "</div>"
      ],
      "text/plain": [
       "    col1  col2\n",
       "I             \n",
       "s1     1     3\n",
       "s2     2     4"
      ]
     },
     "execution_count": 13,
     "metadata": {},
     "output_type": "execute_result"
    }
   ],
   "source": [
    "res = pd.read_csv('data/output_sample.csv', index_col=[0])\n",
    "# res = pd.read_csv('data/output_sample.csv', index_col='I')\n",
    "res"
   ]
  },
  {
   "cell_type": "code",
   "execution_count": 14,
   "metadata": {},
   "outputs": [
    {
     "data": {
      "text/html": [
       "<div>\n",
       "<style scoped>\n",
       "    .dataframe tbody tr th:only-of-type {\n",
       "        vertical-align: middle;\n",
       "    }\n",
       "\n",
       "    .dataframe tbody tr th {\n",
       "        vertical-align: top;\n",
       "    }\n",
       "\n",
       "    .dataframe thead th {\n",
       "        text-align: right;\n",
       "    }\n",
       "</style>\n",
       "<table border=\"1\" class=\"dataframe\">\n",
       "  <thead>\n",
       "    <tr style=\"text-align: right;\">\n",
       "      <th></th>\n",
       "      <th>PassengerId</th>\n",
       "      <th>Survived</th>\n",
       "      <th>Pclass</th>\n",
       "      <th>Name</th>\n",
       "      <th>Sex</th>\n",
       "      <th>Age</th>\n",
       "      <th>SibSp</th>\n",
       "      <th>Parch</th>\n",
       "      <th>Ticket</th>\n",
       "      <th>Fare</th>\n",
       "      <th>Cabin</th>\n",
       "      <th>Embarked</th>\n",
       "    </tr>\n",
       "  </thead>\n",
       "  <tbody>\n",
       "    <tr>\n",
       "      <th>0</th>\n",
       "      <td>1</td>\n",
       "      <td>0</td>\n",
       "      <td>3</td>\n",
       "      <td>Braund, Mr. Owen Harris</td>\n",
       "      <td>male</td>\n",
       "      <td>22.0</td>\n",
       "      <td>1</td>\n",
       "      <td>0</td>\n",
       "      <td>A/5 21171</td>\n",
       "      <td>7.2500</td>\n",
       "      <td>NaN</td>\n",
       "      <td>S</td>\n",
       "    </tr>\n",
       "    <tr>\n",
       "      <th>1</th>\n",
       "      <td>2</td>\n",
       "      <td>1</td>\n",
       "      <td>1</td>\n",
       "      <td>Cumings, Mrs. John Bradley (Florence Briggs Th...</td>\n",
       "      <td>female</td>\n",
       "      <td>38.0</td>\n",
       "      <td>1</td>\n",
       "      <td>0</td>\n",
       "      <td>PC 17599</td>\n",
       "      <td>71.2833</td>\n",
       "      <td>C85</td>\n",
       "      <td>C</td>\n",
       "    </tr>\n",
       "    <tr>\n",
       "      <th>2</th>\n",
       "      <td>3</td>\n",
       "      <td>1</td>\n",
       "      <td>3</td>\n",
       "      <td>Heikkinen, Miss. Laina</td>\n",
       "      <td>female</td>\n",
       "      <td>26.0</td>\n",
       "      <td>0</td>\n",
       "      <td>0</td>\n",
       "      <td>STON/O2. 3101282</td>\n",
       "      <td>7.9250</td>\n",
       "      <td>NaN</td>\n",
       "      <td>S</td>\n",
       "    </tr>\n",
       "    <tr>\n",
       "      <th>3</th>\n",
       "      <td>4</td>\n",
       "      <td>1</td>\n",
       "      <td>1</td>\n",
       "      <td>Futrelle, Mrs. Jacques Heath (Lily May Peel)</td>\n",
       "      <td>female</td>\n",
       "      <td>35.0</td>\n",
       "      <td>1</td>\n",
       "      <td>0</td>\n",
       "      <td>113803</td>\n",
       "      <td>53.1000</td>\n",
       "      <td>C123</td>\n",
       "      <td>S</td>\n",
       "    </tr>\n",
       "    <tr>\n",
       "      <th>4</th>\n",
       "      <td>5</td>\n",
       "      <td>0</td>\n",
       "      <td>3</td>\n",
       "      <td>Allen, Mr. William Henry</td>\n",
       "      <td>male</td>\n",
       "      <td>35.0</td>\n",
       "      <td>0</td>\n",
       "      <td>0</td>\n",
       "      <td>373450</td>\n",
       "      <td>8.0500</td>\n",
       "      <td>NaN</td>\n",
       "      <td>S</td>\n",
       "    </tr>\n",
       "  </tbody>\n",
       "</table>\n",
       "</div>"
      ],
      "text/plain": [
       "   PassengerId  Survived  Pclass  \\\n",
       "0            1         0       3   \n",
       "1            2         1       1   \n",
       "2            3         1       3   \n",
       "3            4         1       1   \n",
       "4            5         0       3   \n",
       "\n",
       "                                                Name     Sex   Age  SibSp  \\\n",
       "0                            Braund, Mr. Owen Harris    male  22.0      1   \n",
       "1  Cumings, Mrs. John Bradley (Florence Briggs Th...  female  38.0      1   \n",
       "2                             Heikkinen, Miss. Laina  female  26.0      0   \n",
       "3       Futrelle, Mrs. Jacques Heath (Lily May Peel)  female  35.0      1   \n",
       "4                           Allen, Mr. William Henry    male  35.0      0   \n",
       "\n",
       "   Parch            Ticket     Fare Cabin Embarked  \n",
       "0      0         A/5 21171   7.2500   NaN        S  \n",
       "1      0          PC 17599  71.2833   C85        C  \n",
       "2      0  STON/O2. 3101282   7.9250   NaN        S  \n",
       "3      0            113803  53.1000  C123        S  \n",
       "4      0            373450   8.0500   NaN        S  "
      ]
     },
     "execution_count": 14,
     "metadata": {},
     "output_type": "execute_result"
    }
   ],
   "source": [
    "# lets use the Titanic dataset where ever applicable \n",
    "# use r'D:\\Veena\\Data Science Project\\Knowledge\\data\\titanic_kaggle_dataset.csv' for full path name\n",
    "tnic_df = pd.read_csv('data/titanic_kaggle_dataset.csv', header=0, dtype={'Age':np.float64})\n",
    "tnic_df.head(5)"
   ]
  },
  {
   "cell_type": "markdown",
   "metadata": {},
   "source": [
    "### Random number generation\n",
    "* For single values and list of random numbers we can use python random package\n",
    "* For array or multidimensional random number we use numpy random numbers\n",
    "* https://docs.python.org/3/library/random.html\n",
    "* https://numpy.org/doc/1.18/reference/random/generator.html"
   ]
  },
  {
   "cell_type": "markdown",
   "metadata": {},
   "source": [
    "#### Using Python Random Package"
   ]
  },
  {
   "cell_type": "code",
   "execution_count": 15,
   "metadata": {},
   "outputs": [
    {
     "data": {
      "text/plain": [
       "'draw'"
      ]
     },
     "execution_count": 15,
     "metadata": {},
     "output_type": "execute_result"
    }
   ],
   "source": [
    "# using python random package\n",
    "random.random() # this generates single random float between 0-1, Cannot generate more than one\n",
    "random.randint(1,5) # this generates one random int between range of numbers. Range is required.\n",
    "random.sample(range(10,30), 5) #5 elements list of random ints between the range without replacement(no repeatation)\n",
    "random.sample([1,2,3,4,5,6,4,7,8,9],5)\n",
    "random.randrange(10) # Integer from 0 to 9 inclusive\n",
    "random.randrange(10, 20) # single integer from 10 to 19 inclusive\n",
    "random.randrange(0,101,2) # integer from 0 to 100 inclusive in steps of 2(Even)\n",
    "random.choice(['win', 'lose', 'draw']) # Single random element from a sequence\n"
   ]
  },
  {
   "cell_type": "code",
   "execution_count": 16,
   "metadata": {},
   "outputs": [
    {
     "data": {
      "text/plain": [
       "[50, 10, 40, 30]"
      ]
     },
     "execution_count": 16,
     "metadata": {},
     "output_type": "execute_result"
    }
   ],
   "source": [
    "random.sample([10, 20, 30, 40, 50], k=4) # without replacement\n",
    "# below choices produces a list of 4 numbers from the 1st sequence, with a weights of 2nd sequence\n",
    "# so occurance of 10 is highest than anyother. There can be repeats hence called as with replacement.\n",
    "random.choices([10, 20, 30, 40, 50], [50, 10, 10, 10, 10], k=4) \n"
   ]
  },
  {
   "cell_type": "markdown",
   "metadata": {},
   "source": [
    "#### Using Numpy Random function\n",
    "1. np.random.rand generates numbers uniformly distribution over \\[0,1)\n",
    "2. np.radnom.randn generates numbers following standard normal distribtion."
   ]
  },
  {
   "cell_type": "code",
   "execution_count": 17,
   "metadata": {},
   "outputs": [],
   "source": [
    "# np.random.seed sets the seed for the generator.\n",
    "# np.random.seed(1)"
   ]
  },
  {
   "cell_type": "code",
   "execution_count": 18,
   "metadata": {},
   "outputs": [
    {
     "data": {
      "text/plain": [
       "array([[3, 2, 2],\n",
       "       [2, 3, 2]])"
      ]
     },
     "execution_count": 18,
     "metadata": {},
     "output_type": "execute_result"
    }
   ],
   "source": [
    "\n",
    "np.random.random(2) # generate array of 2 random floats between 0-1, it takes only one argument\n",
    "np.random.rand(2,3) # matrix of (2,3) with random float between 0-1\n",
    "np.random.randn(2, 3) # Generate 2 * 3 random numbers with normal distribution\n",
    "np.random.randint(4, size=1) # single random interger between 0-4.\n",
    "np.random.randint(2,4, size=(2,3)) # matrix of size (2,3) random interger between 2-4.\n"
   ]
  },
  {
   "cell_type": "code",
   "execution_count": 19,
   "metadata": {},
   "outputs": [],
   "source": [
    "# Some aliases:All these are same functions\n",
    "# vranf = random = sample = random_sample\n",
    "# __all__.extend(['ranf','random','sample'])"
   ]
  },
  {
   "cell_type": "code",
   "execution_count": 20,
   "metadata": {},
   "outputs": [
    {
     "data": {
      "image/png": "[encoded data removed]",
      "text/plain": [
       "<Figure size 432x288 with 1 Axes>"
      ]
     },
     "metadata": {
      "needs_background": "light"
     },
     "output_type": "display_data"
    },
    {
     "data": {
      "image/png": "[encoded data removed]",
      "text/plain": [
       "<Figure size 432x288 with 1 Axes>"
      ]
     },
     "metadata": {
      "needs_background": "light"
     },
     "output_type": "display_data"
    }
   ],
   "source": [
    "sample_size = 100000\n",
    "uniform = np.random.rand(sample_size)\n",
    "normal = np.random.randn(sample_size)\n",
    "\n",
    "pdf, bins, patches = plt.hist(uniform, bins=20, range=(0, 1), density=True)\n",
    "plt.title('rand: uniform')\n",
    "plt.show()\n",
    "\n",
    "pdf, bins, patches = plt.hist(normal, bins=20, range=(-4, 4), density=True)\n",
    "plt.title('randn: normal')\n",
    "plt.show()"
   ]
  },
  {
   "cell_type": "code",
   "execution_count": 29,
   "metadata": {},
   "outputs": [],
   "source": [
    "# Draw random samples from a normal (Gaussian) distribution.\n",
    "# https://numpy.org/doc/stable/reference/random/generated/numpy.random.normal.html\n",
    "nor = np.random.normal(loc=0.0, scale=1.0, size=1000) # loc=Mean scale=Std \n",
    "# https://numpy.org/doc/stable/reference/random/generated/numpy.random.uniform.html\n",
    "uni = np.random.uniform(low=0.0, high=1.0, size=1000)"
   ]
  },
  {
   "cell_type": "code",
   "execution_count": 30,
   "metadata": {},
   "outputs": [
    {
     "name": "stdout",
     "output_type": "stream",
     "text": [
      "                 0\n",
      "count  1000.000000\n",
      "mean     -0.030001\n",
      "std       0.994528\n",
      "min      -3.403939\n",
      "25%      -0.699526\n",
      "50%      -0.048287\n",
      "75%       0.655313\n",
      "max       3.440403\n"
     ]
    },
    {
     "data": {
      "text/plain": [
       "<AxesSubplot:ylabel='Frequency'>"
      ]
     },
     "execution_count": 30,
     "metadata": {},
     "output_type": "execute_result"
    },
    {
     "data": {
      "image/png": "[encoded data removed]",
      "text/plain": [
       "<Figure size 432x288 with 1 Axes>"
      ]
     },
     "metadata": {
      "needs_background": "light"
     },
     "output_type": "display_data"
    }
   ],
   "source": [
    "nor_pd = pd.DataFrame(nor)\n",
    "print(nor_pd.describe())\n",
    "nor_pd.plot(kind=\"hist\")"
   ]
  },
  {
   "cell_type": "code",
   "execution_count": 31,
   "metadata": {},
   "outputs": [
    {
     "name": "stdout",
     "output_type": "stream",
     "text": [
      "                 0\n",
      "count  1000.000000\n",
      "mean      0.486850\n",
      "std       0.290343\n",
      "min       0.000370\n",
      "25%       0.226238\n",
      "50%       0.496042\n",
      "75%       0.731939\n",
      "max       0.999490\n"
     ]
    },
    {
     "data": {
      "text/plain": [
       "<AxesSubplot:ylabel='Frequency'>"
      ]
     },
     "execution_count": 31,
     "metadata": {},
     "output_type": "execute_result"
    },
    {
     "data": {
      "image/png": "[encoded data removed]",
      "text/plain": [
       "<Figure size 432x288 with 1 Axes>"
      ]
     },
     "metadata": {
      "needs_background": "light"
     },
     "output_type": "display_data"
    }
   ],
   "source": [
    "uni_pd = pd.DataFrame(uni)\n",
    "print(uni_pd.describe())\n",
    "uni_pd.plot(kind=\"hist\")"
   ]
  },
  {
   "cell_type": "markdown",
   "metadata": {},
   "source": [
    "## Dataframe:"
   ]
  },
  {
   "cell_type": "markdown",
   "metadata": {},
   "source": [
    "1. https://pandas.pydata.org/pandas-docs/stable/reference/api/pandas.DataFrame.html\n",
    "2. https://pandas.pydata.org/pandas-docs/stable/reference/frame.html\n",
    "2. A Data frame is a two-dimensional data structure, i.e., data is aligned in a tabular fashion in rows and columns. Dataframe can be imagined as a 2D table.\n",
    "4. __Axis=0__ is works down the rows and __Axis=1__ works itself alone the columns.  \n",
    "<img src='images/image38.png' align='middle' style='width:150px; height:150px'/>\n",
    "3. Parameters:\n",
    "    * data  : ndarray (structured or homogeneous), Iterable, dict, or DataFrame\n",
    "   "
   ]
  },
  {
   "cell_type": "code",
   "execution_count": 21,
   "metadata": {},
   "outputs": [],
   "source": [
    "#os.getcwd() \n",
    "# its easier to replace all costum missing values while reading a csv file like this\n",
    "na_vals = ['NA', 'Missing'] # read_csv will treat 'NA' and 'Missing' as NaN's and replace it with NaN\n",
    "df = pd.read_csv(r'.\\data\\StackOverFlow 2019 Survey\\survey_results_public.csv', index_col='Respondent', na_values=na_vals)"
   ]
  },
  {
   "cell_type": "code",
   "execution_count": 22,
   "metadata": {},
   "outputs": [
    {
     "data": {
      "text/html": [
       "<div>\n",
       "<style scoped>\n",
       "    .dataframe tbody tr th:only-of-type {\n",
       "        vertical-align: middle;\n",
       "    }\n",
       "\n",
       "    .dataframe tbody tr th {\n",
       "        vertical-align: top;\n",
       "    }\n",
       "\n",
       "    .dataframe thead th {\n",
       "        text-align: right;\n",
       "    }\n",
       "</style>\n",
       "<table border=\"1\" class=\"dataframe\">\n",
       "  <thead>\n",
       "    <tr style=\"text-align: right;\">\n",
       "      <th></th>\n",
       "      <th>QuestionText</th>\n",
       "    </tr>\n",
       "    <tr>\n",
       "      <th>Column</th>\n",
       "      <th></th>\n",
       "    </tr>\n",
       "  </thead>\n",
       "  <tbody>\n",
       "    <tr>\n",
       "      <th>Respondent</th>\n",
       "      <td>Randomized respondent ID number (not in order ...</td>\n",
       "    </tr>\n",
       "    <tr>\n",
       "      <th>MainBranch</th>\n",
       "      <td>Which of the following options best describes ...</td>\n",
       "    </tr>\n",
       "  </tbody>\n",
       "</table>\n",
       "</div>"
      ],
      "text/plain": [
       "                                                 QuestionText\n",
       "Column                                                       \n",
       "Respondent  Randomized respondent ID number (not in order ...\n",
       "MainBranch  Which of the following options best describes ..."
      ]
     },
     "execution_count": 22,
     "metadata": {},
     "output_type": "execute_result"
    }
   ],
   "source": [
    "# setting the index_col to 'Column' makes it easy to read the schema text. It will be enough to know the name of the column\n",
    "# its integer index in schema_df table is not required to be known.\n",
    "# try deleting the index_col and read the schema text for one of the column\n",
    "schema_df = pd.read_csv('data/StackOverFlow 2019 Survey/survey_results_schema.csv', index_col='Column')\n",
    "schema_df.head(2)"
   ]
  },
  {
   "cell_type": "code",
   "execution_count": 23,
   "metadata": {},
   "outputs": [
    {
     "data": {
      "text/plain": [
       "QuestionText    How confident are you that your manager knows ...\n",
       "Name: MgrIdiot, dtype: object"
      ]
     },
     "execution_count": 23,
     "metadata": {},
     "output_type": "execute_result"
    }
   ],
   "source": [
    "schema_df.loc['MgrIdiot']\n",
    "# schema_df.loc['MgrIdiot', 'QuestionText']"
   ]
  },
  {
   "cell_type": "code",
   "execution_count": 24,
   "metadata": {},
   "outputs": [
    {
     "name": "stdout",
     "output_type": "stream",
     "text": [
      "<class 'pandas.core.frame.DataFrame'>\n",
      "Int64Index: 88883 entries, 1 to 88863\n",
      "Data columns (total 84 columns):\n",
      " #   Column                  Non-Null Count  Dtype  \n",
      "---  ------                  --------------  -----  \n",
      " 0   MainBranch              88331 non-null  object \n",
      " 1   Hobbyist                88883 non-null  object \n",
      " 2   OpenSourcer             88883 non-null  object \n",
      " 3   OpenSource              86842 non-null  object \n",
      " 4   Employment              87181 non-null  object \n",
      " 5   Country                 88751 non-null  object \n",
      " 6   Student                 87014 non-null  object \n",
      " 7   EdLevel                 86390 non-null  object \n",
      " 8   UndergradMajor          75614 non-null  object \n",
      " 9   EduOther                84260 non-null  object \n",
      " 10  OrgSize                 71791 non-null  object \n",
      " 11  DevType                 81335 non-null  object \n",
      " 12  YearsCode               87938 non-null  object \n",
      " 13  Age1stCode              87634 non-null  object \n",
      " 14  YearsCodePro            74331 non-null  object \n",
      " 15  CareerSat               72847 non-null  object \n",
      " 16  JobSat                  70988 non-null  object \n",
      " 17  MgrIdiot                61159 non-null  object \n",
      " 18  MgrMoney                61157 non-null  object \n",
      " 19  MgrWant                 61232 non-null  object \n",
      " 20  JobSeek                 80555 non-null  object \n",
      " 21  LastHireDate            79854 non-null  object \n",
      " 22  LastInt                 67155 non-null  object \n",
      " 23  FizzBuzz                71344 non-null  object \n",
      " 24  JobFactors              79371 non-null  object \n",
      " 25  ResumeUpdate            77877 non-null  object \n",
      " 26  CurrencySymbol          71392 non-null  object \n",
      " 27  CurrencyDesc            71392 non-null  object \n",
      " 28  CompTotal               55945 non-null  float64\n",
      " 29  CompFreq                63268 non-null  object \n",
      " 30  ConvertedComp           55823 non-null  float64\n",
      " 31  WorkWeekHrs             64503 non-null  float64\n",
      " 32  WorkPlan                68914 non-null  object \n",
      " 33  WorkChallenge           68141 non-null  object \n",
      " 34  WorkRemote              70284 non-null  object \n",
      " 35  WorkLoc                 70055 non-null  object \n",
      " 36  ImpSyn                  71779 non-null  object \n",
      " 37  CodeRev                 70390 non-null  object \n",
      " 38  CodeRevHrs              49790 non-null  float64\n",
      " 39  UnitTests               62668 non-null  object \n",
      " 40  PurchaseHow             61108 non-null  object \n",
      " 41  PurchaseWhat            62029 non-null  object \n",
      " 42  LanguageWorkedWith      87569 non-null  object \n",
      " 43  LanguageDesireNextYear  84088 non-null  object \n",
      " 44  DatabaseWorkedWith      76026 non-null  object \n",
      " 45  DatabaseDesireNextYear  69147 non-null  object \n",
      " 46  PlatformWorkedWith      80714 non-null  object \n",
      " 47  PlatformDesireNextYear  77443 non-null  object \n",
      " 48  WebFrameWorkedWith      65022 non-null  object \n",
      " 49  WebFrameDesireNextYear  62944 non-null  object \n",
      " 50  MiscTechWorkedWith      59586 non-null  object \n",
      " 51  MiscTechDesireNextYear  64511 non-null  object \n",
      " 52  DevEnviron              87317 non-null  object \n",
      " 53  OpSys                   87851 non-null  object \n",
      " 54  Containers              85366 non-null  object \n",
      " 55  BlockchainOrg           48175 non-null  object \n",
      " 56  BlockchainIs            60165 non-null  object \n",
      " 57  BetterLife              86269 non-null  object \n",
      " 58  ITperson                87141 non-null  object \n",
      " 59  OffOn                   86663 non-null  object \n",
      " 60  SocialMedia             84437 non-null  object \n",
      " 61  Extraversion            87305 non-null  object \n",
      " 62  ScreenName              80486 non-null  object \n",
      " 63  SOVisit1st              83877 non-null  object \n",
      " 64  SOVisitFreq             88263 non-null  object \n",
      " 65  SOVisitTo               88086 non-null  object \n",
      " 66  SOFindAnswer            87816 non-null  object \n",
      " 67  SOTimeSaved             86344 non-null  object \n",
      " 68  SOHowMuchTime           68378 non-null  object \n",
      " 69  SOAccount               87828 non-null  object \n",
      " 70  SOPartFreq              74692 non-null  object \n",
      " 71  SOJobs                  88066 non-null  object \n",
      " 72  EntTeams                87841 non-null  object \n",
      " 73  SOComm                  88131 non-null  object \n",
      " 74  WelcomeChange           85855 non-null  object \n",
      " 75  SONewContent            69560 non-null  object \n",
      " 76  Age                     79210 non-null  float64\n",
      " 77  Gender                  85406 non-null  object \n",
      " 78  Trans                   83607 non-null  object \n",
      " 79  Sexuality               76147 non-null  object \n",
      " 80  Ethnicity               76668 non-null  object \n",
      " 81  Dependents              83059 non-null  object \n",
      " 82  SurveyLength            86984 non-null  object \n",
      " 83  SurveyEase              87081 non-null  object \n",
      "dtypes: float64(5), object(79)\n",
      "memory usage: 30.9+ MB\n"
     ]
    }
   ],
   "source": [
    "#df.head(2) # displays only first n rows\n",
    "#df.tail(1) # displays only bottom n rows\n",
    "#df.shape # returns tuple of (rows, cols) of the df\n",
    "df.info() # gives info about rows, cols and col's datatype with if any NaN\n",
    "#df.describe() #gives statistical analysis of each column\n",
    "#df.head(5)"
   ]
  },
  {
   "cell_type": "code",
   "execution_count": 25,
   "metadata": {},
   "outputs": [
    {
     "data": {
      "text/plain": [
       "Index(['CompTotal', 'ConvertedComp', 'WorkWeekHrs', 'CodeRevHrs', 'Age'], dtype='object')"
      ]
     },
     "execution_count": 25,
     "metadata": {},
     "output_type": "execute_result"
    }
   ],
   "source": [
    "# to find which columns belong to a particula type\n",
    "df.select_dtypes(include = [np.number]).columns # np.number is for type float objects"
   ]
  },
  {
   "cell_type": "markdown",
   "metadata": {},
   "source": [
    "### wherever applicablel we will use the Titanic dataset to understnd the concepts more"
   ]
  },
  {
   "cell_type": "code",
   "execution_count": 26,
   "metadata": {},
   "outputs": [
    {
     "data": {
      "text/html": [
       "<div>\n",
       "<style scoped>\n",
       "    .dataframe tbody tr th:only-of-type {\n",
       "        vertical-align: middle;\n",
       "    }\n",
       "\n",
       "    .dataframe tbody tr th {\n",
       "        vertical-align: top;\n",
       "    }\n",
       "\n",
       "    .dataframe thead th {\n",
       "        text-align: right;\n",
       "    }\n",
       "</style>\n",
       "<table border=\"1\" class=\"dataframe\">\n",
       "  <thead>\n",
       "    <tr style=\"text-align: right;\">\n",
       "      <th></th>\n",
       "      <th>PassengerId</th>\n",
       "      <th>Survived</th>\n",
       "      <th>Pclass</th>\n",
       "      <th>Name</th>\n",
       "      <th>Sex</th>\n",
       "      <th>Age</th>\n",
       "      <th>SibSp</th>\n",
       "      <th>Parch</th>\n",
       "      <th>Ticket</th>\n",
       "      <th>Fare</th>\n",
       "      <th>Cabin</th>\n",
       "      <th>Embarked</th>\n",
       "    </tr>\n",
       "  </thead>\n",
       "  <tbody>\n",
       "    <tr>\n",
       "      <th>0</th>\n",
       "      <td>1</td>\n",
       "      <td>0</td>\n",
       "      <td>3</td>\n",
       "      <td>Braund, Mr. Owen Harris</td>\n",
       "      <td>male</td>\n",
       "      <td>22.0</td>\n",
       "      <td>1</td>\n",
       "      <td>0</td>\n",
       "      <td>A/5 21171</td>\n",
       "      <td>7.2500</td>\n",
       "      <td>NaN</td>\n",
       "      <td>S</td>\n",
       "    </tr>\n",
       "    <tr>\n",
       "      <th>1</th>\n",
       "      <td>2</td>\n",
       "      <td>1</td>\n",
       "      <td>1</td>\n",
       "      <td>Cumings, Mrs. John Bradley (Florence Briggs Th...</td>\n",
       "      <td>female</td>\n",
       "      <td>38.0</td>\n",
       "      <td>1</td>\n",
       "      <td>0</td>\n",
       "      <td>PC 17599</td>\n",
       "      <td>71.2833</td>\n",
       "      <td>C85</td>\n",
       "      <td>C</td>\n",
       "    </tr>\n",
       "    <tr>\n",
       "      <th>2</th>\n",
       "      <td>3</td>\n",
       "      <td>1</td>\n",
       "      <td>3</td>\n",
       "      <td>Heikkinen, Miss. Laina</td>\n",
       "      <td>female</td>\n",
       "      <td>26.0</td>\n",
       "      <td>0</td>\n",
       "      <td>0</td>\n",
       "      <td>STON/O2. 3101282</td>\n",
       "      <td>7.9250</td>\n",
       "      <td>NaN</td>\n",
       "      <td>S</td>\n",
       "    </tr>\n",
       "    <tr>\n",
       "      <th>3</th>\n",
       "      <td>4</td>\n",
       "      <td>1</td>\n",
       "      <td>1</td>\n",
       "      <td>Futrelle, Mrs. Jacques Heath (Lily May Peel)</td>\n",
       "      <td>female</td>\n",
       "      <td>35.0</td>\n",
       "      <td>1</td>\n",
       "      <td>0</td>\n",
       "      <td>113803</td>\n",
       "      <td>53.1000</td>\n",
       "      <td>C123</td>\n",
       "      <td>S</td>\n",
       "    </tr>\n",
       "    <tr>\n",
       "      <th>4</th>\n",
       "      <td>5</td>\n",
       "      <td>0</td>\n",
       "      <td>3</td>\n",
       "      <td>Allen, Mr. William Henry</td>\n",
       "      <td>male</td>\n",
       "      <td>35.0</td>\n",
       "      <td>0</td>\n",
       "      <td>0</td>\n",
       "      <td>373450</td>\n",
       "      <td>8.0500</td>\n",
       "      <td>NaN</td>\n",
       "      <td>S</td>\n",
       "    </tr>\n",
       "  </tbody>\n",
       "</table>\n",
       "</div>"
      ],
      "text/plain": [
       "   PassengerId  Survived  Pclass  \\\n",
       "0            1         0       3   \n",
       "1            2         1       1   \n",
       "2            3         1       3   \n",
       "3            4         1       1   \n",
       "4            5         0       3   \n",
       "\n",
       "                                                Name     Sex   Age  SibSp  \\\n",
       "0                            Braund, Mr. Owen Harris    male  22.0      1   \n",
       "1  Cumings, Mrs. John Bradley (Florence Briggs Th...  female  38.0      1   \n",
       "2                             Heikkinen, Miss. Laina  female  26.0      0   \n",
       "3       Futrelle, Mrs. Jacques Heath (Lily May Peel)  female  35.0      1   \n",
       "4                           Allen, Mr. William Henry    male  35.0      0   \n",
       "\n",
       "   Parch            Ticket     Fare Cabin Embarked  \n",
       "0      0         A/5 21171   7.2500   NaN        S  \n",
       "1      0          PC 17599  71.2833   C85        C  \n",
       "2      0  STON/O2. 3101282   7.9250   NaN        S  \n",
       "3      0            113803  53.1000  C123        S  \n",
       "4      0            373450   8.0500   NaN        S  "
      ]
     },
     "execution_count": 26,
     "metadata": {},
     "output_type": "execute_result"
    }
   ],
   "source": [
    "tnic_df = pd.read_csv('data/titanic_kaggle_dataset.csv', header=0, dtype={'Age':np.float64})\n",
    "tnic_df.head(5)"
   ]
  },
  {
   "cell_type": "code",
   "execution_count": 27,
   "metadata": {},
   "outputs": [
    {
     "name": "stdout",
     "output_type": "stream",
     "text": [
      "<class 'pandas.core.frame.DataFrame'>\n",
      "RangeIndex: 891 entries, 0 to 890\n",
      "Data columns (total 12 columns):\n",
      " #   Column       Non-Null Count  Dtype  \n",
      "---  ------       --------------  -----  \n",
      " 0   PassengerId  891 non-null    int64  \n",
      " 1   Survived     891 non-null    int64  \n",
      " 2   Pclass       891 non-null    int64  \n",
      " 3   Name         891 non-null    object \n",
      " 4   Sex          891 non-null    object \n",
      " 5   Age          714 non-null    float64\n",
      " 6   SibSp        891 non-null    int64  \n",
      " 7   Parch        891 non-null    int64  \n",
      " 8   Ticket       891 non-null    object \n",
      " 9   Fare         891 non-null    float64\n",
      " 10  Cabin        204 non-null    object \n",
      " 11  Embarked     889 non-null    object \n",
      "dtypes: float64(2), int64(5), object(5)\n",
      "memory usage: 66.2+ KB\n"
     ]
    }
   ],
   "source": [
    "tnic_df.info();"
   ]
  },
  {
   "cell_type": "code",
   "execution_count": 28,
   "metadata": {},
   "outputs": [
    {
     "data": {
      "text/html": [
       "<div>\n",
       "<style scoped>\n",
       "    .dataframe tbody tr th:only-of-type {\n",
       "        vertical-align: middle;\n",
       "    }\n",
       "\n",
       "    .dataframe tbody tr th {\n",
       "        vertical-align: top;\n",
       "    }\n",
       "\n",
       "    .dataframe thead th {\n",
       "        text-align: right;\n",
       "    }\n",
       "</style>\n",
       "<table border=\"1\" class=\"dataframe\">\n",
       "  <thead>\n",
       "    <tr style=\"text-align: right;\">\n",
       "      <th></th>\n",
       "      <th>first</th>\n",
       "      <th>last</th>\n",
       "      <th>email</th>\n",
       "    </tr>\n",
       "  </thead>\n",
       "  <tbody>\n",
       "    <tr>\n",
       "      <th>A</th>\n",
       "      <td>Corey</td>\n",
       "      <td>Schafer</td>\n",
       "      <td>CoreyMSchafer@gmail.com</td>\n",
       "    </tr>\n",
       "    <tr>\n",
       "      <th>B</th>\n",
       "      <td>Jane</td>\n",
       "      <td>Doe</td>\n",
       "      <td>JaneDoe@email.com</td>\n",
       "    </tr>\n",
       "    <tr>\n",
       "      <th>C</th>\n",
       "      <td>John</td>\n",
       "      <td>Doe</td>\n",
       "      <td>JohnDoe@email.com</td>\n",
       "    </tr>\n",
       "  </tbody>\n",
       "</table>\n",
       "</div>"
      ],
      "text/plain": [
       "   first     last                    email\n",
       "A  Corey  Schafer  CoreyMSchafer@gmail.com\n",
       "B   Jane      Doe        JaneDoe@email.com\n",
       "C   John      Doe        JohnDoe@email.com"
      ]
     },
     "execution_count": 28,
     "metadata": {},
     "output_type": "execute_result"
    }
   ],
   "source": [
    "# python dictionary to Dataframe\n",
    "people = {\n",
    "    \"first\": [\"Corey\", 'Jane', 'John'], \n",
    "    \"last\": [\"Schafer\", 'Doe', 'Doe'], \n",
    "    \"email\": [\"CoreyMSchafer@gmail.com\", 'JaneDoe@email.com', 'JohnDoe@email.com']\n",
    "}\n",
    "df1 = pd.DataFrame(people, index=list('ABC'))\n",
    "# df1 = pd.DataFrame(people, columns=['first', 'last']) # this will create a df with only 2 columns\n",
    "df1"
   ]
  },
  {
   "cell_type": "markdown",
   "metadata": {},
   "source": [
    "#### __Pandas support duplicate indexes.__"
   ]
  },
  {
   "cell_type": "code",
   "execution_count": 29,
   "metadata": {},
   "outputs": [
    {
     "data": {
      "text/html": [
       "<div>\n",
       "<style scoped>\n",
       "    .dataframe tbody tr th:only-of-type {\n",
       "        vertical-align: middle;\n",
       "    }\n",
       "\n",
       "    .dataframe tbody tr th {\n",
       "        vertical-align: top;\n",
       "    }\n",
       "\n",
       "    .dataframe thead th {\n",
       "        text-align: right;\n",
       "    }\n",
       "</style>\n",
       "<table border=\"1\" class=\"dataframe\">\n",
       "  <thead>\n",
       "    <tr style=\"text-align: right;\">\n",
       "      <th></th>\n",
       "      <th>Name</th>\n",
       "      <th>age</th>\n",
       "      <th>email</th>\n",
       "      <th>city</th>\n",
       "    </tr>\n",
       "  </thead>\n",
       "  <tbody>\n",
       "    <tr>\n",
       "      <th>0</th>\n",
       "      <td>Veena</td>\n",
       "      <td>32</td>\n",
       "      <td>veena@email.com</td>\n",
       "      <td>chicago</td>\n",
       "    </tr>\n",
       "  </tbody>\n",
       "</table>\n",
       "</div>"
      ],
      "text/plain": [
       "    Name  age            email     city\n",
       "0  Veena   32  veena@email.com  chicago"
      ]
     },
     "execution_count": 29,
     "metadata": {},
     "output_type": "execute_result"
    }
   ],
   "source": [
    "# python list to Dataframe\n",
    "# col names are autogenerated as intergers, so are the indexes\n",
    "people = ['Veena', 32, 'veena@email.com', 'chicago']\n",
    "col_names = ['Name', 'age', 'email', 'city']\n",
    "#df2 = pd.DataFrame(data=[people]) #this will create a (1,4) df\n",
    "#df2 = pd.DataFrame(data=people) # this will create a (4,1) df\n",
    "df2 = pd.DataFrame(data=[people], columns=col_names)\n",
    "# df2.ndim # 2 in all the cases beacuse we are using pd.Dataframe\n",
    "df2"
   ]
  },
  {
   "cell_type": "code",
   "execution_count": 30,
   "metadata": {},
   "outputs": [],
   "source": [
    "# multidimensional Data"
   ]
  },
  {
   "cell_type": "code",
   "execution_count": 31,
   "metadata": {},
   "outputs": [
    {
     "data": {
      "text/html": [
       "<div>\n",
       "<style scoped>\n",
       "    .dataframe tbody tr th:only-of-type {\n",
       "        vertical-align: middle;\n",
       "    }\n",
       "\n",
       "    .dataframe tbody tr th {\n",
       "        vertical-align: top;\n",
       "    }\n",
       "\n",
       "    .dataframe thead th {\n",
       "        text-align: right;\n",
       "    }\n",
       "</style>\n",
       "<table border=\"1\" class=\"dataframe\">\n",
       "  <thead>\n",
       "    <tr style=\"text-align: right;\">\n",
       "      <th></th>\n",
       "      <th>one</th>\n",
       "      <th>two</th>\n",
       "      <th>three</th>\n",
       "      <th>four</th>\n",
       "    </tr>\n",
       "  </thead>\n",
       "  <tbody>\n",
       "    <tr>\n",
       "      <th>0</th>\n",
       "      <td>1</td>\n",
       "      <td>2</td>\n",
       "      <td>3</td>\n",
       "      <td>4</td>\n",
       "    </tr>\n",
       "  </tbody>\n",
       "</table>\n",
       "</div>"
      ],
      "text/plain": [
       "   one  two  three  four\n",
       "0    1    2      3     4"
      ]
     },
     "execution_count": 31,
     "metadata": {},
     "output_type": "execute_result"
    }
   ],
   "source": [
    "# tuples to df\n",
    "tu = (1,2,3,4)\n",
    "pd.DataFrame([tu], columns=['one','two', 'three', 'four'])\n",
    "# pd.DataFrame(tu) # this will create a (4,1) df"
   ]
  },
  {
   "cell_type": "code",
   "execution_count": 32,
   "metadata": {},
   "outputs": [
    {
     "data": {
      "text/html": [
       "<div>\n",
       "<style scoped>\n",
       "    .dataframe tbody tr th:only-of-type {\n",
       "        vertical-align: middle;\n",
       "    }\n",
       "\n",
       "    .dataframe tbody tr th {\n",
       "        vertical-align: top;\n",
       "    }\n",
       "\n",
       "    .dataframe thead th {\n",
       "        text-align: right;\n",
       "    }\n",
       "</style>\n",
       "<table border=\"1\" class=\"dataframe\">\n",
       "  <thead>\n",
       "    <tr style=\"text-align: right;\">\n",
       "      <th></th>\n",
       "      <th>0</th>\n",
       "      <th>1</th>\n",
       "    </tr>\n",
       "  </thead>\n",
       "  <tbody>\n",
       "    <tr>\n",
       "      <th>0</th>\n",
       "      <td>(1, 2)</td>\n",
       "      <td>(3, 4)</td>\n",
       "    </tr>\n",
       "  </tbody>\n",
       "</table>\n",
       "</div>"
      ],
      "text/plain": [
       "        0       1\n",
       "0  (1, 2)  (3, 4)"
      ]
     },
     "execution_count": 32,
     "metadata": {},
     "output_type": "execute_result"
    }
   ],
   "source": [
    "# tuples to df\n",
    "tu = ((1,2), (3,4))\n",
    "tu_df = pd.DataFrame([tu])\n",
    "# pd.DataFrame(tu) # this will create a (2,2) df\n",
    "tu_df\n",
    "# tu_df.ndim # still 2 "
   ]
  },
  {
   "cell_type": "code",
   "execution_count": 33,
   "metadata": {},
   "outputs": [
    {
     "data": {
      "text/html": [
       "<div>\n",
       "<style scoped>\n",
       "    .dataframe tbody tr th:only-of-type {\n",
       "        vertical-align: middle;\n",
       "    }\n",
       "\n",
       "    .dataframe tbody tr th {\n",
       "        vertical-align: top;\n",
       "    }\n",
       "\n",
       "    .dataframe thead th {\n",
       "        text-align: right;\n",
       "    }\n",
       "</style>\n",
       "<table border=\"1\" class=\"dataframe\">\n",
       "  <thead>\n",
       "    <tr style=\"text-align: right;\">\n",
       "      <th></th>\n",
       "      <th>first</th>\n",
       "      <th>last</th>\n",
       "      <th>email</th>\n",
       "    </tr>\n",
       "  </thead>\n",
       "  <tbody>\n",
       "    <tr>\n",
       "      <th>A</th>\n",
       "      <td>Corey</td>\n",
       "      <td>Schafer</td>\n",
       "      <td>CoreyMSchafer@gmail.com</td>\n",
       "    </tr>\n",
       "    <tr>\n",
       "      <th>B</th>\n",
       "      <td>Jane</td>\n",
       "      <td>Doe</td>\n",
       "      <td>JaneDoe@email.com</td>\n",
       "    </tr>\n",
       "    <tr>\n",
       "      <th>C</th>\n",
       "      <td>John</td>\n",
       "      <td>Doe</td>\n",
       "      <td>JohnDoe@email.com</td>\n",
       "    </tr>\n",
       "  </tbody>\n",
       "</table>\n",
       "</div>"
      ],
      "text/plain": [
       "   first     last                    email\n",
       "A  Corey  Schafer  CoreyMSchafer@gmail.com\n",
       "B   Jane      Doe        JaneDoe@email.com\n",
       "C   John      Doe        JohnDoe@email.com"
      ]
     },
     "execution_count": 33,
     "metadata": {},
     "output_type": "execute_result"
    }
   ],
   "source": [
    "df1"
   ]
  },
  {
   "cell_type": "markdown",
   "metadata": {},
   "source": [
    "### Access Dataframe elements"
   ]
  },
  {
   "cell_type": "code",
   "execution_count": 34,
   "metadata": {},
   "outputs": [
    {
     "data": {
      "text/plain": [
       "A    CoreyMSchafer@gmail.com\n",
       "B          JaneDoe@email.com\n",
       "C          JohnDoe@email.com\n",
       "Name: email, dtype: object"
      ]
     },
     "execution_count": 34,
     "metadata": {},
     "output_type": "execute_result"
    }
   ],
   "source": [
    "df1['email']  # access column of a dataframe which is of type 'Pandas.Series'\n",
    "#df1['email'][0] # first element in column email\n",
    "#df1['email'].ndim  # 1\n",
    "#type(df1['email']) # pandas.core.series.Series\n"
   ]
  },
  {
   "cell_type": "code",
   "execution_count": 35,
   "metadata": {},
   "outputs": [
    {
     "data": {
      "text/plain": [
       "A    CoreyMSchafer@gmail.com\n",
       "B          JaneDoe@email.com\n",
       "C          JohnDoe@email.com\n",
       "Name: email, dtype: object"
      ]
     },
     "execution_count": 35,
     "metadata": {},
     "output_type": "execute_result"
    }
   ],
   "source": [
    "# this is another way of accessing columns in a df\n",
    "# But sometimes your column name can clash with dataframe attribute or method name.\n",
    "df1.email"
   ]
  },
  {
   "cell_type": "code",
   "execution_count": 36,
   "metadata": {},
   "outputs": [
    {
     "data": {
      "text/html": [
       "<div>\n",
       "<style scoped>\n",
       "    .dataframe tbody tr th:only-of-type {\n",
       "        vertical-align: middle;\n",
       "    }\n",
       "\n",
       "    .dataframe tbody tr th {\n",
       "        vertical-align: top;\n",
       "    }\n",
       "\n",
       "    .dataframe thead th {\n",
       "        text-align: right;\n",
       "    }\n",
       "</style>\n",
       "<table border=\"1\" class=\"dataframe\">\n",
       "  <thead>\n",
       "    <tr style=\"text-align: right;\">\n",
       "      <th></th>\n",
       "      <th>first</th>\n",
       "      <th>last</th>\n",
       "      <th>email</th>\n",
       "    </tr>\n",
       "  </thead>\n",
       "  <tbody>\n",
       "    <tr>\n",
       "      <th>B</th>\n",
       "      <td>Jane</td>\n",
       "      <td>Doe</td>\n",
       "      <td>JaneDoe@email.com</td>\n",
       "    </tr>\n",
       "    <tr>\n",
       "      <th>C</th>\n",
       "      <td>John</td>\n",
       "      <td>Doe</td>\n",
       "      <td>JohnDoe@email.com</td>\n",
       "    </tr>\n",
       "  </tbody>\n",
       "</table>\n",
       "</div>"
      ],
      "text/plain": [
       "  first last              email\n",
       "B  Jane  Doe  JaneDoe@email.com\n",
       "C  John  Doe  JohnDoe@email.com"
      ]
     },
     "execution_count": 36,
     "metadata": {},
     "output_type": "execute_result"
    }
   ],
   "source": [
    "df1[2:3] # this is slicing of Rows \n",
    "df1['B':'C'] # this is slicing of Rows with index names"
   ]
  },
  {
   "cell_type": "code",
   "execution_count": 37,
   "metadata": {},
   "outputs": [
    {
     "data": {
      "text/plain": [
       "[Index(['A', 'B', 'C'], dtype='object'),\n",
       " Index(['first', 'last', 'email'], dtype='object')]"
      ]
     },
     "execution_count": 37,
     "metadata": {},
     "output_type": "execute_result"
    }
   ],
   "source": [
    "# df1.columns # returns list of columns\n",
    "# df1.index # return the index (row labels) of the DataFrame.\n",
    "# df1.memory_usage() # Return the memory usage of each column in bytes\n",
    "df1.axes # returns a list of axis0 index names and axis1 index names\n",
    "# df1.values # Only the values in the DataFrame will be returned, the axes labels will be removed.\n",
    "# df1.size # gives number of elements in a df"
   ]
  },
  {
   "cell_type": "code",
   "execution_count": 38,
   "metadata": {},
   "outputs": [
    {
     "data": {
      "text/plain": [
       "1    Cumings, Mrs. John Bradley (Florence Briggs Th...\n",
       "3         Futrelle, Mrs. Jacques Heath (Lily May Peel)\n",
       "5                                     Moran, Mr. James\n",
       "7                       Palsson, Master. Gosta Leonard\n",
       "9                  Nasser, Mrs. Nicholas (Adele Achem)\n",
       "Name: Name, dtype: object"
      ]
     },
     "execution_count": 38,
     "metadata": {},
     "output_type": "execute_result"
    }
   ],
   "source": [
    "# This is column Name with [start:end:step]\n",
    "tnic_df['Name'][1:11:2]"
   ]
  },
  {
   "cell_type": "markdown",
   "metadata": {},
   "source": [
    "### Access multiple columns "
   ]
  },
  {
   "cell_type": "code",
   "execution_count": 39,
   "metadata": {},
   "outputs": [
    {
     "data": {
      "text/html": [
       "<div>\n",
       "<style scoped>\n",
       "    .dataframe tbody tr th:only-of-type {\n",
       "        vertical-align: middle;\n",
       "    }\n",
       "\n",
       "    .dataframe tbody tr th {\n",
       "        vertical-align: top;\n",
       "    }\n",
       "\n",
       "    .dataframe thead th {\n",
       "        text-align: right;\n",
       "    }\n",
       "</style>\n",
       "<table border=\"1\" class=\"dataframe\">\n",
       "  <thead>\n",
       "    <tr style=\"text-align: right;\">\n",
       "      <th></th>\n",
       "      <th>email</th>\n",
       "      <th>last</th>\n",
       "    </tr>\n",
       "  </thead>\n",
       "  <tbody>\n",
       "    <tr>\n",
       "      <th>A</th>\n",
       "      <td>CoreyMSchafer@gmail.com</td>\n",
       "      <td>Schafer</td>\n",
       "    </tr>\n",
       "    <tr>\n",
       "      <th>B</th>\n",
       "      <td>JaneDoe@email.com</td>\n",
       "      <td>Doe</td>\n",
       "    </tr>\n",
       "    <tr>\n",
       "      <th>C</th>\n",
       "      <td>JohnDoe@email.com</td>\n",
       "      <td>Doe</td>\n",
       "    </tr>\n",
       "  </tbody>\n",
       "</table>\n",
       "</div>"
      ],
      "text/plain": [
       "                     email     last\n",
       "A  CoreyMSchafer@gmail.com  Schafer\n",
       "B        JaneDoe@email.com      Doe\n",
       "C        JohnDoe@email.com      Doe"
      ]
     },
     "execution_count": 39,
     "metadata": {},
     "output_type": "execute_result"
    }
   ],
   "source": [
    "# returns a df\n",
    "df1[['email', 'last']] # see the order it returns, its the same as list"
   ]
  },
  {
   "cell_type": "markdown",
   "metadata": {},
   "source": [
    "### iloc, loc and ix: These are basically used for accessing the rows\n",
    "1. __iloc__ - Allows us to acces the rows/(rows and columns) by integer location only. Purely integer-location based indexing for selection by position  \n",
    " https://pandas.pydata.org/pandas-docs/stable/reference/api/pandas.DataFrame.iloc.html#pandas.DataFrame.iloc  \n",
    " \n",
    "    * Allowed inputs are:\n",
    "        * An integer, e.g. 5.\n",
    "        * A list or array of integers, e.g. [4, 3, 0].\n",
    "        * A slice object with ints, e.g. 1:7. __NOTE:__ 1 is included and 7 is excluded\n",
    "        * A boolean array, e.g [True, False, True]\n",
    "        * A callable function with one argument (the calling Series or DataFrame) and that returns valid output for indexing (one of the above). This is useful in method chains, when you don’t have a reference to the calling object, but would like to base your selection on some value  \n",
    "   \n",
    "   \n",
    "2. __loc__ - Access a group of rows and columns by label(s) or a boolean array.\n",
    "    https://pandas.pydata.org/pandas-docs/stable/reference/api/pandas.DataFrame.loc.html#pandas.DataFrame.loc  \n",
    "    \n",
    "    * Allowed inputs are:\n",
    "        * A single label, e.g. 5 or 'a', (note that 5 is interpreted as a label of the index, and never as an integer position along the index).\n",
    "        * A list or array of labels, e.g. ['a', 'b', 'c'].\n",
    "        * A slice object with labels, e.g. 'a':'f'. __NOTE:__ both a and f are included.\n",
    "        * A boolean array of the same length as the axis being sliced, e.g. [True, False, True].\n",
    "        * A callable function with one argument (the calling Series or DataFrame) and that returns valid output for indexing (one of the above) \n",
    "3. __ix[]__: Pandas DataFrame.ix[ ] is both Label and Integer based slicing technique. Besides pure label based and integer based, Pandas provides a hybrid method for selections and subsetting the object using the ix[] operator. ix[] is the most general indexer and will support any of the inputs in loc[] and iloc[]. But this is derpriciated."
   ]
  },
  {
   "cell_type": "code",
   "execution_count": 40,
   "metadata": {},
   "outputs": [
    {
     "data": {
      "text/html": [
       "<div>\n",
       "<style scoped>\n",
       "    .dataframe tbody tr th:only-of-type {\n",
       "        vertical-align: middle;\n",
       "    }\n",
       "\n",
       "    .dataframe tbody tr th {\n",
       "        vertical-align: top;\n",
       "    }\n",
       "\n",
       "    .dataframe thead th {\n",
       "        text-align: right;\n",
       "    }\n",
       "</style>\n",
       "<table border=\"1\" class=\"dataframe\">\n",
       "  <thead>\n",
       "    <tr style=\"text-align: right;\">\n",
       "      <th></th>\n",
       "      <th>first</th>\n",
       "      <th>last</th>\n",
       "      <th>email</th>\n",
       "    </tr>\n",
       "  </thead>\n",
       "  <tbody>\n",
       "    <tr>\n",
       "      <th>A</th>\n",
       "      <td>Corey</td>\n",
       "      <td>Schafer</td>\n",
       "      <td>CoreyMSchafer@gmail.com</td>\n",
       "    </tr>\n",
       "    <tr>\n",
       "      <th>B</th>\n",
       "      <td>Jane</td>\n",
       "      <td>Doe</td>\n",
       "      <td>JaneDoe@email.com</td>\n",
       "    </tr>\n",
       "    <tr>\n",
       "      <th>C</th>\n",
       "      <td>John</td>\n",
       "      <td>Doe</td>\n",
       "      <td>JohnDoe@email.com</td>\n",
       "    </tr>\n",
       "  </tbody>\n",
       "</table>\n",
       "</div>"
      ],
      "text/plain": [
       "   first     last                    email\n",
       "A  Corey  Schafer  CoreyMSchafer@gmail.com\n",
       "B   Jane      Doe        JaneDoe@email.com\n",
       "C   John      Doe        JohnDoe@email.com"
      ]
     },
     "execution_count": 40,
     "metadata": {},
     "output_type": "execute_result"
    }
   ],
   "source": [
    "df1"
   ]
  },
  {
   "cell_type": "code",
   "execution_count": 41,
   "metadata": {},
   "outputs": [
    {
     "data": {
      "text/plain": [
       "first                      Corey\n",
       "last                     Schafer\n",
       "email    CoreyMSchafer@gmail.com\n",
       "Name: A, dtype: object"
      ]
     },
     "execution_count": 41,
     "metadata": {},
     "output_type": "execute_result"
    }
   ],
   "source": [
    "type(df1.iloc[0]) # pandas.core.series.Series\n",
    "df1.iloc[0]\n",
    "# type(df1.loc['A']) # pandas.core.series.Series\n",
    "# df1.loc['A']"
   ]
  },
  {
   "cell_type": "code",
   "execution_count": 42,
   "metadata": {},
   "outputs": [
    {
     "data": {
      "text/plain": [
       "'Schafer'"
      ]
     },
     "execution_count": 42,
     "metadata": {},
     "output_type": "execute_result"
    }
   ],
   "source": [
    "type(df1.iloc[0,1]) # str\n",
    "df1.iloc[0,1]\n",
    "# type(df1.loc['A','last']) # str\n",
    "# df1.loc['A','last']"
   ]
  },
  {
   "cell_type": "code",
   "execution_count": 43,
   "metadata": {},
   "outputs": [
    {
     "data": {
      "text/plain": [
       "first                 Jane\n",
       "last                   Doe\n",
       "email    JaneDoe@email.com\n",
       "Name: B, dtype: object"
      ]
     },
     "execution_count": 43,
     "metadata": {},
     "output_type": "execute_result"
    }
   ],
   "source": [
    "#df1.iloc[1] # this is equivalent to below\n",
    "type(df1.iloc[1,:]) # pandas.core.series.Series\n",
    "df1.iloc[1,:] # row 1 with all columns\n",
    "# type(df1.loc['B',:]) # pandas.core.series.Series\n",
    "# df1.loc['B',:]\n"
   ]
  },
  {
   "cell_type": "code",
   "execution_count": 44,
   "metadata": {},
   "outputs": [
    {
     "data": {
      "text/plain": [
       "A    Schafer\n",
       "B        Doe\n",
       "C        Doe\n",
       "Name: last, dtype: object"
      ]
     },
     "execution_count": 44,
     "metadata": {},
     "output_type": "execute_result"
    }
   ],
   "source": [
    "#df1['last'] # equivalent of below instruction\n",
    "type(df1.iloc[:,1]) # pandas.core.series.Series\n",
    "df1.iloc[:,1] # All rows of column 1\n",
    "# type(df1.loc[:,'last']) # pandas.core.series.Series\n",
    "# df1.loc[:,'last']\n"
   ]
  },
  {
   "cell_type": "code",
   "execution_count": 45,
   "metadata": {},
   "outputs": [
    {
     "data": {
      "text/html": [
       "<div>\n",
       "<style scoped>\n",
       "    .dataframe tbody tr th:only-of-type {\n",
       "        vertical-align: middle;\n",
       "    }\n",
       "\n",
       "    .dataframe tbody tr th {\n",
       "        vertical-align: top;\n",
       "    }\n",
       "\n",
       "    .dataframe thead th {\n",
       "        text-align: right;\n",
       "    }\n",
       "</style>\n",
       "<table border=\"1\" class=\"dataframe\">\n",
       "  <thead>\n",
       "    <tr style=\"text-align: right;\">\n",
       "      <th></th>\n",
       "      <th>first</th>\n",
       "      <th>last</th>\n",
       "      <th>email</th>\n",
       "    </tr>\n",
       "  </thead>\n",
       "  <tbody>\n",
       "    <tr>\n",
       "      <th>A</th>\n",
       "      <td>Corey</td>\n",
       "      <td>Schafer</td>\n",
       "      <td>CoreyMSchafer@gmail.com</td>\n",
       "    </tr>\n",
       "    <tr>\n",
       "      <th>B</th>\n",
       "      <td>Jane</td>\n",
       "      <td>Doe</td>\n",
       "      <td>JaneDoe@email.com</td>\n",
       "    </tr>\n",
       "  </tbody>\n",
       "</table>\n",
       "</div>"
      ],
      "text/plain": [
       "   first     last                    email\n",
       "A  Corey  Schafer  CoreyMSchafer@gmail.com\n",
       "B   Jane      Doe        JaneDoe@email.com"
      ]
     },
     "execution_count": 45,
     "metadata": {},
     "output_type": "execute_result"
    }
   ],
   "source": [
    "type(df1.iloc[:2]) # pandas.core.frame.DataFrame\n",
    "df1.iloc[:2] # returns all rows from 0 to <2\n",
    "#type(df1.loc[:'J']) # pandas.core.frame.DataFrame\n",
    "#df1.loc[:'J'] # this will include the stop slice 'J'\n",
    "# df1[:2] # this gives the same results"
   ]
  },
  {
   "cell_type": "code",
   "execution_count": 46,
   "metadata": {},
   "outputs": [
    {
     "data": {
      "text/html": [
       "<div>\n",
       "<style scoped>\n",
       "    .dataframe tbody tr th:only-of-type {\n",
       "        vertical-align: middle;\n",
       "    }\n",
       "\n",
       "    .dataframe tbody tr th {\n",
       "        vertical-align: top;\n",
       "    }\n",
       "\n",
       "    .dataframe thead th {\n",
       "        text-align: right;\n",
       "    }\n",
       "</style>\n",
       "<table border=\"1\" class=\"dataframe\">\n",
       "  <thead>\n",
       "    <tr style=\"text-align: right;\">\n",
       "      <th></th>\n",
       "      <th>first</th>\n",
       "      <th>last</th>\n",
       "      <th>email</th>\n",
       "    </tr>\n",
       "  </thead>\n",
       "  <tbody>\n",
       "    <tr>\n",
       "      <th>A</th>\n",
       "      <td>Corey</td>\n",
       "      <td>Schafer</td>\n",
       "      <td>CoreyMSchafer@gmail.com</td>\n",
       "    </tr>\n",
       "    <tr>\n",
       "      <th>B</th>\n",
       "      <td>Jane</td>\n",
       "      <td>Doe</td>\n",
       "      <td>JaneDoe@email.com</td>\n",
       "    </tr>\n",
       "    <tr>\n",
       "      <th>C</th>\n",
       "      <td>John</td>\n",
       "      <td>Doe</td>\n",
       "      <td>JohnDoe@email.com</td>\n",
       "    </tr>\n",
       "  </tbody>\n",
       "</table>\n",
       "</div>"
      ],
      "text/plain": [
       "   first     last                    email\n",
       "A  Corey  Schafer  CoreyMSchafer@gmail.com\n",
       "B   Jane      Doe        JaneDoe@email.com\n",
       "C   John      Doe        JohnDoe@email.com"
      ]
     },
     "execution_count": 46,
     "metadata": {},
     "output_type": "execute_result"
    }
   ],
   "source": [
    "df1.index = list('ABC')\n",
    "df1"
   ]
  },
  {
   "cell_type": "code",
   "execution_count": 47,
   "metadata": {},
   "outputs": [
    {
     "data": {
      "text/html": [
       "<div>\n",
       "<style scoped>\n",
       "    .dataframe tbody tr th:only-of-type {\n",
       "        vertical-align: middle;\n",
       "    }\n",
       "\n",
       "    .dataframe tbody tr th {\n",
       "        vertical-align: top;\n",
       "    }\n",
       "\n",
       "    .dataframe thead th {\n",
       "        text-align: right;\n",
       "    }\n",
       "</style>\n",
       "<table border=\"1\" class=\"dataframe\">\n",
       "  <thead>\n",
       "    <tr style=\"text-align: right;\">\n",
       "      <th></th>\n",
       "      <th>first</th>\n",
       "      <th>last</th>\n",
       "    </tr>\n",
       "  </thead>\n",
       "  <tbody>\n",
       "    <tr>\n",
       "      <th>B</th>\n",
       "      <td>Jane</td>\n",
       "      <td>Doe</td>\n",
       "    </tr>\n",
       "  </tbody>\n",
       "</table>\n",
       "</div>"
      ],
      "text/plain": [
       "  first last\n",
       "B  Jane  Doe"
      ]
     },
     "execution_count": 47,
     "metadata": {},
     "output_type": "execute_result"
    }
   ],
   "source": [
    "df1.iloc[1:2, 0:2] # see that end/stop values are excluded\n",
    "# df1.loc['B':'C', 'first':'email'] # ese the difference stop is includede here"
   ]
  },
  {
   "cell_type": "code",
   "execution_count": 48,
   "metadata": {},
   "outputs": [
    {
     "data": {
      "text/html": [
       "<div>\n",
       "<style scoped>\n",
       "    .dataframe tbody tr th:only-of-type {\n",
       "        vertical-align: middle;\n",
       "    }\n",
       "\n",
       "    .dataframe tbody tr th {\n",
       "        vertical-align: top;\n",
       "    }\n",
       "\n",
       "    .dataframe thead th {\n",
       "        text-align: right;\n",
       "    }\n",
       "</style>\n",
       "<table border=\"1\" class=\"dataframe\">\n",
       "  <thead>\n",
       "    <tr style=\"text-align: right;\">\n",
       "      <th></th>\n",
       "      <th>first</th>\n",
       "      <th>last</th>\n",
       "      <th>email</th>\n",
       "    </tr>\n",
       "  </thead>\n",
       "  <tbody>\n",
       "    <tr>\n",
       "      <th>A</th>\n",
       "      <td>Corey</td>\n",
       "      <td>Schafer</td>\n",
       "      <td>CoreyMSchafer@gmail.com</td>\n",
       "    </tr>\n",
       "    <tr>\n",
       "      <th>C</th>\n",
       "      <td>John</td>\n",
       "      <td>Doe</td>\n",
       "      <td>JohnDoe@email.com</td>\n",
       "    </tr>\n",
       "  </tbody>\n",
       "</table>\n",
       "</div>"
      ],
      "text/plain": [
       "   first     last                    email\n",
       "A  Corey  Schafer  CoreyMSchafer@gmail.com\n",
       "C   John      Doe        JohnDoe@email.com"
      ]
     },
     "execution_count": 48,
     "metadata": {},
     "output_type": "execute_result"
    }
   ],
   "source": [
    "# note the double brackets here if we want to get list of rows\n",
    "type(df1.iloc[[0]]) # pandas.core.frame.DataFrame\n",
    "df1.iloc[[0]] # just returns the first row\n",
    "df1.iloc[[0,2]] # list of row indexes\n",
    "\n",
    "# type(df1.loc[['A']]) # pandas.core.frame.DataFrame\n",
    "# df1.loc[['A']] # just returns the first row\n",
    "# df1.loc[['A','C']] # list of row indexes"
   ]
  },
  {
   "cell_type": "code",
   "execution_count": 49,
   "metadata": {},
   "outputs": [
    {
     "data": {
      "text/html": [
       "<div>\n",
       "<style scoped>\n",
       "    .dataframe tbody tr th:only-of-type {\n",
       "        vertical-align: middle;\n",
       "    }\n",
       "\n",
       "    .dataframe tbody tr th {\n",
       "        vertical-align: top;\n",
       "    }\n",
       "\n",
       "    .dataframe thead th {\n",
       "        text-align: right;\n",
       "    }\n",
       "</style>\n",
       "<table border=\"1\" class=\"dataframe\">\n",
       "  <thead>\n",
       "    <tr style=\"text-align: right;\">\n",
       "      <th></th>\n",
       "      <th>first</th>\n",
       "      <th>last</th>\n",
       "    </tr>\n",
       "  </thead>\n",
       "  <tbody>\n",
       "    <tr>\n",
       "      <th>A</th>\n",
       "      <td>Corey</td>\n",
       "      <td>Schafer</td>\n",
       "    </tr>\n",
       "    <tr>\n",
       "      <th>C</th>\n",
       "      <td>John</td>\n",
       "      <td>Doe</td>\n",
       "    </tr>\n",
       "  </tbody>\n",
       "</table>\n",
       "</div>"
      ],
      "text/plain": [
       "   first     last\n",
       "A  Corey  Schafer\n",
       "C   John      Doe"
      ]
     },
     "execution_count": 49,
     "metadata": {},
     "output_type": "execute_result"
    }
   ],
   "source": [
    "df1.iloc[[0,2], [0,1]] # list of both rows and cols\n",
    "#df1.loc[['A','C'], ['first','last']] # list of both rows and cols"
   ]
  },
  {
   "cell_type": "code",
   "execution_count": 50,
   "metadata": {},
   "outputs": [
    {
     "data": {
      "text/html": [
       "<div>\n",
       "<style scoped>\n",
       "    .dataframe tbody tr th:only-of-type {\n",
       "        vertical-align: middle;\n",
       "    }\n",
       "\n",
       "    .dataframe tbody tr th {\n",
       "        vertical-align: top;\n",
       "    }\n",
       "\n",
       "    .dataframe thead th {\n",
       "        text-align: right;\n",
       "    }\n",
       "</style>\n",
       "<table border=\"1\" class=\"dataframe\">\n",
       "  <thead>\n",
       "    <tr style=\"text-align: right;\">\n",
       "      <th></th>\n",
       "      <th>first</th>\n",
       "      <th>last</th>\n",
       "      <th>email</th>\n",
       "    </tr>\n",
       "  </thead>\n",
       "  <tbody>\n",
       "    <tr>\n",
       "      <th>A</th>\n",
       "      <td>Corey</td>\n",
       "      <td>Schafer</td>\n",
       "      <td>CoreyMSchafer@gmail.com</td>\n",
       "    </tr>\n",
       "    <tr>\n",
       "      <th>B</th>\n",
       "      <td>Jane</td>\n",
       "      <td>Doe</td>\n",
       "      <td>JaneDoe@email.com</td>\n",
       "    </tr>\n",
       "    <tr>\n",
       "      <th>C</th>\n",
       "      <td>John</td>\n",
       "      <td>Doe</td>\n",
       "      <td>JohnDoe@email.com</td>\n",
       "    </tr>\n",
       "  </tbody>\n",
       "</table>\n",
       "</div>"
      ],
      "text/plain": [
       "   first     last                    email\n",
       "A  Corey  Schafer  CoreyMSchafer@gmail.com\n",
       "B   Jane      Doe        JaneDoe@email.com\n",
       "C   John      Doe        JohnDoe@email.com"
      ]
     },
     "execution_count": 50,
     "metadata": {},
     "output_type": "execute_result"
    }
   ],
   "source": [
    "df1"
   ]
  },
  {
   "cell_type": "code",
   "execution_count": 51,
   "metadata": {},
   "outputs": [
    {
     "data": {
      "text/html": [
       "<div>\n",
       "<style scoped>\n",
       "    .dataframe tbody tr th:only-of-type {\n",
       "        vertical-align: middle;\n",
       "    }\n",
       "\n",
       "    .dataframe tbody tr th {\n",
       "        vertical-align: top;\n",
       "    }\n",
       "\n",
       "    .dataframe thead th {\n",
       "        text-align: right;\n",
       "    }\n",
       "</style>\n",
       "<table border=\"1\" class=\"dataframe\">\n",
       "  <thead>\n",
       "    <tr style=\"text-align: right;\">\n",
       "      <th></th>\n",
       "      <th>first</th>\n",
       "      <th>last</th>\n",
       "      <th>email</th>\n",
       "    </tr>\n",
       "  </thead>\n",
       "  <tbody>\n",
       "    <tr>\n",
       "      <th>A</th>\n",
       "      <td>Corey</td>\n",
       "      <td>Schafer</td>\n",
       "      <td>CoreyMSchafer@gmail.com</td>\n",
       "    </tr>\n",
       "    <tr>\n",
       "      <th>C</th>\n",
       "      <td>John</td>\n",
       "      <td>Doe</td>\n",
       "      <td>JohnDoe@email.com</td>\n",
       "    </tr>\n",
       "  </tbody>\n",
       "</table>\n",
       "</div>"
      ],
      "text/plain": [
       "   first     last                    email\n",
       "A  Corey  Schafer  CoreyMSchafer@gmail.com\n",
       "C   John      Doe        JohnDoe@email.com"
      ]
     },
     "execution_count": 51,
     "metadata": {},
     "output_type": "execute_result"
    }
   ],
   "source": [
    "df1.iloc[[True, False, True]] # len of boolean array should be equal to num of rows\n",
    "# df1.loc[[True, False, True, True]] # len of boolean array should be equal to num of rows"
   ]
  },
  {
   "cell_type": "code",
   "execution_count": 52,
   "metadata": {},
   "outputs": [],
   "source": [
    "# df1.ix[[0,2], [0,1]]\n",
    "# <ipython-input-25-e89c3aa55559>:1: FutureWarning: \n",
    "# .ix is deprecated. Please use\n",
    "# .loc for label based indexing or\n",
    "# .iloc for positional indexing\n",
    "\n",
    "# See the documentation here:\n",
    "# http://pandas.pydata.org/pandas-docs/stable/user_guide/indexing.html#ix-indexer-is-deprecated\n"
   ]
  },
  {
   "cell_type": "markdown",
   "metadata": {},
   "source": [
    "## Series:"
   ]
  },
  {
   "cell_type": "markdown",
   "metadata": {},
   "source": [
    "1. Pandas Series is a one-dimensional labeled array capable of holding data of different types.\n",
    "2. We can think of series as rows of single column. DataFram.ndim = 2 where as Series.ndim = 1.\n",
    "3. Defference between ndarray and pandas series:\n",
    "    * elements in NumPy arrays are accessed by their integer position, starting with zero for the first element. A pandas Series Object is more flexible as you can use define your own labeled index to index and access elements of an array.\n",
    "    * Numpy arrays are homogeneous, whereas Pandas Series are heterogenous.\n",
    "    * https://stackoverflow.com/questions/45285743/when-to-use-pandas-series-numpy-ndarrays-or-simply-python-dictionaries/45288000\n",
    "    * https://penandpants.com/2014/09/05/performance-of-pandas-series-vs-numpy-arrays/"
   ]
  },
  {
   "cell_type": "markdown",
   "metadata": {},
   "source": [
    "#### We can create a series from list, tuples, numpy array or from a dict or directly from pd.Series()"
   ]
  },
  {
   "cell_type": "code",
   "execution_count": 53,
   "metadata": {},
   "outputs": [
    {
     "data": {
      "text/plain": [
       "0    veena\n",
       "1       25\n",
       "2     1988\n",
       "3      chi\n",
       "dtype: object"
      ]
     },
     "execution_count": 53,
     "metadata": {},
     "output_type": "execute_result"
    }
   ],
   "source": [
    "lst=['veena', 25, 1988, 'chi']\n",
    "pd.Series(lst)\n",
    "#pd.Series(lst, index=list(('name', 'age', 'year', 'city')))"
   ]
  },
  {
   "cell_type": "code",
   "execution_count": 54,
   "metadata": {},
   "outputs": [
    {
     "data": {
      "text/plain": [
       "name    Veena\n",
       "age        32\n",
       "sex         F\n",
       "dtype: object"
      ]
     },
     "execution_count": 54,
     "metadata": {},
     "output_type": "execute_result"
    }
   ],
   "source": [
    "dct = {\n",
    "    'name':'Veena',\n",
    "    'age':32,\n",
    "    'sex':'F'\n",
    "}\n",
    "pd.Series(dct)\n",
    "# pd.DataFrame([dct]) # see the difference"
   ]
  },
  {
   "cell_type": "code",
   "execution_count": 55,
   "metadata": {},
   "outputs": [
    {
     "data": {
      "text/plain": [
       "zero     1\n",
       "one      2\n",
       "two      3\n",
       "three    4\n",
       "dtype: int64"
      ]
     },
     "execution_count": 55,
     "metadata": {},
     "output_type": "execute_result"
    }
   ],
   "source": [
    "tu = (1,2,3,4)\n",
    "# pd.Series(tu) # interger default index\n",
    "pd.Series(tu, list(('zero', 'one', 'two', 'three')))"
   ]
  },
  {
   "cell_type": "code",
   "execution_count": 56,
   "metadata": {},
   "outputs": [
    {
     "data": {
      "text/plain": [
       "zero    (1, 2)\n",
       "one     (3, 4)\n",
       "dtype: object"
      ]
     },
     "execution_count": 56,
     "metadata": {},
     "output_type": "execute_result"
    }
   ],
   "source": [
    "tu = ((1,2),(3,4))\n",
    "pd.Series(tu, list(('zero', 'one')))"
   ]
  },
  {
   "cell_type": "code",
   "execution_count": 57,
   "metadata": {},
   "outputs": [
    {
     "data": {
      "text/plain": [
       "zero         1\n",
       "one          2\n",
       "two      Veena\n",
       "three     1988\n",
       "dtype: object"
      ]
     },
     "execution_count": 57,
     "metadata": {},
     "output_type": "execute_result"
    }
   ],
   "source": [
    "ser = pd.Series([1,2,'Veena',1988], index=list(('zero', 'one', 'two', 'three')))\n",
    "ser"
   ]
  },
  {
   "cell_type": "code",
   "execution_count": 58,
   "metadata": {},
   "outputs": [
    {
     "data": {
      "text/plain": [
       "one        2\n",
       "two    Veena\n",
       "dtype: object"
      ]
     },
     "execution_count": 58,
     "metadata": {},
     "output_type": "execute_result"
    }
   ],
   "source": [
    "ser[0] # 1 \n",
    "ser[[0,3]] # 1st and 4th element\n",
    "ser[['one', 'two' ]] # gives elements per index label\n",
    "# ser[0,1] # errors out"
   ]
  },
  {
   "cell_type": "markdown",
   "metadata": {},
   "source": [
    "#### A key difference between Series and ndarray is that operations between Series automatically align the data based on label. Thus, you can write computations without giving consideration to whether the Series involved have the same labels. The result of an operation between unaligned Series will have the union of the indexes involved . If a label is not found in one Series or the other, the result will be marked as missing NaN. \n",
    "\n"
   ]
  },
  {
   "cell_type": "code",
   "execution_count": 59,
   "metadata": {},
   "outputs": [
    {
     "name": "stdout",
     "output_type": "stream",
     "text": [
      "a    2\n",
      "b    7\n",
      "c    4\n",
      "d    4\n",
      "e    7\n",
      "dtype: int32\n"
     ]
    },
    {
     "data": {
      "text/plain": [
       "a     NaN\n",
       "b    14.0\n",
       "c     8.0\n",
       "d     8.0\n",
       "e     NaN\n",
       "dtype: float64"
      ]
     },
     "execution_count": 59,
     "metadata": {},
     "output_type": "execute_result"
    }
   ],
   "source": [
    "s = pd.Series(np.random.randint(0, 10, 5), index=['a', 'b', 'c', 'd', 'e'])\n",
    "print(s)\n",
    "s[1:]+s[:-1]"
   ]
  },
  {
   "cell_type": "markdown",
   "metadata": {},
   "source": [
    "### Indexes - How to set, reset and use\n",
    "1. Dataframe has default indexes, which acts as an identifier for the rows. \n",
    "2. By default they are unique auto incremented integer."
   ]
  },
  {
   "cell_type": "code",
   "execution_count": 60,
   "metadata": {},
   "outputs": [
    {
     "data": {
      "text/html": [
       "<div>\n",
       "<style scoped>\n",
       "    .dataframe tbody tr th:only-of-type {\n",
       "        vertical-align: middle;\n",
       "    }\n",
       "\n",
       "    .dataframe tbody tr th {\n",
       "        vertical-align: top;\n",
       "    }\n",
       "\n",
       "    .dataframe thead th {\n",
       "        text-align: right;\n",
       "    }\n",
       "</style>\n",
       "<table border=\"1\" class=\"dataframe\">\n",
       "  <thead>\n",
       "    <tr style=\"text-align: right;\">\n",
       "      <th></th>\n",
       "      <th>first</th>\n",
       "      <th>last</th>\n",
       "      <th>email</th>\n",
       "    </tr>\n",
       "  </thead>\n",
       "  <tbody>\n",
       "    <tr>\n",
       "      <th>C</th>\n",
       "      <td>Corey</td>\n",
       "      <td>Schafer</td>\n",
       "      <td>CoreyMSchafer@gmail.com</td>\n",
       "    </tr>\n",
       "    <tr>\n",
       "      <th>Z</th>\n",
       "      <td>Zane</td>\n",
       "      <td>Doe</td>\n",
       "      <td>ZaneDoe@email.com</td>\n",
       "    </tr>\n",
       "    <tr>\n",
       "      <th>J</th>\n",
       "      <td>John</td>\n",
       "      <td>Doe</td>\n",
       "      <td>JohnDoe@gmail.com</td>\n",
       "    </tr>\n",
       "    <tr>\n",
       "      <th>M</th>\n",
       "      <td>Matt</td>\n",
       "      <td>Zane</td>\n",
       "      <td>NaN</td>\n",
       "    </tr>\n",
       "  </tbody>\n",
       "</table>\n",
       "</div>"
      ],
      "text/plain": [
       "   first     last                    email\n",
       "C  Corey  Schafer  CoreyMSchafer@gmail.com\n",
       "Z   Zane      Doe        ZaneDoe@email.com\n",
       "J   John      Doe        JohnDoe@gmail.com\n",
       "M   Matt     Zane                      NaN"
      ]
     },
     "execution_count": 60,
     "metadata": {},
     "output_type": "execute_result"
    }
   ],
   "source": [
    "people = {\n",
    "    \"first\": [\"Corey\", 'Zane', 'John', 'Matt'], \n",
    "    \"last\": [\"Schafer\", 'Doe', 'Doe', 'Zane'], \n",
    "    \"email\": [\"CoreyMSchafer@gmail.com\", 'ZaneDoe@email.com', 'JohnDoe@gmail.com', np.NaN]\n",
    "}\n",
    "df1 = pd.DataFrame(people, index=list('CZJM'))\n",
    "df1"
   ]
  },
  {
   "cell_type": "markdown",
   "metadata": {},
   "source": [
    "#### We can explicitly set the index of the dataset as one of the columns which uniquely define the dataset. Pandas don’t do a lot of changes in place most of the time unless we specifically tell it to do so. So if we want to carry over the set_index to the dataframe we will have to set the inplace = True\n"
   ]
  },
  {
   "cell_type": "code",
   "execution_count": 61,
   "metadata": {},
   "outputs": [
    {
     "data": {
      "text/html": [
       "<div>\n",
       "<style scoped>\n",
       "    .dataframe tbody tr th:only-of-type {\n",
       "        vertical-align: middle;\n",
       "    }\n",
       "\n",
       "    .dataframe tbody tr th {\n",
       "        vertical-align: top;\n",
       "    }\n",
       "\n",
       "    .dataframe thead th {\n",
       "        text-align: right;\n",
       "    }\n",
       "</style>\n",
       "<table border=\"1\" class=\"dataframe\">\n",
       "  <thead>\n",
       "    <tr style=\"text-align: right;\">\n",
       "      <th></th>\n",
       "      <th>first</th>\n",
       "      <th>last</th>\n",
       "    </tr>\n",
       "    <tr>\n",
       "      <th>email</th>\n",
       "      <th></th>\n",
       "      <th></th>\n",
       "    </tr>\n",
       "  </thead>\n",
       "  <tbody>\n",
       "    <tr>\n",
       "      <th>CoreyMSchafer@gmail.com</th>\n",
       "      <td>Corey</td>\n",
       "      <td>Schafer</td>\n",
       "    </tr>\n",
       "    <tr>\n",
       "      <th>ZaneDoe@email.com</th>\n",
       "      <td>Zane</td>\n",
       "      <td>Doe</td>\n",
       "    </tr>\n",
       "    <tr>\n",
       "      <th>JohnDoe@gmail.com</th>\n",
       "      <td>John</td>\n",
       "      <td>Doe</td>\n",
       "    </tr>\n",
       "    <tr>\n",
       "      <th>NaN</th>\n",
       "      <td>Matt</td>\n",
       "      <td>Zane</td>\n",
       "    </tr>\n",
       "  </tbody>\n",
       "</table>\n",
       "</div>"
      ],
      "text/plain": [
       "                         first     last\n",
       "email                                  \n",
       "CoreyMSchafer@gmail.com  Corey  Schafer\n",
       "ZaneDoe@email.com         Zane      Doe\n",
       "JohnDoe@gmail.com         John      Doe\n",
       "NaN                       Matt     Zane"
      ]
     },
     "execution_count": 61,
     "metadata": {},
     "output_type": "execute_result"
    }
   ],
   "source": [
    "df1.set_index('email', inplace=True)\n",
    "df1"
   ]
  },
  {
   "cell_type": "code",
   "execution_count": 62,
   "metadata": {},
   "outputs": [
    {
     "data": {
      "text/plain": [
       "Index(['CoreyMSchafer@gmail.com', 'ZaneDoe@email.com', 'JohnDoe@gmail.com',\n",
       "       nan],\n",
       "      dtype='object', name='email')"
      ]
     },
     "execution_count": 62,
     "metadata": {},
     "output_type": "execute_result"
    }
   ],
   "source": [
    "df1.index"
   ]
  },
  {
   "cell_type": "code",
   "execution_count": 63,
   "metadata": {},
   "outputs": [
    {
     "data": {
      "text/plain": [
       "first      Corey\n",
       "last     Schafer\n",
       "Name: CoreyMSchafer@gmail.com, dtype: object"
      ]
     },
     "execution_count": 63,
     "metadata": {},
     "output_type": "execute_result"
    }
   ],
   "source": [
    "df1.loc['CoreyMSchafer@gmail.com']"
   ]
  },
  {
   "cell_type": "code",
   "execution_count": 64,
   "metadata": {},
   "outputs": [
    {
     "data": {
      "text/html": [
       "<div>\n",
       "<style scoped>\n",
       "    .dataframe tbody tr th:only-of-type {\n",
       "        vertical-align: middle;\n",
       "    }\n",
       "\n",
       "    .dataframe tbody tr th {\n",
       "        vertical-align: top;\n",
       "    }\n",
       "\n",
       "    .dataframe thead th {\n",
       "        text-align: right;\n",
       "    }\n",
       "</style>\n",
       "<table border=\"1\" class=\"dataframe\">\n",
       "  <thead>\n",
       "    <tr style=\"text-align: right;\">\n",
       "      <th></th>\n",
       "      <th>first</th>\n",
       "      <th>last</th>\n",
       "    </tr>\n",
       "    <tr>\n",
       "      <th>email</th>\n",
       "      <th></th>\n",
       "      <th></th>\n",
       "    </tr>\n",
       "  </thead>\n",
       "  <tbody>\n",
       "    <tr>\n",
       "      <th>CoreyMSchafer@gmail.com</th>\n",
       "      <td>Corey</td>\n",
       "      <td>Schafer</td>\n",
       "    </tr>\n",
       "    <tr>\n",
       "      <th>JohnDoe@gmail.com</th>\n",
       "      <td>John</td>\n",
       "      <td>Doe</td>\n",
       "    </tr>\n",
       "    <tr>\n",
       "      <th>ZaneDoe@email.com</th>\n",
       "      <td>Zane</td>\n",
       "      <td>Doe</td>\n",
       "    </tr>\n",
       "    <tr>\n",
       "      <th>NaN</th>\n",
       "      <td>Matt</td>\n",
       "      <td>Zane</td>\n",
       "    </tr>\n",
       "  </tbody>\n",
       "</table>\n",
       "</div>"
      ],
      "text/plain": [
       "                         first     last\n",
       "email                                  \n",
       "CoreyMSchafer@gmail.com  Corey  Schafer\n",
       "JohnDoe@gmail.com         John      Doe\n",
       "ZaneDoe@email.com         Zane      Doe\n",
       "NaN                       Matt     Zane"
      ]
     },
     "execution_count": 64,
     "metadata": {},
     "output_type": "execute_result"
    }
   ],
   "source": [
    "df1.sort_index(inplace=True)\n",
    "df1"
   ]
  },
  {
   "cell_type": "code",
   "execution_count": 65,
   "metadata": {},
   "outputs": [
    {
     "data": {
      "text/html": [
       "<div>\n",
       "<style scoped>\n",
       "    .dataframe tbody tr th:only-of-type {\n",
       "        vertical-align: middle;\n",
       "    }\n",
       "\n",
       "    .dataframe tbody tr th {\n",
       "        vertical-align: top;\n",
       "    }\n",
       "\n",
       "    .dataframe thead th {\n",
       "        text-align: right;\n",
       "    }\n",
       "</style>\n",
       "<table border=\"1\" class=\"dataframe\">\n",
       "  <thead>\n",
       "    <tr style=\"text-align: right;\">\n",
       "      <th></th>\n",
       "      <th>first</th>\n",
       "      <th>last</th>\n",
       "    </tr>\n",
       "  </thead>\n",
       "  <tbody>\n",
       "    <tr>\n",
       "      <th>A</th>\n",
       "      <td>Corey</td>\n",
       "      <td>Schafer</td>\n",
       "    </tr>\n",
       "    <tr>\n",
       "      <th>B</th>\n",
       "      <td>John</td>\n",
       "      <td>Doe</td>\n",
       "    </tr>\n",
       "    <tr>\n",
       "      <th>C</th>\n",
       "      <td>Zane</td>\n",
       "      <td>Doe</td>\n",
       "    </tr>\n",
       "    <tr>\n",
       "      <th>D</th>\n",
       "      <td>Matt</td>\n",
       "      <td>Zane</td>\n",
       "    </tr>\n",
       "  </tbody>\n",
       "</table>\n",
       "</div>"
      ],
      "text/plain": [
       "   first     last\n",
       "A  Corey  Schafer\n",
       "B   John      Doe\n",
       "C   Zane      Doe\n",
       "D   Matt     Zane"
      ]
     },
     "execution_count": 65,
     "metadata": {},
     "output_type": "execute_result"
    }
   ],
   "source": [
    "df1.index=list('ABCD') # Basically email column which was the index is over written by the new list so no more 'email'\n",
    "df1"
   ]
  },
  {
   "cell_type": "code",
   "execution_count": 66,
   "metadata": {},
   "outputs": [
    {
     "data": {
      "text/html": [
       "<div>\n",
       "<style scoped>\n",
       "    .dataframe tbody tr th:only-of-type {\n",
       "        vertical-align: middle;\n",
       "    }\n",
       "\n",
       "    .dataframe tbody tr th {\n",
       "        vertical-align: top;\n",
       "    }\n",
       "\n",
       "    .dataframe thead th {\n",
       "        text-align: right;\n",
       "    }\n",
       "</style>\n",
       "<table border=\"1\" class=\"dataframe\">\n",
       "  <thead>\n",
       "    <tr style=\"text-align: right;\">\n",
       "      <th></th>\n",
       "      <th>index</th>\n",
       "      <th>first</th>\n",
       "      <th>last</th>\n",
       "    </tr>\n",
       "  </thead>\n",
       "  <tbody>\n",
       "    <tr>\n",
       "      <th>0</th>\n",
       "      <td>A</td>\n",
       "      <td>Corey</td>\n",
       "      <td>Schafer</td>\n",
       "    </tr>\n",
       "    <tr>\n",
       "      <th>1</th>\n",
       "      <td>B</td>\n",
       "      <td>John</td>\n",
       "      <td>Doe</td>\n",
       "    </tr>\n",
       "    <tr>\n",
       "      <th>2</th>\n",
       "      <td>C</td>\n",
       "      <td>Zane</td>\n",
       "      <td>Doe</td>\n",
       "    </tr>\n",
       "    <tr>\n",
       "      <th>3</th>\n",
       "      <td>D</td>\n",
       "      <td>Matt</td>\n",
       "      <td>Zane</td>\n",
       "    </tr>\n",
       "  </tbody>\n",
       "</table>\n",
       "</div>"
      ],
      "text/plain": [
       "  index  first     last\n",
       "0     A  Corey  Schafer\n",
       "1     B   John      Doe\n",
       "2     C   Zane      Doe\n",
       "3     D   Matt     Zane"
      ]
     },
     "execution_count": 66,
     "metadata": {},
     "output_type": "execute_result"
    }
   ],
   "source": [
    "# index is reset to default and the previous index is added as a column here\n",
    "df1.reset_index()"
   ]
  },
  {
   "cell_type": "code",
   "execution_count": 67,
   "metadata": {},
   "outputs": [
    {
     "data": {
      "text/html": [
       "<div>\n",
       "<style scoped>\n",
       "    .dataframe tbody tr th:only-of-type {\n",
       "        vertical-align: middle;\n",
       "    }\n",
       "\n",
       "    .dataframe tbody tr th {\n",
       "        vertical-align: top;\n",
       "    }\n",
       "\n",
       "    .dataframe thead th {\n",
       "        text-align: right;\n",
       "    }\n",
       "</style>\n",
       "<table border=\"1\" class=\"dataframe\">\n",
       "  <thead>\n",
       "    <tr style=\"text-align: right;\">\n",
       "      <th></th>\n",
       "      <th>first</th>\n",
       "      <th>last</th>\n",
       "    </tr>\n",
       "  </thead>\n",
       "  <tbody>\n",
       "    <tr>\n",
       "      <th>A</th>\n",
       "      <td>Corey</td>\n",
       "      <td>Schafer</td>\n",
       "    </tr>\n",
       "    <tr>\n",
       "      <th>B</th>\n",
       "      <td>John</td>\n",
       "      <td>Doe</td>\n",
       "    </tr>\n",
       "    <tr>\n",
       "      <th>C</th>\n",
       "      <td>Zane</td>\n",
       "      <td>Doe</td>\n",
       "    </tr>\n",
       "    <tr>\n",
       "      <th>D</th>\n",
       "      <td>Matt</td>\n",
       "      <td>Zane</td>\n",
       "    </tr>\n",
       "  </tbody>\n",
       "</table>\n",
       "</div>"
      ],
      "text/plain": [
       "   first     last\n",
       "A  Corey  Schafer\n",
       "B   John      Doe\n",
       "C   Zane      Doe\n",
       "D   Matt     Zane"
      ]
     },
     "execution_count": 67,
     "metadata": {},
     "output_type": "execute_result"
    }
   ],
   "source": [
    "df1"
   ]
  },
  {
   "cell_type": "code",
   "execution_count": 68,
   "metadata": {},
   "outputs": [
    {
     "data": {
      "text/html": [
       "<div>\n",
       "<style scoped>\n",
       "    .dataframe tbody tr th:only-of-type {\n",
       "        vertical-align: middle;\n",
       "    }\n",
       "\n",
       "    .dataframe tbody tr th {\n",
       "        vertical-align: top;\n",
       "    }\n",
       "\n",
       "    .dataframe thead th {\n",
       "        text-align: right;\n",
       "    }\n",
       "</style>\n",
       "<table border=\"1\" class=\"dataframe\">\n",
       "  <thead>\n",
       "    <tr style=\"text-align: right;\">\n",
       "      <th></th>\n",
       "      <th>first</th>\n",
       "      <th>last</th>\n",
       "    </tr>\n",
       "  </thead>\n",
       "  <tbody>\n",
       "    <tr>\n",
       "      <th>0</th>\n",
       "      <td>Corey</td>\n",
       "      <td>Schafer</td>\n",
       "    </tr>\n",
       "    <tr>\n",
       "      <th>1</th>\n",
       "      <td>John</td>\n",
       "      <td>Doe</td>\n",
       "    </tr>\n",
       "    <tr>\n",
       "      <th>2</th>\n",
       "      <td>Zane</td>\n",
       "      <td>Doe</td>\n",
       "    </tr>\n",
       "    <tr>\n",
       "      <th>3</th>\n",
       "      <td>Matt</td>\n",
       "      <td>Zane</td>\n",
       "    </tr>\n",
       "  </tbody>\n",
       "</table>\n",
       "</div>"
      ],
      "text/plain": [
       "   first     last\n",
       "0  Corey  Schafer\n",
       "1   John      Doe\n",
       "2   Zane      Doe\n",
       "3   Matt     Zane"
      ]
     },
     "execution_count": 68,
     "metadata": {},
     "output_type": "execute_result"
    }
   ],
   "source": [
    "df1.reset_index(drop=True) # previous index is not added as a column"
   ]
  },
  {
   "cell_type": "code",
   "execution_count": 69,
   "metadata": {},
   "outputs": [
    {
     "data": {
      "text/html": [
       "<div>\n",
       "<style scoped>\n",
       "    .dataframe tbody tr th:only-of-type {\n",
       "        vertical-align: middle;\n",
       "    }\n",
       "\n",
       "    .dataframe tbody tr th {\n",
       "        vertical-align: top;\n",
       "    }\n",
       "\n",
       "    .dataframe thead th {\n",
       "        text-align: right;\n",
       "    }\n",
       "</style>\n",
       "<table border=\"1\" class=\"dataframe\">\n",
       "  <thead>\n",
       "    <tr style=\"text-align: right;\">\n",
       "      <th></th>\n",
       "      <th>first</th>\n",
       "      <th>last</th>\n",
       "    </tr>\n",
       "  </thead>\n",
       "  <tbody>\n",
       "    <tr>\n",
       "      <th>A</th>\n",
       "      <td>Corey</td>\n",
       "      <td>Schafer</td>\n",
       "    </tr>\n",
       "    <tr>\n",
       "      <th>B</th>\n",
       "      <td>John</td>\n",
       "      <td>Doe</td>\n",
       "    </tr>\n",
       "    <tr>\n",
       "      <th>C</th>\n",
       "      <td>Zane</td>\n",
       "      <td>Doe</td>\n",
       "    </tr>\n",
       "    <tr>\n",
       "      <th>D</th>\n",
       "      <td>Matt</td>\n",
       "      <td>Zane</td>\n",
       "    </tr>\n",
       "  </tbody>\n",
       "</table>\n",
       "</div>"
      ],
      "text/plain": [
       "   first     last\n",
       "A  Corey  Schafer\n",
       "B   John      Doe\n",
       "C   Zane      Doe\n",
       "D   Matt     Zane"
      ]
     },
     "execution_count": 69,
     "metadata": {},
     "output_type": "execute_result"
    }
   ],
   "source": [
    "df1"
   ]
  },
  {
   "cell_type": "code",
   "execution_count": 70,
   "metadata": {},
   "outputs": [
    {
     "data": {
      "text/html": [
       "<div>\n",
       "<style scoped>\n",
       "    .dataframe tbody tr th:only-of-type {\n",
       "        vertical-align: middle;\n",
       "    }\n",
       "\n",
       "    .dataframe tbody tr th {\n",
       "        vertical-align: top;\n",
       "    }\n",
       "\n",
       "    .dataframe thead th {\n",
       "        text-align: right;\n",
       "    }\n",
       "</style>\n",
       "<table border=\"1\" class=\"dataframe\">\n",
       "  <thead>\n",
       "    <tr style=\"text-align: right;\">\n",
       "      <th></th>\n",
       "      <th>first</th>\n",
       "      <th>last</th>\n",
       "    </tr>\n",
       "  </thead>\n",
       "  <tbody>\n",
       "    <tr>\n",
       "      <th>C</th>\n",
       "      <td>Zane</td>\n",
       "      <td>Doe</td>\n",
       "    </tr>\n",
       "    <tr>\n",
       "      <th>A</th>\n",
       "      <td>Corey</td>\n",
       "      <td>Schafer</td>\n",
       "    </tr>\n",
       "  </tbody>\n",
       "</table>\n",
       "</div>"
      ],
      "text/plain": [
       "   first     last\n",
       "C   Zane      Doe\n",
       "A  Corey  Schafer"
      ]
     },
     "execution_count": 70,
     "metadata": {},
     "output_type": "execute_result"
    }
   ],
   "source": [
    "# Return a random sample of items from an axis of object.\n",
    "df1.sample(frac=0.5, random_state=32, axis='index') # change the frac and see the result"
   ]
  },
  {
   "cell_type": "markdown",
   "metadata": {},
   "source": [
    "#### This resets back the index to intergers and not list('CZJ')"
   ]
  },
  {
   "cell_type": "code",
   "execution_count": 71,
   "metadata": {},
   "outputs": [
    {
     "data": {
      "text/html": [
       "<div>\n",
       "<style scoped>\n",
       "    .dataframe tbody tr th:only-of-type {\n",
       "        vertical-align: middle;\n",
       "    }\n",
       "\n",
       "    .dataframe tbody tr th {\n",
       "        vertical-align: top;\n",
       "    }\n",
       "\n",
       "    .dataframe thead th {\n",
       "        text-align: right;\n",
       "    }\n",
       "</style>\n",
       "<table border=\"1\" class=\"dataframe\">\n",
       "  <thead>\n",
       "    <tr style=\"text-align: right;\">\n",
       "      <th></th>\n",
       "      <th>first</th>\n",
       "      <th>last</th>\n",
       "    </tr>\n",
       "  </thead>\n",
       "  <tbody>\n",
       "    <tr>\n",
       "      <th>0</th>\n",
       "      <td>Corey</td>\n",
       "      <td>Schafer</td>\n",
       "    </tr>\n",
       "    <tr>\n",
       "      <th>1</th>\n",
       "      <td>John</td>\n",
       "      <td>Doe</td>\n",
       "    </tr>\n",
       "    <tr>\n",
       "      <th>2</th>\n",
       "      <td>Zane</td>\n",
       "      <td>Doe</td>\n",
       "    </tr>\n",
       "    <tr>\n",
       "      <th>3</th>\n",
       "      <td>Matt</td>\n",
       "      <td>Zane</td>\n",
       "    </tr>\n",
       "  </tbody>\n",
       "</table>\n",
       "</div>"
      ],
      "text/plain": [
       "   first     last\n",
       "0  Corey  Schafer\n",
       "1   John      Doe\n",
       "2   Zane      Doe\n",
       "3   Matt     Zane"
      ]
     },
     "execution_count": 71,
     "metadata": {},
     "output_type": "execute_result"
    }
   ],
   "source": [
    "df1.reset_index(inplace=True, drop=True)\n",
    "# df1.drop(['level_0', 'index'], axis=1, inplace=True)\n",
    "df1"
   ]
  },
  {
   "cell_type": "code",
   "execution_count": 72,
   "metadata": {},
   "outputs": [
    {
     "name": "stdout",
     "output_type": "stream",
     "text": [
      "     A    B\n",
      "0  2.0  1.0\n",
      "1  3.0  NaN\n",
      "2  1.0  0.0\n",
      "     A    B\n",
      "0  2.0  1.0\n",
      "1  5.0  NaN\n",
      "2  6.0  1.0 \n",
      "\n",
      "     A    B\n",
      "0  2.0  3.0\n",
      "1  3.0  NaN\n",
      "2  1.0  1.0\n"
     ]
    }
   ],
   "source": [
    "#cumulative sum: \n",
    "d = pd.DataFrame([[2.0, 1.0],\n",
    "                   [3.0, np.nan],\n",
    "                   [1.0, 0.0]],\n",
    "                   columns=list('AB'))\n",
    "print(d)\n",
    "# row(n) = row(n) + row(n-1)\n",
    "print(d.cumsum(), '\\n') # NaN are skipped by default\n",
    "print(d.cumsum(axis='columns')) "
   ]
  },
  {
   "cell_type": "markdown",
   "metadata": {},
   "source": [
    "## Filtering - Using Condition to filter rows and columns\n",
    "1. http://scrapingauthority.com/pandas-dataframe-filtering/\n",
    "2. https://pandas.pydata.org/pandas-docs/stable/reference/series.html - *** Imp stat method are already present\n",
    "2. Conditional symbols\n",
    "    * & - used for 'AND' \n",
    "    * | - is used for 'OR' \n",
    "    * ~ - is used for 'NOT'\n",
    "3. Look for all the filtering and iteration methods from df\n",
    "    * https://pandas.pydata.org/pandas-docs/stable/reference/frame.html"
   ]
  },
  {
   "cell_type": "code",
   "execution_count": 73,
   "metadata": {},
   "outputs": [],
   "source": [
    "filt = (df1['last'] == 'Doe')"
   ]
  },
  {
   "cell_type": "code",
   "execution_count": 74,
   "metadata": {},
   "outputs": [
    {
     "name": "stdout",
     "output_type": "stream",
     "text": [
      "  first last\n",
      "1  John  Doe\n",
      "2  Zane  Doe\n"
     ]
    },
    {
     "name": "stderr",
     "output_type": "stream",
     "text": [
      "<ipython-input-74-dd5efe8bef62>:6: SettingWithCopyWarning: \n",
      "A value is trying to be set on a copy of a slice from a DataFrame.\n",
      "Try using .loc[row_indexer,col_indexer] = value instead\n",
      "\n",
      "See the caveats in the documentation: https://pandas.pydata.org/pandas-docs/stable/user_guide/indexing.html#returning-a-view-versus-a-copy\n",
      "  df1[filt]['last'] = 'Smith'\n"
     ]
    }
   ],
   "source": [
    "# one of the way to add a filter on df, but here we cannot filter out the column \n",
    "# so better use the next .loc way. Also df1[filt] returns a copy of the slice so you cannot do df[filt] = 'something', ERROR\n",
    "# where as .loc actually returns the df slice\n",
    "print(df1[filt])\n",
    "# df1[filt, 'email'] # error\n",
    "df1[filt]['last'] = 'Smith'"
   ]
  },
  {
   "cell_type": "code",
   "execution_count": 75,
   "metadata": {},
   "outputs": [
    {
     "data": {
      "text/html": [
       "<div>\n",
       "<style scoped>\n",
       "    .dataframe tbody tr th:only-of-type {\n",
       "        vertical-align: middle;\n",
       "    }\n",
       "\n",
       "    .dataframe tbody tr th {\n",
       "        vertical-align: top;\n",
       "    }\n",
       "\n",
       "    .dataframe thead th {\n",
       "        text-align: right;\n",
       "    }\n",
       "</style>\n",
       "<table border=\"1\" class=\"dataframe\">\n",
       "  <thead>\n",
       "    <tr style=\"text-align: right;\">\n",
       "      <th></th>\n",
       "      <th>first</th>\n",
       "      <th>last</th>\n",
       "      <th>email</th>\n",
       "    </tr>\n",
       "  </thead>\n",
       "  <tbody>\n",
       "    <tr>\n",
       "      <th>0</th>\n",
       "      <td>Corey</td>\n",
       "      <td>Schafer</td>\n",
       "      <td>CoreyMSchafer@gmail.com</td>\n",
       "    </tr>\n",
       "    <tr>\n",
       "      <th>1</th>\n",
       "      <td>Zane</td>\n",
       "      <td>Doe</td>\n",
       "      <td>ZaneDoe@email.com</td>\n",
       "    </tr>\n",
       "    <tr>\n",
       "      <th>2</th>\n",
       "      <td>John</td>\n",
       "      <td>Doe</td>\n",
       "      <td>JohnDoe@gmail.com</td>\n",
       "    </tr>\n",
       "    <tr>\n",
       "      <th>3</th>\n",
       "      <td>Matt</td>\n",
       "      <td>Zane</td>\n",
       "      <td>NaN</td>\n",
       "    </tr>\n",
       "  </tbody>\n",
       "</table>\n",
       "</div>"
      ],
      "text/plain": [
       "   first     last                    email\n",
       "0  Corey  Schafer  CoreyMSchafer@gmail.com\n",
       "1   Zane      Doe        ZaneDoe@email.com\n",
       "2   John      Doe        JohnDoe@gmail.com\n",
       "3   Matt     Zane                      NaN"
      ]
     },
     "execution_count": 75,
     "metadata": {},
     "output_type": "execute_result"
    }
   ],
   "source": [
    "people = {\n",
    "    \"first\": [\"Corey\", 'Zane', 'John', 'Matt'], \n",
    "    \"last\": [\"Schafer\", 'Doe', 'Doe', 'Zane'], \n",
    "    \"email\": [\"CoreyMSchafer@gmail.com\", 'ZaneDoe@email.com', 'JohnDoe@gmail.com', np.NaN]\n",
    "}\n",
    "df1 = pd.DataFrame(people)\n",
    "df1"
   ]
  },
  {
   "cell_type": "code",
   "execution_count": 76,
   "metadata": {},
   "outputs": [
    {
     "data": {
      "text/plain": [
       "1    ZaneDoe@email.com\n",
       "2    JohnDoe@gmail.com\n",
       "Name: email, dtype: object"
      ]
     },
     "execution_count": 76,
     "metadata": {},
     "output_type": "execute_result"
    }
   ],
   "source": [
    "# this is a better way to add filter to a df\n",
    "df1.loc[filt, 'email']"
   ]
  },
  {
   "cell_type": "code",
   "execution_count": 77,
   "metadata": {},
   "outputs": [
    {
     "data": {
      "text/plain": [
       "1    ZaneDoe@email.com\n",
       "2    JohnDoe@gmail.com\n",
       "Name: email, dtype: object"
      ]
     },
     "execution_count": 77,
     "metadata": {},
     "output_type": "execute_result"
    }
   ],
   "source": [
    "df1.loc[filt]['email']"
   ]
  },
  {
   "cell_type": "code",
   "execution_count": 78,
   "metadata": {},
   "outputs": [
    {
     "data": {
      "text/html": [
       "<div>\n",
       "<style scoped>\n",
       "    .dataframe tbody tr th:only-of-type {\n",
       "        vertical-align: middle;\n",
       "    }\n",
       "\n",
       "    .dataframe tbody tr th {\n",
       "        vertical-align: top;\n",
       "    }\n",
       "\n",
       "    .dataframe thead th {\n",
       "        text-align: right;\n",
       "    }\n",
       "</style>\n",
       "<table border=\"1\" class=\"dataframe\">\n",
       "  <thead>\n",
       "    <tr style=\"text-align: right;\">\n",
       "      <th></th>\n",
       "      <th>first</th>\n",
       "      <th>last</th>\n",
       "      <th>email</th>\n",
       "    </tr>\n",
       "  </thead>\n",
       "  <tbody>\n",
       "    <tr>\n",
       "      <th>0</th>\n",
       "      <td>Corey</td>\n",
       "      <td>Schafer</td>\n",
       "      <td>CoreyMSchafer@gmail.com</td>\n",
       "    </tr>\n",
       "    <tr>\n",
       "      <th>3</th>\n",
       "      <td>Matt</td>\n",
       "      <td>Zane</td>\n",
       "      <td>NaN</td>\n",
       "    </tr>\n",
       "  </tbody>\n",
       "</table>\n",
       "</div>"
      ],
      "text/plain": [
       "   first     last                    email\n",
       "0  Corey  Schafer  CoreyMSchafer@gmail.com\n",
       "3   Matt     Zane                      NaN"
      ]
     },
     "execution_count": 78,
     "metadata": {},
     "output_type": "execute_result"
    }
   ],
   "source": [
    "df1.loc[~filt] # inverting the filter using NOT(~)"
   ]
  },
  {
   "cell_type": "code",
   "execution_count": 79,
   "metadata": {},
   "outputs": [
    {
     "data": {
      "text/html": [
       "<div>\n",
       "<style scoped>\n",
       "    .dataframe tbody tr th:only-of-type {\n",
       "        vertical-align: middle;\n",
       "    }\n",
       "\n",
       "    .dataframe tbody tr th {\n",
       "        vertical-align: top;\n",
       "    }\n",
       "\n",
       "    .dataframe thead th {\n",
       "        text-align: right;\n",
       "    }\n",
       "</style>\n",
       "<table border=\"1\" class=\"dataframe\">\n",
       "  <thead>\n",
       "    <tr style=\"text-align: right;\">\n",
       "      <th></th>\n",
       "      <th>first</th>\n",
       "      <th>last</th>\n",
       "      <th>email</th>\n",
       "    </tr>\n",
       "  </thead>\n",
       "  <tbody>\n",
       "    <tr>\n",
       "      <th>0</th>\n",
       "      <td>Corey</td>\n",
       "      <td>Schafer</td>\n",
       "      <td>CoreyMSchafer@gmail.com</td>\n",
       "    </tr>\n",
       "    <tr>\n",
       "      <th>1</th>\n",
       "      <td>Zane</td>\n",
       "      <td>Doe</td>\n",
       "      <td>ZaneDoe@email.com</td>\n",
       "    </tr>\n",
       "  </tbody>\n",
       "</table>\n",
       "</div>"
      ],
      "text/plain": [
       "   first     last                    email\n",
       "0  Corey  Schafer  CoreyMSchafer@gmail.com\n",
       "1   Zane      Doe        ZaneDoe@email.com"
      ]
     },
     "execution_count": 79,
     "metadata": {},
     "output_type": "execute_result"
    }
   ],
   "source": [
    "first_name = ['Corey', 'Zane']\n",
    "filt1 = df1['first'].isin(first_name)\n",
    "df1.loc[filt1]"
   ]
  },
  {
   "cell_type": "code",
   "execution_count": 80,
   "metadata": {},
   "outputs": [
    {
     "data": {
      "text/html": [
       "<div>\n",
       "<style scoped>\n",
       "    .dataframe tbody tr th:only-of-type {\n",
       "        vertical-align: middle;\n",
       "    }\n",
       "\n",
       "    .dataframe tbody tr th {\n",
       "        vertical-align: top;\n",
       "    }\n",
       "\n",
       "    .dataframe thead th {\n",
       "        text-align: right;\n",
       "    }\n",
       "</style>\n",
       "<table border=\"1\" class=\"dataframe\">\n",
       "  <thead>\n",
       "    <tr style=\"text-align: right;\">\n",
       "      <th></th>\n",
       "      <th>first</th>\n",
       "      <th>last</th>\n",
       "      <th>email</th>\n",
       "    </tr>\n",
       "  </thead>\n",
       "  <tbody>\n",
       "    <tr>\n",
       "      <th>0</th>\n",
       "      <td>Corey</td>\n",
       "      <td>Schafer</td>\n",
       "      <td>CoreyMSchafer@gmail.com</td>\n",
       "    </tr>\n",
       "    <tr>\n",
       "      <th>2</th>\n",
       "      <td>John</td>\n",
       "      <td>Doe</td>\n",
       "      <td>JohnDoe@gmail.com</td>\n",
       "    </tr>\n",
       "    <tr>\n",
       "      <th>3</th>\n",
       "      <td>Matt</td>\n",
       "      <td>Zane</td>\n",
       "      <td>NaN</td>\n",
       "    </tr>\n",
       "  </tbody>\n",
       "</table>\n",
       "</div>"
      ],
      "text/plain": [
       "   first     last                    email\n",
       "0  Corey  Schafer  CoreyMSchafer@gmail.com\n",
       "2   John      Doe        JohnDoe@gmail.com\n",
       "3   Matt     Zane                      NaN"
      ]
     },
     "execution_count": 80,
     "metadata": {},
     "output_type": "execute_result"
    }
   ],
   "source": [
    "filt1 = df1['email'].str.contains('@gmail', na=True) # treats NaN as True\n",
    "df1.loc[filt1] # type is df"
   ]
  },
  {
   "cell_type": "markdown",
   "metadata": {},
   "source": [
    "## Modifying DataFrames - Updating Rows and Columns\n",
    "1. https://pandas.pydata.org/pandas-docs/stable/reference/api/pandas.DataFrame.rename.html"
   ]
  },
  {
   "cell_type": "code",
   "execution_count": 81,
   "metadata": {},
   "outputs": [
    {
     "data": {
      "text/html": [
       "<div>\n",
       "<style scoped>\n",
       "    .dataframe tbody tr th:only-of-type {\n",
       "        vertical-align: middle;\n",
       "    }\n",
       "\n",
       "    .dataframe tbody tr th {\n",
       "        vertical-align: top;\n",
       "    }\n",
       "\n",
       "    .dataframe thead th {\n",
       "        text-align: right;\n",
       "    }\n",
       "</style>\n",
       "<table border=\"1\" class=\"dataframe\">\n",
       "  <thead>\n",
       "    <tr style=\"text-align: right;\">\n",
       "      <th></th>\n",
       "      <th>first</th>\n",
       "      <th>last</th>\n",
       "      <th>email</th>\n",
       "    </tr>\n",
       "  </thead>\n",
       "  <tbody>\n",
       "    <tr>\n",
       "      <th>0</th>\n",
       "      <td>Corey</td>\n",
       "      <td>Schafer</td>\n",
       "      <td>CoreyMSchafer@gmail.com</td>\n",
       "    </tr>\n",
       "    <tr>\n",
       "      <th>1</th>\n",
       "      <td>Zane</td>\n",
       "      <td>Doe</td>\n",
       "      <td>ZaneDoe@email.com</td>\n",
       "    </tr>\n",
       "    <tr>\n",
       "      <th>2</th>\n",
       "      <td>John</td>\n",
       "      <td>Doe</td>\n",
       "      <td>JohnDoe@gmail.com</td>\n",
       "    </tr>\n",
       "    <tr>\n",
       "      <th>3</th>\n",
       "      <td>Matt</td>\n",
       "      <td>Zane</td>\n",
       "      <td>NaN</td>\n",
       "    </tr>\n",
       "  </tbody>\n",
       "</table>\n",
       "</div>"
      ],
      "text/plain": [
       "   first     last                    email\n",
       "0  Corey  Schafer  CoreyMSchafer@gmail.com\n",
       "1   Zane      Doe        ZaneDoe@email.com\n",
       "2   John      Doe        JohnDoe@gmail.com\n",
       "3   Matt     Zane                      NaN"
      ]
     },
     "execution_count": 81,
     "metadata": {},
     "output_type": "execute_result"
    }
   ],
   "source": [
    "people = {\n",
    "    \"first\": [\"Corey\", 'Zane', 'John', 'Matt'], \n",
    "    \"last\": [\"Schafer\", 'Doe', 'Doe', 'Zane'], \n",
    "    \"email\": [\"CoreyMSchafer@gmail.com\", 'ZaneDoe@email.com', 'JohnDoe@gmail.com', np.NaN]\n",
    "}\n",
    "df1 = pd.DataFrame(people)\n",
    "df1"
   ]
  },
  {
   "cell_type": "code",
   "execution_count": 82,
   "metadata": {},
   "outputs": [
    {
     "data": {
      "text/html": [
       "<div>\n",
       "<style scoped>\n",
       "    .dataframe tbody tr th:only-of-type {\n",
       "        vertical-align: middle;\n",
       "    }\n",
       "\n",
       "    .dataframe tbody tr th {\n",
       "        vertical-align: top;\n",
       "    }\n",
       "\n",
       "    .dataframe thead th {\n",
       "        text-align: right;\n",
       "    }\n",
       "</style>\n",
       "<table border=\"1\" class=\"dataframe\">\n",
       "  <thead>\n",
       "    <tr style=\"text-align: right;\">\n",
       "      <th></th>\n",
       "      <th>first_name</th>\n",
       "      <th>last_name</th>\n",
       "      <th>email_id</th>\n",
       "    </tr>\n",
       "  </thead>\n",
       "  <tbody>\n",
       "    <tr>\n",
       "      <th>A</th>\n",
       "      <td>Corey</td>\n",
       "      <td>Schafer</td>\n",
       "      <td>CoreyMSchafer@gmail.com</td>\n",
       "    </tr>\n",
       "    <tr>\n",
       "      <th>B</th>\n",
       "      <td>Zane</td>\n",
       "      <td>Doe</td>\n",
       "      <td>ZaneDoe@email.com</td>\n",
       "    </tr>\n",
       "    <tr>\n",
       "      <th>C</th>\n",
       "      <td>John</td>\n",
       "      <td>Doe</td>\n",
       "      <td>JohnDoe@gmail.com</td>\n",
       "    </tr>\n",
       "    <tr>\n",
       "      <th>D</th>\n",
       "      <td>Matt</td>\n",
       "      <td>Zane</td>\n",
       "      <td>NaN</td>\n",
       "    </tr>\n",
       "  </tbody>\n",
       "</table>\n",
       "</div>"
      ],
      "text/plain": [
       "  first_name last_name                 email_id\n",
       "A      Corey   Schafer  CoreyMSchafer@gmail.com\n",
       "B       Zane       Doe        ZaneDoe@email.com\n",
       "C       John       Doe        JohnDoe@gmail.com\n",
       "D       Matt      Zane                      NaN"
      ]
     },
     "execution_count": 82,
     "metadata": {},
     "output_type": "execute_result"
    }
   ],
   "source": [
    "# df1.columns = ['email_id', 'first_name', 'last_name'] # change column names at once\n",
    "# df1.index = ['A', 'B, 'C, 'D'] # Change all the index names at once\n",
    "# with rename we can selectively change a few without changing the others\n",
    "df1.rename(columns={\n",
    "    'email':'email_id',\n",
    "    'first':'first_name',\n",
    "    'last':'last_name'\n",
    "}, index={\n",
    "    0:'A',\n",
    "    1:'B',\n",
    "    2:'C',\n",
    "    3:'D',\n",
    "}) # mention inplace=True"
   ]
  },
  {
   "cell_type": "code",
   "execution_count": 83,
   "metadata": {},
   "outputs": [
    {
     "data": {
      "text/html": [
       "<div>\n",
       "<style scoped>\n",
       "    .dataframe tbody tr th:only-of-type {\n",
       "        vertical-align: middle;\n",
       "    }\n",
       "\n",
       "    .dataframe tbody tr th {\n",
       "        vertical-align: top;\n",
       "    }\n",
       "\n",
       "    .dataframe thead th {\n",
       "        text-align: right;\n",
       "    }\n",
       "</style>\n",
       "<table border=\"1\" class=\"dataframe\">\n",
       "  <thead>\n",
       "    <tr style=\"text-align: right;\">\n",
       "      <th></th>\n",
       "      <th>FIRST</th>\n",
       "      <th>LAST</th>\n",
       "      <th>EMAIL</th>\n",
       "    </tr>\n",
       "  </thead>\n",
       "  <tbody>\n",
       "    <tr>\n",
       "      <th>0</th>\n",
       "      <td>Corey</td>\n",
       "      <td>Schafer</td>\n",
       "      <td>CoreyMSchafer@gmail.com</td>\n",
       "    </tr>\n",
       "    <tr>\n",
       "      <th>1</th>\n",
       "      <td>Zane</td>\n",
       "      <td>Doe</td>\n",
       "      <td>ZaneDoe@email.com</td>\n",
       "    </tr>\n",
       "    <tr>\n",
       "      <th>2</th>\n",
       "      <td>John</td>\n",
       "      <td>Doe</td>\n",
       "      <td>JohnDoe@gmail.com</td>\n",
       "    </tr>\n",
       "    <tr>\n",
       "      <th>3</th>\n",
       "      <td>Matt</td>\n",
       "      <td>Zane</td>\n",
       "      <td>NaN</td>\n",
       "    </tr>\n",
       "  </tbody>\n",
       "</table>\n",
       "</div>"
      ],
      "text/plain": [
       "   FIRST     LAST                    EMAIL\n",
       "0  Corey  Schafer  CoreyMSchafer@gmail.com\n",
       "1   Zane      Doe        ZaneDoe@email.com\n",
       "2   John      Doe        JohnDoe@gmail.com\n",
       "3   Matt     Zane                      NaN"
      ]
     },
     "execution_count": 83,
     "metadata": {},
     "output_type": "execute_result"
    }
   ],
   "source": [
    "df1.rename(str.upper, axis='columns')"
   ]
  },
  {
   "cell_type": "code",
   "execution_count": 84,
   "metadata": {},
   "outputs": [
    {
     "data": {
      "text/html": [
       "<div>\n",
       "<style scoped>\n",
       "    .dataframe tbody tr th:only-of-type {\n",
       "        vertical-align: middle;\n",
       "    }\n",
       "\n",
       "    .dataframe tbody tr th {\n",
       "        vertical-align: top;\n",
       "    }\n",
       "\n",
       "    .dataframe thead th {\n",
       "        text-align: right;\n",
       "    }\n",
       "</style>\n",
       "<table border=\"1\" class=\"dataframe\">\n",
       "  <thead>\n",
       "    <tr style=\"text-align: right;\">\n",
       "      <th></th>\n",
       "      <th>First</th>\n",
       "      <th>Last</th>\n",
       "      <th>Email</th>\n",
       "    </tr>\n",
       "  </thead>\n",
       "  <tbody>\n",
       "    <tr>\n",
       "      <th>0</th>\n",
       "      <td>Corey</td>\n",
       "      <td>Schafer</td>\n",
       "      <td>CoreyMSchafer@gmail.com</td>\n",
       "    </tr>\n",
       "    <tr>\n",
       "      <th>1</th>\n",
       "      <td>Zane</td>\n",
       "      <td>Doe</td>\n",
       "      <td>ZaneDoe@email.com</td>\n",
       "    </tr>\n",
       "    <tr>\n",
       "      <th>2</th>\n",
       "      <td>John</td>\n",
       "      <td>Doe</td>\n",
       "      <td>JohnDoe@gmail.com</td>\n",
       "    </tr>\n",
       "    <tr>\n",
       "      <th>3</th>\n",
       "      <td>Matt</td>\n",
       "      <td>Zane</td>\n",
       "      <td>NaN</td>\n",
       "    </tr>\n",
       "  </tbody>\n",
       "</table>\n",
       "</div>"
      ],
      "text/plain": [
       "   First     Last                    Email\n",
       "0  Corey  Schafer  CoreyMSchafer@gmail.com\n",
       "1   Zane      Doe        ZaneDoe@email.com\n",
       "2   John      Doe        JohnDoe@gmail.com\n",
       "3   Matt     Zane                      NaN"
      ]
     },
     "execution_count": 84,
     "metadata": {},
     "output_type": "execute_result"
    }
   ],
   "source": [
    "df1.rename(str.capitalize, axis='columns')"
   ]
  },
  {
   "cell_type": "code",
   "execution_count": 85,
   "metadata": {},
   "outputs": [
    {
     "data": {
      "text/plain": [
       "Index(['first', 'last', 'Email'], dtype='object')"
      ]
     },
     "execution_count": 85,
     "metadata": {},
     "output_type": "execute_result"
    }
   ],
   "source": [
    "# can use .str on df.columns because df.columns is a pd.Series type\n",
    "df1.columns.str.replace('e','E') # helpful in replacing space to _"
   ]
  },
  {
   "cell_type": "code",
   "execution_count": 86,
   "metadata": {},
   "outputs": [
    {
     "data": {
      "text/html": [
       "<div>\n",
       "<style scoped>\n",
       "    .dataframe tbody tr th:only-of-type {\n",
       "        vertical-align: middle;\n",
       "    }\n",
       "\n",
       "    .dataframe tbody tr th {\n",
       "        vertical-align: top;\n",
       "    }\n",
       "\n",
       "    .dataframe thead th {\n",
       "        text-align: right;\n",
       "    }\n",
       "</style>\n",
       "<table border=\"1\" class=\"dataframe\">\n",
       "  <thead>\n",
       "    <tr style=\"text-align: right;\">\n",
       "      <th></th>\n",
       "      <th>first</th>\n",
       "      <th>last</th>\n",
       "      <th>email</th>\n",
       "    </tr>\n",
       "  </thead>\n",
       "  <tbody>\n",
       "    <tr>\n",
       "      <th>0</th>\n",
       "      <td>Corey</td>\n",
       "      <td>Schafer</td>\n",
       "      <td>CoreyMSchafer@gmail.com</td>\n",
       "    </tr>\n",
       "    <tr>\n",
       "      <th>1</th>\n",
       "      <td>Zane</td>\n",
       "      <td>Doe</td>\n",
       "      <td>ZaneDoe@email.com</td>\n",
       "    </tr>\n",
       "    <tr>\n",
       "      <th>2</th>\n",
       "      <td>veena</td>\n",
       "      <td>kal</td>\n",
       "      <td>JohnDoe@gmail.com</td>\n",
       "    </tr>\n",
       "    <tr>\n",
       "      <th>3</th>\n",
       "      <td>Matt</td>\n",
       "      <td>Zane</td>\n",
       "      <td>NaN</td>\n",
       "    </tr>\n",
       "  </tbody>\n",
       "</table>\n",
       "</div>"
      ],
      "text/plain": [
       "   first     last                    email\n",
       "0  Corey  Schafer  CoreyMSchafer@gmail.com\n",
       "1   Zane      Doe        ZaneDoe@email.com\n",
       "2  veena      kal        JohnDoe@gmail.com\n",
       "3   Matt     Zane                      NaN"
      ]
     },
     "execution_count": 86,
     "metadata": {},
     "output_type": "execute_result"
    }
   ],
   "source": [
    "# to replace multiple column in same row \n",
    "df1.loc[2, ['first', 'last']] = ['veena', 'kal']\n",
    "df1"
   ]
  },
  {
   "cell_type": "code",
   "execution_count": 87,
   "metadata": {},
   "outputs": [
    {
     "data": {
      "text/html": [
       "<div>\n",
       "<style scoped>\n",
       "    .dataframe tbody tr th:only-of-type {\n",
       "        vertical-align: middle;\n",
       "    }\n",
       "\n",
       "    .dataframe tbody tr th {\n",
       "        vertical-align: top;\n",
       "    }\n",
       "\n",
       "    .dataframe thead th {\n",
       "        text-align: right;\n",
       "    }\n",
       "</style>\n",
       "<table border=\"1\" class=\"dataframe\">\n",
       "  <thead>\n",
       "    <tr style=\"text-align: right;\">\n",
       "      <th></th>\n",
       "      <th>first</th>\n",
       "      <th>last</th>\n",
       "      <th>email</th>\n",
       "    </tr>\n",
       "  </thead>\n",
       "  <tbody>\n",
       "    <tr>\n",
       "      <th>0</th>\n",
       "      <td>Corey</td>\n",
       "      <td>Schafer</td>\n",
       "      <td>CoreyMSchafer@gmail.com</td>\n",
       "    </tr>\n",
       "    <tr>\n",
       "      <th>1</th>\n",
       "      <td>Zane</td>\n",
       "      <td>Doe</td>\n",
       "      <td>ZaneDoe@email.com</td>\n",
       "    </tr>\n",
       "    <tr>\n",
       "      <th>2</th>\n",
       "      <td>Zane</td>\n",
       "      <td>Doe</td>\n",
       "      <td>JohnDoe@gmail.com</td>\n",
       "    </tr>\n",
       "    <tr>\n",
       "      <th>3</th>\n",
       "      <td>Matt</td>\n",
       "      <td>Zane</td>\n",
       "      <td>NaN</td>\n",
       "    </tr>\n",
       "  </tbody>\n",
       "</table>\n",
       "</div>"
      ],
      "text/plain": [
       "   first     last                    email\n",
       "0  Corey  Schafer  CoreyMSchafer@gmail.com\n",
       "1   Zane      Doe        ZaneDoe@email.com\n",
       "2   Zane      Doe        JohnDoe@gmail.com\n",
       "3   Matt     Zane                      NaN"
      ]
     },
     "execution_count": 87,
     "metadata": {},
     "output_type": "execute_result"
    }
   ],
   "source": [
    "# replace one cell , both methods can be used\n",
    "df1.loc[2, 'first'] = 'Zane'\n",
    "df1.loc[2, 'last'] = 'Doe'\n",
    "# df1.at[2, 'first'] = 'Zane'\n",
    "# df1.at[2, 'last'] = 'Doe'\n",
    "df1"
   ]
  },
  {
   "cell_type": "code",
   "execution_count": 88,
   "metadata": {},
   "outputs": [
    {
     "data": {
      "text/html": [
       "<div>\n",
       "<style scoped>\n",
       "    .dataframe tbody tr th:only-of-type {\n",
       "        vertical-align: middle;\n",
       "    }\n",
       "\n",
       "    .dataframe tbody tr th {\n",
       "        vertical-align: top;\n",
       "    }\n",
       "\n",
       "    .dataframe thead th {\n",
       "        text-align: right;\n",
       "    }\n",
       "</style>\n",
       "<table border=\"1\" class=\"dataframe\">\n",
       "  <thead>\n",
       "    <tr style=\"text-align: right;\">\n",
       "      <th></th>\n",
       "      <th>first</th>\n",
       "      <th>last</th>\n",
       "      <th>email</th>\n",
       "    </tr>\n",
       "  </thead>\n",
       "  <tbody>\n",
       "    <tr>\n",
       "      <th>0</th>\n",
       "      <td>Corey</td>\n",
       "      <td>Schafer</td>\n",
       "      <td>coreymschafer@gmail.com</td>\n",
       "    </tr>\n",
       "    <tr>\n",
       "      <th>1</th>\n",
       "      <td>Zane</td>\n",
       "      <td>Doe</td>\n",
       "      <td>zanedoe@email.com</td>\n",
       "    </tr>\n",
       "    <tr>\n",
       "      <th>2</th>\n",
       "      <td>Zane</td>\n",
       "      <td>Doe</td>\n",
       "      <td>johndoe@gmail.com</td>\n",
       "    </tr>\n",
       "    <tr>\n",
       "      <th>3</th>\n",
       "      <td>Matt</td>\n",
       "      <td>Zane</td>\n",
       "      <td>NaN</td>\n",
       "    </tr>\n",
       "  </tbody>\n",
       "</table>\n",
       "</div>"
      ],
      "text/plain": [
       "   first     last                    email\n",
       "0  Corey  Schafer  coreymschafer@gmail.com\n",
       "1   Zane      Doe        zanedoe@email.com\n",
       "2   Zane      Doe        johndoe@gmail.com\n",
       "3   Matt     Zane                      NaN"
      ]
     },
     "execution_count": 88,
     "metadata": {},
     "output_type": "execute_result"
    }
   ],
   "source": [
    "# replace something on entire column\n",
    "df1['email'] = df1['email'].str.lower()\n",
    "# df1.loc[3,'email'] = 'matt.zane@email.com'\n",
    "df1"
   ]
  },
  {
   "cell_type": "code",
   "execution_count": 89,
   "metadata": {},
   "outputs": [],
   "source": [
    "# incase if that column appears\n",
    "# df1 = df1.drop([(3,'email')], axis='columns')"
   ]
  },
  {
   "cell_type": "code",
   "execution_count": 90,
   "metadata": {},
   "outputs": [
    {
     "data": {
      "text/html": [
       "<div>\n",
       "<style scoped>\n",
       "    .dataframe tbody tr th:only-of-type {\n",
       "        vertical-align: middle;\n",
       "    }\n",
       "\n",
       "    .dataframe tbody tr th {\n",
       "        vertical-align: top;\n",
       "    }\n",
       "\n",
       "    .dataframe thead th {\n",
       "        text-align: right;\n",
       "    }\n",
       "</style>\n",
       "<table border=\"1\" class=\"dataframe\">\n",
       "  <thead>\n",
       "    <tr style=\"text-align: right;\">\n",
       "      <th></th>\n",
       "      <th>first</th>\n",
       "      <th>last</th>\n",
       "      <th>email</th>\n",
       "    </tr>\n",
       "  </thead>\n",
       "  <tbody>\n",
       "    <tr>\n",
       "      <th>0</th>\n",
       "      <td>Corey</td>\n",
       "      <td>Schafer</td>\n",
       "      <td>NaN</td>\n",
       "    </tr>\n",
       "    <tr>\n",
       "      <th>1</th>\n",
       "      <td>Zane</td>\n",
       "      <td>Doe</td>\n",
       "      <td>NaN</td>\n",
       "    </tr>\n",
       "    <tr>\n",
       "      <th>2</th>\n",
       "      <td>Zane</td>\n",
       "      <td>Doe</td>\n",
       "      <td>NaN</td>\n",
       "    </tr>\n",
       "    <tr>\n",
       "      <th>3</th>\n",
       "      <td>Matt</td>\n",
       "      <td>Zane</td>\n",
       "      <td>NaN</td>\n",
       "    </tr>\n",
       "  </tbody>\n",
       "</table>\n",
       "</div>"
      ],
      "text/plain": [
       "   first     last  email\n",
       "0  Corey  Schafer    NaN\n",
       "1   Zane      Doe    NaN\n",
       "2   Zane      Doe    NaN\n",
       "3   Matt     Zane    NaN"
      ]
     },
     "execution_count": 90,
     "metadata": {},
     "output_type": "execute_result"
    }
   ],
   "source": [
    "# Keep this as the last cell in this section as it ulters the data\n",
    "df1['email'] = np.NaN\n",
    "df1"
   ]
  },
  {
   "cell_type": "code",
   "execution_count": 91,
   "metadata": {},
   "outputs": [
    {
     "data": {
      "text/html": [
       "<div>\n",
       "<style scoped>\n",
       "    .dataframe tbody tr th:only-of-type {\n",
       "        vertical-align: middle;\n",
       "    }\n",
       "\n",
       "    .dataframe tbody tr th {\n",
       "        vertical-align: top;\n",
       "    }\n",
       "\n",
       "    .dataframe thead th {\n",
       "        text-align: right;\n",
       "    }\n",
       "</style>\n",
       "<table border=\"1\" class=\"dataframe\">\n",
       "  <thead>\n",
       "    <tr style=\"text-align: right;\">\n",
       "      <th></th>\n",
       "      <th>first</th>\n",
       "      <th>last</th>\n",
       "      <th>email</th>\n",
       "    </tr>\n",
       "  </thead>\n",
       "  <tbody>\n",
       "    <tr>\n",
       "      <th>0</th>\n",
       "      <td>Corey</td>\n",
       "      <td>Schafer</td>\n",
       "      <td>NaN</td>\n",
       "    </tr>\n",
       "    <tr>\n",
       "      <th>1</th>\n",
       "      <td>Zane</td>\n",
       "      <td>Doe</td>\n",
       "      <td>NaN</td>\n",
       "    </tr>\n",
       "    <tr>\n",
       "      <th>2</th>\n",
       "      <td>Zane</td>\n",
       "      <td>Doe</td>\n",
       "      <td>NaN</td>\n",
       "    </tr>\n",
       "    <tr>\n",
       "      <th>3</th>\n",
       "      <td>Matt</td>\n",
       "      <td>Zane</td>\n",
       "      <td>matt.zane@email.com</td>\n",
       "    </tr>\n",
       "  </tbody>\n",
       "</table>\n",
       "</div>"
      ],
      "text/plain": [
       "   first     last                email\n",
       "0  Corey  Schafer                  NaN\n",
       "1   Zane      Doe                  NaN\n",
       "2   Zane      Doe                  NaN\n",
       "3   Matt     Zane  matt.zane@email.com"
      ]
     },
     "execution_count": 91,
     "metadata": {},
     "output_type": "execute_result"
    }
   ],
   "source": [
    "df1.loc[3,'email'] = 'matt.zane@email.com'\n",
    "df1['email'] = df1['email'].str.lower()\n",
    "df1"
   ]
  },
  {
   "cell_type": "markdown",
   "metadata": {},
   "source": [
    "### apply, map, applymap, replace methods\n",
    "1. __Apply__: This function can be applied on both series and df. When applied on series it applied to each element in the series and when applied on df it applies to each Series of the df given the axis direction\n",
    "    * But if you have a NaN (which is considered as float)  as one of the value in you series or df  and you are performing a str.operation() then it will through a error. \n",
    "2. __Applymap__ : This function is used to apply a function to all the elements of a DATAFRAME ONLY.\n",
    "3. __Map__ : Map method works on SERIES ONLY. It is used to subsitute a value in series with another value. But the untouched values are replaced with NaNs.\n",
    "4. __Replace__ : Same as map but just that it does not change the untouched elements to NaN.\n",
    "5. Check the second answer - https://stackoverflow.com/questions/19798153/difference-between-map-applymap-and-apply-methods-in-pandas"
   ]
  },
  {
   "cell_type": "code",
   "execution_count": 92,
   "metadata": {},
   "outputs": [
    {
     "data": {
      "text/html": [
       "<div>\n",
       "<style scoped>\n",
       "    .dataframe tbody tr th:only-of-type {\n",
       "        vertical-align: middle;\n",
       "    }\n",
       "\n",
       "    .dataframe tbody tr th {\n",
       "        vertical-align: top;\n",
       "    }\n",
       "\n",
       "    .dataframe thead th {\n",
       "        text-align: right;\n",
       "    }\n",
       "</style>\n",
       "<table border=\"1\" class=\"dataframe\">\n",
       "  <thead>\n",
       "    <tr style=\"text-align: right;\">\n",
       "      <th></th>\n",
       "      <th>first</th>\n",
       "      <th>last</th>\n",
       "      <th>email</th>\n",
       "      <th>salary</th>\n",
       "    </tr>\n",
       "  </thead>\n",
       "  <tbody>\n",
       "    <tr>\n",
       "      <th>C</th>\n",
       "      <td>Corey</td>\n",
       "      <td>Schafer</td>\n",
       "      <td>CoreyMSchafer@gmail.com</td>\n",
       "      <td>4</td>\n",
       "    </tr>\n",
       "    <tr>\n",
       "      <th>Z</th>\n",
       "      <td>Zane</td>\n",
       "      <td>Doe</td>\n",
       "      <td>ZaneDoe@email.com</td>\n",
       "      <td>5</td>\n",
       "    </tr>\n",
       "    <tr>\n",
       "      <th>J</th>\n",
       "      <td>John</td>\n",
       "      <td>Doe</td>\n",
       "      <td>JohnDoe@gmail.com</td>\n",
       "      <td>2</td>\n",
       "    </tr>\n",
       "    <tr>\n",
       "      <th>M</th>\n",
       "      <td>Matt</td>\n",
       "      <td>Zane</td>\n",
       "      <td>Matt.Zane@email.com</td>\n",
       "      <td>8</td>\n",
       "    </tr>\n",
       "  </tbody>\n",
       "</table>\n",
       "</div>"
      ],
      "text/plain": [
       "   first     last                    email  salary\n",
       "C  Corey  Schafer  CoreyMSchafer@gmail.com       4\n",
       "Z   Zane      Doe        ZaneDoe@email.com       5\n",
       "J   John      Doe        JohnDoe@gmail.com       2\n",
       "M   Matt     Zane      Matt.Zane@email.com       8"
      ]
     },
     "execution_count": 92,
     "metadata": {},
     "output_type": "execute_result"
    }
   ],
   "source": [
    "people = {\n",
    "    \"first\": [\"Corey\", 'Zane', 'John', 'Matt'], \n",
    "    \"last\": [\"Schafer\", 'Doe', 'Doe', 'Zane'], \n",
    "    \"email\": [\"CoreyMSchafer@gmail.com\", 'ZaneDoe@email.com', 'JohnDoe@gmail.com', 'Matt.Zane@email.com'],\n",
    "    \"salary\": [4,5,2,8]\n",
    "}\n",
    "df1 = pd.DataFrame(people, index=list('CZJM'))\n",
    "df1"
   ]
  },
  {
   "cell_type": "code",
   "execution_count": 93,
   "metadata": {},
   "outputs": [],
   "source": [
    "def len_email(email):\n",
    "    return len(email)"
   ]
  },
  {
   "cell_type": "code",
   "execution_count": 94,
   "metadata": {},
   "outputs": [
    {
     "data": {
      "text/plain": [
       "C    23\n",
       "Z    17\n",
       "J    17\n",
       "M    19\n",
       "Name: email, dtype: int64"
      ]
     },
     "execution_count": 94,
     "metadata": {},
     "output_type": "execute_result"
    }
   ],
   "source": [
    "# on series\n",
    "df1['email'].apply(len) # same as below code\n",
    "df1['email'].apply(len_email) # use a lambda function instead\n",
    "# df1['email'].map(len) # same as above\n"
   ]
  },
  {
   "cell_type": "code",
   "execution_count": 95,
   "metadata": {},
   "outputs": [
    {
     "data": {
      "text/plain": [
       "C    4\n",
       "Z    4\n",
       "J    4\n",
       "M    4\n",
       "dtype: int64"
      ]
     },
     "execution_count": 95,
     "metadata": {},
     "output_type": "execute_result"
    }
   ],
   "source": [
    "# on DataFrame\n",
    "df1.apply(len) # default is rows\n",
    "df1.apply(len, axis='columns')"
   ]
  },
  {
   "cell_type": "code",
   "execution_count": 96,
   "metadata": {},
   "outputs": [
    {
     "data": {
      "text/plain": [
       "first                       Corey\n",
       "last                          Doe\n",
       "email     CoreyMSchafer@gmail.com\n",
       "salary                          2\n",
       "dtype: object"
      ]
     },
     "execution_count": 96,
     "metadata": {},
     "output_type": "execute_result"
    }
   ],
   "source": [
    "# get the min of each row in df\n",
    "# df1.apply(pd.Series.min, axis='columns') # this will through a error for 'columns' as both int and string are in same rows\n",
    "# if it was only str or only int it will work\n",
    "df1.apply(min, axis='rows')"
   ]
  },
  {
   "cell_type": "code",
   "execution_count": 97,
   "metadata": {},
   "outputs": [],
   "source": [
    "df1.drop(['salary'], axis='columns', inplace=True)"
   ]
  },
  {
   "cell_type": "code",
   "execution_count": 98,
   "metadata": {},
   "outputs": [
    {
     "data": {
      "text/html": [
       "<div>\n",
       "<style scoped>\n",
       "    .dataframe tbody tr th:only-of-type {\n",
       "        vertical-align: middle;\n",
       "    }\n",
       "\n",
       "    .dataframe tbody tr th {\n",
       "        vertical-align: top;\n",
       "    }\n",
       "\n",
       "    .dataframe thead th {\n",
       "        text-align: right;\n",
       "    }\n",
       "</style>\n",
       "<table border=\"1\" class=\"dataframe\">\n",
       "  <thead>\n",
       "    <tr style=\"text-align: right;\">\n",
       "      <th></th>\n",
       "      <th>first</th>\n",
       "      <th>last</th>\n",
       "      <th>email</th>\n",
       "    </tr>\n",
       "  </thead>\n",
       "  <tbody>\n",
       "    <tr>\n",
       "      <th>C</th>\n",
       "      <td>5</td>\n",
       "      <td>7</td>\n",
       "      <td>23</td>\n",
       "    </tr>\n",
       "    <tr>\n",
       "      <th>Z</th>\n",
       "      <td>4</td>\n",
       "      <td>3</td>\n",
       "      <td>17</td>\n",
       "    </tr>\n",
       "    <tr>\n",
       "      <th>J</th>\n",
       "      <td>4</td>\n",
       "      <td>3</td>\n",
       "      <td>17</td>\n",
       "    </tr>\n",
       "    <tr>\n",
       "      <th>M</th>\n",
       "      <td>4</td>\n",
       "      <td>4</td>\n",
       "      <td>19</td>\n",
       "    </tr>\n",
       "  </tbody>\n",
       "</table>\n",
       "</div>"
      ],
      "text/plain": [
       "   first  last  email\n",
       "C      5     7     23\n",
       "Z      4     3     17\n",
       "J      4     3     17\n",
       "M      4     4     19"
      ]
     },
     "execution_count": 98,
     "metadata": {},
     "output_type": "execute_result"
    }
   ],
   "source": [
    "# on all elements of df\n",
    "df1.applymap(len)"
   ]
  },
  {
   "cell_type": "code",
   "execution_count": 99,
   "metadata": {},
   "outputs": [
    {
     "data": {
      "text/plain": [
       "C    Chris\n",
       "Z      NaN\n",
       "J     Mary\n",
       "M      NaN\n",
       "Name: first, dtype: object"
      ]
     },
     "execution_count": 99,
     "metadata": {},
     "output_type": "execute_result"
    }
   ],
   "source": [
    "# notice how the untouched elements are replaced with NaN. \n",
    "df1['first'].map({'Corey':'Chris', 'John':'Mary'}) # assign it back to df['first'] to see it in df"
   ]
  },
  {
   "cell_type": "code",
   "execution_count": 100,
   "metadata": {},
   "outputs": [
    {
     "data": {
      "text/plain": [
       "C    Corey\n",
       "Z     Zane\n",
       "J     Mary\n",
       "M     Matt\n",
       "Name: first, dtype: object"
      ]
     },
     "execution_count": 100,
     "metadata": {},
     "output_type": "execute_result"
    }
   ],
   "source": [
    "df1['first'].replace({'Chorey':'Chris', 'John':'Mary'})"
   ]
  },
  {
   "cell_type": "markdown",
   "metadata": {},
   "source": [
    "### Adding / Deleting Rows and Columns"
   ]
  },
  {
   "cell_type": "code",
   "execution_count": 101,
   "metadata": {},
   "outputs": [
    {
     "data": {
      "text/html": [
       "<div>\n",
       "<style scoped>\n",
       "    .dataframe tbody tr th:only-of-type {\n",
       "        vertical-align: middle;\n",
       "    }\n",
       "\n",
       "    .dataframe tbody tr th {\n",
       "        vertical-align: top;\n",
       "    }\n",
       "\n",
       "    .dataframe thead th {\n",
       "        text-align: right;\n",
       "    }\n",
       "</style>\n",
       "<table border=\"1\" class=\"dataframe\">\n",
       "  <thead>\n",
       "    <tr style=\"text-align: right;\">\n",
       "      <th></th>\n",
       "      <th>first</th>\n",
       "      <th>last</th>\n",
       "      <th>email</th>\n",
       "      <th>full_name</th>\n",
       "    </tr>\n",
       "  </thead>\n",
       "  <tbody>\n",
       "    <tr>\n",
       "      <th>C</th>\n",
       "      <td>Corey</td>\n",
       "      <td>Schafer</td>\n",
       "      <td>CoreyMSchafer@gmail.com</td>\n",
       "      <td>Corey Schafer</td>\n",
       "    </tr>\n",
       "    <tr>\n",
       "      <th>Z</th>\n",
       "      <td>Zane</td>\n",
       "      <td>Doe</td>\n",
       "      <td>ZaneDoe@email.com</td>\n",
       "      <td>Zane Doe</td>\n",
       "    </tr>\n",
       "    <tr>\n",
       "      <th>J</th>\n",
       "      <td>John</td>\n",
       "      <td>Doe</td>\n",
       "      <td>JohnDoe@gmail.com</td>\n",
       "      <td>John Doe</td>\n",
       "    </tr>\n",
       "    <tr>\n",
       "      <th>M</th>\n",
       "      <td>Matt</td>\n",
       "      <td>Zane</td>\n",
       "      <td>Matt.Zane@email.com</td>\n",
       "      <td>Matt Zane</td>\n",
       "    </tr>\n",
       "  </tbody>\n",
       "</table>\n",
       "</div>"
      ],
      "text/plain": [
       "   first     last                    email      full_name\n",
       "C  Corey  Schafer  CoreyMSchafer@gmail.com  Corey Schafer\n",
       "Z   Zane      Doe        ZaneDoe@email.com       Zane Doe\n",
       "J   John      Doe        JohnDoe@gmail.com       John Doe\n",
       "M   Matt     Zane      Matt.Zane@email.com      Matt Zane"
      ]
     },
     "execution_count": 101,
     "metadata": {},
     "output_type": "execute_result"
    }
   ],
   "source": [
    "people = {\n",
    "    \"first\": [\"Corey\", 'Zane', 'John', 'Matt'], \n",
    "    \"last\": [\"Schafer\", 'Doe', 'Doe', 'Zane'], \n",
    "    \"email\": [\"CoreyMSchafer@gmail.com\", 'ZaneDoe@email.com', 'JohnDoe@gmail.com', 'Matt.Zane@email.com'],\n",
    "}\n",
    "df1 = pd.DataFrame(people, index=list('CZJM'))\n",
    "# adding a column\n",
    "df1['full_name'] = df1['first'] + ' ' + df1['last']\n",
    "df1"
   ]
  },
  {
   "cell_type": "code",
   "execution_count": 102,
   "metadata": {},
   "outputs": [
    {
     "data": {
      "text/html": [
       "<div>\n",
       "<style scoped>\n",
       "    .dataframe tbody tr th:only-of-type {\n",
       "        vertical-align: middle;\n",
       "    }\n",
       "\n",
       "    .dataframe tbody tr th {\n",
       "        vertical-align: top;\n",
       "    }\n",
       "\n",
       "    .dataframe thead th {\n",
       "        text-align: right;\n",
       "    }\n",
       "</style>\n",
       "<table border=\"1\" class=\"dataframe\">\n",
       "  <thead>\n",
       "    <tr style=\"text-align: right;\">\n",
       "      <th></th>\n",
       "      <th>email</th>\n",
       "      <th>full_name</th>\n",
       "    </tr>\n",
       "  </thead>\n",
       "  <tbody>\n",
       "    <tr>\n",
       "      <th>C</th>\n",
       "      <td>CoreyMSchafer@gmail.com</td>\n",
       "      <td>Corey Schafer</td>\n",
       "    </tr>\n",
       "    <tr>\n",
       "      <th>Z</th>\n",
       "      <td>ZaneDoe@email.com</td>\n",
       "      <td>Zane Doe</td>\n",
       "    </tr>\n",
       "    <tr>\n",
       "      <th>J</th>\n",
       "      <td>JohnDoe@gmail.com</td>\n",
       "      <td>John Doe</td>\n",
       "    </tr>\n",
       "    <tr>\n",
       "      <th>M</th>\n",
       "      <td>Matt.Zane@email.com</td>\n",
       "      <td>Matt Zane</td>\n",
       "    </tr>\n",
       "  </tbody>\n",
       "</table>\n",
       "</div>"
      ],
      "text/plain": [
       "                     email      full_name\n",
       "C  CoreyMSchafer@gmail.com  Corey Schafer\n",
       "Z        ZaneDoe@email.com       Zane Doe\n",
       "J        JohnDoe@gmail.com       John Doe\n",
       "M      Matt.Zane@email.com      Matt Zane"
      ]
     },
     "execution_count": 102,
     "metadata": {},
     "output_type": "execute_result"
    }
   ],
   "source": [
    "# df1.drop(columns=['first', 'last'], inplace=True) # need to use axis='columns' if columns=[] is not used/\n",
    "df1.drop(['first', 'last'], axis = 'columns', inplace=True) # same as above\n",
    "df1"
   ]
  },
  {
   "cell_type": "code",
   "execution_count": 103,
   "metadata": {},
   "outputs": [
    {
     "data": {
      "text/plain": [
       "C    [Corey, Schafer]\n",
       "Z         [Zane, Doe]\n",
       "J         [John, Doe]\n",
       "M        [Matt, Zane]\n",
       "Name: full_name, dtype: object"
      ]
     },
     "execution_count": 103,
     "metadata": {},
     "output_type": "execute_result"
    }
   ],
   "source": [
    "df1['full_name'].str.split(' ') #this gives a list \n",
    "df1['full_name'].str.split() # by default splitting is done on space\n",
    "# df1"
   ]
  },
  {
   "cell_type": "code",
   "execution_count": 104,
   "metadata": {},
   "outputs": [
    {
     "data": {
      "text/html": [
       "<div>\n",
       "<style scoped>\n",
       "    .dataframe tbody tr th:only-of-type {\n",
       "        vertical-align: middle;\n",
       "    }\n",
       "\n",
       "    .dataframe tbody tr th {\n",
       "        vertical-align: top;\n",
       "    }\n",
       "\n",
       "    .dataframe thead th {\n",
       "        text-align: right;\n",
       "    }\n",
       "</style>\n",
       "<table border=\"1\" class=\"dataframe\">\n",
       "  <thead>\n",
       "    <tr style=\"text-align: right;\">\n",
       "      <th></th>\n",
       "      <th>0</th>\n",
       "      <th>1</th>\n",
       "    </tr>\n",
       "  </thead>\n",
       "  <tbody>\n",
       "    <tr>\n",
       "      <th>C</th>\n",
       "      <td>Corey</td>\n",
       "      <td>Schafer</td>\n",
       "    </tr>\n",
       "    <tr>\n",
       "      <th>Z</th>\n",
       "      <td>Zane</td>\n",
       "      <td>Doe</td>\n",
       "    </tr>\n",
       "    <tr>\n",
       "      <th>J</th>\n",
       "      <td>John</td>\n",
       "      <td>Doe</td>\n",
       "    </tr>\n",
       "    <tr>\n",
       "      <th>M</th>\n",
       "      <td>Matt</td>\n",
       "      <td>Zane</td>\n",
       "    </tr>\n",
       "  </tbody>\n",
       "</table>\n",
       "</div>"
      ],
      "text/plain": [
       "       0        1\n",
       "C  Corey  Schafer\n",
       "Z   Zane      Doe\n",
       "J   John      Doe\n",
       "M   Matt     Zane"
      ]
     },
     "execution_count": 104,
     "metadata": {},
     "output_type": "execute_result"
    }
   ],
   "source": [
    "df1['full_name'].str.split(' ', expand=True) # if Expand =True gives the result as df, if False it will return series"
   ]
  },
  {
   "cell_type": "code",
   "execution_count": 105,
   "metadata": {},
   "outputs": [
    {
     "data": {
      "text/html": [
       "<div>\n",
       "<style scoped>\n",
       "    .dataframe tbody tr th:only-of-type {\n",
       "        vertical-align: middle;\n",
       "    }\n",
       "\n",
       "    .dataframe tbody tr th {\n",
       "        vertical-align: top;\n",
       "    }\n",
       "\n",
       "    .dataframe thead th {\n",
       "        text-align: right;\n",
       "    }\n",
       "</style>\n",
       "<table border=\"1\" class=\"dataframe\">\n",
       "  <thead>\n",
       "    <tr style=\"text-align: right;\">\n",
       "      <th></th>\n",
       "      <th>email</th>\n",
       "      <th>full_name</th>\n",
       "      <th>First</th>\n",
       "      <th>Last</th>\n",
       "    </tr>\n",
       "  </thead>\n",
       "  <tbody>\n",
       "    <tr>\n",
       "      <th>C</th>\n",
       "      <td>CoreyMSchafer@gmail.com</td>\n",
       "      <td>Corey Schafer</td>\n",
       "      <td>Corey</td>\n",
       "      <td>Schafer</td>\n",
       "    </tr>\n",
       "    <tr>\n",
       "      <th>Z</th>\n",
       "      <td>ZaneDoe@email.com</td>\n",
       "      <td>Zane Doe</td>\n",
       "      <td>Zane</td>\n",
       "      <td>Doe</td>\n",
       "    </tr>\n",
       "    <tr>\n",
       "      <th>J</th>\n",
       "      <td>JohnDoe@gmail.com</td>\n",
       "      <td>John Doe</td>\n",
       "      <td>John</td>\n",
       "      <td>Doe</td>\n",
       "    </tr>\n",
       "    <tr>\n",
       "      <th>M</th>\n",
       "      <td>Matt.Zane@email.com</td>\n",
       "      <td>Matt Zane</td>\n",
       "      <td>Matt</td>\n",
       "      <td>Zane</td>\n",
       "    </tr>\n",
       "  </tbody>\n",
       "</table>\n",
       "</div>"
      ],
      "text/plain": [
       "                     email      full_name  First     Last\n",
       "C  CoreyMSchafer@gmail.com  Corey Schafer  Corey  Schafer\n",
       "Z        ZaneDoe@email.com       Zane Doe   Zane      Doe\n",
       "J        JohnDoe@gmail.com       John Doe   John      Doe\n",
       "M      Matt.Zane@email.com      Matt Zane   Matt     Zane"
      ]
     },
     "execution_count": 105,
     "metadata": {},
     "output_type": "execute_result"
    }
   ],
   "source": [
    "df1[['First', 'Last']] = df1['full_name'].str.split(' ', expand=True)\n",
    "df1"
   ]
  },
  {
   "cell_type": "code",
   "execution_count": 106,
   "metadata": {},
   "outputs": [
    {
     "data": {
      "text/html": [
       "<div>\n",
       "<style scoped>\n",
       "    .dataframe tbody tr th:only-of-type {\n",
       "        vertical-align: middle;\n",
       "    }\n",
       "\n",
       "    .dataframe tbody tr th {\n",
       "        vertical-align: top;\n",
       "    }\n",
       "\n",
       "    .dataframe thead th {\n",
       "        text-align: right;\n",
       "    }\n",
       "</style>\n",
       "<table border=\"1\" class=\"dataframe\">\n",
       "  <thead>\n",
       "    <tr style=\"text-align: right;\">\n",
       "      <th></th>\n",
       "      <th>email</th>\n",
       "      <th>full_name</th>\n",
       "      <th>First</th>\n",
       "      <th>Last</th>\n",
       "    </tr>\n",
       "  </thead>\n",
       "  <tbody>\n",
       "    <tr>\n",
       "      <th>0</th>\n",
       "      <td>CoreyMSchafer@gmail.com</td>\n",
       "      <td>Corey Schafer</td>\n",
       "      <td>Corey</td>\n",
       "      <td>Schafer</td>\n",
       "    </tr>\n",
       "    <tr>\n",
       "      <th>1</th>\n",
       "      <td>ZaneDoe@email.com</td>\n",
       "      <td>Zane Doe</td>\n",
       "      <td>Zane</td>\n",
       "      <td>Doe</td>\n",
       "    </tr>\n",
       "    <tr>\n",
       "      <th>2</th>\n",
       "      <td>JohnDoe@gmail.com</td>\n",
       "      <td>John Doe</td>\n",
       "      <td>John</td>\n",
       "      <td>Doe</td>\n",
       "    </tr>\n",
       "    <tr>\n",
       "      <th>3</th>\n",
       "      <td>Matt.Zane@email.com</td>\n",
       "      <td>Matt Zane</td>\n",
       "      <td>Matt</td>\n",
       "      <td>Zane</td>\n",
       "    </tr>\n",
       "  </tbody>\n",
       "</table>\n",
       "</div>"
      ],
      "text/plain": [
       "                     email      full_name  First     Last\n",
       "0  CoreyMSchafer@gmail.com  Corey Schafer  Corey  Schafer\n",
       "1        ZaneDoe@email.com       Zane Doe   Zane      Doe\n",
       "2        JohnDoe@gmail.com       John Doe   John      Doe\n",
       "3      Matt.Zane@email.com      Matt Zane   Matt     Zane"
      ]
     },
     "execution_count": 106,
     "metadata": {},
     "output_type": "execute_result"
    }
   ],
   "source": [
    "df1.reset_index(inplace=True, drop=True) #drop=True drops the previous index\n",
    "df1"
   ]
  },
  {
   "cell_type": "code",
   "execution_count": 107,
   "metadata": {},
   "outputs": [
    {
     "data": {
      "text/html": [
       "<div>\n",
       "<style scoped>\n",
       "    .dataframe tbody tr th:only-of-type {\n",
       "        vertical-align: middle;\n",
       "    }\n",
       "\n",
       "    .dataframe tbody tr th {\n",
       "        vertical-align: top;\n",
       "    }\n",
       "\n",
       "    .dataframe thead th {\n",
       "        text-align: right;\n",
       "    }\n",
       "</style>\n",
       "<table border=\"1\" class=\"dataframe\">\n",
       "  <thead>\n",
       "    <tr style=\"text-align: right;\">\n",
       "      <th></th>\n",
       "      <th>email</th>\n",
       "      <th>First</th>\n",
       "      <th>Last</th>\n",
       "    </tr>\n",
       "  </thead>\n",
       "  <tbody>\n",
       "    <tr>\n",
       "      <th>0</th>\n",
       "      <td>CoreyMSchafer@gmail.com</td>\n",
       "      <td>Corey</td>\n",
       "      <td>Schafer</td>\n",
       "    </tr>\n",
       "    <tr>\n",
       "      <th>1</th>\n",
       "      <td>ZaneDoe@email.com</td>\n",
       "      <td>Zane</td>\n",
       "      <td>Doe</td>\n",
       "    </tr>\n",
       "    <tr>\n",
       "      <th>2</th>\n",
       "      <td>JohnDoe@gmail.com</td>\n",
       "      <td>John</td>\n",
       "      <td>Doe</td>\n",
       "    </tr>\n",
       "    <tr>\n",
       "      <th>3</th>\n",
       "      <td>Matt.Zane@email.com</td>\n",
       "      <td>Matt</td>\n",
       "      <td>Zane</td>\n",
       "    </tr>\n",
       "  </tbody>\n",
       "</table>\n",
       "</div>"
      ],
      "text/plain": [
       "                     email  First     Last\n",
       "0  CoreyMSchafer@gmail.com  Corey  Schafer\n",
       "1        ZaneDoe@email.com   Zane      Doe\n",
       "2        JohnDoe@gmail.com   John      Doe\n",
       "3      Matt.Zane@email.com   Matt     Zane"
      ]
     },
     "execution_count": 107,
     "metadata": {},
     "output_type": "execute_result"
    }
   ],
   "source": [
    "df1.drop(columns=['full_name'], inplace=True) # add 'index' if it appears\n",
    "df1"
   ]
  },
  {
   "cell_type": "code",
   "execution_count": 108,
   "metadata": {},
   "outputs": [
    {
     "data": {
      "text/html": [
       "<div>\n",
       "<style scoped>\n",
       "    .dataframe tbody tr th:only-of-type {\n",
       "        vertical-align: middle;\n",
       "    }\n",
       "\n",
       "    .dataframe tbody tr th {\n",
       "        vertical-align: top;\n",
       "    }\n",
       "\n",
       "    .dataframe thead th {\n",
       "        text-align: right;\n",
       "    }\n",
       "</style>\n",
       "<table border=\"1\" class=\"dataframe\">\n",
       "  <thead>\n",
       "    <tr style=\"text-align: right;\">\n",
       "      <th></th>\n",
       "      <th>email</th>\n",
       "      <th>First</th>\n",
       "      <th>Last</th>\n",
       "    </tr>\n",
       "  </thead>\n",
       "  <tbody>\n",
       "    <tr>\n",
       "      <th>0</th>\n",
       "      <td>CoreyMSchafer@gmail.com</td>\n",
       "      <td>Corey</td>\n",
       "      <td>Schafer</td>\n",
       "    </tr>\n",
       "    <tr>\n",
       "      <th>1</th>\n",
       "      <td>ZaneDoe@email.com</td>\n",
       "      <td>Zane</td>\n",
       "      <td>Doe</td>\n",
       "    </tr>\n",
       "    <tr>\n",
       "      <th>2</th>\n",
       "      <td>JohnDoe@gmail.com</td>\n",
       "      <td>John</td>\n",
       "      <td>Doe</td>\n",
       "    </tr>\n",
       "    <tr>\n",
       "      <th>3</th>\n",
       "      <td>Matt.Zane@email.com</td>\n",
       "      <td>Matt</td>\n",
       "      <td>Zane</td>\n",
       "    </tr>\n",
       "    <tr>\n",
       "      <th>4</th>\n",
       "      <td>NaN</td>\n",
       "      <td>Naina</td>\n",
       "      <td>NaN</td>\n",
       "    </tr>\n",
       "  </tbody>\n",
       "</table>\n",
       "</div>"
      ],
      "text/plain": [
       "                     email  First     Last\n",
       "0  CoreyMSchafer@gmail.com  Corey  Schafer\n",
       "1        ZaneDoe@email.com   Zane      Doe\n",
       "2        JohnDoe@gmail.com   John      Doe\n",
       "3      Matt.Zane@email.com   Matt     Zane\n",
       "4                      NaN  Naina      NaN"
      ]
     },
     "execution_count": 108,
     "metadata": {},
     "output_type": "execute_result"
    }
   ],
   "source": [
    "# ignore_index=True is required when we are trying to add a row to a dataframe which is not explicitly indexed.\n",
    "# df1.append({'First':'Naina'}, ignore_index=False) # this will throw a error ' Can only append a dict if ignore_index=True'\n",
    "df1.append({'First':'Naina'}, ignore_index=True)\n",
    "# df1.append([{'First':'Seema'}], ignore_index=False)"
   ]
  },
  {
   "cell_type": "code",
   "execution_count": 109,
   "metadata": {},
   "outputs": [
    {
     "data": {
      "text/html": [
       "<div>\n",
       "<style scoped>\n",
       "    .dataframe tbody tr th:only-of-type {\n",
       "        vertical-align: middle;\n",
       "    }\n",
       "\n",
       "    .dataframe tbody tr th {\n",
       "        vertical-align: top;\n",
       "    }\n",
       "\n",
       "    .dataframe thead th {\n",
       "        text-align: right;\n",
       "    }\n",
       "</style>\n",
       "<table border=\"1\" class=\"dataframe\">\n",
       "  <thead>\n",
       "    <tr style=\"text-align: right;\">\n",
       "      <th></th>\n",
       "      <th>First</th>\n",
       "      <th>Last</th>\n",
       "      <th>email</th>\n",
       "    </tr>\n",
       "  </thead>\n",
       "  <tbody>\n",
       "    <tr>\n",
       "      <th>0</th>\n",
       "      <td>Seema</td>\n",
       "      <td>Sony</td>\n",
       "      <td>Seema.Sony@email.com</td>\n",
       "    </tr>\n",
       "  </tbody>\n",
       "</table>\n",
       "</div>"
      ],
      "text/plain": [
       "   First  Last                 email\n",
       "0  Seema  Sony  Seema.Sony@email.com"
      ]
     },
     "execution_count": 109,
     "metadata": {},
     "output_type": "execute_result"
    }
   ],
   "source": [
    "# append a df to another df\n",
    "info = {'First': 'Seema', 'Last':'Sony', 'email':'Seema.Sony@email.com'}\n",
    "temp = pd.DataFrame(data=[info])\n",
    "temp"
   ]
  },
  {
   "cell_type": "code",
   "execution_count": 110,
   "metadata": {},
   "outputs": [
    {
     "data": {
      "text/html": [
       "<div>\n",
       "<style scoped>\n",
       "    .dataframe tbody tr th:only-of-type {\n",
       "        vertical-align: middle;\n",
       "    }\n",
       "\n",
       "    .dataframe tbody tr th {\n",
       "        vertical-align: top;\n",
       "    }\n",
       "\n",
       "    .dataframe thead th {\n",
       "        text-align: right;\n",
       "    }\n",
       "</style>\n",
       "<table border=\"1\" class=\"dataframe\">\n",
       "  <thead>\n",
       "    <tr style=\"text-align: right;\">\n",
       "      <th></th>\n",
       "      <th>email</th>\n",
       "      <th>First</th>\n",
       "      <th>Last</th>\n",
       "    </tr>\n",
       "  </thead>\n",
       "  <tbody>\n",
       "    <tr>\n",
       "      <th>0</th>\n",
       "      <td>CoreyMSchafer@gmail.com</td>\n",
       "      <td>Corey</td>\n",
       "      <td>Schafer</td>\n",
       "    </tr>\n",
       "    <tr>\n",
       "      <th>1</th>\n",
       "      <td>ZaneDoe@email.com</td>\n",
       "      <td>Zane</td>\n",
       "      <td>Doe</td>\n",
       "    </tr>\n",
       "    <tr>\n",
       "      <th>2</th>\n",
       "      <td>JohnDoe@gmail.com</td>\n",
       "      <td>John</td>\n",
       "      <td>Doe</td>\n",
       "    </tr>\n",
       "    <tr>\n",
       "      <th>3</th>\n",
       "      <td>Matt.Zane@email.com</td>\n",
       "      <td>Matt</td>\n",
       "      <td>Zane</td>\n",
       "    </tr>\n",
       "    <tr>\n",
       "      <th>4</th>\n",
       "      <td>Seema.Sony@email.com</td>\n",
       "      <td>Seema</td>\n",
       "      <td>Sony</td>\n",
       "    </tr>\n",
       "  </tbody>\n",
       "</table>\n",
       "</div>"
      ],
      "text/plain": [
       "                     email  First     Last\n",
       "0  CoreyMSchafer@gmail.com  Corey  Schafer\n",
       "1        ZaneDoe@email.com   Zane      Doe\n",
       "2        JohnDoe@gmail.com   John      Doe\n",
       "3      Matt.Zane@email.com   Matt     Zane\n",
       "4     Seema.Sony@email.com  Seema     Sony"
      ]
     },
     "execution_count": 110,
     "metadata": {},
     "output_type": "execute_result"
    }
   ],
   "source": [
    "# Point to note here is the temp df has the same index as df1, so we will ignore_index=True\n",
    "# Also the columns are not in same order, so pandas will warn us about it\n",
    "df1 = df1.append(temp, ignore_index=True)\n",
    "# this append method does not have a inplace argument\n",
    "df1"
   ]
  },
  {
   "cell_type": "code",
   "execution_count": 111,
   "metadata": {},
   "outputs": [
    {
     "data": {
      "text/html": [
       "<div>\n",
       "<style scoped>\n",
       "    .dataframe tbody tr th:only-of-type {\n",
       "        vertical-align: middle;\n",
       "    }\n",
       "\n",
       "    .dataframe tbody tr th {\n",
       "        vertical-align: top;\n",
       "    }\n",
       "\n",
       "    .dataframe thead th {\n",
       "        text-align: right;\n",
       "    }\n",
       "</style>\n",
       "<table border=\"1\" class=\"dataframe\">\n",
       "  <thead>\n",
       "    <tr style=\"text-align: right;\">\n",
       "      <th></th>\n",
       "      <th>email</th>\n",
       "      <th>First</th>\n",
       "      <th>Last</th>\n",
       "    </tr>\n",
       "  </thead>\n",
       "  <tbody>\n",
       "    <tr>\n",
       "      <th>0</th>\n",
       "      <td>CoreyMSchafer@gmail.com</td>\n",
       "      <td>Corey</td>\n",
       "      <td>Schafer</td>\n",
       "    </tr>\n",
       "    <tr>\n",
       "      <th>1</th>\n",
       "      <td>ZaneDoe@email.com</td>\n",
       "      <td>Zane</td>\n",
       "      <td>Doe</td>\n",
       "    </tr>\n",
       "    <tr>\n",
       "      <th>2</th>\n",
       "      <td>JohnDoe@gmail.com</td>\n",
       "      <td>John</td>\n",
       "      <td>Doe</td>\n",
       "    </tr>\n",
       "    <tr>\n",
       "      <th>3</th>\n",
       "      <td>Matt.Zane@email.com</td>\n",
       "      <td>Matt</td>\n",
       "      <td>Zane</td>\n",
       "    </tr>\n",
       "  </tbody>\n",
       "</table>\n",
       "</div>"
      ],
      "text/plain": [
       "                     email  First     Last\n",
       "0  CoreyMSchafer@gmail.com  Corey  Schafer\n",
       "1        ZaneDoe@email.com   Zane      Doe\n",
       "2        JohnDoe@gmail.com   John      Doe\n",
       "3      Matt.Zane@email.com   Matt     Zane"
      ]
     },
     "execution_count": 111,
     "metadata": {},
     "output_type": "execute_result"
    }
   ],
   "source": [
    "df1.drop(index=4) # same as below code\n",
    "filt = df1['First']=='Seema'\n",
    "df1.drop(index=df1[filt].index, inplace = True) # inplace=True\n",
    "df1"
   ]
  },
  {
   "cell_type": "code",
   "execution_count": 112,
   "metadata": {},
   "outputs": [
    {
     "data": {
      "text/html": [
       "<div>\n",
       "<style scoped>\n",
       "    .dataframe tbody tr th:only-of-type {\n",
       "        vertical-align: middle;\n",
       "    }\n",
       "\n",
       "    .dataframe tbody tr th {\n",
       "        vertical-align: top;\n",
       "    }\n",
       "\n",
       "    .dataframe thead th {\n",
       "        text-align: right;\n",
       "    }\n",
       "</style>\n",
       "<table border=\"1\" class=\"dataframe\">\n",
       "  <thead>\n",
       "    <tr style=\"text-align: right;\">\n",
       "      <th></th>\n",
       "      <th>email</th>\n",
       "      <th>First</th>\n",
       "      <th>Last</th>\n",
       "    </tr>\n",
       "  </thead>\n",
       "  <tbody>\n",
       "    <tr>\n",
       "      <th>0</th>\n",
       "      <td>CoreyMSchafer@gmail.com</td>\n",
       "      <td>Corey</td>\n",
       "      <td>Schafer</td>\n",
       "    </tr>\n",
       "    <tr>\n",
       "      <th>1</th>\n",
       "      <td>ZaneDoe@email.com</td>\n",
       "      <td>Zane</td>\n",
       "      <td>Doe</td>\n",
       "    </tr>\n",
       "    <tr>\n",
       "      <th>2</th>\n",
       "      <td>JohnDoe@gmail.com</td>\n",
       "      <td>John</td>\n",
       "      <td>Doe</td>\n",
       "    </tr>\n",
       "    <tr>\n",
       "      <th>3</th>\n",
       "      <td>Matt.Zane@email.com</td>\n",
       "      <td>Matt</td>\n",
       "      <td>Zane</td>\n",
       "    </tr>\n",
       "  </tbody>\n",
       "</table>\n",
       "</div>"
      ],
      "text/plain": [
       "                     email  First     Last\n",
       "0  CoreyMSchafer@gmail.com  Corey  Schafer\n",
       "1        ZaneDoe@email.com   Zane      Doe\n",
       "2        JohnDoe@gmail.com   John      Doe\n",
       "3      Matt.Zane@email.com   Matt     Zane"
      ]
     },
     "execution_count": 112,
     "metadata": {},
     "output_type": "execute_result"
    }
   ],
   "source": [
    "# df1.drop(columns=['sex'], inplace=True)\n",
    "df1"
   ]
  },
  {
   "cell_type": "code",
   "execution_count": 113,
   "metadata": {},
   "outputs": [
    {
     "data": {
      "text/html": [
       "<div>\n",
       "<style scoped>\n",
       "    .dataframe tbody tr th:only-of-type {\n",
       "        vertical-align: middle;\n",
       "    }\n",
       "\n",
       "    .dataframe tbody tr th {\n",
       "        vertical-align: top;\n",
       "    }\n",
       "\n",
       "    .dataframe thead th {\n",
       "        text-align: right;\n",
       "    }\n",
       "</style>\n",
       "<table border=\"1\" class=\"dataframe\">\n",
       "  <thead>\n",
       "    <tr style=\"text-align: right;\">\n",
       "      <th></th>\n",
       "      <th>email</th>\n",
       "      <th>First</th>\n",
       "      <th>Last</th>\n",
       "      <th>sex</th>\n",
       "    </tr>\n",
       "  </thead>\n",
       "  <tbody>\n",
       "    <tr>\n",
       "      <th>0</th>\n",
       "      <td>CoreyMSchafer@gmail.com</td>\n",
       "      <td>Corey</td>\n",
       "      <td>Schafer</td>\n",
       "      <td>male</td>\n",
       "    </tr>\n",
       "    <tr>\n",
       "      <th>1</th>\n",
       "      <td>ZaneDoe@email.com</td>\n",
       "      <td>Zane</td>\n",
       "      <td>Doe</td>\n",
       "      <td>female</td>\n",
       "    </tr>\n",
       "    <tr>\n",
       "      <th>2</th>\n",
       "      <td>JohnDoe@gmail.com</td>\n",
       "      <td>John</td>\n",
       "      <td>Doe</td>\n",
       "      <td>male</td>\n",
       "    </tr>\n",
       "    <tr>\n",
       "      <th>3</th>\n",
       "      <td>Matt.Zane@email.com</td>\n",
       "      <td>Matt</td>\n",
       "      <td>Zane</td>\n",
       "      <td>male</td>\n",
       "    </tr>\n",
       "  </tbody>\n",
       "</table>\n",
       "</div>"
      ],
      "text/plain": [
       "                     email  First     Last     sex\n",
       "0  CoreyMSchafer@gmail.com  Corey  Schafer    male\n",
       "1        ZaneDoe@email.com   Zane      Doe  female\n",
       "2        JohnDoe@gmail.com   John      Doe    male\n",
       "3      Matt.Zane@email.com   Matt     Zane    male"
      ]
     },
     "execution_count": 113,
     "metadata": {},
     "output_type": "execute_result"
    }
   ],
   "source": [
    "# add sex column to the table using concat\n",
    "# https://pandas.pydata.org/pandas-docs/stable/reference/api/pandas.concat.html?highlight=concat#pandas.concat\n",
    "sex = pd.DataFrame({'sex': ['male', 'female', 'male', 'male' ]})\n",
    "df1 = pd.concat([df1, sex], axis='columns')\n",
    "# df1['sex'] = ['male', 'female', 'male', 'male'] # same as above \n",
    "df1"
   ]
  },
  {
   "cell_type": "code",
   "execution_count": 114,
   "metadata": {},
   "outputs": [
    {
     "data": {
      "text/html": [
       "<div>\n",
       "<style scoped>\n",
       "    .dataframe tbody tr th:only-of-type {\n",
       "        vertical-align: middle;\n",
       "    }\n",
       "\n",
       "    .dataframe tbody tr th {\n",
       "        vertical-align: top;\n",
       "    }\n",
       "\n",
       "    .dataframe thead th {\n",
       "        text-align: right;\n",
       "    }\n",
       "</style>\n",
       "<table border=\"1\" class=\"dataframe\">\n",
       "  <thead>\n",
       "    <tr style=\"text-align: right;\">\n",
       "      <th></th>\n",
       "      <th>email</th>\n",
       "      <th>First</th>\n",
       "      <th>Last</th>\n",
       "      <th>sex</th>\n",
       "    </tr>\n",
       "  </thead>\n",
       "  <tbody>\n",
       "    <tr>\n",
       "      <th>0</th>\n",
       "      <td>CoreyMSchafer@gmail.com</td>\n",
       "      <td>Corey</td>\n",
       "      <td>Schafer</td>\n",
       "      <td>male</td>\n",
       "    </tr>\n",
       "    <tr>\n",
       "      <th>1</th>\n",
       "      <td>ZaneDoe@email.com</td>\n",
       "      <td>Zane</td>\n",
       "      <td>Doe</td>\n",
       "      <td>female</td>\n",
       "    </tr>\n",
       "    <tr>\n",
       "      <th>2</th>\n",
       "      <td>JohnDoe@gmail.com</td>\n",
       "      <td>John</td>\n",
       "      <td>Doe</td>\n",
       "      <td>male</td>\n",
       "    </tr>\n",
       "    <tr>\n",
       "      <th>3</th>\n",
       "      <td>Matt.Zane@email.com</td>\n",
       "      <td>Matt</td>\n",
       "      <td>Zane</td>\n",
       "      <td>male</td>\n",
       "    </tr>\n",
       "  </tbody>\n",
       "</table>\n",
       "</div>"
      ],
      "text/plain": [
       "                     email  First     Last     sex\n",
       "0  CoreyMSchafer@gmail.com  Corey  Schafer    male\n",
       "1        ZaneDoe@email.com   Zane      Doe  female\n",
       "2        JohnDoe@gmail.com   John      Doe    male\n",
       "3      Matt.Zane@email.com   Matt     Zane    male"
      ]
     },
     "execution_count": 114,
     "metadata": {},
     "output_type": "execute_result"
    }
   ],
   "source": [
    "df1"
   ]
  },
  {
   "cell_type": "markdown",
   "metadata": {},
   "source": [
    "### Merge and Join DataFrames\n",
    "1. Merging anf Joining are pretty much the same kind of thing. https://www.youtube.com/watch?v=g7n1MZyYjOM\n",
    "3. https://pandas.pydata.org/pandas-docs/stable/reference/api/pandas.DataFrame.merge.html\n",
    "4. https://pandas.pydata.org/pandas-docs/stable/reference/api/pandas.DataFrame.join.html#pandas.DataFrame.join\n",
    "3. DataFrames Joins are similar to merger but they work on Indices"
   ]
  },
  {
   "cell_type": "markdown",
   "metadata": {},
   "source": [
    "### Sorting"
   ]
  },
  {
   "cell_type": "code",
   "execution_count": 115,
   "metadata": {},
   "outputs": [
    {
     "data": {
      "text/html": [
       "<div>\n",
       "<style scoped>\n",
       "    .dataframe tbody tr th:only-of-type {\n",
       "        vertical-align: middle;\n",
       "    }\n",
       "\n",
       "    .dataframe tbody tr th {\n",
       "        vertical-align: top;\n",
       "    }\n",
       "\n",
       "    .dataframe thead th {\n",
       "        text-align: right;\n",
       "    }\n",
       "</style>\n",
       "<table border=\"1\" class=\"dataframe\">\n",
       "  <thead>\n",
       "    <tr style=\"text-align: right;\">\n",
       "      <th></th>\n",
       "      <th>email</th>\n",
       "      <th>First</th>\n",
       "      <th>Last</th>\n",
       "      <th>sex</th>\n",
       "    </tr>\n",
       "  </thead>\n",
       "  <tbody>\n",
       "    <tr>\n",
       "      <th>0</th>\n",
       "      <td>CoreyMSchafer@gmail.com</td>\n",
       "      <td>Corey</td>\n",
       "      <td>Schafer</td>\n",
       "      <td>male</td>\n",
       "    </tr>\n",
       "    <tr>\n",
       "      <th>1</th>\n",
       "      <td>ZaneDoe@email.com</td>\n",
       "      <td>Zane</td>\n",
       "      <td>Doe</td>\n",
       "      <td>female</td>\n",
       "    </tr>\n",
       "    <tr>\n",
       "      <th>2</th>\n",
       "      <td>JohnDoe@gmail.com</td>\n",
       "      <td>John</td>\n",
       "      <td>Doe</td>\n",
       "      <td>male</td>\n",
       "    </tr>\n",
       "    <tr>\n",
       "      <th>3</th>\n",
       "      <td>Matt.Zane@email.com</td>\n",
       "      <td>Matt</td>\n",
       "      <td>Zane</td>\n",
       "      <td>male</td>\n",
       "    </tr>\n",
       "  </tbody>\n",
       "</table>\n",
       "</div>"
      ],
      "text/plain": [
       "                     email  First     Last     sex\n",
       "0  CoreyMSchafer@gmail.com  Corey  Schafer    male\n",
       "1        ZaneDoe@email.com   Zane      Doe  female\n",
       "2        JohnDoe@gmail.com   John      Doe    male\n",
       "3      Matt.Zane@email.com   Matt     Zane    male"
      ]
     },
     "execution_count": 115,
     "metadata": {},
     "output_type": "execute_result"
    }
   ],
   "source": [
    "df1"
   ]
  },
  {
   "cell_type": "code",
   "execution_count": 116,
   "metadata": {},
   "outputs": [
    {
     "data": {
      "text/html": [
       "<div>\n",
       "<style scoped>\n",
       "    .dataframe tbody tr th:only-of-type {\n",
       "        vertical-align: middle;\n",
       "    }\n",
       "\n",
       "    .dataframe tbody tr th {\n",
       "        vertical-align: top;\n",
       "    }\n",
       "\n",
       "    .dataframe thead th {\n",
       "        text-align: right;\n",
       "    }\n",
       "</style>\n",
       "<table border=\"1\" class=\"dataframe\">\n",
       "  <thead>\n",
       "    <tr style=\"text-align: right;\">\n",
       "      <th></th>\n",
       "      <th>email</th>\n",
       "      <th>First</th>\n",
       "      <th>Last</th>\n",
       "      <th>sex</th>\n",
       "    </tr>\n",
       "  </thead>\n",
       "  <tbody>\n",
       "    <tr>\n",
       "      <th>2</th>\n",
       "      <td>JohnDoe@gmail.com</td>\n",
       "      <td>John</td>\n",
       "      <td>Doe</td>\n",
       "      <td>male</td>\n",
       "    </tr>\n",
       "    <tr>\n",
       "      <th>1</th>\n",
       "      <td>ZaneDoe@email.com</td>\n",
       "      <td>Zane</td>\n",
       "      <td>Doe</td>\n",
       "      <td>female</td>\n",
       "    </tr>\n",
       "    <tr>\n",
       "      <th>0</th>\n",
       "      <td>CoreyMSchafer@gmail.com</td>\n",
       "      <td>Corey</td>\n",
       "      <td>Schafer</td>\n",
       "      <td>male</td>\n",
       "    </tr>\n",
       "    <tr>\n",
       "      <th>3</th>\n",
       "      <td>Matt.Zane@email.com</td>\n",
       "      <td>Matt</td>\n",
       "      <td>Zane</td>\n",
       "      <td>male</td>\n",
       "    </tr>\n",
       "  </tbody>\n",
       "</table>\n",
       "</div>"
      ],
      "text/plain": [
       "                     email  First     Last     sex\n",
       "2        JohnDoe@gmail.com   John      Doe    male\n",
       "1        ZaneDoe@email.com   Zane      Doe  female\n",
       "0  CoreyMSchafer@gmail.com  Corey  Schafer    male\n",
       "3      Matt.Zane@email.com   Matt     Zane    male"
      ]
     },
     "execution_count": 116,
     "metadata": {},
     "output_type": "execute_result"
    }
   ],
   "source": [
    "# first sort by 'last' if duplicates/conflicts then sort by first\n",
    "df1.sort_values(by=['Last', 'First']) # ascending=False if you want to sort the other way"
   ]
  },
  {
   "cell_type": "code",
   "execution_count": 117,
   "metadata": {},
   "outputs": [
    {
     "data": {
      "text/html": [
       "<div>\n",
       "<style scoped>\n",
       "    .dataframe tbody tr th:only-of-type {\n",
       "        vertical-align: middle;\n",
       "    }\n",
       "\n",
       "    .dataframe tbody tr th {\n",
       "        vertical-align: top;\n",
       "    }\n",
       "\n",
       "    .dataframe thead th {\n",
       "        text-align: right;\n",
       "    }\n",
       "</style>\n",
       "<table border=\"1\" class=\"dataframe\">\n",
       "  <thead>\n",
       "    <tr style=\"text-align: right;\">\n",
       "      <th></th>\n",
       "      <th>email</th>\n",
       "      <th>First</th>\n",
       "      <th>Last</th>\n",
       "      <th>sex</th>\n",
       "    </tr>\n",
       "  </thead>\n",
       "  <tbody>\n",
       "    <tr>\n",
       "      <th>1</th>\n",
       "      <td>ZaneDoe@email.com</td>\n",
       "      <td>Zane</td>\n",
       "      <td>Doe</td>\n",
       "      <td>female</td>\n",
       "    </tr>\n",
       "    <tr>\n",
       "      <th>2</th>\n",
       "      <td>JohnDoe@gmail.com</td>\n",
       "      <td>John</td>\n",
       "      <td>Doe</td>\n",
       "      <td>male</td>\n",
       "    </tr>\n",
       "    <tr>\n",
       "      <th>0</th>\n",
       "      <td>CoreyMSchafer@gmail.com</td>\n",
       "      <td>Corey</td>\n",
       "      <td>Schafer</td>\n",
       "      <td>male</td>\n",
       "    </tr>\n",
       "    <tr>\n",
       "      <th>3</th>\n",
       "      <td>Matt.Zane@email.com</td>\n",
       "      <td>Matt</td>\n",
       "      <td>Zane</td>\n",
       "      <td>male</td>\n",
       "    </tr>\n",
       "  </tbody>\n",
       "</table>\n",
       "</div>"
      ],
      "text/plain": [
       "                     email  First     Last     sex\n",
       "1        ZaneDoe@email.com   Zane      Doe  female\n",
       "2        JohnDoe@gmail.com   John      Doe    male\n",
       "0  CoreyMSchafer@gmail.com  Corey  Schafer    male\n",
       "3      Matt.Zane@email.com   Matt     Zane    male"
      ]
     },
     "execution_count": 117,
     "metadata": {},
     "output_type": "execute_result"
    }
   ],
   "source": [
    "# sort last name in descending and first in ascending\n",
    "df1.sort_values(by=['Last', 'First'], ascending=[True, False], inplace=True)\n",
    "df1"
   ]
  },
  {
   "cell_type": "code",
   "execution_count": 118,
   "metadata": {},
   "outputs": [
    {
     "data": {
      "text/html": [
       "<div>\n",
       "<style scoped>\n",
       "    .dataframe tbody tr th:only-of-type {\n",
       "        vertical-align: middle;\n",
       "    }\n",
       "\n",
       "    .dataframe tbody tr th {\n",
       "        vertical-align: top;\n",
       "    }\n",
       "\n",
       "    .dataframe thead th {\n",
       "        text-align: right;\n",
       "    }\n",
       "</style>\n",
       "<table border=\"1\" class=\"dataframe\">\n",
       "  <thead>\n",
       "    <tr style=\"text-align: right;\">\n",
       "      <th></th>\n",
       "      <th>email</th>\n",
       "      <th>First</th>\n",
       "      <th>Last</th>\n",
       "      <th>sex</th>\n",
       "    </tr>\n",
       "  </thead>\n",
       "  <tbody>\n",
       "    <tr>\n",
       "      <th>0</th>\n",
       "      <td>CoreyMSchafer@gmail.com</td>\n",
       "      <td>Corey</td>\n",
       "      <td>Schafer</td>\n",
       "      <td>male</td>\n",
       "    </tr>\n",
       "    <tr>\n",
       "      <th>1</th>\n",
       "      <td>ZaneDoe@email.com</td>\n",
       "      <td>Zane</td>\n",
       "      <td>Doe</td>\n",
       "      <td>female</td>\n",
       "    </tr>\n",
       "    <tr>\n",
       "      <th>2</th>\n",
       "      <td>JohnDoe@gmail.com</td>\n",
       "      <td>John</td>\n",
       "      <td>Doe</td>\n",
       "      <td>male</td>\n",
       "    </tr>\n",
       "    <tr>\n",
       "      <th>3</th>\n",
       "      <td>Matt.Zane@email.com</td>\n",
       "      <td>Matt</td>\n",
       "      <td>Zane</td>\n",
       "      <td>male</td>\n",
       "    </tr>\n",
       "  </tbody>\n",
       "</table>\n",
       "</div>"
      ],
      "text/plain": [
       "                     email  First     Last     sex\n",
       "0  CoreyMSchafer@gmail.com  Corey  Schafer    male\n",
       "1        ZaneDoe@email.com   Zane      Doe  female\n",
       "2        JohnDoe@gmail.com   John      Doe    male\n",
       "3      Matt.Zane@email.com   Matt     Zane    male"
      ]
     },
     "execution_count": 118,
     "metadata": {},
     "output_type": "execute_result"
    }
   ],
   "source": [
    "df1.sort_index()"
   ]
  },
  {
   "cell_type": "code",
   "execution_count": 119,
   "metadata": {},
   "outputs": [
    {
     "data": {
      "text/plain": [
       "1        Doe\n",
       "2        Doe\n",
       "0    Schafer\n",
       "3       Zane\n",
       "Name: Last, dtype: object"
      ]
     },
     "execution_count": 119,
     "metadata": {},
     "output_type": "execute_result"
    }
   ],
   "source": [
    "df1['Last'].sort_values() # sort on Series"
   ]
  },
  {
   "cell_type": "code",
   "execution_count": 120,
   "metadata": {},
   "outputs": [
    {
     "data": {
      "text/html": [
       "<div>\n",
       "<style scoped>\n",
       "    .dataframe tbody tr th:only-of-type {\n",
       "        vertical-align: middle;\n",
       "    }\n",
       "\n",
       "    .dataframe tbody tr th {\n",
       "        vertical-align: top;\n",
       "    }\n",
       "\n",
       "    .dataframe thead th {\n",
       "        text-align: right;\n",
       "    }\n",
       "</style>\n",
       "<table border=\"1\" class=\"dataframe\">\n",
       "  <thead>\n",
       "    <tr style=\"text-align: right;\">\n",
       "      <th></th>\n",
       "      <th>PassengerId</th>\n",
       "      <th>Survived</th>\n",
       "      <th>Pclass</th>\n",
       "      <th>Name</th>\n",
       "      <th>Sex</th>\n",
       "      <th>Age</th>\n",
       "      <th>SibSp</th>\n",
       "      <th>Parch</th>\n",
       "      <th>Ticket</th>\n",
       "      <th>Fare</th>\n",
       "      <th>Cabin</th>\n",
       "      <th>Embarked</th>\n",
       "    </tr>\n",
       "  </thead>\n",
       "  <tbody>\n",
       "    <tr>\n",
       "      <th>0</th>\n",
       "      <td>1</td>\n",
       "      <td>0</td>\n",
       "      <td>3</td>\n",
       "      <td>Braund, Mr. Owen Harris</td>\n",
       "      <td>male</td>\n",
       "      <td>22.0</td>\n",
       "      <td>1</td>\n",
       "      <td>0</td>\n",
       "      <td>A/5 21171</td>\n",
       "      <td>7.2500</td>\n",
       "      <td>NaN</td>\n",
       "      <td>S</td>\n",
       "    </tr>\n",
       "    <tr>\n",
       "      <th>1</th>\n",
       "      <td>2</td>\n",
       "      <td>1</td>\n",
       "      <td>1</td>\n",
       "      <td>Cumings, Mrs. John Bradley (Florence Briggs Th...</td>\n",
       "      <td>female</td>\n",
       "      <td>38.0</td>\n",
       "      <td>1</td>\n",
       "      <td>0</td>\n",
       "      <td>PC 17599</td>\n",
       "      <td>71.2833</td>\n",
       "      <td>C85</td>\n",
       "      <td>C</td>\n",
       "    </tr>\n",
       "    <tr>\n",
       "      <th>2</th>\n",
       "      <td>3</td>\n",
       "      <td>1</td>\n",
       "      <td>3</td>\n",
       "      <td>Heikkinen, Miss. Laina</td>\n",
       "      <td>female</td>\n",
       "      <td>26.0</td>\n",
       "      <td>0</td>\n",
       "      <td>0</td>\n",
       "      <td>STON/O2. 3101282</td>\n",
       "      <td>7.9250</td>\n",
       "      <td>NaN</td>\n",
       "      <td>S</td>\n",
       "    </tr>\n",
       "    <tr>\n",
       "      <th>3</th>\n",
       "      <td>4</td>\n",
       "      <td>1</td>\n",
       "      <td>1</td>\n",
       "      <td>Futrelle, Mrs. Jacques Heath (Lily May Peel)</td>\n",
       "      <td>female</td>\n",
       "      <td>35.0</td>\n",
       "      <td>1</td>\n",
       "      <td>0</td>\n",
       "      <td>113803</td>\n",
       "      <td>53.1000</td>\n",
       "      <td>C123</td>\n",
       "      <td>S</td>\n",
       "    </tr>\n",
       "    <tr>\n",
       "      <th>4</th>\n",
       "      <td>5</td>\n",
       "      <td>0</td>\n",
       "      <td>3</td>\n",
       "      <td>Allen, Mr. William Henry</td>\n",
       "      <td>male</td>\n",
       "      <td>35.0</td>\n",
       "      <td>0</td>\n",
       "      <td>0</td>\n",
       "      <td>373450</td>\n",
       "      <td>8.0500</td>\n",
       "      <td>NaN</td>\n",
       "      <td>S</td>\n",
       "    </tr>\n",
       "  </tbody>\n",
       "</table>\n",
       "</div>"
      ],
      "text/plain": [
       "   PassengerId  Survived  Pclass  \\\n",
       "0            1         0       3   \n",
       "1            2         1       1   \n",
       "2            3         1       3   \n",
       "3            4         1       1   \n",
       "4            5         0       3   \n",
       "\n",
       "                                                Name     Sex   Age  SibSp  \\\n",
       "0                            Braund, Mr. Owen Harris    male  22.0      1   \n",
       "1  Cumings, Mrs. John Bradley (Florence Briggs Th...  female  38.0      1   \n",
       "2                             Heikkinen, Miss. Laina  female  26.0      0   \n",
       "3       Futrelle, Mrs. Jacques Heath (Lily May Peel)  female  35.0      1   \n",
       "4                           Allen, Mr. William Henry    male  35.0      0   \n",
       "\n",
       "   Parch            Ticket     Fare Cabin Embarked  \n",
       "0      0         A/5 21171   7.2500   NaN        S  \n",
       "1      0          PC 17599  71.2833   C85        C  \n",
       "2      0  STON/O2. 3101282   7.9250   NaN        S  \n",
       "3      0            113803  53.1000  C123        S  \n",
       "4      0            373450   8.0500   NaN        S  "
      ]
     },
     "execution_count": 120,
     "metadata": {},
     "output_type": "execute_result"
    }
   ],
   "source": [
    "tnic_df.head(5)"
   ]
  },
  {
   "cell_type": "code",
   "execution_count": 121,
   "metadata": {},
   "outputs": [
    {
     "data": {
      "text/html": [
       "<div>\n",
       "<style scoped>\n",
       "    .dataframe tbody tr th:only-of-type {\n",
       "        vertical-align: middle;\n",
       "    }\n",
       "\n",
       "    .dataframe tbody tr th {\n",
       "        vertical-align: top;\n",
       "    }\n",
       "\n",
       "    .dataframe thead th {\n",
       "        text-align: right;\n",
       "    }\n",
       "</style>\n",
       "<table border=\"1\" class=\"dataframe\">\n",
       "  <thead>\n",
       "    <tr style=\"text-align: right;\">\n",
       "      <th></th>\n",
       "      <th>Country</th>\n",
       "      <th>ConvertedComp</th>\n",
       "    </tr>\n",
       "    <tr>\n",
       "      <th>Respondent</th>\n",
       "      <th></th>\n",
       "      <th></th>\n",
       "    </tr>\n",
       "  </thead>\n",
       "  <tbody>\n",
       "    <tr>\n",
       "      <th>22013</th>\n",
       "      <td>India</td>\n",
       "      <td>2000000.0</td>\n",
       "    </tr>\n",
       "    <tr>\n",
       "      <th>28243</th>\n",
       "      <td>India</td>\n",
       "      <td>2000000.0</td>\n",
       "    </tr>\n",
       "    <tr>\n",
       "      <th>72732</th>\n",
       "      <td>India</td>\n",
       "      <td>2000000.0</td>\n",
       "    </tr>\n",
       "    <tr>\n",
       "      <th>16793</th>\n",
       "      <td>India</td>\n",
       "      <td>1000000.0</td>\n",
       "    </tr>\n",
       "    <tr>\n",
       "      <th>52561</th>\n",
       "      <td>India</td>\n",
       "      <td>1000000.0</td>\n",
       "    </tr>\n",
       "  </tbody>\n",
       "</table>\n",
       "</div>"
      ],
      "text/plain": [
       "           Country  ConvertedComp\n",
       "Respondent                       \n",
       "22013        India      2000000.0\n",
       "28243        India      2000000.0\n",
       "72732        India      2000000.0\n",
       "16793        India      1000000.0\n",
       "52561        India      1000000.0"
      ]
     },
     "execution_count": 121,
     "metadata": {},
     "output_type": "execute_result"
    }
   ],
   "source": [
    "# Sort the stackoverflow Data by Country and then show the highest salary at top(ascending order)\n",
    "# And display results for India and just top 50\n",
    "df.sort_values(by=['Country', 'ConvertedComp'], ascending=[True, False], inplace=True)\n",
    "filt = df['Country'] == 'India'\n",
    "df.loc[filt, ['Country', 'ConvertedComp']].head(5)"
   ]
  },
  {
   "cell_type": "code",
   "execution_count": 122,
   "metadata": {},
   "outputs": [
    {
     "data": {
      "text/plain": [
       "Respondent\n",
       "25983    2000000.0\n",
       "87896    2000000.0\n",
       "22013    2000000.0\n",
       "28243    2000000.0\n",
       "72732    2000000.0\n",
       "78151    2000000.0\n",
       "80200    2000000.0\n",
       "52132    2000000.0\n",
       "75561    2000000.0\n",
       "32250    2000000.0\n",
       "Name: ConvertedComp, dtype: float64"
      ]
     },
     "execution_count": 122,
     "metadata": {},
     "output_type": "execute_result"
    }
   ],
   "source": [
    "# 5 highest salary in the df\n",
    "df['ConvertedComp'].nlargest(10)"
   ]
  },
  {
   "cell_type": "code",
   "execution_count": 123,
   "metadata": {},
   "outputs": [
    {
     "data": {
      "text/html": [
       "<div>\n",
       "<style scoped>\n",
       "    .dataframe tbody tr th:only-of-type {\n",
       "        vertical-align: middle;\n",
       "    }\n",
       "\n",
       "    .dataframe tbody tr th {\n",
       "        vertical-align: top;\n",
       "    }\n",
       "\n",
       "    .dataframe thead th {\n",
       "        text-align: right;\n",
       "    }\n",
       "</style>\n",
       "<table border=\"1\" class=\"dataframe\">\n",
       "  <thead>\n",
       "    <tr style=\"text-align: right;\">\n",
       "      <th></th>\n",
       "      <th>MainBranch</th>\n",
       "      <th>Hobbyist</th>\n",
       "      <th>OpenSourcer</th>\n",
       "      <th>OpenSource</th>\n",
       "      <th>Employment</th>\n",
       "      <th>Country</th>\n",
       "      <th>Student</th>\n",
       "      <th>EdLevel</th>\n",
       "      <th>UndergradMajor</th>\n",
       "      <th>EduOther</th>\n",
       "      <th>OrgSize</th>\n",
       "      <th>DevType</th>\n",
       "      <th>YearsCode</th>\n",
       "      <th>Age1stCode</th>\n",
       "      <th>YearsCodePro</th>\n",
       "      <th>CareerSat</th>\n",
       "      <th>JobSat</th>\n",
       "      <th>MgrIdiot</th>\n",
       "      <th>MgrMoney</th>\n",
       "      <th>MgrWant</th>\n",
       "      <th>JobSeek</th>\n",
       "      <th>LastHireDate</th>\n",
       "      <th>LastInt</th>\n",
       "      <th>FizzBuzz</th>\n",
       "      <th>JobFactors</th>\n",
       "      <th>ResumeUpdate</th>\n",
       "      <th>CurrencySymbol</th>\n",
       "      <th>CurrencyDesc</th>\n",
       "      <th>CompTotal</th>\n",
       "      <th>CompFreq</th>\n",
       "      <th>ConvertedComp</th>\n",
       "      <th>WorkWeekHrs</th>\n",
       "      <th>WorkPlan</th>\n",
       "      <th>WorkChallenge</th>\n",
       "      <th>WorkRemote</th>\n",
       "      <th>WorkLoc</th>\n",
       "      <th>ImpSyn</th>\n",
       "      <th>CodeRev</th>\n",
       "      <th>CodeRevHrs</th>\n",
       "      <th>UnitTests</th>\n",
       "      <th>PurchaseHow</th>\n",
       "      <th>PurchaseWhat</th>\n",
       "      <th>LanguageWorkedWith</th>\n",
       "      <th>LanguageDesireNextYear</th>\n",
       "      <th>DatabaseWorkedWith</th>\n",
       "      <th>DatabaseDesireNextYear</th>\n",
       "      <th>PlatformWorkedWith</th>\n",
       "      <th>PlatformDesireNextYear</th>\n",
       "      <th>WebFrameWorkedWith</th>\n",
       "      <th>WebFrameDesireNextYear</th>\n",
       "      <th>MiscTechWorkedWith</th>\n",
       "      <th>MiscTechDesireNextYear</th>\n",
       "      <th>DevEnviron</th>\n",
       "      <th>OpSys</th>\n",
       "      <th>Containers</th>\n",
       "      <th>BlockchainOrg</th>\n",
       "      <th>BlockchainIs</th>\n",
       "      <th>BetterLife</th>\n",
       "      <th>ITperson</th>\n",
       "      <th>OffOn</th>\n",
       "      <th>SocialMedia</th>\n",
       "      <th>Extraversion</th>\n",
       "      <th>ScreenName</th>\n",
       "      <th>SOVisit1st</th>\n",
       "      <th>SOVisitFreq</th>\n",
       "      <th>SOVisitTo</th>\n",
       "      <th>SOFindAnswer</th>\n",
       "      <th>SOTimeSaved</th>\n",
       "      <th>SOHowMuchTime</th>\n",
       "      <th>SOAccount</th>\n",
       "      <th>SOPartFreq</th>\n",
       "      <th>SOJobs</th>\n",
       "      <th>EntTeams</th>\n",
       "      <th>SOComm</th>\n",
       "      <th>WelcomeChange</th>\n",
       "      <th>SONewContent</th>\n",
       "      <th>Age</th>\n",
       "      <th>Gender</th>\n",
       "      <th>Trans</th>\n",
       "      <th>Sexuality</th>\n",
       "      <th>Ethnicity</th>\n",
       "      <th>Dependents</th>\n",
       "      <th>SurveyLength</th>\n",
       "      <th>SurveyEase</th>\n",
       "    </tr>\n",
       "    <tr>\n",
       "      <th>Respondent</th>\n",
       "      <th></th>\n",
       "      <th></th>\n",
       "      <th></th>\n",
       "      <th></th>\n",
       "      <th></th>\n",
       "      <th></th>\n",
       "      <th></th>\n",
       "      <th></th>\n",
       "      <th></th>\n",
       "      <th></th>\n",
       "      <th></th>\n",
       "      <th></th>\n",
       "      <th></th>\n",
       "      <th></th>\n",
       "      <th></th>\n",
       "      <th></th>\n",
       "      <th></th>\n",
       "      <th></th>\n",
       "      <th></th>\n",
       "      <th></th>\n",
       "      <th></th>\n",
       "      <th></th>\n",
       "      <th></th>\n",
       "      <th></th>\n",
       "      <th></th>\n",
       "      <th></th>\n",
       "      <th></th>\n",
       "      <th></th>\n",
       "      <th></th>\n",
       "      <th></th>\n",
       "      <th></th>\n",
       "      <th></th>\n",
       "      <th></th>\n",
       "      <th></th>\n",
       "      <th></th>\n",
       "      <th></th>\n",
       "      <th></th>\n",
       "      <th></th>\n",
       "      <th></th>\n",
       "      <th></th>\n",
       "      <th></th>\n",
       "      <th></th>\n",
       "      <th></th>\n",
       "      <th></th>\n",
       "      <th></th>\n",
       "      <th></th>\n",
       "      <th></th>\n",
       "      <th></th>\n",
       "      <th></th>\n",
       "      <th></th>\n",
       "      <th></th>\n",
       "      <th></th>\n",
       "      <th></th>\n",
       "      <th></th>\n",
       "      <th></th>\n",
       "      <th></th>\n",
       "      <th></th>\n",
       "      <th></th>\n",
       "      <th></th>\n",
       "      <th></th>\n",
       "      <th></th>\n",
       "      <th></th>\n",
       "      <th></th>\n",
       "      <th></th>\n",
       "      <th></th>\n",
       "      <th></th>\n",
       "      <th></th>\n",
       "      <th></th>\n",
       "      <th></th>\n",
       "      <th></th>\n",
       "      <th></th>\n",
       "      <th></th>\n",
       "      <th></th>\n",
       "      <th></th>\n",
       "      <th></th>\n",
       "      <th></th>\n",
       "      <th></th>\n",
       "      <th></th>\n",
       "      <th></th>\n",
       "      <th></th>\n",
       "      <th></th>\n",
       "      <th></th>\n",
       "      <th></th>\n",
       "      <th></th>\n",
       "    </tr>\n",
       "  </thead>\n",
       "  <tbody>\n",
       "    <tr>\n",
       "      <th>25983</th>\n",
       "      <td>I am a developer by profession</td>\n",
       "      <td>Yes</td>\n",
       "      <td>Less than once per year</td>\n",
       "      <td>OSS is, on average, of HIGHER quality than pro...</td>\n",
       "      <td>Employed full-time</td>\n",
       "      <td>Canada</td>\n",
       "      <td>No</td>\n",
       "      <td>Bachelor’s degree (BA, BS, B.Eng., etc.)</td>\n",
       "      <td>Computer science, computer engineering, or sof...</td>\n",
       "      <td>Received on-the-job training in software devel...</td>\n",
       "      <td>10,000 or more employees</td>\n",
       "      <td>Developer, full-stack</td>\n",
       "      <td>8</td>\n",
       "      <td>16</td>\n",
       "      <td>2</td>\n",
       "      <td>Very satisfied</td>\n",
       "      <td>Very satisfied</td>\n",
       "      <td>Somewhat confident</td>\n",
       "      <td>No</td>\n",
       "      <td>No</td>\n",
       "      <td>I’m not actively looking, but I am open to new...</td>\n",
       "      <td>3-4 years ago</td>\n",
       "      <td>Solve a brain-teaser style puzzle;Interview wi...</td>\n",
       "      <td>No</td>\n",
       "      <td>Remote work options;Opportunities for professi...</td>\n",
       "      <td>My job status changed (promotion, new job, etc.)</td>\n",
       "      <td>USD</td>\n",
       "      <td>United States dollar</td>\n",
       "      <td>65500.0</td>\n",
       "      <td>Weekly</td>\n",
       "      <td>2000000.0</td>\n",
       "      <td>45.0</td>\n",
       "      <td>There is a schedule and/or spec (made by me or...</td>\n",
       "      <td>Being tasked with non-development work;Meeting...</td>\n",
       "      <td>A few days each month</td>\n",
       "      <td>Office</td>\n",
       "      <td>Average</td>\n",
       "      <td>Yes, because I see value in code review</td>\n",
       "      <td>2.0</td>\n",
       "      <td>Yes, it's part of our process</td>\n",
       "      <td>Developers and management have nearly equal in...</td>\n",
       "      <td>I have little or no influence</td>\n",
       "      <td>Bash/Shell/PowerShell;C++;C#;HTML/CSS;JavaScri...</td>\n",
       "      <td>Bash/Shell/PowerShell;C#;F#;Python;SQL;TypeScript</td>\n",
       "      <td>Microsoft SQL Server;MySQL</td>\n",
       "      <td>Microsoft SQL Server;MySQL</td>\n",
       "      <td>AWS;Docker;Heroku;Linux;MacOS;Raspberry Pi;Win...</td>\n",
       "      <td>AWS;Docker;Linux;MacOS;Windows</td>\n",
       "      <td>Angular/Angular.js</td>\n",
       "      <td>Angular/Angular.js;Flask;React.js</td>\n",
       "      <td>.NET;.NET Core;Node.js</td>\n",
       "      <td>.NET Core;Node.js</td>\n",
       "      <td>Notepad++;Sublime Text;Vim;Visual Studio;Visua...</td>\n",
       "      <td>Windows</td>\n",
       "      <td>Development;Production</td>\n",
       "      <td>NaN</td>\n",
       "      <td>Useful for decentralized currency (i.e., Bitcoin)</td>\n",
       "      <td>No</td>\n",
       "      <td>Yes</td>\n",
       "      <td>Yes</td>\n",
       "      <td>Reddit</td>\n",
       "      <td>In real life (in person)</td>\n",
       "      <td>Username</td>\n",
       "      <td>2013</td>\n",
       "      <td>Daily or almost daily</td>\n",
       "      <td>Find answers to specific questions;Learn how t...</td>\n",
       "      <td>1-2 times per week</td>\n",
       "      <td>Stack Overflow was much faster</td>\n",
       "      <td>11-30 minutes</td>\n",
       "      <td>Yes</td>\n",
       "      <td>Less than once per month or monthly</td>\n",
       "      <td>No, I knew that Stack Overflow had a job board...</td>\n",
       "      <td>No, and I don't know what those are</td>\n",
       "      <td>No, not really</td>\n",
       "      <td>Just as welcome now as I felt last year</td>\n",
       "      <td>NaN</td>\n",
       "      <td>24.0</td>\n",
       "      <td>Man</td>\n",
       "      <td>No</td>\n",
       "      <td>Straight / Heterosexual</td>\n",
       "      <td>White or of European descent</td>\n",
       "      <td>No</td>\n",
       "      <td>Appropriate in length</td>\n",
       "      <td>Easy</td>\n",
       "    </tr>\n",
       "    <tr>\n",
       "      <th>87896</th>\n",
       "      <td>I am a developer by profession</td>\n",
       "      <td>Yes</td>\n",
       "      <td>Less than once per year</td>\n",
       "      <td>The quality of OSS and closed source software ...</td>\n",
       "      <td>Employed full-time</td>\n",
       "      <td>Germany</td>\n",
       "      <td>No</td>\n",
       "      <td>Bachelor’s degree (BA, BS, B.Eng., etc.)</td>\n",
       "      <td>Computer science, computer engineering, or sof...</td>\n",
       "      <td>Taken an online course in programming or softw...</td>\n",
       "      <td>2-9 employees</td>\n",
       "      <td>Developer, full-stack</td>\n",
       "      <td>9</td>\n",
       "      <td>17</td>\n",
       "      <td>8</td>\n",
       "      <td>Very satisfied</td>\n",
       "      <td>Very satisfied</td>\n",
       "      <td>Somewhat confident</td>\n",
       "      <td>No</td>\n",
       "      <td>I am already a manager</td>\n",
       "      <td>I am not interested in new job opportunities</td>\n",
       "      <td>More than 4 years ago</td>\n",
       "      <td>Write any code;Interview with people in senior...</td>\n",
       "      <td>No</td>\n",
       "      <td>Office environment or company culture;Diversit...</td>\n",
       "      <td>Something else changed (education, award, medi...</td>\n",
       "      <td>USD</td>\n",
       "      <td>United States dollar</td>\n",
       "      <td>55000.0</td>\n",
       "      <td>Weekly</td>\n",
       "      <td>2000000.0</td>\n",
       "      <td>40.0</td>\n",
       "      <td>There is a schedule and/or spec (made by me or...</td>\n",
       "      <td>Being tasked with non-development work;Meeting...</td>\n",
       "      <td>All or almost all the time (I'm full-time remote)</td>\n",
       "      <td>Home</td>\n",
       "      <td>A little above average</td>\n",
       "      <td>Yes, because I see value in code review</td>\n",
       "      <td>3.0</td>\n",
       "      <td>No, but I think we should</td>\n",
       "      <td>Developers and management have nearly equal in...</td>\n",
       "      <td>I have a great deal of influence</td>\n",
       "      <td>HTML/CSS;JavaScript;PHP;SQL</td>\n",
       "      <td>HTML/CSS;JavaScript;PHP;Ruby;SQL;TypeScript</td>\n",
       "      <td>MariaDB;MySQL;PostgreSQL</td>\n",
       "      <td>MariaDB;MySQL;PostgreSQL</td>\n",
       "      <td>WordPress</td>\n",
       "      <td>NaN</td>\n",
       "      <td>jQuery;Laravel;Vue.js</td>\n",
       "      <td>Express;Laravel;Ruby on Rails;Vue.js</td>\n",
       "      <td>NaN</td>\n",
       "      <td>Node.js</td>\n",
       "      <td>Sublime Text;Vim;Visual Studio Code</td>\n",
       "      <td>Linux-based</td>\n",
       "      <td>I do not use containers</td>\n",
       "      <td>Not at all</td>\n",
       "      <td>Useful for immutable record keeping outside of...</td>\n",
       "      <td>No</td>\n",
       "      <td>Yes</td>\n",
       "      <td>Yes</td>\n",
       "      <td>Twitter</td>\n",
       "      <td>Online</td>\n",
       "      <td>Handle</td>\n",
       "      <td>2011</td>\n",
       "      <td>Daily or almost daily</td>\n",
       "      <td>Find answers to specific questions</td>\n",
       "      <td>3-5 times per week</td>\n",
       "      <td>Stack Overflow was much faster</td>\n",
       "      <td>0-10 minutes</td>\n",
       "      <td>Yes</td>\n",
       "      <td>Less than once per month or monthly</td>\n",
       "      <td>No, I knew that Stack Overflow had a job board...</td>\n",
       "      <td>No, I've heard of them, but I am not part of a...</td>\n",
       "      <td>No, not really</td>\n",
       "      <td>Just as welcome now as I felt last year</td>\n",
       "      <td>Tech articles written by other developers;Tech...</td>\n",
       "      <td>32.0</td>\n",
       "      <td>Man</td>\n",
       "      <td>No</td>\n",
       "      <td>Gay or Lesbian</td>\n",
       "      <td>White or of European descent</td>\n",
       "      <td>No</td>\n",
       "      <td>Appropriate in length</td>\n",
       "      <td>Neither easy nor difficult</td>\n",
       "    </tr>\n",
       "    <tr>\n",
       "      <th>22013</th>\n",
       "      <td>I am a developer by profession</td>\n",
       "      <td>Yes</td>\n",
       "      <td>Never</td>\n",
       "      <td>The quality of OSS and closed source software ...</td>\n",
       "      <td>Employed full-time</td>\n",
       "      <td>India</td>\n",
       "      <td>No</td>\n",
       "      <td>Professional degree (JD, MD, etc.)</td>\n",
       "      <td>A natural science (ex. biology, chemistry, phy...</td>\n",
       "      <td>Taken an online course in programming or softw...</td>\n",
       "      <td>2-9 employees</td>\n",
       "      <td>Academic researcher;Data scientist or machine ...</td>\n",
       "      <td>3</td>\n",
       "      <td>26</td>\n",
       "      <td>3</td>\n",
       "      <td>Very satisfied</td>\n",
       "      <td>Very satisfied</td>\n",
       "      <td>NaN</td>\n",
       "      <td>NaN</td>\n",
       "      <td>NaN</td>\n",
       "      <td>I am not interested in new job opportunities</td>\n",
       "      <td>3-4 years ago</td>\n",
       "      <td>Write code by hand (e.g., on a whiteboard);Com...</td>\n",
       "      <td>No</td>\n",
       "      <td>Financial performance or funding status of the...</td>\n",
       "      <td>Something else changed (education, award, medi...</td>\n",
       "      <td>USD</td>\n",
       "      <td>United States dollar</td>\n",
       "      <td>1500000.0</td>\n",
       "      <td>Weekly</td>\n",
       "      <td>2000000.0</td>\n",
       "      <td>50.0</td>\n",
       "      <td>There's no schedule or spec; I work on what se...</td>\n",
       "      <td>Inadequate access to necessary tools;Meetings;...</td>\n",
       "      <td>All or almost all the time (I'm full-time remote)</td>\n",
       "      <td>Home</td>\n",
       "      <td>A little below average</td>\n",
       "      <td>Yes, because I see value in code review</td>\n",
       "      <td>10.0</td>\n",
       "      <td>Yes, it's part of our process</td>\n",
       "      <td>Developers typically have the most influence o...</td>\n",
       "      <td>I have a great deal of influence</td>\n",
       "      <td>Assembly;Bash/Shell/PowerShell;C;C++;Java;Java...</td>\n",
       "      <td>Python;Swift</td>\n",
       "      <td>Cassandra;Microsoft SQL Server;Oracle</td>\n",
       "      <td>Cassandra</td>\n",
       "      <td>Android;Arduino;Google Cloud Platform;IBM Clou...</td>\n",
       "      <td>IBM Cloud or Watson;Windows</td>\n",
       "      <td>jQuery</td>\n",
       "      <td>NaN</td>\n",
       "      <td>TensorFlow</td>\n",
       "      <td>TensorFlow</td>\n",
       "      <td>Visual Studio;Visual Studio Code</td>\n",
       "      <td>Windows</td>\n",
       "      <td>Development</td>\n",
       "      <td>Implementing our own cryptocurrency</td>\n",
       "      <td>Useful across many domains and could change ma...</td>\n",
       "      <td>Yes</td>\n",
       "      <td>Yes</td>\n",
       "      <td>No</td>\n",
       "      <td>YouTube</td>\n",
       "      <td>Online</td>\n",
       "      <td>Screen Name</td>\n",
       "      <td>NaN</td>\n",
       "      <td>A few times per week</td>\n",
       "      <td>Find answers to specific questions</td>\n",
       "      <td>1-2 times per week</td>\n",
       "      <td>Stack Overflow was much faster</td>\n",
       "      <td>60+ minutes</td>\n",
       "      <td>Yes</td>\n",
       "      <td>I have never participated in Q&amp;A on Stack Over...</td>\n",
       "      <td>Yes</td>\n",
       "      <td>Yes</td>\n",
       "      <td>Yes, definitely</td>\n",
       "      <td>A lot more welcome now than last year</td>\n",
       "      <td>Tech articles written by other developers;Indu...</td>\n",
       "      <td>NaN</td>\n",
       "      <td>Man</td>\n",
       "      <td>No</td>\n",
       "      <td>Straight / Heterosexual</td>\n",
       "      <td>NaN</td>\n",
       "      <td>Yes</td>\n",
       "      <td>Too long</td>\n",
       "      <td>Easy</td>\n",
       "    </tr>\n",
       "    <tr>\n",
       "      <th>28243</th>\n",
       "      <td>I am a developer by profession</td>\n",
       "      <td>Yes</td>\n",
       "      <td>Once a month or more often</td>\n",
       "      <td>OSS is, on average, of HIGHER quality than pro...</td>\n",
       "      <td>Independent contractor, freelancer, or self-em...</td>\n",
       "      <td>India</td>\n",
       "      <td>No</td>\n",
       "      <td>Master’s degree (MA, MS, M.Eng., MBA, etc.)</td>\n",
       "      <td>Computer science, computer engineering, or sof...</td>\n",
       "      <td>Taken an online course in programming or softw...</td>\n",
       "      <td>2-9 employees</td>\n",
       "      <td>Developer, back-end;Developer, full-stack;Deve...</td>\n",
       "      <td>25</td>\n",
       "      <td>9</td>\n",
       "      <td>14</td>\n",
       "      <td>Neither satisfied nor dissatisfied</td>\n",
       "      <td>Neither satisfied nor dissatisfied</td>\n",
       "      <td>NaN</td>\n",
       "      <td>NaN</td>\n",
       "      <td>NaN</td>\n",
       "      <td>I’m not actively looking, but I am open to new...</td>\n",
       "      <td>1-2 years ago</td>\n",
       "      <td>Interview with people in peer roles;Interview ...</td>\n",
       "      <td>Yes</td>\n",
       "      <td>Financial performance or funding status of the...</td>\n",
       "      <td>I heard about a job opportunity (from a recrui...</td>\n",
       "      <td>USD</td>\n",
       "      <td>United States dollar</td>\n",
       "      <td>2000000.0</td>\n",
       "      <td>Yearly</td>\n",
       "      <td>2000000.0</td>\n",
       "      <td>20.0</td>\n",
       "      <td>There is a schedule and/or spec (made by me or...</td>\n",
       "      <td>Being tasked with non-development work;Not eno...</td>\n",
       "      <td>All or almost all the time (I'm full-time remote)</td>\n",
       "      <td>Office</td>\n",
       "      <td>Far above average</td>\n",
       "      <td>Yes, because I see value in code review</td>\n",
       "      <td>NaN</td>\n",
       "      <td>NaN</td>\n",
       "      <td>NaN</td>\n",
       "      <td>NaN</td>\n",
       "      <td>C++;C#;Java;JavaScript;Objective-C;Python</td>\n",
       "      <td>C;C++;C#</td>\n",
       "      <td>PostgreSQL;SQLite</td>\n",
       "      <td>SQLite</td>\n",
       "      <td>Android;AWS;iOS;MacOS;Windows</td>\n",
       "      <td>Android;Linux</td>\n",
       "      <td>NaN</td>\n",
       "      <td>NaN</td>\n",
       "      <td>Node.js;Pandas;Unity 3D</td>\n",
       "      <td>Unity 3D;Unreal Engine</td>\n",
       "      <td>Android Studio;Coda;PyCharm;Visual Studio;Visu...</td>\n",
       "      <td>MacOS</td>\n",
       "      <td>I do not use containers</td>\n",
       "      <td>NaN</td>\n",
       "      <td>An irresponsible use of resources</td>\n",
       "      <td>No</td>\n",
       "      <td>Yes</td>\n",
       "      <td>No</td>\n",
       "      <td>I don't use social media</td>\n",
       "      <td>In real life (in person)</td>\n",
       "      <td>Username</td>\n",
       "      <td>2008</td>\n",
       "      <td>Daily or almost daily</td>\n",
       "      <td>Find answers to specific questions</td>\n",
       "      <td>More than 10 times per week</td>\n",
       "      <td>Stack Overflow was much faster</td>\n",
       "      <td>60+ minutes</td>\n",
       "      <td>Yes</td>\n",
       "      <td>Multiple times per day</td>\n",
       "      <td>Yes</td>\n",
       "      <td>No, and I don't know what those are</td>\n",
       "      <td>Yes, definitely</td>\n",
       "      <td>A lot less welcome now than last year</td>\n",
       "      <td>Tech meetups or events in your area</td>\n",
       "      <td>NaN</td>\n",
       "      <td>NaN</td>\n",
       "      <td>NaN</td>\n",
       "      <td>Straight / Heterosexual</td>\n",
       "      <td>NaN</td>\n",
       "      <td>Yes</td>\n",
       "      <td>Too short</td>\n",
       "      <td>Easy</td>\n",
       "    </tr>\n",
       "    <tr>\n",
       "      <th>72732</th>\n",
       "      <td>I am not primarily a developer, but I write co...</td>\n",
       "      <td>No</td>\n",
       "      <td>Less than once a month but more than once per ...</td>\n",
       "      <td>OSS is, on average, of LOWER quality than prop...</td>\n",
       "      <td>NaN</td>\n",
       "      <td>India</td>\n",
       "      <td>Yes, full-time</td>\n",
       "      <td>Bachelor’s degree (BA, BS, B.Eng., etc.)</td>\n",
       "      <td>Computer science, computer engineering, or sof...</td>\n",
       "      <td>Contributed to open source software</td>\n",
       "      <td>NaN</td>\n",
       "      <td>NaN</td>\n",
       "      <td>4</td>\n",
       "      <td>20</td>\n",
       "      <td>5</td>\n",
       "      <td>Slightly satisfied</td>\n",
       "      <td>Slightly satisfied</td>\n",
       "      <td>NaN</td>\n",
       "      <td>NaN</td>\n",
       "      <td>NaN</td>\n",
       "      <td>I am actively looking for a job</td>\n",
       "      <td>More than 4 years ago</td>\n",
       "      <td>Write any code</td>\n",
       "      <td>No</td>\n",
       "      <td>Remote work options;Opportunities for professi...</td>\n",
       "      <td>I was preparing for a job search</td>\n",
       "      <td>USD</td>\n",
       "      <td>United States dollar</td>\n",
       "      <td>80000.0</td>\n",
       "      <td>Weekly</td>\n",
       "      <td>2000000.0</td>\n",
       "      <td>40.0</td>\n",
       "      <td>There is a schedule and/or spec (made by me or...</td>\n",
       "      <td>Lack of support from management;Meetings;Time ...</td>\n",
       "      <td>Less than once per month / Never</td>\n",
       "      <td>Office</td>\n",
       "      <td>A little above average</td>\n",
       "      <td>Yes, because I see value in code review</td>\n",
       "      <td>10.0</td>\n",
       "      <td>Yes, it's part of our process</td>\n",
       "      <td>Not sure</td>\n",
       "      <td>I have little or no influence</td>\n",
       "      <td>Java;Python;SQL</td>\n",
       "      <td>NaN</td>\n",
       "      <td>MongoDB;Microsoft SQL Server;MySQL;Oracle;Post...</td>\n",
       "      <td>MySQL</td>\n",
       "      <td>Android;Windows</td>\n",
       "      <td>AWS;Docker</td>\n",
       "      <td>NaN</td>\n",
       "      <td>Angular/Angular.js;React.js</td>\n",
       "      <td>NaN</td>\n",
       "      <td>NaN</td>\n",
       "      <td>Eclipse;Notepad++;PyCharm</td>\n",
       "      <td>Windows</td>\n",
       "      <td>Testing</td>\n",
       "      <td>NaN</td>\n",
       "      <td>NaN</td>\n",
       "      <td>Yes</td>\n",
       "      <td>Yes</td>\n",
       "      <td>No</td>\n",
       "      <td>WhatsApp</td>\n",
       "      <td>Neither</td>\n",
       "      <td>NaN</td>\n",
       "      <td>2017</td>\n",
       "      <td>A few times per month or weekly</td>\n",
       "      <td>Get a sense of belonging to the developer comm...</td>\n",
       "      <td>1-2 times per week</td>\n",
       "      <td>Stack Overflow was slightly faster</td>\n",
       "      <td>11-30 minutes</td>\n",
       "      <td>Yes</td>\n",
       "      <td>A few times per month or weekly</td>\n",
       "      <td>Yes</td>\n",
       "      <td>No, and I don't know what those are</td>\n",
       "      <td>Not sure</td>\n",
       "      <td>A lot less welcome now than last year</td>\n",
       "      <td>Tech articles written by other developers;Tech...</td>\n",
       "      <td>NaN</td>\n",
       "      <td>Man</td>\n",
       "      <td>No</td>\n",
       "      <td>NaN</td>\n",
       "      <td>NaN</td>\n",
       "      <td>Yes</td>\n",
       "      <td>Too long</td>\n",
       "      <td>Easy</td>\n",
       "    </tr>\n",
       "  </tbody>\n",
       "</table>\n",
       "</div>"
      ],
      "text/plain": [
       "                                                   MainBranch Hobbyist  \\\n",
       "Respondent                                                               \n",
       "25983                          I am a developer by profession      Yes   \n",
       "87896                          I am a developer by profession      Yes   \n",
       "22013                          I am a developer by profession      Yes   \n",
       "28243                          I am a developer by profession      Yes   \n",
       "72732       I am not primarily a developer, but I write co...       No   \n",
       "\n",
       "                                                  OpenSourcer  \\\n",
       "Respondent                                                      \n",
       "25983                                 Less than once per year   \n",
       "87896                                 Less than once per year   \n",
       "22013                                                   Never   \n",
       "28243                              Once a month or more often   \n",
       "72732       Less than once a month but more than once per ...   \n",
       "\n",
       "                                                   OpenSource  \\\n",
       "Respondent                                                      \n",
       "25983       OSS is, on average, of HIGHER quality than pro...   \n",
       "87896       The quality of OSS and closed source software ...   \n",
       "22013       The quality of OSS and closed source software ...   \n",
       "28243       OSS is, on average, of HIGHER quality than pro...   \n",
       "72732       OSS is, on average, of LOWER quality than prop...   \n",
       "\n",
       "                                                   Employment  Country  \\\n",
       "Respondent                                                               \n",
       "25983                                      Employed full-time   Canada   \n",
       "87896                                      Employed full-time  Germany   \n",
       "22013                                      Employed full-time    India   \n",
       "28243       Independent contractor, freelancer, or self-em...    India   \n",
       "72732                                                     NaN    India   \n",
       "\n",
       "                   Student                                      EdLevel  \\\n",
       "Respondent                                                                \n",
       "25983                   No     Bachelor’s degree (BA, BS, B.Eng., etc.)   \n",
       "87896                   No     Bachelor’s degree (BA, BS, B.Eng., etc.)   \n",
       "22013                   No           Professional degree (JD, MD, etc.)   \n",
       "28243                   No  Master’s degree (MA, MS, M.Eng., MBA, etc.)   \n",
       "72732       Yes, full-time     Bachelor’s degree (BA, BS, B.Eng., etc.)   \n",
       "\n",
       "                                               UndergradMajor  \\\n",
       "Respondent                                                      \n",
       "25983       Computer science, computer engineering, or sof...   \n",
       "87896       Computer science, computer engineering, or sof...   \n",
       "22013       A natural science (ex. biology, chemistry, phy...   \n",
       "28243       Computer science, computer engineering, or sof...   \n",
       "72732       Computer science, computer engineering, or sof...   \n",
       "\n",
       "                                                     EduOther  \\\n",
       "Respondent                                                      \n",
       "25983       Received on-the-job training in software devel...   \n",
       "87896       Taken an online course in programming or softw...   \n",
       "22013       Taken an online course in programming or softw...   \n",
       "28243       Taken an online course in programming or softw...   \n",
       "72732                     Contributed to open source software   \n",
       "\n",
       "                             OrgSize  \\\n",
       "Respondent                             \n",
       "25983       10,000 or more employees   \n",
       "87896                  2-9 employees   \n",
       "22013                  2-9 employees   \n",
       "28243                  2-9 employees   \n",
       "72732                            NaN   \n",
       "\n",
       "                                                      DevType YearsCode  \\\n",
       "Respondent                                                                \n",
       "25983                                   Developer, full-stack         8   \n",
       "87896                                   Developer, full-stack         9   \n",
       "22013       Academic researcher;Data scientist or machine ...         3   \n",
       "28243       Developer, back-end;Developer, full-stack;Deve...        25   \n",
       "72732                                                     NaN         4   \n",
       "\n",
       "           Age1stCode YearsCodePro                           CareerSat  \\\n",
       "Respondent                                                               \n",
       "25983              16            2                      Very satisfied   \n",
       "87896              17            8                      Very satisfied   \n",
       "22013              26            3                      Very satisfied   \n",
       "28243               9           14  Neither satisfied nor dissatisfied   \n",
       "72732              20            5                  Slightly satisfied   \n",
       "\n",
       "                                        JobSat            MgrIdiot MgrMoney  \\\n",
       "Respondent                                                                    \n",
       "25983                           Very satisfied  Somewhat confident       No   \n",
       "87896                           Very satisfied  Somewhat confident       No   \n",
       "22013                           Very satisfied                 NaN      NaN   \n",
       "28243       Neither satisfied nor dissatisfied                 NaN      NaN   \n",
       "72732                       Slightly satisfied                 NaN      NaN   \n",
       "\n",
       "                           MgrWant  \\\n",
       "Respondent                           \n",
       "25983                           No   \n",
       "87896       I am already a manager   \n",
       "22013                          NaN   \n",
       "28243                          NaN   \n",
       "72732                          NaN   \n",
       "\n",
       "                                                      JobSeek  \\\n",
       "Respondent                                                      \n",
       "25983       I’m not actively looking, but I am open to new...   \n",
       "87896            I am not interested in new job opportunities   \n",
       "22013            I am not interested in new job opportunities   \n",
       "28243       I’m not actively looking, but I am open to new...   \n",
       "72732                         I am actively looking for a job   \n",
       "\n",
       "                     LastHireDate  \\\n",
       "Respondent                          \n",
       "25983               3-4 years ago   \n",
       "87896       More than 4 years ago   \n",
       "22013               3-4 years ago   \n",
       "28243               1-2 years ago   \n",
       "72732       More than 4 years ago   \n",
       "\n",
       "                                                      LastInt FizzBuzz  \\\n",
       "Respondent                                                               \n",
       "25983       Solve a brain-teaser style puzzle;Interview wi...       No   \n",
       "87896       Write any code;Interview with people in senior...       No   \n",
       "22013       Write code by hand (e.g., on a whiteboard);Com...       No   \n",
       "28243       Interview with people in peer roles;Interview ...      Yes   \n",
       "72732                                          Write any code       No   \n",
       "\n",
       "                                                   JobFactors  \\\n",
       "Respondent                                                      \n",
       "25983       Remote work options;Opportunities for professi...   \n",
       "87896       Office environment or company culture;Diversit...   \n",
       "22013       Financial performance or funding status of the...   \n",
       "28243       Financial performance or funding status of the...   \n",
       "72732       Remote work options;Opportunities for professi...   \n",
       "\n",
       "                                                 ResumeUpdate CurrencySymbol  \\\n",
       "Respondent                                                                     \n",
       "25983        My job status changed (promotion, new job, etc.)            USD   \n",
       "87896       Something else changed (education, award, medi...            USD   \n",
       "22013       Something else changed (education, award, medi...            USD   \n",
       "28243       I heard about a job opportunity (from a recrui...            USD   \n",
       "72732                        I was preparing for a job search            USD   \n",
       "\n",
       "                    CurrencyDesc  CompTotal CompFreq  ConvertedComp  \\\n",
       "Respondent                                                            \n",
       "25983       United States dollar    65500.0   Weekly      2000000.0   \n",
       "87896       United States dollar    55000.0   Weekly      2000000.0   \n",
       "22013       United States dollar  1500000.0   Weekly      2000000.0   \n",
       "28243       United States dollar  2000000.0   Yearly      2000000.0   \n",
       "72732       United States dollar    80000.0   Weekly      2000000.0   \n",
       "\n",
       "            WorkWeekHrs                                           WorkPlan  \\\n",
       "Respondent                                                                   \n",
       "25983              45.0  There is a schedule and/or spec (made by me or...   \n",
       "87896              40.0  There is a schedule and/or spec (made by me or...   \n",
       "22013              50.0  There's no schedule or spec; I work on what se...   \n",
       "28243              20.0  There is a schedule and/or spec (made by me or...   \n",
       "72732              40.0  There is a schedule and/or spec (made by me or...   \n",
       "\n",
       "                                                WorkChallenge  \\\n",
       "Respondent                                                      \n",
       "25983       Being tasked with non-development work;Meeting...   \n",
       "87896       Being tasked with non-development work;Meeting...   \n",
       "22013       Inadequate access to necessary tools;Meetings;...   \n",
       "28243       Being tasked with non-development work;Not eno...   \n",
       "72732       Lack of support from management;Meetings;Time ...   \n",
       "\n",
       "                                                   WorkRemote WorkLoc  \\\n",
       "Respondent                                                              \n",
       "25983                                   A few days each month  Office   \n",
       "87896       All or almost all the time (I'm full-time remote)    Home   \n",
       "22013       All or almost all the time (I'm full-time remote)    Home   \n",
       "28243       All or almost all the time (I'm full-time remote)  Office   \n",
       "72732                        Less than once per month / Never  Office   \n",
       "\n",
       "                            ImpSyn                                  CodeRev  \\\n",
       "Respondent                                                                    \n",
       "25983                      Average  Yes, because I see value in code review   \n",
       "87896       A little above average  Yes, because I see value in code review   \n",
       "22013       A little below average  Yes, because I see value in code review   \n",
       "28243            Far above average  Yes, because I see value in code review   \n",
       "72732       A little above average  Yes, because I see value in code review   \n",
       "\n",
       "            CodeRevHrs                      UnitTests  \\\n",
       "Respondent                                              \n",
       "25983              2.0  Yes, it's part of our process   \n",
       "87896              3.0      No, but I think we should   \n",
       "22013             10.0  Yes, it's part of our process   \n",
       "28243              NaN                            NaN   \n",
       "72732             10.0  Yes, it's part of our process   \n",
       "\n",
       "                                                  PurchaseHow  \\\n",
       "Respondent                                                      \n",
       "25983       Developers and management have nearly equal in...   \n",
       "87896       Developers and management have nearly equal in...   \n",
       "22013       Developers typically have the most influence o...   \n",
       "28243                                                     NaN   \n",
       "72732                                                Not sure   \n",
       "\n",
       "                                PurchaseWhat  \\\n",
       "Respondent                                     \n",
       "25983          I have little or no influence   \n",
       "87896       I have a great deal of influence   \n",
       "22013       I have a great deal of influence   \n",
       "28243                                    NaN   \n",
       "72732          I have little or no influence   \n",
       "\n",
       "                                           LanguageWorkedWith  \\\n",
       "Respondent                                                      \n",
       "25983       Bash/Shell/PowerShell;C++;C#;HTML/CSS;JavaScri...   \n",
       "87896                             HTML/CSS;JavaScript;PHP;SQL   \n",
       "22013       Assembly;Bash/Shell/PowerShell;C;C++;Java;Java...   \n",
       "28243               C++;C#;Java;JavaScript;Objective-C;Python   \n",
       "72732                                         Java;Python;SQL   \n",
       "\n",
       "                                       LanguageDesireNextYear  \\\n",
       "Respondent                                                      \n",
       "25983       Bash/Shell/PowerShell;C#;F#;Python;SQL;TypeScript   \n",
       "87896             HTML/CSS;JavaScript;PHP;Ruby;SQL;TypeScript   \n",
       "22013                                            Python;Swift   \n",
       "28243                                                C;C++;C#   \n",
       "72732                                                     NaN   \n",
       "\n",
       "                                           DatabaseWorkedWith  \\\n",
       "Respondent                                                      \n",
       "25983                              Microsoft SQL Server;MySQL   \n",
       "87896                                MariaDB;MySQL;PostgreSQL   \n",
       "22013                   Cassandra;Microsoft SQL Server;Oracle   \n",
       "28243                                       PostgreSQL;SQLite   \n",
       "72732       MongoDB;Microsoft SQL Server;MySQL;Oracle;Post...   \n",
       "\n",
       "                DatabaseDesireNextYear  \\\n",
       "Respondent                               \n",
       "25983       Microsoft SQL Server;MySQL   \n",
       "87896         MariaDB;MySQL;PostgreSQL   \n",
       "22013                        Cassandra   \n",
       "28243                           SQLite   \n",
       "72732                            MySQL   \n",
       "\n",
       "                                           PlatformWorkedWith  \\\n",
       "Respondent                                                      \n",
       "25983       AWS;Docker;Heroku;Linux;MacOS;Raspberry Pi;Win...   \n",
       "87896                                               WordPress   \n",
       "22013       Android;Arduino;Google Cloud Platform;IBM Clou...   \n",
       "28243                           Android;AWS;iOS;MacOS;Windows   \n",
       "72732                                         Android;Windows   \n",
       "\n",
       "                    PlatformDesireNextYear     WebFrameWorkedWith  \\\n",
       "Respondent                                                          \n",
       "25983       AWS;Docker;Linux;MacOS;Windows     Angular/Angular.js   \n",
       "87896                                  NaN  jQuery;Laravel;Vue.js   \n",
       "22013          IBM Cloud or Watson;Windows                 jQuery   \n",
       "28243                        Android;Linux                    NaN   \n",
       "72732                           AWS;Docker                    NaN   \n",
       "\n",
       "                          WebFrameDesireNextYear       MiscTechWorkedWith  \\\n",
       "Respondent                                                                  \n",
       "25983          Angular/Angular.js;Flask;React.js   .NET;.NET Core;Node.js   \n",
       "87896       Express;Laravel;Ruby on Rails;Vue.js                      NaN   \n",
       "22013                                        NaN               TensorFlow   \n",
       "28243                                        NaN  Node.js;Pandas;Unity 3D   \n",
       "72732                Angular/Angular.js;React.js                      NaN   \n",
       "\n",
       "            MiscTechDesireNextYear  \\\n",
       "Respondent                           \n",
       "25983            .NET Core;Node.js   \n",
       "87896                      Node.js   \n",
       "22013                   TensorFlow   \n",
       "28243       Unity 3D;Unreal Engine   \n",
       "72732                          NaN   \n",
       "\n",
       "                                                   DevEnviron        OpSys  \\\n",
       "Respondent                                                                   \n",
       "25983       Notepad++;Sublime Text;Vim;Visual Studio;Visua...      Windows   \n",
       "87896                     Sublime Text;Vim;Visual Studio Code  Linux-based   \n",
       "22013                        Visual Studio;Visual Studio Code      Windows   \n",
       "28243       Android Studio;Coda;PyCharm;Visual Studio;Visu...        MacOS   \n",
       "72732                               Eclipse;Notepad++;PyCharm      Windows   \n",
       "\n",
       "                         Containers                        BlockchainOrg  \\\n",
       "Respondent                                                                 \n",
       "25983        Development;Production                                  NaN   \n",
       "87896       I do not use containers                           Not at all   \n",
       "22013                   Development  Implementing our own cryptocurrency   \n",
       "28243       I do not use containers                                  NaN   \n",
       "72732                       Testing                                  NaN   \n",
       "\n",
       "                                                 BlockchainIs BetterLife  \\\n",
       "Respondent                                                                 \n",
       "25983       Useful for decentralized currency (i.e., Bitcoin)         No   \n",
       "87896       Useful for immutable record keeping outside of...         No   \n",
       "22013       Useful across many domains and could change ma...        Yes   \n",
       "28243                       An irresponsible use of resources         No   \n",
       "72732                                                     NaN        Yes   \n",
       "\n",
       "           ITperson OffOn               SocialMedia              Extraversion  \\\n",
       "Respondent                                                                      \n",
       "25983           Yes   Yes                    Reddit  In real life (in person)   \n",
       "87896           Yes   Yes                   Twitter                    Online   \n",
       "22013           Yes    No                   YouTube                    Online   \n",
       "28243           Yes    No  I don't use social media  In real life (in person)   \n",
       "72732           Yes    No                  WhatsApp                   Neither   \n",
       "\n",
       "             ScreenName SOVisit1st                      SOVisitFreq  \\\n",
       "Respondent                                                            \n",
       "25983          Username       2013            Daily or almost daily   \n",
       "87896            Handle       2011            Daily or almost daily   \n",
       "22013       Screen Name        NaN             A few times per week   \n",
       "28243          Username       2008            Daily or almost daily   \n",
       "72732               NaN       2017  A few times per month or weekly   \n",
       "\n",
       "                                                    SOVisitTo  \\\n",
       "Respondent                                                      \n",
       "25983       Find answers to specific questions;Learn how t...   \n",
       "87896                      Find answers to specific questions   \n",
       "22013                      Find answers to specific questions   \n",
       "28243                      Find answers to specific questions   \n",
       "72732       Get a sense of belonging to the developer comm...   \n",
       "\n",
       "                           SOFindAnswer                         SOTimeSaved  \\\n",
       "Respondent                                                                    \n",
       "25983                1-2 times per week      Stack Overflow was much faster   \n",
       "87896                3-5 times per week      Stack Overflow was much faster   \n",
       "22013                1-2 times per week      Stack Overflow was much faster   \n",
       "28243       More than 10 times per week      Stack Overflow was much faster   \n",
       "72732                1-2 times per week  Stack Overflow was slightly faster   \n",
       "\n",
       "            SOHowMuchTime SOAccount  \\\n",
       "Respondent                            \n",
       "25983       11-30 minutes       Yes   \n",
       "87896        0-10 minutes       Yes   \n",
       "22013         60+ minutes       Yes   \n",
       "28243         60+ minutes       Yes   \n",
       "72732       11-30 minutes       Yes   \n",
       "\n",
       "                                                   SOPartFreq  \\\n",
       "Respondent                                                      \n",
       "25983                     Less than once per month or monthly   \n",
       "87896                     Less than once per month or monthly   \n",
       "22013       I have never participated in Q&A on Stack Over...   \n",
       "28243                                  Multiple times per day   \n",
       "72732                         A few times per month or weekly   \n",
       "\n",
       "                                                       SOJobs  \\\n",
       "Respondent                                                      \n",
       "25983       No, I knew that Stack Overflow had a job board...   \n",
       "87896       No, I knew that Stack Overflow had a job board...   \n",
       "22013                                                     Yes   \n",
       "28243                                                     Yes   \n",
       "72732                                                     Yes   \n",
       "\n",
       "                                                     EntTeams  \\\n",
       "Respondent                                                      \n",
       "25983                     No, and I don't know what those are   \n",
       "87896       No, I've heard of them, but I am not part of a...   \n",
       "22013                                                     Yes   \n",
       "28243                     No, and I don't know what those are   \n",
       "72732                     No, and I don't know what those are   \n",
       "\n",
       "                     SOComm                            WelcomeChange  \\\n",
       "Respondent                                                             \n",
       "25983        No, not really  Just as welcome now as I felt last year   \n",
       "87896        No, not really  Just as welcome now as I felt last year   \n",
       "22013       Yes, definitely    A lot more welcome now than last year   \n",
       "28243       Yes, definitely    A lot less welcome now than last year   \n",
       "72732              Not sure    A lot less welcome now than last year   \n",
       "\n",
       "                                                 SONewContent   Age Gender  \\\n",
       "Respondent                                                                   \n",
       "25983                                                     NaN  24.0    Man   \n",
       "87896       Tech articles written by other developers;Tech...  32.0    Man   \n",
       "22013       Tech articles written by other developers;Indu...   NaN    Man   \n",
       "28243                     Tech meetups or events in your area   NaN    NaN   \n",
       "72732       Tech articles written by other developers;Tech...   NaN    Man   \n",
       "\n",
       "           Trans                Sexuality                     Ethnicity  \\\n",
       "Respondent                                                                \n",
       "25983         No  Straight / Heterosexual  White or of European descent   \n",
       "87896         No           Gay or Lesbian  White or of European descent   \n",
       "22013         No  Straight / Heterosexual                           NaN   \n",
       "28243        NaN  Straight / Heterosexual                           NaN   \n",
       "72732         No                      NaN                           NaN   \n",
       "\n",
       "           Dependents           SurveyLength                  SurveyEase  \n",
       "Respondent                                                                \n",
       "25983              No  Appropriate in length                        Easy  \n",
       "87896              No  Appropriate in length  Neither easy nor difficult  \n",
       "22013             Yes               Too long                        Easy  \n",
       "28243             Yes              Too short                        Easy  \n",
       "72732             Yes               Too long                        Easy  "
      ]
     },
     "execution_count": 123,
     "metadata": {},
     "output_type": "execute_result"
    }
   ],
   "source": [
    "df.nlargest(5, 'ConvertedComp') # similary nsmallest"
   ]
  },
  {
   "cell_type": "markdown",
   "metadata": {},
   "source": [
    "### Grouping and Aggregating Data\n",
    "1. Mean is not the best aggregating function to use as it gets heavily effected by the outliers(the numbers which fall too apart for the rest of the numbers). So better use median \n",
    "2. Grouping  = Split + Apply Function + Combine results, "
   ]
  },
  {
   "cell_type": "code",
   "execution_count": 124,
   "metadata": {},
   "outputs": [
    {
     "data": {
      "text/html": [
       "<div>\n",
       "<style scoped>\n",
       "    .dataframe tbody tr th:only-of-type {\n",
       "        vertical-align: middle;\n",
       "    }\n",
       "\n",
       "    .dataframe tbody tr th {\n",
       "        vertical-align: top;\n",
       "    }\n",
       "\n",
       "    .dataframe thead th {\n",
       "        text-align: right;\n",
       "    }\n",
       "</style>\n",
       "<table border=\"1\" class=\"dataframe\">\n",
       "  <thead>\n",
       "    <tr style=\"text-align: right;\">\n",
       "      <th></th>\n",
       "      <th>MainBranch</th>\n",
       "      <th>Hobbyist</th>\n",
       "      <th>OpenSourcer</th>\n",
       "      <th>OpenSource</th>\n",
       "      <th>Employment</th>\n",
       "      <th>Country</th>\n",
       "      <th>Student</th>\n",
       "      <th>EdLevel</th>\n",
       "      <th>UndergradMajor</th>\n",
       "      <th>EduOther</th>\n",
       "      <th>OrgSize</th>\n",
       "      <th>DevType</th>\n",
       "      <th>YearsCode</th>\n",
       "      <th>Age1stCode</th>\n",
       "      <th>YearsCodePro</th>\n",
       "      <th>CareerSat</th>\n",
       "      <th>JobSat</th>\n",
       "      <th>MgrIdiot</th>\n",
       "      <th>MgrMoney</th>\n",
       "      <th>MgrWant</th>\n",
       "      <th>JobSeek</th>\n",
       "      <th>LastHireDate</th>\n",
       "      <th>LastInt</th>\n",
       "      <th>FizzBuzz</th>\n",
       "      <th>JobFactors</th>\n",
       "      <th>ResumeUpdate</th>\n",
       "      <th>CurrencySymbol</th>\n",
       "      <th>CurrencyDesc</th>\n",
       "      <th>CompTotal</th>\n",
       "      <th>CompFreq</th>\n",
       "      <th>ConvertedComp</th>\n",
       "      <th>WorkWeekHrs</th>\n",
       "      <th>WorkPlan</th>\n",
       "      <th>WorkChallenge</th>\n",
       "      <th>WorkRemote</th>\n",
       "      <th>WorkLoc</th>\n",
       "      <th>ImpSyn</th>\n",
       "      <th>CodeRev</th>\n",
       "      <th>CodeRevHrs</th>\n",
       "      <th>UnitTests</th>\n",
       "      <th>PurchaseHow</th>\n",
       "      <th>PurchaseWhat</th>\n",
       "      <th>LanguageWorkedWith</th>\n",
       "      <th>LanguageDesireNextYear</th>\n",
       "      <th>DatabaseWorkedWith</th>\n",
       "      <th>DatabaseDesireNextYear</th>\n",
       "      <th>PlatformWorkedWith</th>\n",
       "      <th>PlatformDesireNextYear</th>\n",
       "      <th>WebFrameWorkedWith</th>\n",
       "      <th>WebFrameDesireNextYear</th>\n",
       "      <th>MiscTechWorkedWith</th>\n",
       "      <th>MiscTechDesireNextYear</th>\n",
       "      <th>DevEnviron</th>\n",
       "      <th>OpSys</th>\n",
       "      <th>Containers</th>\n",
       "      <th>BlockchainOrg</th>\n",
       "      <th>BlockchainIs</th>\n",
       "      <th>BetterLife</th>\n",
       "      <th>ITperson</th>\n",
       "      <th>OffOn</th>\n",
       "      <th>SocialMedia</th>\n",
       "      <th>Extraversion</th>\n",
       "      <th>ScreenName</th>\n",
       "      <th>SOVisit1st</th>\n",
       "      <th>SOVisitFreq</th>\n",
       "      <th>SOVisitTo</th>\n",
       "      <th>SOFindAnswer</th>\n",
       "      <th>SOTimeSaved</th>\n",
       "      <th>SOHowMuchTime</th>\n",
       "      <th>SOAccount</th>\n",
       "      <th>SOPartFreq</th>\n",
       "      <th>SOJobs</th>\n",
       "      <th>EntTeams</th>\n",
       "      <th>SOComm</th>\n",
       "      <th>WelcomeChange</th>\n",
       "      <th>SONewContent</th>\n",
       "      <th>Age</th>\n",
       "      <th>Gender</th>\n",
       "      <th>Trans</th>\n",
       "      <th>Sexuality</th>\n",
       "      <th>Ethnicity</th>\n",
       "      <th>Dependents</th>\n",
       "      <th>SurveyLength</th>\n",
       "      <th>SurveyEase</th>\n",
       "    </tr>\n",
       "    <tr>\n",
       "      <th>Respondent</th>\n",
       "      <th></th>\n",
       "      <th></th>\n",
       "      <th></th>\n",
       "      <th></th>\n",
       "      <th></th>\n",
       "      <th></th>\n",
       "      <th></th>\n",
       "      <th></th>\n",
       "      <th></th>\n",
       "      <th></th>\n",
       "      <th></th>\n",
       "      <th></th>\n",
       "      <th></th>\n",
       "      <th></th>\n",
       "      <th></th>\n",
       "      <th></th>\n",
       "      <th></th>\n",
       "      <th></th>\n",
       "      <th></th>\n",
       "      <th></th>\n",
       "      <th></th>\n",
       "      <th></th>\n",
       "      <th></th>\n",
       "      <th></th>\n",
       "      <th></th>\n",
       "      <th></th>\n",
       "      <th></th>\n",
       "      <th></th>\n",
       "      <th></th>\n",
       "      <th></th>\n",
       "      <th></th>\n",
       "      <th></th>\n",
       "      <th></th>\n",
       "      <th></th>\n",
       "      <th></th>\n",
       "      <th></th>\n",
       "      <th></th>\n",
       "      <th></th>\n",
       "      <th></th>\n",
       "      <th></th>\n",
       "      <th></th>\n",
       "      <th></th>\n",
       "      <th></th>\n",
       "      <th></th>\n",
       "      <th></th>\n",
       "      <th></th>\n",
       "      <th></th>\n",
       "      <th></th>\n",
       "      <th></th>\n",
       "      <th></th>\n",
       "      <th></th>\n",
       "      <th></th>\n",
       "      <th></th>\n",
       "      <th></th>\n",
       "      <th></th>\n",
       "      <th></th>\n",
       "      <th></th>\n",
       "      <th></th>\n",
       "      <th></th>\n",
       "      <th></th>\n",
       "      <th></th>\n",
       "      <th></th>\n",
       "      <th></th>\n",
       "      <th></th>\n",
       "      <th></th>\n",
       "      <th></th>\n",
       "      <th></th>\n",
       "      <th></th>\n",
       "      <th></th>\n",
       "      <th></th>\n",
       "      <th></th>\n",
       "      <th></th>\n",
       "      <th></th>\n",
       "      <th></th>\n",
       "      <th></th>\n",
       "      <th></th>\n",
       "      <th></th>\n",
       "      <th></th>\n",
       "      <th></th>\n",
       "      <th></th>\n",
       "      <th></th>\n",
       "      <th></th>\n",
       "      <th></th>\n",
       "      <th></th>\n",
       "    </tr>\n",
       "  </thead>\n",
       "  <tbody>\n",
       "    <tr>\n",
       "      <th>63129</th>\n",
       "      <td>I am a developer by profession</td>\n",
       "      <td>Yes</td>\n",
       "      <td>Never</td>\n",
       "      <td>OSS is, on average, of HIGHER quality than pro...</td>\n",
       "      <td>Employed full-time</td>\n",
       "      <td>Afghanistan</td>\n",
       "      <td>Yes, full-time</td>\n",
       "      <td>I never completed any formal education</td>\n",
       "      <td>NaN</td>\n",
       "      <td>Taken an online course in programming or softw...</td>\n",
       "      <td>Just me - I am a freelancer, sole proprietor, ...</td>\n",
       "      <td>NaN</td>\n",
       "      <td>Less than 1 year</td>\n",
       "      <td>Younger than 5 years</td>\n",
       "      <td>1</td>\n",
       "      <td>Very dissatisfied</td>\n",
       "      <td>Very dissatisfied</td>\n",
       "      <td>Very confident</td>\n",
       "      <td>Yes</td>\n",
       "      <td>Yes</td>\n",
       "      <td>I am actively looking for a job</td>\n",
       "      <td>I've never had a job</td>\n",
       "      <td>Write any code</td>\n",
       "      <td>Yes</td>\n",
       "      <td>How widely used or impactful my work output wo...</td>\n",
       "      <td>I had a negative experience or interaction at ...</td>\n",
       "      <td>AED</td>\n",
       "      <td>United Arab Emirates dirham</td>\n",
       "      <td>648838511.0</td>\n",
       "      <td>Monthly</td>\n",
       "      <td>1000000.0</td>\n",
       "      <td>168.0</td>\n",
       "      <td>There is a schedule and/or spec (made by me or...</td>\n",
       "      <td>Being tasked with non-development work</td>\n",
       "      <td>It's complicated</td>\n",
       "      <td>Other place, such as a coworking space or cafe</td>\n",
       "      <td>Far below average</td>\n",
       "      <td>No</td>\n",
       "      <td>NaN</td>\n",
       "      <td>NaN</td>\n",
       "      <td>NaN</td>\n",
       "      <td>NaN</td>\n",
       "      <td>Assembly;Bash/Shell/PowerShell;Other(s):</td>\n",
       "      <td>Bash/Shell/PowerShell;TypeScript</td>\n",
       "      <td>MySQL</td>\n",
       "      <td>MySQL</td>\n",
       "      <td>Android;iOS;Windows;WordPress;Other(s):</td>\n",
       "      <td>Android;iOS;Windows;WordPress;Other(s):</td>\n",
       "      <td>Angular/Angular.js;Express;jQuery;Laravel;Othe...</td>\n",
       "      <td>Angular/Angular.js;Express;jQuery;Laravel;Othe...</td>\n",
       "      <td>Ansible;Apache Spark;Torch/PyTorch</td>\n",
       "      <td>Apache Spark;Torch/PyTorch</td>\n",
       "      <td>Android Studio;Atom;Coda;Eclipse;Emacs;IPython...</td>\n",
       "      <td>Windows</td>\n",
       "      <td>Outside of work, for personal projects</td>\n",
       "      <td>Accepting Bitcoin or other coins and tokens as...</td>\n",
       "      <td>Useful across many domains and could change ma...</td>\n",
       "      <td>Yes</td>\n",
       "      <td>Yes</td>\n",
       "      <td>Yes</td>\n",
       "      <td>I don't use social media</td>\n",
       "      <td>Online</td>\n",
       "      <td>UserID</td>\n",
       "      <td>NaN</td>\n",
       "      <td>I have never visited Stack Overflow (before to...</td>\n",
       "      <td>Find answers to specific questions</td>\n",
       "      <td>Less than once per week</td>\n",
       "      <td>Stack Overflow was much faster</td>\n",
       "      <td>0-10 minutes</td>\n",
       "      <td>NaN</td>\n",
       "      <td>NaN</td>\n",
       "      <td>No, I didn't know that Stack Overflow had a jo...</td>\n",
       "      <td>NaN</td>\n",
       "      <td>No, not at all</td>\n",
       "      <td>NaN</td>\n",
       "      <td>Tech articles written by other developers</td>\n",
       "      <td>NaN</td>\n",
       "      <td>NaN</td>\n",
       "      <td>NaN</td>\n",
       "      <td>NaN</td>\n",
       "      <td>NaN</td>\n",
       "      <td>Yes</td>\n",
       "      <td>Too short</td>\n",
       "      <td>Easy</td>\n",
       "    </tr>\n",
       "  </tbody>\n",
       "</table>\n",
       "</div>"
      ],
      "text/plain": [
       "                                MainBranch Hobbyist OpenSourcer  \\\n",
       "Respondent                                                        \n",
       "63129       I am a developer by profession      Yes       Never   \n",
       "\n",
       "                                                   OpenSource  \\\n",
       "Respondent                                                      \n",
       "63129       OSS is, on average, of HIGHER quality than pro...   \n",
       "\n",
       "                    Employment      Country         Student  \\\n",
       "Respondent                                                    \n",
       "63129       Employed full-time  Afghanistan  Yes, full-time   \n",
       "\n",
       "                                           EdLevel UndergradMajor  \\\n",
       "Respondent                                                          \n",
       "63129       I never completed any formal education            NaN   \n",
       "\n",
       "                                                     EduOther  \\\n",
       "Respondent                                                      \n",
       "63129       Taken an online course in programming or softw...   \n",
       "\n",
       "                                                      OrgSize DevType  \\\n",
       "Respondent                                                              \n",
       "63129       Just me - I am a freelancer, sole proprietor, ...     NaN   \n",
       "\n",
       "                   YearsCode            Age1stCode YearsCodePro  \\\n",
       "Respondent                                                        \n",
       "63129       Less than 1 year  Younger than 5 years            1   \n",
       "\n",
       "                    CareerSat             JobSat        MgrIdiot MgrMoney  \\\n",
       "Respondent                                                                  \n",
       "63129       Very dissatisfied  Very dissatisfied  Very confident      Yes   \n",
       "\n",
       "           MgrWant                          JobSeek          LastHireDate  \\\n",
       "Respondent                                                                  \n",
       "63129          Yes  I am actively looking for a job  I've never had a job   \n",
       "\n",
       "                   LastInt FizzBuzz  \\\n",
       "Respondent                            \n",
       "63129       Write any code      Yes   \n",
       "\n",
       "                                                   JobFactors  \\\n",
       "Respondent                                                      \n",
       "63129       How widely used or impactful my work output wo...   \n",
       "\n",
       "                                                 ResumeUpdate CurrencySymbol  \\\n",
       "Respondent                                                                     \n",
       "63129       I had a negative experience or interaction at ...            AED   \n",
       "\n",
       "                           CurrencyDesc    CompTotal CompFreq  ConvertedComp  \\\n",
       "Respondent                                                                     \n",
       "63129       United Arab Emirates dirham  648838511.0  Monthly      1000000.0   \n",
       "\n",
       "            WorkWeekHrs                                           WorkPlan  \\\n",
       "Respondent                                                                   \n",
       "63129             168.0  There is a schedule and/or spec (made by me or...   \n",
       "\n",
       "                                     WorkChallenge        WorkRemote  \\\n",
       "Respondent                                                             \n",
       "63129       Being tasked with non-development work  It's complicated   \n",
       "\n",
       "                                                   WorkLoc             ImpSyn  \\\n",
       "Respondent                                                                      \n",
       "63129       Other place, such as a coworking space or cafe  Far below average   \n",
       "\n",
       "           CodeRev  CodeRevHrs UnitTests PurchaseHow PurchaseWhat  \\\n",
       "Respondent                                                          \n",
       "63129           No         NaN       NaN         NaN          NaN   \n",
       "\n",
       "                                  LanguageWorkedWith  \\\n",
       "Respondent                                             \n",
       "63129       Assembly;Bash/Shell/PowerShell;Other(s):   \n",
       "\n",
       "                      LanguageDesireNextYear DatabaseWorkedWith  \\\n",
       "Respondent                                                        \n",
       "63129       Bash/Shell/PowerShell;TypeScript              MySQL   \n",
       "\n",
       "           DatabaseDesireNextYear                       PlatformWorkedWith  \\\n",
       "Respondent                                                                   \n",
       "63129                       MySQL  Android;iOS;Windows;WordPress;Other(s):   \n",
       "\n",
       "                             PlatformDesireNextYear  \\\n",
       "Respondent                                            \n",
       "63129       Android;iOS;Windows;WordPress;Other(s):   \n",
       "\n",
       "                                           WebFrameWorkedWith  \\\n",
       "Respondent                                                      \n",
       "63129       Angular/Angular.js;Express;jQuery;Laravel;Othe...   \n",
       "\n",
       "                                       WebFrameDesireNextYear  \\\n",
       "Respondent                                                      \n",
       "63129       Angular/Angular.js;Express;jQuery;Laravel;Othe...   \n",
       "\n",
       "                            MiscTechWorkedWith      MiscTechDesireNextYear  \\\n",
       "Respondent                                                                   \n",
       "63129       Ansible;Apache Spark;Torch/PyTorch  Apache Spark;Torch/PyTorch   \n",
       "\n",
       "                                                   DevEnviron    OpSys  \\\n",
       "Respondent                                                               \n",
       "63129       Android Studio;Atom;Coda;Eclipse;Emacs;IPython...  Windows   \n",
       "\n",
       "                                        Containers  \\\n",
       "Respondent                                           \n",
       "63129       Outside of work, for personal projects   \n",
       "\n",
       "                                                BlockchainOrg  \\\n",
       "Respondent                                                      \n",
       "63129       Accepting Bitcoin or other coins and tokens as...   \n",
       "\n",
       "                                                 BlockchainIs BetterLife  \\\n",
       "Respondent                                                                 \n",
       "63129       Useful across many domains and could change ma...        Yes   \n",
       "\n",
       "           ITperson OffOn               SocialMedia Extraversion ScreenName  \\\n",
       "Respondent                                                                    \n",
       "63129           Yes   Yes  I don't use social media       Online     UserID   \n",
       "\n",
       "           SOVisit1st                                        SOVisitFreq  \\\n",
       "Respondent                                                                 \n",
       "63129             NaN  I have never visited Stack Overflow (before to...   \n",
       "\n",
       "                                     SOVisitTo             SOFindAnswer  \\\n",
       "Respondent                                                                \n",
       "63129       Find answers to specific questions  Less than once per week   \n",
       "\n",
       "                               SOTimeSaved SOHowMuchTime SOAccount SOPartFreq  \\\n",
       "Respondent                                                                      \n",
       "63129       Stack Overflow was much faster  0-10 minutes       NaN        NaN   \n",
       "\n",
       "                                                       SOJobs EntTeams  \\\n",
       "Respondent                                                               \n",
       "63129       No, I didn't know that Stack Overflow had a jo...      NaN   \n",
       "\n",
       "                    SOComm WelcomeChange  \\\n",
       "Respondent                                 \n",
       "63129       No, not at all           NaN   \n",
       "\n",
       "                                         SONewContent  Age Gender Trans  \\\n",
       "Respondent                                                                \n",
       "63129       Tech articles written by other developers  NaN    NaN   NaN   \n",
       "\n",
       "           Sexuality Ethnicity Dependents SurveyLength SurveyEase  \n",
       "Respondent                                                         \n",
       "63129            NaN       NaN        Yes    Too short       Easy  "
      ]
     },
     "execution_count": 124,
     "metadata": {},
     "output_type": "execute_result"
    }
   ],
   "source": [
    "#df.info() # 5 fileds have float values\n",
    "df.head(1)"
   ]
  },
  {
   "cell_type": "code",
   "execution_count": 125,
   "metadata": {},
   "outputs": [
    {
     "data": {
      "text/plain": [
       "CompTotal        62000.0\n",
       "ConvertedComp    57287.0\n",
       "WorkWeekHrs         40.0\n",
       "CodeRevHrs           4.0\n",
       "Age                 29.0\n",
       "dtype: float64"
      ]
     },
     "execution_count": 125,
     "metadata": {},
     "output_type": "execute_result"
    }
   ],
   "source": [
    "# median, mode, mean are all aggregating functions\n",
    "# Mean = Avg\n",
    "# Median = It is the middle value of the list, which is arranged in ascending order\n",
    "# Mode = It is the value which occurs the most.\n",
    "df['ConvertedComp'].median()\n",
    "df.median()"
   ]
  },
  {
   "cell_type": "code",
   "execution_count": 126,
   "metadata": {},
   "outputs": [
    {
     "data": {
      "text/html": [
       "<div>\n",
       "<style scoped>\n",
       "    .dataframe tbody tr th:only-of-type {\n",
       "        vertical-align: middle;\n",
       "    }\n",
       "\n",
       "    .dataframe tbody tr th {\n",
       "        vertical-align: top;\n",
       "    }\n",
       "\n",
       "    .dataframe thead th {\n",
       "        text-align: right;\n",
       "    }\n",
       "</style>\n",
       "<table border=\"1\" class=\"dataframe\">\n",
       "  <thead>\n",
       "    <tr style=\"text-align: right;\">\n",
       "      <th></th>\n",
       "      <th>CompTotal</th>\n",
       "      <th>ConvertedComp</th>\n",
       "      <th>WorkWeekHrs</th>\n",
       "      <th>CodeRevHrs</th>\n",
       "      <th>Age</th>\n",
       "    </tr>\n",
       "  </thead>\n",
       "  <tbody>\n",
       "    <tr>\n",
       "      <th>count</th>\n",
       "      <td>5.594500e+04</td>\n",
       "      <td>5.582300e+04</td>\n",
       "      <td>64503.000000</td>\n",
       "      <td>49790.000000</td>\n",
       "      <td>79210.000000</td>\n",
       "    </tr>\n",
       "    <tr>\n",
       "      <th>mean</th>\n",
       "      <td>5.519014e+11</td>\n",
       "      <td>1.271107e+05</td>\n",
       "      <td>42.127197</td>\n",
       "      <td>5.084308</td>\n",
       "      <td>30.336699</td>\n",
       "    </tr>\n",
       "    <tr>\n",
       "      <th>std</th>\n",
       "      <td>7.331926e+13</td>\n",
       "      <td>2.841523e+05</td>\n",
       "      <td>37.287610</td>\n",
       "      <td>5.513931</td>\n",
       "      <td>9.178390</td>\n",
       "    </tr>\n",
       "    <tr>\n",
       "      <th>min</th>\n",
       "      <td>0.000000e+00</td>\n",
       "      <td>0.000000e+00</td>\n",
       "      <td>1.000000</td>\n",
       "      <td>0.000000</td>\n",
       "      <td>1.000000</td>\n",
       "    </tr>\n",
       "    <tr>\n",
       "      <th>25%</th>\n",
       "      <td>2.000000e+04</td>\n",
       "      <td>2.577750e+04</td>\n",
       "      <td>40.000000</td>\n",
       "      <td>2.000000</td>\n",
       "      <td>24.000000</td>\n",
       "    </tr>\n",
       "    <tr>\n",
       "      <th>50%</th>\n",
       "      <td>6.200000e+04</td>\n",
       "      <td>5.728700e+04</td>\n",
       "      <td>40.000000</td>\n",
       "      <td>4.000000</td>\n",
       "      <td>29.000000</td>\n",
       "    </tr>\n",
       "    <tr>\n",
       "      <th>75%</th>\n",
       "      <td>1.200000e+05</td>\n",
       "      <td>1.000000e+05</td>\n",
       "      <td>44.750000</td>\n",
       "      <td>6.000000</td>\n",
       "      <td>35.000000</td>\n",
       "    </tr>\n",
       "    <tr>\n",
       "      <th>max</th>\n",
       "      <td>1.000000e+16</td>\n",
       "      <td>2.000000e+06</td>\n",
       "      <td>4850.000000</td>\n",
       "      <td>99.000000</td>\n",
       "      <td>99.000000</td>\n",
       "    </tr>\n",
       "  </tbody>\n",
       "</table>\n",
       "</div>"
      ],
      "text/plain": [
       "          CompTotal  ConvertedComp   WorkWeekHrs    CodeRevHrs           Age\n",
       "count  5.594500e+04   5.582300e+04  64503.000000  49790.000000  79210.000000\n",
       "mean   5.519014e+11   1.271107e+05     42.127197      5.084308     30.336699\n",
       "std    7.331926e+13   2.841523e+05     37.287610      5.513931      9.178390\n",
       "min    0.000000e+00   0.000000e+00      1.000000      0.000000      1.000000\n",
       "25%    2.000000e+04   2.577750e+04     40.000000      2.000000     24.000000\n",
       "50%    6.200000e+04   5.728700e+04     40.000000      4.000000     29.000000\n",
       "75%    1.200000e+05   1.000000e+05     44.750000      6.000000     35.000000\n",
       "max    1.000000e+16   2.000000e+06   4850.000000     99.000000     99.000000"
      ]
     },
     "execution_count": 126,
     "metadata": {},
     "output_type": "execute_result"
    }
   ],
   "source": [
    "# check for mean and median(50%) values, see how the mean is effected by the outliers heavily\n",
    "# count is the number of non-NAN rows\n",
    "df.describe() "
   ]
  },
  {
   "cell_type": "code",
   "execution_count": 127,
   "metadata": {},
   "outputs": [
    {
     "data": {
      "text/plain": [
       "Yes    71257\n",
       "No     17626\n",
       "Name: Hobbyist, dtype: int64"
      ]
     },
     "execution_count": 127,
     "metadata": {},
     "output_type": "execute_result"
    }
   ],
   "source": [
    "df['Hobbyist'].value_counts()\n",
    "# df['Hobbyist'].value_counts(normalize=True)"
   ]
  },
  {
   "cell_type": "code",
   "execution_count": 128,
   "metadata": {},
   "outputs": [
    {
     "data": {
      "text/plain": [
       "Reddit                      0.170233\n",
       "YouTube                     0.163791\n",
       "WhatsApp                    0.158071\n",
       "Facebook                    0.156069\n",
       "Twitter                     0.134988\n",
       "Instagram                   0.074150\n",
       "I don't use social media    0.065777\n",
       "LinkedIn                    0.053306\n",
       "WeChat 微信                   0.007899\n",
       "Snapchat                    0.007437\n",
       "VK ВКонта́кте               0.007141\n",
       "Weibo 新浪微博                  0.000663\n",
       "Youku Tudou 优酷              0.000249\n",
       "Hello                       0.000225\n",
       "Name: SocialMedia, dtype: float64"
      ]
     },
     "execution_count": 128,
     "metadata": {},
     "output_type": "execute_result"
    }
   ],
   "source": [
    "# without Normalize the count are just values which will not make much sense.\n",
    "# with Normalize you can see how one is used heavily than other , easy for comparison\n",
    "df['SocialMedia'].value_counts(normalize=True)"
   ]
  },
  {
   "cell_type": "markdown",
   "metadata": {},
   "source": [
    "### DataFrame GroupBy\n",
    "1. This data grouping and then analysing is called as Split Apply Combine.  \n",
    "   <img src='images/image57.png' align='middle' style='width:600px;height:250px'/>\n",
    "2. We can use aggregate functions on the grouped data:\n",
    "   <img src='images/image59.png' align='middle' style='width:400px;height:250px'/>"
   ]
  },
  {
   "cell_type": "code",
   "execution_count": 129,
   "metadata": {},
   "outputs": [],
   "source": [
    "dct = {\n",
    "    'city':['NewYork','Mumbai','Paris','Paris', 'NewYork','Mumbai', 'Mumbai', 'NewYork', 'Paris'],\n",
    "    'temperature':[32, 46, 23, 45, 35, 23, 23, 45, 23],\n",
    "    'windspeed': [6, 7, 12, 15, 2, 5, 6, 7 ,10],\n",
    "    'event': ['rain', 'snow', 'snow', 'rain','rain', 'sunny', 'sunny', 'rain', 'snow'],\n",
    "}"
   ]
  },
  {
   "cell_type": "code",
   "execution_count": 130,
   "metadata": {},
   "outputs": [
    {
     "data": {
      "text/html": [
       "<div>\n",
       "<style scoped>\n",
       "    .dataframe tbody tr th:only-of-type {\n",
       "        vertical-align: middle;\n",
       "    }\n",
       "\n",
       "    .dataframe tbody tr th {\n",
       "        vertical-align: top;\n",
       "    }\n",
       "\n",
       "    .dataframe thead th {\n",
       "        text-align: right;\n",
       "    }\n",
       "</style>\n",
       "<table border=\"1\" class=\"dataframe\">\n",
       "  <thead>\n",
       "    <tr style=\"text-align: right;\">\n",
       "      <th></th>\n",
       "      <th>city</th>\n",
       "      <th>temperature</th>\n",
       "      <th>windspeed</th>\n",
       "      <th>event</th>\n",
       "    </tr>\n",
       "  </thead>\n",
       "  <tbody>\n",
       "    <tr>\n",
       "      <th>0</th>\n",
       "      <td>NewYork</td>\n",
       "      <td>32</td>\n",
       "      <td>6</td>\n",
       "      <td>rain</td>\n",
       "    </tr>\n",
       "    <tr>\n",
       "      <th>1</th>\n",
       "      <td>Mumbai</td>\n",
       "      <td>46</td>\n",
       "      <td>7</td>\n",
       "      <td>snow</td>\n",
       "    </tr>\n",
       "    <tr>\n",
       "      <th>2</th>\n",
       "      <td>Paris</td>\n",
       "      <td>23</td>\n",
       "      <td>12</td>\n",
       "      <td>snow</td>\n",
       "    </tr>\n",
       "    <tr>\n",
       "      <th>3</th>\n",
       "      <td>Paris</td>\n",
       "      <td>45</td>\n",
       "      <td>15</td>\n",
       "      <td>rain</td>\n",
       "    </tr>\n",
       "    <tr>\n",
       "      <th>4</th>\n",
       "      <td>NewYork</td>\n",
       "      <td>35</td>\n",
       "      <td>2</td>\n",
       "      <td>rain</td>\n",
       "    </tr>\n",
       "    <tr>\n",
       "      <th>5</th>\n",
       "      <td>Mumbai</td>\n",
       "      <td>23</td>\n",
       "      <td>5</td>\n",
       "      <td>sunny</td>\n",
       "    </tr>\n",
       "    <tr>\n",
       "      <th>6</th>\n",
       "      <td>Mumbai</td>\n",
       "      <td>23</td>\n",
       "      <td>6</td>\n",
       "      <td>sunny</td>\n",
       "    </tr>\n",
       "    <tr>\n",
       "      <th>7</th>\n",
       "      <td>NewYork</td>\n",
       "      <td>45</td>\n",
       "      <td>7</td>\n",
       "      <td>rain</td>\n",
       "    </tr>\n",
       "    <tr>\n",
       "      <th>8</th>\n",
       "      <td>Paris</td>\n",
       "      <td>23</td>\n",
       "      <td>10</td>\n",
       "      <td>snow</td>\n",
       "    </tr>\n",
       "  </tbody>\n",
       "</table>\n",
       "</div>"
      ],
      "text/plain": [
       "      city  temperature  windspeed  event\n",
       "0  NewYork           32          6   rain\n",
       "1   Mumbai           46          7   snow\n",
       "2    Paris           23         12   snow\n",
       "3    Paris           45         15   rain\n",
       "4  NewYork           35          2   rain\n",
       "5   Mumbai           23          5  sunny\n",
       "6   Mumbai           23          6  sunny\n",
       "7  NewYork           45          7   rain\n",
       "8    Paris           23         10   snow"
      ]
     },
     "execution_count": 130,
     "metadata": {},
     "output_type": "execute_result"
    }
   ],
   "source": [
    "df1 = pd.DataFrame(dct)\n",
    "df1"
   ]
  },
  {
   "cell_type": "code",
   "execution_count": 131,
   "metadata": {},
   "outputs": [],
   "source": [
    "# groups the dataframe by city and returns a pandas.core.groupby.generic.DataFrameGroupBy\n",
    "grouped = df1.groupby('city') #"
   ]
  },
  {
   "cell_type": "code",
   "execution_count": 132,
   "metadata": {},
   "outputs": [
    {
     "name": "stdout",
     "output_type": "stream",
     "text": [
      "Mumbai\n",
      "     city  temperature  windspeed  event\n",
      "1  Mumbai           46          7   snow\n",
      "5  Mumbai           23          5  sunny\n",
      "6  Mumbai           23          6  sunny\n",
      "NewYork\n",
      "      city  temperature  windspeed event\n",
      "0  NewYork           32          6  rain\n",
      "4  NewYork           35          2  rain\n",
      "7  NewYork           45          7  rain\n",
      "Paris\n",
      "    city  temperature  windspeed event\n",
      "2  Paris           23         12  snow\n",
      "3  Paris           45         15  rain\n",
      "8  Paris           23         10  snow\n"
     ]
    }
   ],
   "source": [
    "# iterate through groupby\n",
    "# this is a way to visualize how grouping looks like\n",
    "for name, group in grouped:\n",
    "    print(name)\n",
    "    print(group)"
   ]
  },
  {
   "cell_type": "code",
   "execution_count": 133,
   "metadata": {},
   "outputs": [
    {
     "data": {
      "text/html": [
       "<div>\n",
       "<style scoped>\n",
       "    .dataframe tbody tr th:only-of-type {\n",
       "        vertical-align: middle;\n",
       "    }\n",
       "\n",
       "    .dataframe tbody tr th {\n",
       "        vertical-align: top;\n",
       "    }\n",
       "\n",
       "    .dataframe thead th {\n",
       "        text-align: right;\n",
       "    }\n",
       "</style>\n",
       "<table border=\"1\" class=\"dataframe\">\n",
       "  <thead>\n",
       "    <tr style=\"text-align: right;\">\n",
       "      <th></th>\n",
       "      <th>city</th>\n",
       "      <th>temperature</th>\n",
       "      <th>windspeed</th>\n",
       "      <th>event</th>\n",
       "    </tr>\n",
       "  </thead>\n",
       "  <tbody>\n",
       "    <tr>\n",
       "      <th>1</th>\n",
       "      <td>Mumbai</td>\n",
       "      <td>46</td>\n",
       "      <td>7</td>\n",
       "      <td>snow</td>\n",
       "    </tr>\n",
       "    <tr>\n",
       "      <th>5</th>\n",
       "      <td>Mumbai</td>\n",
       "      <td>23</td>\n",
       "      <td>5</td>\n",
       "      <td>sunny</td>\n",
       "    </tr>\n",
       "    <tr>\n",
       "      <th>6</th>\n",
       "      <td>Mumbai</td>\n",
       "      <td>23</td>\n",
       "      <td>6</td>\n",
       "      <td>sunny</td>\n",
       "    </tr>\n",
       "  </tbody>\n",
       "</table>\n",
       "</div>"
      ],
      "text/plain": [
       "     city  temperature  windspeed  event\n",
       "1  Mumbai           46          7   snow\n",
       "5  Mumbai           23          5  sunny\n",
       "6  Mumbai           23          6  sunny"
      ]
     },
     "execution_count": 133,
     "metadata": {},
     "output_type": "execute_result"
    }
   ],
   "source": [
    "# read individual groups\n",
    "grouped.get_group('Mumbai')"
   ]
  },
  {
   "cell_type": "code",
   "execution_count": 134,
   "metadata": {},
   "outputs": [
    {
     "name": "stdout",
     "output_type": "stream",
     "text": [
      "*********************************************\n",
      "   Pclass  Survived\n",
      "0       1  0.629630\n",
      "1       2  0.472826\n",
      "2       3  0.242363\n",
      "   Pclass  Survived\n",
      "0       1       136\n",
      "1       2        87\n",
      "2       3       119\n",
      "   Pclass  Survived\n",
      "0       1       216\n",
      "1       2       184\n",
      "2       3       491\n",
      "   Pclass  Survived\n",
      "0       1  0.484026\n",
      "1       2  0.500623\n",
      "2       3  0.428949\n"
     ]
    }
   ],
   "source": [
    "# using titanic dataset groupby analyse the impact of Pclass(passenger class) on Survival number\n",
    "# the as_index=True will use the groupby column-'Pclass' as the group index, if False it will not\n",
    "Tgrouped = tnic_df[['Pclass', 'Survived']].groupby(['Pclass'], as_index=False)\n",
    "# for name, group in grouped:\n",
    "#     print(name)\n",
    "#     print(group)\n",
    "print(\"*********************************************\")\n",
    "print(Tgrouped.mean()) # this will give you mean Survivals for each Pclass\n",
    "print(Tgrouped.sum()) # this will give you sum of Survvial for each group \n",
    "print(Tgrouped.count()) # This gives total number of enteries 136/216 = 0.629(mean)\n",
    "print(Tgrouped.std()) # \n",
    "# so 1st class persons survived more than 2nd and 3rd"
   ]
  },
  {
   "cell_type": "code",
   "execution_count": 135,
   "metadata": {},
   "outputs": [
    {
     "data": {
      "text/html": [
       "<div>\n",
       "<style scoped>\n",
       "    .dataframe tbody tr th:only-of-type {\n",
       "        vertical-align: middle;\n",
       "    }\n",
       "\n",
       "    .dataframe tbody tr th {\n",
       "        vertical-align: top;\n",
       "    }\n",
       "\n",
       "    .dataframe thead th {\n",
       "        text-align: right;\n",
       "    }\n",
       "</style>\n",
       "<table border=\"1\" class=\"dataframe\">\n",
       "  <thead>\n",
       "    <tr style=\"text-align: right;\">\n",
       "      <th></th>\n",
       "      <th>temperature</th>\n",
       "      <th>windspeed</th>\n",
       "      <th>event</th>\n",
       "    </tr>\n",
       "    <tr>\n",
       "      <th>city</th>\n",
       "      <th></th>\n",
       "      <th></th>\n",
       "      <th></th>\n",
       "    </tr>\n",
       "  </thead>\n",
       "  <tbody>\n",
       "    <tr>\n",
       "      <th>Mumbai</th>\n",
       "      <td>46</td>\n",
       "      <td>7</td>\n",
       "      <td>sunny</td>\n",
       "    </tr>\n",
       "    <tr>\n",
       "      <th>NewYork</th>\n",
       "      <td>45</td>\n",
       "      <td>7</td>\n",
       "      <td>rain</td>\n",
       "    </tr>\n",
       "    <tr>\n",
       "      <th>Paris</th>\n",
       "      <td>45</td>\n",
       "      <td>15</td>\n",
       "      <td>snow</td>\n",
       "    </tr>\n",
       "  </tbody>\n",
       "</table>\n",
       "</div>"
      ],
      "text/plain": [
       "         temperature  windspeed  event\n",
       "city                                  \n",
       "Mumbai            46          7  sunny\n",
       "NewYork           45          7   rain\n",
       "Paris             45         15   snow"
      ]
     },
     "execution_count": 135,
     "metadata": {},
     "output_type": "execute_result"
    }
   ],
   "source": [
    "# stats in groupby\n",
    "grouped.get_group('Mumbai').max() # to get the data for all columns but just Mumbai\n",
    "grouped.max() #get all columns for all cities"
   ]
  },
  {
   "cell_type": "code",
   "execution_count": 136,
   "metadata": {},
   "outputs": [
    {
     "data": {
      "text/html": [
       "<div>\n",
       "<style scoped>\n",
       "    .dataframe tbody tr th:only-of-type {\n",
       "        vertical-align: middle;\n",
       "    }\n",
       "\n",
       "    .dataframe tbody tr th {\n",
       "        vertical-align: top;\n",
       "    }\n",
       "\n",
       "    .dataframe thead tr th {\n",
       "        text-align: left;\n",
       "    }\n",
       "\n",
       "    .dataframe thead tr:last-of-type th {\n",
       "        text-align: right;\n",
       "    }\n",
       "</style>\n",
       "<table border=\"1\" class=\"dataframe\">\n",
       "  <thead>\n",
       "    <tr>\n",
       "      <th></th>\n",
       "      <th colspan=\"8\" halign=\"left\">temperature</th>\n",
       "      <th colspan=\"8\" halign=\"left\">windspeed</th>\n",
       "    </tr>\n",
       "    <tr>\n",
       "      <th></th>\n",
       "      <th>count</th>\n",
       "      <th>mean</th>\n",
       "      <th>std</th>\n",
       "      <th>min</th>\n",
       "      <th>25%</th>\n",
       "      <th>50%</th>\n",
       "      <th>75%</th>\n",
       "      <th>max</th>\n",
       "      <th>count</th>\n",
       "      <th>mean</th>\n",
       "      <th>std</th>\n",
       "      <th>min</th>\n",
       "      <th>25%</th>\n",
       "      <th>50%</th>\n",
       "      <th>75%</th>\n",
       "      <th>max</th>\n",
       "    </tr>\n",
       "    <tr>\n",
       "      <th>city</th>\n",
       "      <th></th>\n",
       "      <th></th>\n",
       "      <th></th>\n",
       "      <th></th>\n",
       "      <th></th>\n",
       "      <th></th>\n",
       "      <th></th>\n",
       "      <th></th>\n",
       "      <th></th>\n",
       "      <th></th>\n",
       "      <th></th>\n",
       "      <th></th>\n",
       "      <th></th>\n",
       "      <th></th>\n",
       "      <th></th>\n",
       "      <th></th>\n",
       "    </tr>\n",
       "  </thead>\n",
       "  <tbody>\n",
       "    <tr>\n",
       "      <th>Mumbai</th>\n",
       "      <td>3.0</td>\n",
       "      <td>30.666667</td>\n",
       "      <td>13.279056</td>\n",
       "      <td>23.0</td>\n",
       "      <td>23.0</td>\n",
       "      <td>23.0</td>\n",
       "      <td>34.5</td>\n",
       "      <td>46.0</td>\n",
       "      <td>3.0</td>\n",
       "      <td>6.000000</td>\n",
       "      <td>1.000000</td>\n",
       "      <td>5.0</td>\n",
       "      <td>5.5</td>\n",
       "      <td>6.0</td>\n",
       "      <td>6.5</td>\n",
       "      <td>7.0</td>\n",
       "    </tr>\n",
       "    <tr>\n",
       "      <th>NewYork</th>\n",
       "      <td>3.0</td>\n",
       "      <td>37.333333</td>\n",
       "      <td>6.806859</td>\n",
       "      <td>32.0</td>\n",
       "      <td>33.5</td>\n",
       "      <td>35.0</td>\n",
       "      <td>40.0</td>\n",
       "      <td>45.0</td>\n",
       "      <td>3.0</td>\n",
       "      <td>5.000000</td>\n",
       "      <td>2.645751</td>\n",
       "      <td>2.0</td>\n",
       "      <td>4.0</td>\n",
       "      <td>6.0</td>\n",
       "      <td>6.5</td>\n",
       "      <td>7.0</td>\n",
       "    </tr>\n",
       "    <tr>\n",
       "      <th>Paris</th>\n",
       "      <td>3.0</td>\n",
       "      <td>30.333333</td>\n",
       "      <td>12.701706</td>\n",
       "      <td>23.0</td>\n",
       "      <td>23.0</td>\n",
       "      <td>23.0</td>\n",
       "      <td>34.0</td>\n",
       "      <td>45.0</td>\n",
       "      <td>3.0</td>\n",
       "      <td>12.333333</td>\n",
       "      <td>2.516611</td>\n",
       "      <td>10.0</td>\n",
       "      <td>11.0</td>\n",
       "      <td>12.0</td>\n",
       "      <td>13.5</td>\n",
       "      <td>15.0</td>\n",
       "    </tr>\n",
       "  </tbody>\n",
       "</table>\n",
       "</div>"
      ],
      "text/plain": [
       "        temperature                                                      \\\n",
       "              count       mean        std   min   25%   50%   75%   max   \n",
       "city                                                                      \n",
       "Mumbai          3.0  30.666667  13.279056  23.0  23.0  23.0  34.5  46.0   \n",
       "NewYork         3.0  37.333333   6.806859  32.0  33.5  35.0  40.0  45.0   \n",
       "Paris           3.0  30.333333  12.701706  23.0  23.0  23.0  34.0  45.0   \n",
       "\n",
       "        windspeed                                                     \n",
       "            count       mean       std   min   25%   50%   75%   max  \n",
       "city                                                                  \n",
       "Mumbai        3.0   6.000000  1.000000   5.0   5.5   6.0   6.5   7.0  \n",
       "NewYork       3.0   5.000000  2.645751   2.0   4.0   6.0   6.5   7.0  \n",
       "Paris         3.0  12.333333  2.516611  10.0  11.0  12.0  13.5  15.0  "
      ]
     },
     "execution_count": 136,
     "metadata": {},
     "output_type": "execute_result"
    }
   ],
   "source": [
    "grouped.describe()"
   ]
  },
  {
   "cell_type": "code",
   "execution_count": 137,
   "metadata": {},
   "outputs": [
    {
     "data": {
      "text/plain": [
       "city     temperature\n",
       "Mumbai   23             2\n",
       "         46             1\n",
       "NewYork  32             1\n",
       "         35             1\n",
       "         45             1\n",
       "Paris    23             2\n",
       "         45             1\n",
       "Name: temperature, dtype: int64"
      ]
     },
     "execution_count": 137,
     "metadata": {},
     "output_type": "execute_result"
    }
   ],
   "source": [
    "# grouped['temperature'].value_counts() # this is of type series so you can access \n",
    "type(grouped['temperature']) # pandas.core.groupby.generic.SeriesGroupBy\n",
    "grouped['temperature'].value_counts().loc['Mumbai']\n",
    "grouped['temperature'].value_counts()"
   ]
  },
  {
   "cell_type": "code",
   "execution_count": 138,
   "metadata": {},
   "outputs": [
    {
     "data": {
      "text/plain": [
       "city\n",
       "Mumbai     AxesSubplot(0.125,0.125;0.775x0.755)\n",
       "NewYork    AxesSubplot(0.125,0.125;0.775x0.755)\n",
       "Paris      AxesSubplot(0.125,0.125;0.775x0.755)\n",
       "dtype: object"
      ]
     },
     "execution_count": 138,
     "metadata": {},
     "output_type": "execute_result"
    },
    {
     "data": {
      "image/png": "[encoded data removed]",
      "text/plain": [
       "<Figure size 432x288 with 1 Axes>"
      ]
     },
     "metadata": {
      "needs_background": "light"
     },
     "output_type": "display_data"
    },
    {
     "data": {
      "image/png": "[encoded data removed]",
      "text/plain": [
       "<Figure size 432x288 with 1 Axes>"
      ]
     },
     "metadata": {
      "needs_background": "light"
     },
     "output_type": "display_data"
    },
    {
     "data": {
      "image/png": "[encoded data removed]",
      "text/plain": [
       "<Figure size 432x288 with 1 Axes>"
      ]
     },
     "metadata": {
      "needs_background": "light"
     },
     "output_type": "display_data"
    }
   ],
   "source": [
    "grouped.plot()"
   ]
  },
  {
   "cell_type": "code",
   "execution_count": 139,
   "metadata": {},
   "outputs": [
    {
     "data": {
      "text/plain": [
       "United States                       20949\n",
       "India                                9061\n",
       "Germany                              5866\n",
       "United Kingdom                       5737\n",
       "Canada                               3395\n",
       "                                    ...  \n",
       "Saint Vincent and the Grenadines        1\n",
       "Brunei Darussalam                       1\n",
       "Sao Tome and Principe                   1\n",
       "Timor-Leste                             1\n",
       "Tonga                                   1\n",
       "Name: Country, Length: 179, dtype: int64"
      ]
     },
     "execution_count": 139,
     "metadata": {},
     "output_type": "execute_result"
    }
   ],
   "source": [
    "# group by function\n",
    "df['Country'].value_counts()"
   ]
  },
  {
   "cell_type": "code",
   "execution_count": 141,
   "metadata": {},
   "outputs": [
    {
     "data": {
      "text/plain": [
       "<pandas.core.groupby.generic.DataFrameGroupBy object at 0x15E3EB80>"
      ]
     },
     "execution_count": 141,
     "metadata": {},
     "output_type": "execute_result"
    }
   ],
   "source": [
    "country_grp = df.groupby(['Country']) #pandas.core.groupby.generic.DataFrameGroupBy\n",
    "country_grp"
   ]
  },
  {
   "cell_type": "markdown",
   "metadata": {},
   "source": [
    "### qcut and cut - This is used to convert a contineous data to categorical data\n",
    "1. pd.cut(): cut command creates __equispaced bins__ but __frequency__ of samples is __unequal__ in each bin\n",
    "2. pd.qcut(): qcut command creates __unequal size bins__ but __frequency__ of samples is __equal__ in each bin."
   ]
  },
  {
   "cell_type": "code",
   "execution_count": 142,
   "metadata": {},
   "outputs": [
    {
     "data": {
      "text/html": [
       "<div>\n",
       "<style scoped>\n",
       "    .dataframe tbody tr th:only-of-type {\n",
       "        vertical-align: middle;\n",
       "    }\n",
       "\n",
       "    .dataframe tbody tr th {\n",
       "        vertical-align: top;\n",
       "    }\n",
       "\n",
       "    .dataframe thead th {\n",
       "        text-align: right;\n",
       "    }\n",
       "</style>\n",
       "<table border=\"1\" class=\"dataframe\">\n",
       "  <thead>\n",
       "    <tr style=\"text-align: right;\">\n",
       "      <th></th>\n",
       "      <th>num</th>\n",
       "    </tr>\n",
       "  </thead>\n",
       "  <tbody>\n",
       "    <tr>\n",
       "      <th>0</th>\n",
       "      <td>24</td>\n",
       "    </tr>\n",
       "    <tr>\n",
       "      <th>1</th>\n",
       "      <td>7</td>\n",
       "    </tr>\n",
       "    <tr>\n",
       "      <th>2</th>\n",
       "      <td>2</td>\n",
       "    </tr>\n",
       "    <tr>\n",
       "      <th>3</th>\n",
       "      <td>25</td>\n",
       "    </tr>\n",
       "    <tr>\n",
       "      <th>4</th>\n",
       "      <td>22</td>\n",
       "    </tr>\n",
       "    <tr>\n",
       "      <th>5</th>\n",
       "      <td>29</td>\n",
       "    </tr>\n",
       "  </tbody>\n",
       "</table>\n",
       "</div>"
      ],
      "text/plain": [
       "   num\n",
       "0   24\n",
       "1    7\n",
       "2    2\n",
       "3   25\n",
       "4   22\n",
       "5   29"
      ]
     },
     "execution_count": 142,
     "metadata": {},
     "output_type": "execute_result"
    }
   ],
   "source": [
    "num = np.array([24,  7,  2, 25, 22, 29]) # add a duplicate and see teh result in qcut, it may throw a error\n",
    "numbers = pd.DataFrame(num, columns=['num'])\n",
    "numbers"
   ]
  },
  {
   "cell_type": "code",
   "execution_count": 143,
   "metadata": {},
   "outputs": [
    {
     "name": "stdout",
     "output_type": "stream",
     "text": [
      "(20.0, 29.0]     4\n",
      "(1.973, 11.0]    2\n",
      "(11.0, 20.0]     0\n",
      "Name: num, dtype: int64\n"
     ]
    }
   ],
   "source": [
    "res = pd.cut(numbers['num'], 3)\n",
    "# res.describe()\n",
    "print(res.value_counts()) #Bins size has equal interval of 9    "
   ]
  },
  {
   "cell_type": "code",
   "execution_count": 144,
   "metadata": {},
   "outputs": [
    {
     "name": "stdout",
     "output_type": "stream",
     "text": [
      "(24.333, 29.0]    2\n",
      "(17.0, 24.333]    2\n",
      "(1.999, 17.0]     2\n",
      "Name: num, dtype: int64\n"
     ]
    }
   ],
   "source": [
    "# qcut may sometime not have equal counts if the data contains repeated numbers\n",
    "res1 = pd.qcut(numbers['num'], 3)\n",
    "print(res1.value_counts())  #Equal frequecy of 2 in each bins"
   ]
  },
  {
   "cell_type": "code",
   "execution_count": 145,
   "metadata": {},
   "outputs": [
    {
     "data": {
      "text/html": [
       "<div>\n",
       "<style scoped>\n",
       "    .dataframe tbody tr th:only-of-type {\n",
       "        vertical-align: middle;\n",
       "    }\n",
       "\n",
       "    .dataframe tbody tr th {\n",
       "        vertical-align: top;\n",
       "    }\n",
       "\n",
       "    .dataframe thead th {\n",
       "        text-align: right;\n",
       "    }\n",
       "</style>\n",
       "<table border=\"1\" class=\"dataframe\">\n",
       "  <thead>\n",
       "    <tr style=\"text-align: right;\">\n",
       "      <th></th>\n",
       "      <th>num</th>\n",
       "      <th>cut</th>\n",
       "      <th>qcut</th>\n",
       "    </tr>\n",
       "  </thead>\n",
       "  <tbody>\n",
       "    <tr>\n",
       "      <th>0</th>\n",
       "      <td>24</td>\n",
       "      <td>(20.0, 29.0]</td>\n",
       "      <td>(17.0, 24.333]</td>\n",
       "    </tr>\n",
       "    <tr>\n",
       "      <th>1</th>\n",
       "      <td>7</td>\n",
       "      <td>(1.973, 11.0]</td>\n",
       "      <td>(1.999, 17.0]</td>\n",
       "    </tr>\n",
       "    <tr>\n",
       "      <th>2</th>\n",
       "      <td>2</td>\n",
       "      <td>(1.973, 11.0]</td>\n",
       "      <td>(1.999, 17.0]</td>\n",
       "    </tr>\n",
       "    <tr>\n",
       "      <th>3</th>\n",
       "      <td>25</td>\n",
       "      <td>(20.0, 29.0]</td>\n",
       "      <td>(24.333, 29.0]</td>\n",
       "    </tr>\n",
       "    <tr>\n",
       "      <th>4</th>\n",
       "      <td>22</td>\n",
       "      <td>(20.0, 29.0]</td>\n",
       "      <td>(17.0, 24.333]</td>\n",
       "    </tr>\n",
       "    <tr>\n",
       "      <th>5</th>\n",
       "      <td>29</td>\n",
       "      <td>(20.0, 29.0]</td>\n",
       "      <td>(24.333, 29.0]</td>\n",
       "    </tr>\n",
       "  </tbody>\n",
       "</table>\n",
       "</div>"
      ],
      "text/plain": [
       "   num            cut            qcut\n",
       "0   24   (20.0, 29.0]  (17.0, 24.333]\n",
       "1    7  (1.973, 11.0]   (1.999, 17.0]\n",
       "2    2  (1.973, 11.0]   (1.999, 17.0]\n",
       "3   25   (20.0, 29.0]  (24.333, 29.0]\n",
       "4   22   (20.0, 29.0]  (17.0, 24.333]\n",
       "5   29   (20.0, 29.0]  (24.333, 29.0]"
      ]
     },
     "execution_count": 145,
     "metadata": {},
     "output_type": "execute_result"
    }
   ],
   "source": [
    "# see how this categorical datas adds to the column\n",
    "numbers['cut'] = res\n",
    "numbers['qcut'] = res1\n",
    "numbers"
   ]
  },
  {
   "cell_type": "code",
   "execution_count": 146,
   "metadata": {},
   "outputs": [
    {
     "data": {
      "text/plain": [
       "[3, 1, 3, 1, 3, ..., 2, 1, 3, 1, 3]\n",
       "Length: 891\n",
       "Categories (3, int64): [1, 2, 3]"
      ]
     },
     "execution_count": 146,
     "metadata": {},
     "output_type": "execute_result"
    }
   ],
   "source": [
    "# Another way to check the categories in a series df\n",
    "pd.Categorical(tnic_df['Pclass']) # This shows that 'Pclass' takes 3 unique values"
   ]
  },
  {
   "cell_type": "code",
   "execution_count": 147,
   "metadata": {},
   "outputs": [
    {
     "name": "stdout",
     "output_type": "stream",
     "text": [
      "3    491\n",
      "1    216\n",
      "2    184\n",
      "Name: Pclass, dtype: int64\n",
      "*********************************************\n",
      "[3 1 2]\n"
     ]
    }
   ],
   "source": [
    "print(tnic_df['Pclass'].value_counts())\n",
    "print('*'*45)\n",
    "print(tnic_df['Pclass'].unique())"
   ]
  },
  {
   "cell_type": "markdown",
   "metadata": {},
   "source": [
    "### pivot vs crosstab\n",
    "1. https://medium.com/@yangdustin5/quick-guide-to-pandas-pivot-table-crosstab-40798b33e367\n",
    "1. https://pbpython.com/pandas-crosstab.html\n",
    "2. Both create tables and compare features/columns of data. \n",
    "3. Pivot Table : expects your input to be a DF. You pass a DataFrame to pivot_table and specify the index/columns/values by passing the column names as strings. With cross_tab, you don't necessarily need to have a DataFrame going in, as you just pass array-like objects for index/columns/values.\n",
    "2. Contingency Table or CrossTab - in Statistics, this is a type of table in matrix format that displays the frequency distribution(multivariate) of the variables. - https://en.wikipedia.org/wiki/Contingency_table\n",
    " "
   ]
  },
  {
   "cell_type": "code",
   "execution_count": 148,
   "metadata": {},
   "outputs": [
    {
     "data": {
      "text/html": [
       "<div>\n",
       "<style scoped>\n",
       "    .dataframe tbody tr th:only-of-type {\n",
       "        vertical-align: middle;\n",
       "    }\n",
       "\n",
       "    .dataframe tbody tr th {\n",
       "        vertical-align: top;\n",
       "    }\n",
       "\n",
       "    .dataframe thead th {\n",
       "        text-align: right;\n",
       "    }\n",
       "</style>\n",
       "<table border=\"1\" class=\"dataframe\">\n",
       "  <thead>\n",
       "    <tr style=\"text-align: right;\">\n",
       "      <th>Survived</th>\n",
       "      <th>0</th>\n",
       "      <th>1</th>\n",
       "      <th>All</th>\n",
       "    </tr>\n",
       "    <tr>\n",
       "      <th>Pclass</th>\n",
       "      <th></th>\n",
       "      <th></th>\n",
       "      <th></th>\n",
       "    </tr>\n",
       "  </thead>\n",
       "  <tbody>\n",
       "    <tr>\n",
       "      <th>1</th>\n",
       "      <td>80</td>\n",
       "      <td>136</td>\n",
       "      <td>216</td>\n",
       "    </tr>\n",
       "    <tr>\n",
       "      <th>2</th>\n",
       "      <td>97</td>\n",
       "      <td>87</td>\n",
       "      <td>184</td>\n",
       "    </tr>\n",
       "    <tr>\n",
       "      <th>3</th>\n",
       "      <td>372</td>\n",
       "      <td>119</td>\n",
       "      <td>491</td>\n",
       "    </tr>\n",
       "    <tr>\n",
       "      <th>All</th>\n",
       "      <td>549</td>\n",
       "      <td>342</td>\n",
       "      <td>891</td>\n",
       "    </tr>\n",
       "  </tbody>\n",
       "</table>\n",
       "</div>"
      ],
      "text/plain": [
       "Survived    0    1  All\n",
       "Pclass                 \n",
       "1          80  136  216\n",
       "2          97   87  184\n",
       "3         372  119  491\n",
       "All       549  342  891"
      ]
     },
     "execution_count": 148,
     "metadata": {},
     "output_type": "execute_result"
    }
   ],
   "source": [
    "# this will give you a table to analyse Survival count on Pclass\n",
    "# this might not be the ideal example for crosstab\n",
    "# See Titanic notebook for 'pd.crosstab(train['Title'], train['Sex'])'\n",
    "pd.crosstab(tnic_df['Pclass'], tnic_df['Survived'], margins=True)\n"
   ]
  },
  {
   "cell_type": "code",
   "execution_count": 149,
   "metadata": {},
   "outputs": [],
   "source": [
    "#Error:  Index contains duplicate entries, cannot reshape\n",
    "# tnic_df.pivot(index='Pclass', columns='Survived')"
   ]
  },
  {
   "cell_type": "code",
   "execution_count": 150,
   "metadata": {},
   "outputs": [
    {
     "data": {
      "text/html": [
       "<div>\n",
       "<style scoped>\n",
       "    .dataframe tbody tr th:only-of-type {\n",
       "        vertical-align: middle;\n",
       "    }\n",
       "\n",
       "    .dataframe tbody tr th {\n",
       "        vertical-align: top;\n",
       "    }\n",
       "\n",
       "    .dataframe thead th {\n",
       "        text-align: right;\n",
       "    }\n",
       "</style>\n",
       "<table border=\"1\" class=\"dataframe\">\n",
       "  <thead>\n",
       "    <tr style=\"text-align: right;\">\n",
       "      <th></th>\n",
       "      <th>Survived</th>\n",
       "    </tr>\n",
       "    <tr>\n",
       "      <th>Pclass</th>\n",
       "      <th></th>\n",
       "    </tr>\n",
       "  </thead>\n",
       "  <tbody>\n",
       "    <tr>\n",
       "      <th>1</th>\n",
       "      <td>0.629630</td>\n",
       "    </tr>\n",
       "    <tr>\n",
       "      <th>2</th>\n",
       "      <td>0.472826</td>\n",
       "    </tr>\n",
       "    <tr>\n",
       "      <th>3</th>\n",
       "      <td>0.242363</td>\n",
       "    </tr>\n",
       "  </tbody>\n",
       "</table>\n",
       "</div>"
      ],
      "text/plain": [
       "        Survived\n",
       "Pclass          \n",
       "1       0.629630\n",
       "2       0.472826\n",
       "3       0.242363"
      ]
     },
     "execution_count": 150,
     "metadata": {},
     "output_type": "execute_result"
    }
   ],
   "source": [
    "# See that groupby can also give similar results\n",
    "# but crosstab gives back a dataframe with much better representation and more information\n",
    "tnic_df[['Pclass', 'Survived']].groupby(['Pclass'], as_index=True).mean()"
   ]
  },
  {
   "cell_type": "code",
   "execution_count": 151,
   "metadata": {},
   "outputs": [],
   "source": [
    "# pivot does not allow duplicates in index , TBD\n",
    "# tnic_df.pivot(index='Pclass', columns='Survived')"
   ]
  },
  {
   "cell_type": "markdown",
   "metadata": {},
   "source": [
    "### Iterating through the group"
   ]
  },
  {
   "cell_type": "code",
   "execution_count": 152,
   "metadata": {},
   "outputs": [
    {
     "data": {
      "text/html": [
       "<div>\n",
       "<style scoped>\n",
       "    .dataframe tbody tr th:only-of-type {\n",
       "        vertical-align: middle;\n",
       "    }\n",
       "\n",
       "    .dataframe tbody tr th {\n",
       "        vertical-align: top;\n",
       "    }\n",
       "\n",
       "    .dataframe thead th {\n",
       "        text-align: right;\n",
       "    }\n",
       "</style>\n",
       "<table border=\"1\" class=\"dataframe\">\n",
       "  <thead>\n",
       "    <tr style=\"text-align: right;\">\n",
       "      <th></th>\n",
       "      <th>MainBranch</th>\n",
       "      <th>Hobbyist</th>\n",
       "      <th>OpenSourcer</th>\n",
       "      <th>OpenSource</th>\n",
       "      <th>Employment</th>\n",
       "      <th>Country</th>\n",
       "      <th>Student</th>\n",
       "      <th>EdLevel</th>\n",
       "      <th>UndergradMajor</th>\n",
       "      <th>EduOther</th>\n",
       "      <th>OrgSize</th>\n",
       "      <th>DevType</th>\n",
       "      <th>YearsCode</th>\n",
       "      <th>Age1stCode</th>\n",
       "      <th>YearsCodePro</th>\n",
       "      <th>CareerSat</th>\n",
       "      <th>JobSat</th>\n",
       "      <th>MgrIdiot</th>\n",
       "      <th>MgrMoney</th>\n",
       "      <th>MgrWant</th>\n",
       "      <th>JobSeek</th>\n",
       "      <th>LastHireDate</th>\n",
       "      <th>LastInt</th>\n",
       "      <th>FizzBuzz</th>\n",
       "      <th>JobFactors</th>\n",
       "      <th>ResumeUpdate</th>\n",
       "      <th>CurrencySymbol</th>\n",
       "      <th>CurrencyDesc</th>\n",
       "      <th>CompTotal</th>\n",
       "      <th>CompFreq</th>\n",
       "      <th>ConvertedComp</th>\n",
       "      <th>WorkWeekHrs</th>\n",
       "      <th>WorkPlan</th>\n",
       "      <th>WorkChallenge</th>\n",
       "      <th>WorkRemote</th>\n",
       "      <th>WorkLoc</th>\n",
       "      <th>ImpSyn</th>\n",
       "      <th>CodeRev</th>\n",
       "      <th>CodeRevHrs</th>\n",
       "      <th>UnitTests</th>\n",
       "      <th>PurchaseHow</th>\n",
       "      <th>PurchaseWhat</th>\n",
       "      <th>LanguageWorkedWith</th>\n",
       "      <th>LanguageDesireNextYear</th>\n",
       "      <th>DatabaseWorkedWith</th>\n",
       "      <th>DatabaseDesireNextYear</th>\n",
       "      <th>PlatformWorkedWith</th>\n",
       "      <th>PlatformDesireNextYear</th>\n",
       "      <th>WebFrameWorkedWith</th>\n",
       "      <th>WebFrameDesireNextYear</th>\n",
       "      <th>MiscTechWorkedWith</th>\n",
       "      <th>MiscTechDesireNextYear</th>\n",
       "      <th>DevEnviron</th>\n",
       "      <th>OpSys</th>\n",
       "      <th>Containers</th>\n",
       "      <th>BlockchainOrg</th>\n",
       "      <th>BlockchainIs</th>\n",
       "      <th>BetterLife</th>\n",
       "      <th>ITperson</th>\n",
       "      <th>OffOn</th>\n",
       "      <th>SocialMedia</th>\n",
       "      <th>Extraversion</th>\n",
       "      <th>ScreenName</th>\n",
       "      <th>SOVisit1st</th>\n",
       "      <th>SOVisitFreq</th>\n",
       "      <th>SOVisitTo</th>\n",
       "      <th>SOFindAnswer</th>\n",
       "      <th>SOTimeSaved</th>\n",
       "      <th>SOHowMuchTime</th>\n",
       "      <th>SOAccount</th>\n",
       "      <th>SOPartFreq</th>\n",
       "      <th>SOJobs</th>\n",
       "      <th>EntTeams</th>\n",
       "      <th>SOComm</th>\n",
       "      <th>WelcomeChange</th>\n",
       "      <th>SONewContent</th>\n",
       "      <th>Age</th>\n",
       "      <th>Gender</th>\n",
       "      <th>Trans</th>\n",
       "      <th>Sexuality</th>\n",
       "      <th>Ethnicity</th>\n",
       "      <th>Dependents</th>\n",
       "      <th>SurveyLength</th>\n",
       "      <th>SurveyEase</th>\n",
       "    </tr>\n",
       "    <tr>\n",
       "      <th>Respondent</th>\n",
       "      <th></th>\n",
       "      <th></th>\n",
       "      <th></th>\n",
       "      <th></th>\n",
       "      <th></th>\n",
       "      <th></th>\n",
       "      <th></th>\n",
       "      <th></th>\n",
       "      <th></th>\n",
       "      <th></th>\n",
       "      <th></th>\n",
       "      <th></th>\n",
       "      <th></th>\n",
       "      <th></th>\n",
       "      <th></th>\n",
       "      <th></th>\n",
       "      <th></th>\n",
       "      <th></th>\n",
       "      <th></th>\n",
       "      <th></th>\n",
       "      <th></th>\n",
       "      <th></th>\n",
       "      <th></th>\n",
       "      <th></th>\n",
       "      <th></th>\n",
       "      <th></th>\n",
       "      <th></th>\n",
       "      <th></th>\n",
       "      <th></th>\n",
       "      <th></th>\n",
       "      <th></th>\n",
       "      <th></th>\n",
       "      <th></th>\n",
       "      <th></th>\n",
       "      <th></th>\n",
       "      <th></th>\n",
       "      <th></th>\n",
       "      <th></th>\n",
       "      <th></th>\n",
       "      <th></th>\n",
       "      <th></th>\n",
       "      <th></th>\n",
       "      <th></th>\n",
       "      <th></th>\n",
       "      <th></th>\n",
       "      <th></th>\n",
       "      <th></th>\n",
       "      <th></th>\n",
       "      <th></th>\n",
       "      <th></th>\n",
       "      <th></th>\n",
       "      <th></th>\n",
       "      <th></th>\n",
       "      <th></th>\n",
       "      <th></th>\n",
       "      <th></th>\n",
       "      <th></th>\n",
       "      <th></th>\n",
       "      <th></th>\n",
       "      <th></th>\n",
       "      <th></th>\n",
       "      <th></th>\n",
       "      <th></th>\n",
       "      <th></th>\n",
       "      <th></th>\n",
       "      <th></th>\n",
       "      <th></th>\n",
       "      <th></th>\n",
       "      <th></th>\n",
       "      <th></th>\n",
       "      <th></th>\n",
       "      <th></th>\n",
       "      <th></th>\n",
       "      <th></th>\n",
       "      <th></th>\n",
       "      <th></th>\n",
       "      <th></th>\n",
       "      <th></th>\n",
       "      <th></th>\n",
       "      <th></th>\n",
       "      <th></th>\n",
       "      <th></th>\n",
       "      <th></th>\n",
       "      <th></th>\n",
       "    </tr>\n",
       "  </thead>\n",
       "  <tbody>\n",
       "    <tr>\n",
       "      <th>22013</th>\n",
       "      <td>I am a developer by profession</td>\n",
       "      <td>Yes</td>\n",
       "      <td>Never</td>\n",
       "      <td>The quality of OSS and closed source software ...</td>\n",
       "      <td>Employed full-time</td>\n",
       "      <td>India</td>\n",
       "      <td>No</td>\n",
       "      <td>Professional degree (JD, MD, etc.)</td>\n",
       "      <td>A natural science (ex. biology, chemistry, phy...</td>\n",
       "      <td>Taken an online course in programming or softw...</td>\n",
       "      <td>2-9 employees</td>\n",
       "      <td>Academic researcher;Data scientist or machine ...</td>\n",
       "      <td>3</td>\n",
       "      <td>26</td>\n",
       "      <td>3</td>\n",
       "      <td>Very satisfied</td>\n",
       "      <td>Very satisfied</td>\n",
       "      <td>NaN</td>\n",
       "      <td>NaN</td>\n",
       "      <td>NaN</td>\n",
       "      <td>I am not interested in new job opportunities</td>\n",
       "      <td>3-4 years ago</td>\n",
       "      <td>Write code by hand (e.g., on a whiteboard);Com...</td>\n",
       "      <td>No</td>\n",
       "      <td>Financial performance or funding status of the...</td>\n",
       "      <td>Something else changed (education, award, medi...</td>\n",
       "      <td>USD</td>\n",
       "      <td>United States dollar</td>\n",
       "      <td>1500000.0</td>\n",
       "      <td>Weekly</td>\n",
       "      <td>2000000.0</td>\n",
       "      <td>50.0</td>\n",
       "      <td>There's no schedule or spec; I work on what se...</td>\n",
       "      <td>Inadequate access to necessary tools;Meetings;...</td>\n",
       "      <td>All or almost all the time (I'm full-time remote)</td>\n",
       "      <td>Home</td>\n",
       "      <td>A little below average</td>\n",
       "      <td>Yes, because I see value in code review</td>\n",
       "      <td>10.0</td>\n",
       "      <td>Yes, it's part of our process</td>\n",
       "      <td>Developers typically have the most influence o...</td>\n",
       "      <td>I have a great deal of influence</td>\n",
       "      <td>Assembly;Bash/Shell/PowerShell;C;C++;Java;Java...</td>\n",
       "      <td>Python;Swift</td>\n",
       "      <td>Cassandra;Microsoft SQL Server;Oracle</td>\n",
       "      <td>Cassandra</td>\n",
       "      <td>Android;Arduino;Google Cloud Platform;IBM Clou...</td>\n",
       "      <td>IBM Cloud or Watson;Windows</td>\n",
       "      <td>jQuery</td>\n",
       "      <td>NaN</td>\n",
       "      <td>TensorFlow</td>\n",
       "      <td>TensorFlow</td>\n",
       "      <td>Visual Studio;Visual Studio Code</td>\n",
       "      <td>Windows</td>\n",
       "      <td>Development</td>\n",
       "      <td>Implementing our own cryptocurrency</td>\n",
       "      <td>Useful across many domains and could change ma...</td>\n",
       "      <td>Yes</td>\n",
       "      <td>Yes</td>\n",
       "      <td>No</td>\n",
       "      <td>YouTube</td>\n",
       "      <td>Online</td>\n",
       "      <td>Screen Name</td>\n",
       "      <td>NaN</td>\n",
       "      <td>A few times per week</td>\n",
       "      <td>Find answers to specific questions</td>\n",
       "      <td>1-2 times per week</td>\n",
       "      <td>Stack Overflow was much faster</td>\n",
       "      <td>60+ minutes</td>\n",
       "      <td>Yes</td>\n",
       "      <td>I have never participated in Q&amp;A on Stack Over...</td>\n",
       "      <td>Yes</td>\n",
       "      <td>Yes</td>\n",
       "      <td>Yes, definitely</td>\n",
       "      <td>A lot more welcome now than last year</td>\n",
       "      <td>Tech articles written by other developers;Indu...</td>\n",
       "      <td>NaN</td>\n",
       "      <td>Man</td>\n",
       "      <td>No</td>\n",
       "      <td>Straight / Heterosexual</td>\n",
       "      <td>NaN</td>\n",
       "      <td>Yes</td>\n",
       "      <td>Too long</td>\n",
       "      <td>Easy</td>\n",
       "    </tr>\n",
       "  </tbody>\n",
       "</table>\n",
       "</div>"
      ],
      "text/plain": [
       "                                MainBranch Hobbyist OpenSourcer  \\\n",
       "Respondent                                                        \n",
       "22013       I am a developer by profession      Yes       Never   \n",
       "\n",
       "                                                   OpenSource  \\\n",
       "Respondent                                                      \n",
       "22013       The quality of OSS and closed source software ...   \n",
       "\n",
       "                    Employment Country Student  \\\n",
       "Respondent                                       \n",
       "22013       Employed full-time   India      No   \n",
       "\n",
       "                                       EdLevel  \\\n",
       "Respondent                                       \n",
       "22013       Professional degree (JD, MD, etc.)   \n",
       "\n",
       "                                               UndergradMajor  \\\n",
       "Respondent                                                      \n",
       "22013       A natural science (ex. biology, chemistry, phy...   \n",
       "\n",
       "                                                     EduOther        OrgSize  \\\n",
       "Respondent                                                                     \n",
       "22013       Taken an online course in programming or softw...  2-9 employees   \n",
       "\n",
       "                                                      DevType YearsCode  \\\n",
       "Respondent                                                                \n",
       "22013       Academic researcher;Data scientist or machine ...         3   \n",
       "\n",
       "           Age1stCode YearsCodePro       CareerSat          JobSat MgrIdiot  \\\n",
       "Respondent                                                                    \n",
       "22013              26            3  Very satisfied  Very satisfied      NaN   \n",
       "\n",
       "           MgrMoney MgrWant                                       JobSeek  \\\n",
       "Respondent                                                                  \n",
       "22013           NaN     NaN  I am not interested in new job opportunities   \n",
       "\n",
       "             LastHireDate                                            LastInt  \\\n",
       "Respondent                                                                     \n",
       "22013       3-4 years ago  Write code by hand (e.g., on a whiteboard);Com...   \n",
       "\n",
       "           FizzBuzz                                         JobFactors  \\\n",
       "Respondent                                                               \n",
       "22013            No  Financial performance or funding status of the...   \n",
       "\n",
       "                                                 ResumeUpdate CurrencySymbol  \\\n",
       "Respondent                                                                     \n",
       "22013       Something else changed (education, award, medi...            USD   \n",
       "\n",
       "                    CurrencyDesc  CompTotal CompFreq  ConvertedComp  \\\n",
       "Respondent                                                            \n",
       "22013       United States dollar  1500000.0   Weekly      2000000.0   \n",
       "\n",
       "            WorkWeekHrs                                           WorkPlan  \\\n",
       "Respondent                                                                   \n",
       "22013              50.0  There's no schedule or spec; I work on what se...   \n",
       "\n",
       "                                                WorkChallenge  \\\n",
       "Respondent                                                      \n",
       "22013       Inadequate access to necessary tools;Meetings;...   \n",
       "\n",
       "                                                   WorkRemote WorkLoc  \\\n",
       "Respondent                                                              \n",
       "22013       All or almost all the time (I'm full-time remote)    Home   \n",
       "\n",
       "                            ImpSyn                                  CodeRev  \\\n",
       "Respondent                                                                    \n",
       "22013       A little below average  Yes, because I see value in code review   \n",
       "\n",
       "            CodeRevHrs                      UnitTests  \\\n",
       "Respondent                                              \n",
       "22013             10.0  Yes, it's part of our process   \n",
       "\n",
       "                                                  PurchaseHow  \\\n",
       "Respondent                                                      \n",
       "22013       Developers typically have the most influence o...   \n",
       "\n",
       "                                PurchaseWhat  \\\n",
       "Respondent                                     \n",
       "22013       I have a great deal of influence   \n",
       "\n",
       "                                           LanguageWorkedWith  \\\n",
       "Respondent                                                      \n",
       "22013       Assembly;Bash/Shell/PowerShell;C;C++;Java;Java...   \n",
       "\n",
       "           LanguageDesireNextYear                     DatabaseWorkedWith  \\\n",
       "Respondent                                                                 \n",
       "22013                Python;Swift  Cassandra;Microsoft SQL Server;Oracle   \n",
       "\n",
       "           DatabaseDesireNextYear  \\\n",
       "Respondent                          \n",
       "22013                   Cassandra   \n",
       "\n",
       "                                           PlatformWorkedWith  \\\n",
       "Respondent                                                      \n",
       "22013       Android;Arduino;Google Cloud Platform;IBM Clou...   \n",
       "\n",
       "                 PlatformDesireNextYear WebFrameWorkedWith  \\\n",
       "Respondent                                                   \n",
       "22013       IBM Cloud or Watson;Windows             jQuery   \n",
       "\n",
       "           WebFrameDesireNextYear MiscTechWorkedWith MiscTechDesireNextYear  \\\n",
       "Respondent                                                                    \n",
       "22013                         NaN         TensorFlow             TensorFlow   \n",
       "\n",
       "                                  DevEnviron    OpSys   Containers  \\\n",
       "Respondent                                                           \n",
       "22013       Visual Studio;Visual Studio Code  Windows  Development   \n",
       "\n",
       "                                  BlockchainOrg  \\\n",
       "Respondent                                        \n",
       "22013       Implementing our own cryptocurrency   \n",
       "\n",
       "                                                 BlockchainIs BetterLife  \\\n",
       "Respondent                                                                 \n",
       "22013       Useful across many domains and could change ma...        Yes   \n",
       "\n",
       "           ITperson OffOn SocialMedia Extraversion   ScreenName SOVisit1st  \\\n",
       "Respondent                                                                   \n",
       "22013           Yes    No     YouTube       Online  Screen Name        NaN   \n",
       "\n",
       "                     SOVisitFreq                           SOVisitTo  \\\n",
       "Respondent                                                             \n",
       "22013       A few times per week  Find answers to specific questions   \n",
       "\n",
       "                  SOFindAnswer                     SOTimeSaved SOHowMuchTime  \\\n",
       "Respondent                                                                     \n",
       "22013       1-2 times per week  Stack Overflow was much faster   60+ minutes   \n",
       "\n",
       "           SOAccount                                         SOPartFreq  \\\n",
       "Respondent                                                                \n",
       "22013            Yes  I have never participated in Q&A on Stack Over...   \n",
       "\n",
       "           SOJobs EntTeams           SOComm  \\\n",
       "Respondent                                    \n",
       "22013         Yes      Yes  Yes, definitely   \n",
       "\n",
       "                                    WelcomeChange  \\\n",
       "Respondent                                          \n",
       "22013       A lot more welcome now than last year   \n",
       "\n",
       "                                                 SONewContent  Age Gender  \\\n",
       "Respondent                                                                  \n",
       "22013       Tech articles written by other developers;Indu...  NaN    Man   \n",
       "\n",
       "           Trans                Sexuality Ethnicity Dependents SurveyLength  \\\n",
       "Respondent                                                                    \n",
       "22013         No  Straight / Heterosexual       NaN        Yes     Too long   \n",
       "\n",
       "           SurveyEase  \n",
       "Respondent             \n",
       "22013            Easy  "
      ]
     },
     "execution_count": 152,
     "metadata": {},
     "output_type": "execute_result"
    }
   ],
   "source": [
    "country_grp.get_group('India').shape # (9061, 84)\n",
    "country_grp.get_group('India').head(1)"
   ]
  },
  {
   "cell_type": "code",
   "execution_count": 153,
   "metadata": {},
   "outputs": [
    {
     "data": {
      "text/plain": [
       "SocialMedia\n",
       "WhatsApp                    2990\n",
       "YouTube                     1820\n",
       "LinkedIn                     955\n",
       "Facebook                     841\n",
       "Instagram                    822\n",
       "Twitter                      542\n",
       "Reddit                       473\n",
       "I don't use social media     250\n",
       "Snapchat                      23\n",
       "Hello                          5\n",
       "WeChat 微信                      5\n",
       "VK ВКонта́кте                  4\n",
       "Youku Tudou 优酷                 2\n",
       "Weibo 新浪微博                     1\n",
       "Name: SocialMedia, dtype: int64"
      ]
     },
     "execution_count": 153,
     "metadata": {},
     "output_type": "execute_result"
    }
   ],
   "source": [
    "country_grp['SocialMedia'].value_counts().head(50) # this is returning a series which has multiple indexes.\n",
    "# print(country_grp['SocialMedia'].value_counts()) # Entire world social media stats grouped by country\n",
    "country_grp['SocialMedia'].value_counts().loc['India'] # Social media stats of India\n",
    "# print(df['SocialMedia'].value_counts()) # Entire world social media stats1"
   ]
  },
  {
   "cell_type": "code",
   "execution_count": 154,
   "metadata": {},
   "outputs": [
    {
     "data": {
      "text/plain": [
       "Country\n",
       "Liechtenstein                       811188.0\n",
       "San Marino                          301788.0\n",
       "Timor-Leste                         229500.0\n",
       "Andorra                             160931.0\n",
       "Democratic Republic of the Congo    110484.0\n",
       "United States                       110000.0\n",
       "Switzerland                          95440.0\n",
       "Israel                               90720.0\n",
       "Ireland                              83640.0\n",
       "Denmark                              82860.0\n",
       "Name: ConvertedComp, dtype: float64"
      ]
     },
     "execution_count": 154,
     "metadata": {},
     "output_type": "execute_result"
    }
   ],
   "source": [
    "country_grp['ConvertedComp'].median().sort_values(ascending=False).head(10)"
   ]
  },
  {
   "cell_type": "code",
   "execution_count": 155,
   "metadata": {},
   "outputs": [
    {
     "data": {
      "text/html": [
       "<div>\n",
       "<style scoped>\n",
       "    .dataframe tbody tr th:only-of-type {\n",
       "        vertical-align: middle;\n",
       "    }\n",
       "\n",
       "    .dataframe tbody tr th {\n",
       "        vertical-align: top;\n",
       "    }\n",
       "\n",
       "    .dataframe thead th {\n",
       "        text-align: right;\n",
       "    }\n",
       "</style>\n",
       "<table border=\"1\" class=\"dataframe\">\n",
       "  <thead>\n",
       "    <tr style=\"text-align: right;\">\n",
       "      <th></th>\n",
       "      <th>median</th>\n",
       "      <th>mean</th>\n",
       "    </tr>\n",
       "    <tr>\n",
       "      <th>Country</th>\n",
       "      <th></th>\n",
       "      <th></th>\n",
       "    </tr>\n",
       "  </thead>\n",
       "  <tbody>\n",
       "    <tr>\n",
       "      <th>Afghanistan</th>\n",
       "      <td>6222.0</td>\n",
       "      <td>101953.333333</td>\n",
       "    </tr>\n",
       "    <tr>\n",
       "      <th>Albania</th>\n",
       "      <td>10818.0</td>\n",
       "      <td>21833.700000</td>\n",
       "    </tr>\n",
       "    <tr>\n",
       "      <th>Algeria</th>\n",
       "      <td>7878.0</td>\n",
       "      <td>34924.047619</td>\n",
       "    </tr>\n",
       "    <tr>\n",
       "      <th>Andorra</th>\n",
       "      <td>160931.0</td>\n",
       "      <td>160931.000000</td>\n",
       "    </tr>\n",
       "    <tr>\n",
       "      <th>Angola</th>\n",
       "      <td>7764.0</td>\n",
       "      <td>7764.000000</td>\n",
       "    </tr>\n",
       "  </tbody>\n",
       "</table>\n",
       "</div>"
      ],
      "text/plain": [
       "               median           mean\n",
       "Country                             \n",
       "Afghanistan    6222.0  101953.333333\n",
       "Albania       10818.0   21833.700000\n",
       "Algeria        7878.0   34924.047619\n",
       "Andorra      160931.0  160931.000000\n",
       "Angola         7764.0    7764.000000"
      ]
     },
     "execution_count": 155,
     "metadata": {},
     "output_type": "execute_result"
    }
   ],
   "source": [
    "# if we want to use multiple aggregate functions on the grouped data use agg\n",
    "country_grp['ConvertedComp'].agg(['median', 'mean']).sort_index().head(5)"
   ]
  },
  {
   "cell_type": "code",
   "execution_count": 156,
   "metadata": {},
   "outputs": [
    {
     "data": {
      "text/html": [
       "<div>\n",
       "<style scoped>\n",
       "    .dataframe tbody tr th:only-of-type {\n",
       "        vertical-align: middle;\n",
       "    }\n",
       "\n",
       "    .dataframe tbody tr th {\n",
       "        vertical-align: top;\n",
       "    }\n",
       "\n",
       "    .dataframe thead th {\n",
       "        text-align: right;\n",
       "    }\n",
       "</style>\n",
       "<table border=\"1\" class=\"dataframe\">\n",
       "  <thead>\n",
       "    <tr style=\"text-align: right;\">\n",
       "      <th></th>\n",
       "      <th>MainBranch</th>\n",
       "      <th>Hobbyist</th>\n",
       "      <th>OpenSourcer</th>\n",
       "      <th>OpenSource</th>\n",
       "      <th>Employment</th>\n",
       "      <th>Country</th>\n",
       "      <th>Student</th>\n",
       "      <th>EdLevel</th>\n",
       "      <th>UndergradMajor</th>\n",
       "      <th>EduOther</th>\n",
       "      <th>OrgSize</th>\n",
       "      <th>DevType</th>\n",
       "      <th>YearsCode</th>\n",
       "      <th>Age1stCode</th>\n",
       "      <th>YearsCodePro</th>\n",
       "      <th>CareerSat</th>\n",
       "      <th>JobSat</th>\n",
       "      <th>MgrIdiot</th>\n",
       "      <th>MgrMoney</th>\n",
       "      <th>MgrWant</th>\n",
       "      <th>JobSeek</th>\n",
       "      <th>LastHireDate</th>\n",
       "      <th>LastInt</th>\n",
       "      <th>FizzBuzz</th>\n",
       "      <th>JobFactors</th>\n",
       "      <th>ResumeUpdate</th>\n",
       "      <th>CurrencySymbol</th>\n",
       "      <th>CurrencyDesc</th>\n",
       "      <th>CompTotal</th>\n",
       "      <th>CompFreq</th>\n",
       "      <th>ConvertedComp</th>\n",
       "      <th>WorkWeekHrs</th>\n",
       "      <th>WorkPlan</th>\n",
       "      <th>WorkChallenge</th>\n",
       "      <th>WorkRemote</th>\n",
       "      <th>WorkLoc</th>\n",
       "      <th>ImpSyn</th>\n",
       "      <th>CodeRev</th>\n",
       "      <th>CodeRevHrs</th>\n",
       "      <th>UnitTests</th>\n",
       "      <th>PurchaseHow</th>\n",
       "      <th>PurchaseWhat</th>\n",
       "      <th>LanguageWorkedWith</th>\n",
       "      <th>LanguageDesireNextYear</th>\n",
       "      <th>DatabaseWorkedWith</th>\n",
       "      <th>DatabaseDesireNextYear</th>\n",
       "      <th>PlatformWorkedWith</th>\n",
       "      <th>PlatformDesireNextYear</th>\n",
       "      <th>WebFrameWorkedWith</th>\n",
       "      <th>WebFrameDesireNextYear</th>\n",
       "      <th>MiscTechWorkedWith</th>\n",
       "      <th>MiscTechDesireNextYear</th>\n",
       "      <th>DevEnviron</th>\n",
       "      <th>OpSys</th>\n",
       "      <th>Containers</th>\n",
       "      <th>BlockchainOrg</th>\n",
       "      <th>BlockchainIs</th>\n",
       "      <th>BetterLife</th>\n",
       "      <th>ITperson</th>\n",
       "      <th>OffOn</th>\n",
       "      <th>SocialMedia</th>\n",
       "      <th>Extraversion</th>\n",
       "      <th>ScreenName</th>\n",
       "      <th>SOVisit1st</th>\n",
       "      <th>SOVisitFreq</th>\n",
       "      <th>SOVisitTo</th>\n",
       "      <th>SOFindAnswer</th>\n",
       "      <th>SOTimeSaved</th>\n",
       "      <th>SOHowMuchTime</th>\n",
       "      <th>SOAccount</th>\n",
       "      <th>SOPartFreq</th>\n",
       "      <th>SOJobs</th>\n",
       "      <th>EntTeams</th>\n",
       "      <th>SOComm</th>\n",
       "      <th>WelcomeChange</th>\n",
       "      <th>SONewContent</th>\n",
       "      <th>Age</th>\n",
       "      <th>Gender</th>\n",
       "      <th>Trans</th>\n",
       "      <th>Sexuality</th>\n",
       "      <th>Ethnicity</th>\n",
       "      <th>Dependents</th>\n",
       "      <th>SurveyLength</th>\n",
       "      <th>SurveyEase</th>\n",
       "    </tr>\n",
       "    <tr>\n",
       "      <th>Respondent</th>\n",
       "      <th></th>\n",
       "      <th></th>\n",
       "      <th></th>\n",
       "      <th></th>\n",
       "      <th></th>\n",
       "      <th></th>\n",
       "      <th></th>\n",
       "      <th></th>\n",
       "      <th></th>\n",
       "      <th></th>\n",
       "      <th></th>\n",
       "      <th></th>\n",
       "      <th></th>\n",
       "      <th></th>\n",
       "      <th></th>\n",
       "      <th></th>\n",
       "      <th></th>\n",
       "      <th></th>\n",
       "      <th></th>\n",
       "      <th></th>\n",
       "      <th></th>\n",
       "      <th></th>\n",
       "      <th></th>\n",
       "      <th></th>\n",
       "      <th></th>\n",
       "      <th></th>\n",
       "      <th></th>\n",
       "      <th></th>\n",
       "      <th></th>\n",
       "      <th></th>\n",
       "      <th></th>\n",
       "      <th></th>\n",
       "      <th></th>\n",
       "      <th></th>\n",
       "      <th></th>\n",
       "      <th></th>\n",
       "      <th></th>\n",
       "      <th></th>\n",
       "      <th></th>\n",
       "      <th></th>\n",
       "      <th></th>\n",
       "      <th></th>\n",
       "      <th></th>\n",
       "      <th></th>\n",
       "      <th></th>\n",
       "      <th></th>\n",
       "      <th></th>\n",
       "      <th></th>\n",
       "      <th></th>\n",
       "      <th></th>\n",
       "      <th></th>\n",
       "      <th></th>\n",
       "      <th></th>\n",
       "      <th></th>\n",
       "      <th></th>\n",
       "      <th></th>\n",
       "      <th></th>\n",
       "      <th></th>\n",
       "      <th></th>\n",
       "      <th></th>\n",
       "      <th></th>\n",
       "      <th></th>\n",
       "      <th></th>\n",
       "      <th></th>\n",
       "      <th></th>\n",
       "      <th></th>\n",
       "      <th></th>\n",
       "      <th></th>\n",
       "      <th></th>\n",
       "      <th></th>\n",
       "      <th></th>\n",
       "      <th></th>\n",
       "      <th></th>\n",
       "      <th></th>\n",
       "      <th></th>\n",
       "      <th></th>\n",
       "      <th></th>\n",
       "      <th></th>\n",
       "      <th></th>\n",
       "      <th></th>\n",
       "      <th></th>\n",
       "      <th></th>\n",
       "      <th></th>\n",
       "      <th></th>\n",
       "    </tr>\n",
       "  </thead>\n",
       "  <tbody>\n",
       "    <tr>\n",
       "      <th>63129</th>\n",
       "      <td>I am a developer by profession</td>\n",
       "      <td>Yes</td>\n",
       "      <td>Never</td>\n",
       "      <td>OSS is, on average, of HIGHER quality than pro...</td>\n",
       "      <td>Employed full-time</td>\n",
       "      <td>Afghanistan</td>\n",
       "      <td>Yes, full-time</td>\n",
       "      <td>I never completed any formal education</td>\n",
       "      <td>NaN</td>\n",
       "      <td>Taken an online course in programming or softw...</td>\n",
       "      <td>Just me - I am a freelancer, sole proprietor, ...</td>\n",
       "      <td>NaN</td>\n",
       "      <td>Less than 1 year</td>\n",
       "      <td>Younger than 5 years</td>\n",
       "      <td>1</td>\n",
       "      <td>Very dissatisfied</td>\n",
       "      <td>Very dissatisfied</td>\n",
       "      <td>Very confident</td>\n",
       "      <td>Yes</td>\n",
       "      <td>Yes</td>\n",
       "      <td>I am actively looking for a job</td>\n",
       "      <td>I've never had a job</td>\n",
       "      <td>Write any code</td>\n",
       "      <td>Yes</td>\n",
       "      <td>How widely used or impactful my work output wo...</td>\n",
       "      <td>I had a negative experience or interaction at ...</td>\n",
       "      <td>AED</td>\n",
       "      <td>United Arab Emirates dirham</td>\n",
       "      <td>648838511.0</td>\n",
       "      <td>Monthly</td>\n",
       "      <td>1000000.0</td>\n",
       "      <td>168.0</td>\n",
       "      <td>There is a schedule and/or spec (made by me or...</td>\n",
       "      <td>Being tasked with non-development work</td>\n",
       "      <td>It's complicated</td>\n",
       "      <td>Other place, such as a coworking space or cafe</td>\n",
       "      <td>Far below average</td>\n",
       "      <td>No</td>\n",
       "      <td>NaN</td>\n",
       "      <td>NaN</td>\n",
       "      <td>NaN</td>\n",
       "      <td>NaN</td>\n",
       "      <td>Assembly;Bash/Shell/PowerShell;Other(s):</td>\n",
       "      <td>Bash/Shell/PowerShell;TypeScript</td>\n",
       "      <td>MySQL</td>\n",
       "      <td>MySQL</td>\n",
       "      <td>Android;iOS;Windows;WordPress;Other(s):</td>\n",
       "      <td>Android;iOS;Windows;WordPress;Other(s):</td>\n",
       "      <td>Angular/Angular.js;Express;jQuery;Laravel;Othe...</td>\n",
       "      <td>Angular/Angular.js;Express;jQuery;Laravel;Othe...</td>\n",
       "      <td>Ansible;Apache Spark;Torch/PyTorch</td>\n",
       "      <td>Apache Spark;Torch/PyTorch</td>\n",
       "      <td>Android Studio;Atom;Coda;Eclipse;Emacs;IPython...</td>\n",
       "      <td>Windows</td>\n",
       "      <td>Outside of work, for personal projects</td>\n",
       "      <td>Accepting Bitcoin or other coins and tokens as...</td>\n",
       "      <td>Useful across many domains and could change ma...</td>\n",
       "      <td>Yes</td>\n",
       "      <td>Yes</td>\n",
       "      <td>Yes</td>\n",
       "      <td>I don't use social media</td>\n",
       "      <td>Online</td>\n",
       "      <td>UserID</td>\n",
       "      <td>NaN</td>\n",
       "      <td>I have never visited Stack Overflow (before to...</td>\n",
       "      <td>Find answers to specific questions</td>\n",
       "      <td>Less than once per week</td>\n",
       "      <td>Stack Overflow was much faster</td>\n",
       "      <td>0-10 minutes</td>\n",
       "      <td>NaN</td>\n",
       "      <td>NaN</td>\n",
       "      <td>No, I didn't know that Stack Overflow had a jo...</td>\n",
       "      <td>NaN</td>\n",
       "      <td>No, not at all</td>\n",
       "      <td>NaN</td>\n",
       "      <td>Tech articles written by other developers</td>\n",
       "      <td>NaN</td>\n",
       "      <td>NaN</td>\n",
       "      <td>NaN</td>\n",
       "      <td>NaN</td>\n",
       "      <td>NaN</td>\n",
       "      <td>Yes</td>\n",
       "      <td>Too short</td>\n",
       "      <td>Easy</td>\n",
       "    </tr>\n",
       "    <tr>\n",
       "      <th>50499</th>\n",
       "      <td>I am not primarily a developer, but I write co...</td>\n",
       "      <td>Yes</td>\n",
       "      <td>Less than once per year</td>\n",
       "      <td>OSS is, on average, of LOWER quality than prop...</td>\n",
       "      <td>Employed full-time</td>\n",
       "      <td>Afghanistan</td>\n",
       "      <td>No</td>\n",
       "      <td>Bachelor’s degree (BA, BS, B.Eng., etc.)</td>\n",
       "      <td>A health science (ex. nursing, pharmacy, radio...</td>\n",
       "      <td>Participated in a full-time developer training...</td>\n",
       "      <td>10,000 or more employees</td>\n",
       "      <td>Data or business analyst;Database administrato...</td>\n",
       "      <td>7</td>\n",
       "      <td>27</td>\n",
       "      <td>7</td>\n",
       "      <td>Very dissatisfied</td>\n",
       "      <td>Very dissatisfied</td>\n",
       "      <td>Somewhat confident</td>\n",
       "      <td>Yes</td>\n",
       "      <td>Yes</td>\n",
       "      <td>I’m not actively looking, but I am open to new...</td>\n",
       "      <td>More than 4 years ago</td>\n",
       "      <td>Write code by hand (e.g., on a whiteboard);Int...</td>\n",
       "      <td>No</td>\n",
       "      <td>Opportunities for professional development;Div...</td>\n",
       "      <td>Something else changed (education, award, medi...</td>\n",
       "      <td>AFN</td>\n",
       "      <td>Afghan afghani</td>\n",
       "      <td>960000.0</td>\n",
       "      <td>Monthly</td>\n",
       "      <td>153216.0</td>\n",
       "      <td>40.0</td>\n",
       "      <td>There is a schedule and/or spec (made by me or...</td>\n",
       "      <td>Lack of support from management;Time spent com...</td>\n",
       "      <td>Less than once per month / Never</td>\n",
       "      <td>Office</td>\n",
       "      <td>A little above average</td>\n",
       "      <td>Yes, because I see value in code review</td>\n",
       "      <td>8.0</td>\n",
       "      <td>Yes, it's not part of our process but the deve...</td>\n",
       "      <td>Developers typically have the most influence o...</td>\n",
       "      <td>I have a great deal of influence</td>\n",
       "      <td>C#;HTML/CSS;JavaScript;SQL;VBA</td>\n",
       "      <td>C#;HTML/CSS;JavaScript;R;SQL;TypeScript;VBA</td>\n",
       "      <td>Microsoft SQL Server;PostgreSQL;SQLite</td>\n",
       "      <td>MariaDB;MongoDB;Microsoft SQL Server;PostgreSQ...</td>\n",
       "      <td>NaN</td>\n",
       "      <td>Android</td>\n",
       "      <td>ASP.NET;jQuery</td>\n",
       "      <td>Angular/Angular.js;ASP.NET;jQuery;React.js;Vue.js</td>\n",
       "      <td>.NET</td>\n",
       "      <td>.NET;.NET Core;Node.js;Xamarin</td>\n",
       "      <td>Visual Studio</td>\n",
       "      <td>Windows</td>\n",
       "      <td>I do not use containers</td>\n",
       "      <td>Implementing our own cryptocurrency</td>\n",
       "      <td>NaN</td>\n",
       "      <td>Yes</td>\n",
       "      <td>Yes</td>\n",
       "      <td>Yes</td>\n",
       "      <td>WhatsApp</td>\n",
       "      <td>Online</td>\n",
       "      <td>Login</td>\n",
       "      <td>2013</td>\n",
       "      <td>A few times per month or weekly</td>\n",
       "      <td>Find answers to specific questions</td>\n",
       "      <td>Less than once per week</td>\n",
       "      <td>Stack Overflow was slightly faster</td>\n",
       "      <td>11-30 minutes</td>\n",
       "      <td>Yes</td>\n",
       "      <td>Less than once per month or monthly</td>\n",
       "      <td>Yes</td>\n",
       "      <td>No, and I don't know what those are</td>\n",
       "      <td>Yes, somewhat</td>\n",
       "      <td>Just as welcome now as I felt last year</td>\n",
       "      <td>Tech articles written by other developers;Indu...</td>\n",
       "      <td>34.0</td>\n",
       "      <td>NaN</td>\n",
       "      <td>No</td>\n",
       "      <td>Straight / Heterosexual</td>\n",
       "      <td>NaN</td>\n",
       "      <td>Yes</td>\n",
       "      <td>Too long</td>\n",
       "      <td>Neither easy nor difficult</td>\n",
       "    </tr>\n",
       "    <tr>\n",
       "      <th>39258</th>\n",
       "      <td>I am a developer by profession</td>\n",
       "      <td>Yes</td>\n",
       "      <td>Less than once per year</td>\n",
       "      <td>OSS is, on average, of LOWER quality than prop...</td>\n",
       "      <td>Employed full-time</td>\n",
       "      <td>Afghanistan</td>\n",
       "      <td>No</td>\n",
       "      <td>Bachelor’s degree (BA, BS, B.Eng., etc.)</td>\n",
       "      <td>Computer science, computer engineering, or sof...</td>\n",
       "      <td>Taken an online course in programming or softw...</td>\n",
       "      <td>100 to 499 employees</td>\n",
       "      <td>Database administrator;Designer;Developer, bac...</td>\n",
       "      <td>2</td>\n",
       "      <td>22</td>\n",
       "      <td>1</td>\n",
       "      <td>Very satisfied</td>\n",
       "      <td>Very satisfied</td>\n",
       "      <td>Very confident</td>\n",
       "      <td>No</td>\n",
       "      <td>Yes</td>\n",
       "      <td>I’m not actively looking, but I am open to new...</td>\n",
       "      <td>1-2 years ago</td>\n",
       "      <td>Write code by hand (e.g., on a whiteboard);Int...</td>\n",
       "      <td>No</td>\n",
       "      <td>Languages, frameworks, and other technologies ...</td>\n",
       "      <td>Something else changed (education, award, medi...</td>\n",
       "      <td>AFN</td>\n",
       "      <td>Afghan afghani</td>\n",
       "      <td>120000.0</td>\n",
       "      <td>Monthly</td>\n",
       "      <td>19152.0</td>\n",
       "      <td>49.0</td>\n",
       "      <td>There is a schedule and/or spec (made by me or...</td>\n",
       "      <td>Not enough people for the workload;Time spent ...</td>\n",
       "      <td>Less than once per month / Never</td>\n",
       "      <td>Office</td>\n",
       "      <td>Far above average</td>\n",
       "      <td>Yes, because I see value in code review</td>\n",
       "      <td>10.0</td>\n",
       "      <td>Yes, it's not part of our process but the deve...</td>\n",
       "      <td>Developers typically have the most influence o...</td>\n",
       "      <td>I have some influence</td>\n",
       "      <td>HTML/CSS;JavaScript;PHP;SQL;TypeScript</td>\n",
       "      <td>C#;Dart;JavaScript;SQL;TypeScript</td>\n",
       "      <td>MariaDB;MongoDB;MySQL;PostgreSQL</td>\n",
       "      <td>Couchbase;Firebase;MariaDB;MongoDB;Redis</td>\n",
       "      <td>Android;AWS;Linux;Windows;WordPress</td>\n",
       "      <td>Android;AWS;Docker;Heroku;iOS;Linux;Raspberry ...</td>\n",
       "      <td>Angular/Angular.js;Drupal;Express;Laravel</td>\n",
       "      <td>Angular/Angular.js;Drupal;Express</td>\n",
       "      <td>Cordova;Node.js</td>\n",
       "      <td>Hadoop;Node.js</td>\n",
       "      <td>Notepad++;PHPStorm;Vim;Visual Studio Code</td>\n",
       "      <td>Linux-based</td>\n",
       "      <td>Production</td>\n",
       "      <td>NaN</td>\n",
       "      <td>NaN</td>\n",
       "      <td>Yes</td>\n",
       "      <td>Yes</td>\n",
       "      <td>No</td>\n",
       "      <td>Facebook</td>\n",
       "      <td>Online</td>\n",
       "      <td>Login</td>\n",
       "      <td>2016</td>\n",
       "      <td>A few times per week</td>\n",
       "      <td>Find answers to specific questions;Learn how t...</td>\n",
       "      <td>1-2 times per week</td>\n",
       "      <td>Stack Overflow was much faster</td>\n",
       "      <td>0-10 minutes</td>\n",
       "      <td>Yes</td>\n",
       "      <td>Less than once per month or monthly</td>\n",
       "      <td>Yes</td>\n",
       "      <td>NaN</td>\n",
       "      <td>Yes, somewhat</td>\n",
       "      <td>NaN</td>\n",
       "      <td>Tech articles written by other developers;Indu...</td>\n",
       "      <td>26.0</td>\n",
       "      <td>Man</td>\n",
       "      <td>No</td>\n",
       "      <td>Straight / Heterosexual</td>\n",
       "      <td>East Asian;South Asian</td>\n",
       "      <td>Yes</td>\n",
       "      <td>Too long</td>\n",
       "      <td>Easy</td>\n",
       "    </tr>\n",
       "    <tr>\n",
       "      <th>58450</th>\n",
       "      <td>I am a developer by profession</td>\n",
       "      <td>Yes</td>\n",
       "      <td>Never</td>\n",
       "      <td>OSS is, on average, of HIGHER quality than pro...</td>\n",
       "      <td>Employed full-time</td>\n",
       "      <td>Afghanistan</td>\n",
       "      <td>No</td>\n",
       "      <td>Bachelor’s degree (BA, BS, B.Eng., etc.)</td>\n",
       "      <td>Computer science, computer engineering, or sof...</td>\n",
       "      <td>Taken an online course in programming or softw...</td>\n",
       "      <td>10,000 or more employees</td>\n",
       "      <td>Developer, back-end;Developer, desktop or ente...</td>\n",
       "      <td>6</td>\n",
       "      <td>20</td>\n",
       "      <td>2</td>\n",
       "      <td>Neither satisfied nor dissatisfied</td>\n",
       "      <td>Slightly satisfied</td>\n",
       "      <td>Very confident</td>\n",
       "      <td>Yes</td>\n",
       "      <td>Yes</td>\n",
       "      <td>I am actively looking for a job</td>\n",
       "      <td>1-2 years ago</td>\n",
       "      <td>Write code by hand (e.g., on a whiteboard);Com...</td>\n",
       "      <td>No</td>\n",
       "      <td>Languages, frameworks, and other technologies ...</td>\n",
       "      <td>I had a negative experience or interaction at ...</td>\n",
       "      <td>AFN</td>\n",
       "      <td>Afghan afghani</td>\n",
       "      <td>110000.0</td>\n",
       "      <td>Monthly</td>\n",
       "      <td>17556.0</td>\n",
       "      <td>40.0</td>\n",
       "      <td>There is a schedule and/or spec (made by me or...</td>\n",
       "      <td>Distracting work environment</td>\n",
       "      <td>It's complicated</td>\n",
       "      <td>Office</td>\n",
       "      <td>Average</td>\n",
       "      <td>Yes, because I see value in code review</td>\n",
       "      <td>8.0</td>\n",
       "      <td>Yes, it's part of our process</td>\n",
       "      <td>Developers typically have the most influence o...</td>\n",
       "      <td>I have little or no influence</td>\n",
       "      <td>Assembly;C;C++;HTML/CSS;Java;PHP;SQL</td>\n",
       "      <td>C;C++;HTML/CSS;Java;JavaScript;SQL;TypeScript</td>\n",
       "      <td>MySQL;PostgreSQL</td>\n",
       "      <td>MySQL;PostgreSQL</td>\n",
       "      <td>Linux;Windows</td>\n",
       "      <td>Windows</td>\n",
       "      <td>NaN</td>\n",
       "      <td>Spring</td>\n",
       "      <td>NaN</td>\n",
       "      <td>Node.js</td>\n",
       "      <td>IntelliJ;Notepad++</td>\n",
       "      <td>Windows</td>\n",
       "      <td>Development</td>\n",
       "      <td>Accepting Bitcoin or other coins and tokens as...</td>\n",
       "      <td>Useful for immutable record keeping outside of...</td>\n",
       "      <td>Yes</td>\n",
       "      <td>Yes</td>\n",
       "      <td>Yes</td>\n",
       "      <td>Facebook</td>\n",
       "      <td>Online</td>\n",
       "      <td>Handle</td>\n",
       "      <td>NaN</td>\n",
       "      <td>Daily or almost daily</td>\n",
       "      <td>Find answers to specific questions;Learn how t...</td>\n",
       "      <td>6-10 times per week</td>\n",
       "      <td>Stack Overflow was much faster</td>\n",
       "      <td>11-30 minutes</td>\n",
       "      <td>Yes</td>\n",
       "      <td>A few times per month or weekly</td>\n",
       "      <td>No, I didn't know that Stack Overflow had a jo...</td>\n",
       "      <td>No, and I don't know what those are</td>\n",
       "      <td>Yes, definitely</td>\n",
       "      <td>A lot less welcome now than last year</td>\n",
       "      <td>Tech articles written by other developers</td>\n",
       "      <td>26.0</td>\n",
       "      <td>Man</td>\n",
       "      <td>No</td>\n",
       "      <td>Straight / Heterosexual</td>\n",
       "      <td>South Asian</td>\n",
       "      <td>No</td>\n",
       "      <td>Too long</td>\n",
       "      <td>Neither easy nor difficult</td>\n",
       "    </tr>\n",
       "    <tr>\n",
       "      <th>7085</th>\n",
       "      <td>I am a developer by profession</td>\n",
       "      <td>Yes</td>\n",
       "      <td>Less than once per year</td>\n",
       "      <td>The quality of OSS and closed source software ...</td>\n",
       "      <td>Independent contractor, freelancer, or self-em...</td>\n",
       "      <td>Afghanistan</td>\n",
       "      <td>No</td>\n",
       "      <td>Bachelor’s degree (BA, BS, B.Eng., etc.)</td>\n",
       "      <td>Computer science, computer engineering, or sof...</td>\n",
       "      <td>Taught yourself a new language, framework, or ...</td>\n",
       "      <td>2-9 employees</td>\n",
       "      <td>Developer, full-stack</td>\n",
       "      <td>7</td>\n",
       "      <td>19</td>\n",
       "      <td>6</td>\n",
       "      <td>Slightly dissatisfied</td>\n",
       "      <td>Neither satisfied nor dissatisfied</td>\n",
       "      <td>NaN</td>\n",
       "      <td>NaN</td>\n",
       "      <td>NaN</td>\n",
       "      <td>I’m not actively looking, but I am open to new...</td>\n",
       "      <td>Less than a year ago</td>\n",
       "      <td>Interview with people in peer roles;Interview ...</td>\n",
       "      <td>No</td>\n",
       "      <td>Languages, frameworks, and other technologies ...</td>\n",
       "      <td>I was preparing for a job search</td>\n",
       "      <td>AFN</td>\n",
       "      <td>Afghan afghani</td>\n",
       "      <td>90000.0</td>\n",
       "      <td>Monthly</td>\n",
       "      <td>14364.0</td>\n",
       "      <td>30.0</td>\n",
       "      <td>There's no schedule or spec; I work on what se...</td>\n",
       "      <td>Inadequate access to necessary tools;Lack of s...</td>\n",
       "      <td>About half the time</td>\n",
       "      <td>Office</td>\n",
       "      <td>Average</td>\n",
       "      <td>Yes, because I see value in code review</td>\n",
       "      <td>3.0</td>\n",
       "      <td>NaN</td>\n",
       "      <td>NaN</td>\n",
       "      <td>NaN</td>\n",
       "      <td>HTML/CSS;JavaScript;PHP</td>\n",
       "      <td>JavaScript;Kotlin;PHP</td>\n",
       "      <td>MySQL</td>\n",
       "      <td>MongoDB;MySQL;Redis</td>\n",
       "      <td>Linux;MacOS;Other(s):</td>\n",
       "      <td>Linux;MacOS;Other(s):</td>\n",
       "      <td>jQuery;Laravel;Vue.js</td>\n",
       "      <td>ASP.NET;jQuery;Laravel;Vue.js</td>\n",
       "      <td>NaN</td>\n",
       "      <td>React Native</td>\n",
       "      <td>Sublime Text;Visual Studio Code</td>\n",
       "      <td>MacOS</td>\n",
       "      <td>Development;Outside of work, for personal proj...</td>\n",
       "      <td>NaN</td>\n",
       "      <td>NaN</td>\n",
       "      <td>Yes</td>\n",
       "      <td>Also Yes</td>\n",
       "      <td>Yes</td>\n",
       "      <td>Instagram</td>\n",
       "      <td>Online</td>\n",
       "      <td>UserID</td>\n",
       "      <td>2016</td>\n",
       "      <td>Multiple times per day</td>\n",
       "      <td>Find answers to specific questions;Learn how t...</td>\n",
       "      <td>6-10 times per week</td>\n",
       "      <td>Stack Overflow was much faster</td>\n",
       "      <td>60+ minutes</td>\n",
       "      <td>Yes</td>\n",
       "      <td>A few times per week</td>\n",
       "      <td>No, I knew that Stack Overflow had a job board...</td>\n",
       "      <td>No, I've heard of them, but I am not part of a...</td>\n",
       "      <td>Yes, somewhat</td>\n",
       "      <td>Just as welcome now as I felt last year</td>\n",
       "      <td>Industry news about technologies you're intere...</td>\n",
       "      <td>26.0</td>\n",
       "      <td>Man</td>\n",
       "      <td>NaN</td>\n",
       "      <td>Straight / Heterosexual</td>\n",
       "      <td>East Asian</td>\n",
       "      <td>Yes</td>\n",
       "      <td>Appropriate in length</td>\n",
       "      <td>Neither easy nor difficult</td>\n",
       "    </tr>\n",
       "  </tbody>\n",
       "</table>\n",
       "</div>"
      ],
      "text/plain": [
       "                                                   MainBranch Hobbyist  \\\n",
       "Respondent                                                               \n",
       "63129                          I am a developer by profession      Yes   \n",
       "50499       I am not primarily a developer, but I write co...      Yes   \n",
       "39258                          I am a developer by profession      Yes   \n",
       "58450                          I am a developer by profession      Yes   \n",
       "7085                           I am a developer by profession      Yes   \n",
       "\n",
       "                        OpenSourcer  \\\n",
       "Respondent                            \n",
       "63129                         Never   \n",
       "50499       Less than once per year   \n",
       "39258       Less than once per year   \n",
       "58450                         Never   \n",
       "7085        Less than once per year   \n",
       "\n",
       "                                                   OpenSource  \\\n",
       "Respondent                                                      \n",
       "63129       OSS is, on average, of HIGHER quality than pro...   \n",
       "50499       OSS is, on average, of LOWER quality than prop...   \n",
       "39258       OSS is, on average, of LOWER quality than prop...   \n",
       "58450       OSS is, on average, of HIGHER quality than pro...   \n",
       "7085        The quality of OSS and closed source software ...   \n",
       "\n",
       "                                                   Employment      Country  \\\n",
       "Respondent                                                                   \n",
       "63129                                      Employed full-time  Afghanistan   \n",
       "50499                                      Employed full-time  Afghanistan   \n",
       "39258                                      Employed full-time  Afghanistan   \n",
       "58450                                      Employed full-time  Afghanistan   \n",
       "7085        Independent contractor, freelancer, or self-em...  Afghanistan   \n",
       "\n",
       "                   Student                                   EdLevel  \\\n",
       "Respondent                                                             \n",
       "63129       Yes, full-time    I never completed any formal education   \n",
       "50499                   No  Bachelor’s degree (BA, BS, B.Eng., etc.)   \n",
       "39258                   No  Bachelor’s degree (BA, BS, B.Eng., etc.)   \n",
       "58450                   No  Bachelor’s degree (BA, BS, B.Eng., etc.)   \n",
       "7085                    No  Bachelor’s degree (BA, BS, B.Eng., etc.)   \n",
       "\n",
       "                                               UndergradMajor  \\\n",
       "Respondent                                                      \n",
       "63129                                                     NaN   \n",
       "50499       A health science (ex. nursing, pharmacy, radio...   \n",
       "39258       Computer science, computer engineering, or sof...   \n",
       "58450       Computer science, computer engineering, or sof...   \n",
       "7085        Computer science, computer engineering, or sof...   \n",
       "\n",
       "                                                     EduOther  \\\n",
       "Respondent                                                      \n",
       "63129       Taken an online course in programming or softw...   \n",
       "50499       Participated in a full-time developer training...   \n",
       "39258       Taken an online course in programming or softw...   \n",
       "58450       Taken an online course in programming or softw...   \n",
       "7085        Taught yourself a new language, framework, or ...   \n",
       "\n",
       "                                                      OrgSize  \\\n",
       "Respondent                                                      \n",
       "63129       Just me - I am a freelancer, sole proprietor, ...   \n",
       "50499                                10,000 or more employees   \n",
       "39258                                    100 to 499 employees   \n",
       "58450                                10,000 or more employees   \n",
       "7085                                            2-9 employees   \n",
       "\n",
       "                                                      DevType  \\\n",
       "Respondent                                                      \n",
       "63129                                                     NaN   \n",
       "50499       Data or business analyst;Database administrato...   \n",
       "39258       Database administrator;Designer;Developer, bac...   \n",
       "58450       Developer, back-end;Developer, desktop or ente...   \n",
       "7085                                    Developer, full-stack   \n",
       "\n",
       "                   YearsCode            Age1stCode YearsCodePro  \\\n",
       "Respondent                                                        \n",
       "63129       Less than 1 year  Younger than 5 years            1   \n",
       "50499                      7                    27            7   \n",
       "39258                      2                    22            1   \n",
       "58450                      6                    20            2   \n",
       "7085                       7                    19            6   \n",
       "\n",
       "                                     CareerSat  \\\n",
       "Respondent                                       \n",
       "63129                        Very dissatisfied   \n",
       "50499                        Very dissatisfied   \n",
       "39258                           Very satisfied   \n",
       "58450       Neither satisfied nor dissatisfied   \n",
       "7085                     Slightly dissatisfied   \n",
       "\n",
       "                                        JobSat            MgrIdiot MgrMoney  \\\n",
       "Respondent                                                                    \n",
       "63129                        Very dissatisfied      Very confident      Yes   \n",
       "50499                        Very dissatisfied  Somewhat confident      Yes   \n",
       "39258                           Very satisfied      Very confident       No   \n",
       "58450                       Slightly satisfied      Very confident      Yes   \n",
       "7085        Neither satisfied nor dissatisfied                 NaN      NaN   \n",
       "\n",
       "           MgrWant                                            JobSeek  \\\n",
       "Respondent                                                              \n",
       "63129          Yes                    I am actively looking for a job   \n",
       "50499          Yes  I’m not actively looking, but I am open to new...   \n",
       "39258          Yes  I’m not actively looking, but I am open to new...   \n",
       "58450          Yes                    I am actively looking for a job   \n",
       "7085           NaN  I’m not actively looking, but I am open to new...   \n",
       "\n",
       "                     LastHireDate  \\\n",
       "Respondent                          \n",
       "63129        I've never had a job   \n",
       "50499       More than 4 years ago   \n",
       "39258               1-2 years ago   \n",
       "58450               1-2 years ago   \n",
       "7085         Less than a year ago   \n",
       "\n",
       "                                                      LastInt FizzBuzz  \\\n",
       "Respondent                                                               \n",
       "63129                                          Write any code      Yes   \n",
       "50499       Write code by hand (e.g., on a whiteboard);Int...       No   \n",
       "39258       Write code by hand (e.g., on a whiteboard);Int...       No   \n",
       "58450       Write code by hand (e.g., on a whiteboard);Com...       No   \n",
       "7085        Interview with people in peer roles;Interview ...       No   \n",
       "\n",
       "                                                   JobFactors  \\\n",
       "Respondent                                                      \n",
       "63129       How widely used or impactful my work output wo...   \n",
       "50499       Opportunities for professional development;Div...   \n",
       "39258       Languages, frameworks, and other technologies ...   \n",
       "58450       Languages, frameworks, and other technologies ...   \n",
       "7085        Languages, frameworks, and other technologies ...   \n",
       "\n",
       "                                                 ResumeUpdate CurrencySymbol  \\\n",
       "Respondent                                                                     \n",
       "63129       I had a negative experience or interaction at ...            AED   \n",
       "50499       Something else changed (education, award, medi...            AFN   \n",
       "39258       Something else changed (education, award, medi...            AFN   \n",
       "58450       I had a negative experience or interaction at ...            AFN   \n",
       "7085                         I was preparing for a job search            AFN   \n",
       "\n",
       "                           CurrencyDesc    CompTotal CompFreq  ConvertedComp  \\\n",
       "Respondent                                                                     \n",
       "63129       United Arab Emirates dirham  648838511.0  Monthly      1000000.0   \n",
       "50499                    Afghan afghani     960000.0  Monthly       153216.0   \n",
       "39258                    Afghan afghani     120000.0  Monthly        19152.0   \n",
       "58450                    Afghan afghani     110000.0  Monthly        17556.0   \n",
       "7085                     Afghan afghani      90000.0  Monthly        14364.0   \n",
       "\n",
       "            WorkWeekHrs                                           WorkPlan  \\\n",
       "Respondent                                                                   \n",
       "63129             168.0  There is a schedule and/or spec (made by me or...   \n",
       "50499              40.0  There is a schedule and/or spec (made by me or...   \n",
       "39258              49.0  There is a schedule and/or spec (made by me or...   \n",
       "58450              40.0  There is a schedule and/or spec (made by me or...   \n",
       "7085               30.0  There's no schedule or spec; I work on what se...   \n",
       "\n",
       "                                                WorkChallenge  \\\n",
       "Respondent                                                      \n",
       "63129                  Being tasked with non-development work   \n",
       "50499       Lack of support from management;Time spent com...   \n",
       "39258       Not enough people for the workload;Time spent ...   \n",
       "58450                            Distracting work environment   \n",
       "7085        Inadequate access to necessary tools;Lack of s...   \n",
       "\n",
       "                                  WorkRemote  \\\n",
       "Respondent                                     \n",
       "63129                       It's complicated   \n",
       "50499       Less than once per month / Never   \n",
       "39258       Less than once per month / Never   \n",
       "58450                       It's complicated   \n",
       "7085                     About half the time   \n",
       "\n",
       "                                                   WorkLoc  \\\n",
       "Respondent                                                   \n",
       "63129       Other place, such as a coworking space or cafe   \n",
       "50499                                               Office   \n",
       "39258                                               Office   \n",
       "58450                                               Office   \n",
       "7085                                                Office   \n",
       "\n",
       "                            ImpSyn                                  CodeRev  \\\n",
       "Respondent                                                                    \n",
       "63129            Far below average                                       No   \n",
       "50499       A little above average  Yes, because I see value in code review   \n",
       "39258            Far above average  Yes, because I see value in code review   \n",
       "58450                      Average  Yes, because I see value in code review   \n",
       "7085                       Average  Yes, because I see value in code review   \n",
       "\n",
       "            CodeRevHrs                                          UnitTests  \\\n",
       "Respondent                                                                  \n",
       "63129              NaN                                                NaN   \n",
       "50499              8.0  Yes, it's not part of our process but the deve...   \n",
       "39258             10.0  Yes, it's not part of our process but the deve...   \n",
       "58450              8.0                      Yes, it's part of our process   \n",
       "7085               3.0                                                NaN   \n",
       "\n",
       "                                                  PurchaseHow  \\\n",
       "Respondent                                                      \n",
       "63129                                                     NaN   \n",
       "50499       Developers typically have the most influence o...   \n",
       "39258       Developers typically have the most influence o...   \n",
       "58450       Developers typically have the most influence o...   \n",
       "7085                                                      NaN   \n",
       "\n",
       "                                PurchaseWhat  \\\n",
       "Respondent                                     \n",
       "63129                                    NaN   \n",
       "50499       I have a great deal of influence   \n",
       "39258                  I have some influence   \n",
       "58450          I have little or no influence   \n",
       "7085                                     NaN   \n",
       "\n",
       "                                  LanguageWorkedWith  \\\n",
       "Respondent                                             \n",
       "63129       Assembly;Bash/Shell/PowerShell;Other(s):   \n",
       "50499                 C#;HTML/CSS;JavaScript;SQL;VBA   \n",
       "39258         HTML/CSS;JavaScript;PHP;SQL;TypeScript   \n",
       "58450           Assembly;C;C++;HTML/CSS;Java;PHP;SQL   \n",
       "7085                         HTML/CSS;JavaScript;PHP   \n",
       "\n",
       "                                   LanguageDesireNextYear  \\\n",
       "Respondent                                                  \n",
       "63129                    Bash/Shell/PowerShell;TypeScript   \n",
       "50499         C#;HTML/CSS;JavaScript;R;SQL;TypeScript;VBA   \n",
       "39258                   C#;Dart;JavaScript;SQL;TypeScript   \n",
       "58450       C;C++;HTML/CSS;Java;JavaScript;SQL;TypeScript   \n",
       "7085                                JavaScript;Kotlin;PHP   \n",
       "\n",
       "                                DatabaseWorkedWith  \\\n",
       "Respondent                                           \n",
       "63129                                        MySQL   \n",
       "50499       Microsoft SQL Server;PostgreSQL;SQLite   \n",
       "39258             MariaDB;MongoDB;MySQL;PostgreSQL   \n",
       "58450                             MySQL;PostgreSQL   \n",
       "7085                                         MySQL   \n",
       "\n",
       "                                       DatabaseDesireNextYear  \\\n",
       "Respondent                                                      \n",
       "63129                                                   MySQL   \n",
       "50499       MariaDB;MongoDB;Microsoft SQL Server;PostgreSQ...   \n",
       "39258                Couchbase;Firebase;MariaDB;MongoDB;Redis   \n",
       "58450                                        MySQL;PostgreSQL   \n",
       "7085                                      MongoDB;MySQL;Redis   \n",
       "\n",
       "                                 PlatformWorkedWith  \\\n",
       "Respondent                                            \n",
       "63129       Android;iOS;Windows;WordPress;Other(s):   \n",
       "50499                                           NaN   \n",
       "39258           Android;AWS;Linux;Windows;WordPress   \n",
       "58450                                 Linux;Windows   \n",
       "7085                          Linux;MacOS;Other(s):   \n",
       "\n",
       "                                       PlatformDesireNextYear  \\\n",
       "Respondent                                                      \n",
       "63129                 Android;iOS;Windows;WordPress;Other(s):   \n",
       "50499                                                 Android   \n",
       "39258       Android;AWS;Docker;Heroku;iOS;Linux;Raspberry ...   \n",
       "58450                                                 Windows   \n",
       "7085                                    Linux;MacOS;Other(s):   \n",
       "\n",
       "                                           WebFrameWorkedWith  \\\n",
       "Respondent                                                      \n",
       "63129       Angular/Angular.js;Express;jQuery;Laravel;Othe...   \n",
       "50499                                          ASP.NET;jQuery   \n",
       "39258               Angular/Angular.js;Drupal;Express;Laravel   \n",
       "58450                                                     NaN   \n",
       "7085                                    jQuery;Laravel;Vue.js   \n",
       "\n",
       "                                       WebFrameDesireNextYear  \\\n",
       "Respondent                                                      \n",
       "63129       Angular/Angular.js;Express;jQuery;Laravel;Othe...   \n",
       "50499       Angular/Angular.js;ASP.NET;jQuery;React.js;Vue.js   \n",
       "39258                       Angular/Angular.js;Drupal;Express   \n",
       "58450                                                  Spring   \n",
       "7085                            ASP.NET;jQuery;Laravel;Vue.js   \n",
       "\n",
       "                            MiscTechWorkedWith  \\\n",
       "Respondent                                       \n",
       "63129       Ansible;Apache Spark;Torch/PyTorch   \n",
       "50499                                     .NET   \n",
       "39258                          Cordova;Node.js   \n",
       "58450                                      NaN   \n",
       "7085                                       NaN   \n",
       "\n",
       "                    MiscTechDesireNextYear  \\\n",
       "Respondent                                   \n",
       "63129           Apache Spark;Torch/PyTorch   \n",
       "50499       .NET;.NET Core;Node.js;Xamarin   \n",
       "39258                       Hadoop;Node.js   \n",
       "58450                              Node.js   \n",
       "7085                          React Native   \n",
       "\n",
       "                                                   DevEnviron        OpSys  \\\n",
       "Respondent                                                                   \n",
       "63129       Android Studio;Atom;Coda;Eclipse;Emacs;IPython...      Windows   \n",
       "50499                                           Visual Studio      Windows   \n",
       "39258               Notepad++;PHPStorm;Vim;Visual Studio Code  Linux-based   \n",
       "58450                                      IntelliJ;Notepad++      Windows   \n",
       "7085                          Sublime Text;Visual Studio Code        MacOS   \n",
       "\n",
       "                                                   Containers  \\\n",
       "Respondent                                                      \n",
       "63129                  Outside of work, for personal projects   \n",
       "50499                                 I do not use containers   \n",
       "39258                                              Production   \n",
       "58450                                             Development   \n",
       "7085        Development;Outside of work, for personal proj...   \n",
       "\n",
       "                                                BlockchainOrg  \\\n",
       "Respondent                                                      \n",
       "63129       Accepting Bitcoin or other coins and tokens as...   \n",
       "50499                     Implementing our own cryptocurrency   \n",
       "39258                                                     NaN   \n",
       "58450       Accepting Bitcoin or other coins and tokens as...   \n",
       "7085                                                      NaN   \n",
       "\n",
       "                                                 BlockchainIs BetterLife  \\\n",
       "Respondent                                                                 \n",
       "63129       Useful across many domains and could change ma...        Yes   \n",
       "50499                                                     NaN        Yes   \n",
       "39258                                                     NaN        Yes   \n",
       "58450       Useful for immutable record keeping outside of...        Yes   \n",
       "7085                                                      NaN        Yes   \n",
       "\n",
       "            ITperson OffOn               SocialMedia Extraversion ScreenName  \\\n",
       "Respondent                                                                     \n",
       "63129            Yes   Yes  I don't use social media       Online     UserID   \n",
       "50499            Yes   Yes                  WhatsApp       Online      Login   \n",
       "39258            Yes    No                  Facebook       Online      Login   \n",
       "58450            Yes   Yes                  Facebook       Online     Handle   \n",
       "7085        Also Yes   Yes                 Instagram       Online     UserID   \n",
       "\n",
       "           SOVisit1st                                        SOVisitFreq  \\\n",
       "Respondent                                                                 \n",
       "63129             NaN  I have never visited Stack Overflow (before to...   \n",
       "50499            2013                    A few times per month or weekly   \n",
       "39258            2016                               A few times per week   \n",
       "58450             NaN                              Daily or almost daily   \n",
       "7085             2016                             Multiple times per day   \n",
       "\n",
       "                                                    SOVisitTo  \\\n",
       "Respondent                                                      \n",
       "63129                      Find answers to specific questions   \n",
       "50499                      Find answers to specific questions   \n",
       "39258       Find answers to specific questions;Learn how t...   \n",
       "58450       Find answers to specific questions;Learn how t...   \n",
       "7085        Find answers to specific questions;Learn how t...   \n",
       "\n",
       "                       SOFindAnswer                         SOTimeSaved  \\\n",
       "Respondent                                                                \n",
       "63129       Less than once per week      Stack Overflow was much faster   \n",
       "50499       Less than once per week  Stack Overflow was slightly faster   \n",
       "39258            1-2 times per week      Stack Overflow was much faster   \n",
       "58450           6-10 times per week      Stack Overflow was much faster   \n",
       "7085            6-10 times per week      Stack Overflow was much faster   \n",
       "\n",
       "            SOHowMuchTime SOAccount                           SOPartFreq  \\\n",
       "Respondent                                                                 \n",
       "63129        0-10 minutes       NaN                                  NaN   \n",
       "50499       11-30 minutes       Yes  Less than once per month or monthly   \n",
       "39258        0-10 minutes       Yes  Less than once per month or monthly   \n",
       "58450       11-30 minutes       Yes      A few times per month or weekly   \n",
       "7085          60+ minutes       Yes                 A few times per week   \n",
       "\n",
       "                                                       SOJobs  \\\n",
       "Respondent                                                      \n",
       "63129       No, I didn't know that Stack Overflow had a jo...   \n",
       "50499                                                     Yes   \n",
       "39258                                                     Yes   \n",
       "58450       No, I didn't know that Stack Overflow had a jo...   \n",
       "7085        No, I knew that Stack Overflow had a job board...   \n",
       "\n",
       "                                                     EntTeams  \\\n",
       "Respondent                                                      \n",
       "63129                                                     NaN   \n",
       "50499                     No, and I don't know what those are   \n",
       "39258                                                     NaN   \n",
       "58450                     No, and I don't know what those are   \n",
       "7085        No, I've heard of them, but I am not part of a...   \n",
       "\n",
       "                     SOComm                            WelcomeChange  \\\n",
       "Respondent                                                             \n",
       "63129        No, not at all                                      NaN   \n",
       "50499         Yes, somewhat  Just as welcome now as I felt last year   \n",
       "39258         Yes, somewhat                                      NaN   \n",
       "58450       Yes, definitely    A lot less welcome now than last year   \n",
       "7085          Yes, somewhat  Just as welcome now as I felt last year   \n",
       "\n",
       "                                                 SONewContent   Age Gender  \\\n",
       "Respondent                                                                   \n",
       "63129               Tech articles written by other developers   NaN    NaN   \n",
       "50499       Tech articles written by other developers;Indu...  34.0    NaN   \n",
       "39258       Tech articles written by other developers;Indu...  26.0    Man   \n",
       "58450               Tech articles written by other developers  26.0    Man   \n",
       "7085        Industry news about technologies you're intere...  26.0    Man   \n",
       "\n",
       "           Trans                Sexuality               Ethnicity Dependents  \\\n",
       "Respondent                                                                     \n",
       "63129        NaN                      NaN                     NaN        Yes   \n",
       "50499         No  Straight / Heterosexual                     NaN        Yes   \n",
       "39258         No  Straight / Heterosexual  East Asian;South Asian        Yes   \n",
       "58450         No  Straight / Heterosexual             South Asian         No   \n",
       "7085         NaN  Straight / Heterosexual              East Asian        Yes   \n",
       "\n",
       "                     SurveyLength                  SurveyEase  \n",
       "Respondent                                                     \n",
       "63129                   Too short                        Easy  \n",
       "50499                    Too long  Neither easy nor difficult  \n",
       "39258                    Too long                        Easy  \n",
       "58450                    Too long  Neither easy nor difficult  \n",
       "7085        Appropriate in length  Neither easy nor difficult  "
      ]
     },
     "execution_count": 156,
     "metadata": {},
     "output_type": "execute_result"
    }
   ],
   "source": [
    "df.head(5)"
   ]
  },
  {
   "cell_type": "code",
   "execution_count": 157,
   "metadata": {},
   "outputs": [
    {
     "data": {
      "text/plain": [
       "False    5739\n",
       "True     3105\n",
       "Name: LanguageWorkedWith, dtype: int64"
      ]
     },
     "execution_count": 157,
     "metadata": {},
     "output_type": "execute_result"
    }
   ],
   "source": [
    "# How many people from a perticular country knew Python\n",
    "# this is by filtering way\n",
    "fltr = (df['Country'] == 'India')\n",
    "df.loc[fltr]['LanguageWorkedWith'].str.contains('Python').value_counts() #.sum() at last gives 3105"
   ]
  },
  {
   "cell_type": "code",
   "execution_count": 158,
   "metadata": {},
   "outputs": [
    {
     "data": {
      "text/plain": [
       "Country           \n",
       "Afghanistan  False    31\n",
       "             True      8\n",
       "Albania      False    60\n",
       "             True     23\n",
       "Algeria      False    86\n",
       "                      ..\n",
       "Yemen        True      3\n",
       "Zambia       False     8\n",
       "             True      4\n",
       "Zimbabwe     False    25\n",
       "             True     14\n",
       "Name: LanguageWorkedWith, Length: 335, dtype: int64"
      ]
     },
     "execution_count": 158,
     "metadata": {},
     "output_type": "execute_result"
    }
   ],
   "source": [
    "# using groupby way\n",
    "# this below code gives error as groupby object does not have .str method\n",
    "# country_grp['LanguageWorkedWith'].str.contains('Python').value_counts()\n",
    "country_grp['LanguageWorkedWith'].apply(lambda x: x.str.contains('Python').value_counts())"
   ]
  },
  {
   "cell_type": "markdown",
   "metadata": {},
   "source": [
    "## Cleaning Data, Casting Datatypes and Handling Missing values\n",
    "1. https://pandas.pydata.org/pandas-docs/stable/reference/api/pandas.DataFrame.dropna.html\n",
    "2. https://pandas.pydata.org/pandas-docs/stable/reference/api/pandas.DataFrame.fillna.html#pandas.DataFrame.fillna"
   ]
  },
  {
   "cell_type": "code",
   "execution_count": 159,
   "metadata": {},
   "outputs": [
    {
     "data": {
      "text/html": [
       "<div>\n",
       "<style scoped>\n",
       "    .dataframe tbody tr th:only-of-type {\n",
       "        vertical-align: middle;\n",
       "    }\n",
       "\n",
       "    .dataframe tbody tr th {\n",
       "        vertical-align: top;\n",
       "    }\n",
       "\n",
       "    .dataframe thead th {\n",
       "        text-align: right;\n",
       "    }\n",
       "</style>\n",
       "<table border=\"1\" class=\"dataframe\">\n",
       "  <thead>\n",
       "    <tr style=\"text-align: right;\">\n",
       "      <th></th>\n",
       "      <th>first</th>\n",
       "      <th>last</th>\n",
       "      <th>email</th>\n",
       "      <th>age</th>\n",
       "    </tr>\n",
       "  </thead>\n",
       "  <tbody>\n",
       "    <tr>\n",
       "      <th>0</th>\n",
       "      <td>Corey</td>\n",
       "      <td>Schafer</td>\n",
       "      <td>CoreyMSchafer@gmail.com</td>\n",
       "      <td>33</td>\n",
       "    </tr>\n",
       "    <tr>\n",
       "      <th>1</th>\n",
       "      <td>Jane</td>\n",
       "      <td>Doe</td>\n",
       "      <td>JaneDoe@email.com</td>\n",
       "      <td>55</td>\n",
       "    </tr>\n",
       "    <tr>\n",
       "      <th>2</th>\n",
       "      <td>John</td>\n",
       "      <td>Doe</td>\n",
       "      <td>JohnDoe@email.com</td>\n",
       "      <td>63</td>\n",
       "    </tr>\n",
       "    <tr>\n",
       "      <th>3</th>\n",
       "      <td>Chris</td>\n",
       "      <td>Schafer</td>\n",
       "      <td>None</td>\n",
       "      <td>36</td>\n",
       "    </tr>\n",
       "    <tr>\n",
       "      <th>4</th>\n",
       "      <td>NaN</td>\n",
       "      <td>NaN</td>\n",
       "      <td>NaN</td>\n",
       "      <td>None</td>\n",
       "    </tr>\n",
       "    <tr>\n",
       "      <th>5</th>\n",
       "      <td>None</td>\n",
       "      <td>NaN</td>\n",
       "      <td>Anonymous@email.com</td>\n",
       "      <td>None</td>\n",
       "    </tr>\n",
       "    <tr>\n",
       "      <th>6</th>\n",
       "      <td>NA</td>\n",
       "      <td>Missing</td>\n",
       "      <td>NA</td>\n",
       "      <td>Missing</td>\n",
       "    </tr>\n",
       "  </tbody>\n",
       "</table>\n",
       "</div>"
      ],
      "text/plain": [
       "   first     last                    email      age\n",
       "0  Corey  Schafer  CoreyMSchafer@gmail.com       33\n",
       "1   Jane      Doe        JaneDoe@email.com       55\n",
       "2   John      Doe        JohnDoe@email.com       63\n",
       "3  Chris  Schafer                     None       36\n",
       "4    NaN      NaN                      NaN     None\n",
       "5   None      NaN      Anonymous@email.com     None\n",
       "6     NA  Missing                       NA  Missing"
      ]
     },
     "execution_count": 159,
     "metadata": {},
     "output_type": "execute_result"
    }
   ],
   "source": [
    "people = {\n",
    "    'first': ['Corey', 'Jane', 'John', 'Chris', np.nan, None, 'NA'], \n",
    "    'last': ['Schafer', 'Doe', 'Doe', 'Schafer', np.nan, np.nan, 'Missing'], \n",
    "    'email': ['CoreyMSchafer@gmail.com', 'JaneDoe@email.com', 'JohnDoe@email.com', None, np.nan, 'Anonymous@email.com', 'NA'],\n",
    "    'age': ['33', '55', '63', '36', None, None, 'Missing']\n",
    "}\n",
    "df1 = pd.DataFrame(people)\n",
    "df1"
   ]
  },
  {
   "cell_type": "code",
   "execution_count": 160,
   "metadata": {},
   "outputs": [
    {
     "data": {
      "text/plain": [
       "first    True\n",
       "last     True\n",
       "email    True\n",
       "age      True\n",
       "dtype: bool"
      ]
     },
     "execution_count": 160,
     "metadata": {},
     "output_type": "execute_result"
    }
   ],
   "source": [
    "# check to see if any of the columns contain Nan/Missing values\n",
    "df1.isnull().any() # any(axis='columns') to check row wise"
   ]
  },
  {
   "cell_type": "code",
   "execution_count": 161,
   "metadata": {},
   "outputs": [
    {
     "data": {
      "text/plain": [
       "first    2\n",
       "last     2\n",
       "email    2\n",
       "age      2\n",
       "dtype: int64"
      ]
     },
     "execution_count": 161,
     "metadata": {},
     "output_type": "execute_result"
    }
   ],
   "source": [
    "# This will give you the count of NaN in each column\n",
    "df1.isnull().sum()\n",
    "# df1.isnull().sum().sum() # count of NaN's in entire df"
   ]
  },
  {
   "cell_type": "code",
   "execution_count": 162,
   "metadata": {},
   "outputs": [
    {
     "data": {
      "text/plain": [
       "False"
      ]
     },
     "execution_count": 162,
     "metadata": {},
     "output_type": "execute_result"
    }
   ],
   "source": [
    "pd.isnull(df1.loc[1, 'email'])"
   ]
  },
  {
   "cell_type": "code",
   "execution_count": 163,
   "metadata": {},
   "outputs": [
    {
     "name": "stdout",
     "output_type": "stream",
     "text": [
      "3\n",
      "Chris.Schafer@email.com\n",
      "4\n"
     ]
    }
   ],
   "source": [
    "# to see the index numbers with NaN in email\n",
    "# and create a email with first and last name\n",
    "ind = df1[df1['email'].isnull()].index\n",
    "for i in ind:\n",
    "    print(i)\n",
    "    if not (pd.isnull(df1.loc[i, 'first']) & pd.isnull(df1.loc[i, 'last'])):\n",
    "        print(df1.loc[i, 'first'] + \".\" + df1.loc[i, 'last'] + \"@email.com\") # assign it to df1.loc[i. 'email'] = "
   ]
  },
  {
   "cell_type": "code",
   "execution_count": 164,
   "metadata": {},
   "outputs": [
    {
     "data": {
      "text/html": [
       "<div>\n",
       "<style scoped>\n",
       "    .dataframe tbody tr th:only-of-type {\n",
       "        vertical-align: middle;\n",
       "    }\n",
       "\n",
       "    .dataframe tbody tr th {\n",
       "        vertical-align: top;\n",
       "    }\n",
       "\n",
       "    .dataframe thead th {\n",
       "        text-align: right;\n",
       "    }\n",
       "</style>\n",
       "<table border=\"1\" class=\"dataframe\">\n",
       "  <thead>\n",
       "    <tr style=\"text-align: right;\">\n",
       "      <th></th>\n",
       "      <th>first</th>\n",
       "      <th>last</th>\n",
       "      <th>email</th>\n",
       "      <th>age</th>\n",
       "    </tr>\n",
       "  </thead>\n",
       "  <tbody>\n",
       "    <tr>\n",
       "      <th>0</th>\n",
       "      <td>Corey</td>\n",
       "      <td>Schafer</td>\n",
       "      <td>CoreyMSchafer@gmail.com</td>\n",
       "      <td>33</td>\n",
       "    </tr>\n",
       "    <tr>\n",
       "      <th>1</th>\n",
       "      <td>Jane</td>\n",
       "      <td>Doe</td>\n",
       "      <td>JaneDoe@email.com</td>\n",
       "      <td>55</td>\n",
       "    </tr>\n",
       "    <tr>\n",
       "      <th>2</th>\n",
       "      <td>John</td>\n",
       "      <td>Doe</td>\n",
       "      <td>JohnDoe@email.com</td>\n",
       "      <td>63</td>\n",
       "    </tr>\n",
       "    <tr>\n",
       "      <th>6</th>\n",
       "      <td>NA</td>\n",
       "      <td>Missing</td>\n",
       "      <td>NA</td>\n",
       "      <td>Missing</td>\n",
       "    </tr>\n",
       "  </tbody>\n",
       "</table>\n",
       "</div>"
      ],
      "text/plain": [
       "   first     last                    email      age\n",
       "0  Corey  Schafer  CoreyMSchafer@gmail.com       33\n",
       "1   Jane      Doe        JaneDoe@email.com       55\n",
       "2   John      Doe        JohnDoe@email.com       63\n",
       "6     NA  Missing                       NA  Missing"
      ]
     },
     "execution_count": 164,
     "metadata": {},
     "output_type": "execute_result"
    }
   ],
   "source": [
    "# drops all rows which has NaN/None\n",
    "df1.dropna() # axis='columns' drops columns"
   ]
  },
  {
   "cell_type": "code",
   "execution_count": 165,
   "metadata": {},
   "outputs": [
    {
     "data": {
      "text/html": [
       "<div>\n",
       "<style scoped>\n",
       "    .dataframe tbody tr th:only-of-type {\n",
       "        vertical-align: middle;\n",
       "    }\n",
       "\n",
       "    .dataframe tbody tr th {\n",
       "        vertical-align: top;\n",
       "    }\n",
       "\n",
       "    .dataframe thead th {\n",
       "        text-align: right;\n",
       "    }\n",
       "</style>\n",
       "<table border=\"1\" class=\"dataframe\">\n",
       "  <thead>\n",
       "    <tr style=\"text-align: right;\">\n",
       "      <th></th>\n",
       "      <th>first</th>\n",
       "      <th>last</th>\n",
       "      <th>email</th>\n",
       "      <th>age</th>\n",
       "    </tr>\n",
       "  </thead>\n",
       "  <tbody>\n",
       "    <tr>\n",
       "      <th>0</th>\n",
       "      <td>Corey</td>\n",
       "      <td>Schafer</td>\n",
       "      <td>CoreyMSchafer@gmail.com</td>\n",
       "      <td>33</td>\n",
       "    </tr>\n",
       "    <tr>\n",
       "      <th>1</th>\n",
       "      <td>Jane</td>\n",
       "      <td>Doe</td>\n",
       "      <td>JaneDoe@email.com</td>\n",
       "      <td>55</td>\n",
       "    </tr>\n",
       "    <tr>\n",
       "      <th>2</th>\n",
       "      <td>John</td>\n",
       "      <td>Doe</td>\n",
       "      <td>JohnDoe@email.com</td>\n",
       "      <td>63</td>\n",
       "    </tr>\n",
       "    <tr>\n",
       "      <th>3</th>\n",
       "      <td>Chris</td>\n",
       "      <td>Schafer</td>\n",
       "      <td>None</td>\n",
       "      <td>36</td>\n",
       "    </tr>\n",
       "    <tr>\n",
       "      <th>6</th>\n",
       "      <td>NA</td>\n",
       "      <td>Missing</td>\n",
       "      <td>NA</td>\n",
       "      <td>Missing</td>\n",
       "    </tr>\n",
       "  </tbody>\n",
       "</table>\n",
       "</div>"
      ],
      "text/plain": [
       "   first     last                    email      age\n",
       "0  Corey  Schafer  CoreyMSchafer@gmail.com       33\n",
       "1   Jane      Doe        JaneDoe@email.com       55\n",
       "2   John      Doe        JohnDoe@email.com       63\n",
       "3  Chris  Schafer                     None       36\n",
       "6     NA  Missing                       NA  Missing"
      ]
     },
     "execution_count": 165,
     "metadata": {},
     "output_type": "execute_result"
    }
   ],
   "source": [
    "# keep rows with atleast threshold=n non-NaN values\n",
    "df1.dropna(thresh=2)"
   ]
  },
  {
   "cell_type": "code",
   "execution_count": 166,
   "metadata": {},
   "outputs": [
    {
     "data": {
      "text/html": [
       "<div>\n",
       "<style scoped>\n",
       "    .dataframe tbody tr th:only-of-type {\n",
       "        vertical-align: middle;\n",
       "    }\n",
       "\n",
       "    .dataframe tbody tr th {\n",
       "        vertical-align: top;\n",
       "    }\n",
       "\n",
       "    .dataframe thead th {\n",
       "        text-align: right;\n",
       "    }\n",
       "</style>\n",
       "<table border=\"1\" class=\"dataframe\">\n",
       "  <thead>\n",
       "    <tr style=\"text-align: right;\">\n",
       "      <th></th>\n",
       "      <th>first</th>\n",
       "      <th>last</th>\n",
       "      <th>email</th>\n",
       "      <th>age</th>\n",
       "    </tr>\n",
       "  </thead>\n",
       "  <tbody>\n",
       "    <tr>\n",
       "      <th>0</th>\n",
       "      <td>Corey</td>\n",
       "      <td>Schafer</td>\n",
       "      <td>CoreyMSchafer@gmail.com</td>\n",
       "      <td>33</td>\n",
       "    </tr>\n",
       "    <tr>\n",
       "      <th>1</th>\n",
       "      <td>Jane</td>\n",
       "      <td>Doe</td>\n",
       "      <td>JaneDoe@email.com</td>\n",
       "      <td>55</td>\n",
       "    </tr>\n",
       "    <tr>\n",
       "      <th>2</th>\n",
       "      <td>John</td>\n",
       "      <td>Doe</td>\n",
       "      <td>JohnDoe@email.com</td>\n",
       "      <td>63</td>\n",
       "    </tr>\n",
       "    <tr>\n",
       "      <th>5</th>\n",
       "      <td>None</td>\n",
       "      <td>NaN</td>\n",
       "      <td>Anonymous@email.com</td>\n",
       "      <td>None</td>\n",
       "    </tr>\n",
       "    <tr>\n",
       "      <th>6</th>\n",
       "      <td>NA</td>\n",
       "      <td>Missing</td>\n",
       "      <td>NA</td>\n",
       "      <td>Missing</td>\n",
       "    </tr>\n",
       "  </tbody>\n",
       "</table>\n",
       "</div>"
      ],
      "text/plain": [
       "   first     last                    email      age\n",
       "0  Corey  Schafer  CoreyMSchafer@gmail.com       33\n",
       "1   Jane      Doe        JaneDoe@email.com       55\n",
       "2   John      Doe        JohnDoe@email.com       63\n",
       "5   None      NaN      Anonymous@email.com     None\n",
       "6     NA  Missing                       NA  Missing"
      ]
     },
     "execution_count": 166,
     "metadata": {},
     "output_type": "execute_result"
    }
   ],
   "source": [
    "# Define in which columns to look for missing values. See last 'NA' is not dropped as NA is not 'NaN'\n",
    "df1.dropna(subset=['email'])  # so we want to drop the rowa which does not have valid email"
   ]
  },
  {
   "cell_type": "code",
   "execution_count": 167,
   "metadata": {},
   "outputs": [
    {
     "data": {
      "text/html": [
       "<div>\n",
       "<style scoped>\n",
       "    .dataframe tbody tr th:only-of-type {\n",
       "        vertical-align: middle;\n",
       "    }\n",
       "\n",
       "    .dataframe tbody tr th {\n",
       "        vertical-align: top;\n",
       "    }\n",
       "\n",
       "    .dataframe thead th {\n",
       "        text-align: right;\n",
       "    }\n",
       "</style>\n",
       "<table border=\"1\" class=\"dataframe\">\n",
       "  <thead>\n",
       "    <tr style=\"text-align: right;\">\n",
       "      <th></th>\n",
       "      <th>first</th>\n",
       "      <th>last</th>\n",
       "      <th>email</th>\n",
       "      <th>age</th>\n",
       "    </tr>\n",
       "  </thead>\n",
       "  <tbody>\n",
       "    <tr>\n",
       "      <th>0</th>\n",
       "      <td>False</td>\n",
       "      <td>False</td>\n",
       "      <td>False</td>\n",
       "      <td>False</td>\n",
       "    </tr>\n",
       "    <tr>\n",
       "      <th>1</th>\n",
       "      <td>False</td>\n",
       "      <td>False</td>\n",
       "      <td>False</td>\n",
       "      <td>False</td>\n",
       "    </tr>\n",
       "    <tr>\n",
       "      <th>2</th>\n",
       "      <td>False</td>\n",
       "      <td>False</td>\n",
       "      <td>False</td>\n",
       "      <td>False</td>\n",
       "    </tr>\n",
       "    <tr>\n",
       "      <th>3</th>\n",
       "      <td>False</td>\n",
       "      <td>False</td>\n",
       "      <td>True</td>\n",
       "      <td>False</td>\n",
       "    </tr>\n",
       "    <tr>\n",
       "      <th>4</th>\n",
       "      <td>True</td>\n",
       "      <td>True</td>\n",
       "      <td>True</td>\n",
       "      <td>True</td>\n",
       "    </tr>\n",
       "    <tr>\n",
       "      <th>5</th>\n",
       "      <td>True</td>\n",
       "      <td>True</td>\n",
       "      <td>False</td>\n",
       "      <td>True</td>\n",
       "    </tr>\n",
       "    <tr>\n",
       "      <th>6</th>\n",
       "      <td>False</td>\n",
       "      <td>False</td>\n",
       "      <td>False</td>\n",
       "      <td>False</td>\n",
       "    </tr>\n",
       "  </tbody>\n",
       "</table>\n",
       "</div>"
      ],
      "text/plain": [
       "   first   last  email    age\n",
       "0  False  False  False  False\n",
       "1  False  False  False  False\n",
       "2  False  False  False  False\n",
       "3  False  False   True  False\n",
       "4   True   True   True   True\n",
       "5   True   True  False   True\n",
       "6  False  False  False  False"
      ]
     },
     "execution_count": 167,
     "metadata": {},
     "output_type": "execute_result"
    }
   ],
   "source": [
    "df1.isna() # so this function tells you which values will be treated as NaN's."
   ]
  },
  {
   "cell_type": "code",
   "execution_count": 168,
   "metadata": {},
   "outputs": [
    {
     "data": {
      "text/plain": [
       "0    False\n",
       "1    False\n",
       "2    False\n",
       "3    False\n",
       "4    False\n",
       "5    False\n",
       "6    False\n",
       "Name: age, dtype: bool"
      ]
     },
     "execution_count": 168,
     "metadata": {},
     "output_type": "execute_result"
    }
   ],
   "source": [
    "# to get some bad data from df's, say find out if any value is a non-interger or non-float age\n",
    "# this may not work now as age column i of type string now\n",
    "df1['age'].apply(lambda x: isinstance(x, (int, float)))"
   ]
  },
  {
   "cell_type": "code",
   "execution_count": 169,
   "metadata": {},
   "outputs": [
    {
     "data": {
      "text/plain": [
       "36         1\n",
       "33         1\n",
       "63         1\n",
       "55         1\n",
       "Missing    1\n",
       "Name: age, dtype: int64"
      ]
     },
     "execution_count": 169,
     "metadata": {},
     "output_type": "execute_result"
    }
   ],
   "source": [
    "# to quickly see if a column has some bad data we can use this\n",
    "df1['age'].unique # or\n",
    "df1['age'].value_counts() # so missing is bad data"
   ]
  },
  {
   "cell_type": "code",
   "execution_count": 170,
   "metadata": {},
   "outputs": [
    {
     "data": {
      "text/html": [
       "<div>\n",
       "<style scoped>\n",
       "    .dataframe tbody tr th:only-of-type {\n",
       "        vertical-align: middle;\n",
       "    }\n",
       "\n",
       "    .dataframe tbody tr th {\n",
       "        vertical-align: top;\n",
       "    }\n",
       "\n",
       "    .dataframe thead th {\n",
       "        text-align: right;\n",
       "    }\n",
       "</style>\n",
       "<table border=\"1\" class=\"dataframe\">\n",
       "  <thead>\n",
       "    <tr style=\"text-align: right;\">\n",
       "      <th></th>\n",
       "      <th>first</th>\n",
       "      <th>last</th>\n",
       "      <th>email</th>\n",
       "      <th>age</th>\n",
       "    </tr>\n",
       "  </thead>\n",
       "  <tbody>\n",
       "    <tr>\n",
       "      <th>0</th>\n",
       "      <td>Corey</td>\n",
       "      <td>Schafer</td>\n",
       "      <td>CoreyMSchafer@gmail.com</td>\n",
       "      <td>33</td>\n",
       "    </tr>\n",
       "    <tr>\n",
       "      <th>1</th>\n",
       "      <td>Jane</td>\n",
       "      <td>Doe</td>\n",
       "      <td>JaneDoe@email.com</td>\n",
       "      <td>55</td>\n",
       "    </tr>\n",
       "    <tr>\n",
       "      <th>2</th>\n",
       "      <td>John</td>\n",
       "      <td>Doe</td>\n",
       "      <td>JohnDoe@email.com</td>\n",
       "      <td>63</td>\n",
       "    </tr>\n",
       "    <tr>\n",
       "      <th>3</th>\n",
       "      <td>Chris</td>\n",
       "      <td>Schafer</td>\n",
       "      <td>None</td>\n",
       "      <td>36</td>\n",
       "    </tr>\n",
       "    <tr>\n",
       "      <th>4</th>\n",
       "      <td>NaN</td>\n",
       "      <td>NaN</td>\n",
       "      <td>NaN</td>\n",
       "      <td>None</td>\n",
       "    </tr>\n",
       "    <tr>\n",
       "      <th>5</th>\n",
       "      <td>None</td>\n",
       "      <td>NaN</td>\n",
       "      <td>Anonymous@email.com</td>\n",
       "      <td>None</td>\n",
       "    </tr>\n",
       "    <tr>\n",
       "      <th>6</th>\n",
       "      <td>NaN</td>\n",
       "      <td>NaN</td>\n",
       "      <td>NaN</td>\n",
       "      <td>NaN</td>\n",
       "    </tr>\n",
       "  </tbody>\n",
       "</table>\n",
       "</div>"
      ],
      "text/plain": [
       "   first     last                    email   age\n",
       "0  Corey  Schafer  CoreyMSchafer@gmail.com    33\n",
       "1   Jane      Doe        JaneDoe@email.com    55\n",
       "2   John      Doe        JohnDoe@email.com    63\n",
       "3  Chris  Schafer                     None    36\n",
       "4    NaN      NaN                      NaN  None\n",
       "5   None      NaN      Anonymous@email.com  None\n",
       "6    NaN      NaN                      NaN   NaN"
      ]
     },
     "execution_count": 170,
     "metadata": {},
     "output_type": "execute_result"
    }
   ],
   "source": [
    "# to handle custome missing values replace them\n",
    "df1.replace('NA', np.nan, inplace=True)\n",
    "df1.replace('Missing', np.nan, inplace=True)\n",
    "df1"
   ]
  },
  {
   "cell_type": "code",
   "execution_count": 171,
   "metadata": {},
   "outputs": [
    {
     "data": {
      "text/html": [
       "<div>\n",
       "<style scoped>\n",
       "    .dataframe tbody tr th:only-of-type {\n",
       "        vertical-align: middle;\n",
       "    }\n",
       "\n",
       "    .dataframe tbody tr th {\n",
       "        vertical-align: top;\n",
       "    }\n",
       "\n",
       "    .dataframe thead th {\n",
       "        text-align: right;\n",
       "    }\n",
       "</style>\n",
       "<table border=\"1\" class=\"dataframe\">\n",
       "  <thead>\n",
       "    <tr style=\"text-align: right;\">\n",
       "      <th></th>\n",
       "      <th>first</th>\n",
       "      <th>last</th>\n",
       "      <th>email</th>\n",
       "      <th>age</th>\n",
       "    </tr>\n",
       "  </thead>\n",
       "  <tbody>\n",
       "    <tr>\n",
       "      <th>0</th>\n",
       "      <td>Corey</td>\n",
       "      <td>Schafer</td>\n",
       "      <td>CoreyMSchafer@gmail.com</td>\n",
       "      <td>33</td>\n",
       "    </tr>\n",
       "    <tr>\n",
       "      <th>1</th>\n",
       "      <td>Jane</td>\n",
       "      <td>Doe</td>\n",
       "      <td>JaneDoe@email.com</td>\n",
       "      <td>55</td>\n",
       "    </tr>\n",
       "    <tr>\n",
       "      <th>2</th>\n",
       "      <td>John</td>\n",
       "      <td>Doe</td>\n",
       "      <td>JohnDoe@email.com</td>\n",
       "      <td>63</td>\n",
       "    </tr>\n",
       "    <tr>\n",
       "      <th>3</th>\n",
       "      <td>Chris</td>\n",
       "      <td>Schafer</td>\n",
       "      <td>MISSING</td>\n",
       "      <td>36</td>\n",
       "    </tr>\n",
       "    <tr>\n",
       "      <th>4</th>\n",
       "      <td>MISSING</td>\n",
       "      <td>MISSING</td>\n",
       "      <td>MISSING</td>\n",
       "      <td>MISSING</td>\n",
       "    </tr>\n",
       "    <tr>\n",
       "      <th>5</th>\n",
       "      <td>MISSING</td>\n",
       "      <td>MISSING</td>\n",
       "      <td>Anonymous@email.com</td>\n",
       "      <td>MISSING</td>\n",
       "    </tr>\n",
       "    <tr>\n",
       "      <th>6</th>\n",
       "      <td>MISSING</td>\n",
       "      <td>MISSING</td>\n",
       "      <td>MISSING</td>\n",
       "      <td>MISSING</td>\n",
       "    </tr>\n",
       "  </tbody>\n",
       "</table>\n",
       "</div>"
      ],
      "text/plain": [
       "     first     last                    email      age\n",
       "0    Corey  Schafer  CoreyMSchafer@gmail.com       33\n",
       "1     Jane      Doe        JaneDoe@email.com       55\n",
       "2     John      Doe        JohnDoe@email.com       63\n",
       "3    Chris  Schafer                  MISSING       36\n",
       "4  MISSING  MISSING                  MISSING  MISSING\n",
       "5  MISSING  MISSING      Anonymous@email.com  MISSING\n",
       "6  MISSING  MISSING                  MISSING  MISSING"
      ]
     },
     "execution_count": 171,
     "metadata": {},
     "output_type": "execute_result"
    }
   ],
   "source": [
    "# https://pandas.pydata.org/pandas-docs/stable/reference/api/pandas.DataFrame.fillna.html#pandas.DataFrame.fillna\n",
    "# Uncomment one at a time to see the effect\n",
    "df1.fillna('MISSING') # This will fill all NaN's with 'MISSING'\n",
    "# df1.fillna(0) #This will fill all NaN's with 0\n",
    "# df1.fillna(value = {'first':'FIRST', 'last':'LAST', 'email':'MissingEmail', 'age':0}) # per column custom values\n",
    "# df1.fillna(method='bfill') # fill with last valid observation - forward fill\n",
    "# df1.fillna(method='ffill') # fill with last valid observation from top-down - backward fill\n",
    "# df1['age'].fillna(method='ffill') # for series or single row."
   ]
  },
  {
   "cell_type": "code",
   "execution_count": 172,
   "metadata": {},
   "outputs": [
    {
     "data": {
      "text/plain": [
       "first    object\n",
       "last     object\n",
       "email    object\n",
       "age      object\n",
       "dtype: object"
      ]
     },
     "execution_count": 172,
     "metadata": {},
     "output_type": "execute_result"
    }
   ],
   "source": [
    "df1.dtypes # see all columns are objects, also see that age is object(string) here"
   ]
  },
  {
   "cell_type": "code",
   "execution_count": 173,
   "metadata": {},
   "outputs": [
    {
     "data": {
      "text/html": [
       "<div>\n",
       "<style scoped>\n",
       "    .dataframe tbody tr th:only-of-type {\n",
       "        vertical-align: middle;\n",
       "    }\n",
       "\n",
       "    .dataframe tbody tr th {\n",
       "        vertical-align: top;\n",
       "    }\n",
       "\n",
       "    .dataframe thead th {\n",
       "        text-align: right;\n",
       "    }\n",
       "</style>\n",
       "<table border=\"1\" class=\"dataframe\">\n",
       "  <thead>\n",
       "    <tr style=\"text-align: right;\">\n",
       "      <th></th>\n",
       "      <th>first</th>\n",
       "      <th>last</th>\n",
       "      <th>email</th>\n",
       "      <th>age</th>\n",
       "    </tr>\n",
       "  </thead>\n",
       "  <tbody>\n",
       "    <tr>\n",
       "      <th>0</th>\n",
       "      <td>Corey</td>\n",
       "      <td>Schafer</td>\n",
       "      <td>CoreyMSchafer@gmail.com</td>\n",
       "      <td>33.0</td>\n",
       "    </tr>\n",
       "    <tr>\n",
       "      <th>1</th>\n",
       "      <td>Jane</td>\n",
       "      <td>Doe</td>\n",
       "      <td>JaneDoe@email.com</td>\n",
       "      <td>55.0</td>\n",
       "    </tr>\n",
       "    <tr>\n",
       "      <th>2</th>\n",
       "      <td>John</td>\n",
       "      <td>Doe</td>\n",
       "      <td>JohnDoe@email.com</td>\n",
       "      <td>63.0</td>\n",
       "    </tr>\n",
       "    <tr>\n",
       "      <th>3</th>\n",
       "      <td>Chris</td>\n",
       "      <td>Schafer</td>\n",
       "      <td>None</td>\n",
       "      <td>36.0</td>\n",
       "    </tr>\n",
       "    <tr>\n",
       "      <th>4</th>\n",
       "      <td>NaN</td>\n",
       "      <td>NaN</td>\n",
       "      <td>NaN</td>\n",
       "      <td>NaN</td>\n",
       "    </tr>\n",
       "    <tr>\n",
       "      <th>5</th>\n",
       "      <td>None</td>\n",
       "      <td>NaN</td>\n",
       "      <td>Anonymous@email.com</td>\n",
       "      <td>NaN</td>\n",
       "    </tr>\n",
       "    <tr>\n",
       "      <th>6</th>\n",
       "      <td>NaN</td>\n",
       "      <td>NaN</td>\n",
       "      <td>NaN</td>\n",
       "      <td>NaN</td>\n",
       "    </tr>\n",
       "  </tbody>\n",
       "</table>\n",
       "</div>"
      ],
      "text/plain": [
       "   first     last                    email   age\n",
       "0  Corey  Schafer  CoreyMSchafer@gmail.com  33.0\n",
       "1   Jane      Doe        JaneDoe@email.com  55.0\n",
       "2   John      Doe        JohnDoe@email.com  63.0\n",
       "3  Chris  Schafer                     None  36.0\n",
       "4    NaN      NaN                      NaN   NaN\n",
       "5   None      NaN      Anonymous@email.com   NaN\n",
       "6    NaN      NaN                      NaN   NaN"
      ]
     },
     "execution_count": 173,
     "metadata": {},
     "output_type": "execute_result"
    }
   ],
   "source": [
    "# converting to astype(int) is going to give us some error as we have some NaN's in the column and NaN's are of type 'float'\n",
    "# this would just work fine if column had non NaN's\n",
    "# df1['age'] = df1['age'].astype(int) \n",
    "df1['age'] = df1['age'].astype(float)\n",
    "df1.dtypes\n",
    "df1"
   ]
  },
  {
   "cell_type": "code",
   "execution_count": 174,
   "metadata": {},
   "outputs": [
    {
     "data": {
      "text/plain": [
       "array(['Less than 1 year', '7', '2', '6', '3', '4', '10', '36', '1', nan,\n",
       "       'More than 50 years', '20', '9', '5', '8', '31', '28', '15', '13',\n",
       "       '12', '17', '18', '21', '35', '14', '25', '11', '19', '22', '23',\n",
       "       '40', '39', '30', '43', '27', '33', '29', '24', '34', '16', '32',\n",
       "       '26', '38', '44', '41', '45', '37', '47', '42', '46', '48', '50',\n",
       "       '49'], dtype=object)"
      ]
     },
     "execution_count": 174,
     "metadata": {},
     "output_type": "execute_result"
    }
   ],
   "source": [
    "# to calculate the average years of coding experience of the respondents\n",
    "# df['YearsCode'].astype(float) # this still gives a error because this column has some strings\n",
    "df['YearsCode'].unique() # gives all teh unique values"
   ]
  },
  {
   "cell_type": "code",
   "execution_count": 175,
   "metadata": {},
   "outputs": [],
   "source": [
    "df['YearsCode'].replace('Less than 1 year', 0, inplace=True)\n",
    "df['YearsCode'].replace('More than 50 years', 51, inplace=True)"
   ]
  },
  {
   "cell_type": "code",
   "execution_count": 176,
   "metadata": {},
   "outputs": [
    {
     "data": {
      "text/plain": [
       "11.662114216834588"
      ]
     },
     "execution_count": 176,
     "metadata": {},
     "output_type": "execute_result"
    }
   ],
   "source": [
    "df['YearsCode'] = df['YearsCode'].astype(float)\n",
    "df['YearsCode'].mean()"
   ]
  },
  {
   "cell_type": "markdown",
   "metadata": {},
   "source": [
    "### Dates and TimeSeries \n",
    "1. https://www.youtube.com/watch?v=eirjjyP2qcQ - For basic of datetime\n",
    "1. https://docs.python.org/3/library/datetime.html#strftime-and-strptime-behavior\n",
    "2. https://pandas.pydata.org/pandas-docs/stable/user_guide/timeseries.html#dateoffset-objects"
   ]
  },
  {
   "cell_type": "markdown",
   "metadata": {},
   "source": [
    "### TimeZone\n",
    "1. https://en.wikipedia.org/wiki/Time_zone \n",
    "2. To standardise the Time between different location on earth, we have choosen UTC(Coordinated Universal Time) which is nothing but the Greenwhich Mean Time(GMT). And we refer to any time in any location(country) as +/- of this UTC time.\n",
    "3. According to 'https://docs.python.org/3/library/datetime.html' Date and time objects may be categorized as “aware” or “naive.” \"aware\" time object considers all the time adjustments and time zone related info and hence is useful if you are working with time sensitive data with more than two timezone. Whereas a \"naive\" object does not contain enough information to unambiguously locate itself relative to other date/time objects. Whether a naive object represents Coordinated Universal Time (UTC), local time, or time in some other timezone is purely up to the program,"
   ]
  },
  {
   "cell_type": "code",
   "execution_count": 177,
   "metadata": {},
   "outputs": [
    {
     "name": "stdout",
     "output_type": "stream",
     "text": [
      "               Date  Symbol    Open    High     Low   Close      Volume\n",
      "0  2020-03-13 08-PM  ETHUSD  129.94  131.82  126.87  128.71  1940673.93\n",
      "1  2020-03-13 07-PM  ETHUSD  119.51  132.02  117.10  129.94  7579741.09\n",
      "<class 'pandas.core.frame.DataFrame'>\n",
      "RangeIndex: 23674 entries, 0 to 23673\n",
      "Data columns (total 7 columns):\n",
      " #   Column  Non-Null Count  Dtype  \n",
      "---  ------  --------------  -----  \n",
      " 0   Date    23674 non-null  object \n",
      " 1   Symbol  23674 non-null  object \n",
      " 2   Open    23674 non-null  float64\n",
      " 3   High    23674 non-null  float64\n",
      " 4   Low     23674 non-null  float64\n",
      " 5   Close   23674 non-null  float64\n",
      " 6   Volume  23674 non-null  float64\n",
      "dtypes: float64(5), object(2)\n",
      "memory usage: 1.1+ MB\n",
      "None\n",
      "-------------------------\n"
     ]
    },
    {
     "data": {
      "text/html": [
       "<div>\n",
       "<style scoped>\n",
       "    .dataframe tbody tr th:only-of-type {\n",
       "        vertical-align: middle;\n",
       "    }\n",
       "\n",
       "    .dataframe tbody tr th {\n",
       "        vertical-align: top;\n",
       "    }\n",
       "\n",
       "    .dataframe thead th {\n",
       "        text-align: right;\n",
       "    }\n",
       "</style>\n",
       "<table border=\"1\" class=\"dataframe\">\n",
       "  <thead>\n",
       "    <tr style=\"text-align: right;\">\n",
       "      <th></th>\n",
       "      <th>Date</th>\n",
       "      <th>Symbol</th>\n",
       "      <th>Open</th>\n",
       "      <th>High</th>\n",
       "      <th>Low</th>\n",
       "      <th>Close</th>\n",
       "      <th>Volume</th>\n",
       "    </tr>\n",
       "  </thead>\n",
       "  <tbody>\n",
       "    <tr>\n",
       "      <th>0</th>\n",
       "      <td>2020-03-13 08-PM</td>\n",
       "      <td>ETHUSD</td>\n",
       "      <td>129.94</td>\n",
       "      <td>131.82</td>\n",
       "      <td>126.87</td>\n",
       "      <td>128.71</td>\n",
       "      <td>1940673.93</td>\n",
       "    </tr>\n",
       "    <tr>\n",
       "      <th>1</th>\n",
       "      <td>2020-03-13 07-PM</td>\n",
       "      <td>ETHUSD</td>\n",
       "      <td>119.51</td>\n",
       "      <td>132.02</td>\n",
       "      <td>117.10</td>\n",
       "      <td>129.94</td>\n",
       "      <td>7579741.09</td>\n",
       "    </tr>\n",
       "  </tbody>\n",
       "</table>\n",
       "</div>"
      ],
      "text/plain": [
       "               Date  Symbol    Open    High     Low   Close      Volume\n",
       "0  2020-03-13 08-PM  ETHUSD  129.94  131.82  126.87  128.71  1940673.93\n",
       "1  2020-03-13 07-PM  ETHUSD  119.51  132.02  117.10  129.94  7579741.09"
      ]
     },
     "execution_count": 177,
     "metadata": {},
     "output_type": "execute_result"
    }
   ],
   "source": [
    "# this is a Ethereum based cryptocurrency data broken down into 1Hr\n",
    "df_Eth = pd.read_csv('data/date_timeseries.csv')\n",
    "print(df_Eth.head(2))\n",
    "print(df_Eth.info())\n",
    "print('-'*25)\n",
    "# read and format the dates from str to datetime as you read the csv file\n",
    "# and to this read_csv we cannot just pass a datetime format string, we will have to pass a function\n",
    "# d_parser = lambda x: pd.datetime.strptime(x, '%Y-%m-%d %I-%p')# here we are passing individual time str to lambda 'x'\n",
    "# df_Eth = pd.read_csv('data/date_timeseries.csv', parse_dates=['Date'], date_parser=d_parser)\n",
    "# we will show how to do it seperateely this conversion in below lines of code\n",
    "df_Eth.head(2)"
   ]
  },
  {
   "cell_type": "code",
   "execution_count": 178,
   "metadata": {},
   "outputs": [
    {
     "name": "stdout",
     "output_type": "stream",
     "text": [
      "<class 'pandas.core.frame.DataFrame'>\n",
      "RangeIndex: 23674 entries, 0 to 23673\n",
      "Data columns (total 7 columns):\n",
      " #   Column  Non-Null Count  Dtype  \n",
      "---  ------  --------------  -----  \n",
      " 0   Date    23674 non-null  object \n",
      " 1   Symbol  23674 non-null  object \n",
      " 2   Open    23674 non-null  float64\n",
      " 3   High    23674 non-null  float64\n",
      " 4   Low     23674 non-null  float64\n",
      " 5   Close   23674 non-null  float64\n",
      " 6   Volume  23674 non-null  float64\n",
      "dtypes: float64(5), object(2)\n",
      "memory usage: 1.1+ MB\n"
     ]
    }
   ],
   "source": [
    "# see that the date column in in str format and not in a Datetime format\n",
    "df_Eth.info()"
   ]
  },
  {
   "cell_type": "code",
   "execution_count": 179,
   "metadata": {},
   "outputs": [],
   "source": [
    "# df_Eth['Date'] = pd.to_datetime(df_Eth['Date']) # this will not work in this case as datetime is not able to understand the format\n",
    "# https://docs.python.org/3/library/datetime.html#strftime-and-strptime-format-codes\n",
    "# find the format code in the link"
   ]
  },
  {
   "cell_type": "code",
   "execution_count": 180,
   "metadata": {},
   "outputs": [
    {
     "name": "stdout",
     "output_type": "stream",
     "text": [
      "<class 'pandas.core.frame.DataFrame'>\n",
      "RangeIndex: 23674 entries, 0 to 23673\n",
      "Data columns (total 7 columns):\n",
      " #   Column  Non-Null Count  Dtype         \n",
      "---  ------  --------------  -----         \n",
      " 0   Date    23674 non-null  datetime64[ns]\n",
      " 1   Symbol  23674 non-null  object        \n",
      " 2   Open    23674 non-null  float64       \n",
      " 3   High    23674 non-null  float64       \n",
      " 4   Low     23674 non-null  float64       \n",
      " 5   Close   23674 non-null  float64       \n",
      " 6   Volume  23674 non-null  float64       \n",
      "dtypes: datetime64[ns](1), float64(5), object(1)\n",
      "memory usage: 1.2+ MB\n",
      "None\n"
     ]
    },
    {
     "data": {
      "text/html": [
       "<div>\n",
       "<style scoped>\n",
       "    .dataframe tbody tr th:only-of-type {\n",
       "        vertical-align: middle;\n",
       "    }\n",
       "\n",
       "    .dataframe tbody tr th {\n",
       "        vertical-align: top;\n",
       "    }\n",
       "\n",
       "    .dataframe thead th {\n",
       "        text-align: right;\n",
       "    }\n",
       "</style>\n",
       "<table border=\"1\" class=\"dataframe\">\n",
       "  <thead>\n",
       "    <tr style=\"text-align: right;\">\n",
       "      <th></th>\n",
       "      <th>Date</th>\n",
       "      <th>Symbol</th>\n",
       "      <th>Open</th>\n",
       "      <th>High</th>\n",
       "      <th>Low</th>\n",
       "      <th>Close</th>\n",
       "      <th>Volume</th>\n",
       "    </tr>\n",
       "  </thead>\n",
       "  <tbody>\n",
       "    <tr>\n",
       "      <th>0</th>\n",
       "      <td>2020-03-13 20:00:00</td>\n",
       "      <td>ETHUSD</td>\n",
       "      <td>129.94</td>\n",
       "      <td>131.82</td>\n",
       "      <td>126.87</td>\n",
       "      <td>128.71</td>\n",
       "      <td>1940673.93</td>\n",
       "    </tr>\n",
       "    <tr>\n",
       "      <th>1</th>\n",
       "      <td>2020-03-13 19:00:00</td>\n",
       "      <td>ETHUSD</td>\n",
       "      <td>119.51</td>\n",
       "      <td>132.02</td>\n",
       "      <td>117.10</td>\n",
       "      <td>129.94</td>\n",
       "      <td>7579741.09</td>\n",
       "    </tr>\n",
       "  </tbody>\n",
       "</table>\n",
       "</div>"
      ],
      "text/plain": [
       "                 Date  Symbol    Open    High     Low   Close      Volume\n",
       "0 2020-03-13 20:00:00  ETHUSD  129.94  131.82  126.87  128.71  1940673.93\n",
       "1 2020-03-13 19:00:00  ETHUSD  119.51  132.02  117.10  129.94  7579741.09"
      ]
     },
     "execution_count": 180,
     "metadata": {},
     "output_type": "execute_result"
    }
   ],
   "source": [
    "df_Eth['Date'] = pd.to_datetime(df_Eth['Date'], format='%Y-%m-%d %I-%p') \n",
    "print(df_Eth.info()) # see the change in Date object.\n",
    "df_Eth.head(2)"
   ]
  },
  {
   "cell_type": "code",
   "execution_count": 181,
   "metadata": {},
   "outputs": [
    {
     "data": {
      "text/plain": [
       "'Friday'"
      ]
     },
     "execution_count": 181,
     "metadata": {},
     "output_type": "execute_result"
    }
   ],
   "source": [
    "df_Eth.loc[0, 'Date'].day_name() # since now its a datetime object lets use a method on it."
   ]
  },
  {
   "cell_type": "code",
   "execution_count": 182,
   "metadata": {},
   "outputs": [
    {
     "data": {
      "text/plain": [
       "0    Friday\n",
       "1    Friday\n",
       "2    Friday\n",
       "3    Friday\n",
       "4    Friday\n",
       "Name: Date, dtype: object"
      ]
     },
     "execution_count": 182,
     "metadata": {},
     "output_type": "execute_result"
    }
   ],
   "source": [
    "# now if you want to use the method on the entire series use dt.\n",
    "# so 'dt' is a class which can apply datetime methods on a entire series.\n",
    "df_Eth['Date'].dt.day_name().head(5)"
   ]
  },
  {
   "cell_type": "code",
   "execution_count": 183,
   "metadata": {},
   "outputs": [
    {
     "name": "stdout",
     "output_type": "stream",
     "text": [
      "2017-07-01 11:00:00\n",
      "2020-03-13 20:00:00\n"
     ]
    },
    {
     "data": {
      "text/plain": [
       "Timedelta('986 days 09:00:00')"
      ]
     },
     "execution_count": 183,
     "metadata": {},
     "output_type": "execute_result"
    }
   ],
   "source": [
    "print(df_Eth['Date'].min())\n",
    "print(df_Eth['Date'].max())\n",
    "df_Eth['Date'].max() - df_Eth['Date'].min()"
   ]
  },
  {
   "cell_type": "code",
   "execution_count": 184,
   "metadata": {},
   "outputs": [
    {
     "data": {
      "text/html": [
       "<div>\n",
       "<style scoped>\n",
       "    .dataframe tbody tr th:only-of-type {\n",
       "        vertical-align: middle;\n",
       "    }\n",
       "\n",
       "    .dataframe tbody tr th {\n",
       "        vertical-align: top;\n",
       "    }\n",
       "\n",
       "    .dataframe thead th {\n",
       "        text-align: right;\n",
       "    }\n",
       "</style>\n",
       "<table border=\"1\" class=\"dataframe\">\n",
       "  <thead>\n",
       "    <tr style=\"text-align: right;\">\n",
       "      <th></th>\n",
       "      <th>Date</th>\n",
       "      <th>Symbol</th>\n",
       "      <th>Open</th>\n",
       "      <th>High</th>\n",
       "      <th>Low</th>\n",
       "      <th>Close</th>\n",
       "      <th>Volume</th>\n",
       "    </tr>\n",
       "  </thead>\n",
       "  <tbody>\n",
       "    <tr>\n",
       "      <th>1749</th>\n",
       "      <td>2019-12-31 23:00:00</td>\n",
       "      <td>ETHUSD</td>\n",
       "      <td>128.33</td>\n",
       "      <td>128.69</td>\n",
       "      <td>128.14</td>\n",
       "      <td>128.54</td>\n",
       "      <td>440678.91</td>\n",
       "    </tr>\n",
       "    <tr>\n",
       "      <th>1750</th>\n",
       "      <td>2019-12-31 22:00:00</td>\n",
       "      <td>ETHUSD</td>\n",
       "      <td>128.38</td>\n",
       "      <td>128.69</td>\n",
       "      <td>127.95</td>\n",
       "      <td>128.33</td>\n",
       "      <td>554646.02</td>\n",
       "    </tr>\n",
       "    <tr>\n",
       "      <th>1751</th>\n",
       "      <td>2019-12-31 21:00:00</td>\n",
       "      <td>ETHUSD</td>\n",
       "      <td>127.86</td>\n",
       "      <td>128.43</td>\n",
       "      <td>127.72</td>\n",
       "      <td>128.38</td>\n",
       "      <td>350155.69</td>\n",
       "    </tr>\n",
       "    <tr>\n",
       "      <th>1752</th>\n",
       "      <td>2019-12-31 20:00:00</td>\n",
       "      <td>ETHUSD</td>\n",
       "      <td>127.84</td>\n",
       "      <td>128.34</td>\n",
       "      <td>127.71</td>\n",
       "      <td>127.86</td>\n",
       "      <td>428183.38</td>\n",
       "    </tr>\n",
       "    <tr>\n",
       "      <th>1753</th>\n",
       "      <td>2019-12-31 19:00:00</td>\n",
       "      <td>ETHUSD</td>\n",
       "      <td>128.69</td>\n",
       "      <td>128.69</td>\n",
       "      <td>127.60</td>\n",
       "      <td>127.84</td>\n",
       "      <td>1169847.84</td>\n",
       "    </tr>\n",
       "    <tr>\n",
       "      <th>...</th>\n",
       "      <td>...</td>\n",
       "      <td>...</td>\n",
       "      <td>...</td>\n",
       "      <td>...</td>\n",
       "      <td>...</td>\n",
       "      <td>...</td>\n",
       "      <td>...</td>\n",
       "    </tr>\n",
       "    <tr>\n",
       "      <th>10504</th>\n",
       "      <td>2019-01-01 04:00:00</td>\n",
       "      <td>ETHUSD</td>\n",
       "      <td>130.75</td>\n",
       "      <td>133.96</td>\n",
       "      <td>130.74</td>\n",
       "      <td>131.96</td>\n",
       "      <td>2791135.37</td>\n",
       "    </tr>\n",
       "    <tr>\n",
       "      <th>10505</th>\n",
       "      <td>2019-01-01 03:00:00</td>\n",
       "      <td>ETHUSD</td>\n",
       "      <td>130.06</td>\n",
       "      <td>130.79</td>\n",
       "      <td>130.06</td>\n",
       "      <td>130.75</td>\n",
       "      <td>503732.63</td>\n",
       "    </tr>\n",
       "    <tr>\n",
       "      <th>10506</th>\n",
       "      <td>2019-01-01 02:00:00</td>\n",
       "      <td>ETHUSD</td>\n",
       "      <td>130.79</td>\n",
       "      <td>130.88</td>\n",
       "      <td>129.55</td>\n",
       "      <td>130.06</td>\n",
       "      <td>838183.43</td>\n",
       "    </tr>\n",
       "    <tr>\n",
       "      <th>10507</th>\n",
       "      <td>2019-01-01 01:00:00</td>\n",
       "      <td>ETHUSD</td>\n",
       "      <td>131.62</td>\n",
       "      <td>131.62</td>\n",
       "      <td>130.77</td>\n",
       "      <td>130.79</td>\n",
       "      <td>434917.99</td>\n",
       "    </tr>\n",
       "    <tr>\n",
       "      <th>10508</th>\n",
       "      <td>2019-01-01 00:00:00</td>\n",
       "      <td>ETHUSD</td>\n",
       "      <td>130.53</td>\n",
       "      <td>131.91</td>\n",
       "      <td>130.48</td>\n",
       "      <td>131.62</td>\n",
       "      <td>1067136.21</td>\n",
       "    </tr>\n",
       "  </tbody>\n",
       "</table>\n",
       "<p>8760 rows × 7 columns</p>\n",
       "</div>"
      ],
      "text/plain": [
       "                     Date  Symbol    Open    High     Low   Close      Volume\n",
       "1749  2019-12-31 23:00:00  ETHUSD  128.33  128.69  128.14  128.54   440678.91\n",
       "1750  2019-12-31 22:00:00  ETHUSD  128.38  128.69  127.95  128.33   554646.02\n",
       "1751  2019-12-31 21:00:00  ETHUSD  127.86  128.43  127.72  128.38   350155.69\n",
       "1752  2019-12-31 20:00:00  ETHUSD  127.84  128.34  127.71  127.86   428183.38\n",
       "1753  2019-12-31 19:00:00  ETHUSD  128.69  128.69  127.60  127.84  1169847.84\n",
       "...                   ...     ...     ...     ...     ...     ...         ...\n",
       "10504 2019-01-01 04:00:00  ETHUSD  130.75  133.96  130.74  131.96  2791135.37\n",
       "10505 2019-01-01 03:00:00  ETHUSD  130.06  130.79  130.06  130.75   503732.63\n",
       "10506 2019-01-01 02:00:00  ETHUSD  130.79  130.88  129.55  130.06   838183.43\n",
       "10507 2019-01-01 01:00:00  ETHUSD  131.62  131.62  130.77  130.79   434917.99\n",
       "10508 2019-01-01 00:00:00  ETHUSD  130.53  131.91  130.48  131.62  1067136.21\n",
       "\n",
       "[8760 rows x 7 columns]"
      ]
     },
     "execution_count": 184,
     "metadata": {},
     "output_type": "execute_result"
    }
   ],
   "source": [
    "# filter some years\n",
    "filt = (df_Eth['Date'] >= pd.to_datetime('2019-01-01')) & (df_Eth['Date'] < pd.to_datetime('2020-01-01'))\n",
    "df_Eth.loc[filt]"
   ]
  },
  {
   "cell_type": "code",
   "execution_count": 185,
   "metadata": {},
   "outputs": [],
   "source": [
    "# if we set our index to Date then it becomes very easy to work with it and also \n",
    "# since each row is identified by a unique date its a perfect candidate for index\n",
    "df_Eth.set_index('Date', inplace=True)\n"
   ]
  },
  {
   "cell_type": "code",
   "execution_count": 186,
   "metadata": {},
   "outputs": [
    {
     "data": {
      "text/plain": [
       "DatetimeIndex(['2020-03-13 20:00:00', '2020-03-13 19:00:00',\n",
       "               '2020-03-13 18:00:00', '2020-03-13 17:00:00',\n",
       "               '2020-03-13 16:00:00', '2020-03-13 15:00:00',\n",
       "               '2020-03-13 14:00:00', '2020-03-13 13:00:00',\n",
       "               '2020-03-13 12:00:00', '2020-03-13 11:00:00',\n",
       "               ...\n",
       "               '2017-07-01 20:00:00', '2017-07-01 19:00:00',\n",
       "               '2017-07-01 18:00:00', '2017-07-01 17:00:00',\n",
       "               '2017-07-01 16:00:00', '2017-07-01 15:00:00',\n",
       "               '2017-07-01 14:00:00', '2017-07-01 13:00:00',\n",
       "               '2017-07-01 12:00:00', '2017-07-01 11:00:00'],\n",
       "              dtype='datetime64[ns]', name='Date', length=23674, freq=None)"
      ]
     },
     "execution_count": 186,
     "metadata": {},
     "output_type": "execute_result"
    }
   ],
   "source": [
    "df_Eth.index"
   ]
  },
  {
   "cell_type": "code",
   "execution_count": 187,
   "metadata": {},
   "outputs": [
    {
     "data": {
      "text/html": [
       "<div>\n",
       "<style scoped>\n",
       "    .dataframe tbody tr th:only-of-type {\n",
       "        vertical-align: middle;\n",
       "    }\n",
       "\n",
       "    .dataframe tbody tr th {\n",
       "        vertical-align: top;\n",
       "    }\n",
       "\n",
       "    .dataframe thead th {\n",
       "        text-align: right;\n",
       "    }\n",
       "</style>\n",
       "<table border=\"1\" class=\"dataframe\">\n",
       "  <thead>\n",
       "    <tr style=\"text-align: right;\">\n",
       "      <th></th>\n",
       "      <th>Symbol</th>\n",
       "      <th>Open</th>\n",
       "      <th>High</th>\n",
       "      <th>Low</th>\n",
       "      <th>Close</th>\n",
       "      <th>Volume</th>\n",
       "    </tr>\n",
       "    <tr>\n",
       "      <th>Date</th>\n",
       "      <th></th>\n",
       "      <th></th>\n",
       "      <th></th>\n",
       "      <th></th>\n",
       "      <th></th>\n",
       "      <th></th>\n",
       "    </tr>\n",
       "  </thead>\n",
       "  <tbody>\n",
       "    <tr>\n",
       "      <th>2019-12-31 23:00:00</th>\n",
       "      <td>ETHUSD</td>\n",
       "      <td>128.33</td>\n",
       "      <td>128.69</td>\n",
       "      <td>128.14</td>\n",
       "      <td>128.54</td>\n",
       "      <td>440678.91</td>\n",
       "    </tr>\n",
       "    <tr>\n",
       "      <th>2019-12-31 22:00:00</th>\n",
       "      <td>ETHUSD</td>\n",
       "      <td>128.38</td>\n",
       "      <td>128.69</td>\n",
       "      <td>127.95</td>\n",
       "      <td>128.33</td>\n",
       "      <td>554646.02</td>\n",
       "    </tr>\n",
       "    <tr>\n",
       "      <th>2019-12-31 21:00:00</th>\n",
       "      <td>ETHUSD</td>\n",
       "      <td>127.86</td>\n",
       "      <td>128.43</td>\n",
       "      <td>127.72</td>\n",
       "      <td>128.38</td>\n",
       "      <td>350155.69</td>\n",
       "    </tr>\n",
       "    <tr>\n",
       "      <th>2019-12-31 20:00:00</th>\n",
       "      <td>ETHUSD</td>\n",
       "      <td>127.84</td>\n",
       "      <td>128.34</td>\n",
       "      <td>127.71</td>\n",
       "      <td>127.86</td>\n",
       "      <td>428183.38</td>\n",
       "    </tr>\n",
       "    <tr>\n",
       "      <th>2019-12-31 19:00:00</th>\n",
       "      <td>ETHUSD</td>\n",
       "      <td>128.69</td>\n",
       "      <td>128.69</td>\n",
       "      <td>127.60</td>\n",
       "      <td>127.84</td>\n",
       "      <td>1169847.84</td>\n",
       "    </tr>\n",
       "    <tr>\n",
       "      <th>...</th>\n",
       "      <td>...</td>\n",
       "      <td>...</td>\n",
       "      <td>...</td>\n",
       "      <td>...</td>\n",
       "      <td>...</td>\n",
       "      <td>...</td>\n",
       "    </tr>\n",
       "    <tr>\n",
       "      <th>2019-01-01 04:00:00</th>\n",
       "      <td>ETHUSD</td>\n",
       "      <td>130.75</td>\n",
       "      <td>133.96</td>\n",
       "      <td>130.74</td>\n",
       "      <td>131.96</td>\n",
       "      <td>2791135.37</td>\n",
       "    </tr>\n",
       "    <tr>\n",
       "      <th>2019-01-01 03:00:00</th>\n",
       "      <td>ETHUSD</td>\n",
       "      <td>130.06</td>\n",
       "      <td>130.79</td>\n",
       "      <td>130.06</td>\n",
       "      <td>130.75</td>\n",
       "      <td>503732.63</td>\n",
       "    </tr>\n",
       "    <tr>\n",
       "      <th>2019-01-01 02:00:00</th>\n",
       "      <td>ETHUSD</td>\n",
       "      <td>130.79</td>\n",
       "      <td>130.88</td>\n",
       "      <td>129.55</td>\n",
       "      <td>130.06</td>\n",
       "      <td>838183.43</td>\n",
       "    </tr>\n",
       "    <tr>\n",
       "      <th>2019-01-01 01:00:00</th>\n",
       "      <td>ETHUSD</td>\n",
       "      <td>131.62</td>\n",
       "      <td>131.62</td>\n",
       "      <td>130.77</td>\n",
       "      <td>130.79</td>\n",
       "      <td>434917.99</td>\n",
       "    </tr>\n",
       "    <tr>\n",
       "      <th>2019-01-01 00:00:00</th>\n",
       "      <td>ETHUSD</td>\n",
       "      <td>130.53</td>\n",
       "      <td>131.91</td>\n",
       "      <td>130.48</td>\n",
       "      <td>131.62</td>\n",
       "      <td>1067136.21</td>\n",
       "    </tr>\n",
       "  </tbody>\n",
       "</table>\n",
       "<p>8760 rows × 6 columns</p>\n",
       "</div>"
      ],
      "text/plain": [
       "                     Symbol    Open    High     Low   Close      Volume\n",
       "Date                                                                   \n",
       "2019-12-31 23:00:00  ETHUSD  128.33  128.69  128.14  128.54   440678.91\n",
       "2019-12-31 22:00:00  ETHUSD  128.38  128.69  127.95  128.33   554646.02\n",
       "2019-12-31 21:00:00  ETHUSD  127.86  128.43  127.72  128.38   350155.69\n",
       "2019-12-31 20:00:00  ETHUSD  127.84  128.34  127.71  127.86   428183.38\n",
       "2019-12-31 19:00:00  ETHUSD  128.69  128.69  127.60  127.84  1169847.84\n",
       "...                     ...     ...     ...     ...     ...         ...\n",
       "2019-01-01 04:00:00  ETHUSD  130.75  133.96  130.74  131.96  2791135.37\n",
       "2019-01-01 03:00:00  ETHUSD  130.06  130.79  130.06  130.75   503732.63\n",
       "2019-01-01 02:00:00  ETHUSD  130.79  130.88  129.55  130.06   838183.43\n",
       "2019-01-01 01:00:00  ETHUSD  131.62  131.62  130.77  130.79   434917.99\n",
       "2019-01-01 00:00:00  ETHUSD  130.53  131.91  130.48  131.62  1067136.21\n",
       "\n",
       "[8760 rows x 6 columns]"
      ]
     },
     "execution_count": 187,
     "metadata": {},
     "output_type": "execute_result"
    }
   ],
   "source": [
    "df_Eth.loc['2019']"
   ]
  },
  {
   "cell_type": "code",
   "execution_count": 188,
   "metadata": {},
   "outputs": [
    {
     "data": {
      "text/plain": [
       "195.1655902777778"
      ]
     },
     "execution_count": 188,
     "metadata": {},
     "output_type": "execute_result"
    }
   ],
   "source": [
    "# also we can use slicing \n",
    "df_Eth.loc['2020-01':'2020-02']['Close'].mean() # just Jan and Feb 2020 data closing mean value"
   ]
  },
  {
   "cell_type": "code",
   "execution_count": 189,
   "metadata": {},
   "outputs": [
    {
     "data": {
      "text/plain": [
       "132.68"
      ]
     },
     "execution_count": 189,
     "metadata": {},
     "output_type": "execute_result"
    }
   ],
   "source": [
    "# the data for 'Close' value is on hourly bases. Whatif you want to see it on a daily basis\n",
    "df_Eth.loc['2020-01-01']['High'].head(24) # highest value of stock each hour for 24 hours\n",
    "df_Eth.loc['2020-01-01']['High'].max()"
   ]
  },
  {
   "cell_type": "code",
   "execution_count": 190,
   "metadata": {},
   "outputs": [
    {
     "name": "stdout",
     "output_type": "stream",
     "text": [
      "DatetimeIndex(['2020-01-01', '2020-01-02', '2020-01-03', '2020-01-04',\n",
      "               '2020-01-05', '2020-01-06', '2020-01-07'],\n",
      "              dtype='datetime64[ns]', freq='D')\n"
     ]
    }
   ],
   "source": [
    "# This date_range function will return a fixed frequency DatetimeIndex.\n",
    "dates = pd.date_range('1/1/2020', periods=7)\n",
    "print(dates)"
   ]
  },
  {
   "cell_type": "code",
   "execution_count": 191,
   "metadata": {},
   "outputs": [
    {
     "data": {
      "text/html": [
       "<div>\n",
       "<style scoped>\n",
       "    .dataframe tbody tr th:only-of-type {\n",
       "        vertical-align: middle;\n",
       "    }\n",
       "\n",
       "    .dataframe tbody tr th {\n",
       "        vertical-align: top;\n",
       "    }\n",
       "\n",
       "    .dataframe thead th {\n",
       "        text-align: right;\n",
       "    }\n",
       "</style>\n",
       "<table border=\"1\" class=\"dataframe\">\n",
       "  <thead>\n",
       "    <tr style=\"text-align: right;\">\n",
       "      <th></th>\n",
       "      <th>Symbol</th>\n",
       "      <th>Open</th>\n",
       "      <th>High</th>\n",
       "      <th>Low</th>\n",
       "      <th>Close</th>\n",
       "      <th>Volume</th>\n",
       "    </tr>\n",
       "    <tr>\n",
       "      <th>Date</th>\n",
       "      <th></th>\n",
       "      <th></th>\n",
       "      <th></th>\n",
       "      <th></th>\n",
       "      <th></th>\n",
       "      <th></th>\n",
       "    </tr>\n",
       "  </thead>\n",
       "  <tbody>\n",
       "    <tr>\n",
       "      <th>2020-03-13 20:00:00</th>\n",
       "      <td>ETHUSD</td>\n",
       "      <td>129.94</td>\n",
       "      <td>131.82</td>\n",
       "      <td>126.87</td>\n",
       "      <td>128.71</td>\n",
       "      <td>1940673.93</td>\n",
       "    </tr>\n",
       "    <tr>\n",
       "      <th>2020-03-13 19:00:00</th>\n",
       "      <td>ETHUSD</td>\n",
       "      <td>119.51</td>\n",
       "      <td>132.02</td>\n",
       "      <td>117.10</td>\n",
       "      <td>129.94</td>\n",
       "      <td>7579741.09</td>\n",
       "    </tr>\n",
       "    <tr>\n",
       "      <th>2020-03-13 18:00:00</th>\n",
       "      <td>ETHUSD</td>\n",
       "      <td>124.47</td>\n",
       "      <td>124.85</td>\n",
       "      <td>115.50</td>\n",
       "      <td>119.51</td>\n",
       "      <td>4898735.81</td>\n",
       "    </tr>\n",
       "  </tbody>\n",
       "</table>\n",
       "</div>"
      ],
      "text/plain": [
       "                     Symbol    Open    High     Low   Close      Volume\n",
       "Date                                                                   \n",
       "2020-03-13 20:00:00  ETHUSD  129.94  131.82  126.87  128.71  1940673.93\n",
       "2020-03-13 19:00:00  ETHUSD  119.51  132.02  117.10  129.94  7579741.09\n",
       "2020-03-13 18:00:00  ETHUSD  124.47  124.85  115.50  119.51  4898735.81"
      ]
     },
     "execution_count": 191,
     "metadata": {},
     "output_type": "execute_result"
    }
   ],
   "source": [
    "df_Eth.head(3)"
   ]
  },
  {
   "cell_type": "markdown",
   "metadata": {},
   "source": [
    "### ReSampling - https://pandas.pydata.org/pandas-docs/stable/user_guide/timeseries.html#resampling\n",
    "1. Pandas has a simple, powerful, and efficient functionality for performing resampling operations during frequency conversion (e.g., converting secondly data into 5-minutely data)"
   ]
  },
  {
   "cell_type": "code",
   "execution_count": 192,
   "metadata": {},
   "outputs": [
    {
     "name": "stdout",
     "output_type": "stream",
     "text": [
      "Date\n",
      "2017-07-01 23:00:00    264.97\n",
      "2017-07-01 22:00:00    264.36\n",
      "2017-07-01 21:00:00    260.56\n",
      "2017-07-01 20:00:00    262.00\n",
      "2017-07-01 19:00:00    260.88\n",
      "2017-07-01 18:00:00    266.73\n",
      "2017-07-01 17:00:00    268.44\n",
      "2017-07-01 16:00:00    272.57\n",
      "2017-07-01 15:00:00    272.74\n",
      "2017-07-01 14:00:00    269.90\n",
      "2017-07-01 13:00:00    274.93\n",
      "2017-07-01 12:00:00    275.01\n",
      "2017-07-01 11:00:00    279.99\n",
      "Name: High, dtype: float64\n",
      "-------------------------\n",
      "Date\n",
      "2017-07-01    279.99\n",
      "2017-07-02    293.73\n",
      "2017-07-03    285.00\n",
      "Freq: D, Name: High, dtype: float64\n",
      "Date\n",
      "2017-07-01    260.56\n",
      "2017-07-02    257.92\n",
      "2017-07-03    276.23\n",
      "Freq: D, Name: High, dtype: float64\n"
     ]
    }
   ],
   "source": [
    "# if we want to resample the data to see the high value by day and not by hour\n",
    "# https://pandas.pydata.org/pandas-docs/stable/user_guide/timeseries.html#dateoffset-objects\n",
    "# 'D' one day, '2D' two days, 'W' weeks\n",
    "print(df_Eth.loc['2017-07-01']['High'])\n",
    "print('-'*25)\n",
    "resamp = df_Eth['High'].resample('D') # gives a pandas.core.resample.DatetimeIndexResampler object\n",
    "highs = df_Eth['High'].resample('D').max() # this will resample the date and grabs the max value in that day.\n",
    "lows = df_Eth['High'].resample('D').min() # this will resample the date and grabs the min value in that day.\n",
    "print(highs.head(3))\n",
    "print(lows.head(3))"
   ]
  },
  {
   "cell_type": "code",
   "execution_count": 193,
   "metadata": {},
   "outputs": [
    {
     "data": {
      "text/plain": [
       "132.68"
      ]
     },
     "execution_count": 193,
     "metadata": {},
     "output_type": "execute_result"
    }
   ],
   "source": [
    "highs['2020-01-01'] # same value as 2 cells above"
   ]
  },
  {
   "cell_type": "code",
   "execution_count": 194,
   "metadata": {},
   "outputs": [
    {
     "data": {
      "text/plain": [
       "<AxesSubplot:xlabel='Date'>"
      ]
     },
     "execution_count": 194,
     "metadata": {},
     "output_type": "execute_result"
    },
    {
     "data": {
      "image/png": "[encoded data removed]",
      "text/plain": [
       "<Figure size 432x288 with 1 Axes>"
      ]
     },
     "metadata": {
      "needs_background": "light"
     },
     "output_type": "display_data"
    }
   ],
   "source": [
    "highs.plot()"
   ]
  },
  {
   "cell_type": "code",
   "execution_count": 195,
   "metadata": {},
   "outputs": [
    {
     "data": {
      "text/html": [
       "<div>\n",
       "<style scoped>\n",
       "    .dataframe tbody tr th:only-of-type {\n",
       "        vertical-align: middle;\n",
       "    }\n",
       "\n",
       "    .dataframe tbody tr th {\n",
       "        vertical-align: top;\n",
       "    }\n",
       "\n",
       "    .dataframe thead th {\n",
       "        text-align: right;\n",
       "    }\n",
       "</style>\n",
       "<table border=\"1\" class=\"dataframe\">\n",
       "  <thead>\n",
       "    <tr style=\"text-align: right;\">\n",
       "      <th></th>\n",
       "      <th>Open</th>\n",
       "      <th>High</th>\n",
       "      <th>Low</th>\n",
       "      <th>Close</th>\n",
       "      <th>Volume</th>\n",
       "    </tr>\n",
       "    <tr>\n",
       "      <th>Date</th>\n",
       "      <th></th>\n",
       "      <th></th>\n",
       "      <th></th>\n",
       "      <th></th>\n",
       "      <th></th>\n",
       "    </tr>\n",
       "  </thead>\n",
       "  <tbody>\n",
       "    <tr>\n",
       "      <th>2017-07-02</th>\n",
       "      <td>268.066486</td>\n",
       "      <td>271.124595</td>\n",
       "      <td>264.819730</td>\n",
       "      <td>268.202162</td>\n",
       "      <td>2.185035e+06</td>\n",
       "    </tr>\n",
       "    <tr>\n",
       "      <th>2017-07-09</th>\n",
       "      <td>261.337024</td>\n",
       "      <td>262.872917</td>\n",
       "      <td>259.186190</td>\n",
       "      <td>261.062083</td>\n",
       "      <td>1.337349e+06</td>\n",
       "    </tr>\n",
       "    <tr>\n",
       "      <th>2017-07-16</th>\n",
       "      <td>196.193214</td>\n",
       "      <td>199.204405</td>\n",
       "      <td>192.722321</td>\n",
       "      <td>195.698393</td>\n",
       "      <td>2.986756e+06</td>\n",
       "    </tr>\n",
       "    <tr>\n",
       "      <th>2017-07-23</th>\n",
       "      <td>212.351429</td>\n",
       "      <td>215.779286</td>\n",
       "      <td>209.126310</td>\n",
       "      <td>212.783750</td>\n",
       "      <td>4.298593e+06</td>\n",
       "    </tr>\n",
       "    <tr>\n",
       "      <th>2017-07-30</th>\n",
       "      <td>203.496190</td>\n",
       "      <td>205.110357</td>\n",
       "      <td>201.714048</td>\n",
       "      <td>203.309524</td>\n",
       "      <td>1.581729e+06</td>\n",
       "    </tr>\n",
       "    <tr>\n",
       "      <th>...</th>\n",
       "      <td>...</td>\n",
       "      <td>...</td>\n",
       "      <td>...</td>\n",
       "      <td>...</td>\n",
       "      <td>...</td>\n",
       "    </tr>\n",
       "    <tr>\n",
       "      <th>2020-02-16</th>\n",
       "      <td>255.021667</td>\n",
       "      <td>257.255238</td>\n",
       "      <td>252.679762</td>\n",
       "      <td>255.198452</td>\n",
       "      <td>2.329087e+06</td>\n",
       "    </tr>\n",
       "    <tr>\n",
       "      <th>2020-02-23</th>\n",
       "      <td>265.220833</td>\n",
       "      <td>267.263690</td>\n",
       "      <td>262.948512</td>\n",
       "      <td>265.321905</td>\n",
       "      <td>1.826094e+06</td>\n",
       "    </tr>\n",
       "    <tr>\n",
       "      <th>2020-03-01</th>\n",
       "      <td>236.720536</td>\n",
       "      <td>238.697500</td>\n",
       "      <td>234.208750</td>\n",
       "      <td>236.373988</td>\n",
       "      <td>2.198762e+06</td>\n",
       "    </tr>\n",
       "    <tr>\n",
       "      <th>2020-03-08</th>\n",
       "      <td>229.923571</td>\n",
       "      <td>231.284583</td>\n",
       "      <td>228.373810</td>\n",
       "      <td>229.817619</td>\n",
       "      <td>1.628910e+06</td>\n",
       "    </tr>\n",
       "    <tr>\n",
       "      <th>2020-03-15</th>\n",
       "      <td>176.937521</td>\n",
       "      <td>179.979487</td>\n",
       "      <td>172.936239</td>\n",
       "      <td>176.332821</td>\n",
       "      <td>4.259828e+06</td>\n",
       "    </tr>\n",
       "  </tbody>\n",
       "</table>\n",
       "<p>142 rows × 5 columns</p>\n",
       "</div>"
      ],
      "text/plain": [
       "                  Open        High         Low       Close        Volume\n",
       "Date                                                                    \n",
       "2017-07-02  268.066486  271.124595  264.819730  268.202162  2.185035e+06\n",
       "2017-07-09  261.337024  262.872917  259.186190  261.062083  1.337349e+06\n",
       "2017-07-16  196.193214  199.204405  192.722321  195.698393  2.986756e+06\n",
       "2017-07-23  212.351429  215.779286  209.126310  212.783750  4.298593e+06\n",
       "2017-07-30  203.496190  205.110357  201.714048  203.309524  1.581729e+06\n",
       "...                ...         ...         ...         ...           ...\n",
       "2020-02-16  255.021667  257.255238  252.679762  255.198452  2.329087e+06\n",
       "2020-02-23  265.220833  267.263690  262.948512  265.321905  1.826094e+06\n",
       "2020-03-01  236.720536  238.697500  234.208750  236.373988  2.198762e+06\n",
       "2020-03-08  229.923571  231.284583  228.373810  229.817619  1.628910e+06\n",
       "2020-03-15  176.937521  179.979487  172.936239  176.332821  4.259828e+06\n",
       "\n",
       "[142 rows x 5 columns]"
      ]
     },
     "execution_count": 195,
     "metadata": {},
     "output_type": "execute_result"
    }
   ],
   "source": [
    "# we can resample the whole dataframe to give us the data only that we are interested\n",
    "df_Eth.resample('W').mean() # this gives mean value of all the columns taken over week frame."
   ]
  },
  {
   "cell_type": "code",
   "execution_count": 196,
   "metadata": {},
   "outputs": [
    {
     "data": {
      "text/html": [
       "<div>\n",
       "<style scoped>\n",
       "    .dataframe tbody tr th:only-of-type {\n",
       "        vertical-align: middle;\n",
       "    }\n",
       "\n",
       "    .dataframe tbody tr th {\n",
       "        vertical-align: top;\n",
       "    }\n",
       "\n",
       "    .dataframe thead th {\n",
       "        text-align: right;\n",
       "    }\n",
       "</style>\n",
       "<table border=\"1\" class=\"dataframe\">\n",
       "  <thead>\n",
       "    <tr style=\"text-align: right;\">\n",
       "      <th></th>\n",
       "      <th>Close</th>\n",
       "      <th>High</th>\n",
       "      <th>Low</th>\n",
       "      <th>Volume</th>\n",
       "    </tr>\n",
       "    <tr>\n",
       "      <th>Date</th>\n",
       "      <th></th>\n",
       "      <th></th>\n",
       "      <th></th>\n",
       "      <th></th>\n",
       "    </tr>\n",
       "  </thead>\n",
       "  <tbody>\n",
       "    <tr>\n",
       "      <th>2017-07-02</th>\n",
       "      <td>268.202162</td>\n",
       "      <td>293.73</td>\n",
       "      <td>253.23</td>\n",
       "      <td>8.084631e+07</td>\n",
       "    </tr>\n",
       "    <tr>\n",
       "      <th>2017-07-09</th>\n",
       "      <td>261.062083</td>\n",
       "      <td>285.00</td>\n",
       "      <td>231.25</td>\n",
       "      <td>2.246746e+08</td>\n",
       "    </tr>\n",
       "    <tr>\n",
       "      <th>2017-07-16</th>\n",
       "      <td>195.698393</td>\n",
       "      <td>240.33</td>\n",
       "      <td>130.26</td>\n",
       "      <td>5.017750e+08</td>\n",
       "    </tr>\n",
       "    <tr>\n",
       "      <th>2017-07-23</th>\n",
       "      <td>212.783750</td>\n",
       "      <td>249.40</td>\n",
       "      <td>153.25</td>\n",
       "      <td>7.221637e+08</td>\n",
       "    </tr>\n",
       "    <tr>\n",
       "      <th>2017-07-30</th>\n",
       "      <td>203.309524</td>\n",
       "      <td>229.99</td>\n",
       "      <td>178.03</td>\n",
       "      <td>2.657305e+08</td>\n",
       "    </tr>\n",
       "    <tr>\n",
       "      <th>...</th>\n",
       "      <td>...</td>\n",
       "      <td>...</td>\n",
       "      <td>...</td>\n",
       "      <td>...</td>\n",
       "    </tr>\n",
       "    <tr>\n",
       "      <th>2020-02-16</th>\n",
       "      <td>255.198452</td>\n",
       "      <td>290.00</td>\n",
       "      <td>216.31</td>\n",
       "      <td>3.912867e+08</td>\n",
       "    </tr>\n",
       "    <tr>\n",
       "      <th>2020-02-23</th>\n",
       "      <td>265.321905</td>\n",
       "      <td>287.13</td>\n",
       "      <td>242.36</td>\n",
       "      <td>3.067838e+08</td>\n",
       "    </tr>\n",
       "    <tr>\n",
       "      <th>2020-03-01</th>\n",
       "      <td>236.373988</td>\n",
       "      <td>278.13</td>\n",
       "      <td>209.26</td>\n",
       "      <td>3.693920e+08</td>\n",
       "    </tr>\n",
       "    <tr>\n",
       "      <th>2020-03-08</th>\n",
       "      <td>229.817619</td>\n",
       "      <td>253.01</td>\n",
       "      <td>196.00</td>\n",
       "      <td>2.736569e+08</td>\n",
       "    </tr>\n",
       "    <tr>\n",
       "      <th>2020-03-15</th>\n",
       "      <td>176.332821</td>\n",
       "      <td>208.65</td>\n",
       "      <td>90.00</td>\n",
       "      <td>4.983998e+08</td>\n",
       "    </tr>\n",
       "  </tbody>\n",
       "</table>\n",
       "<p>142 rows × 4 columns</p>\n",
       "</div>"
      ],
      "text/plain": [
       "                 Close    High     Low        Volume\n",
       "Date                                                \n",
       "2017-07-02  268.202162  293.73  253.23  8.084631e+07\n",
       "2017-07-09  261.062083  285.00  231.25  2.246746e+08\n",
       "2017-07-16  195.698393  240.33  130.26  5.017750e+08\n",
       "2017-07-23  212.783750  249.40  153.25  7.221637e+08\n",
       "2017-07-30  203.309524  229.99  178.03  2.657305e+08\n",
       "...                ...     ...     ...           ...\n",
       "2020-02-16  255.198452  290.00  216.31  3.912867e+08\n",
       "2020-02-23  265.321905  287.13  242.36  3.067838e+08\n",
       "2020-03-01  236.373988  278.13  209.26  3.693920e+08\n",
       "2020-03-08  229.817619  253.01  196.00  2.736569e+08\n",
       "2020-03-15  176.332821  208.65   90.00  4.983998e+08\n",
       "\n",
       "[142 rows x 4 columns]"
      ]
     },
     "execution_count": 196,
     "metadata": {},
     "output_type": "execute_result"
    }
   ],
   "source": [
    "# what if we want to get max(), mean() and min() for different columns\n",
    "df_Eth.resample('W').agg({'Close': 'mean', 'High':'max', 'Low':'min', 'Volume':'sum'}) # see that 'Open' is not displayed"
   ]
  },
  {
   "cell_type": "markdown",
   "metadata": {},
   "source": [
    "### Multi Index DataFrame:"
   ]
  },
  {
   "cell_type": "code",
   "execution_count": 197,
   "metadata": {},
   "outputs": [
    {
     "data": {
      "text/html": [
       "<div>\n",
       "<style scoped>\n",
       "    .dataframe tbody tr th:only-of-type {\n",
       "        vertical-align: middle;\n",
       "    }\n",
       "\n",
       "    .dataframe tbody tr th {\n",
       "        vertical-align: top;\n",
       "    }\n",
       "\n",
       "    .dataframe thead th {\n",
       "        text-align: right;\n",
       "    }\n",
       "</style>\n",
       "<table border=\"1\" class=\"dataframe\">\n",
       "  <thead>\n",
       "    <tr style=\"text-align: right;\">\n",
       "      <th></th>\n",
       "      <th></th>\n",
       "      <th>A</th>\n",
       "      <th>B</th>\n",
       "      <th>C</th>\n",
       "    </tr>\n",
       "  </thead>\n",
       "  <tbody>\n",
       "    <tr>\n",
       "      <th rowspan=\"3\" valign=\"top\">G1</th>\n",
       "      <th>1</th>\n",
       "      <td>0.024791</td>\n",
       "      <td>0.144225</td>\n",
       "      <td>0.813587</td>\n",
       "    </tr>\n",
       "    <tr>\n",
       "      <th>2</th>\n",
       "      <td>0.581539</td>\n",
       "      <td>0.228328</td>\n",
       "      <td>0.686900</td>\n",
       "    </tr>\n",
       "    <tr>\n",
       "      <th>3</th>\n",
       "      <td>0.230170</td>\n",
       "      <td>0.380546</td>\n",
       "      <td>0.480328</td>\n",
       "    </tr>\n",
       "    <tr>\n",
       "      <th rowspan=\"3\" valign=\"top\">G2</th>\n",
       "      <th>1</th>\n",
       "      <td>0.037176</td>\n",
       "      <td>0.041570</td>\n",
       "      <td>0.803621</td>\n",
       "    </tr>\n",
       "    <tr>\n",
       "      <th>2</th>\n",
       "      <td>0.743965</td>\n",
       "      <td>0.214649</td>\n",
       "      <td>0.942623</td>\n",
       "    </tr>\n",
       "    <tr>\n",
       "      <th>3</th>\n",
       "      <td>0.660063</td>\n",
       "      <td>0.606198</td>\n",
       "      <td>0.308208</td>\n",
       "    </tr>\n",
       "  </tbody>\n",
       "</table>\n",
       "</div>"
      ],
      "text/plain": [
       "             A         B         C\n",
       "G1 1  0.024791  0.144225  0.813587\n",
       "   2  0.581539  0.228328  0.686900\n",
       "   3  0.230170  0.380546  0.480328\n",
       "G2 1  0.037176  0.041570  0.803621\n",
       "   2  0.743965  0.214649  0.942623\n",
       "   3  0.660063  0.606198  0.308208"
      ]
     },
     "execution_count": 197,
     "metadata": {},
     "output_type": "execute_result"
    }
   ],
   "source": [
    "out_index = ['G1','G1','G1','G2','G2','G2']\n",
    "in_index = [1,2,3,1,2,3]\n",
    "df3 = pd.DataFrame(data=np.random.rand(6,3), index=[out_index, in_index], columns=list('ABC'))\n",
    "df3"
   ]
  },
  {
   "cell_type": "markdown",
   "metadata": {},
   "source": [
    "### Working with JSON data:\n",
    "1. https://realpython.com/python-json/\n",
    "2. JSON is a syntax for storing and exchanging data. JSON is text( basically a string), written with JavaScript object notation.\n",
    "3. Python has a built-in package called json, which can be used to work with JSON data.\n",
    "4. Parse JSON - Convert JSON string to Python object using : json.loads() this returns a python dictionary.\n",
    "5. Convert Python objects to JSON string use json.dumps().\n",
    "6. Use pd.read_json('filename.json') to a DataFrame object. Here json.read can handle only simpel json structure not the nested ones. "
   ]
  },
  {
   "cell_type": "code",
   "execution_count": 198,
   "metadata": {},
   "outputs": [
    {
     "data": {
      "text/plain": [
       "str"
      ]
     },
     "execution_count": 198,
     "metadata": {},
     "output_type": "execute_result"
    }
   ],
   "source": [
    "# Raw string data in JSON format\n",
    "json_data = \"\"\"{\n",
    "    \"name\": \"Wes\",\n",
    "    \"places_lived\": [\"United States\", \"Spain\", \"Germany\"],\n",
    "    \"pet\": null,\n",
    "    \"siblings\": [{\"name\": \"Scott\", \"age\": 30, \"pets\": [\"Zeus\", \"Zuko\"]},\n",
    "                 {\"name\": \"Katie\", \"age\": 38, \"pets\": [\"Sixes\", \"Stache\", \"Cisco\"]}]\n",
    "}\"\"\"\n",
    "type(json_data)"
   ]
  },
  {
   "cell_type": "code",
   "execution_count": 199,
   "metadata": {},
   "outputs": [
    {
     "name": "stdout",
     "output_type": "stream",
     "text": [
      "<class 'dict'>\n"
     ]
    },
    {
     "data": {
      "text/plain": [
       "{'name': 'Wes',\n",
       " 'places_lived': ['United States', 'Spain', 'Germany'],\n",
       " 'pet': None,\n",
       " 'siblings': [{'name': 'Scott', 'age': 30, 'pets': ['Zeus', 'Zuko']},\n",
       "  {'name': 'Katie', 'age': 38, 'pets': ['Sixes', 'Stache', 'Cisco']}]}"
      ]
     },
     "execution_count": 199,
     "metadata": {},
     "output_type": "execute_result"
    }
   ],
   "source": [
    "import json\n",
    "# json.loads takes str and returns python dict\n",
    "py_data = json.loads(json_data)\n",
    "print(type(py_data))\n",
    "py_data"
   ]
  },
  {
   "cell_type": "code",
   "execution_count": 200,
   "metadata": {},
   "outputs": [
    {
     "name": "stdout",
     "output_type": "stream",
     "text": [
      "<class 'str'>\n"
     ]
    },
    {
     "data": {
      "text/plain": [
       "'{\"name\": \"Wes\", \"places_lived\": [\"United States\", \"Spain\", \"Germany\"], \"pet\": null, \"siblings\": [{\"name\": \"Scott\", \"age\": 30, \"pets\": [\"Zeus\", \"Zuko\"]}, {\"name\": \"Katie\", \"age\": 38, \"pets\": [\"Sixes\", \"Stache\", \"Cisco\"]}]}'"
      ]
     },
     "execution_count": 200,
     "metadata": {},
     "output_type": "execute_result"
    }
   ],
   "source": [
    "json_data = json.dumps(py_data)\n",
    "print(type(json_data))\n",
    "json_data"
   ]
  },
  {
   "cell_type": "code",
   "execution_count": 201,
   "metadata": {},
   "outputs": [
    {
     "name": "stdout",
     "output_type": "stream",
     "text": [
      "<class 'pandas.core.frame.DataFrame'>\n"
     ]
    },
    {
     "data": {
      "text/html": [
       "<div>\n",
       "<style scoped>\n",
       "    .dataframe tbody tr th:only-of-type {\n",
       "        vertical-align: middle;\n",
       "    }\n",
       "\n",
       "    .dataframe tbody tr th {\n",
       "        vertical-align: top;\n",
       "    }\n",
       "\n",
       "    .dataframe thead th {\n",
       "        text-align: right;\n",
       "    }\n",
       "</style>\n",
       "<table border=\"1\" class=\"dataframe\">\n",
       "  <thead>\n",
       "    <tr style=\"text-align: right;\">\n",
       "      <th></th>\n",
       "      <th>a</th>\n",
       "      <th>b</th>\n",
       "      <th>c</th>\n",
       "    </tr>\n",
       "  </thead>\n",
       "  <tbody>\n",
       "    <tr>\n",
       "      <th>0</th>\n",
       "      <td>1</td>\n",
       "      <td>2</td>\n",
       "      <td>3</td>\n",
       "    </tr>\n",
       "    <tr>\n",
       "      <th>1</th>\n",
       "      <td>4</td>\n",
       "      <td>5</td>\n",
       "      <td>6</td>\n",
       "    </tr>\n",
       "    <tr>\n",
       "      <th>2</th>\n",
       "      <td>7</td>\n",
       "      <td>8</td>\n",
       "      <td>9</td>\n",
       "    </tr>\n",
       "  </tbody>\n",
       "</table>\n",
       "</div>"
      ],
      "text/plain": [
       "   a  b  c\n",
       "0  1  2  3\n",
       "1  4  5  6\n",
       "2  7  8  9"
      ]
     },
     "execution_count": 201,
     "metadata": {},
     "output_type": "execute_result"
    }
   ],
   "source": [
    "data = pd.read_json('data/example.json')\n",
    "print(type(data))\n",
    "data"
   ]
  },
  {
   "cell_type": "code",
   "execution_count": 202,
   "metadata": {},
   "outputs": [
    {
     "name": "stdout",
     "output_type": "stream",
     "text": [
      "<class 'str'>\n",
      "{\"a\":{\"0\":1,\"1\":4,\"2\":7},\"b\":{\"0\":2,\"1\":5,\"2\":8},\"c\":{\"0\":3,\"1\":6,\"2\":9}}\n",
      "*********************************************\n",
      "[{\"a\":1,\"b\":2,\"c\":3},{\"a\":4,\"b\":5,\"c\":6},{\"a\":7,\"b\":8,\"c\":9}]\n"
     ]
    }
   ],
   "source": [
    "# convert back the Dataframe to json\n",
    "# https://pandas.pydata.org/pandas-docs/stable/reference/api/pandas.DataFrame.to_json.html\n",
    "json_data = data.to_json() # data.to_json(orient='records') you can specify how you want the JSON format be \n",
    "json_data1 = data.to_json(orient='records')\n",
    "print(type(json_data)) \n",
    "print(json_data)\n",
    "print('{}'.format('*'*45))\n",
    "print(json_data1)"
   ]
  },
  {
   "cell_type": "markdown",
   "metadata": {},
   "source": [
    "### Pickle and Joblib - https://www.youtube.com/watch?v=KfnhNlD8WZI\n",
    "1. Pickling: It is a process where a Python object hierarchy is converted into a byte stream and dumps it into a file by using dump function.This character stream contains all the information necessary to reconstruct the object in another python script.\n",
    "2. Pickle files are basically binary files stored on disk. Basically when we from a model and train it with huge data size data, we should save the trained model so that we can directly use it next time without having to retrian it. Thats where pickle format and pickling comes in picture.\n",
    "3. Similar to pickle we have scikit learn joblib : https://scikit-learn.org/stable/modules/model_persistence.html"
   ]
  },
  {
   "cell_type": "code",
   "execution_count": 203,
   "metadata": {},
   "outputs": [],
   "source": [
    "import pickle\n",
    "# sample usage\n",
    "# with open('sample_file', 'wb') as f:\n",
    "#     pickle.dump(model, f)  # assuming that model = linearRegression model or some other model\n",
    "# with open('sample_file', 'rb') as f:\n",
    "#     mod = pickle.load(f)"
   ]
  },
  {
   "cell_type": "markdown",
   "metadata": {},
   "source": [
    "### Hadoop Distributed File System HDFS(.h5) file handling:\n",
    "1. This is another kind of binary format used in Hadoop framework."
   ]
  },
  {
   "cell_type": "code",
   "execution_count": 204,
   "metadata": {},
   "outputs": [
    {
     "data": {
      "text/html": [
       "<div>\n",
       "<style scoped>\n",
       "    .dataframe tbody tr th:only-of-type {\n",
       "        vertical-align: middle;\n",
       "    }\n",
       "\n",
       "    .dataframe tbody tr th {\n",
       "        vertical-align: top;\n",
       "    }\n",
       "\n",
       "    .dataframe thead th {\n",
       "        text-align: right;\n",
       "    }\n",
       "</style>\n",
       "<table border=\"1\" class=\"dataframe\">\n",
       "  <thead>\n",
       "    <tr style=\"text-align: right;\">\n",
       "      <th></th>\n",
       "      <th>a</th>\n",
       "    </tr>\n",
       "  </thead>\n",
       "  <tbody>\n",
       "    <tr>\n",
       "      <th>0</th>\n",
       "      <td>-0.680387</td>\n",
       "    </tr>\n",
       "    <tr>\n",
       "      <th>1</th>\n",
       "      <td>-0.135457</td>\n",
       "    </tr>\n",
       "    <tr>\n",
       "      <th>2</th>\n",
       "      <td>0.160876</td>\n",
       "    </tr>\n",
       "    <tr>\n",
       "      <th>3</th>\n",
       "      <td>-1.151374</td>\n",
       "    </tr>\n",
       "    <tr>\n",
       "      <th>4</th>\n",
       "      <td>-1.257851</td>\n",
       "    </tr>\n",
       "  </tbody>\n",
       "</table>\n",
       "</div>"
      ],
      "text/plain": [
       "          a\n",
       "0 -0.680387\n",
       "1 -0.135457\n",
       "2  0.160876\n",
       "3 -1.151374\n",
       "4 -1.257851"
      ]
     },
     "execution_count": 204,
     "metadata": {},
     "output_type": "execute_result"
    }
   ],
   "source": [
    "df= pd.DataFrame({'a': np.random.randn(100)})\n",
    "df.head(5)"
   ]
  },
  {
   "cell_type": "code",
   "execution_count": 205,
   "metadata": {},
   "outputs": [],
   "source": [
    "\n",
    "# This creates a empty h5 file system.\n",
    "\n",
    "# # \"write\"\n",
    "# with pd.HDFStore('data/mydata_hdfs.h5',  mode='w') as store:\n",
    "#     store.append('df', df, data_columns= df.columns, format='table')\n",
    "    \n",
    "# # \"read\"\n",
    "# with pd.HDFStore('data/mydata_hdfs.h5',  mode='r') as newstore:\n",
    "#     df_restored = newstore.select('df')\n",
    "# df_restored"
   ]
  },
  {
   "cell_type": "code",
   "execution_count": 206,
   "metadata": {},
   "outputs": [],
   "source": [
    "# with pd.HDFStore('data/mydata_hdfs.h5',  mode='w') as store:\n",
    "#     store.put('obj2', df, format='table')\n",
    "#     store.select('obj2', where=['index >= 10 and index <= 15'])"
   ]
  },
  {
   "cell_type": "code",
   "execution_count": 207,
   "metadata": {},
   "outputs": [],
   "source": [
    "# df.to_hdf('data/mydata.h5', 'obj3', format='table')\n",
    "# pd.read_hdf('data/mydata.h5', 'obj3', where=['index < 5'])"
   ]
  },
  {
   "cell_type": "markdown",
   "metadata": {},
   "source": [
    "### Web API's"
   ]
  },
  {
   "cell_type": "code",
   "execution_count": 208,
   "metadata": {},
   "outputs": [],
   "source": [
    "# use read_html\n"
   ]
  },
  {
   "cell_type": "markdown",
   "metadata": {},
   "source": [
    "# Numpy - https://numpy.org/devdocs/user/quickstart.html"
   ]
  },
  {
   "cell_type": "markdown",
   "metadata": {},
   "source": [
    "1. Both __NumPy__ and __SciPy__ are Python libraries used for used mathematical and numerical analysis. NumPy contains array data and basic operations such as sorting, indexing, etc whereas, SciPy consists of all the numerical code and higher functionality like integration, optimization, Signal processing needed for scientific work.\n",
    "2. NumPy is a basic library for mathematical or numerical calculation. Written in __C__. So much faster than other python library. Maximum library which was developed for data science statistics and in general for mathematical calculations, are developed on the top of NumPy. So is SciPy.\n",
    "3. NumPy’s main object is the __homogeneous multidimensional array__. It is a table of elements (usually numbers), all of the same type, indexed by a tuple of non-negative integers. In NumPy dimensions are called axes. Numpy’s array class is called as ndarray.\n",
    "4. "
   ]
  },
  {
   "cell_type": "code",
   "execution_count": 209,
   "metadata": {},
   "outputs": [],
   "source": [
    "import numpy as np"
   ]
  },
  {
   "cell_type": "code",
   "execution_count": 210,
   "metadata": {},
   "outputs": [
    {
     "name": "stdout",
     "output_type": "stream",
     "text": [
      "['bob' '1' '2'] <U3\n",
      "[1. 2. 3.] float64\n"
     ]
    }
   ],
   "source": [
    "# this is also a example of braadcasting\n",
    "np0 = np.array(['bob', 1, 2]) # since np are homogeneous, all elements are converted into Numpy\n",
    "print(np0, np0.dtype)\n",
    "np1 = np.array([1, 2, 3.0])\n",
    "print(np1, np1.dtype)"
   ]
  },
  {
   "cell_type": "code",
   "execution_count": 211,
   "metadata": {},
   "outputs": [
    {
     "data": {
      "text/plain": [
       "array([[[[2, 2]]]])"
      ]
     },
     "execution_count": 211,
     "metadata": {},
     "output_type": "execute_result"
    }
   ],
   "source": [
    "# convert dimentions\n",
    "np.array([2,2], ndmin = 4)"
   ]
  },
  {
   "cell_type": "code",
   "execution_count": 212,
   "metadata": {},
   "outputs": [
    {
     "data": {
      "text/plain": [
       "array([1.+0.j, 2.+0.j, 3.+0.j])"
      ]
     },
     "execution_count": 212,
     "metadata": {},
     "output_type": "execute_result"
    }
   ],
   "source": [
    " np.array([1, 2, 3], dtype=complex)"
   ]
  },
  {
   "cell_type": "code",
   "execution_count": 213,
   "metadata": {},
   "outputs": [
    {
     "name": "stdout",
     "output_type": "stream",
     "text": [
      "1 <class 'numpy.int16'>\n",
      "2 <class 'numpy.int64'>\n",
      "3 <class 'numpy.int16'>\n",
      "4 <class 'numpy.int64'>\n"
     ]
    },
    {
     "data": {
      "text/plain": [
       "array([(1, 2), (3, 4)], dtype=[('a', '<i2'), ('b', '<i8')])"
      ]
     },
     "execution_count": 213,
     "metadata": {},
     "output_type": "execute_result"
    }
   ],
   "source": [
    "x = np.array([(1,2),(3,4)],dtype=[('a','<i2'),('b','<i8')])\n",
    "\n",
    "print(x[0][0], type(x[0][0]))\n",
    "print(x[0][1], type(x[0][1]))\n",
    "print(x[1][0], type(x[1][0]))\n",
    "print(x[1][1], type(x[1][1]))\n",
    "x"
   ]
  },
  {
   "cell_type": "code",
   "execution_count": 214,
   "metadata": {},
   "outputs": [
    {
     "name": "stdout",
     "output_type": "stream",
     "text": [
      "[[1 2]\n",
      " [4 7]] <class 'numpy.matrix'>\n"
     ]
    }
   ],
   "source": [
    "# Creating array from subclasses:\n",
    "# Matrix is different data type than ndarray, Matrix is a subset of array\n",
    "a = np.mat(np.array([[1, 2],[4,7]]))\n",
    "print(a, type(a))"
   ]
  },
  {
   "cell_type": "code",
   "execution_count": 215,
   "metadata": {},
   "outputs": [
    {
     "data": {
      "text/plain": [
       "matrix([[1, 2],\n",
       "        [3, 4]])"
      ]
     },
     "execution_count": 215,
     "metadata": {},
     "output_type": "execute_result"
    }
   ],
   "source": [
    "np.mat('1 2; 3 4')"
   ]
  },
  {
   "cell_type": "code",
   "execution_count": 216,
   "metadata": {},
   "outputs": [
    {
     "data": {
      "text/plain": [
       "True"
      ]
     },
     "execution_count": 216,
     "metadata": {},
     "output_type": "execute_result"
    }
   ],
   "source": [
    "issubclass(np.matrix, np.ndarray)"
   ]
  },
  {
   "cell_type": "code",
   "execution_count": 217,
   "metadata": {},
   "outputs": [
    {
     "name": "stdout",
     "output_type": "stream",
     "text": [
      "[[1 2]\n",
      " [3 4]]\n",
      "*********************************************\n",
      "[[1 2]\n",
      " [3 4]\n",
      " [5 6]]\n",
      "*********************************************\n",
      "[[[1 2]\n",
      "  [3 4]\n",
      "  [5 6]]]\n"
     ]
    }
   ],
   "source": [
    "np1 = np.array([[1,2], [3,4]])\n",
    "print(np1)\n",
    "print('*'*45)\n",
    "np2 = np.array([[1,2], [3,4], [5,6]])\n",
    "print(np2)\n",
    "print('*'*45)\n",
    "np3 = np.array([[[1,2], [3,4], [5,6]]])\n",
    "print(np3)"
   ]
  },
  {
   "cell_type": "code",
   "execution_count": 218,
   "metadata": {},
   "outputs": [
    {
     "name": "stdout",
     "output_type": "stream",
     "text": [
      "shape - (2, 2), dim - 2\n",
      "shape - (3, 2), dim - 2\n",
      "shape - (1, 3, 2), dim - 3\n"
     ]
    }
   ],
   "source": [
    "# shape - dimension of an array\n",
    "# ndim - Depth of array or 1-D, 2-D, 3-D etc\n",
    "print(\"shape - {}, dim - {}\".format(np1.shape, np1.ndim))\n",
    "print(\"shape - {}, dim - {}\".format(np2.shape, np2.ndim))\n",
    "print(\"shape - {}, dim - {}\".format(np3.shape, np3.ndim)) # Number of [[[*]]] will tell you what dimention array it is"
   ]
  },
  {
   "cell_type": "code",
   "execution_count": 219,
   "metadata": {},
   "outputs": [
    {
     "name": "stdout",
     "output_type": "stream",
     "text": [
      "4\n",
      "[3 4]\n"
     ]
    }
   ],
   "source": [
    "print(np1[1,1])\n",
    "print(np1[1])"
   ]
  },
  {
   "cell_type": "code",
   "execution_count": 220,
   "metadata": {},
   "outputs": [
    {
     "name": "stdout",
     "output_type": "stream",
     "text": [
      "[[1 2]\n",
      " [3 4]\n",
      " [5 6]]\n",
      "-------------------------\n",
      "[1 2]\n",
      "-------------------------\n",
      "[3 4]\n",
      "-------------------------\n",
      "1\n",
      "-------------------------\n",
      "6\n"
     ]
    }
   ],
   "source": [
    "print(np3[0])\n",
    "print('-'*25)\n",
    "print(np3[0, 0])\n",
    "print('-'*25)\n",
    "print(np3[0, 1])\n",
    "print('-'*25)\n",
    "print(np3[0, 0, 0])\n",
    "print('-'*25)\n",
    "print(np3[0, 2, 1])"
   ]
  },
  {
   "cell_type": "code",
   "execution_count": 221,
   "metadata": {},
   "outputs": [
    {
     "name": "stdout",
     "output_type": "stream",
     "text": [
      "[1 2] <class 'numpy.ndarray'>\n",
      "[1, 2] <class 'list'>\n"
     ]
    }
   ],
   "source": [
    "# Convert the input to an array.\n",
    "a = [1, 2]\n",
    "b = np.asarray(a)\n",
    "print(b,type(b)) # asarray() or array() both are same\n",
    "print(a, type(a)) # parent variable is not modified"
   ]
  },
  {
   "cell_type": "code",
   "execution_count": 222,
   "metadata": {},
   "outputs": [
    {
     "data": {
      "text/plain": [
       "False"
      ]
     },
     "execution_count": 222,
     "metadata": {},
     "output_type": "execute_result"
    }
   ],
   "source": [
    "c = np.array(b, copy=True) # this creats a copy\n",
    "c is b"
   ]
  },
  {
   "cell_type": "code",
   "execution_count": 223,
   "metadata": {},
   "outputs": [
    {
     "name": "stdout",
     "output_type": "stream",
     "text": [
      "[1 2 3]\n"
     ]
    },
    {
     "data": {
      "text/plain": [
       "True"
      ]
     },
     "execution_count": 223,
     "metadata": {},
     "output_type": "execute_result"
    }
   ],
   "source": [
    "# creating copyies exaplined\n",
    "x = np.array([1,2,3])\n",
    "print(x)\n",
    "y=x\n",
    "y is x"
   ]
  },
  {
   "cell_type": "code",
   "execution_count": 224,
   "metadata": {},
   "outputs": [
    {
     "data": {
      "text/plain": [
       "False"
      ]
     },
     "execution_count": 224,
     "metadata": {},
     "output_type": "execute_result"
    }
   ],
   "source": [
    "z = np.copy(x)\n",
    "z is x"
   ]
  },
  {
   "cell_type": "markdown",
   "metadata": {},
   "source": [
    "#### Numpy gives lots of function to create ndarrays\n",
    "['array',\n",
    " ' zeros',\n",
    " ' zeros_like',\n",
    " ' ones',\n",
    " ' ones_like',\n",
    " ' empty',\n",
    " ' empty_like',\n",
    " ' arange',\n",
    " ' linspace',\n",
    " ' numpy.random.RandomState.rand',\n",
    " ' numpy.random.RandomState.randn',\n",
    " ' fromfunction',\n",
    " ' fromfile']"
   ]
  },
  {
   "cell_type": "code",
   "execution_count": 225,
   "metadata": {},
   "outputs": [
    {
     "data": {
      "text/plain": [
       "array([[0., 0., 0., 0.],\n",
       "       [0., 0., 0., 0.],\n",
       "       [0., 0., 0., 0.]])"
      ]
     },
     "execution_count": 225,
     "metadata": {},
     "output_type": "execute_result"
    }
   ],
   "source": [
    "np.zeros((3, 4))"
   ]
  },
  {
   "cell_type": "code",
   "execution_count": 226,
   "metadata": {},
   "outputs": [
    {
     "data": {
      "text/plain": [
       "array([10, 15, 20, 25])"
      ]
     },
     "execution_count": 226,
     "metadata": {},
     "output_type": "execute_result"
    }
   ],
   "source": [
    "#  NumPy provides the arange function which is analogous to the Python built-in range, but returns an array.\n",
    "np.arange( 10, 30, 5 )"
   ]
  },
  {
   "cell_type": "code",
   "execution_count": 227,
   "metadata": {},
   "outputs": [
    {
     "name": "stdout",
     "output_type": "stream",
     "text": [
      "[0 1 2 3 4 5]\n",
      "[[0 1 2]\n",
      " [3 4 5]]\n"
     ]
    }
   ],
   "source": [
    "print(np.arange(6))\n",
    "print(np.arange(6).reshape(2,3))"
   ]
  },
  {
   "cell_type": "code",
   "execution_count": 228,
   "metadata": {},
   "outputs": [
    {
     "data": {
      "text/plain": [
       "array([0. , 0.3, 0.6, 0.9, 1.2, 1.5, 1.8])"
      ]
     },
     "execution_count": 228,
     "metadata": {},
     "output_type": "execute_result"
    }
   ],
   "source": [
    "np.arange( 0, 2, 0.3 )"
   ]
  },
  {
   "cell_type": "code",
   "execution_count": 229,
   "metadata": {},
   "outputs": [
    {
     "data": {
      "text/plain": [
       "array([[1., 0., 0., 0.],\n",
       "       [0., 1., 0., 0.],\n",
       "       [0., 0., 1., 0.],\n",
       "       [0., 0., 0., 1.]])"
      ]
     },
     "execution_count": 229,
     "metadata": {},
     "output_type": "execute_result"
    }
   ],
   "source": [
    "np.eye(4,4)"
   ]
  },
  {
   "cell_type": "code",
   "execution_count": 230,
   "metadata": {},
   "outputs": [
    {
     "data": {
      "text/plain": [
       "array([0.  , 0.25, 0.5 , 0.75, 1.  , 1.25, 1.5 , 1.75, 2.  ])"
      ]
     },
     "execution_count": 230,
     "metadata": {},
     "output_type": "execute_result"
    }
   ],
   "source": [
    "# When arange is used with floating point arguments,it is generally not possible to predict the number of elements obtained,\n",
    "# due to the finite floating point precision. For this reason, it is usually better to use the function \n",
    "# linspace that receives as an argument the number of elements that we want, instead of the step:\n",
    "np.linspace( 0, 2, 9 )"
   ]
  },
  {
   "cell_type": "code",
   "execution_count": 231,
   "metadata": {},
   "outputs": [
    {
     "data": {
      "text/plain": [
       "array([[0, 0, 0],\n",
       "       [0, 1, 2],\n",
       "       [0, 2, 4]])"
      ]
     },
     "execution_count": 231,
     "metadata": {},
     "output_type": "execute_result"
    }
   ],
   "source": [
    "np.fromfunction((lambda i, j: i * j), (3, 3), dtype=int)"
   ]
  },
  {
   "cell_type": "code",
   "execution_count": 232,
   "metadata": {},
   "outputs": [
    {
     "name": "stdout",
     "output_type": "stream",
     "text": [
      "<generator object <genexpr> at 0x154B9418>\n"
     ]
    },
    {
     "data": {
      "text/plain": [
       "array([ 0.,  1.,  4.,  9., 16.])"
      ]
     },
     "execution_count": 232,
     "metadata": {},
     "output_type": "execute_result"
    }
   ],
   "source": [
    "iterable = (x*x for x in range(5))\n",
    "print(iterable)\n",
    "np.fromiter(iterable, float)"
   ]
  },
  {
   "cell_type": "code",
   "execution_count": 233,
   "metadata": {},
   "outputs": [
    {
     "data": {
      "text/plain": [
       "array([1., 2., 3., 4.])"
      ]
     },
     "execution_count": 233,
     "metadata": {},
     "output_type": "execute_result"
    }
   ],
   "source": [
    "np.fromstring('1 2 3 4',sep=' ')"
   ]
  },
  {
   "cell_type": "markdown",
   "metadata": {},
   "source": [
    "#### Basic Arithmetic Operations : Arithmetic operators on arrays apply elementwise. A new array is created and filled with the result."
   ]
  },
  {
   "cell_type": "code",
   "execution_count": 234,
   "metadata": {},
   "outputs": [
    {
     "name": "stdout",
     "output_type": "stream",
     "text": [
      "[0 1 2 3 4]\n",
      "[5 6 7 8 9]\n"
     ]
    }
   ],
   "source": [
    "a = np.arange(5)\n",
    "b = np.arange(5,10)\n",
    "print(a)\n",
    "print(b)"
   ]
  },
  {
   "cell_type": "code",
   "execution_count": 235,
   "metadata": {},
   "outputs": [
    {
     "name": "stdout",
     "output_type": "stream",
     "text": [
      "[ 0  3  6  9 12]\n",
      "[ 5  7  9 11 13]\n",
      "[ True  True  True False False]\n"
     ]
    }
   ],
   "source": [
    "print(a*3)\n",
    "print(a+b)\n",
    "print(a<3)"
   ]
  },
  {
   "cell_type": "code",
   "execution_count": 236,
   "metadata": {},
   "outputs": [
    {
     "data": {
      "text/plain": [
       "array([ 5,  7,  9, 11, 13])"
      ]
     },
     "execution_count": 236,
     "metadata": {},
     "output_type": "execute_result"
    }
   ],
   "source": [
    "# Some operations, such as += and *=, act in place to modify an existing array rather than create a new one.\n",
    "b+=a\n",
    "b"
   ]
  },
  {
   "cell_type": "code",
   "execution_count": 237,
   "metadata": {},
   "outputs": [
    {
     "name": "stdout",
     "output_type": "stream",
     "text": [
      "[[1 2]\n",
      " [3 4]] \n",
      "\n",
      "[[5 6]\n",
      " [7 8]]\n"
     ]
    }
   ],
   "source": [
    "A = np.array( [[1,2], [3,4]] )\n",
    "B = np.array( [[5,6], [7,8]] )\n",
    "print(A, '\\n')\n",
    "print(B)"
   ]
  },
  {
   "cell_type": "code",
   "execution_count": 238,
   "metadata": {},
   "outputs": [
    {
     "data": {
      "text/plain": [
       "array([[ 5, 12],\n",
       "       [21, 32]])"
      ]
     },
     "execution_count": 238,
     "metadata": {},
     "output_type": "execute_result"
    }
   ],
   "source": [
    "# elementwise product\n",
    "A*B"
   ]
  },
  {
   "cell_type": "code",
   "execution_count": 239,
   "metadata": {},
   "outputs": [
    {
     "data": {
      "text/plain": [
       "array([[19, 22],\n",
       "       [43, 50]])"
      ]
     },
     "execution_count": 239,
     "metadata": {},
     "output_type": "execute_result"
    }
   ],
   "source": [
    "# matrix prodduct\n",
    "A@B"
   ]
  },
  {
   "cell_type": "code",
   "execution_count": 240,
   "metadata": {},
   "outputs": [
    {
     "data": {
      "text/plain": [
       "array([[19, 22],\n",
       "       [43, 50]])"
      ]
     },
     "execution_count": 240,
     "metadata": {},
     "output_type": "execute_result"
    }
   ],
   "source": [
    "# dot product\n",
    "A.dot(B)"
   ]
  },
  {
   "cell_type": "markdown",
   "metadata": {},
   "source": [
    "### Broadcasting:\n",
    "1. https://docs.scipy.org/doc/numpy-1.10.1/user/basics.broadcasting.html\n",
    "2. https://numpy.org/devdocs/user/basics.broadcasting.html\n",
    "2. The term broadcasting describes how numpy treats arrays with different shapes during arithmetic operations. Subject to certain constraints, the smaller array is “broadcast” across the larger array so that they have compatible shapes"
   ]
  },
  {
   "cell_type": "markdown",
   "metadata": {},
   "source": [
    "### Indexing and Slicing:\n",
    "1. When we slice a subarray, the subarray still refers to the original array. So changing the elements of subarray still refers to the original array. So changing the elements of subarray will change the original array. \n",
    "2. Indeing and slicing are pretty much similar to pandas"
   ]
  },
  {
   "cell_type": "code",
   "execution_count": 241,
   "metadata": {},
   "outputs": [
    {
     "name": "stdout",
     "output_type": "stream",
     "text": [
      "[[11 12 13 14]\n",
      " [21 22 23 24]\n",
      " [31 32 33 34]] \n",
      "\n"
     ]
    },
    {
     "data": {
      "text/plain": [
       "array([[12, 13],\n",
       "       [22, 23]])"
      ]
     },
     "execution_count": 241,
     "metadata": {},
     "output_type": "execute_result"
    }
   ],
   "source": [
    "an_array = np.array([[11,12,13,14], [21,22,23,24], [31,32,33,34]])\n",
    "print(an_array, '\\n')\n",
    "a_slice = an_array[:2, 1:3]  # this selects row 0,1 and col 1,2\n",
    "a_slice"
   ]
  },
  {
   "cell_type": "code",
   "execution_count": 242,
   "metadata": {},
   "outputs": [
    {
     "data": {
      "text/plain": [
       "array([31, 32, 33, 34])"
      ]
     },
     "execution_count": 242,
     "metadata": {},
     "output_type": "execute_result"
    }
   ],
   "source": [
    "an_array[2,:]"
   ]
  },
  {
   "cell_type": "code",
   "execution_count": 243,
   "metadata": {},
   "outputs": [
    {
     "data": {
      "text/plain": [
       "array([[11, 12, 13, 14],\n",
       "       [21, 22, 55, 24],\n",
       "       [31, 32, 33, 34]])"
      ]
     },
     "execution_count": 243,
     "metadata": {},
     "output_type": "execute_result"
    }
   ],
   "source": [
    "a_slice[1,1] = 55\n",
    "an_array # changes the original array"
   ]
  },
  {
   "cell_type": "code",
   "execution_count": 244,
   "metadata": {},
   "outputs": [
    {
     "name": "stdout",
     "output_type": "stream",
     "text": [
      "[[12 13]\n",
      " [22 55]] \n",
      "\n",
      "[[11 12 13 14]\n",
      " [21 22 55 24]\n",
      " [31 32 33 34]]\n"
     ]
    }
   ],
   "source": [
    "# to make a copy while slicing use below, so the modifications are limited to the copy only.\n",
    "slice = np.array(an_array[:2, 1:3])\n",
    "print(slice, '\\n')\n",
    "slice[1,1] = 23 # this will not modify the parent copy.\n",
    "print(an_array)"
   ]
  },
  {
   "cell_type": "code",
   "execution_count": 245,
   "metadata": {},
   "outputs": [
    {
     "data": {
      "text/plain": [
       "array([32, 33, 22])"
      ]
     },
     "execution_count": 245,
     "metadata": {},
     "output_type": "execute_result"
    }
   ],
   "source": [
    "# You can access the multiple elements of an array by proving a list ndarray[[row list], [col list]]\n",
    "# this will give you a one dimensional array of picked elements.\n",
    "an_array[[2,2,1], [1,2,1]]\n",
    "# You can manipulate them as well"
   ]
  },
  {
   "cell_type": "code",
   "execution_count": 246,
   "metadata": {},
   "outputs": [
    {
     "data": {
      "text/plain": [
       "array([22, 55, 24, 31, 32, 33, 34])"
      ]
     },
     "execution_count": 246,
     "metadata": {},
     "output_type": "execute_result"
    }
   ],
   "source": [
    "# We can use conditional slicing to access and manipulate relevant data in ndarrays based on our condition\n",
    "an_array[an_array > 21]"
   ]
  },
  {
   "cell_type": "code",
   "execution_count": 247,
   "metadata": {},
   "outputs": [
    {
     "data": {
      "text/plain": [
       "array([[ 11, 112,  13, 114],\n",
       "       [ 21, 122,  55, 124],\n",
       "       [ 31, 132,  33, 134]])"
      ]
     },
     "execution_count": 247,
     "metadata": {},
     "output_type": "execute_result"
    }
   ],
   "source": [
    "# What is particularly useful is that we can actually change elements in the array applying a similar logical filter. \n",
    "# Let's add 100 to all the even values.\n",
    "an_array[an_array % 2 == 0] += 100\n",
    "an_array"
   ]
  },
  {
   "cell_type": "code",
   "execution_count": 248,
   "metadata": {},
   "outputs": [
    {
     "data": {
      "text/plain": [
       "array([[ 11, 112,  13, 114],\n",
       "       [ 21, 122,  55, 124],\n",
       "       [ 31, 132,  33, 134]])"
      ]
     },
     "execution_count": 248,
     "metadata": {},
     "output_type": "execute_result"
    }
   ],
   "source": [
    "an_array #"
   ]
  },
  {
   "cell_type": "code",
   "execution_count": null,
   "metadata": {},
   "outputs": [],
   "source": []
  }
 ],
 "metadata": {
  "kernelspec": {
   "display_name": "Python 3",
   "language": "python",
   "name": "python3"
  },
  "language_info": {
   "codemirror_mode": {
    "name": "ipython",
    "version": 3
   },
   "file_extension": ".py",
   "mimetype": "text/x-python",
   "name": "python",
   "nbconvert_exporter": "python",
   "pygments_lexer": "ipython3",
   "version": "3.8.3"
  }
 },
 "nbformat": 4,
 "nbformat_minor": 2
}
