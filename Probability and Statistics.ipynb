{
 "cells": [
  {
   "cell_type": "code",
   "execution_count": 10,
   "metadata": {},
   "outputs": [],
   "source": [
    "import numpy as np\n",
    "import pandas as pd\n",
    "import matplotlib.pyplot as plt\n",
    "# import matplotlib.venn as venn\n",
    "import seaborn as sns\n",
    "import itertools \n",
    "from math import factorial"
   ]
  },
  {
   "cell_type": "markdown",
   "metadata": {},
   "source": [
    "## Probability\n",
    "1. Lets plot the probability of filpping a coin. This eg. is probabily of flipping a coin 1000(k) times in one experient and we will repeat it 1000(n) times.\n",
    "2. Below generates a k,n matrix with values 1,-1 which represent either side of coin."
   ]
  },
  {
   "cell_type": "code",
   "execution_count": 28,
   "metadata": {},
   "outputs": [
    {
     "data": {
      "text/plain": [
       "array([[ True, False],\n",
       "       [False,  True]])"
      ]
     },
     "execution_count": 28,
     "metadata": {},
     "output_type": "execute_result"
    }
   ],
   "source": [
    "# lets generate a n*n matrix of coin flip ..logic explained below\n",
    "a =(np.random.rand(2,2)>0.5)\n",
    "a"
   ]
  },
  {
   "cell_type": "code",
   "execution_count": 29,
   "metadata": {},
   "outputs": [
    {
     "data": {
      "text/plain": [
       "array([[2, 0],\n",
       "       [0, 2]])"
      ]
     },
     "execution_count": 29,
     "metadata": {},
     "output_type": "execute_result"
    }
   ],
   "source": [
    "2*a"
   ]
  },
  {
   "cell_type": "code",
   "execution_count": 32,
   "metadata": {},
   "outputs": [
    {
     "data": {
      "text/plain": [
       "array([[ 1, -1],\n",
       "       [-1,  1]])"
      ]
     },
     "execution_count": 32,
     "metadata": {},
     "output_type": "execute_result"
    }
   ],
   "source": [
    "a_matrix = (2*a)-1\n",
    "a_matrix"
   ]
  },
  {
   "cell_type": "code",
   "execution_count": 33,
   "metadata": {},
   "outputs": [
    {
     "data": {
      "text/plain": [
       "array([0, 0])"
      ]
     },
     "execution_count": 33,
     "metadata": {},
     "output_type": "execute_result"
    }
   ],
   "source": [
    "np.sum(a_matrix,axis=0)"
   ]
  },
  {
   "cell_type": "code",
   "execution_count": 48,
   "metadata": {},
   "outputs": [
    {
     "name": "stdout",
     "output_type": "stream",
     "text": [
      "[[-1 -1  1 ...  1 -1  1]\n",
      " [-1  1  1 ...  1  1 -1]\n",
      " [ 1 -1  1 ...  1  1  1]\n",
      " ...\n",
      " [-1  1  1 ...  1 -1  1]\n",
      " [-1 -1 -1 ...  1  1 -1]\n",
      " [-1  1 -1 ... -1  1 -1]]\n"
     ]
    },
    {
     "data": {
      "text/plain": [
       "882"
      ]
     },
     "execution_count": 48,
     "metadata": {},
     "output_type": "execute_result"
    }
   ],
   "source": [
    "X=2*(np.random.rand(1000,1000)>0.5)-1\n",
    "print(X)\n",
    "S=np.sum(X, axis=0)\n",
    "# S\n"
   ]
  },
  {
   "cell_type": "markdown",
   "metadata": {},
   "source": [
    "1. Since the probabilty of occurance of 1(heads) and -1(tails) is 1/2. When we sum across each row(with 1000 times coinf flip) we should get a value nearing to 0.\n",
    "2. Lets do this 1000 times and plot a histogram. The below histogram shows that teh sum is nearing to 0 like 500 of the times and other times they are near to zero but with some error."
   ]
  },
  {
   "cell_type": "code",
   "execution_count": 56,
   "metadata": {},
   "outputs": [
    {
     "data": {
      "image/png": "[encoded data removed]",
      "text/plain": [
       "<Figure size 720x288 with 1 Axes>"
      ]
     },
     "metadata": {
      "needs_background": "light"
     },
     "output_type": "display_data"
    }
   ],
   "source": [
    "plt.figure(figsize=[10,4])\n",
    "plt.hist(S)\n",
    "plt.xlim([-250,250])\n",
    "plt.xlabel(\"sum\")\n",
    "plt.ylabel(\"count\")\n",
    "plt.grid()"
   ]
  },
  {
   "cell_type": "markdown",
   "metadata": {},
   "source": [
    "1. Monte-Carlo Simulation: Monte Carlo methods, or Monte Carlo experiments, are a broad class of computational algorithms that rely on repeated random sampling to obtain numerical results. Monte Carlo methods are mainly used in three problem classes optimization, numerical integration, and generating draws from a probability distribution.\n",
    "2. Look at the notebook on Course: Probability and stats topic1 - The-Three-card-Puzzle.ipynb"
   ]
  },
  {
   "cell_type": "markdown",
   "metadata": {},
   "source": [
    "1. There are two parts to probability and statistics.\n",
    "    * Repeated game of chance - Here comes the frequentist statistics - This involves Hypothesis Testing and P-values.\n",
    "    * Strength of evidence and degree of belief - Here comes the Bayesian statistics\n",
    "    \n",
    "2. Machine Learning uses both the ways.\n",
    "<img src=\"images/image47.png\"/>"
   ]
  },
  {
   "cell_type": "markdown",
   "metadata": {},
   "source": [
    "### Sets\n",
    "1. Sets are basically grouping of elements:\n",
    "<img src=\"images/image48.png\" align=\"middle\" style=\"width:400px;height:400p\" />\n",
    "2. Membership:\n",
    "<img src=\"images/image49.png\" align=\"middle\" style=\"width:400px;height:400p\" />\n",
    "2. The order of elements does not matter. {0,1}=={1,0}\n",
    "3. Repetition is allowed {0,1,1,1}\n",
    "4. If order matters thne we write(0,1)~=(1,0)"
   ]
  },
  {
   "cell_type": "code",
   "execution_count": 147,
   "metadata": {},
   "outputs": [
    {
     "name": "stdout",
     "output_type": "stream",
     "text": [
      "-5 9\n"
     ]
    }
   ],
   "source": [
    "# set in python\n",
    "set1 = {1,2}\n",
    "set2 = set({1,2}) # same as above\n",
    "set3 = set({}) # empty set.. \n",
    "set4 = {} # this is not a empty set, its a dict\n",
    "1 in set1 # use 'in' and 'not in' to test the membership\n",
    "not set3 # test if the set is empty.\n",
    "len(set2) # size of a set |set2|\n",
    "NewSet = {-2,-5,9,2, 1, 3}\n",
    "print(min(NewSet),max(NewSet))"
   ]
  },
  {
   "cell_type": "markdown",
   "metadata": {},
   "source": [
    "## conti..\n",
    "<img src=\"images/image51.png\" align=\"middle\" style=\"width:400px;height:400p\" />"
   ]
  },
  {
   "cell_type": "markdown",
   "metadata": {},
   "source": [
    "### Common notations:\n",
    "1. Here are some common notations\n",
    "<img src=\"images/image50.png\" align=\"middle\" style=\"width:400px;height:400p\" />"
   ]
  },
  {
   "cell_type": "markdown",
   "metadata": {},
   "source": [
    "### Venn Diagram:\n",
    "1. Venn Diagram is a way of representing and analysing sets.\n",
    "<img src=\"images/image52.png\" align=\"middle\" style=\"width:400px;height:400p\" />\n",
    "2. We can plot venn diagram using python matplotlib_venn"
   ]
  },
  {
   "cell_type": "code",
   "execution_count": 148,
   "metadata": {},
   "outputs": [
    {
     "data": {
      "image/png": "[encoded data removed]",
      "text/plain": [
       "<Figure size 432x288 with 1 Axes>"
      ]
     },
     "metadata": {},
     "output_type": "display_data"
    }
   ],
   "source": [
    "S={1,2,3}\n",
    "T={0,2,-1,5}\n",
    "venn.venn2([S,T], set_labels=('S', 'T')) # venn2 states we are dealing with 2 sets use venn3 etc.\n",
    "plt.show()"
   ]
  },
  {
   "cell_type": "markdown",
   "metadata": {},
   "source": [
    "### Elements of sets must be immutable\n",
    "While in mathematics anything can be an element of a set, in Python an element has to be immutable and hashable i.e. an object with a fixed value. Immutable objects include numbers, strings and tuples."
   ]
  },
  {
   "cell_type": "code",
   "execution_count": 57,
   "metadata": {},
   "outputs": [
    {
     "data": {
      "text/plain": [
       "{(1, 2), (1, 3), (3, 1)}"
      ]
     },
     "execution_count": 57,
     "metadata": {},
     "output_type": "execute_result"
    }
   ],
   "source": [
    "#elements can be tuples\n",
    "set([(1,2),(1,3),(3,1)])\n",
    "# but cannot be lists\n",
    "#set([[1,2],[1,3],[3,1]])"
   ]
  },
  {
   "cell_type": "markdown",
   "metadata": {},
   "source": [
    "#### Operations on sets\n",
    "Python defines many operations on sets. Most operations come in two forms: as a method, and as an overload of mathematical operators."
   ]
  },
  {
   "cell_type": "code",
   "execution_count": 58,
   "metadata": {},
   "outputs": [
    {
     "data": {
      "text/plain": [
       "({0, 1, 2}, {0, 2, 4}, {0, 1, 2, 3, 4, 5}, {-2, -1}, {-2, -1})"
      ]
     },
     "execution_count": 58,
     "metadata": {},
     "output_type": "execute_result"
    }
   ],
   "source": [
    "A=set(range(0,3)) # all integers between 0 and 2\n",
    "B=set(range(0,6,2)) # even integers between 0 and 6\n",
    "C=set(range(0,6))   # all integers between 0 and 5\n",
    "D=set({-1,-2})\n",
    "E=set({-1,-2,-1})\n",
    "A,B,C,D,E"
   ]
  },
  {
   "cell_type": "code",
   "execution_count": 59,
   "metadata": {},
   "outputs": [
    {
     "data": {
      "text/plain": [
       "{6, 7, 9}"
      ]
     },
     "execution_count": 59,
     "metadata": {},
     "output_type": "execute_result"
    }
   ],
   "source": [
    "# upadte, delete, pop a element\n",
    "A = {1, 2, 9, 6, 7}\n",
    "A.update({4}) # adds 4\n",
    "A.remove(2) # removes 2 if not present throws error\n",
    "A.discard(1) # removes 1 if present\n",
    "A.discard(5) # removes 5 if present else no error\n",
    "A.pop() # pops first elelemt in the set \n",
    "sorted(A)\n",
    "A"
   ]
  },
  {
   "cell_type": "code",
   "execution_count": 60,
   "metadata": {},
   "outputs": [
    {
     "data": {
      "text/plain": [
       "(False, False, True)"
      ]
     },
     "execution_count": 60,
     "metadata": {},
     "output_type": "execute_result"
    }
   ],
   "source": [
    "## Checking if an element is in a set:\n",
    "1 in A, 1 in B, 3 not in B"
   ]
  },
  {
   "cell_type": "code",
   "execution_count": 63,
   "metadata": {},
   "outputs": [
    {
     "data": {
      "text/plain": [
       "({6, 7, 9}, {0, 2, 4}, {0, 1, 2, 3, 4, 5}, {-2, -1}, {-2, -1})"
      ]
     },
     "execution_count": 63,
     "metadata": {},
     "output_type": "execute_result"
    }
   ],
   "source": [
    "A,B,C,D,E"
   ]
  },
  {
   "cell_type": "code",
   "execution_count": 64,
   "metadata": {},
   "outputs": [
    {
     "data": {
      "text/plain": [
       "True"
      ]
     },
     "execution_count": 64,
     "metadata": {},
     "output_type": "execute_result"
    }
   ],
   "source": [
    "## equality\n",
    "A == B #False\n",
    "A == C # False\n",
    "D == E # True"
   ]
  },
  {
   "cell_type": "code",
   "execution_count": 65,
   "metadata": {},
   "outputs": [
    {
     "data": {
      "text/plain": [
       "(False, False)"
      ]
     },
     "execution_count": 65,
     "metadata": {},
     "output_type": "execute_result"
    }
   ],
   "source": [
    "# when all elements of A are in B we call A is a subset of B\n",
    "# Strict subset is one where A is a subset of B but A is not equal to B\n",
    "A.issubset(C), A<=C\n",
    "# A<C # True A is strict subset of C"
   ]
  },
  {
   "cell_type": "code",
   "execution_count": 66,
   "metadata": {},
   "outputs": [
    {
     "data": {
      "text/plain": [
       "(False, False)"
      ]
     },
     "execution_count": 66,
     "metadata": {},
     "output_type": "execute_result"
    }
   ],
   "source": [
    "# if C contains all the elements of B then, we call C as a superset of B\n",
    "C.issuperset(B),C>=B\n",
    "C.issuperset(A),C>=A\n",
    "#C>B # true, C is a strict superset of C, which means C contains all the elements of B but C != B"
   ]
  },
  {
   "cell_type": "code",
   "execution_count": 67,
   "metadata": {},
   "outputs": [
    {
     "data": {
      "text/plain": [
       "True"
      ]
     },
     "execution_count": 67,
     "metadata": {},
     "output_type": "execute_result"
    }
   ],
   "source": [
    "# two sets are said to be disjoint sets if they have no element in common.\n",
    "C.isdisjoint(A) # False\n",
    "D.isdisjoint(A)"
   ]
  },
  {
   "cell_type": "code",
   "execution_count": 71,
   "metadata": {},
   "outputs": [
    {
     "data": {
      "text/plain": [
       "({0, 1, 2}, {0, 2, 4}, {0, 1, 2, 3, 4, 5}, {-2, -1}, {-2, -1})"
      ]
     },
     "execution_count": 71,
     "metadata": {},
     "output_type": "execute_result"
    }
   ],
   "source": [
    "A=set(range(0,3)) # all integers between 0 and 2\n",
    "B=set(range(0,6,2)) # even integers between 0 and 6\n",
    "C=set(range(0,6))   # all integers between 0 and 5\n",
    "D=set({-1,-2})\n",
    "E=set({-1,-2,-1})\n",
    "A,B,C,D,E"
   ]
  },
  {
   "cell_type": "code",
   "execution_count": 72,
   "metadata": {},
   "outputs": [
    {
     "data": {
      "text/plain": [
       "({0, 2}, {0, 2})"
      ]
     },
     "execution_count": 72,
     "metadata": {},
     "output_type": "execute_result"
    }
   ],
   "source": [
    "# two sets are said to have a intersetcion if they have atleast one element in common.\n",
    "A.intersection(B), A&B # gives a set with common elements"
   ]
  },
  {
   "cell_type": "code",
   "execution_count": 73,
   "metadata": {},
   "outputs": [
    {
     "data": {
      "text/plain": [
       "({0, 1, 2, 4}, {0, 1, 2, 4})"
      ]
     },
     "execution_count": 73,
     "metadata": {},
     "output_type": "execute_result"
    }
   ],
   "source": [
    "A.union(B),A | B"
   ]
  },
  {
   "cell_type": "code",
   "execution_count": 74,
   "metadata": {},
   "outputs": [
    {
     "data": {
      "text/plain": [
       "({1}, {1})"
      ]
     },
     "execution_count": 74,
     "metadata": {},
     "output_type": "execute_result"
    }
   ],
   "source": [
    "# The difference between A and B contains all elements that are in A but not in B\n",
    "A.difference(B), A-B"
   ]
  },
  {
   "cell_type": "code",
   "execution_count": 75,
   "metadata": {},
   "outputs": [
    {
     "data": {
      "text/plain": [
       "({1, 4}, {1, 4})"
      ]
     },
     "execution_count": 75,
     "metadata": {},
     "output_type": "execute_result"
    }
   ],
   "source": [
    "# The symetric difference contains all elements that are in one of the two sets, but not in both\n",
    "A.symmetric_difference(B), A^B"
   ]
  },
  {
   "cell_type": "code",
   "execution_count": 76,
   "metadata": {},
   "outputs": [
    {
     "data": {
      "text/plain": [
       "{1, 2}"
      ]
     },
     "execution_count": 76,
     "metadata": {},
     "output_type": "execute_result"
    }
   ],
   "source": [
    "a={1,2}\n",
    "b={3,4}\n",
    "a-b"
   ]
  },
  {
   "cell_type": "code",
   "execution_count": 152,
   "metadata": {},
   "outputs": [
    {
     "data": {
      "text/plain": [
       "{('a', 1), ('a', 2), ('b', 1), ('b', 2), ('c', 1), ('c', 2)}"
      ]
     },
     "execution_count": 152,
     "metadata": {},
     "output_type": "execute_result"
    }
   ],
   "source": [
    "# Cartesian Product\n",
    "#the product of two sets: the product of set X and set Y is the set that contains all ordered pairs ( x, y ) \n",
    "#for which x belongs to X and y belongs to Y.\n",
    "A=set(['a','b','c'])\n",
    "B=set([1,2])\n",
    "C=set()\n",
    "for x in A:\n",
    "    for y in B:\n",
    "        C.add((x,y))\n",
    "C"
   ]
  },
  {
   "cell_type": "code",
   "execution_count": 154,
   "metadata": {},
   "outputs": [
    {
     "data": {
      "text/plain": [
       "{('a', 1), ('a', 2), ('b', 1), ('b', 2), ('c', 1), ('c', 2)}"
      ]
     },
     "execution_count": 154,
     "metadata": {},
     "output_type": "execute_result"
    }
   ],
   "source": [
    "# using product from itertool\n",
    "C = set()\n",
    "for i in product(A,B):\n",
    "    C.update({i})\n",
    "C"
   ]
  },
  {
   "cell_type": "markdown",
   "metadata": {},
   "source": [
    "### Counting the set elements or size $|S|$ of sets"
   ]
  },
  {
   "cell_type": "code",
   "execution_count": 121,
   "metadata": {},
   "outputs": [
    {
     "name": "stdout",
     "output_type": "stream",
     "text": [
      "2 2\n"
     ]
    },
    {
     "data": {
      "text/plain": [
       "4"
      ]
     },
     "execution_count": 121,
     "metadata": {},
     "output_type": "execute_result"
    }
   ],
   "source": [
    "# counting sets\n",
    "# Disjoint Union: A Union of 2 sets which are disjoint to each other is called as disjoint union.\n",
    "# And their len is equal to the sum of each sets len\n",
    "A = {1, 2}\n",
    "B = {3, 5}\n",
    "print(len(A),len(B))\n",
    "C=A|B\n",
    "len(C)"
   ]
  },
  {
   "cell_type": "code",
   "execution_count": 122,
   "metadata": {},
   "outputs": [
    {
     "name": "stdout",
     "output_type": "stream",
     "text": [
      "3 3\n"
     ]
    }
   ],
   "source": [
    "A = {1, 2, 3}\n",
    "B = {1, 3, 5}\n",
    "print(len(A),len(B))"
   ]
  },
  {
   "cell_type": "code",
   "execution_count": 123,
   "metadata": {},
   "outputs": [
    {
     "name": "stdout",
     "output_type": "stream",
     "text": [
      "{1, 3} \n",
      " 2\n"
     ]
    }
   ],
   "source": [
    "# Intersection\n",
    "C = A & B\n",
    "print(C, \"\\n\", len(C))"
   ]
  },
  {
   "cell_type": "code",
   "execution_count": 124,
   "metadata": {},
   "outputs": [
    {
     "name": "stdout",
     "output_type": "stream",
     "text": [
      "{2} \n",
      " 1\n"
     ]
    }
   ],
   "source": [
    "# Difference\n",
    "E = A-B\n",
    "print(E, \"\\n\", len(E))"
   ]
  },
  {
   "cell_type": "code",
   "execution_count": null,
   "metadata": {},
   "outputs": [],
   "source": [
    "# Union\n",
    "D = A | B\n",
    "print(D, \"\\n\", len(D) ,\"\\n\", len(A)+len(B)-len(C))"
   ]
  },
  {
   "cell_type": "markdown",
   "metadata": {},
   "source": [
    "## Cartesian Products\n",
    "\n",
    "We'll find the cartesian product of two sets $A$ and $B$ and determine size $|A\\times B|$ is simply multiplying size $|A|$ by size $|B|$"
   ]
  },
  {
   "cell_type": "code",
   "execution_count": 155,
   "metadata": {},
   "outputs": [
    {
     "name": "stdout",
     "output_type": "stream",
     "text": [
      "6\n",
      "6\n"
     ]
    }
   ],
   "source": [
    "C = set()\n",
    "for i in product(A,B):\n",
    "    C.update({i})\n",
    "print(len(C))\n",
    "print(len(A)*len(B))"
   ]
  },
  {
   "cell_type": "markdown",
   "metadata": {},
   "source": [
    "### Cartesian Power\n",
    "We determine the size of $A^k$, the $k$-th cartesian power of $A$ in two ways: calculating $A^k$ and its size, and then via the formula $|A|^k$."
   ]
  },
  {
   "cell_type": "code",
   "execution_count": 128,
   "metadata": {},
   "outputs": [
    {
     "name": "stdout",
     "output_type": "stream",
     "text": [
      "{(3, 2), (3, 1), (1, 1), (2, 3), (3, 3), (1, 3), (1, 2), (2, 2), (2, 1)}\n",
      "9\n",
      "9\n"
     ]
    }
   ],
   "source": [
    "A = {1, 2, 3}\n",
    "k = 2\n",
    "\n",
    "C = set(product(A, repeat=k))\n",
    "print(C)\n",
    "print(len(C))\n",
    "# Find |A|^k directly\n",
    "print(len(A)**k)"
   ]
  },
  {
   "cell_type": "code",
   "execution_count": 137,
   "metadata": {},
   "outputs": [
    {
     "data": {
      "text/plain": [
       "10000"
      ]
     },
     "execution_count": 137,
     "metadata": {},
     "output_type": "execute_result"
    }
   ],
   "source": [
    "# Example how many 4 digit pin can be made with real number set\n",
    "A = set(range(10)) # |D^4| read it as length of \n",
    "len(A)**4 # 10,000 4 digit pins can be made with real interger number set"
   ]
  },
  {
   "cell_type": "code",
   "execution_count": 138,
   "metadata": {},
   "outputs": [
    {
     "data": {
      "text/plain": [
       "111000"
      ]
     },
     "execution_count": 138,
     "metadata": {},
     "output_type": "execute_result"
    }
   ],
   "source": [
    "# Example how many 4 ,3 and 5digit pin can be made with real number set\n",
    "A = set(range(10))\n",
    "# |D^3| U |D^4| U |D^5|\n",
    "len(A)**3 + len(A)**4 +len(A)**5"
   ]
  },
  {
   "cell_type": "markdown",
   "metadata": {},
   "source": [
    "### Combinatorics! - \n",
    "1. VVV imp must go through - https://www.mathsisfun.com/combinatorics/combinations-permutations.html\n",
    "2. complex explanation - https://www.statisticshowto.com/probability-and-statistics/probability-main-index/permutation-combination-formula/\n",
    "1. __Combinations__: If you don’t care what order you have things, it’s a combination.   \n",
    "    a.  __Repetition__:Too complex go thourght the website.  \n",
    "    b.  __No Repetition__:where n is the number of things to choose from, and we choose r of them. We often say \"n choose r\"\n",
    "     \\begin{equation*}\\frac{n!}{r!(n-r)!}\\end{equation*}\n",
    "2. __Permutations__: If you do care about order, it’s a permutation.  \n",
    "    a. __Repetition__: where n is the number of things to choose from, and we choose r of them. \n",
    "    \\begin{equation*}{n^r}\\end{equation*}  \n",
    "    Ex: Fair coin toss 3 times, how many permutations are possible. So 2^3 = 8 differet ways. Fair coin toss 2 times, how many permutations are possible. 2^2 = 4(HT,HH,TH,TT).  \n",
    "    b. __No Repetition__: where n is the number of things to choose from, and we choose r of them\n",
    "     \\begin{equation*}\\frac{n!}{(n-r)!}\\end{equation*}  \n",
    "     Ex: Fair coin toss 2 times, how many permutations without repetition are possible. 2! / (2-2)! = 2(HT,TH).  \n",
    "     Another simple mutation of this formula is How many ways n items can be arranged with itself (No repetition). Formula is n!. Say different positions 5 kids can be arranged is 5!.  \n",
    "     c. __Arranging is Permutation__:If the problem is how many different ways can 'n' items be arranged. Its nPn = n!. Say 'abc' can be arranged in 3!=6 ways. But if there are x=2 repetitions, say 'aab' can be arranged in nPn/x! = 3!/2!  = 3. https://www.ck12.org/probability/permutations-with-repetition/lesson/Permutations-with-Repetition-BSC-PST/\n",
    "3. Permutation or Combination or Both : Given a probability problem you will have to determine what formula to use. Ask your self these questions:\n",
    "    1. Have you been given say n items and you will have to choose r out of it OR you have say r items to put in n boxes(you can put only one item per box). Then its a combination problem so use combination formula. (Since you are choosing objects once choosen you cannot choose again so no repitition combination formula).  \n",
    "    2. If order in the experient matters. Then its a permutation. Permutation is the act of arranging the members of a set into a sequence or order. SO if the problem is like how many ways can we arrange then its a permutation.\n",
    "    3. There are situation where you will have to use both. \n",
    "        "
   ]
  },
  {
   "cell_type": "markdown",
   "metadata": {},
   "source": [
    "<img src=\"images/image53.png\" align=\"middle\" style=\"width:400px;height:400p\" />\n",
    "    "
   ]
  },
  {
   "cell_type": "markdown",
   "metadata": {},
   "source": [
    "####  The itertools library that contains several combinatorial functions generating Cartesian products, permutations, and combinations."
   ]
  },
  {
   "cell_type": "code",
   "execution_count": 162,
   "metadata": {},
   "outputs": [],
   "source": [
    "# using python function\n",
    "def permute(A):\n",
    "    if len(A)==1:\n",
    "        return [tuple(A)]\n",
    "    permutations = []\n",
    "    for x in A:\n",
    "        for y in permute(A-{x}):\n",
    "            permutations.append((x,)+y)\n",
    "    return permutations"
   ]
  },
  {
   "cell_type": "code",
   "execution_count": 172,
   "metadata": {},
   "outputs": [
    {
     "name": "stdout",
     "output_type": "stream",
     "text": [
      "Permutations of {1, 2, 3}: {(3, 1, 2), (3, 2, 1), (2, 3, 1), (1, 2, 3), (1, 3, 2), (2, 1, 3)}\n",
      "Number of permutations: 6 .. 6 using fofactorial \n"
     ]
    }
   ],
   "source": [
    "# Find all permutations of A and |A!|\n",
    "A={1,2,3}\n",
    "#permute_all = set(permute(A)) # using python function\n",
    "permute_all = set(itertools.permutations(A))\n",
    "print(\"Permutations of {}: {}\".format(A,permute_all))\n",
    "print(\"Number of permutations: {} .. {} using fofactorial \".format(len(permute_all), int(factorial(len(A)))))"
   ]
  },
  {
   "cell_type": "markdown",
   "metadata": {},
   "source": [
    "### $\\frac{|A|!}{(|A|-k)!}$.\n",
    "<img src=\"images/image54.png\" align=\"middle\" style=\"width:400px;height:400p\" />"
   ]
  },
  {
   "cell_type": "code",
   "execution_count": 175,
   "metadata": {},
   "outputs": [
    {
     "name": "stdout",
     "output_type": "stream",
     "text": [
      "2-permutations of {1, 2, 3}: [(1, 2), (1, 3), (2, 1), (2, 3), (3, 1), (3, 2)]\n",
      "Size =  = 6\n"
     ]
    }
   ],
   "source": [
    "# Print all the k-permutations of A\n",
    "A = {1, 2, 3}\n",
    "k = 2\n",
    "permute_k = list(itertools.permutations(A, k))\n",
    "print(\"{}-permutations of {}: {}\".format(k,A,permute_k))\n",
    "print(\"Size =  = {}\".format(len(permute_k)))"
   ]
  },
  {
   "cell_type": "code",
   "execution_count": 177,
   "metadata": {},
   "outputs": [
    {
     "name": "stdout",
     "output_type": "stream",
     "text": [
      "Size = 3!/(3-2)!=6\n"
     ]
    }
   ],
   "source": [
    "# Print |A|!/(|A|-k)! directly\n",
    "n = len(A)\n",
    "print(\"Size = {}!/({}-{})!={}\".format(n,n,k,int(factorial(len(A))/factorial(len(A)-k))))"
   ]
  },
  {
   "cell_type": "markdown",
   "metadata": {},
   "source": [
    "### Probability in Deep"
   ]
  },
  {
   "cell_type": "markdown",
   "metadata": {},
   "source": [
    "<img src=\"images/image56.png\" align=\"middle\" style=\"width:400px;height:400p\" />  \n",
    "1. Two type of Sample Space: Finite sample space are called as discrete e.g coin flip. Uncountable infnite sample space called as continuous sample.e.g temperatue, salary\n",
    "2. __Probability__ : The probability or likelihood, of and outcome x, denoted by P(x) or P(X=x), is the fraction of times x will occur when experiment is repeated many times. Like in coin flip P(h) = 1/2 = P(t) and in dice P(1)=P(2)=1/6\n",
    "3. Sum of all propability in a experient is '1'.\n",
    "3. Probability distribution: A probability distribution is a list of all of the possible outcomes of a random variable along with their corresponding probability values. Types:\n",
    "    a. Uniform Distribution: All outcomes are equally likely to occur P(h) = 1/2 = P(t)\n",
    "    b. Non-uniform distribution: All outcomes have different probability, but they sum to 1.e.g P(rain) = 10% and p(no rain)=90%\n",
    "4. If there is single outcome in a experient, its simple. If the outcome is a set{} we call it as event. So set of possible outcomes is called as events. e.g In a die the probability of getting a even number {2,4,6} is called as a Even Event.\n",
    "    a. Probability of an Event is the sum of probability of their elements. \n",
    "    So P(even) = P(2) + P(4) + P(6) = 3(1/6) = 3/6 = 0.5"
   ]
  },
  {
   "cell_type": "markdown",
   "metadata": {},
   "source": [
    "### Conditional Probability:\n",
    "1. Conditional probability is the probability of one event occurring with some relationship to one or more other events. \n",
    "   E,F --> are events\n",
    "   P(F|E) = Prob that F happens given that E happened. Read it as prob of F given E\n",
    "   E.g in a Die P(4|>=3) --> Read it 'probability of 4 given that the outcome number is greater than or equal to 3 is'\n",
    "   which is P(4|{3,4,5,6}) = 1/4"
   ]
  },
  {
   "cell_type": "markdown",
   "metadata": {},
   "source": [
    "### Bayes' Theorem: \n",
    "1. Its mathemamatical equation states that:\n",
    "    P(A|B) = $\\frac{P(B|A)*P(A)}{P(B)}$"
   ]
  },
  {
   "cell_type": "markdown",
   "metadata": {},
   "source": [
    "## PDF - > Probability Distribution Function:\n",
    "1. In probability theory, a probability density function (PDF), or density of a continuous random variable, is a function that describes the relative livelihood for this random variable to take on a given value. The probability shown on the Normal distribution curve is the PDF. That a element in dataset has 50% chances of falling within 1std given the distribution is normal.\n",
    "<img src=\"images/image74.png\"/>\n",
    "2. In a more precise sense, the PDF is used to specify the probability of the random variable falling within a particular range of values, as opposed to taking on any one value.\n",
    "3. This probability is given by the integral of this variable's PDF over that range—that is, it is given by the area under the density function but above the horizontal axis and between the lowest and greatest values of the range. The probability density function is nonnegative everywhere, and its integral over the entire space is equal to 1.\n",
    "4. PDF is for continuous random variable and Probability Mass Function(PMF) is for discrete function\n",
    "2. https://www.tutorialspoint.com/statistics/probability_density_function.htm\n",
    "3. https://towardsdatascience.com/understanding-boxplots-5e2df7bcbd51\n",
    "4. https://en.wikipedia.org/wiki/Probability_density_function"
   ]
  },
  {
   "cell_type": "markdown",
   "metadata": {},
   "source": [
    "## CDF -> Cumulative Distribution Function:\n",
    "1. The cumulative distribution function (cdf) is the probability that the variable takes a value less than or equal to x. That is. F(x) = Pr[X \\le x]\n",
    "2. CDF graph always lies between 0 and 1.\n",
    "3. Main application of CDF is that, it will give you the percentile(on y-axis) for any value on x-axis, since it is cumulative. Also as the CDF lies between 0 and 1 it gives the percentile for x-axis value.\n",
    "4. Difference between PDF and CDF:\n",
    "    * PDF →( probability density function)  \n",
    "      CDF → (Cumulative density function)  \n",
    "      Probability looks at probability at one point.  \n",
    "      Cumulative is the total probability of anything below it.\n",
    "      "
   ]
  },
  {
   "cell_type": "code",
   "execution_count": 11,
   "metadata": {},
   "outputs": [
    {
     "data": {
      "image/png": "[encoded data removed]",
      "text/plain": [
       "<Figure size 432x288 with 1 Axes>"
      ]
     },
     "metadata": {
      "needs_background": "light"
     },
     "output_type": "display_data"
    }
   ],
   "source": [
    "df = pd.read_csv('https://raw.githubusercontent.com/uiuc-cse/data-fa14/gh-pages/data/iris.csv')\n",
    "data = df.groupby('species')\n",
    "sns.distplot(data.get_group('setosa')['petal_length'], label=\"setosa\")\n",
    "kwargs = {'cumulative': True}\n",
    "sns.distplot(data.get_group('setosa')['petal_length'], hist_kws=kwargs, kde_kws=kwargs)\n",
    "plt.legend()\n",
    "plt.grid()\n",
    "\n",
    "# With the below CDF(orange) graph we can say that 80% of setosa flower have petal length <=1.6"
   ]
  },
  {
   "cell_type": "markdown",
   "metadata": {},
   "source": [
    "## Skewness: Skewness  is  defined  as  a  measure  of  the  dataset’s symmetry.   A perfectly symmetrical data set will have zero skewness. \n",
    "<img src=\"images/image75.png\"/>"
   ]
  },
  {
   "cell_type": "markdown",
   "metadata": {},
   "source": [
    "## Statistics\n",
    "https://www.statisticshowto.com/probability-and-statistics/\n",
    "https://statistics.laerd.com/features-overview.php - Probabaly take this course if you want)"
   ]
  },
  {
   "cell_type": "markdown",
   "metadata": {},
   "source": [
    "1.__Statistics__:It is the science of conducting studies to collect, organize, summarize, analyze, and draw a conclusion out of data. Types\n",
    "    1. __Descriptive Statistics__: Descriptive statistics is the term given to the analysis of data that helps describe, show or summarize data in a meaningful way such that, for example, patterns might emerge from the data. Descriptive statistics do not, however, allow us to make conclusions beyond the data we have analysed or reach conclusions regarding any hypotheses we might have made. They are simply a way to describe our data.Descriptive statistics are applied to populations, and the properties of populations, like the mean or standard deviation, are called parameters as they represent the whole population (i.e., everybody you are interested in).\n",
    "    2. __Inferential Statistics__:Inferential statistics are techniques that allow us to use these samples to make generalizations about the populations from which the samples were drawn. It is, therefore, important that the sample accurately represents the population. The process of achieving this is called sampling. Inferential statistics arise out of the fact that sampling naturally incurs sampling error and thus a sample is not expected to perfectly represent the population. The methods of inferential statistics are (1) the estimation of parameter(s) and (2) testing of statistical hypotheses.\n",
    "2. __Popultaion__: A population can be small or large, as long as it includes all the data you are interested in. For example, if you were only interested in the exam marks of 100 students, the 100 students would represent your population.\n",
    "3. __Sample__: It is not feasible to measure all exam marks of all students in the whole of the UK so you have to measure a smaller sample of students (e.g., 100 students), which are used to represent the larger population of all UK students. Properties of samples, such as the mean or standard deviation, are not called parameters, but statistics.\n",
    "4. When you are working with the entire population and doing analysis its called descriptive statistics. When you work on a sample data and trying to analyse and draw conculsions you are doing Inferencial statstics.\n",
    "5. Just FYI : IBM SPSS Statistics is a software package used for interactive, or batched, statistical analysis. Used in machine learning. Long produced by SPSS Inc., it was acquired by IBM in 2009. Current versions have the brand name: IBM SPSS Statistics."
   ]
  },
  {
   "cell_type": "markdown",
   "metadata": {},
   "source": [
    "## Common Jargons:\n",
    "1. __IQR__ = An interquartile range is a measure of where the bulk of the values lie. Its measured as Q3-Q1. where Q3 is the 75% percentile and Q1 is the 25th percentile.\n",
    "2. __Outliers and How to find Outliers using IQR__: An outlier is defined as being any point of data that lies over 1.5 IQRs below the first quartile (Q1) or above the third quartile (Q3)in a data set.  \n",
    "    High = (Q3) + 1.5 IQR  \n",
    "    Low = (Q1) – 1.5 IQR  \n",
    "    https://www.statisticshowto.com/find-outliers/\n",
    "2. 5 number summary is nothing but the LOW value, Q1(25%), Median, Q3(75%) and Highest value of a dataset.\n",
    "3. __Different Sampling methods__: https://www.youtube.com/watch?v=A7fcdRhSp8k\n",
    "    1. __Random sampling RS__: But all the dataset(say people) in a hat and pick up the sample.\n",
    "    2. __Simple random sampling SRS__: Use a simple random generator to pick sample from a population. Difference between RS and SRS is that(say in a population of 100) - in RS 1st sample has 1/100th chance of getting picked ..then 2nd has 1/99th then 3rd has 1/98th. But in SRS each sample will have 1/100th of chance of getting picked because each in population is allocated a number and a computer program picks up the sample using random sample generator.\n",
    "    3. __Systematic Sampling__: Say if we need 10 sample out of a population of 100. Then we may pick every nth(say 9th or 8th element) to collect the sample this is called syatematic sampling.\n",
    "    4. __Cluster Sampling__: When you need to get a  sample out of a very big population, its very time consuming and costly affiar. Say we want a sample of 2000 students from 500 school across USA. In this kind of scenario we will say randomly select 100 schools and collect 20 students from these 200 schools. So we get 20*100 a 2000 students sample. This method is called cluster ssmpling.\n",
    "    5. __Stratified Sampling__: Here say in same example as above. We came to know that all 500 in USA schools are categorised as either sub-urban or City schools. If we do randomly select 100 schools then our samples can get over represented by one category. So in stratefied sampling we will make sure that 50-50 schools are selected.\n",
    "    6. __Sampling Error__: Errors happen when you take a sample from the population rather than using the entire population.If you were to survey the entire population (like the US Census), there would be no error.However, when you take samples at random, you estimate the error and call it the margin of error. Margin of error = 1/Sqroot(n). For example, a random sample of 1,000 has about a 1/√n; = 3.2% error.\n",
    "4. __Diffferent types of variable__:https://www.statisticshowto.com/probability-and-statistics/types-of-variables/\n",
    "    1. __Qualitative Variable__: A qualitative variable basically DESCRIBE the population element. A broad category for any variable that can’t be counted (i.e. has no numerical value). Nominal and ordinal variables fall under this umbrella term. \n",
    "        3. __Nominal variable__: another name for categorical variable, but have no order. four seasons (winter, spring, summer, autumn)\n",
    "        4. __Ordinal variable__: similar to a categorical variable, but there is a clear order. For example, rating your meal (disgusting, unappetizing, neutral, tasty, and delicious)\n",
    "    2. __Quantitative Variable__: A variable that quantifies a population element.A broad category that includes any variable that can be counted, or has a numerical value associated with it. Examples of variables that fall into this category include discrete variables and ratio variables.\n",
    "    3. __Random variables__: are associated with random processes and give numbers to outcomes of random events.\n",
    "        1. If the random variable can take only the finite number of distinct values, then it must be a discrete random variable.\n",
    "        2. If the random variable can take infinite number of distinct values, then it must be a continuous random variable.\n",
    "5. _What is the Difference Between a __Statistic and a Parameter__? A statistic and a parameter are very similar. They are both descriptions of groups, like “50% of dog owners prefer X Brand dog food.” The difference between a statistic and a parameter is that statistics describe a sample. A parameter describes an entire population.\n",
    "    "
   ]
  },
  {
   "cell_type": "markdown",
   "metadata": {},
   "source": [
    "\n",
    "1. __Random Variable__ - A random variable, usually written X, is a variable whose possible values are numerical outcomes of a random phenomenon. There are two types of random variables, discrete and continuous.\n",
    "    * __Discrete Random Variables__ - A discrete random variable is one which may take on only a countable number of distinct values such as 0,1,2,3,4. Examples of discrete random variables include the number of children in a family, the Friday night attendance at a cinema. The probability distribution of a discrete random variable is a list of probabilities associated with each of its possible values.It is also sometimes called the probability function or the probability mass function.\n",
    "    * __Continuous Random Variables__ - A continuous random variable is one which takes an infinite number of possible values. Continuous random variables are usually measurements. Examples include height, weight, the amount of sugar in an orange, the time required to run a mile."
   ]
  },
  {
   "cell_type": "markdown",
   "metadata": {},
   "source": [
    "### Measure of central tendency: In statistics, a central tendency is a central or typical values (Mean median and mode) for a probability distribution.\n",
    "1. __Mean (Meu-u)__ - The sample mean, or average, of a group of values is calculated by taking the sum of all of the values and dividing by the total number of values. In other words, for n values x1, x2, x3, ... , xn, the mean  = (x1 + x2 + x3 + ... + xn)\n",
    "2. __Median__ - The median of a group of values is the center, or midpoint, of the ordered values. The median is calculated by placing a group of values in ascending order and taking the center observation of the ordered list, such that there are an equal number of values above and below the median.\n",
    "    * When you have a big outlier in a dataset say Age = {13, 15, 35, 4, 50, 26, 32, 300}. Here you want to calculate the average age of the sample population. Then taking a mean will give you Mean = 60 which actually falsing misleading for the sample dataset because of the outlier. So its better to also consider the median which in this case is {4,13,15,26,32,35,50,300} = (26+32)/2 = 29 which will make more sense for average age in this case.\n",
    "3. __Mode__ - The mode is the most frequent score in our data set. Particularly use full for caterogical variable. Say eaxmple you want to fill up some NaN's in a pincode column, we will use mode there because Mean or Median will not make sense in this case\n",
    "4. __Quartiles__ - The first quartile of a group of values is the value such the 25% of the values fall at or below this value. The third quartile of a group of values is the value such that 75% of the values fall at or below this value. So we have first, second and third quartile Q1, Q2, Q3 respectively. The distance between the first and third quartiles is known as the Inter-Quartile Range (IQR = Q3-Q1). A useful graphical representation of a distribution including the quartiles is a boxplot."
   ]
  },
  {
   "cell_type": "markdown",
   "metadata": {},
   "source": [
    "It is important to note that just knwoing Mean is not enough. Variance is IMP too. Two sports team have same mean scores, but one has low variance(means their scores are consistant) and other have high variance (so they score really good some time and really bad other time). So the team with Low variance is better,."
   ]
  },
  {
   "cell_type": "markdown",
   "metadata": {},
   "source": [
    "## Variance and Standard Deviation: https://www.mathsisfun.com/data/standard-deviation.html\n",
    "1. __Range__: The difference between the smallest and the largest observations in the sample is called Range.\n",
    "1. __Variance__ (sigma SQ)- It is calculated as The average of the squared differences from the Mean. Informally, it measures how far a set of (random) numbers are spread out from their average value (mean).A large variance indicates a wide range of values, while a small variance indicates that the values lie close to their mean.\n",
    "2. __Standard Deviation (Sigma)__ - the standard deviation is a measure of the amount of variation or dispersion of a set of values. A low standard deviation indicates that the values tend to be close to the mean (also called the expected value) of the set, while a high standard deviation indicates that the values are spread out over a wider range. \n",
    "    SD = SquareRoot(Variance)\n",
    "    And the good thing about the Standard Deviation is that it is useful. Now we can show which heights are within one Standard Deviation (147mm) of the Mean: \n",
    "    <img src='images/image71.png' />\n",
    "\n",
    "Green line here is teh mean and 2 Blue lines are 1 standard devaition apart. So, using the Standard Deviation we have a \"standard\" way of knowing what is normal, and what is extra large or extra small.\n"
   ]
  },
  {
   "cell_type": "markdown",
   "metadata": {},
   "source": [
    "### Confidence Interval of Variance:\n",
    "1. https://www.youtube.com/watch?v=rXK1UGc58g0\n",
    "2. "
   ]
  },
  {
   "cell_type": "markdown",
   "metadata": {},
   "source": [
    "## F-ratio to Test for two variance:\n",
    "1. https://www.statisticshowto.com/probability-and-statistics/f-statistic-value-test/\n",
    "2. https://www.youtube.com/watch?v=UWQO4gX7-lE\n",
    "1. Imagine a scenario of Multiple Regression. We have 2 independent variable and want to know which one has more variance and which one to consider for traning the model.\n",
    "2. Or say we have 2 machines and we want to check to see if they are operating at the same level of variance.\n",
    "3. See the below example:\n",
    "<img src=\"images/image83.png\" style='width:300px;height:200px' />\n",
    "4. We can see that there is a variance difference. Now these are actually sample variances. So we need to figure out if the variance difference is actaully real or is it because of sampling error. So we need to know if the difference is statistically significant or its just related to sampling error.\n",
    "5. Remeber we are not comparing the sample variance to a hypothesized  variance; we are comparing variance with each other. That is done simply y a ratio called \n",
    "$ F = \\frac{\\sigma1}{\\sigma2}$ , where $\\sigma1 > \\sigma2 $\n",
    "6. This follows a special distribution called a F-distribution . Where Hypothesis testing for equality of variance  are Upper/Right tailed and not 2 tailed as in other distribution.\n",
    "<img src=\"images/image84.png\" style='width:300px;height:200px' /><img src=\"images/image85.png\" style='width:300px;height:200px' />\n",
    "7. SO we reject the NUll Hypothese that variance are equal and the difference is due to sampling error. So the difference is statistically significance.\n",
    "<img src=\"images/image86.png\" style='width:300px;height:200px' />"
   ]
  },
  {
   "cell_type": "markdown",
   "metadata": {},
   "source": [
    "## Distribution: https://www.youtube.com/watch?v=YAlJCEDH2uY\n",
    "1. Spread of data is known as distribution. There can be different kind of distribution. Uniform Distribution (A line parallel to X axis), where the probability of selecting one random value is equal for values benigth the line. Another type is Exponential Distribution - its a probability distribution process in which events occur continuously and independently at a constant average rate. The gragh here looks like a exponential graph.\n",
    "2. __Why Distribution is required__: Say a Comapny HR wants to order some T-Shirts for 100K employees. After doing a survey on 500 employees and with some domain knowledge she would make a CDF(check above for details) and PDF with the help of which she can order S,M,L,XL shirts with required quantity."
   ]
  },
  {
   "cell_type": "raw",
   "metadata": {},
   "source": [
    "## Gaussian or Normal Distribution \"Bell Curve\":\n",
    "1. Data can be \"distributed\" (spread out) in different ways.(more in left or right or all jumbled). But there are many cases where the data tends to be around a central value with no bias left or right, and it gets close to a \"Normal Distribution\" like a bell curve.\n",
    "2. We say the data is \"Normally distributed\" or properties of a Normally distributed datatset are : \n",
    "    * When Mean = Median = Mode\n",
    "    * symmetric  about the center\n",
    "    * 50% of values are less than mean and 50% of values are more than mean.\n",
    "    * Using the Emperical formula Generally 68% of values are within 1 standard deviation of the mean\n",
    "    * Generally 95% of values are within 2 standard deviation of the mean\n",
    "    * Generally 97.7% of values are within 3 standard deviation of the mean\n"
   ]
  },
  {
   "cell_type": "markdown",
   "metadata": {},
   "source": [
    "## Standard Normal Distribution:\n",
    "1. A Normal distribution with a mean = 0 and Std deviation = 1 is said to have a SND. \n",
    "    Formula to convert a Gaussian Distribution into Standard Normal Distribution is :  \n",
    " z = $\\frac{(x-μ)}{(σ)}$\n",
    "\n",
    "Where x is a data element, μ is mean & ‘σ’ is the standard deviation, and Z is used to denote standardization, and Z is known as the z-score.\n",
    "<img src=\"images/image72.png\" />  \n"
   ]
  },
  {
   "cell_type": "markdown",
   "metadata": {},
   "source": [
    "## Why standardize ? -  It can help us make decisions out data\n",
    "1. Here are the students' results (out of 60 points):  \n",
    "    20, 15, 26, 32, 18, 28, 35, 14, 26, 22, 17  \n",
    "    Most students didn't even get 30 out of 60, and most will fail.\n",
    "\n",
    "    The test must have been really hard, so the Prof decides to Standardize all the scores and only fail people more than 1 standard deviation below the mean.  \n",
    "    The Mean is 23, and the Standard Deviation is 6.6, and these are the Standard Scores:  \n",
    "    -0.45, (-1.21) , 0.45, 1.36, -0.76, 0.76, 1.82, (-1.36), 0.45, -0.15, -0.91  \n",
    "    Now only 2 students will fail (the ones lower than −1 standard deviation)  \n",
    "    Much fairer!\n",
    "  "
   ]
  },
  {
   "cell_type": "code",
   "execution_count": 4,
   "metadata": {},
   "outputs": [
    {
     "name": "stdout",
     "output_type": "stream",
     "text": [
      "0    3.0\n",
      "dtype: float64\n",
      "0    1.581139\n",
      "dtype: float64\n",
      "              0\n",
      "count  5.000000\n",
      "mean   3.000000\n",
      "std    1.581139\n",
      "min    1.000000\n",
      "25%    2.000000\n",
      "50%    3.000000\n",
      "75%    4.000000\n",
      "max    5.000000\n"
     ]
    }
   ],
   "source": [
    "import pandas as pd\n",
    "data = [1,2,3,4,5]\n",
    "df = pd.DataFrame(data)\n",
    "print(df.mean())\n",
    "print(df.std())\n",
    "print(df.describe())"
   ]
  },
  {
   "cell_type": "code",
   "execution_count": 5,
   "metadata": {},
   "outputs": [
    {
     "data": {
      "text/html": [
       "<div>\n",
       "<style scoped>\n",
       "    .dataframe tbody tr th:only-of-type {\n",
       "        vertical-align: middle;\n",
       "    }\n",
       "\n",
       "    .dataframe tbody tr th {\n",
       "        vertical-align: top;\n",
       "    }\n",
       "\n",
       "    .dataframe thead th {\n",
       "        text-align: right;\n",
       "    }\n",
       "</style>\n",
       "<table border=\"1\" class=\"dataframe\">\n",
       "  <thead>\n",
       "    <tr style=\"text-align: right;\">\n",
       "      <th></th>\n",
       "      <th>sepal_length</th>\n",
       "      <th>sepal_width</th>\n",
       "      <th>petal_length</th>\n",
       "      <th>petal_width</th>\n",
       "      <th>species</th>\n",
       "    </tr>\n",
       "  </thead>\n",
       "  <tbody>\n",
       "    <tr>\n",
       "      <th>0</th>\n",
       "      <td>5.1</td>\n",
       "      <td>3.5</td>\n",
       "      <td>1.4</td>\n",
       "      <td>0.2</td>\n",
       "      <td>setosa</td>\n",
       "    </tr>\n",
       "    <tr>\n",
       "      <th>1</th>\n",
       "      <td>4.9</td>\n",
       "      <td>3.0</td>\n",
       "      <td>1.4</td>\n",
       "      <td>0.2</td>\n",
       "      <td>setosa</td>\n",
       "    </tr>\n",
       "  </tbody>\n",
       "</table>\n",
       "</div>"
      ],
      "text/plain": [
       "   sepal_length  sepal_width  petal_length  petal_width species\n",
       "0           5.1          3.5           1.4          0.2  setosa\n",
       "1           4.9          3.0           1.4          0.2  setosa"
      ]
     },
     "execution_count": 5,
     "metadata": {},
     "output_type": "execute_result"
    }
   ],
   "source": [
    "df = pd.read_csv('https://raw.githubusercontent.com/uiuc-cse/data-fa14/gh-pages/data/iris.csv')\n",
    "df.head(2)"
   ]
  },
  {
   "cell_type": "code",
   "execution_count": 6,
   "metadata": {},
   "outputs": [
    {
     "data": {
      "image/png": "[encoded data removed]",
      "text/plain": [
       "<Figure size 372.75x288 with 1 Axes>"
      ]
     },
     "metadata": {
      "needs_background": "light"
     },
     "output_type": "display_data"
    }
   ],
   "source": [
    "sns.FacetGrid(data = df, hue='species', height=4) \\\n",
    "   .map(sns.distplot, \"petal_length\") \\\n",
    "   .add_legend();\n",
    "plt.show();\n",
    "# Same as above graph\n",
    "# data = df.groupby('species')\n",
    "# sns.distplot(data.get_group('setosa')['petal_length'], label=\"setosa\")\n",
    "# sns.distplot(data.get_group('versicolor')['petal_length'], label=\"versicolor\")\n",
    "# sns.distplot(data.get_group('virginica')['petal_length'], label=\"virginica\")\n",
    "# plt.legend()\n",
    "# plt.grid()"
   ]
  },
  {
   "cell_type": "code",
   "execution_count": 10,
   "metadata": {
    "scrolled": true
   },
   "outputs": [
    {
     "data": {
      "image/png": "[encoded data removed]",
      "text/plain": [
       "<Figure size 432x288 with 1 Axes>"
      ]
     },
     "metadata": {
      "needs_background": "light"
     },
     "output_type": "display_data"
    }
   ],
   "source": [
    "df = pd.read_csv('https://raw.githubusercontent.com/uiuc-cse/data-fa14/gh-pages/data/iris.csv')\n",
    "data = df.groupby('species')\n",
    "sns.distplot(data.get_group('setosa')['petal_length'], label=\"setosa\")\n",
    "kwargs = {'cumulative': True}\n",
    "sns.distplot(data.get_group('setosa')['petal_length'], hist_kws=kwargs, kde_kws=kwargs)\n",
    "plt.legend()\n",
    "plt.grid()"
   ]
  },
  {
   "cell_type": "markdown",
   "metadata": {},
   "source": [
    "## Frequency Distribution and its how to cal its Std Deviation:\n",
    "1. In statistics, a frequency distribution is a list, table or graph that displays the frequency of various outcomes in a sample. Each entry in the table contains the frequency or count of the occurrences of values within a particular group or interval. https://www.youtube.com/watch?v=swzThKDKFoM\n",
    "## Binomial Distribution and its Std Deviation:\n",
    "1. In probability theory and statistics, the binomial distribution with parameters n and p is the discrete probability distribution of the number of successes in a sequence of n independent experiments.\n",
    "https://www.statisticshowto.com/probability-and-statistics/standard-deviation/#SDB  \n",
    "<img src=\"images/image73.png\" />"
   ]
  },
  {
   "cell_type": "markdown",
   "metadata": {},
   "source": [
    "# Probability Distribution and types:\n",
    "1. https://en.wikipedia.org/wiki/Probability_distribution#Discrete_probability_distribution\n",
    "2. In probability theory and statistics, a probability distribution is the mathematical function that gives the probabilities of occurrence of different possible outcomes for an experiment.\n",
    "3. __Sample Space__: The sample space, often denoted by {\\displaystyle \\Omega }\\Omega ,[5] is the set of all possible outcomes of a random phenomenon being observed;For example, the sample space of a coin flip would be {\\displaystyle \\Omega }\\Omega  = {heads, tails} .\n",
    "4. Probability distributions are generally divided into two classes. A discrete probability distribution is applicable to the scenarios where the set of possible outcomes is discrete (e.g. a coin toss, a roll of a dice), and the probabilities are here encoded by a discrete list of the probabilities of the outcomes, known as the probability mass function. On the other hand, continuous probability distributions are applicable to scenarios where the set of possible outcomes can take on values in a continuous range (e.g. real numbers), such as the temperature on a given day. In this case, probabilities are typically described by a probability density function.\n",
    "4. __Discrete Probability Distribution__: If the Random Variable in the experiement is discrete random variable(takes finite value), then the probability distribution is described by __probability mass function (p)__ assigning a probability to each possible outcome: for example, when throwing a fair die, each of the six values 1 to 6 has the probability 1/6. \n",
    "    1. https://en.wikipedia.org/wiki/Probability_distribution#Discrete_probability_distribution\n",
    "    2. Well-known discrete probability distributions used in statistical modeling include the __Poisson distribution, the Bernoulli distribution, the binomial distribution, the geometric distribution, and the negative binomial distribution__. Additionally, the discrete uniform distribution is commonly used in computer programs that make equal-probability random selections between a number of choices.\n",
    "    \n",
    "5. __Continuous Probability Distribution__: In contrast, when a random variable takes continuous values typically, any individual outcome has probability zero and only events that include infinitely many outcomes, such as intervals, can have positive probability.Continuous probability distributions can be described in several ways.\n",
    "    1.  There are many examples of continuous probability distributions: __normal, uniform, chi-squared, and others__."
   ]
  },
  {
   "cell_type": "markdown",
   "metadata": {},
   "source": [
    "### Binomial Distribution: \n",
    "1. https://www.mathsisfun.com/data/binomial-distribution.html\n",
    "2. https://www.youtube.com/watch?v=J8jNoF-K8E8\n",
    "3. Binomial distribution is probability distribution of k(times) success out of n trials where probability of occurance of event 'k' is p. Ex: probability of occurance of 2 heads in 3 tosses is Pr(2 out of 3) = (3!/2!*1!)*(0.5)^3*(0.5)^1 = 3/8.\n",
    "    <img src=\"images/image76.png\" />  \n",
    "2. Important Notes:\n",
    "    The trials are independent,\n",
    "    There are only two possible outcomes at each trial,\n",
    "    The probability of \"success\" at each trial is constant."
   ]
  },
  {
   "cell_type": "code",
   "execution_count": 80,
   "metadata": {},
   "outputs": [],
   "source": [
    "import seaborn\n",
    "from scipy.stats import binom"
   ]
  },
  {
   "cell_type": "code",
   "execution_count": 97,
   "metadata": {},
   "outputs": [
    {
     "data": {
      "text/plain": [
       "[Text(0.5, 0, 'Binomial'), Text(0, 0.5, 'freq')]"
      ]
     },
     "execution_count": 97,
     "metadata": {},
     "output_type": "execute_result"
    },
    {
     "data": {
      "image/png": "[encoded data removed]",
      "text/plain": [
       "<Figure size 432x288 with 1 Axes>"
      ]
     },
     "metadata": {
      "needs_background": "light"
     },
     "output_type": "display_data"
    }
   ],
   "source": [
    "# Python binomial distribution tells us the probability how often there will be a success in ‘n’ independent experiments. \n",
    "# Such experiments are yes-no questions \n",
    "data = binom.rvs(n=4, p=0.5, loc=0, size=1000)\n",
    "# rvs(n, p, loc=0, size=1, random_state=None). Stand for random variates.\n",
    "ax = seaborn.distplot(data, kde=True, color='blue', hist_kws={'linewidth':22})\n",
    "ax.set(xlabel='Binomial', ylabel='freq')\n",
    "# this graph plots the k value = 0,1,2,3,4..n"
   ]
  },
  {
   "cell_type": "markdown",
   "metadata": {},
   "source": [
    "### The Bernoulli distribution \n",
    "1. is a special case of the binomial distribution where a single trial is conducted (so n would be 1 for such a binomial distribution). It is also a special case of the two-point distribution, for which the possible outcomes need not be 0 and 1.\n",
    "2. So any event with one trial and 2 outcomes follow bernoulli distribution."
   ]
  },
  {
   "cell_type": "markdown",
   "metadata": {},
   "source": [
    "## Poisson Distribution:\n",
    "1. A Poisson distribution is a tool that helps to predict the probability of certain events from happening when you know how often the event has occurred. The poisson distribution deals with the frequency with which an event occurs in a specific interval.\n",
    "2. https://www.statisticshowto.com/poisson-distribution/  \n",
    "<img src=\"images/image77.png\"/>  \n",
    "where, lambda = Number of times the events occured in past\n",
    "e = 2.72\n",
    "k = Probability of the event k times we are interested to find out.\n",
    "3. The average number of homes sold by the AJ company is 2 homes per day. What is the probability that exactly 3 homes will be sold tomorrow? \n",
    "    1. μ = 2; since 2 homes are sold per day, on average.\n",
    "    2. x = 3; since we want to find the likelihood that 3 homes will be sold tomorrow.\n",
    "    3. e = 2.71828; Using the formula.\n",
    "    4. P(x; μ) = (e-μ) (μx) / x! = P(3; 2) = 0.180. Thats the probabilty of selling 3 homes tomorrow.\n",
    "\n"
   ]
  },
  {
   "cell_type": "markdown",
   "metadata": {},
   "source": [
    "### Central Limit Theorem: https://www.youtube.com/watch?v=YAlJCEDH2uY\n",
    "1. Even if the original dataset is not Normally Distributed, when you take samples from the distribution, it turns out that the mean of the sample collected over many iteration follow a Normal Distribution (bell curve). \n",
    "2. For example if you collect samples from Uniform distribution and plot its mean in a histogram and do it over again and again. The histogram will resemble Normal Distribution. That is what central limit theorem states.\n",
    "3. __Practical implications__ : So this means in real world we dont care from which distribution the samples came from, the means of the sample are normally distributed. Becuase we know that sample means are normally distributed, we can use the means normal distribution to make __confidence intervals, do t-tests and ANOVA__."
   ]
  },
  {
   "cell_type": "markdown",
   "metadata": {},
   "source": [
    "## Sampling distribution of sample mean and sample variance.\n",
    "\n",
    "2. When we take many samples of same  size  from a normally distributed population and find those sample variance $\\sigma ^2$. Those sample variance do not follow Normal Distribution. They follow the __chi-square distribution $\\chi$ with (n-1) degree of freedom__.<img src='images/image78.png' style=\"width:300px;height:300p\" />\n",
    "1. We know from Central Limit Theorem that sample mean follow a Normal Distribution. But sample variance follow a Chi-square distribution.\n",
    "<img src='images/image79.png' style=\"width:500px;height:400p\" />"
   ]
  },
  {
   "cell_type": "markdown",
   "metadata": {},
   "source": [
    "### Quantiles and Percentile \n",
    "1. __Quantiles__: Quantile are just the lines which divides the data or sample into equal-sized subgroups of adjacent values or a probability distribution into distributions of equal probability.Ex Median which divides the sample into half is the 0.5 quantile or 50% quanatile. \n",
    "2. Don't get confused with __Quartile__ - quartile means any of the three points that divide an ordered distribution into four parts, each containing a quarter of the population.\n",
    "3. __Percentile__: And Percentiles are just quantiles which divide the group into 100 equally sized groups. Informally it can be seen as the value below which a percentage of data falls. Ex baby weight and height percentile. A baby weight with 25% means, there are 25% babies who weigh less than this baby and 75% babies weigh more than this baby of same age.\n",
    "2. Ex : Say we have a data which shows how much time to pizza delivery from 'X' pizza shop took 'Y' zip code took. Say we have a record of 1000 delivery till date. So when a new delivery happens, the time taken is then evaluvated again the data record we have, say if it falls in 70% or more then no action needed, otherwise if its less than 70% action needed to know why it took that much time. Also this latest record wil be a part of the dataset record.\n",
    "3. https://www.youtube.com/watch?v=IFKQLDmRK0Y\n",
    "4. https://www.mathsisfun.com/data/percentiles.html"
   ]
  },
  {
   "cell_type": "markdown",
   "metadata": {},
   "source": [
    "### Quantile - Quantile(Q-Q) Plot\n",
    "1. https://www.youtube.com/watch?v=okjYjClSjOg\n",
    "2. QQ plot is used to determine if a dataset is normally distributed or any other distribution.\n",
    "3. QQ plot has 2 axis the y-axis represents the quantiles of the dataset in question and the x-axis represents the quantiles of the Normal Distribution dataset in reference.\n",
    "4. Make sure each of the two dataset are divided into same number of quantiles. \n",
    "5. Now draw the graph from the quatile data from each dataset.\n",
    "6. If the line is straight then the dataset in question is Normally distributed.Else try some other distribution like Uniform to see if the dataset in question fits this distribution.\n"
   ]
  },
  {
   "cell_type": "code",
   "execution_count": 5,
   "metadata": {},
   "outputs": [],
   "source": [
    "#Q-Q plot\n",
    "import numpy as np \n",
    "import pylab \n",
    "import scipy.stats as stats"
   ]
  },
  {
   "cell_type": "code",
   "execution_count": 16,
   "metadata": {},
   "outputs": [
    {
     "data": {
      "image/png": "[encoded data removed]",
      "text/plain": [
       "<Figure size 432x288 with 1 Axes>"
      ]
     },
     "metadata": {
      "needs_background": "light"
     },
     "output_type": "display_data"
    }
   ],
   "source": [
    "# Ex of a Normally Distributed Dataset\n",
    "df_under_question = np.random.normal(loc=0, scale=1, size=1000) # loc=Mean, scale=standard distribution\n",
    "# dist='norm' checks to see if the Dataset under question has a normal distribution\n",
    "stats.probplot(df_under_question, dist=\"norm\", plot=pylab) \n",
    "pylab.show()"
   ]
  },
  {
   "cell_type": "code",
   "execution_count": 9,
   "metadata": {},
   "outputs": [
    {
     "data": {
      "image/png": "[encoded data removed]",
      "text/plain": [
       "<Figure size 432x288 with 1 Axes>"
      ]
     },
     "metadata": {
      "needs_background": "light"
     },
     "output_type": "display_data"
    }
   ],
   "source": [
    "# Ex of a Uniformally Distributed Dataset\n",
    "df_under_question = np.random.uniform(low=-1, high=1, size=1000) # loc=Mean, scale=standard distribution\n",
    "# dist='norm' checks to see if the Dataset under question, which is Uniformally Distributed\n",
    "# has a normal distribution. So is the fig which proves its not.\n",
    "stats.probplot(df_under_question, dist=\"norm\", plot=pylab) \n",
    "# stats.probplot(df_under_question, dist=\"uniform\", plot=pylab) # Proves the correct distribution.\n",
    "pylab.show()"
   ]
  },
  {
   "cell_type": "markdown",
   "metadata": {},
   "source": [
    "## Hypothesis:\n",
    "1. https://www.youtube.com/watch?v=0oc49DyA3hU\n",
    "1. __Hypothesis__: A hypothesis is an educated guess about something in the world around you. It should be testable, either by experiment or observation.\n",
    "2. __Reject Hypothesis__ : When you creat a hypothese(say drug A cures a disease __15hrs__ early than drug B) and put to test by doing repeated similar experients and find that the experiments results give evidence that the initial hypothese is false (we got results like drug B cures 10 hrs early than drug A). Then we can reject the hypothesis. \n",
    "3. __Fail to Reject Hypothesis__ : When you creat a hypothese(same as above) and put to test by doing repeated similar experients and find that the experiments results give evidence that the initial hypothese is somewhat true(drug A cures disease 8 hrs early than drung B). Then we can say we fail to reject the Hypothesis.\n",
    "4. __Null Hypothesis ($H_0$)__ :When the results of Drug A and Drug B are pretty similar in intial testing. We create a Hypothesis (say drug A is no different than drug B), that there is no difference between things is called as Null Hypothesis. Then we can perform test to Reject the Null Hypothesis or Fail to reject the null hypothesis.\n",
    "5. __Alternative Hypothesis($H_A$)__ : IF we have only two groups (say drug A and drug B). Then we can say Alternative Hypothesis is just the opposite of Null Hypothesis. But say if we have more groups( Null hypothesis states, drug A drug B and drug C have no difference)  then, we have more options in our alternative hypothesis (our alternative hypothese may be that drug A, B, C are all different or drug A,B is different than drug C.).\n",
    "6. __Statistical Test__ : Basically we do statistical testing to reject or fail to reject a Null Hypothesis.See video 3:36 onwards.https://www.youtube.com/watch?v=5koKb5B_YWo \n",
    "7. If Null Hypothesis is given as $H_0$ : $\\mu$ = $\\mu_0$, then alternate hypothesis can be written as    \n",
    "   $H_A$ : $\\mu$ != $\\mu_0$ , $\\mu$ > $\\mu_0$, $\\mu$ < $\\mu_0$"
   ]
  },
  {
   "cell_type": "markdown",
   "metadata": {},
   "source": [
    "### How to choose your Null and Alternate Hypothesis:\n",
    "1. https://www.statisticshowto.com/probability-and-statistics/null-hypothesis/#state\n",
    "2. Usually whatever is claimed in the problem statement does as Alternative Hypothesis and Null Hypo will be opposite of that.  With word problems, NUll Hypothesis - you are looking to find a fact that is nullifiable (i.e. something you can reject)."
   ]
  },
  {
   "cell_type": "markdown",
   "metadata": {},
   "source": [
    "### Hypothesis Testing:\n",
    "There are different types of Hypothesis test:  \n",
    "1. Variable Distribution Type Tests (Gaussian)  \n",
    "    Shapiro-Wilk Test  \n",
    "    D’Agostino’s K^2 Test  \n",
    "    Anderson-Darling Test  \n",
    "2. Variable Relationship Tests (correlation)  \n",
    "    Pearson’s Correlation Coefficient  \n",
    "    Spearman’s Rank Correlation  \n",
    "    Kendall’s Rank Correlation  \n",
    "    Chi-Squared Test  \n",
    "3. Compare Sample Means (parametric)  \n",
    "    Student’s t-test  \n",
    "    Paired Student’s t-test  \n",
    "    Analysis of Variance Test (ANOVA)  \n",
    "    Repeated Measures ANOVA Test  \n",
    "4. Compare Sample Means (nonparametric)  \n",
    "    Mann-Whitney U Test  \n",
    "    Wilcoxon Signed-Rank Test  \n",
    "    Kruskal-Wallis H Test  \n",
    "    Friedman Test  \n",
    "5. etc"
   ]
  },
  {
   "cell_type": "markdown",
   "metadata": {},
   "source": [
    "## Hypothesis Testing: What is it:\n",
    "1. Statisticians follow a formal process to determine whether to reject a null hypothesis, based on sample data. This process, called hypothesis testing, consists of four steps.\n",
    "    a. State the hypotheses. This involves stating the null and alternative hypotheses. The hypotheses are stated in such a way that they are mutually exclusive. That is, if one is true, the other must be false.\n",
    "    b. Formulate an analysis plan. The analysis plan describes how to use sample data to evaluate the null hypothesis. The evaluation often focuses around a single test statistic.\n",
    "    c. Analyze sample data. Find the value of the test statistic (mean score, proportion, t statistic, z-score, etc.) described in the analysis plan.\n",
    "    d. Interpret results. Apply the decision rule described in the analysis plan. If the value of the test statistic is unlikely, based on the null hypothesis, reject the null hypothesis.\n",
    "2. __Decision Error__: Two types of errors can result from a hypothesis test.\n",
    "    1. __Type I error__: A Type I error occurs when the researcher __rejects a null hypothesis__ when it is true. The probability of committing a Type I error is called the __significance level__. This probability is also called __alpha__, and is often denoted by __α__.\n",
    "    2. __Type II error__: A Type II error occurs when the researcher __fails to reject a null hypothesis__ that is false. The probability of committing a Type II error is called __Beta__, and is often denoted by __β__. The probability of not committing a Type II error is called the __Power__ of the test.\n",
    "3. __Decision Rules__: The analysis plan includes decision rules for rejecting the null hypothesis. In practice, statisticians describe these decision rules in two ways - with reference to a P-value or with reference to a region of acceptance.  \n",
    "    a. __P-value__ : The strength of evidence in support of a null hypothesis is measured by the P-value. Suppose the test statistic is equal to S. The P-value is the probability of observing a test statistic as extreme as S, assuming the null hypothesis is true. If the P-value is less than the significance level, we reject the null hypothesis.  \n",
    "    b. __Region of acceptance__ : The region of acceptance is a range of values. If the test statistic falls within the region of acceptance, the null hypothesis is not rejected. The region of acceptance is defined so that the chance of making a Type I error is equal to the significance level. The set of values outside the region of acceptance is called the region of rejection. If the test statistic falls within the __region of rejection__, the null hypothesis is rejected. In such cases, we say that the hypothesis has been rejected at the α level of significance.  \n",
    "    These approaches are equivalent. Some statistics texts use the P-value approach; others use the region of acceptance approach.\n",
    "4. __One-Tailed and Two-Tailed Tests__ : \n",
    "    a. __One-Tailed__ : A test of a statistical hypothesis, where the region of rejection is on only one side of the sampling distribution, is called a one-tailed test. For example, suppose the null hypothesis states that the mean is less than or equal to 10. The alternative hypothesis would be that the mean is greater than 10. The region of rejection would consist of a range of numbers located on the right side of sampling distribution; that is, a set of numbers greater than 10.\n",
    "    b. __Two-Tailed__ : A test of a statistical hypothesis, where the region of rejection is on both sides of the sampling distribution, is called a two-tailed test. For example, suppose the null hypothesis states that the mean is equal to 10. The alternative hypothesis would be that the mean is less than 10 or greater than 10. The region of rejection would consist of a range of numbers located on both sides of sampling distribution; that is, the region of rejection would consist partly of numbers that were less than 10 and partly of numbers that were greater than 10.\n",
    "5. Example of how to conduct a Hypothesis test : https://stattrek.com/hypothesis-test/how-to-test-hypothesis.aspx?tutorial=ap\n"
   ]
  },
  {
   "cell_type": "markdown",
   "metadata": {},
   "source": [
    "### Test -Statistics:\n",
    "1. __Test Statistics__: A test statistic is used in a hypothesis test when you are deciding to support or reject the null hypothesis. The test statistic takes your data from an experiment or survey and compares your results to the results you would expect from the null hypothesis.\n",
    "    1. For example, let’s say that you think Drug X will cure genital warts. The currently accepted fact (the null hypothesis) is that about 30% of warts will go away on their own. You conduct a clinical trial and find that 57% of your patients are cured with drug X. Is this a significant result? Does the drug work? Is the 57% a fluke result? You can answer these questions with a test statistic.\n",
    "2. https://www.statisticshowto.com/test-statistic/\n",
    "3. When you run a hypothesis test, you’ll use a distribution like a t-distribution or normal distribution. These have a known area, and enable to you to calculate a probability value (p-value) that will tell you if your results are due to chance, or if your results are die to your theory being correct. The larger the test statistic, the smaller the p-value and the more likely you are to reject the null hypothesis. A p-value is an area in the tail of a distribution that tells you the odds of a result happening by chance.\n",
    "    <img src='images/image88.png' style='width:300px;height:200px' />\n",
    "4. Types of Test Statistic : There are four main test statistics you can use in a hypothesis test. Which one you use depends on which statistical test you run.\n",
    "    1. Hypothesis Test = Z-test --- Test Statistics = Z-score\n",
    "    1. Hypothesis Test = T-test --- Test Statistics = T-score\n",
    "    3. Hypothesis Test = ANOVA --- Test Statistics = F-statistics\n",
    "    4. Hypothesis Test = Chi-square Test --- Test Statistics = Chi-square statistics"
   ]
  },
  {
   "cell_type": "markdown",
   "metadata": {},
   "source": [
    "### One and two sample proportion hypothesis test:\n",
    "1. https://sixsigmastudyguide.com/one-and-two-sample-proportion-hypothesis-tests/\n",
    "2. Basically if we have categorical data (say a column with male and female  and we want to know if male/female proportion is equal) we will be using one sample proportion data.\n",
    "3. https://www.youtube.com/watch?v=76VruarGn2Q"
   ]
  },
  {
   "cell_type": "markdown",
   "metadata": {},
   "source": [
    "### One Sample Z-Test:\n",
    "1. https://www.statisticshowto.com/probability-and-statistics/hypothesis-testing/#HTExamples\n",
    "2. https://www.youtube.com/watch?v=zJ8e_wAWUzE\n",
    "3. https://www.socscistatistics.com/tests/ztest_sample_mean/default2.aspx\n",
    "4. https://stattrek.com/statistics/dictionary.aspx?definition=one-sample%20z-test\n",
    "4. A one-sample z-test is used to test whether a population parameter is significantly different from some hypothesized value.\n",
    "5. The one-sample z-test can be used when the population is normally distributed, and the population variance is known.\n",
    "6. Z-score = $\\frac{\\bar x - \\mu}{\\frac{s}{\\sqrt n}}$, where $\\bar x$ - sample mean; $\\mu$ - population mean; s - std devaition of __the population__; n - sample size.\n",
    "7. How to find the Z-sccore : https://www.youtube.com/c/TheOrganicChemistryTutor/search?query=z-score\n",
    "    a. The area under the whole of a normal distribution curve is 1, or 100 percent. The z-table helps by telling us what percentage is under the curve at any particular point. The Z-table is applicable to Standard Normal curve only.\n",
    "    c. The point to note that the z-table gives cumulative area from the left.\n",
    "    b. To read the area /probabilty with z-table --> if you have a z score of 2.31 --> find 2.3 in 1st column and .01 in 1st row. The intersection will give you the area/probability. another ex if you z score is .87 --> find .8 in 1st column and .07 in 1st row. The intersection will give you the area/probability.\n",
    "8. https://www.youtube.com/watch?v=5NcMFlrnYp8&list=PLIeGtxpvyG-LrjxQ60pxZaimkaKKs0zGF"
   ]
  },
  {
   "cell_type": "markdown",
   "metadata": {},
   "source": [
    "### One Sample T-Test:\n",
    "1. https://www.youtube.com/watch?v=Kzqm8F9Le_4\n",
    "1. When our sample size is n<=30 and/or we do not know the standard deviation of the population we use the t-distribution instead of the z-distribution. It takes into account the small smaple size and its more dynamic because it uses (n-1) degree of freedom.\n",
    "2. So here we check the student t distribution table to get the T values.\n",
    "3. https://www.youtube.com/watch?v=zJ8e_wAWUzE start from 6:30\n",
    "2. https://stattrek.com/statistics/dictionary.aspx?definition=Significance%20level"
   ]
  },
  {
   "cell_type": "markdown",
   "metadata": {},
   "source": [
    "### P value:\n",
    "1. A p value is used in hypothesis testing to help you support or reject the null hypothesis. The p value is the evidence against a null hypothesis. The smaller the p-value, the stronger the evidence that you should reject the null hypothesis. Therefore, the smaller the p-value, the more important __(“significant”)__ your results.\n",
    "2. __P Value vs Alpha level__ : Alpha levels are controlled by the researcher and are related to __confidence levels__.You get an alpha level by subtracting your confidence level from 100%. For example, if you want to be 98 percent confident in your research, the alpha level would be 2% (100% – 98%). When you run the hypothesis test, the test will give you a value for p. Compare that value to your chosen alpha level.\n",
    "    1. A small p (≤ 0.05), reject the null hypothesis. This is strong evidence that the null hypothesis is invalid.\n",
    "    2. A large p (> 0.05) means the alternate hypothesis is weak, so you do not reject the null.\n",
    "3. __P Values and Critical Values__: The p value is just one piece of information you can use when deciding if your null hypothesis is true or not. Like use the z-value with z-critical values + p value to decide the NULL hypothesis.\n",
    "4. __What if I Don’t Have an Alpha Level?__   \n",
    "    In an ideal world, you’ll have an alpha level. But if you do not, you can still use the following rough guidelines in deciding whether to support or reject the null hypothesis:  \n",
    "\n",
    "    If p > .10 → “not significant”  \n",
    "    If p ≤ .10 → “marginally significant”  \n",
    "    If p ≤ .05 → “significant”  \n",
    "    If p ≤ .01 → “highly significant.”  \n",
    "\n",
    "6. What are all these test? Wikipedia explains teh different cases:  \n",
    "   1. Depending on the nature of the test statistic and the hypotheses of interest about its distribution, different null hypothesis tests have been developed. Some such tests are the __z-test__ for hypotheses concerning the __mean__ of a normal distribution with __known variance__, the __t-test__ based on Student's t-distribution of a suitable statistic for hypotheses concerning the mean of a normal distribution when the __variance is unknown__, the __F-test__ based on the F-distribution of yet another statistic for hypotheses concerning __the variance__. For data of other nature, for instance __categorical (discrete)__ data, test statistics might be constructed whose null hypothesis distribution is based on normal approximations to appropriate statistics obtained by invoking the __central limit theorem__ for large samples, as in the case of __Pearson's chi-squared test__.\n",
    "5. Thus computing a p-value requires a null hypothesis, a test statistic (together with deciding whether the researcher is performing a one-tailed test or a two-tailed test), and data. Basically p-value is the area of region (at the tail ends in 2 tail) which denotes reject area for NUll hypothesis. A p-value is an area in the tail of a distribution that tells you the odds of a result happening by chance. \n",
    "6. __Steps to calculate the p-value__:\n",
    "    1. For the given problem first find the $Z_c$ --> Z critical value using $\\alpha$ and z-table and Z-score formula\n",
    "    2.  Z-score = $\\frac{\\bar x - \\mu}{\\frac{s}{\\sqrt n}}$, where $\\bar x$ - sample mean; $\\mu$ - population mean; s - std devaition of __the population__; n - sample size.\n",
    "    2. Then use the $Z_c$ and z-tabel to find the area of the tail which is the p-value.\n",
    "    3. https://www.youtube.com/watch?v=8Aw45HN5lnA"
   ]
  },
  {
   "cell_type": "markdown",
   "metadata": {},
   "source": [
    "### P-value method Testing:\n",
    "1. https://www.youtube.com/watch?v=8Aw45HN5lnA  -> this will tell you the difference between traditional Z-test and P-value test.\n",
    "2. Once you find teh P value. If P < $\\alpha$ then we reject the Null Hypothesis. If P > $\\alpha$ then we fail to reject the Null Hypothesis.\n",
    "3. Note that we can use the P-vaue test when we know the confidence level so we have the $\\alpha$.\n",
    "4. Basically P value is the area of region (at the tail ends) which denotes reject area fro NUll hypothesis."
   ]
  },
  {
   "cell_type": "markdown",
   "metadata": {},
   "source": [
    "### Chi-sqaure Distribution : \n",
    "1. https://www.youtube.com/watch?v=bjDRzfGmG9g 18:00 onwards\n",
    "2. https://www.statisticshowto.com/probability-and-statistics/chi-square/\n",
    "2. A chi-square statistic is one way to show a relationship between two categorical variables. In statistics, there are two types of variables: numerical (countable) variables and non-numerical (categorical) variables. The chi-squared statistic is a single number that tells you how much difference exists between your observed counts and the counts you would expect if there were no relationship at all in the population.\n",
    "1. Chi-sqaure distribution is not normally distributed. It is skewed data. Below are the figure of Chi-Sqaure distribution $\\chi^2$.\n",
    "<img src='images/image78.png' style='width:200x;height:400px'/>\n",
    "2. Anatomy of chi-sqaure distribution. Point 4. is talking about total area being 0 on left and 1 on right. So cumulative probability runs from left to right.\n",
    "<img src='images/image80.png' style='width:200x;height:400px' />\n",
    "3. chi-sqaure with degree of freedom of 9 is shown below, we write critical values at $chi ^2$0.025 to the left (culumative probability goes from left to right). $chi ^2$0.975 on right.\n",
    "<img src='images/image81.png' style='width:200x;height:400px' />\n",
    "4. Read chi-square table: same as other distribution table 2.7 <= $\\chi^2$ <= 19.023\n",
    "<img src='images/image82.png' style='width:100x;height:200px' />"
   ]
  },
  {
   "cell_type": "markdown",
   "metadata": {},
   "source": [
    "### Chi-sqaure Test :\n",
    "2. https://www.youtube.com/watch?v=HKDqlYSLt68\n",
    "3. https://www.statisticshowto.com/probability-and-statistics/chi-square/\n",
    "2. __Formula for chi-sqaure statistics__:\n",
    "    The formula for the chi-square statistic used in the chi square test is:  \n",
    "    $\\chi^2_c$ = $\\sum \\frac{(O_i - E_i)^2}{E_i}$  \n",
    "    WHere, The subscript “c” are the degrees of freedom. “O” is your observed value and E is your expected value. \n",
    "3. You will mostly not use this formaula and use some tools to calculate the value of chi score.\n",
    "4. The Chi-square statistic can only be used on numbers. They can’t be used for percentages, proportions, means or similar statistical value. For example, if you have 10 percent of 200 people, you would need to convert that to a number (20) before you can run a test statistic.\n",
    "5. __When to use it__: http://www.biostathandbook.com/chiind.html#:~:text=When%20to%20use%20it,values%20of%20the%20other%20variable."
   ]
  },
  {
   "cell_type": "markdown",
   "metadata": {},
   "source": [
    "### ANOVA:\n",
    "1. https://www.youtube.com/watch?v=NF5_btOaCig\n",
    "1. https://www.youtube.com/watch?v=0Vj2V2qRU10&list=PLIeGtxpvyG-KA-BLkL391X__r0kU4_hm5\n",
    "4. If you have to analyse the variance of 2 groups you use T/Z-test for more than 2 you use ANOVA.\n",
    "2. Analysis of Variance is known as ANOVA.\n",
    "3. Anova allows us to move further beyond comparing just 2 populations. With Anova we can comapre multiple populations and even sub groups of the population. We can see how 2 groups interact with each other quantitatively.\n",
    "4. The idea is to figure out how much of the total variance comes out from (variance within the Groups)  and from (Variance between the groups). And based on the ratio of the variance we will reject or fail to rejec the NULL Hypothesis that there is no difference between the groups.\n",
    "<img src='images/image87.png' style='width:300px;height:200px' />\n",
    "5. __What Does “One-Way” or “Two-Way ANoVA test Mean?__ -One-way or two-way refers to the number of independent variables (IVs) in your Analysis of Variance test.\n",
    "    1. One-way has one independent variable (with 2 levels). For example: brand of cereal,\n",
    "    2. Two-way has two independent variables (it can have multiple levels). For example: brand of cereal, calories.\n",
    "6. __What are “Groups” or “Levels”?__ - Groups or levels are different groups within the same independent variable. In the above example, your levels for “brand of cereal” might be Lucky Charms, Raisin Bran, Cornflakes — a total of three levels. Your levels for “Calories” might be: sweetened, unsweetened — a total of two levels.\n",
    "7. __Steps to find Anova__: It is unlikely you’ll want to do this test by hand, but if you must, these are the steps you’ll want to take:\n",
    "\n",
    "    1. Find the mean for each of the groups.\n",
    "    2. Find the overall mean (the mean of the groups combined).\n",
    "    3. Find the Within Group Variation; the total deviation of each member’s score from the Group Mean.\n",
    "    4. Find the Between Group Variation: the deviation of each Group Mean from the Overall Mean.\n",
    "    5. Find the F statistic: the ratio of Between Group Variation to Within Group Variation.\n",
    "8. __ANOVA vs T-test__ : A Student’s t-test will tell you if there is a significant variation between groups. A t-test compares means, while the ANOVA compares variances between populations. You could technically perform a series of t-tests on your data. However, as the groups grow in number, you may end up with a lot of pair comparisons that you need to run. ANOVA will give you a single number (the f-statistic) and one p-value to help you support or reject the null hypothesis."
   ]
  },
  {
   "cell_type": "markdown",
   "metadata": {},
   "source": [
    "### F-statistics:\n",
    "1. An __F statistic__ is a value you get when you run an ANOVA test or a regression analysis to find out if the means between two populations are __significantly different__. It’s similar to a __T statistic from a T-Test__; A T-test will tell you if a single variable is statistically significant and an F test will tell you if a group of variables are jointly significant.\n",
    "2. You can use the F statistic when deciding to support or reject the null hypothesis. In your F test results, you’ll have both an F value and an F critical value.\n",
    "    1. The __F critical value__ is also called the __F statistic__.\n",
    "    2. The value you calculate from your data is called the __F value__ (without the “critical” part). \n",
    "    \n",
    "    In general, if your calculated F value in a test is larger than your F statistic, you can reject the null hypothesis.However, the statistic is only one measure of significance in an F Test. You should also consider the p value. The p value is determined by the F statistic and is the probability your results could have happened by chance.\n",
    "3. __The F Statistic and P Value__: The F statistic must be used in combination with the p value when you are deciding if your overall results are significant. Why? If you have a significant result, it doesn’t mean that all your variables are significant. The statistic is just comparing the joint effect of all the variables together.  \n",
    "   For example, if you are using the F Statistic in regression analysis (perhaps for a change in R Squared, the Coefficient of Determination), you would use the p value to get the “big picture.”\n",
    "\n",
    "    1. If the p value is less than the alpha level, go to Step 2 (otherwise your results are not significant and you cannot reject the null hypothesis). A common alpha level for tests is 0.05.\n",
    "    2. Study the individual p values to find out which of the individual variables are statistically significant.\n",
    "4. When Do I Reject the Null Hypothesis? - Reject the null when your p value is smaller than your alpha level. You should not reject the null if your critical f value is smaller than your F Value, unless you also have a small p-value. Ex: Where this could get confusing is where one of these values seems to indicate that you should reject the null hypothesis and one of the values indicates you should not. For example, let’s say your One Way ANOVA has a p value of 0.68 and an alpha level of 0.05. As the p value is large, you should not reject the null hypothesis. However, your f value is 4.0 with an f critical value of 3.2. Should you now reject the null hypothesis? The answer is NO."
   ]
  }
 ],
 "metadata": {
  "kernelspec": {
   "display_name": "Python 3",
   "language": "python",
   "name": "python3"
  },
  "language_info": {
   "codemirror_mode": {
    "name": "ipython",
    "version": 3
   },
   "file_extension": ".py",
   "mimetype": "text/x-python",
   "name": "python",
   "nbconvert_exporter": "python",
   "pygments_lexer": "ipython3",
   "version": "3.8.3"
  }
 },
 "nbformat": 4,
 "nbformat_minor": 2
}
