{
 "cells": [
  {
   "cell_type": "code",
   "execution_count": 3,
   "metadata": {},
   "outputs": [],
   "source": [
    "import numpy as np\n",
    "import pandas as pd\n",
    "import matplotlib.pyplot as plt\n",
    "import matplotlib_venn as venn\n",
    "import seaborn as sns\n",
    "import itertools \n",
    "from math import factorial"
   ]
  },
  {
   "cell_type": "markdown",
   "metadata": {},
   "source": [
    "## Probability\n",
    "1. Lets plot the probability of filpping a coin. This eg. is probabily of flipping a coin 1000(k) times in one experient and we will repeat it 1000(n) times.\n",
    "2. Below generates a k,n matrix with values 1,-1 which represent either side of coin."
   ]
  },
  {
   "cell_type": "code",
   "execution_count": 142,
   "metadata": {},
   "outputs": [],
   "source": [
    "X=2*(np.random.rand(1000,1000)>0.5)-1\n",
    "#print(X)\n",
    "S=np.sum(X, axis=0)\n",
    "# S"
   ]
  },
  {
   "cell_type": "markdown",
   "metadata": {},
   "source": [
    "1. Since the probabilty of occurance of 1(heads) and -1(tails) is 1/2. When we sum across each row(with 1000 times coinf flip) we should get a value nearing to 0.\n",
    "2. Lets do this 1000 times and plot a histogram. The below histogram shows that teh sum is nearing to 0 like 500 of the times and other times they are near to zero but with some error.\n",
    "3. "
   ]
  },
  {
   "cell_type": "code",
   "execution_count": 146,
   "metadata": {},
   "outputs": [
    {
     "ename": "NameError",
     "evalue": "name 'figure' is not defined",
     "output_type": "error",
     "traceback": [
      "\u001b[1;31m---------------------------------------------------------------------------\u001b[0m",
      "\u001b[1;31mNameError\u001b[0m                                 Traceback (most recent call last)",
      "\u001b[1;32m<ipython-input-146-6b65e2b2283f>\u001b[0m in \u001b[0;36m<module>\u001b[1;34m\u001b[0m\n\u001b[1;32m----> 1\u001b[1;33m \u001b[0mfigure\u001b[0m\u001b[1;33m(\u001b[0m\u001b[0mfigsize\u001b[0m\u001b[1;33m=\u001b[0m\u001b[1;33m[\u001b[0m\u001b[1;36m10\u001b[0m\u001b[1;33m,\u001b[0m\u001b[1;36m4\u001b[0m\u001b[1;33m]\u001b[0m\u001b[1;33m)\u001b[0m\u001b[1;33m\u001b[0m\u001b[1;33m\u001b[0m\u001b[0m\n\u001b[0m\u001b[0;32m      2\u001b[0m \u001b[0mplt\u001b[0m\u001b[1;33m.\u001b[0m\u001b[0mhist\u001b[0m\u001b[1;33m(\u001b[0m\u001b[0mS\u001b[0m\u001b[1;33m)\u001b[0m\u001b[1;33m\u001b[0m\u001b[1;33m\u001b[0m\u001b[0m\n\u001b[0;32m      3\u001b[0m \u001b[0mxlim\u001b[0m\u001b[1;33m(\u001b[0m\u001b[1;33m[\u001b[0m\u001b[1;33m-\u001b[0m\u001b[1;36m250\u001b[0m\u001b[1;33m,\u001b[0m\u001b[1;36m250\u001b[0m\u001b[1;33m]\u001b[0m\u001b[1;33m)\u001b[0m\u001b[1;33m\u001b[0m\u001b[1;33m\u001b[0m\u001b[0m\n\u001b[0;32m      4\u001b[0m \u001b[0mxlabel\u001b[0m\u001b[1;33m(\u001b[0m\u001b[1;34m\"sum\"\u001b[0m\u001b[1;33m)\u001b[0m\u001b[1;33m\u001b[0m\u001b[1;33m\u001b[0m\u001b[0m\n\u001b[0;32m      5\u001b[0m \u001b[0mylabel\u001b[0m\u001b[1;33m(\u001b[0m\u001b[1;34m\"count\"\u001b[0m\u001b[1;33m)\u001b[0m\u001b[1;33m\u001b[0m\u001b[1;33m\u001b[0m\u001b[0m\n",
      "\u001b[1;31mNameError\u001b[0m: name 'figure' is not defined"
     ]
    }
   ],
   "source": [
    "figure(figsize=[10,4])\n",
    "plt.hist(S)\n",
    "xlim([-250,250])\n",
    "xlabel(\"sum\")\n",
    "ylabel(\"count\")\n",
    "grid()"
   ]
  },
  {
   "cell_type": "markdown",
   "metadata": {},
   "source": [
    "1. Monte-Carlo Simulation: Monte Carlo methods, or Monte Carlo experiments, are a broad class of computational algorithms that rely on repeated random sampling to obtain numerical results. Monte Carlo methods are mainly used in three problem classes optimization, numerical integration, and generating draws from a probability distribution.\n",
    "2. Look at the notebook on Course: Probability and stats topic1 - The-Three-card-Puzzle.ipynb"
   ]
  },
  {
   "cell_type": "markdown",
   "metadata": {},
   "source": [
    "1. There are two parts to probability and statistics.\n",
    "    * Repeated game of chance - Here comes the grequentist statistics - This involves Hypothesis Testing and P-values.\n",
    "    * Strength of evidence and degree of belief - Here comes the Bayesian statistics\n",
    "    \n",
    "2. Machine Learning uses both the ways.\n",
    "<img src=\"images/image47.png\" align=\"middle\" style=\"width:400px;height:400p\" />"
   ]
  },
  {
   "cell_type": "markdown",
   "metadata": {},
   "source": [
    "### Sets\n",
    "1. Sets are basically grouping of elements:\n",
    "<img src=\"images/image48.png\" align=\"middle\" style=\"width:400px;height:400p\" />\n",
    "2. Membership:\n",
    "<img src=\"images/image49.png\" align=\"middle\" style=\"width:400px;height:400p\" />\n",
    "2. The order of elements does not matter. {0,1}=={1,0}\n",
    "3. Repetition is allowed {0,1,1,1}\n",
    "4. If order matters thne we write(0,1)~=(1,0)"
   ]
  },
  {
   "cell_type": "code",
   "execution_count": 147,
   "metadata": {},
   "outputs": [
    {
     "name": "stdout",
     "output_type": "stream",
     "text": [
      "-5 9\n"
     ]
    }
   ],
   "source": [
    "# set in python\n",
    "set1 = {1,2}\n",
    "set2 = set({1,2}) # same as above\n",
    "set3 = set({}) # empty set.. \n",
    "set4 = {} # this is not a empty set, its a dict\n",
    "1 in set1 # use 'in' and 'not in' to test the membership\n",
    "not set3 # test if the set is empty.\n",
    "len(set2) # size of a set |set2|\n",
    "NewSet = {-2,-5,9,2, 1, 3}\n",
    "print(min(NewSet),max(NewSet))"
   ]
  },
  {
   "cell_type": "markdown",
   "metadata": {},
   "source": [
    "## conti..\n",
    "<img src=\"images/image51.png\" align=\"middle\" style=\"width:400px;height:400p\" />"
   ]
  },
  {
   "cell_type": "markdown",
   "metadata": {},
   "source": [
    "### Common notations:\n",
    "1. Here are some common notations\n",
    "<img src=\"images/image50.png\" align=\"middle\" style=\"width:400px;height:400p\" />"
   ]
  },
  {
   "cell_type": "markdown",
   "metadata": {},
   "source": [
    "### Venn Diagram:\n",
    "1. Venn Diagram is a way of representing and analysing sets.\n",
    "<img src=\"images/image52.png\" align=\"middle\" style=\"width:400px;height:400p\" />\n",
    "2. We can plot venn diagram using python matplotlib_venn"
   ]
  },
  {
   "cell_type": "code",
   "execution_count": 148,
   "metadata": {},
   "outputs": [
    {
     "data": {
      "image/png": "[encoded data removed]",
      "text/plain": [
       "<Figure size 432x288 with 1 Axes>"
      ]
     },
     "metadata": {},
     "output_type": "display_data"
    }
   ],
   "source": [
    "S={1,2,3}\n",
    "T={0,2,-1,5}\n",
    "venn.venn2([S,T], set_labels=('S', 'T')) # venn2 states we are dealing with 2 sets use venn3 etc.\n",
    "plt.show()"
   ]
  },
  {
   "cell_type": "markdown",
   "metadata": {},
   "source": [
    "### Elements of sets must be immutable\n",
    "While in mathematics anything can be an element of a set, in Python an element has to be immutable and hashable i.e. an object with a fixed value. Immutable objects include numbers, strings and tuples."
   ]
  },
  {
   "cell_type": "code",
   "execution_count": 149,
   "metadata": {},
   "outputs": [
    {
     "data": {
      "text/plain": [
       "{(1, 2), (1, 3), (3, 1)}"
      ]
     },
     "execution_count": 149,
     "metadata": {},
     "output_type": "execute_result"
    }
   ],
   "source": [
    "#elements can be tuples\n",
    "set([(1,2),(1,3),(3,1)])\n",
    "# but cannot be lists\n",
    "#set([[1,2],[1,3],[3,1]])"
   ]
  },
  {
   "cell_type": "markdown",
   "metadata": {},
   "source": [
    "#### Operations on sets\n",
    "Python defines many operations on sets. Most operations come in two forms: as a method, and as an overload of mathematical operators."
   ]
  },
  {
   "cell_type": "code",
   "execution_count": 150,
   "metadata": {},
   "outputs": [
    {
     "data": {
      "text/plain": [
       "({0, 1, 2}, {0, 2, 4}, {0, 1, 2, 3, 4, 5}, {-2, -1}, {-2, -1})"
      ]
     },
     "execution_count": 150,
     "metadata": {},
     "output_type": "execute_result"
    }
   ],
   "source": [
    "A=set(range(0,3)) # all integers between 0 and 2\n",
    "B=set(range(0,6,2)) # even integers between 0 and 2\n",
    "C=set(range(0,6))   # all integers between 0 and 5\n",
    "D=set({-1,-2})\n",
    "E=set({-1,-2,-1})\n",
    "A,B,C,D,E"
   ]
  },
  {
   "cell_type": "code",
   "execution_count": 151,
   "metadata": {},
   "outputs": [
    {
     "data": {
      "text/plain": [
       "{6, 7, 9}"
      ]
     },
     "execution_count": 151,
     "metadata": {},
     "output_type": "execute_result"
    }
   ],
   "source": [
    "# upadte, delete, pop a element\n",
    "A = {1, 2, 9, 6, 7}\n",
    "A.update({4}) # adds 4\n",
    "A.remove(2) # removes 2 if not present throws error\n",
    "A.discard(1) # removes 1 if present\n",
    "A.discard(5) # removes 5 if present else no error\n",
    "A.pop() # pops first elelemt in the set \n",
    "sorted(A)\n",
    "A"
   ]
  },
  {
   "cell_type": "code",
   "execution_count": 69,
   "metadata": {},
   "outputs": [
    {
     "data": {
      "text/plain": [
       "(False, False, True)"
      ]
     },
     "execution_count": 69,
     "metadata": {},
     "output_type": "execute_result"
    }
   ],
   "source": [
    "## Checking if an element is in a set:\n",
    "1 in A, 1 in B, 3 not in B"
   ]
  },
  {
   "cell_type": "code",
   "execution_count": 70,
   "metadata": {},
   "outputs": [
    {
     "data": {
      "text/plain": [
       "True"
      ]
     },
     "execution_count": 70,
     "metadata": {},
     "output_type": "execute_result"
    }
   ],
   "source": [
    "## equality\n",
    "A == B #False\n",
    "A == C # False\n",
    "D == E # True"
   ]
  },
  {
   "cell_type": "code",
   "execution_count": 71,
   "metadata": {},
   "outputs": [
    {
     "data": {
      "text/plain": [
       "(False, False)"
      ]
     },
     "execution_count": 71,
     "metadata": {},
     "output_type": "execute_result"
    }
   ],
   "source": [
    "# when all elements of A are in B we call A is a subset of B\n",
    "# Strict subset is one where A is a subset of B but A is not equal to B\n",
    "A.issubset(C), A<=C\n",
    "# A<C # True A is strict subset of C"
   ]
  },
  {
   "cell_type": "code",
   "execution_count": 72,
   "metadata": {},
   "outputs": [
    {
     "data": {
      "text/plain": [
       "(False, False)"
      ]
     },
     "execution_count": 72,
     "metadata": {},
     "output_type": "execute_result"
    }
   ],
   "source": [
    "# if C contains all the elements of B then, we call C as a superset of B\n",
    "C.issuperset(B),C>=B\n",
    "C.issuperset(A),C>=A\n",
    "#C>B # true, C is a strict superset of C, which means C contains all the elements of B but C != B"
   ]
  },
  {
   "cell_type": "code",
   "execution_count": 80,
   "metadata": {},
   "outputs": [
    {
     "data": {
      "text/plain": [
       "True"
      ]
     },
     "execution_count": 80,
     "metadata": {},
     "output_type": "execute_result"
    }
   ],
   "source": [
    "# two sets are said to be disjoint sets if they have no element in common.\n",
    "C.isdisjoint(A) # False\n",
    "D.isdisjoint(A)"
   ]
  },
  {
   "cell_type": "code",
   "execution_count": 83,
   "metadata": {},
   "outputs": [
    {
     "data": {
      "text/plain": [
       "({0, 2}, {0, 2})"
      ]
     },
     "execution_count": 83,
     "metadata": {},
     "output_type": "execute_result"
    }
   ],
   "source": [
    "# two sets are said to have a intersetcion if they have atleast one element in common.\n",
    "A.intersection(B), A&B # gives a set with common elements"
   ]
  },
  {
   "cell_type": "code",
   "execution_count": 76,
   "metadata": {},
   "outputs": [
    {
     "data": {
      "text/plain": [
       "({6, 7, 9}, {0, 2, 4}, {0, 1, 2, 3, 4, 5}, {-2, -1}, {-2, -1})"
      ]
     },
     "execution_count": 76,
     "metadata": {},
     "output_type": "execute_result"
    }
   ],
   "source": [
    "A,B,C,D,E"
   ]
  },
  {
   "cell_type": "code",
   "execution_count": 75,
   "metadata": {},
   "outputs": [
    {
     "data": {
      "text/plain": [
       "({0, 2, 4, 6, 7, 9}, {0, 2, 4, 6, 7, 9})"
      ]
     },
     "execution_count": 75,
     "metadata": {},
     "output_type": "execute_result"
    }
   ],
   "source": [
    "A.union(B),A | B"
   ]
  },
  {
   "cell_type": "code",
   "execution_count": 84,
   "metadata": {},
   "outputs": [
    {
     "data": {
      "text/plain": [
       "({1}, {1})"
      ]
     },
     "execution_count": 84,
     "metadata": {},
     "output_type": "execute_result"
    }
   ],
   "source": [
    "# The difference between A and B contains all elements that are in A but not in B\n",
    "A.difference(B), A-B"
   ]
  },
  {
   "cell_type": "code",
   "execution_count": 85,
   "metadata": {},
   "outputs": [
    {
     "data": {
      "text/plain": [
       "({1, 4}, {1, 4})"
      ]
     },
     "execution_count": 85,
     "metadata": {},
     "output_type": "execute_result"
    }
   ],
   "source": [
    "# The symetric difference contains all elements that are in one of the two sets, but not in both\n",
    "A.symmetric_difference(B), A^B"
   ]
  },
  {
   "cell_type": "code",
   "execution_count": 87,
   "metadata": {},
   "outputs": [
    {
     "data": {
      "text/plain": [
       "{1, 2}"
      ]
     },
     "execution_count": 87,
     "metadata": {},
     "output_type": "execute_result"
    }
   ],
   "source": [
    "a={1,2}\n",
    "b={3,4}\n",
    "a-b"
   ]
  },
  {
   "cell_type": "code",
   "execution_count": 152,
   "metadata": {},
   "outputs": [
    {
     "data": {
      "text/plain": [
       "{('a', 1), ('a', 2), ('b', 1), ('b', 2), ('c', 1), ('c', 2)}"
      ]
     },
     "execution_count": 152,
     "metadata": {},
     "output_type": "execute_result"
    }
   ],
   "source": [
    "# Cartesian Product\n",
    "#the product of two sets: the product of set X and set Y is the set that contains all ordered pairs ( x, y ) \n",
    "#for which x belongs to X and y belongs to Y.\n",
    "A=set(['a','b','c'])\n",
    "B=set([1,2])\n",
    "C=set()\n",
    "for x in A:\n",
    "    for y in B:\n",
    "        C.add((x,y))\n",
    "C"
   ]
  },
  {
   "cell_type": "code",
   "execution_count": 154,
   "metadata": {},
   "outputs": [
    {
     "data": {
      "text/plain": [
       "{('a', 1), ('a', 2), ('b', 1), ('b', 2), ('c', 1), ('c', 2)}"
      ]
     },
     "execution_count": 154,
     "metadata": {},
     "output_type": "execute_result"
    }
   ],
   "source": [
    "# using product from itertool\n",
    "C = set()\n",
    "for i in product(A,B):\n",
    "    C.update({i})\n",
    "C"
   ]
  },
  {
   "cell_type": "markdown",
   "metadata": {},
   "source": [
    "### Counting the set elements or size $|S|$ of sets"
   ]
  },
  {
   "cell_type": "code",
   "execution_count": 121,
   "metadata": {},
   "outputs": [
    {
     "name": "stdout",
     "output_type": "stream",
     "text": [
      "2 2\n"
     ]
    },
    {
     "data": {
      "text/plain": [
       "4"
      ]
     },
     "execution_count": 121,
     "metadata": {},
     "output_type": "execute_result"
    }
   ],
   "source": [
    "# counting sets\n",
    "# Disjoint Union: A Union of 2 sets which are disjoint to each other is called as disjoint union.\n",
    "# And their len is equal to the sum of each sets len\n",
    "A = {1, 2}\n",
    "B = {3, 5}\n",
    "print(len(A),len(B))\n",
    "C=A|B\n",
    "len(C)"
   ]
  },
  {
   "cell_type": "code",
   "execution_count": null,
   "metadata": {},
   "outputs": [],
   "source": []
  },
  {
   "cell_type": "code",
   "execution_count": 122,
   "metadata": {},
   "outputs": [
    {
     "name": "stdout",
     "output_type": "stream",
     "text": [
      "3 3\n"
     ]
    }
   ],
   "source": [
    "A = {1, 2, 3}\n",
    "B = {1, 3, 5}\n",
    "print(len(A),len(B))"
   ]
  },
  {
   "cell_type": "code",
   "execution_count": 123,
   "metadata": {},
   "outputs": [
    {
     "name": "stdout",
     "output_type": "stream",
     "text": [
      "{1, 3} \n",
      " 2\n"
     ]
    }
   ],
   "source": [
    "# Intersection\n",
    "C = A & B\n",
    "print(C, \"\\n\", len(C))"
   ]
  },
  {
   "cell_type": "code",
   "execution_count": 124,
   "metadata": {},
   "outputs": [
    {
     "name": "stdout",
     "output_type": "stream",
     "text": [
      "{2} \n",
      " 1\n"
     ]
    }
   ],
   "source": [
    "# Difference\n",
    "E = A-B\n",
    "print(E, \"\\n\", len(E))"
   ]
  },
  {
   "cell_type": "code",
   "execution_count": null,
   "metadata": {},
   "outputs": [],
   "source": [
    "# Union\n",
    "D = A | B\n",
    "print(D, \"\\n\", len(D) ,\"\\n\", len(A)+len(B)-len(C))"
   ]
  },
  {
   "cell_type": "markdown",
   "metadata": {},
   "source": [
    "## Cartesian Products\n",
    "\n",
    "We'll find the cartesian product of two sets $A$ and $B$ and determine size $|A\\times B|$ is simply multiplying size $|A|$ by size $|B|$"
   ]
  },
  {
   "cell_type": "code",
   "execution_count": 155,
   "metadata": {},
   "outputs": [
    {
     "name": "stdout",
     "output_type": "stream",
     "text": [
      "6\n",
      "6\n"
     ]
    }
   ],
   "source": [
    "C = set()\n",
    "for i in product(A,B):\n",
    "    C.update({i})\n",
    "print(len(C))\n",
    "print(len(A)*len(B))"
   ]
  },
  {
   "cell_type": "markdown",
   "metadata": {},
   "source": [
    "### Cartesian Power\n",
    "We determine the size of $A^k$, the $k$-th cartesian power of $A$ in two ways: calculating $A^k$ and its size, and then via the formula $|A|^k$."
   ]
  },
  {
   "cell_type": "code",
   "execution_count": 128,
   "metadata": {},
   "outputs": [
    {
     "name": "stdout",
     "output_type": "stream",
     "text": [
      "{(3, 2), (3, 1), (1, 1), (2, 3), (3, 3), (1, 3), (1, 2), (2, 2), (2, 1)}\n",
      "9\n",
      "9\n"
     ]
    }
   ],
   "source": [
    "A = {1, 2, 3}\n",
    "k = 2\n",
    "\n",
    "C = set(product(A, repeat=k))\n",
    "print(C)\n",
    "print(len(C))\n",
    "# Find |A|^k directly\n",
    "print(len(A)**k)"
   ]
  },
  {
   "cell_type": "code",
   "execution_count": 137,
   "metadata": {},
   "outputs": [
    {
     "data": {
      "text/plain": [
       "10000"
      ]
     },
     "execution_count": 137,
     "metadata": {},
     "output_type": "execute_result"
    }
   ],
   "source": [
    "# Example how many 4 digit pin can be made with real number set\n",
    "A = set(range(10)) # |D^4| read it as length of \n",
    "len(A)**4 # 10,000 4 digit pins can be made with real interger number set"
   ]
  },
  {
   "cell_type": "code",
   "execution_count": 138,
   "metadata": {},
   "outputs": [
    {
     "data": {
      "text/plain": [
       "111000"
      ]
     },
     "execution_count": 138,
     "metadata": {},
     "output_type": "execute_result"
    }
   ],
   "source": [
    "# Example how many 4 ,3 and 5digit pin can be made with real number set\n",
    "A = set(range(10))\n",
    "# |D^3| U |D^4| U |D^5|\n",
    "len(A)**3 + len(A)**4 +len(A)**5"
   ]
  },
  {
   "cell_type": "markdown",
   "metadata": {},
   "source": [
    "### Combinatorics!"
   ]
  },
  {
   "cell_type": "markdown",
   "metadata": {},
   "source": [
    "__Permutations__: Permutation is the act of arranging the members of a set into a sequence or order, or, if the set is already ordered, rearranging its elements—a process called permuting. E.g  there are six permutations of the set {1,2,3}, namely: (1,2,3), (1,3,2), (2,1,3), (2,3,1), (3,1,2), and (3,2,1)\n",
    "   Permutations of n objects = n * (n-1) * ..* 2 * 1 == n! ( n factorial)\n",
    "<img src=\"images/image53.png\" align=\"middle\" style=\"width:400px;height:400p\" />\n",
    "    "
   ]
  },
  {
   "cell_type": "markdown",
   "metadata": {},
   "source": [
    "####  The itertools library that contains several combinatorial functions generating Cartesian products, permutations, and combinations."
   ]
  },
  {
   "cell_type": "code",
   "execution_count": 162,
   "metadata": {},
   "outputs": [],
   "source": [
    "# using python function\n",
    "def permute(A):\n",
    "    if len(A)==1:\n",
    "        return [tuple(A)]\n",
    "    permutations = []\n",
    "    for x in A:\n",
    "        for y in permute(A-{x}):\n",
    "            permutations.append((x,)+y)\n",
    "    return permutations"
   ]
  },
  {
   "cell_type": "code",
   "execution_count": 172,
   "metadata": {},
   "outputs": [
    {
     "name": "stdout",
     "output_type": "stream",
     "text": [
      "Permutations of {1, 2, 3}: {(3, 1, 2), (3, 2, 1), (2, 3, 1), (1, 2, 3), (1, 3, 2), (2, 1, 3)}\n",
      "Number of permutations: 6 .. 6 using fofactorial \n"
     ]
    }
   ],
   "source": [
    "# Find all permutations of A and |A!|\n",
    "A={1,2,3}\n",
    "#permute_all = set(permute(A)) # using python function\n",
    "permute_all = set(itertools.permutations(A))\n",
    "print(\"Permutations of {}: {}\".format(A,permute_all))\n",
    "print(\"Number of permutations: {} .. {} using fofactorial \".format(len(permute_all), int(factorial(len(A)))))"
   ]
  },
  {
   "cell_type": "markdown",
   "metadata": {},
   "source": [
    "### Partial Permutations (k -ermutations of A)\n",
    "We find the number of $k$-permutations of $A$, first by determining the set of permutations and then by calculating $\\frac{|A|!}{(|A|-k)!}$.\n",
    "<img src=\"images/image54.png\" align=\"middle\" style=\"width:400px;height:400p\" />"
   ]
  },
  {
   "cell_type": "code",
   "execution_count": 175,
   "metadata": {},
   "outputs": [
    {
     "name": "stdout",
     "output_type": "stream",
     "text": [
      "2-permutations of {1, 2, 3}: [(1, 2), (1, 3), (2, 1), (2, 3), (3, 1), (3, 2)]\n",
      "Size =  = 6\n"
     ]
    }
   ],
   "source": [
    "# Print all the k-permutations of A\n",
    "A = {1, 2, 3}\n",
    "k = 2\n",
    "permute_k = list(itertools.permutations(A, k))\n",
    "print(\"{}-permutations of {}: {}\".format(k,A,permute_k))\n",
    "print(\"Size =  = {}\".format(len(permute_k)))"
   ]
  },
  {
   "cell_type": "code",
   "execution_count": 177,
   "metadata": {},
   "outputs": [
    {
     "name": "stdout",
     "output_type": "stream",
     "text": [
      "Size = 3!/(3-2)!=6\n"
     ]
    }
   ],
   "source": [
    "# Print |A|!/(|A|-k)! directly\n",
    "n = len(A)\n",
    "print(\"Size = {}!/({}-{})!={}\".format(n,n,k,int(factorial(len(A))/factorial(len(A)-k))))"
   ]
  },
  {
   "cell_type": "markdown",
   "metadata": {},
   "source": [
    "__Combinations__: A combination is a selection of items from a collection, such that (unlike permutations) the order of selection does not matter. For example, given three fruits, say an apple, an orange and a pear, there are three combinations of two that can be drawn from this set: AO, AP, OP.\n",
    "    Combinations of n objects taken k at a time = n! / k!(n-k)!\n",
    "<img src=\"images/image55.png\" align=\"middle\" style=\"width:400px;height:400p\" />"
   ]
  },
  {
   "cell_type": "markdown",
   "metadata": {},
   "source": [
    "### Probability in Deep"
   ]
  },
  {
   "cell_type": "markdown",
   "metadata": {},
   "source": [
    "<img src=\"images/image56.png\" align=\"middle\" style=\"width:400px;height:400p\" />  \n",
    "1. Two type of Sample Space: Finite sample space are called as discrete e.g coin flip. Uncountable infnite sample space called as continuous sample.e.g temperatue, salary\n",
    "2. __Probability__ : The probability or likelihood, of and outcome x, denoted by P(x) or P(X=x), is the fraction of times x will occur when experiment is repeated many times. Like in coin flip P(h) = 1/2 = P(t) and in dice P(1)=P(2)=1/6\n",
    "3. Sum of all propability in a experient is '1'.\n",
    "3. Probability distribution: A probability distribution is a list of all of the possible outcomes of a random variable along with their corresponding probability values. Types:\n",
    "    a. Uniform Distribution: All outcomes are equally likely to occur P(h) = 1/2 = P(t)\n",
    "    b. Non-uniform distribution: All outcomes have different probability, but they sum to 1.e.g P(rain) = 10% and p(no rain)=90%\n",
    "4. If there is single outcome in a experient, its simple. If the outcome is a set{} we call it as event. So set of possible outcomes is called as events. e.g In a die the probability of getting a even number {2,4,6} is called as a Even Event.\n",
    "    a. Probability of an Event is the sum of probability of their elements. \n",
    "    So P(even) = P(2) + P(4) + P(6) = 3(1/6) = 3/6 = 0.5"
   ]
  },
  {
   "cell_type": "markdown",
   "metadata": {},
   "source": [
    "### Conditional Probability:\n",
    "1. Conditional probability is the probability of one event occurring with some relationship to one or more other events. \n",
    "   E,F --> are events\n",
    "   P(F|E) = Prob that F happens given that E happened. Read it as prob of F given E\n",
    "   E.g in a Die P(4|>=3) --> Read it 'probability of 4 given that the outcome number is greater than or equal to 3 is'\n",
    "   which is P(4|{3,4,5,6}) = 1/4"
   ]
  },
  {
   "cell_type": "markdown",
   "metadata": {},
   "source": [
    "### Bayes' Theorem: \n",
    "1. Its mathemamatical equation states that:\n",
    "    P(A|B) = $\\frac{P(B|A)*P(A)}{P(B)}$"
   ]
  },
  {
   "cell_type": "markdown",
   "metadata": {},
   "source": [
    "## PDF - > Probability Distribution Function:\n",
    "1. In probability theory, a probability density function (PDF), or density of a continuous random variable, is a function that describes the relative livelihood for this random variable to take on a given value.\n",
    "2. In a more precise sense, the PDF is used to specify the probability of the random variable falling within a particular range of values, as opposed to taking on any one value.\n",
    "3. This probability is given by the integral of this variable's PDF over that range—that is, it is given by the area under the density function but above the horizontal axis and between the lowest and greatest values of the range. The probability density function is nonnegative everywhere, and its integral over the entire space is equal to 1.\n",
    "4. PDF is for continuous random variable and Probability Mass Function(PMF) is for discrete function\n",
    "2. https://www.tutorialspoint.com/statistics/probability_density_function.htm\n",
    "3. https://towardsdatascience.com/understanding-boxplots-5e2df7bcbd51\n",
    "4. https://en.wikipedia.org/wiki/Probability_density_function"
   ]
  },
  {
   "cell_type": "markdown",
   "metadata": {},
   "source": [
    "## CDF -> Cumulative Distribution Function:\n",
    "1. The cumulative distribution function (cdf) is the probability that the variable takes a value less than or equal to x. That is. F(x) = Pr[X \\le x]\n",
    "2. CDF graph always lies between 0 and 1.\n",
    "3. Main application of CDF is that, it will give you the percentile(on y-axis) for any value on x-axis, since it is cumulative. Also as the CDF lies between 0 and 1 it gives the percentile for x-axis value.\n",
    "4. Difference between PDF and CDF:\n",
    "    * PDF → probability density function\n",
    "      CDF → Cumulative density function\n",
    "      Probability looks at probability at one point.\n",
    "      Cumulative is the total probability of anything below it.\n",
    "      "
   ]
  },
  {
   "cell_type": "code",
   "execution_count": 11,
   "metadata": {},
   "outputs": [
    {
     "data": {
      "image/png": "[encoded data removed]",
      "text/plain": [
       "<Figure size 432x288 with 1 Axes>"
      ]
     },
     "metadata": {
      "needs_background": "light"
     },
     "output_type": "display_data"
    }
   ],
   "source": [
    "df = pd.read_csv('https://raw.githubusercontent.com/uiuc-cse/data-fa14/gh-pages/data/iris.csv')\n",
    "data = df.groupby('species')\n",
    "sns.distplot(data.get_group('setosa')['petal_length'], label=\"setosa\")\n",
    "kwargs = {'cumulative': True}\n",
    "sns.distplot(data.get_group('setosa')['petal_length'], hist_kws=kwargs, kde_kws=kwargs)\n",
    "plt.legend()\n",
    "plt.grid()\n",
    "\n",
    "# With the below CDF(orange) graph we can say that 80% of setosa flower have petal length <=1.6"
   ]
  },
  {
   "cell_type": "markdown",
   "metadata": {},
   "source": [
    "## Statistics"
   ]
  },
  {
   "cell_type": "markdown",
   "metadata": {},
   "source": [
    "\n",
    "1. __Random Variable__ - A random variable, usually written X, is a variable whose possible values are numerical outcomes of a random phenomenon. There are two types of random variables, discrete and continuous.\n",
    "    * __Discrete Random Variables__ - A discrete random variable is one which may take on only a countable number of distinct values such as 0,1,2,3,4. Examples of discrete random variables include the number of children in a family, the Friday night attendance at a cinema. The probability distribution of a discrete random variable is a list of probabilities associated with each of its possible values.It is also sometimes called the probability function or the probability mass function.\n",
    "    * __Continuous Random Variables__ - A continuous random variable is one which takes an infinite number of possible values. Continuous random variables are usually measurements. Examples include height, weight, the amount of sugar in an orange, the time required to run a mile."
   ]
  },
  {
   "cell_type": "markdown",
   "metadata": {},
   "source": [
    "### Measure of central tendency: In statistics, a central tendency is a central or typical values (Mean median and mode) for a probability distribution.\n",
    "1. Mean (Meu-u) - The sample mean, or average, of a group of values is calculated by taking the sum of all of the values and dividing by the total number of values. In other words, for n values x1, x2, x3, ... , xn, the mean  = (x1 + x2 + x3 + ... + xn)\n",
    "2. Median - The median of a group of values is the center, or midpoint, of the ordered values. The median is calculated by placing a group of values in ascending order and taking the center observation of the ordered list, such that there are an equal number of values above and below the median.\n",
    "    * When you have a big outlier in a dataset say Age = {13, 15, 35, 4, 50, 26, 32, 300}. Here you want to calculate the average age of the sample population. Then taking a mean will give you Mean = 60 which actually falsing misleading for the sample dataset because of the outlier. So its better to also consider the median which in this case is {4,13,15,26,32,35,50,300} = (26+32)/2 = 29 which will make more sense for average age in this case.\n",
    "3. Mode - The mode is the most frequent score in our data set. Particularly use full for caterogical variable. Say eaxmple you want to fill up some NaN's in a pincode column, we will use mode there because Mean or Median will not make sense in this case\n",
    "4. Quartiles - The first quartile of a group of values is the value such the 25% of the values fall at or below this value. The third quartile of a group of values is the value such that 75% of the values fall at or below this value. So we have first, second and third quartile Q1, Q2, Q3 respectively. The distance between the first and third quartiles is known as the Inter-Quartile Range (IQR = Q3-Q1). A useful graphical representation of a distribution including the quartiles is a boxplot."
   ]
  },
  {
   "cell_type": "markdown",
   "metadata": {},
   "source": [
    "## Variance and Standard Deviation: https://www.mathsisfun.com/data/standard-deviation.html\n",
    "1. __Variance__ - It is calculated as The average of the squared differences from the Mean. Informally, it measures how far a set of (random) numbers are spread out from their average value (mean).A large variance indicates a wide range of values, while a small variance indicates that the values lie close to their mean.\n",
    "2. __Standard Deviation (Sigma)__ - the standard deviation is a measure of the amount of variation or dispersion of a set of values. A low standard deviation indicates that the values tend to be close to the mean (also called the expected value) of the set, while a high standard deviation indicates that the values are spread out over a wider range. \n",
    "    SD = SquareRoot(Variance)"
   ]
  },
  {
   "cell_type": "markdown",
   "metadata": {},
   "source": [
    "## Distribution: https://www.youtube.com/watch?v=YAlJCEDH2uY\n",
    "1. Spread of data is known as distribution. There can be different kind of distribution. Uniform Distribution (A line parallel to X axis), where the probability of selecting one random value is equal for values benigth the line. Exponential Distribution.\n",
    "2. __Why Distribution is required__: Say a Comapny HR wants to order some T-Shirts for 100K employees. After doing a survey on 500 employees and with some domain knowledge she would make a CDF adn PDF with the help of which she can order S,M,L,XL shirts with required quantity."
   ]
  },
  {
   "cell_type": "markdown",
   "metadata": {},
   "source": [
    "## Gaussian or Normal Distribution \"Bell Curve\":\n",
    "1. Data can be \"distributed\" (spread out) in different ways.(more in left or right or all jumbled). But there are many cases where the data tends to be around a central value with no bias left or right, and it gets close to a \"Normal Distribution\" like a bell curve.\n",
    "2. We say the data is \"Normally distributed\" or properties of a Normally distributed datatset are : \n",
    "    * When Mean = Median = Mode\n",
    "    * symmetric  about the center\n",
    "    * 50% of values are less than mean and 50% of values are more than mean.\n",
    "    * Using the Emperical formula Generally 68% of values are within 1 standard deviation of the mean\n",
    "    * Generally 95% of values are within 2 standard deviation of the mean\n",
    "    * Generally 97.7% of values are within 3 standard deviation of the mean\n"
   ]
  },
  {
   "cell_type": "markdown",
   "metadata": {},
   "source": [
    "## Standard Normal Distribution:\n",
    "1. A Normal distribution with a mean = 0 and Std deviation = 1 is said to have a SND. \n",
    "    Formula to convert a Gaussian Distribution into Standard Deviation is :\n",
    "      z = (x-mean) / (standard deviation)\n"
   ]
  },
  {
   "cell_type": "code",
   "execution_count": 27,
   "metadata": {},
   "outputs": [
    {
     "name": "stdout",
     "output_type": "stream",
     "text": [
      "0    3.0\n",
      "dtype: float64\n",
      "0    1.581139\n",
      "dtype: float64\n"
     ]
    }
   ],
   "source": [
    "data = [1,2,3,4,5]\n",
    "df = pd.DataFrame(data)\n",
    "print(df.mean())\n",
    "print(df.std())\n",
    "# print(df.describe())"
   ]
  },
  {
   "cell_type": "code",
   "execution_count": 5,
   "metadata": {},
   "outputs": [
    {
     "data": {
      "text/html": [
       "<div>\n",
       "<style scoped>\n",
       "    .dataframe tbody tr th:only-of-type {\n",
       "        vertical-align: middle;\n",
       "    }\n",
       "\n",
       "    .dataframe tbody tr th {\n",
       "        vertical-align: top;\n",
       "    }\n",
       "\n",
       "    .dataframe thead th {\n",
       "        text-align: right;\n",
       "    }\n",
       "</style>\n",
       "<table border=\"1\" class=\"dataframe\">\n",
       "  <thead>\n",
       "    <tr style=\"text-align: right;\">\n",
       "      <th></th>\n",
       "      <th>sepal_length</th>\n",
       "      <th>sepal_width</th>\n",
       "      <th>petal_length</th>\n",
       "      <th>petal_width</th>\n",
       "      <th>species</th>\n",
       "    </tr>\n",
       "  </thead>\n",
       "  <tbody>\n",
       "    <tr>\n",
       "      <th>0</th>\n",
       "      <td>5.1</td>\n",
       "      <td>3.5</td>\n",
       "      <td>1.4</td>\n",
       "      <td>0.2</td>\n",
       "      <td>setosa</td>\n",
       "    </tr>\n",
       "    <tr>\n",
       "      <th>1</th>\n",
       "      <td>4.9</td>\n",
       "      <td>3.0</td>\n",
       "      <td>1.4</td>\n",
       "      <td>0.2</td>\n",
       "      <td>setosa</td>\n",
       "    </tr>\n",
       "  </tbody>\n",
       "</table>\n",
       "</div>"
      ],
      "text/plain": [
       "   sepal_length  sepal_width  petal_length  petal_width species\n",
       "0           5.1          3.5           1.4          0.2  setosa\n",
       "1           4.9          3.0           1.4          0.2  setosa"
      ]
     },
     "execution_count": 5,
     "metadata": {},
     "output_type": "execute_result"
    }
   ],
   "source": [
    "df = pd.read_csv('https://raw.githubusercontent.com/uiuc-cse/data-fa14/gh-pages/data/iris.csv')\n",
    "df.head(2)"
   ]
  },
  {
   "cell_type": "code",
   "execution_count": 6,
   "metadata": {},
   "outputs": [
    {
     "data": {
      "image/png": "[encoded data removed]",
      "text/plain": [
       "<Figure size 372.75x288 with 1 Axes>"
      ]
     },
     "metadata": {
      "needs_background": "light"
     },
     "output_type": "display_data"
    }
   ],
   "source": [
    "sns.FacetGrid(data = df, hue='species', height=4) \\\n",
    "   .map(sns.distplot, \"petal_length\") \\\n",
    "   .add_legend();\n",
    "plt.show();\n",
    "# Same as above graph\n",
    "# data = df.groupby('species')\n",
    "# sns.distplot(data.get_group('setosa')['petal_length'], label=\"setosa\")\n",
    "# sns.distplot(data.get_group('versicolor')['petal_length'], label=\"versicolor\")\n",
    "# sns.distplot(data.get_group('virginica')['petal_length'], label=\"virginica\")\n",
    "# plt.legend()\n",
    "# plt.grid()"
   ]
  },
  {
   "cell_type": "code",
   "execution_count": 10,
   "metadata": {
    "scrolled": true
   },
   "outputs": [
    {
     "data": {
      "image/png": "[encoded data removed]",
      "text/plain": [
       "<Figure size 432x288 with 1 Axes>"
      ]
     },
     "metadata": {
      "needs_background": "light"
     },
     "output_type": "display_data"
    }
   ],
   "source": [
    "df = pd.read_csv('https://raw.githubusercontent.com/uiuc-cse/data-fa14/gh-pages/data/iris.csv')\n",
    "data = df.groupby('species')\n",
    "sns.distplot(data.get_group('setosa')['petal_length'], label=\"setosa\")\n",
    "kwargs = {'cumulative': True}\n",
    "sns.distplot(data.get_group('setosa')['petal_length'], hist_kws=kwargs, kde_kws=kwargs)\n",
    "plt.legend()\n",
    "plt.grid()"
   ]
  },
  {
   "cell_type": "markdown",
   "metadata": {},
   "source": [
    "### Central Limit Theorem: https://www.youtube.com/watch?v=YAlJCEDH2uY\n",
    "1. Even if the original dataset is not Normally Distributed, when you take samples from the distribution, it turns out that the mean of the sample collected over many iteration follow a Normal Distribution (bell curve). "
   ]
  },
  {
   "cell_type": "markdown",
   "metadata": {},
   "source": [
    "### Quantiles and Percentile \n",
    "1. __Quantiles__: Quantile are just the lines which divides the data or sample into equal-sized subgroups of adjacent values or a probability distribution into distributions of equal probability.Ex Median which divides the sample into half is the 0.5 quantile or 50% quanatile. \n",
    "2. Don't get confused with __Quartile__ which means - whereas quartile means any of the three points that divide an ordered distribution into four parts, each containing a quarter of the population.\n",
    "3. __Percentile__: And Percentiles are just quantiles which divide the group into 100 equally sized groups. Informally it can be seen as the value below which a percentage of data falls. Ex baby weight and height percentile. A baby weight with 25% means, there are 25% babies who weigh less than this baby and 75% babies weigh more than this baby of same age.\n",
    "2. Ex : Say we have a data which shows how much time to pizza delivery from 'X' pizza shop took 'Y' zip code took. Say we have a record of 1000 delivery till date. So when a new delivery happens, the time taken is then evaluvated again the data record we have, say if it falls in 70% or more then no action needed, otherwise if its less than 70% action needed to know why it took that much time. Also this latest record wil be a part of the dataset record.\n",
    "3. https://www.youtube.com/watch?v=IFKQLDmRK0Y\n",
    "4. https://www.mathsisfun.com/data/percentiles.html"
   ]
  },
  {
   "cell_type": "markdown",
   "metadata": {},
   "source": [
    "### Quantile - Quantile(Q-Q) Plot\n",
    "1. https://www.youtube.com/watch?v=okjYjClSjOg\n",
    "2. QQ plot is used to determine if a dataset is normally distributed or any other distribution.\n",
    "3. QQ plot has 2 axis the y-axis represents the quantiles of the dataset in question and the x-axis represents the quantiles of the Normal Distribution dataset in reference.\n",
    "4. Make sure each of the two dataset are divided into same number of quantiles. \n",
    "5. Now draw the graph from the quatile data from each dataset.\n",
    "6. If the line is straight then the dataset in question is Normally distributed.Else try some other distribution like Uniform to see if the dataset in question fits this distribution.\n"
   ]
  },
  {
   "cell_type": "code",
   "execution_count": 12,
   "metadata": {},
   "outputs": [],
   "source": [
    "#Q-Q plot\n",
    "import numpy as np \n",
    "import pylab \n",
    "import scipy.stats as stats"
   ]
  },
  {
   "cell_type": "code",
   "execution_count": 16,
   "metadata": {},
   "outputs": [
    {
     "data": {
      "image/png": "[encoded data removed]",
      "text/plain": [
       "<Figure size 432x288 with 1 Axes>"
      ]
     },
     "metadata": {
      "needs_background": "light"
     },
     "output_type": "display_data"
    }
   ],
   "source": [
    "# Ex of a Normally Distributed Dataset\n",
    "df_under_question = np.random.normal(loc=0, scale=1, size=1000) # loc=Mean, scale=standard distribution\n",
    "# dist='norm' checks to see if the Dataset under question has a normal distribution\n",
    "stats.probplot(df_under_question, dist=\"norm\", plot=pylab) \n",
    "pylab.show()"
   ]
  },
  {
   "cell_type": "code",
   "execution_count": 23,
   "metadata": {},
   "outputs": [
    {
     "data": {
      "image/png": "[encoded data removed]",
      "text/plain": [
       "<Figure size 432x288 with 1 Axes>"
      ]
     },
     "metadata": {
      "needs_background": "light"
     },
     "output_type": "display_data"
    }
   ],
   "source": [
    "# Ex of a Uniformally Distributed Dataset\n",
    "df_under_question = np.random.uniform(low=-1, high=1, size=1000) # loc=Mean, scale=standard distribution\n",
    "# dist='norm' checks to see if the Dataset under question, which is Uniformally Distributed\n",
    "# has a normal distribution. So is the fig which proves its not.\n",
    "stats.probplot(df_under_question, dist=\"norm\", plot=pylab) \n",
    "# stats.probplot(df_under_question, dist=\"uniform\", plot=pylab) # Proves the correct distribution.\n",
    "pylab.show()"
   ]
  },
  {
   "cell_type": "code",
   "execution_count": null,
   "metadata": {},
   "outputs": [],
   "source": []
  },
  {
   "cell_type": "code",
   "execution_count": null,
   "metadata": {},
   "outputs": [],
   "source": []
  },
  {
   "cell_type": "code",
   "execution_count": null,
   "metadata": {},
   "outputs": [],
   "source": []
  }
 ],
 "metadata": {
  "kernelspec": {
   "display_name": "Python 3",
   "language": "python",
   "name": "python3"
  },
  "language_info": {
   "codemirror_mode": {
    "name": "ipython",
    "version": 3
   },
   "file_extension": ".py",
   "mimetype": "text/x-python",
   "name": "python",
   "nbconvert_exporter": "python",
   "pygments_lexer": "ipython3",
   "version": "3.8.0"
  }
 },
 "nbformat": 4,
 "nbformat_minor": 2
}
