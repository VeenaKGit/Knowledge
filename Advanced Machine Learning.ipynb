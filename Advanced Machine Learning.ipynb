{
 "cells": [
  {
   "cell_type": "markdown",
   "metadata": {},
   "source": [
    "# Machine Learning Fundamentals\n"
   ]
  },
  {
   "cell_type": "markdown",
   "metadata": {},
   "source": [
    "## Machine Learning verses Algorithms:\n",
    "1. Algorithms: Algorithms come in picture when inout-output mapping(function) can be precisely written using code and it works fine. \n",
    "2. Machine Learning: ML comes in picture when input-output mapping/function cannot precisely be written using code. So what we do is we collect the whole bunch of XY examples and ask the machine to learn the mapping.\n",
    "<img src=\"images/image44.png\" align=\"middle\" style=\"width:400px; height:150px\"/>"
   ]
  },
  {
   "cell_type": "markdown",
   "metadata": {},
   "source": [
    "## Categorize Predictive Problems: A.K.A Supervised Learning.\n",
    "we categorize the predictive problems by the type of its __output space__:\n",
    "1. Classification (Discrete):  \n",
    "<img src=\"images/image45.png\" align=\"middle\" style=\"width:400px; height:200px\"/>\n",
    "2. Regression (Continuous Classification): Like predicting the amount of rain tomorrow in city.\n",
    "3. Probability value: The out come in this case is really a probability of a event ahppening or not. This(bank transaction fraudulent) kind of problem cannot be treated as Discrete Classification because probability outcome is not directly related to decisions, it combines with other factor like if the probability of it being fraugulent is low then we need to see how much money is getting withdrawn to decised if the transaction has to be denied.\n",
    "<img src=\"images/image46.png\" align=\"middle\" style=\"width:300px; height:150px\"/>\n",
    "These 3 require some what different methods/alogithms or approach to solve the problem."
   ]
  },
  {
   "cell_type": "markdown",
   "metadata": {},
   "source": [
    "## Unsupervised Learning: A.K.A Representaion Learning\n",
    "we have a large dataset in hand and we want to understand it better. We don't necessarily have a specific prediction task in mind. Wejust want to know if we have any interesting structure in mind. Are there clusters in there?\n",
    "1. Clustering:\n",
    "2. Projections: \n",
    "3. Dictionalry learning:\n",
    "4. Autoencoders:"
   ]
  },
  {
   "cell_type": "markdown",
   "metadata": {},
   "source": [
    "## Deep Learning:\n",
    "This is a way of combining both predictive modelling and representation learning to solve some problems"
   ]
  },
  {
   "cell_type": "markdown",
   "metadata": {},
   "source": [
    "### Image Processing:\n",
    "1. MNIST Dataset: The MNIST database is a large database of handwritten digits that is commonly used for training various image processing system.\n",
    "2. Each MNIST image is of 28 * 28 = 748 pixels and each pixel value can range from 0-255 . So each image becomes a vector with 748 co-ordinates. So X is the vector and Y is the lables (0-9).\n",
    "<img src=\"images/image39.png\" align=\"middle\" style=\"width:250px; height:250px\"/>  \n",
    "3. So we find the distance between two images represented with vector of 748 using Eucledian distance.\n",
    "4. We can use k-Nearest Neighbor to classify the new image. But Eucledian distance is in general not considered as a good measuring method for Image classification, bacause with Eucledian if two images of 1'are slightly rotated, it produces big deviation in errors. So we need another method for image distance measurent which is less sensitive to rotation/trranformations\n",
    "<img src=\"images/image40.png\" align=\"middle\" style=\"width:250px; height:250px\"/> \n",
    "5. And also in general as we know kNN is really slow for large data classification as it has to look for all the 60000 images to classify a new image. So after decade study there has been diffenrent versions of kNN which address this issue.\n",
    "<img src=\"images/image43.png\" align=\"middle\" style=\"width:300px; height:250px\"/>"
   ]
  },
  {
   "cell_type": "markdown",
   "metadata": {},
   "source": [
    "### Different Distance Measuring Techniques:\n",
    "1. Euclidean = l2 is one of th many ways we can use measure distance between 2 objects in R space.\n",
    "2. Watch 1.4"
   ]
  }
 ],
 "metadata": {
  "kernelspec": {
   "display_name": "Python 3",
   "language": "python",
   "name": "python3"
  },
  "language_info": {
   "codemirror_mode": {
    "name": "ipython",
    "version": 3
   },
   "file_extension": ".py",
   "mimetype": "text/x-python",
   "name": "python",
   "nbconvert_exporter": "python",
   "pygments_lexer": "ipython3",
   "version": "3.8.3"
  }
 },
 "nbformat": 4,
 "nbformat_minor": 2
}
