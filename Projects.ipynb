{
 "cells": [
  {
   "cell_type": "markdown",
   "metadata": {},
   "source": [
    "# PROJECT 1: Web Scraping with BeautifulSoup\n",
    "\n",
    "1. https://github.com/VeenaKGit/Web-Scraper\n",
    "2. This project is a standalone file - scrape_cms.py which scrapes CoreyMS website for each blog \"headline\", \"summary\" and \"youTube link\" and write the same to cms_scrape.csv file."
   ]
  },
  {
   "cell_type": "markdown",
   "metadata": {},
   "source": [
    "### Beautiful Soup: https://www.crummy.com/software/BeautifulSoup/bs4/doc/#beautiful-soup-documentation\n",
    "Beautiful Soup is a Python package for parsing HTML and XML documents. It creates a parse tree for parsed pages that can be used to extract data from HTML, which is useful for web scraping."
   ]
  },
  {
   "cell_type": "markdown",
   "metadata": {},
   "source": [
    "1. Beautifusoup4 is required.\n",
    "2. Parser is required to parse the HTML. There are definitely differetn parser availabe and based on the kind of HTML we are parsing different parser will fll in the \"missing fields\" differently. Because not all websites are perfect.\n",
    "https://www.crummy.com/software/BeautifulSoup/bs4/doc/#differences-between-parsers\n",
    "3. lxml is throwing some error so using html5lib.\n",
    "    * https://www.crummy.com/software/BeautifulSoup/bs4/doc/#installing-a-parser\n"
   ]
  },
  {
   "cell_type": "code",
   "execution_count": 1,
   "metadata": {},
   "outputs": [],
   "source": [
    "# sample html for demo\n",
    "html_doc = \"\"\"\n",
    "<html><head><title>The Dormouse's story</title></head>\n",
    "<body>\n",
    "<p class=\"title\"><b>The Dormouse's story</b></p>\n",
    "\n",
    "<p class=\"story\">Once upon a time there were three little sisters; and their names were\n",
    "<a href=\"http://example.com/elsie\" class=\"sister\" id=\"link1\">Elsie</a>,\n",
    "<a href=\"http://example.com/lacie\" class=\"sister\" id=\"link2\">Lacie</a> and\n",
    "<a href=\"http://example.com/tillie\" class=\"sister\" id=\"link3\">Tillie</a>;\n",
    "and they lived at the bottom of a well.</p>\n",
    "\n",
    "<p class=\"story\">...</p>\n",
    "\"\"\""
   ]
  },
  {
   "cell_type": "code",
   "execution_count": 2,
   "metadata": {},
   "outputs": [],
   "source": [
    "# pip install beautifulsoup4"
   ]
  },
  {
   "cell_type": "code",
   "execution_count": 3,
   "metadata": {},
   "outputs": [
    {
     "name": "stdout",
     "output_type": "stream",
     "text": [
      "<html>\n",
      " <head>\n",
      "  <title>\n",
      "   The Dormouse's story\n",
      "  </title>\n",
      " </head>\n",
      " <body>\n",
      "  <p class=\"title\">\n",
      "   <b>\n",
      "    The Dormouse's story\n",
      "   </b>\n",
      "  </p>\n",
      "  <p class=\"story\">\n",
      "   Once upon a time there were three little sisters; and their names were\n",
      "   <a class=\"sister\" href=\"http://example.com/elsie\" id=\"link1\">\n",
      "    Elsie\n",
      "   </a>\n",
      "   ,\n",
      "   <a class=\"sister\" href=\"http://example.com/lacie\" id=\"link2\">\n",
      "    Lacie\n",
      "   </a>\n",
      "   and\n",
      "   <a class=\"sister\" href=\"http://example.com/tillie\" id=\"link3\">\n",
      "    Tillie\n",
      "   </a>\n",
      "   ;\n",
      "and they lived at the bottom of a well.\n",
      "  </p>\n",
      "  <p class=\"story\">\n",
      "   ...\n",
      "  </p>\n",
      " </body>\n",
      "</html>\n"
     ]
    }
   ],
   "source": [
    "# this code may not work if bs4 is not installed in this path.\n",
    "from bs4 import BeautifulSoup\n",
    "soup = BeautifulSoup(html_doc, 'html.parser') # html.parser is the default parder available in python \n",
    "print(soup.prettify()) "
   ]
  },
  {
   "cell_type": "code",
   "execution_count": 4,
   "metadata": {},
   "outputs": [
    {
     "name": "stdout",
     "output_type": "stream",
     "text": [
      "<title>The Dormouse's story</title>\n",
      "title\n",
      "The Dormouse's story\n",
      "head\n"
     ]
    }
   ],
   "source": [
    "print(soup.title)\n",
    "print(soup.title.name)\n",
    "print(soup.title.text) # soup.title.string both are same\n",
    "print(soup.title.parent.name)"
   ]
  },
  {
   "cell_type": "code",
   "execution_count": 12,
   "metadata": {},
   "outputs": [
    {
     "name": "stdout",
     "output_type": "stream",
     "text": [
      "<p class=\"title\"><b>The Dormouse's story</b></p>\n",
      "['title']\n",
      "['title']\n",
      "<a class=\"sister\" href=\"http://example.com/elsie\" id=\"link1\">Elsie</a>\n",
      "[<a class=\"sister\" href=\"http://example.com/elsie\" id=\"link1\">Elsie</a>, <a class=\"sister\" href=\"http://example.com/lacie\" id=\"link2\">Lacie</a>, <a class=\"sister\" href=\"http://example.com/tillie\" id=\"link3\">Tillie</a>]\n",
      "<a class=\"sister\" href=\"http://example.com/tillie\" id=\"link3\">Tillie</a>\n"
     ]
    }
   ],
   "source": [
    "print(soup.p) # gives the first '<p>' tag in the body\n",
    "print(soup.p['class']) # WE can get the Attributes values in a tag by accessing it as a dict key\n",
    "print(soup.p.get('class')) # same as above, better use this method.\n",
    "print(soup.a)\n",
    "print(soup.find_all('a')) # gives a list of all <a> tags\n",
    "print(soup.find(id='link3'))"
   ]
  },
  {
   "cell_type": "code",
   "execution_count": 11,
   "metadata": {},
   "outputs": [
    {
     "name": "stdout",
     "output_type": "stream",
     "text": [
      "http://example.com/elsie\n",
      "http://example.com/elsie\n",
      "http://example.com/lacie\n",
      "http://example.com/lacie\n",
      "http://example.com/tillie\n",
      "http://example.com/tillie\n"
     ]
    }
   ],
   "source": [
    "# One common task is extracting all the URLs found within a page’s <a> tags:\n",
    "for link in soup.find_all('a'):\n",
    "    print(link.get('href'))"
   ]
  },
  {
   "cell_type": "code",
   "execution_count": 19,
   "metadata": {},
   "outputs": [
    {
     "name": "stdout",
     "output_type": "stream",
     "text": [
      "\n",
      "The Dormouse's story\n",
      "\n",
      "The Dormouse's story\n",
      "Once upon a time there were three little sisters; and their names were\n",
      "Elsie,\n",
      "Lacie and\n",
      "Tillie;\n",
      "and they lived at the bottom of a well.\n",
      "...\n",
      "\n"
     ]
    }
   ],
   "source": [
    "# Another common task is extracting all the text from a page:\n",
    "print(soup.get_text())"
   ]
  },
  {
   "cell_type": "markdown",
   "metadata": {},
   "source": [
    "# Deploying to Pivotal Cloud Factory:\n",
    "Cloud Factory is the Company and Pivotal is the cloud service."
   ]
  },
  {
   "cell_type": "markdown",
   "metadata": {},
   "source": [
    "1. https://www.youtube.com/watch?v=IxXdJf69E3k 1:49:00 onwards.\n",
    "2. Make sure first that your Flask/Django is working on your local server first. \n",
    "2. Create a account on Pivotal Login Page. Created Email:veena.kalburgi@gmail.com Pass:Nice_Home1\n",
    "3. After logging in go to Pivotal Web Services. See if you can get a free trail. I was not able to.\n",
    "<img src=\"images/image70.png\" align=\"middle\" style=\"width:800px;height:300px\"/>"
   ]
  },
  {
   "cell_type": "markdown",
   "metadata": {},
   "source": [
    "4. Create your own space named \"UAT\" or something.\n",
    "5. Once you go into \"UAT\" space you can choose to add services to it like any App monitoring services , Autoscaler, ClearDB MySQL Database etc\n",
    "6. Next is to Push teh code from local computer to Pivotla Cloud. AFter which Pivotal will provide you with a website. Do push the code download and install \"Cloud Factory Command Line Interface\" (search for cf cli download)\n",
    "7. https://github.com/cloudfoundry/cli , https://github.com/cloudfoundry/cli/blob/master/doc/installation-instructions/installation-instructions-v7.md look for windows installer and install the cli.\n",
    "8. make sure when you type >>cf or >>cf7 it shows some message."
   ]
  },
  {
   "cell_type": "markdown",
   "metadata": {},
   "source": [
    "9. Next few lines of code change in the main python file app.py/flaskblog.py file.\n",
    "    * comment out app.run(debug=True)\n",
    "    * add these lines: \n",
    "    \n",
    "    port = int(os.getenv(\"PORT\"))  \n",
    "    if __name__ == '__main__':   \n",
    "    app.run(host='0.0.0.0', port=port)\n",
    "10. Make sure you have requirements.txt and is upto date.\n",
    "11. Create a file named runtime.txt (top most level , same folder where requirements.txt is present) with content 'python-3.6.9' (plain text without quotes).\n",
    "12. Create another file names 'Procfile' (top level same as above), with content   \n",
    "'web: python flask_app.py --master --processes 4 --threads 2'  flask_app.py is your main application python file.\n",
    "13. Create another file 'manifest.yml'(top level) with content -  \n",
    "    '---\n",
    "    application:  \n",
    "    -name: VeenaReviewScrapper  \n",
    "    memory: 1.5GB  \n",
    "    dish_quote: 1.5GB  \n",
    "    random-route: true  \n",
    "    parameters:  \n",
    "        memory: 1.5GB\n",
    "        buildpack: 'python_buildpack'\n",
    "    '  \n",
    "Just the baove without the quotes.\n"
   ]
  },
  {
   "cell_type": "markdown",
   "metadata": {},
   "source": [
    "14. On your project terminal in Pycharm\n",
    "    * <>cf login -a https://api.run.pivotal.io\n",
    "    enter your login credentials here.\n",
    "15. Once its logs inn you will be select the space by typing 1,2 etc according to the space number.\n",
    "16. <>cf push \n",
    "17. This will push the code and make your app up and running in the cloud. Hopefully you will not get a fail message and everything works with you and you will get a success message will will say requested status: started... copy the route and paste it in a chrome browser.\n",
    "18. Then go to Pivotal page and check the status of your app which will be shown as \"running\" and explore more.."
   ]
  },
  {
   "cell_type": "code",
   "execution_count": null,
   "metadata": {},
   "outputs": [],
   "source": []
  },
  {
   "cell_type": "code",
   "execution_count": null,
   "metadata": {},
   "outputs": [],
   "source": []
  }
 ],
 "metadata": {
  "kernelspec": {
   "display_name": "Python 3",
   "language": "python",
   "name": "python3"
  },
  "language_info": {
   "codemirror_mode": {
    "name": "ipython",
    "version": 3
   },
   "file_extension": ".py",
   "mimetype": "text/x-python",
   "name": "python",
   "nbconvert_exporter": "python",
   "pygments_lexer": "ipython3",
   "version": "3.8.3"
  }
 },
 "nbformat": 4,
 "nbformat_minor": 2
}
