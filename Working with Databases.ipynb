{
 "cells": [
  {
   "cell_type": "markdown",
   "metadata": {},
   "source": [
    "## IMP\n",
    "password for postgres - postgres \n",
    "\n",
    "password for mysql - password123"
   ]
  },
  {
   "cell_type": "markdown",
   "metadata": {},
   "source": [
    "## Database and SQL- Structured Query language\n",
    "\n",
    "1. __DBMS__: Database management system is a special software program that helps create and maintain databases.\n",
    "2. __C.R.U.D__ → Create Read/Retrieve Update Delete\n",
    "3. __Types of databases__:\n",
    "    1. __Relational database(SQL)__:Organise data in one or more tables related to each other. Each table has columns and rows and a Unique key identifies each row.\n",
    "    2. __Non-Relational database(noSQL)__:Any database which is not relational is said as non-relational database. It is used in very generic term. Stores data in the form of key value pair. Ex Documents - JSON, XML etc.\n",
    "4. __RDBMS__: Relational Database Management System helps create and maintain a relational database. Ex: mySQL, PostgreSQL, Oracle, mariaDB. SQL is used as a standard language with RDBM to perform C.R.U.D operations\n",
    "5. __NRDBMS__: Non-Relational Database Management System helps create and maintain a non-relational database. Ex: mongoDB, dynamoDB, apache cassandra, firebase etc. Most NRDBMS implement their own query language to perform C.R.U.D"
   ]
  },
  {
   "cell_type": "markdown",
   "metadata": {},
   "source": [
    "# RDBMS\n",
    "https://www.sqltutorial.org/sql-cheat-sheet/ → Best with examples"
   ]
  },
  {
   "cell_type": "markdown",
   "metadata": {},
   "source": [
    "1. A ‘table’ is a set of data elements. Each row is called a ‘record’ and each column is called as ‘field’ or ‘attribute’. And each cell has ‘Data’ in it.\n",
    "2. A Unique value is a value that cannot be repeated.Null is the absence of value "
   ]
  },
  {
   "cell_type": "markdown",
   "metadata": {},
   "source": [
    "SQL commands can be categorized into 4 main types:\n",
    "<img src=\"images/image66.png\" align=\"middle\" style=\"width:600px; height:400px\" />"
   ]
  },
  {
   "cell_type": "markdown",
   "metadata": {},
   "source": [
    "1. To work with Postgresql Database you can either work on PGAdmin(which is the GUI provided by postgresql) or you can work on SQL shell.\n",
    "2. By default in shell script the user is the superuser (postgres). Do the following to get it started to work in shell.\n",
    "<img src=\"images/image67.png\" align=\"middle\" style=\"width:400px; height:300px\" />\n",
    "3. First statement is to create a schema. Second “SET ..” is the statement is required so that when we command actions (like create table) is to be performed on information schema."
   ]
  },
  {
   "cell_type": "markdown",
   "metadata": {},
   "source": [
    "1. Database Schema: The term \"schema\" refers to the organization of data as a blueprint of how the database is constructed (divided into database tables in the case of relational databases)  \n",
    "__CREATE SCHEMA information;__   \n",
    "\n",
    "2.  In a relational database, the schema defines the tables, fields, relationships, views, indexes, packages, procedures, functions, queues, triggers, types, sequences, materialized views, synonyms, database links, directories, XML schemas, and other elements.\n",
    "3. CREATE TABLE students(studentid int, studentname varchar(255)); → this will create a table named students with studentid and studentname as columns in information schema(as we performed SET to information)"
   ]
  },
  {
   "cell_type": "markdown",
   "metadata": {},
   "source": [
    "__Normaliztion in Databases__:\n",
    "    1. https://www.essentialsql.com/get-ready-to-learn-sql-database-normalization-explained-in-simple-english/\n",
    "    2. There are three main reasons to normalize a database.  The first is to minimize duplicate data, the second is to minimize or avoid data modification issues, and the third is to simplify queries. "
   ]
  },
  {
   "cell_type": "markdown",
   "metadata": {},
   "source": [
    "__Keys__:A DBMS key is an attribute or set of an attribute which helps you to identify a row in a relational table. They allow you to find the relation between two tables. Keys help you uniquely identify a row in a table by a combination of one or more columns in that table.Below are list of types of keys:\n",
    "1. https://www.studytonight.com/dbms/database-key.php\n",
    "2. __Super Key__: Super Key is defined as a set of attributes within a table that can uniquely identify each record within a table. Super Key is a superset of Candidate key.\n",
    "3. __Candidate Key__: Candidate keys are defined as the minimal set of fields which can uniquely identify each record in a table. It is an attribute or a set of attributes that can act as a Primary Key for a table to uniquely identify each record in that table. There can be more than one candidate key.\n",
    "    1. A candidate key can never be NULL or empty. And its value should be unique.\n",
    "    2. There can be more than one candidate keys for a table.\n",
    "    3. A candidate key can be a combination of more than one columns(attributes).\n",
    "4. __Primary Key__: Primary key is a candidate key that is most appropriate to become the main key for any table. It is a key that can uniquely identify each record in a table.The primary key cannot be null (blank).The primary key is indexed \n",
    "5. __Foreign Key__: A foreign key is a column which is added to create a relationship with another table.Foreign keys help us to maintain data integrity and also allows navigation between two different instances of an entity. Every relationship in the model needs to be supported by a foreign key. A foreign key is a value which matches back to another table’s primary key.\n",
    "6. __Composite Key__: A key which has multiple attributes to uniquely identify rows in a table is called a composite key.\n",
    "7. __Natural Key__: A composite primary key which is composed of attributes (fields) which already exist in the real world (for example StudentID, Social Security Number).\n",
    "8. __Surrogate Key__: A composite primary key which is composed of attributes (fields) which already exist in the real world (for example First Name, Last Name, Social Security Number).\n"
   ]
  },
  {
   "cell_type": "markdown",
   "metadata": {},
   "source": [
    "__Types of Database relationship__: The power of a relational database is in the links and relations. By connecting rows in different tables through the use of primary and foreign keys, you can create views, reports, and other slices of information to serve your organization. There are three primary types of database relationships:\n",
    "1. __one-to-one (1:1)__ : One row in table A relates to one row in table B.  Using an entity-relationship (ER) model, 1:1 means that one occurrence of an entity relates to only one occurrence in another entity. Foreign Key(FK) can logical be in any one of the two tables, wherever it makes more sense.\n",
    "2. __one-to-Many(1:M)__ : One row in table A relates to many rows in table B.  In ER modelling, 1:Many means that one occurrence in an entity relates to many occurrences in another entity.FK should be in many side(Table B), so that table B FK field can exactly relate to one value in Table in A.\n",
    "3. __many-to-many (M:M)__ : Many rows in table A relate to many rows in table B. In ER terms, many occurrences in one entity relate to many occurrences in another entity. For example, a student (table A) may sign up for many classes (table B), and a class may have several students in it.  Many-to-many relationships normally require a cross-reference table, AB with two one-to-many relationships A:AB and B:AB. In this case FK cannot be in any table, so there comes a third table called cross-reference table which shows the relationship between the two tables and has two FKs.\n"
   ]
  },
  {
   "cell_type": "markdown",
   "metadata": {},
   "source": [
    "__Like__: When you don’t know exactly what to search for you can use pattern matching in conditions, by using wildcard characters in a LIKE statement.\n",
    "1. The percent wildcard (%): any string of zero or more characters.\n",
    "2. The underscore (_) wildcard: any single character.\n",
    "3. The [list of characters] wildcard: any single character within the specified set.\n",
    "4. The [character-character]: any single character within the specified range.\n",
    "5. The [^]: any single character not within a list or a range.\n",
    ">SELECT *\n",
    ">FROM product\n",
    ">WHERE product_name LIKE \"%n\"; /*Will search for data ending with the letter ‘n’.*/\n"
   ]
  },
  {
   "cell_type": "markdown",
   "metadata": {},
   "source": [
    "__Aggregate Functions__: https://www.sqltutorial.org/sql-aggregate-functions/\n"
   ]
  },
  {
   "cell_type": "markdown",
   "metadata": {},
   "source": [
    "__GROUP BY__: https://www.sqltutorial.org/sql-group-by"
   ]
  },
  {
   "cell_type": "markdown",
   "metadata": {},
   "source": [
    "__HAVING VS WHERE__: The WHERE clause applies the condition to individual rows before the rows are summarized into groups by the GROUP BY clause. However, the HAVING clause applies the condition to the groups after the rows are grouped into groups.\n"
   ]
  },
  {
   "cell_type": "markdown",
   "metadata": {},
   "source": [
    "# Woking with MySQL:\n",
    "https://www.youtube.com/watch?v=7S_tz1z_5bA"
   ]
  },
  {
   "cell_type": "markdown",
   "metadata": {},
   "source": [
    "Common commands and tips and tricks for MySql:\n",
    "\n",
    "1. https://www.sqltutorial.org/sql-cheat-sheet/\n",
    "2. Open MySQL Workbench can establish a connection.\n",
    "1. USE database_name; - marks up the database in use.\n",
    "2. -- ANY COMMAND; - is used as a comment line\n",
    "3. Commands needs to be written in order:\n",
    "    1. SELECT column_names\n",
    "    2. FROM table_name\n",
    "    3. WHERE condition\n",
    "    4. ORDER BY columns"
   ]
  },
  {
   "cell_type": "code",
   "execution_count": null,
   "metadata": {},
   "outputs": [],
   "source": []
  },
  {
   "cell_type": "code",
   "execution_count": null,
   "metadata": {},
   "outputs": [],
   "source": []
  },
  {
   "cell_type": "markdown",
   "metadata": {},
   "source": [
    "# Access a Database with Python - Iris Dataset\n",
    "\n",
    "The Iris dataset is a popular dataset especially in the Machine Learning community, it is a set of features of 50  Iris flowers and their classification into 3 species.\n",
    "It is often used to introduce classification Machine Learning algorithms.\n",
    "\n",
    "First let's download the dataset in `SQLite` format from Kaggle:\n",
    "\n",
    "<https://www.kaggle.com/uciml/iris/>\n",
    "\n",
    "Download `database.sqlite` and save it in the `data/iris` folder."
   ]
  },
  {
   "cell_type": "markdown",
   "metadata": {},
   "source": [
    "<p><img   src=\"https://upload.wikimedia.org/wikipedia/commons/4/49/Iris_germanica_%28Purple_bearded_Iris%29%2C_Wakehurst_Place%2C_UK_-_Diliff.jpg\" alt=\"Iris germanica (Purple bearded Iris), Wakehurst Place, UK - Diliff.jpg\" height=\"145\" width=\"114\"></p>\n",
    "\n",
    "<p><br> From <a href=\"https://commons.wikimedia.org/wiki/File:Iris_germanica_(Purple_bearded_Iris),_Wakehurst_Place,_UK_-_Diliff.jpg#/media/File:Iris_germanica_(Purple_bearded_Iris),_Wakehurst_Place,_UK_-_Diliff.jpg\">Wikimedia</a>, by <a href=\"//commons.wikimedia.org/wiki/User:Diliff\" title=\"User:Diliff\">Diliff</a> - <span class=\"int-own-work\" lang=\"en\">Own work</span>, <a href=\"http://creativecommons.org/licenses/by-sa/3.0\" title=\"Creative Commons Attribution-Share Alike 3.0\">CC BY-SA 3.0</a>, <a href=\"https://commons.wikimedia.org/w/index.php?curid=33037509\">Link</a></p>"
   ]
  },
  {
   "cell_type": "markdown",
   "metadata": {},
   "source": [
    "First let's check that the sqlite database is available and display an error message if the file is not available (`assert` checks if the expression is `True`, otherwise throws `AssertionError` with the error message string provided):"
   ]
  },
  {
   "cell_type": "code",
   "execution_count": 25,
   "metadata": {},
   "outputs": [],
   "source": [
    "import pprint\n",
    "pp = pprint.PrettyPrinter(indent=4)"
   ]
  },
  {
   "cell_type": "code",
   "execution_count": 2,
   "metadata": {},
   "outputs": [],
   "source": [
    "import os\n",
    "data_iris_folder_content = os.listdir(\"data/iris\")"
   ]
  },
  {
   "cell_type": "code",
   "execution_count": 3,
   "metadata": {},
   "outputs": [],
   "source": [
    "error_message = \"Error: sqlite file not available, check instructions above to download it\"\n",
    "assert \"database.sqlite\" in data_iris_folder_content, error_message"
   ]
  },
  {
   "cell_type": "markdown",
   "metadata": {},
   "source": [
    "## Access the Database with the sqlite3 Package"
   ]
  },
  {
   "cell_type": "markdown",
   "metadata": {},
   "source": [
    "We can use the `sqlite3` package from the Python standard library to connect to the `sqlite` database:"
   ]
  },
  {
   "cell_type": "code",
   "execution_count": 1,
   "metadata": {},
   "outputs": [],
   "source": [
    "import sqlite3\n",
    "import pandas as pd"
   ]
  },
  {
   "cell_type": "code",
   "execution_count": 2,
   "metadata": {},
   "outputs": [
    {
     "data": {
      "text/plain": [
       "<sqlite3.Connection at 0x54a4790>"
      ]
     },
     "execution_count": 2,
     "metadata": {},
     "output_type": "execute_result"
    }
   ],
   "source": [
    "conn = sqlite3.connect('data/iris/database.sqlite')\n",
    "conn"
   ]
  },
  {
   "cell_type": "code",
   "execution_count": 3,
   "metadata": {},
   "outputs": [
    {
     "data": {
      "text/plain": [
       "<sqlite3.Cursor at 0x5737d60>"
      ]
     },
     "execution_count": 3,
     "metadata": {},
     "output_type": "execute_result"
    }
   ],
   "source": [
    "cursor = conn.cursor()\n",
    "cursor"
   ]
  },
  {
   "cell_type": "code",
   "execution_count": 4,
   "metadata": {},
   "outputs": [
    {
     "data": {
      "text/plain": [
       "sqlite3.Cursor"
      ]
     },
     "execution_count": 4,
     "metadata": {},
     "output_type": "execute_result"
    }
   ],
   "source": [
    "type(cursor)"
   ]
  },
  {
   "cell_type": "markdown",
   "metadata": {},
   "source": [
    "A `sqlite3.Cursor` object is our interface to the database, mostly throught the `execute` method that allows to run any `SQL` query on our database.\n",
    "\n",
    "First of all we can get a list of all the tables saved into the database, this is done by reading the column `name` from the `sqlite_master` metadata table with:\n",
    "\n",
    "    SELECT name FROM sqlite_master\n",
    "    \n",
    "The output of the `execute` method is an iterator that can be used in a `for` loop to print the value of each row."
   ]
  },
  {
   "cell_type": "code",
   "execution_count": 8,
   "metadata": {},
   "outputs": [
    {
     "name": "stdout",
     "output_type": "stream",
     "text": [
      "('Iris',)\n",
      "('grade',)\n"
     ]
    }
   ],
   "source": [
    "for row in cursor.execute(\"SELECT name FROM sqlite_master\"):\n",
    "    print(row)"
   ]
  },
  {
   "cell_type": "markdown",
   "metadata": {},
   "source": [
    "a shortcut to directly execute the query and gather the results is the `fetchall` method:"
   ]
  },
  {
   "cell_type": "code",
   "execution_count": 9,
   "metadata": {},
   "outputs": [
    {
     "data": {
      "text/plain": [
       "[('Iris',), ('grade',)]"
      ]
     },
     "execution_count": 9,
     "metadata": {},
     "output_type": "execute_result"
    }
   ],
   "source": [
    "cursor.execute(\"SELECT name FROM sqlite_master\").fetchall()"
   ]
  },
  {
   "cell_type": "markdown",
   "metadata": {},
   "source": [
    "**Notice**: this way of finding the available tables in a database is specific to `sqlite`, other databases like `MySQL` or `PostgreSQL` have different syntax."
   ]
  },
  {
   "cell_type": "markdown",
   "metadata": {},
   "source": [
    "Then we can execute standard `SQL` query on the database, `SQL` is a language designed to interact with data stored in a relational database. It has a standard specification, therefore the commands below work on any database.\n",
    "\n",
    "If you need to connect to another database, you would use another package instead of `sqlite3`, for example:\n",
    "\n",
    "* [MySQL Connector](https://dev.mysql.com/doc/connector-python/en/) for MySQL\n",
    "* [Psycopg](http://initd.org/psycopg/docs/install.html) for PostgreSQL\n",
    "* [pymssql](http://pymssql.org/en/stable/) for Microsoft MS SQL\n",
    "\n",
    "then you would connect to the database using specific host, port and authentication credentials but then you could execute the same exact `SQL` statements.\n",
    "\n",
    "Let's take a look for example at the first 3 rows in the Iris table:"
   ]
  },
  {
   "cell_type": "code",
   "execution_count": 14,
   "metadata": {},
   "outputs": [],
   "source": [
    "sample_data = cursor.execute(\"SELECT * FROM Iris LIMIT 20\").fetchall()"
   ]
  },
  {
   "cell_type": "code",
   "execution_count": 19,
   "metadata": {},
   "outputs": [
    {
     "name": "stdout",
     "output_type": "stream",
     "text": [
      "<class 'list'>\n"
     ]
    },
    {
     "data": {
      "text/plain": [
       "[(1, 5.1, 3.5, 1.4, 0.2, 'Iris-setosa'),\n",
       " (2, 4.9, 3, 1.4, 0.2, 'Iris-setosa'),\n",
       " (3, 4.7, 3.2, 1.3, 0.2, 'Iris-setosa'),\n",
       " (4, 4.6, 3.1, 1.5, 0.2, 'Iris-setosa'),\n",
       " (5, 5, 3.6, 1.4, 0.2, 'Iris-setosa'),\n",
       " (6, 5.4, 3.9, 1.7, 0.4, 'Iris-setosa'),\n",
       " (7, 4.6, 3.4, 1.4, 0.3, 'Iris-setosa'),\n",
       " (8, 5, 3.4, 1.5, 0.2, 'Iris-setosa'),\n",
       " (9, 4.4, 2.9, 1.4, 0.2, 'Iris-setosa'),\n",
       " (10, 4.9, 3.1, 1.5, 0.1, 'Iris-setosa'),\n",
       " (11, 5.4, 3.7, 1.5, 0.2, 'Iris-setosa'),\n",
       " (12, 4.8, 3.4, 1.6, 0.2, 'Iris-setosa'),\n",
       " (13, 4.8, 3, 1.4, 0.1, 'Iris-setosa'),\n",
       " (14, 4.3, 3, 1.1, 0.1, 'Iris-setosa'),\n",
       " (15, 5.8, 4, 1.2, 0.2, 'Iris-setosa'),\n",
       " (16, 5.7, 4.4, 1.5, 0.4, 'Iris-setosa'),\n",
       " (17, 5.4, 3.9, 1.3, 0.4, 'Iris-setosa'),\n",
       " (18, 5.1, 3.5, 1.4, 0.3, 'Iris-setosa'),\n",
       " (19, 5.7, 3.8, 1.7, 0.3, 'Iris-setosa'),\n",
       " (20, 5.1, 3.8, 1.5, 0.3, 'Iris-setosa')]"
      ]
     },
     "execution_count": 19,
     "metadata": {},
     "output_type": "execute_result"
    }
   ],
   "source": [
    "print(type(sample_data))\n",
    "sample_data"
   ]
  },
  {
   "cell_type": "code",
   "execution_count": 16,
   "metadata": {},
   "outputs": [
    {
     "data": {
      "text/plain": [
       "['Id',\n",
       " 'SepalLengthCm',\n",
       " 'SepalWidthCm',\n",
       " 'PetalLengthCm',\n",
       " 'PetalWidthCm',\n",
       " 'Species']"
      ]
     },
     "execution_count": 16,
     "metadata": {},
     "output_type": "execute_result"
    }
   ],
   "source": [
    "# cursor.description - This read-only attribute provides the column names of the last query.\n",
    "# https://docs.python.org/2/library/sqlite3.html#sqlite3.Cursor.description\n",
    "[row[0] for row in cursor.description] "
   ]
  },
  {
   "cell_type": "markdown",
   "metadata": {},
   "source": [
    "It is evident that the interface provided by `sqlite3` is low-level, for data exploration purposes we would like to directly import data into a more user friendly library like `pandas`."
   ]
  },
  {
   "cell_type": "markdown",
   "metadata": {},
   "source": [
    "## Import data from a database to `pandas`"
   ]
  },
  {
   "cell_type": "code",
   "execution_count": 10,
   "metadata": {},
   "outputs": [],
   "source": [
    "import pandas as pd"
   ]
  },
  {
   "cell_type": "code",
   "execution_count": 11,
   "metadata": {},
   "outputs": [],
   "source": [
    "iris_data = pd.read_sql_query(\"SELECT * FROM Iris\", conn)"
   ]
  },
  {
   "cell_type": "code",
   "execution_count": 12,
   "metadata": {},
   "outputs": [
    {
     "data": {
      "text/html": [
       "<div>\n",
       "<style scoped>\n",
       "    .dataframe tbody tr th:only-of-type {\n",
       "        vertical-align: middle;\n",
       "    }\n",
       "\n",
       "    .dataframe tbody tr th {\n",
       "        vertical-align: top;\n",
       "    }\n",
       "\n",
       "    .dataframe thead th {\n",
       "        text-align: right;\n",
       "    }\n",
       "</style>\n",
       "<table border=\"1\" class=\"dataframe\">\n",
       "  <thead>\n",
       "    <tr style=\"text-align: right;\">\n",
       "      <th></th>\n",
       "      <th>Id</th>\n",
       "      <th>SepalLengthCm</th>\n",
       "      <th>SepalWidthCm</th>\n",
       "      <th>PetalLengthCm</th>\n",
       "      <th>PetalWidthCm</th>\n",
       "      <th>Species</th>\n",
       "    </tr>\n",
       "  </thead>\n",
       "  <tbody>\n",
       "    <tr>\n",
       "      <th>0</th>\n",
       "      <td>1</td>\n",
       "      <td>5.1</td>\n",
       "      <td>3.5</td>\n",
       "      <td>1.4</td>\n",
       "      <td>0.2</td>\n",
       "      <td>Iris-setosa</td>\n",
       "    </tr>\n",
       "    <tr>\n",
       "      <th>1</th>\n",
       "      <td>2</td>\n",
       "      <td>4.9</td>\n",
       "      <td>3.0</td>\n",
       "      <td>1.4</td>\n",
       "      <td>0.2</td>\n",
       "      <td>Iris-setosa</td>\n",
       "    </tr>\n",
       "    <tr>\n",
       "      <th>2</th>\n",
       "      <td>3</td>\n",
       "      <td>4.7</td>\n",
       "      <td>3.2</td>\n",
       "      <td>1.3</td>\n",
       "      <td>0.2</td>\n",
       "      <td>Iris-setosa</td>\n",
       "    </tr>\n",
       "    <tr>\n",
       "      <th>3</th>\n",
       "      <td>4</td>\n",
       "      <td>4.6</td>\n",
       "      <td>3.1</td>\n",
       "      <td>1.5</td>\n",
       "      <td>0.2</td>\n",
       "      <td>Iris-setosa</td>\n",
       "    </tr>\n",
       "    <tr>\n",
       "      <th>4</th>\n",
       "      <td>5</td>\n",
       "      <td>5.0</td>\n",
       "      <td>3.6</td>\n",
       "      <td>1.4</td>\n",
       "      <td>0.2</td>\n",
       "      <td>Iris-setosa</td>\n",
       "    </tr>\n",
       "  </tbody>\n",
       "</table>\n",
       "</div>"
      ],
      "text/plain": [
       "   Id  SepalLengthCm  SepalWidthCm  PetalLengthCm  PetalWidthCm      Species\n",
       "0   1            5.1           3.5            1.4           0.2  Iris-setosa\n",
       "1   2            4.9           3.0            1.4           0.2  Iris-setosa\n",
       "2   3            4.7           3.2            1.3           0.2  Iris-setosa\n",
       "3   4            4.6           3.1            1.5           0.2  Iris-setosa\n",
       "4   5            5.0           3.6            1.4           0.2  Iris-setosa"
      ]
     },
     "execution_count": 12,
     "metadata": {},
     "output_type": "execute_result"
    }
   ],
   "source": [
    "iris_data.head()"
   ]
  },
  {
   "cell_type": "code",
   "execution_count": 23,
   "metadata": {},
   "outputs": [
    {
     "data": {
      "text/plain": [
       "Id                 int64\n",
       "SepalLengthCm    float64\n",
       "SepalWidthCm     float64\n",
       "PetalLengthCm    float64\n",
       "PetalWidthCm     float64\n",
       "Species           object\n",
       "dtype: object"
      ]
     },
     "execution_count": 23,
     "metadata": {},
     "output_type": "execute_result"
    }
   ],
   "source": [
    "iris_data.dtypes"
   ]
  },
  {
   "cell_type": "markdown",
   "metadata": {},
   "source": [
    "`pandas.read_sql_query` takes a `SQL` query and a connection object and imports the data into a `DataFrame`, also keeping the same data types of the database columns. `pandas` provides a lot of the same functionality of `SQL` with a more user-friendly interface.\n",
    "\n",
    "However, `sqlite3` is extremely useful for downsizing data **before** importing them in `pandas`.\n",
    "\n",
    "For example you might have 1 TB of data in a table stored in a database on a server machine. You are interested in working on a subset of the data based on some criterion, unfortunately it would be impossible to first load data into `pandas` and then filter them, therefore we should tell the database to perform the filtering and just load into `pandas` the downsized dataset."
   ]
  },
  {
   "cell_type": "code",
   "execution_count": 27,
   "metadata": {},
   "outputs": [
    {
     "data": {
      "text/html": [
       "<div>\n",
       "<style scoped>\n",
       "    .dataframe tbody tr th:only-of-type {\n",
       "        vertical-align: middle;\n",
       "    }\n",
       "\n",
       "    .dataframe tbody tr th {\n",
       "        vertical-align: top;\n",
       "    }\n",
       "\n",
       "    .dataframe thead th {\n",
       "        text-align: right;\n",
       "    }\n",
       "</style>\n",
       "<table border=\"1\" class=\"dataframe\">\n",
       "  <thead>\n",
       "    <tr style=\"text-align: right;\">\n",
       "      <th></th>\n",
       "      <th>Id</th>\n",
       "      <th>SepalLengthCm</th>\n",
       "      <th>SepalWidthCm</th>\n",
       "      <th>PetalLengthCm</th>\n",
       "      <th>PetalWidthCm</th>\n",
       "      <th>Species</th>\n",
       "    </tr>\n",
       "  </thead>\n",
       "  <tbody>\n",
       "    <tr>\n",
       "      <th>0</th>\n",
       "      <td>1</td>\n",
       "      <td>5.1</td>\n",
       "      <td>3.5</td>\n",
       "      <td>1.4</td>\n",
       "      <td>0.2</td>\n",
       "      <td>Iris-setosa</td>\n",
       "    </tr>\n",
       "    <tr>\n",
       "      <th>1</th>\n",
       "      <td>2</td>\n",
       "      <td>4.9</td>\n",
       "      <td>3.0</td>\n",
       "      <td>1.4</td>\n",
       "      <td>0.2</td>\n",
       "      <td>Iris-setosa</td>\n",
       "    </tr>\n",
       "    <tr>\n",
       "      <th>2</th>\n",
       "      <td>3</td>\n",
       "      <td>4.7</td>\n",
       "      <td>3.2</td>\n",
       "      <td>1.3</td>\n",
       "      <td>0.2</td>\n",
       "      <td>Iris-setosa</td>\n",
       "    </tr>\n",
       "    <tr>\n",
       "      <th>3</th>\n",
       "      <td>4</td>\n",
       "      <td>4.6</td>\n",
       "      <td>3.1</td>\n",
       "      <td>1.5</td>\n",
       "      <td>0.2</td>\n",
       "      <td>Iris-setosa</td>\n",
       "    </tr>\n",
       "    <tr>\n",
       "      <th>4</th>\n",
       "      <td>5</td>\n",
       "      <td>5.0</td>\n",
       "      <td>3.6</td>\n",
       "      <td>1.4</td>\n",
       "      <td>0.2</td>\n",
       "      <td>Iris-setosa</td>\n",
       "    </tr>\n",
       "  </tbody>\n",
       "</table>\n",
       "</div>"
      ],
      "text/plain": [
       "   Id  SepalLengthCm  SepalWidthCm  PetalLengthCm  PetalWidthCm      Species\n",
       "0   1            5.1           3.5            1.4           0.2  Iris-setosa\n",
       "1   2            4.9           3.0            1.4           0.2  Iris-setosa\n",
       "2   3            4.7           3.2            1.3           0.2  Iris-setosa\n",
       "3   4            4.6           3.1            1.5           0.2  Iris-setosa\n",
       "4   5            5.0           3.6            1.4           0.2  Iris-setosa"
      ]
     },
     "execution_count": 27,
     "metadata": {},
     "output_type": "execute_result"
    }
   ],
   "source": [
    "iris_setosa_data = pd.read_sql_query(\"SELECT * FROM Iris WHERE Species == 'Iris-setosa'\", conn)\n",
    "iris_setosa_data.head()"
   ]
  },
  {
   "cell_type": "code",
   "execution_count": 25,
   "metadata": {},
   "outputs": [
    {
     "name": "stdout",
     "output_type": "stream",
     "text": [
      "(50, 6)\n",
      "(150, 6)\n"
     ]
    }
   ],
   "source": [
    "# iris_setosa_data\n",
    "print(iris_setosa_data.shape)\n",
    "print(iris_data.shape)\n"
   ]
  },
  {
   "cell_type": "markdown",
   "metadata": {},
   "source": [
    "### Creating a TABLE :\n"
   ]
  },
  {
   "cell_type": "code",
   "execution_count": 26,
   "metadata": {},
   "outputs": [],
   "source": [
    "# Creating another table in the database: \n",
    "# this will throw a error if it already exists.\n",
    "# cursor.execute('CREATE TABLE grade(id int, name text, score int)')"
   ]
  },
  {
   "cell_type": "code",
   "execution_count": 2,
   "metadata": {},
   "outputs": [
    {
     "data": {
      "text/plain": [
       "[('Iris',), ('grade',)]"
      ]
     },
     "execution_count": 2,
     "metadata": {},
     "output_type": "execute_result"
    }
   ],
   "source": [
    "import sqlite3\n",
    "conn = sqlite3.connect('data/iris/database.sqlite')\n",
    "cursor = conn.cursor()\n",
    "cursor.execute('SELECT name FROM sqlite_master').fetchall()"
   ]
  },
  {
   "cell_type": "code",
   "execution_count": 3,
   "metadata": {},
   "outputs": [],
   "source": [
    "cursor.execute('DELETE FROM grade')\n",
    "conn.commit()"
   ]
  },
  {
   "cell_type": "code",
   "execution_count": 4,
   "metadata": {},
   "outputs": [
    {
     "data": {
      "text/plain": [
       "<sqlite3.Cursor at 0x6207d20>"
      ]
     },
     "execution_count": 4,
     "metadata": {},
     "output_type": "execute_result"
    }
   ],
   "source": [
    "# Add values to database One Row at a time\n",
    "cursor.execute(\"INSERT INTO grade(id, name, score) VALUES(101, 'veena', 98)\")\n",
    "cursor.execute(\"INSERT INTO grade(id, name, score) VALUES(103, 'veena', 101)\")\n"
   ]
  },
  {
   "cell_type": "code",
   "execution_count": 5,
   "metadata": {},
   "outputs": [
    {
     "data": {
      "text/plain": [
       "<sqlite3.Cursor at 0x6207d20>"
      ]
     },
     "execution_count": 5,
     "metadata": {},
     "output_type": "execute_result"
    }
   ],
   "source": [
    "# Adding multiple rows at a time\n",
    "data = [\n",
    "    (104,'seema', 94),\n",
    "    (106, 'naina', 87),\n",
    "    (392, 'hassd', 34),\n",
    "    (234, 'Naina', 455)\n",
    "]\n",
    "query_stmt = \"INSERT INTO grade VALUES(?,?,?)\"\n",
    "cursor.executemany(query_stmt, data)"
   ]
  },
  {
   "cell_type": "code",
   "execution_count": 6,
   "metadata": {},
   "outputs": [],
   "source": [
    "# Save (commit) the changes\n",
    "conn.commit()\n",
    "\n",
    "# We can also close the connection if we are done with it.\n",
    "# Just be sure any changes have been committed or they will be lost.\n",
    "conn.close()"
   ]
  },
  {
   "cell_type": "code",
   "execution_count": 8,
   "metadata": {},
   "outputs": [
    {
     "data": {
      "text/plain": [
       "[(101, 'veena', 98),\n",
       " (103, 'veena', 101),\n",
       " (104, 'seema', 94),\n",
       " (106, 'naina', 87),\n",
       " (392, 'hassd', 34),\n",
       " (234, 'Naina', 455)]"
      ]
     },
     "execution_count": 8,
     "metadata": {},
     "output_type": "execute_result"
    }
   ],
   "source": [
    "conn = sqlite3.connect('data/iris/database.sqlite')\n",
    "cursor = conn.cursor()\n",
    "cursor.execute(\"SELECT * FROM grade\").fetchall()"
   ]
  },
  {
   "cell_type": "code",
   "execution_count": 11,
   "metadata": {},
   "outputs": [],
   "source": [
    "pd.read_sql_query(\"SELECT * FROM grade\", conn)\n",
    "conn.close()"
   ]
  },
  {
   "cell_type": "markdown",
   "metadata": {},
   "source": [
    "# MongoDB"
   ]
  },
  {
   "cell_type": "markdown",
   "metadata": {},
   "source": [
    "1. MongoDB is a cross-platform document-oriented database program. Classified as a NoSQL database program, MongoDB uses JSON-like documents with optional schemas. The data is stored as Key-Value pairs.\n",
    "2. Sql vs MongoDB database:\n",
    "    * A SQL DB server consists of multiple DBs and each DB will have multiple tables. Each tables in turn will have multiple Rows.\n",
    "    * A mongoDB server will also consists of multiple DBs and each DB will have multiple __Collections__ (Here Collections is used instrad of Tables). Each collection will have __Records/Documents__ (equivalent to rows). Each record or document is key value pay."
   ]
  },
  {
   "cell_type": "markdown",
   "metadata": {},
   "source": [
    "1. Download the latest \"Mongo DB community server\" version and install MongoDB. Installing as 'server' is recomended, so you will not have to run the mongo db server everytime to use it.\n",
    "2. Open cmd and go to 'C:\\Program Files\\MongoDB\\Server\\4.2\\bin' and hit mongo to confirm that we have installed it.If the command runs successfully, it means that the server is up and running, and we can proceed. You can also check to see that the server is runnign by going to 'Service' in start and look for MongoBD which says it is started.\n",
    "<img src='images/image65.png' align='middle' style='width:500px; height:300px' />\n",
    "3. Mongo Compass comes installed wiht MongoDB which is a gui for it.\n",
    "4. Go the services section and then start the MongoDB service if not already started.\n",
    "<img src='images/image64.png' align='middle' style='width:500px; height:100px' />\n",
    "5. "
   ]
  },
  {
   "cell_type": "code",
   "execution_count": 1,
   "metadata": {},
   "outputs": [
    {
     "data": {
      "text/plain": [
       "MongoClient(host=['localhost:27017'], document_class=dict, tz_aware=False, connect=True)"
      ]
     },
     "execution_count": 1,
     "metadata": {},
     "output_type": "execute_result"
    }
   ],
   "source": [
    "import pymongo # package which enables us to connect to mongodb\n",
    "dbConn = pymongo.MongoClient('mongodb://localhost:27017') # connect to local running mongodb instance\n",
    "dbConn"
   ]
  },
  {
   "cell_type": "code",
   "execution_count": 3,
   "metadata": {},
   "outputs": [
    {
     "name": "stdout",
     "output_type": "stream",
     "text": [
      "['admin', 'config', 'crawlerDB', 'local']\n",
      "[]\n"
     ]
    }
   ],
   "source": [
    "print(dbConn.list_database_names())\n",
    "db = dbConn['DemoDB'] # connect to DB named 'NamedDB' present in DB.\n",
    "print(db)\n",
    "print(db.list_collection_names())\n",
    "collection = db['student'] # obtain the collection(table) name"
   ]
  },
  {
   "cell_type": "code",
   "execution_count": 73,
   "metadata": {},
   "outputs": [
    {
     "data": {
      "text/plain": [
       "<pymongo.results.InsertOneResult at 0x85efe48>"
      ]
     },
     "execution_count": 73,
     "metadata": {},
     "output_type": "execute_result"
    }
   ],
   "source": [
    "# single insert\n",
    "entry1 = {\n",
    "    'name': 'Veena Kalburgi',\n",
    "    'rollNo': 12345,\n",
    "    'email': 'veena.kal@gmail.com',\n",
    "    'major': 'Computer Science',\n",
    "    'yob': 1988\n",
    "}\n",
    "collection.insert_one(entry1) # insert a record, mydict is a dict with key-value pair"
   ]
  },
  {
   "cell_type": "code",
   "execution_count": 74,
   "metadata": {},
   "outputs": [
    {
     "data": {
      "text/plain": [
       "<pymongo.results.InsertManyResult at 0x85ef328>"
      ]
     },
     "execution_count": 74,
     "metadata": {},
     "output_type": "execute_result"
    }
   ],
   "source": [
    "# multiple insert\n",
    "entry2 = [\n",
    "    {\n",
    "    'name': 'Seema Mehar',\n",
    "    'rollNo': 56789,\n",
    "    'email': 'seema.meh@gmail.com',\n",
    "    'major': 'Electronics',\n",
    "    'yob': 1978\n",
    "    },\n",
    "    {\n",
    "    'name': 'Maan Khurana',\n",
    "    'rollNo': 26544,\n",
    "    'email': 'maan.geet@gmail.com',\n",
    "    'major': 'Computer Science',\n",
    "    'yob': 1985\n",
    "    },\n",
    "    {\n",
    "    'name': 'Geet Handa',\n",
    "    'rollNo': 5487,\n",
    "    'email': 'geet.maan@gmail.com',\n",
    "    'major': 'Stylish',\n",
    "    'yob': 1989\n",
    "    }\n",
    "    \n",
    "]\n",
    "collection.insert_many(entry2)"
   ]
  },
  {
   "cell_type": "code",
   "execution_count": 75,
   "metadata": {},
   "outputs": [
    {
     "name": "stdout",
     "output_type": "stream",
     "text": [
      "{'_id': ObjectId('5ecefe3389f4add9ff8759f7'), 'name': 'Veena Kalburgi', 'rollNo': 12345, 'email': 'veena.kal@gmail.com', 'major': 'Computer Science', 'yob': 1988}\n",
      "{'_id': ObjectId('5ecefe3389f4add9ff8759f8'), 'name': 'Seema Mehar', 'rollNo': 56789, 'email': 'seema.meh@gmail.com', 'major': 'Electronics', 'yob': 1978}\n",
      "{'_id': ObjectId('5ecefe3389f4add9ff8759f9'), 'name': 'Maan Khurana', 'rollNo': 26544, 'email': 'maan.geet@gmail.com', 'major': 'Computer Science', 'yob': 1985}\n",
      "{'_id': ObjectId('5ecefe3389f4add9ff8759fa'), 'name': 'Geet Handa', 'rollNo': 5487, 'email': 'geet.maan@gmail.com', 'major': 'Stylish', 'yob': 1989}\n"
     ]
    }
   ],
   "source": [
    "# retieving all the records from collection\n",
    "records = collection.find({}) \n",
    "for record in records:\n",
    "    print(record)"
   ]
  },
  {
   "cell_type": "code",
   "execution_count": 76,
   "metadata": {},
   "outputs": [
    {
     "name": "stdout",
     "output_type": "stream",
     "text": [
      "Veena Kalburgi\n",
      "Seema Mehar\n",
      "Maan Khurana\n",
      "Geet Handa\n"
     ]
    }
   ],
   "source": [
    "# retrieveing some columns\n",
    "students = collection.find({}, {'name'}).limit(5) # retrieveing two columns\n",
    "# The second parameter in find() specifies which columns to choose\n",
    "for student in students:\n",
    "#     print(type(student)) # will give a dict\n",
    "    print(student['name'])"
   ]
  },
  {
   "cell_type": "code",
   "execution_count": 84,
   "metadata": {},
   "outputs": [
    {
     "name": "stdout",
     "output_type": "stream",
     "text": [
      "{   '_id': ObjectId('5ecefe3389f4add9ff8759f7'),\n",
      "    'name': 'Veena Kalburgi',\n",
      "    'yob': 1988}\n"
     ]
    }
   ],
   "source": [
    "# query for data\n",
    "my_query = {'yob':1988}\n",
    "res = collection.find(my_query, {'name', 'yob'})\n",
    "\n",
    "for r in res:\n",
    "    pp.pprint(r)"
   ]
  },
  {
   "cell_type": "code",
   "execution_count": 78,
   "metadata": {},
   "outputs": [
    {
     "name": "stdout",
     "output_type": "stream",
     "text": [
      "{   '_id': ObjectId('5ecefe3389f4add9ff8759fa'),\n",
      "    'email': 'geet.maan@gmail.com',\n",
      "    'major': 'Stylish',\n",
      "    'name': 'Geet Handa',\n",
      "    'rollNo': 5487,\n",
      "    'yob': 1989}\n",
      "{   '_id': ObjectId('5ecefe3389f4add9ff8759f7'),\n",
      "    'email': 'veena.kal@gmail.com',\n",
      "    'major': 'Computer Science',\n",
      "    'name': 'Veena Kalburgi',\n",
      "    'rollNo': 12345,\n",
      "    'yob': 1988}\n",
      "{   '_id': ObjectId('5ecefe3389f4add9ff8759f9'),\n",
      "    'email': 'maan.geet@gmail.com',\n",
      "    'major': 'Computer Science',\n",
      "    'name': 'Maan Khurana',\n",
      "    'rollNo': 26544,\n",
      "    'yob': 1985}\n"
     ]
    }
   ],
   "source": [
    "# querey for data with condition\n",
    "my_query = {'yob': {'$gt': 1980}} # yob is greater than 1980\n",
    "res = collection.find(my_query).sort('yob', -1) # sort by 'yob' in descending order (-1)\n",
    "\n",
    "for r in res:\n",
    "    pp.pprint(r)"
   ]
  },
  {
   "cell_type": "code",
   "execution_count": 79,
   "metadata": {},
   "outputs": [
    {
     "name": "stdout",
     "output_type": "stream",
     "text": [
      "{   '_id': ObjectId('5ecefe3389f4add9ff8759f7'),\n",
      "    'email': 'veena.kal@gmail.com',\n",
      "    'major': 'Computer Science',\n",
      "    'name': 'Veena Kalburgi',\n",
      "    'rollNo': 12345,\n",
      "    'yob': 1988}\n",
      "{   '_id': ObjectId('5ecefe3389f4add9ff8759f9'),\n",
      "    'email': 'maan.geet@gmail.com',\n",
      "    'major': 'Computer Science',\n",
      "    'name': 'Maan Khurana',\n",
      "    'rollNo': 26544,\n",
      "    'yob': 1985}\n",
      "{   '_id': ObjectId('5ecefe3389f4add9ff8759fa'),\n",
      "    'email': 'geet.maan@gmail.com',\n",
      "    'major': 'Stylish',\n",
      "    'name': 'Geet Handa',\n",
      "    'rollNo': 5487,\n",
      "    'yob': 1989}\n"
     ]
    }
   ],
   "source": [
    "# delete records\n",
    "del_stud = {'name': 'Seema Mehar'}\n",
    "collection.delete_one(del_stud)\n",
    "for rec in collection.find({}):\n",
    "    pp.pprint(rec)"
   ]
  },
  {
   "cell_type": "code",
   "execution_count": 80,
   "metadata": {},
   "outputs": [
    {
     "name": "stdout",
     "output_type": "stream",
     "text": [
      "['student']\n"
     ]
    }
   ],
   "source": [
    "# for dropping a collection\n",
    "print(db.list_collection_names())\n",
    "# db.drop_collection('test')"
   ]
  },
  {
   "cell_type": "code",
   "execution_count": 81,
   "metadata": {},
   "outputs": [
    {
     "name": "stdout",
     "output_type": "stream",
     "text": [
      "['DemoDB', 'admin', 'config', 'local']\n",
      "['student']\n"
     ]
    }
   ],
   "source": [
    "print(dbConn.list_database_names())\n",
    "print(db.list_collection_names())"
   ]
  },
  {
   "cell_type": "code",
   "execution_count": 82,
   "metadata": {},
   "outputs": [
    {
     "name": "stdout",
     "output_type": "stream",
     "text": [
      "{   '_id': ObjectId('5ecefe3389f4add9ff8759f7'),\n",
      "    'email': 'veena.kal@gmail.com',\n",
      "    'major': 'Computer Science',\n",
      "    'name': 'Veena Kalburgi',\n",
      "    'rollNo': 12345,\n",
      "    'yob': 1988}\n",
      "{   '_id': ObjectId('5ecefe3389f4add9ff8759f9'),\n",
      "    'email': 'maan.geet@gmail.com',\n",
      "    'major': 'Computer Science',\n",
      "    'name': 'Maan Khurana',\n",
      "    'rollNo': 26544,\n",
      "    'yob': 1985}\n",
      "{   '_id': ObjectId('5ecefe3389f4add9ff8759fa'),\n",
      "    'email': 'geet.maan@gmail.com',\n",
      "    'major': 'Fashion Designer',\n",
      "    'name': 'Geet Handa',\n",
      "    'rollNo': 5487,\n",
      "    'yob': 1989}\n"
     ]
    }
   ],
   "source": [
    "update_criteria={'major':'Stylish'}\n",
    "new_values= { \"$set\": { \"major\": \"Fashion Designer\" } }\n",
    "collection.update_many(update_criteria, new_values)\n",
    "for rec in collection.find({}):\n",
    "    pp.pprint(rec)"
   ]
  },
  {
   "cell_type": "code",
   "execution_count": 83,
   "metadata": {},
   "outputs": [],
   "source": [
    "# dbConn.close()"
   ]
  }
 ],
 "metadata": {
  "anaconda-cloud": {},
  "kernelspec": {
   "display_name": "Python 3",
   "language": "python",
   "name": "python3"
  },
  "language_info": {
   "codemirror_mode": {
    "name": "ipython",
    "version": 3
   },
   "file_extension": ".py",
   "mimetype": "text/x-python",
   "name": "python",
   "nbconvert_exporter": "python",
   "pygments_lexer": "ipython3",
   "version": "3.8.3"
  }
 },
 "nbformat": 4,
 "nbformat_minor": 1
}
