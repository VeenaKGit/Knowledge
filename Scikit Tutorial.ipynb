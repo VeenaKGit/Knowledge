{
 "cells": [
  {
   "cell_type": "markdown",
   "metadata": {},
   "source": [
    "### To install jupyter extensions:\n",
    "* Extensions are like add-ons can make your work on notebooks significantly easier. Follow the steps in below link.\n",
    "* https://github.com/Jupyter-contrib/jupyter_nbextensions_configurator\n",
    "* Hit Tab after . to see all the functions like np. TAB\n",
    "* Hit Shift+Tab after ( opening bracket to see function definition. Like pd.read_csv(  SHIFT+TAB"
   ]
  },
  {
   "cell_type": "code",
   "execution_count": 1,
   "metadata": {},
   "outputs": [],
   "source": [
    "import numpy as np\n",
    "import pandas as pd\n",
    "import random\n",
    "import matplotlib.pyplot as plt\n",
    "import seaborn as sbs\n",
    "\n",
    "from scipy.spatial import distance\n",
    "from sklearn import datasets, tree\n",
    "from sklearn.preprocessing import StandardScaler, scale\n",
    "from sklearn.cluster import KMeans\n",
    "from sklearn.linear_model import LinearRegression\n",
    "from sklearn.preprocessing import LabelEncoder\n",
    "from sklearn.preprocessing import OneHotEncoder\n",
    "from sklearn.impute import SimpleImputer\n",
    "from sklearn.compose import ColumnTransformer\n",
    "from sklearn.pipeline import Pipeline"
   ]
  },
  {
   "cell_type": "code",
   "execution_count": 2,
   "metadata": {},
   "outputs": [],
   "source": [
    "from sklearn.model_selection import train_test_split, cross_val_score, StratifiedKFold, KFold\n",
    "from sklearn.metrics import accuracy_score, confusion_matrix, classification_report, adjusted_rand_score, mean_squared_error\n",
    "from sklearn import metrics\n",
    "from sklearn.neighbors import KNeighborsClassifier\n",
    "from sklearn.feature_extraction.text import CountVectorizer\n",
    "from sklearn.ensemble import RandomForestClassifier, AdaBoostClassifier, GradientBoostingClassifier"
   ]
  },
  {
   "cell_type": "code",
   "execution_count": 3,
   "metadata": {},
   "outputs": [],
   "source": [
    "from mpl_toolkits.mplot3d import Axes3D\n",
    "from math import sqrt"
   ]
  },
  {
   "cell_type": "code",
   "execution_count": 4,
   "metadata": {},
   "outputs": [
    {
     "data": {
      "text/html": [
       "<div>\n",
       "<style scoped>\n",
       "    .dataframe tbody tr th:only-of-type {\n",
       "        vertical-align: middle;\n",
       "    }\n",
       "\n",
       "    .dataframe tbody tr th {\n",
       "        vertical-align: top;\n",
       "    }\n",
       "\n",
       "    .dataframe thead th {\n",
       "        text-align: right;\n",
       "    }\n",
       "</style>\n",
       "<table border=\"1\" class=\"dataframe\">\n",
       "  <thead>\n",
       "    <tr style=\"text-align: right;\">\n",
       "      <th></th>\n",
       "      <th>PassengerId</th>\n",
       "      <th>Survived</th>\n",
       "      <th>Pclass</th>\n",
       "      <th>Name</th>\n",
       "      <th>Sex</th>\n",
       "      <th>Age</th>\n",
       "      <th>SibSp</th>\n",
       "      <th>Parch</th>\n",
       "      <th>Ticket</th>\n",
       "      <th>Fare</th>\n",
       "      <th>Cabin</th>\n",
       "      <th>Embarked</th>\n",
       "    </tr>\n",
       "  </thead>\n",
       "  <tbody>\n",
       "    <tr>\n",
       "      <th>0</th>\n",
       "      <td>1</td>\n",
       "      <td>0</td>\n",
       "      <td>3</td>\n",
       "      <td>Braund, Mr. Owen Harris</td>\n",
       "      <td>male</td>\n",
       "      <td>22.0</td>\n",
       "      <td>1</td>\n",
       "      <td>0</td>\n",
       "      <td>A/5 21171</td>\n",
       "      <td>7.2500</td>\n",
       "      <td>NaN</td>\n",
       "      <td>S</td>\n",
       "    </tr>\n",
       "    <tr>\n",
       "      <th>1</th>\n",
       "      <td>2</td>\n",
       "      <td>1</td>\n",
       "      <td>1</td>\n",
       "      <td>Cumings, Mrs. John Bradley (Florence Briggs Th...</td>\n",
       "      <td>female</td>\n",
       "      <td>38.0</td>\n",
       "      <td>1</td>\n",
       "      <td>0</td>\n",
       "      <td>PC 17599</td>\n",
       "      <td>71.2833</td>\n",
       "      <td>C85</td>\n",
       "      <td>C</td>\n",
       "    </tr>\n",
       "    <tr>\n",
       "      <th>2</th>\n",
       "      <td>3</td>\n",
       "      <td>1</td>\n",
       "      <td>3</td>\n",
       "      <td>Heikkinen, Miss. Laina</td>\n",
       "      <td>female</td>\n",
       "      <td>26.0</td>\n",
       "      <td>0</td>\n",
       "      <td>0</td>\n",
       "      <td>STON/O2. 3101282</td>\n",
       "      <td>7.9250</td>\n",
       "      <td>NaN</td>\n",
       "      <td>S</td>\n",
       "    </tr>\n",
       "    <tr>\n",
       "      <th>3</th>\n",
       "      <td>4</td>\n",
       "      <td>1</td>\n",
       "      <td>1</td>\n",
       "      <td>Futrelle, Mrs. Jacques Heath (Lily May Peel)</td>\n",
       "      <td>female</td>\n",
       "      <td>35.0</td>\n",
       "      <td>1</td>\n",
       "      <td>0</td>\n",
       "      <td>113803</td>\n",
       "      <td>53.1000</td>\n",
       "      <td>C123</td>\n",
       "      <td>S</td>\n",
       "    </tr>\n",
       "    <tr>\n",
       "      <th>4</th>\n",
       "      <td>5</td>\n",
       "      <td>0</td>\n",
       "      <td>3</td>\n",
       "      <td>Allen, Mr. William Henry</td>\n",
       "      <td>male</td>\n",
       "      <td>35.0</td>\n",
       "      <td>0</td>\n",
       "      <td>0</td>\n",
       "      <td>373450</td>\n",
       "      <td>8.0500</td>\n",
       "      <td>NaN</td>\n",
       "      <td>S</td>\n",
       "    </tr>\n",
       "  </tbody>\n",
       "</table>\n",
       "</div>"
      ],
      "text/plain": [
       "   PassengerId  Survived  Pclass  \\\n",
       "0            1         0       3   \n",
       "1            2         1       1   \n",
       "2            3         1       3   \n",
       "3            4         1       1   \n",
       "4            5         0       3   \n",
       "\n",
       "                                                Name     Sex   Age  SibSp  \\\n",
       "0                            Braund, Mr. Owen Harris    male  22.0      1   \n",
       "1  Cumings, Mrs. John Bradley (Florence Briggs Th...  female  38.0      1   \n",
       "2                             Heikkinen, Miss. Laina  female  26.0      0   \n",
       "3       Futrelle, Mrs. Jacques Heath (Lily May Peel)  female  35.0      1   \n",
       "4                           Allen, Mr. William Henry    male  35.0      0   \n",
       "\n",
       "   Parch            Ticket     Fare Cabin Embarked  \n",
       "0      0         A/5 21171   7.2500   NaN        S  \n",
       "1      0          PC 17599  71.2833   C85        C  \n",
       "2      0  STON/O2. 3101282   7.9250   NaN        S  \n",
       "3      0            113803  53.1000  C123        S  \n",
       "4      0            373450   8.0500   NaN        S  "
      ]
     },
     "execution_count": 4,
     "metadata": {},
     "output_type": "execute_result"
    }
   ],
   "source": [
    "# lets use the Titanic dataset where ever applicable \n",
    "tnic_df = pd.read_csv('data/titanic_kaggle_dataset.csv', header=0, dtype={'Age':np.float64})\n",
    "tnic_df.head(5)"
   ]
  },
  {
   "cell_type": "markdown",
   "metadata": {},
   "source": [
    "### Feature Engineering\n",
    "1. Feature engineering is the addition and construction of additional variables, or features, to your dataset to improve machine learning model performance and accuracy. The most effective feature engineering is based on sound knowledge of the business problem and your available data sources.\n",
    "2. Creating new features gives you a deeper understanding of your data and results in more valuable insights. When done correctly, feature engineering is one of the most valuable techniques of data science, but it is also one of the most challenging.\n",
    "3. The feature engineering process is:\n",
    "    * Brainstorming or testing features;\n",
    "    * Deciding what features to create;\n",
    "    * Creating features;\n",
    "    * Checking how the features work with your model;\n",
    "    * Improving your features if needed;\n",
    "    * Go back to brainstorming/creating more features until the work is done."
   ]
  },
  {
   "cell_type": "markdown",
   "metadata": {},
   "source": [
    "### Evaluation Metrics for different MI algorithms\n",
    "1. Accuracy scores cannot be used for regression, its is basically meant for classification. We have 'Mean Squared Error' for regression.\n",
    "2. Reference\n",
    "    * https://scikit-learn.org/stable/modules/model_evaluation.html\n",
    "    * https://machinelearningmastery.com/metrics-evaluate-machine-learning-algorithms-python/"
   ]
  },
  {
   "cell_type": "markdown",
   "metadata": {},
   "source": [
    "### sklearn Preprocessing data\n",
    "* https://scikit-learn.org/stable/modules/preprocessing.html\n",
    "* __Standardization__ of datasets is a common requirement for many machine learning estimators implemented in scikit-learn; they might behave badly if the individual features do not more or less look like standard normally distributed data: Gaussian with zero mean and unit variance.\n",
    "* For instance, many elements used in the objective function of a learning algorithm (such as the RBF kernel of Support Vector Machines or the l1 and l2 regularizers of linear models) assume that all features are centered around zero and have variance in the same order. If a feature has a variance that is orders of magnitude larger than others, it might __dominate__ the objective function and make the estimator unable to learn from other features correctly as expected."
   ]
  },
  {
   "cell_type": "markdown",
   "metadata": {},
   "source": [
    "### sklearn.preprocessing.scale\n",
    "* sklearn.preprocessing.scale(X, axis=0, with_mean=True, with_std=True, copy=True) --> This will __Standardize__ (Mean = 0 and unit variance) a dataset along any axis\n",
    "* The function scale provides a quick and easy way to perform this operation on a single array-like dataset"
   ]
  },
  {
   "cell_type": "code",
   "execution_count": 5,
   "metadata": {},
   "outputs": [
    {
     "name": "stdout",
     "output_type": "stream",
     "text": [
      "[0. 0. 0.]\n",
      "[1. 1. 1.]\n"
     ]
    }
   ],
   "source": [
    "Sample_train = np.array([[1,2,3],[4,5,6],[1,2,3]])\n",
    "Sample_scale = scale(Sample_train)\n",
    "print(Sample_scale.mean(axis = 0))\n",
    "print(Sample_scale.std(axis = 0))"
   ]
  },
  {
   "cell_type": "markdown",
   "metadata": {},
   "source": [
    "### sklearn.preprocessing.StandardScaler\n",
    "* sklearn.preprocessing.StandardScaler(copy=True, with_mean=True, with_std=True) --> Centering and scaling happen independently on each feature by computing the relevant statistics on the samples in the training set. Mean and standard deviation are then stored to be used on later data using transform..\n",
    "* This class has the following methods:  \n",
    "<img src=\"images/image5.png\" align=\"middle\" style=\"width:400px; height:200px\" />  \n",
    "* Difference between scale and standardScaler\n",
    "    Those are doing exactly the same, but:\n",
    "    preprocessing.scale(x) is just a function, which transforms some data\n",
    "    preprocessing.StandardScaler() is a class supporting the Transformer API\n",
    "    I would always use the latter, even if i would not need inverse_transform and co. supported by StandardScaler()."
   ]
  },
  {
   "cell_type": "code",
   "execution_count": 6,
   "metadata": {},
   "outputs": [
    {
     "name": "stdout",
     "output_type": "stream",
     "text": [
      "[[1 2 3]\n",
      " [4 5 6]\n",
      " [1 2 3]]\n",
      "[[1 1 1]\n",
      " [2 2 2]\n",
      " [3 3 3]]\n"
     ]
    }
   ],
   "source": [
    "sample_train = np.array([[1,2,3],[4,5,6],[1,2,3]])\n",
    "sample_test = np.array([[1,1,1],[2,2,2],[3,3,3]])\n",
    "print(sample_train)\n",
    "print(sample_test)"
   ]
  },
  {
   "cell_type": "code",
   "execution_count": 7,
   "metadata": {},
   "outputs": [
    {
     "name": "stdout",
     "output_type": "stream",
     "text": [
      "[[-0.70710678 -0.70710678 -0.70710678]\n",
      " [ 1.41421356  1.41421356  1.41421356]\n",
      " [-0.70710678 -0.70710678 -0.70710678]]\n",
      "*** train mean -  [0. 0. 0.]\n",
      "*** train std -  [1. 1. 1.]\n",
      "[[-0.70710678 -1.41421356 -2.12132034]\n",
      " [ 0.         -0.70710678 -1.41421356]\n",
      " [ 0.70710678  0.         -0.70710678]]\n",
      "*** test mean -  [ 0.         -0.70710678 -1.41421356]\n",
      "*** test std -  [0.57735027 0.57735027 0.57735027]\n"
     ]
    }
   ],
   "source": [
    "my_scaler = StandardScaler()\n",
    "my_scaler.fit(Sample_train) # Computes the mean and std deviation and stores in its class attributes\n",
    "scaled_train = my_scaler.transform(Sample_train)# Perform Standardization using fit data stored\n",
    "#my_scaler.fit_transform(Sample_train) # first fit (computes and stores), then apply to sample_train \n",
    "scaled_test = my_scaler.transform(sample_test) # apply the same standardization to testing data\n",
    "print(scaled_train)\n",
    "print(\"*** train mean - \", scaled_train.mean(axis=0))\n",
    "print(\"*** train std - \", scaled_train.std(axis=0))\n",
    "print(scaled_test)\n",
    "print(\"*** test mean - \", scaled_test.mean(axis=0)) # won't be 0 as we are using mean is from train data\n",
    "print(\"*** test std - \", scaled_test.std(axis=0))"
   ]
  },
  {
   "cell_type": "code",
   "execution_count": 8,
   "metadata": {},
   "outputs": [
    {
     "name": "stdout",
     "output_type": "stream",
     "text": [
      "[[1. 2. 3.]\n",
      " [4. 5. 6.]\n",
      " [1. 2. 3.]]\n",
      "[[1. 1. 1.]\n",
      " [2. 2. 2.]\n",
      " [3. 3. 3.]]\n"
     ]
    }
   ],
   "source": [
    "rescaled_train = my_scaler.inverse_transform(scaled_train)\n",
    "rescaled_test = my_scaler.inverse_transform(scaled_test)\n",
    "print(rescaled_train)\n",
    "print(rescaled_test)"
   ]
  },
  {
   "cell_type": "markdown",
   "metadata": {},
   "source": [
    "# Decision Tree"
   ]
  },
  {
   "cell_type": "markdown",
   "metadata": {},
   "source": [
    "1. Decision Tree algorithm belongs to the family of supervised learning algorithms. Unlike other supervised learning algorithms, the decision tree algorithm can be used for solving __regression__ and __classification__ problems too.\n",
    "2. Decision trees are most commonly used. It is one of the few classifier algorithms that is easy to interpret and analyze. We actually know how it works and how it classifies a given data.\n",
    "3. Decision trees use the features( columns) that you provide to build the tree and make the best prediction. So it's important that you choose your features that you feed the decision tree precisely.\n",
    "\n",
    "#### Reference:\n",
    "1. https://www.youtube.com/watch?v=tNa99PG8hR8&list=PLOU2XLYxmsIIuiBfYad6rFYQU_jL2ryal&index=2\n",
    "2. John Gordon - https://www.youtube.com/watch?v=eKD5gxPPeY0\n",
    "3. __*IMP* must listen__ John Gordon - https://www.youtube.com/watch?v=LDRbO9a6XPU&list=PLOU2XLYxmsIIuiBfYad6rFYQU_jL2ryal&index=8\n",
    "4. https://scikit-learn.org/stable/modules/tree.html"
   ]
  },
  {
   "cell_type": "markdown",
   "metadata": {
    "slideshow": {
     "slide_type": "notes"
    }
   },
   "source": [
    " ### Important Terminology: \n",
    "1. __Root Node__: It represents the entire population or sample and this further gets divided into two or more homogeneous sets.\n",
    "2. __Leaf / Terminal Node__: Nodes do not split is called Leaf or Terminal node.\n",
    "3. __Pruning__: When we remove sub-nodes of a decision node, this process is called pruning. You can say the opposite process of splitting.\n",
    "4. __Branch / Sub-Tree__: A subsection of the entire tree is called branch or sub-tree.\n",
    "5. __Decision/Internal Node__: When a sub-node splits into further sub-nodes, then it is called the decision node.\n",
    "6. The root and the decision/internal node have test conditions.\n",
    "\n",
    "<img src=\"images/image1.png\" style=\"width:400px; height:200px; float:left\"/>"
   ]
  },
  {
   "cell_type": "markdown",
   "metadata": {},
   "source": [
    "1. https://en.wikipedia.org/wiki/Decision_tree_learning\n",
    "\n",
    "2. __Gini Impurity__ : \n",
    "    * https://www.youtube.com/watch?v=LDRbO9a6XPU&list=PLOU2XLYxmsIIuiBfYad6rFYQU_jL2ryal&index=8\n",
    "    * Gini Impurity is a measurement of the likelihood of an incorrect classification of a new instance of a random variable, if that new instance were randomly classified according to the distribution of class labels from the data set.\n",
    "    * It reaches its minimum (zero) when all cases in the node fall into a single target category.\n",
    "    * Gini Impurity : Calculated as         \n",
    "                            j                         j\n",
    "                    G(k) =  Σ P(i) * (1 - P(i)) = 1 - Σ P(i)^2\n",
    "                            i=1                       i=1\n",
    "      \n",
    "    * Gini Gain = Information Gain: (GI of Total dataset) - (Sum of weighted GI of each branch)\n",
    "    This will give us how much impurity will be reduced with this split and tell the decision tree to split on specific feature first.\n",
    "<img src=\"images/image11.png\" align=\"middle\" style=\"width:350px; height:180px\"/>\n",
    "<img src=\"images/image12.png\" align=\"middle\" style=\"width:350px; height:50px\"/>\n",
    "3. https://victorzhou.com/blog/gini-impurity/ --> This will explain how to calculate Gini Impurity and Gini Gain and how it is used to make a split in decision tree. Also read about Information gain."
   ]
  },
  {
   "cell_type": "markdown",
   "metadata": {},
   "source": [
    "### Basic Usage "
   ]
  },
  {
   "cell_type": "code",
   "execution_count": 9,
   "metadata": {},
   "outputs": [],
   "source": [
    "#Apple and Orange classification. Oranges are bumpy and heavier. \n",
    "#training_data = [[140, \"smooth\"], [170, \"bumpy\"], [135, \"smooth\"], [155, \"bumpy\"], [165, \"bumpy\"]] \n",
    "#labels = [\"apple\", \"orange\", \"apple\", \"orange\", \"orange\"]\n",
    "training_data = [[140, 0], [170, 1], [135, 0], [155, 1], [165, 1]]\n",
    "labels = [2, 3, 2, 3, 3]"
   ]
  },
  {
   "cell_type": "code",
   "execution_count": 10,
   "metadata": {},
   "outputs": [],
   "source": [
    "clf = tree.DecisionTreeClassifier()\n",
    "clf = clf.fit(training_data, labels)"
   ]
  },
  {
   "cell_type": "code",
   "execution_count": 11,
   "metadata": {},
   "outputs": [
    {
     "data": {
      "text/plain": [
       "array([2])"
      ]
     },
     "execution_count": 11,
     "metadata": {},
     "output_type": "execute_result"
    }
   ],
   "source": [
    "clf.predict([[135, 0]])  # answer is 2 as its smooth and light weight so it's apple"
   ]
  },
  {
   "cell_type": "markdown",
   "metadata": {},
   "source": [
    "### Plot a decision tree\n",
    "__sklearn.tree.plot_tree__ for the above example we can use tree.plot_tree(clf) to get the decision tree visualisation."
   ]
  },
  {
   "cell_type": "code",
   "execution_count": 12,
   "metadata": {},
   "outputs": [
    {
     "data": {
      "image/png": "[encoded data removed]",
      "text/plain": [
       "<Figure size 432x288 with 1 Axes>"
      ]
     },
     "metadata": {
      "needs_background": "light"
     },
     "output_type": "display_data"
    }
   ],
   "source": [
    "tree.plot_tree(clf);  # ; will remove the text from output cell."
   ]
  },
  {
   "cell_type": "markdown",
   "metadata": {},
   "source": [
    "### Decision Tree Classifier from Scratch"
   ]
  },
  {
   "cell_type": "markdown",
   "metadata": {},
   "source": [
    "##### Classifier can be thought as a function y=f(x) with y being target output/label and f(x) as our features.\n",
    "<img src=\"images/image2.png\" style=\"width:150px; height:100px; float:left\"/>"
   ]
  },
  {
   "cell_type": "code",
   "execution_count": 13,
   "metadata": {},
   "outputs": [],
   "source": [
    "#sklearn provide some datasets to work with, one of which is iris\n",
    "iris = datasets.load_iris() #iris is a dict with keys as 'data', 'target', 'feature_name' etc\n",
    "#iris"
   ]
  },
  {
   "cell_type": "code",
   "execution_count": 14,
   "metadata": {},
   "outputs": [],
   "source": [
    "#use train_test_split to partition the data into training and testing group.\n",
    "X = iris.data\n",
    "y = iris.target\n",
    "\n",
    "X_train, X_test, y_train, y_test = train_test_split(X, y, test_size=0.5) # split 50-50 between test and train data"
   ]
  },
  {
   "cell_type": "markdown",
   "metadata": {},
   "source": [
    "Its pretty easy to switch between different classifier as shown below. 90% of the code flow remains the same."
   ]
  },
  {
   "cell_type": "code",
   "execution_count": 15,
   "metadata": {},
   "outputs": [],
   "source": [
    "\n",
    "clf = KNeighborsClassifier(n_neighbors=11, p=2, metric='euclidean')\n",
    "#clf = tree.DecisionTreeClassifier()\n",
    "clf.fit(X_train, y_train);"
   ]
  },
  {
   "cell_type": "code",
   "execution_count": 16,
   "metadata": {},
   "outputs": [
    {
     "data": {
      "text/plain": [
       "0.9466666666666667"
      ]
     },
     "execution_count": 16,
     "metadata": {},
     "output_type": "execute_result"
    }
   ],
   "source": [
    "predictions = clf.predict(X_test)\n",
    "accuracy_score(y_test, predictions)"
   ]
  },
  {
   "cell_type": "markdown",
   "metadata": {},
   "source": [
    "## k-nearest neighbors classifier algorithm\n",
    "A powerful Supervised machine learning algorithm used for classification and regression (mostly classification). KNN is based on __feature similarity__. It classifies a data point based on how its neighbors are classified.\n",
    "* Algorithm : \n",
    "    * As the name suggest the KNN first studies the training data. \n",
    "    * The for each new test data (a row in iris data set), it will try to find the nearest neighbour( a row in iris training data set) using euclidean distance. \n",
    "    * The nearest neighbour label is assigned to the test data set.\n",
    "    * If two nearest neighour have the same distance, then the k value is used to get a voting.\n",
    "\n",
    "* _k_ in the KNN is a parameter that refers to the number of nearest neighbors to include in the majority voting process. It uses EUCLIDEAN distance to find the nearest neighbor.\n",
    "* Choosing a right value of _k_ is a process called as __parameter tuning__, and is important for better accuracy.  \n",
    "<img src=\"images/image3.png\" align = \"middle\" style=\"width:400px; height:200px;\"/>   \n",
    "* Choose th evalue of _k_:\n",
    "    * __sqrt(n)__ where n is the total number of data points\n",
    "    * after sqrt(n) if the number of feature are even make the _k_ odd and vise-versa\n",
    "* When to use KNN:\n",
    "    * For classification\n",
    "    * Data is labeled.\n",
    "    * Data is noise free \n",
    "    * Dataset is small \n",
    "<img src=\"images/image4.png\" align = \"middle\" style=\"width:400px; height:200px;\"/>\n",
    "\n",
    "\n",
    "__Pros__:\n",
    "* KNN is a __non-parametric__. When we say a technique is non-parametric , it means that it does not make any assumptions on the underlying data distribution.\n",
    "\n",
    "__Cons__:\n",
    "* Its a __lazy__ algorithm. To be more exact, all (or most) the training data is needed during the testing phase.Basically the KNN iterate over every training set data to make a new test prediction.\n",
    "* If your _k_ is too __low__, your predict is not that accurate. If _k_ is too __high__ then its gonna take for ever to process and you are gonna run into processing/resource issues."
   ]
  },
  {
   "cell_type": "markdown",
   "metadata": {},
   "source": [
    "## K-NN classifier from scratch with k=1:\n",
    "reference: https://www.youtube.com/watch?v=AoeEHqVSNOw&list=PLOU2XLYxmsIIuiBfYad6rFYQU_jL2ryal&index=5"
   ]
  },
  {
   "cell_type": "code",
   "execution_count": 17,
   "metadata": {},
   "outputs": [],
   "source": [
    "class ScrappyKNN():\n",
    "    def fit(self, X_train, y_train):\n",
    "        self.X_train = X_train\n",
    "        self.y_train = y_train\n",
    "    \n",
    "    def predict(self, X_test):\n",
    "        predictions = []\n",
    "        for row in X_test:\n",
    "            label = self.closest(row)\n",
    "            predictions.append(label)\n",
    "        return np.array(predictions)\n",
    "    \n",
    "    def closest(self, row):\n",
    "        #from scipy.spatial import distance to calculate the euclidean distance\n",
    "        best_dist = distance.euclidean(row, self.X_train[0])  \n",
    "        best_index = 0\n",
    "        for i in range(1, len(self.X_train)):\n",
    "            dist = distance.euclidean(row, self.X_train[i])\n",
    "            if  dist < best_dist:\n",
    "                best_dist = dist\n",
    "                best_index = i   \n",
    "        return self.y_train[best_index]"
   ]
  },
  {
   "cell_type": "code",
   "execution_count": 18,
   "metadata": {},
   "outputs": [
    {
     "data": {
      "text/plain": [
       "3.7416573867739413"
      ]
     },
     "execution_count": 18,
     "metadata": {},
     "output_type": "execute_result"
    }
   ],
   "source": [
    "a=[1,1,1,1]\n",
    "b=[2,2,2,2]\n",
    "c=[2,3,4,5]\n",
    "distance.euclidean(b,c)"
   ]
  },
  {
   "cell_type": "code",
   "execution_count": 19,
   "metadata": {},
   "outputs": [
    {
     "data": {
      "text/plain": [
       "0.96"
      ]
     },
     "execution_count": 19,
     "metadata": {},
     "output_type": "execute_result"
    }
   ],
   "source": [
    "iris = datasets.load_iris()\n",
    "X = iris.data\n",
    "y = iris.target\n",
    "\n",
    "X_train, X_test, y_train, y_test = train_test_split(X, y, test_size=0.5)\n",
    "clf = ScrappyKNN()\n",
    "clf.fit(X_train, y_train);\n",
    "predictions = clf.predict(X_test)\n",
    "accuracy_score(y_test, predictions)"
   ]
  },
  {
   "cell_type": "code",
   "execution_count": 20,
   "metadata": {},
   "outputs": [
    {
     "data": {
      "text/plain": [
       "array([[21,  0,  0],\n",
       "       [ 0, 25,  1],\n",
       "       [ 0,  2, 26]], dtype=int64)"
      ]
     },
     "execution_count": 20,
     "metadata": {},
     "output_type": "execute_result"
    }
   ],
   "source": [
    "confusion_matrix(y_test, predictions)"
   ]
  },
  {
   "cell_type": "markdown",
   "metadata": {},
   "source": [
    "### Classification Accuracy and its Limitations\n",
    "* Classification accuracy is the ratio of correct predictions to total predictions made.\n",
    "    classification accuracy = correct predictions / total predictions * 100\n",
    "* Classification accuracy can also easily be turned into a misclassification rate or error rate by inverting the value, such as: error rate = (1 - (correct predictions / total predictions)) * 100\n",
    "* The main problem with classification accuracy is that it hides the detail you need to better understand the performance of your classification model. There are two examples where you are most likely to encounter this problem:\n",
    "    1. When your data has more than 2 classes. With 3 or more classes you may get a classification accuracy of 80%, but you don’t know if that is because all classes are being predicted equally well or whether one or two classes are being neglected by the model.\n",
    "    2. When your data does not have an even number of classes. You may achieve accuracy of 90% or more, but this is not a good score if 90 records for every 100 belong to one class and you can achieve this score by always predicting the most common class value. \n",
    "* Classification accuracy can hide the detail you need to diagnose the performance of your model. But thankfully we can tease apart this detail by using a confusion matrix."
   ]
  },
  {
   "cell_type": "markdown",
   "metadata": {},
   "source": [
    "### Confusion Matrix: \n",
    "* A confusion matrix is a technique for summarizing the performance of a classification algorithm.\n",
    "* The number of correct and incorrect predictions are summarized with count values and broken down by each class. This is the key to the confusion matrix.\n",
    "<img src=\"images/image6.png\" align = \"middle\" style=\"width:200px; height:120px;\"/>\n",
    "* True Positive (TP) : these are the events that were correctly predicted by the model as \"occurred = Yes.\"\n",
    "* True Nagative (TN) : These are the events that were correctly predicted by the model as \"occurred = No.\"\n",
    "* False Positive (FP) : These are the events that were predicted as \"occurred = Yes,\" but in reality, it was \"occurred = No.\" __eqv. to false alarm, Type I error__\n",
    "* False Negative (FN) : This is the opposite of FP, i.e. predicted as \"occurred = No,\" but in reality, it was \"occurred = Yes.\" __eqv. to miss, Type II error__\n",
    "\n",
    "#### Reference:\n",
    "1. https://en.wikipedia.org/wiki/Confusion_matrix --> Check this for all the calcualtion\n",
    "2. https://www.youtube.com/watch?v=vP06aMoz4v8 --> Josh Starmer\n",
    "3. https://towardsdatascience.com/beyond-accuracy-precision-and-recall-3da06bea9f6c \n",
    "\n",
    "\n",
    "1. __sensitivity/ recall/ hit rate/ true pos rate (TPR)__: \n",
    "\\begin{equation*}\n",
    "TPR = \\frac{TP}{TP + FN} = 1 - FNR\n",
    "\\end{equation*}\n",
    "<img src=\"images/image7.png\" align = \"middle\" style=\"width:300px; height:200px;\"/>\n",
    "2. __specificity, selectivity or true negative rate (TNR)__:\n",
    "\\begin{equation*}\n",
    "TNR = \\frac{TN}{TN + FP} = 1 - FPR\n",
    "\\end{equation*}\n",
    "<img src=\"images/image8.png\" align = \"middle\" style=\"width:300px; height:200px;\"/>\n",
    "\n",
    "Check the above video to calculate sensitivity and specificity of a model with more than 2 predicting value.\n",
    "\n",
    "3.precision : \n",
    "\\begin{equation*}\n",
    "TPR = \\frac{TP}{TP + FP}\n",
    "\\end{equation*}"
   ]
  },
  {
   "cell_type": "markdown",
   "metadata": {},
   "source": [
    "* __Practical application of sensitivity and specificity__ : If we calculate the sensistivity and specficity for two ML models say Random forest and Logistic Regression and here are the numbers.\n",
    "LR: Sensi: 0.81 and Speci: 0.85\n",
    "RF: Sensi: 0.83 and Speci: 0.82\n",
    "A high Sensitivity in RF tell us that the RF can predict the True Positive slightly higher than the LR. So RF is better at predicting people with Heart Desease. So use the RF model if its more important for you to know which patient is going to have a heart disease.\n",
    "A high Specificity in LR tells us that the LR can predict the True Negative slightly higher than the RF. So use the LR model if its more important for you to know which patient is not going to have a heart disease.\n",
    "<img src=\"images/image9.png\" align = \"left\" style=\"width:200px; height:300px;\"/>\n",
    "<img src=\"images/image10.png\" align = \"middle\" style=\"width:200px; height:300px;\"/>"
   ]
  },
  {
   "cell_type": "markdown",
   "metadata": {},
   "source": [
    "## Cluster Analysis : An unsupervised ML \n",
    "1. The goal of Cluster Analysis is to organise similar items in your data set into groups or clusters.\n",
    "2. Ex application : In a retail industry segment/cluster your customer base into groups/clusters based on their purchase history. Grouping latest news articles into topics of the day, to itendify the trending topic of the day.\n",
    "3. In theory, data points that are in the same group should have similar properties and/or features, while data points in different groups should have highly dissimilar properties and/or features.\n",
    "4. Eucledean Distance / Manhattan Distance or Cosine Similarity is used in Clustering Algorithm to measure similarity between data points. \n",
    "5. Since clustering is a unsupervised learning technique (there is no labelled data), there is no \"correct\" clustering data. we are just trying to get the best clustering possible. Also clustering can result into numerous groups/clusters without a label. It requires further interpretation and analysis of the cluster we can come with some labels to the cluster and make use of this data.\n"
   ]
  },
  {
   "cell_type": "markdown",
   "metadata": {},
   "source": [
    "### K-Means Clustering Algorithm\n",
    "1. A very important question to ask yourself before starting clustering is, What are you trying to cluster and on waht bases. You should the question you are trying to answer.\n",
    "1. Steps in K-Means Algorithm:  https://en.wikipedia.org/wiki/K-means_clustering  \n",
    "    a. To begin, we first select a number of classes/groups(_k_) to use and randomly initialize their respective centroids.  \n",
    "    b. Assign each sample to the closest centroid using Eucledian distance  \n",
    "    c. Calculate mean of cluster which will be your new centroid.  \n",
    "    d. Repeat (b) and (c) until stopping criteria is reached.  \n",
    "<img src=\"images/image13.png\" align = \"middle\" style=\"width:600px; height:300px;\"/>\n",
    "2. How to select Initial Centroid: Lots of sophesticated methods are there, one of the easy method is below.  \n",
    "    a. __Issue__: Final Cluster are sensitive to Initial centroids selected.  \n",
    "    b. __Solution__: Run k-means multiple times with different initial centroid and choose the best results.\n",
    "3. __Evaluating Cluster Results__: error = distance between sample and centroid\n",
    "squared error of all the samples and all the cluster gives us what is called as __WSSE (Within-cluster Sum of Squared Error)__\n",
    "    So __WSSE 1 < WSSE2__, the clsutering with smaller error is better and can be used for further processing.\n",
    "    Note: Larger values of _k_ always reduces the WSSE. So while comparing WSSE of two things we will need to maka sure we are using same _k_  \n",
    "    <img src=\"images/image14.png\" align = \"middle\" style=\"width:400px; height:300px;\"/>\n",
    "4. __Choosing the value of _k___: There are different techniques to determine the vaue of _k_, some of which are  \n",
    "    a. __Visualization__: Visualize the dataset and see if we can fidn some natural grouping of the sample data based on domain knowledge. We can use scattered plots and dimensionality reduction here to visualize the data \n",
    "    b. __Application -depedant__: sometimes ot depends on applicatipn and domain knowledge.  \n",
    "    c. __Elbow Method__: \n",
    "    <img src=\"images/image15.png\" align = \"middle\" style=\"width:400px; height:300px;\"/>"
   ]
  },
  {
   "cell_type": "markdown",
   "metadata": {},
   "source": [
    "### Building and running the Clustering Model with iris dataset"
   ]
  },
  {
   "cell_type": "code",
   "execution_count": 21,
   "metadata": {},
   "outputs": [],
   "source": [
    "iris = datasets.load_iris()\n",
    "#X = scale(iris.data) # with just scale we don't get a inverse_scale() method.\n",
    "scaler = StandardScaler()\n",
    "X = scaler.fit_transform(iris.data)\n",
    "y = pd.DataFrame(iris.target) \n",
    "# y.columns = ['Target']"
   ]
  },
  {
   "cell_type": "code",
   "execution_count": 22,
   "metadata": {},
   "outputs": [
    {
     "data": {
      "text/plain": [
       "array([1, 1, 1, 1, 1, 1, 1, 1, 1, 1, 1, 1, 1, 1, 1, 1, 1, 1, 1, 1, 1, 1,\n",
       "       1, 1, 1, 1, 1, 1, 1, 1, 1, 1, 1, 1, 1, 1, 1, 1, 1, 1, 1, 1, 1, 1,\n",
       "       1, 1, 1, 1, 1, 1, 2, 2, 2, 0, 0, 0, 2, 0, 0, 0, 0, 0, 0, 0, 0, 2,\n",
       "       0, 0, 0, 0, 2, 0, 0, 0, 0, 2, 2, 2, 0, 0, 0, 0, 0, 0, 0, 2, 2, 0,\n",
       "       0, 0, 0, 0, 0, 0, 0, 0, 0, 0, 0, 0, 2, 0, 2, 2, 2, 2, 0, 2, 2, 2,\n",
       "       2, 2, 2, 0, 0, 2, 2, 2, 2, 0, 2, 0, 2, 0, 2, 2, 0, 2, 2, 2, 2, 2,\n",
       "       2, 0, 0, 2, 2, 2, 0, 2, 2, 2, 0, 2, 2, 2, 0, 2, 2, 0])"
      ]
     },
     "execution_count": 22,
     "metadata": {},
     "output_type": "execute_result"
    }
   ],
   "source": [
    "# we know iris dataset has 3 different flowers info so k=3\n",
    "# random_state - Determines random number generation for centroid initialization. \n",
    "# Use an int to make the randomness deterministic\n",
    "kmeans = KMeans(n_clusters=3, random_state=5) \n",
    "kmeans.fit(X); # computes KMeans clustering\n",
    "kmeans.labels_# predicted labels of each data point\n",
    "#kmeans.cluster_centers_"
   ]
  },
  {
   "cell_type": "code",
   "execution_count": 23,
   "metadata": {},
   "outputs": [
    {
     "data": {
      "text/plain": [
       "array([[5.80188679, 2.67358491, 4.36981132, 1.41320755],\n",
       "       [5.006     , 3.428     , 1.462     , 0.246     ],\n",
       "       [6.78085106, 3.09574468, 5.5106383 , 1.97234043]])"
      ]
     },
     "execution_count": 23,
     "metadata": {},
     "output_type": "execute_result"
    }
   ],
   "source": [
    "centroids = scaler.inverse_transform(kmeans.cluster_centers_)\n",
    "centroids"
   ]
  },
  {
   "cell_type": "markdown",
   "metadata": {},
   "source": [
    "#### Plotting the model outputs"
   ]
  },
  {
   "cell_type": "code",
   "execution_count": 24,
   "metadata": {},
   "outputs": [],
   "source": [
    "%matplotlib inline\n",
    "plt.rcParams['figure.figsize'] = 8,4  # this parameter is used to resie your figure"
   ]
  },
  {
   "cell_type": "code",
   "execution_count": 25,
   "metadata": {},
   "outputs": [
    {
     "data": {
      "text/plain": [
       "Index(['sepal length', 'sepal width', 'petal length', 'petal width'], dtype='object')"
      ]
     },
     "execution_count": 25,
     "metadata": {},
     "output_type": "execute_result"
    }
   ],
   "source": [
    "iris_df = pd.DataFrame(iris.data)\n",
    "iris_df.columns = [i.split(' (cm)')[0] for i in iris.feature_names]\n",
    "iris_df.columns "
   ]
  },
  {
   "cell_type": "code",
   "execution_count": 26,
   "metadata": {},
   "outputs": [
    {
     "data": {
      "text/plain": [
       "array(['a', 'b', 'a', 'a', 'b'], dtype='<U1')"
      ]
     },
     "execution_count": 26,
     "metadata": {},
     "output_type": "execute_result"
    }
   ],
   "source": [
    "# explanation of what is happening at c=color_theme[iris.target]\n",
    "a=np.array(['a', 'b'])\n",
    "b=np.array([0,1,0,0,1]) #'b' holds the indexes of elements\n",
    "a[b] # selecting your elements from a using b"
   ]
  },
  {
   "cell_type": "code",
   "execution_count": 27,
   "metadata": {},
   "outputs": [
    {
     "data": {
      "text/plain": [
       "Text(0.5, 1.0, 'K-Means Clustering')"
      ]
     },
     "execution_count": 27,
     "metadata": {},
     "output_type": "execute_result"
    },
    {
     "data": {
      "image/png": "[encoded data removed]",
      "text/plain": [
       "<Figure size 576x288 with 2 Axes>"
      ]
     },
     "metadata": {
      "needs_background": "light"
     },
     "output_type": "display_data"
    }
   ],
   "source": [
    "color_theme = np.array(['darkgray', 'lightsalmon', 'powderblue'])\n",
    "\n",
    "plt.subplot(1,2,1)  # creates a subplot with rows=1,cols=2,index=1 selected\n",
    "plt.scatter(x=iris_df['petal length'], y=iris_df['petal width'], c=color_theme[iris.target], s=50)\n",
    "plt.title(\"Ground Truth Classification\")\n",
    "\n",
    "plt.subplot(1,2,2)\n",
    "plt.scatter(x=iris_df['petal length'], y=iris_df['petal width'], c=color_theme[kmeans.labels_], s=50)\n",
    "plt.title(\"K-Means Clustering\")\n"
   ]
  },
  {
   "cell_type": "code",
   "execution_count": 28,
   "metadata": {},
   "outputs": [
    {
     "data": {
      "text/plain": [
       "array([8, 7, 6, 6, 7, 8])"
      ]
     },
     "execution_count": 28,
     "metadata": {},
     "output_type": "execute_result"
    }
   ],
   "source": [
    "# with np.choose(a, choices) we are creating a array with elements from 'choices' choosen/sequenced with index from 'a'.\n",
    "# https://docs.scipy.org/doc/numpy/reference/generated/numpy.choose.html\n",
    "#choices = [[0, 1, 2, 3], [10, 11, 12, 13],[20, 21, 22, 23], [30, 31, 32, 33]]\n",
    "choices = [6,7,8]\n",
    "correction_index = [2,1,0,0,1,2] # the index should not exceed the number of elements in choices.\n",
    "np.choose(correction_index, choices)"
   ]
  },
  {
   "cell_type": "code",
   "execution_count": 29,
   "metadata": {},
   "outputs": [
    {
     "data": {
      "text/plain": [
       "Text(0.5, 1.0, 'K-Means Clustering')"
      ]
     },
     "execution_count": 29,
     "metadata": {},
     "output_type": "execute_result"
    },
    {
     "data": {
      "image/png": "[encoded data removed]",
      "text/plain": [
       "<Figure size 576x288 with 2 Axes>"
      ]
     },
     "metadata": {
      "needs_background": "light"
     },
     "output_type": "display_data"
    }
   ],
   "source": [
    "# here we will relabel the predicted labels_ to correct the coloring\n",
    "#[0,1,2] --> Original label per iris dataset which stands for setosa(0), versicolor(1), verginica(2)\n",
    "#[1,0,2] --> Predicted labels per kmeans setosa(1), versicolor(0), verginica(2)\n",
    "relabel = np.choose(kmeans.labels_,[1,0,2]).astype(np.int64)\n",
    "\n",
    "plt.subplot(1,2,1)\n",
    "plt.scatter(x=iris_df['petal length'], y=iris_df['petal width'], c=color_theme[iris.target], s=50)\n",
    "plt.title(\"Ground Truth Classification\")\n",
    "\n",
    "plt.subplot(1,2,2)\n",
    "plt.scatter(x=iris_df['petal length'], y=iris_df['petal width'], c=color_theme[relabel], s=50)\n",
    "#plot the scaled centroids for our reference.\n",
    "plt.scatter(x=centroids[:,2], y=centroids[:,3], c='b', s=100, marker='*' )\n",
    "plt.title(\"K-Means Clustering\")"
   ]
  },
  {
   "cell_type": "code",
   "execution_count": 30,
   "metadata": {},
   "outputs": [
    {
     "data": {
      "text/plain": [
       "array([[-0.05021989, -0.88337647,  0.34773781,  0.2815273 ],\n",
       "       [-1.01457897,  0.85326268, -1.30498732, -1.25489349],\n",
       "       [ 1.13597027,  0.08842168,  0.99615451,  1.01752612]])"
      ]
     },
     "execution_count": 30,
     "metadata": {},
     "output_type": "execute_result"
    }
   ],
   "source": [
    "# now that kmeans has learnt the clustering, lets try to predict a new data.\n",
    "test_df = pd.DataFrame([\n",
    "    [5.1,3.5,1.4,0.2], # this is setosa(predicted code 1)\n",
    "    [7.0,3.2,4.7,1.4], # this is versicolor(predicted code 0)\n",
    "    [5.9,3.0,5.1,1.8], # this is a virginica( predected code 2)\n",
    "    [5.4,3.9,1.3,0.4], # setosa(predicted code 1)\n",
    "    [5.5,2.3,4.0,1.3], # versicolor(predicted code 0)\n",
    "    [6.2,3.4,5.4,2.3], # virginica( predected code 2)\n",
    "])\n",
    "test_df = scaler.transform(test_df)\n",
    "kmeans.cluster_centers_"
   ]
  },
  {
   "cell_type": "code",
   "execution_count": 31,
   "metadata": {},
   "outputs": [
    {
     "data": {
      "text/plain": [
       "array([1, 2, 0, 1, 0, 2], dtype=int32)"
      ]
     },
     "execution_count": 31,
     "metadata": {},
     "output_type": "execute_result"
    }
   ],
   "source": [
    "#as you see setosa is correctly predeicted 100% times but sometimes versicolor and virginica are not predicted correctly.\n",
    "kmeans.predict(test_df)"
   ]
  },
  {
   "cell_type": "code",
   "execution_count": 32,
   "metadata": {},
   "outputs": [
    {
     "data": {
      "text/plain": [
       "array([[-0.05021989, -0.88337647,  0.34773781,  0.2815273 ],\n",
       "       [-1.01457897,  0.85326268, -1.30498732, -1.25489349],\n",
       "       [ 1.13597027,  0.08842168,  0.99615451,  1.01752612]])"
      ]
     },
     "execution_count": 32,
     "metadata": {},
     "output_type": "execute_result"
    }
   ],
   "source": [
    "kmeans.cluster_centers_"
   ]
  },
  {
   "cell_type": "markdown",
   "metadata": {},
   "source": [
    "### Clustering performance evaluation - https://scikit-learn.org/stable/modules/clustering.html#clustering-performance-evaluation\n",
    "1. __from sklearn import metrics__\n",
    "1. Evaluating the performance of a clustering algorithm is not as trivial as counting the number of errors or the precision and recall of a supervised classification algorithm. In particular any evaluation metric should not take the absolute values of the cluster labels into account but rather if this clustering define separations of the data similar to some ground truth set of classes or satisfying some assumption such that members belong to the same class are more similar than members of different classes according to some similarity metric.\n",
    "2. __Adjusted Rand Index__: Given the knowledge of the ground truth class assignments labels_true and our clustering algorithm assignments of the same samples labels_pred, the adjusted Rand index is a function that measures the similarity of the two assignments, ignoring permutations and with chance normalization:\n",
    "    * see below code\n",
    "    * Perfect labeling is scored 1.0\n",
    "    * Bad labeling can be 0.0 or negative"
   ]
  },
  {
   "cell_type": "code",
   "execution_count": 33,
   "metadata": {},
   "outputs": [
    {
     "name": "stdout",
     "output_type": "stream",
     "text": [
      "0.7058823529411765\n",
      "0.7058823529411765\n"
     ]
    }
   ],
   "source": [
    "#label_true = [0,0,0,1,1,1]  \n",
    "#label_pred = [1,1,1,0,0,0] # sequence of clustering labels doesn't matter\n",
    "label_true = [0,0,0,1,1,1]  \n",
    "label_pred = [2,2,0,3,3,3] # we can premute the labels, we can leave it normalised.\n",
    "#label_true = [0,0,0,1,1,1]  \n",
    "#label_pred = [1,2,5,4,2,3] # score as negative\n",
    "print(metrics.adjusted_rand_score(label_true, label_pred))\n",
    "print(metrics.adjusted_rand_score(label_pred, label_true)) # this gives the same score as above, arguments are symmetric"
   ]
  },
  {
   "cell_type": "code",
   "execution_count": 34,
   "metadata": {},
   "outputs": [
    {
     "data": {
      "text/plain": [
       "0.45994823920518635"
      ]
     },
     "execution_count": 34,
     "metadata": {},
     "output_type": "execute_result"
    }
   ],
   "source": [
    "label_true = y[0].tolist()\n",
    "label_pred = kmeans.labels_ # using relabel gives the same result\n",
    "\n",
    "metrics.adjusted_rand_score(label_true, label_pred) #Ground truth is known\n",
    "metrics.silhouette_score(X, kmeans.labels_, metric='euclidean') #Ground truth is not known"
   ]
  },
  {
   "cell_type": "code",
   "execution_count": 35,
   "metadata": {},
   "outputs": [
    {
     "name": "stdout",
     "output_type": "stream",
     "text": [
      "              precision    recall  f1-score   support\n",
      "\n",
      "           0       1.00      1.00      1.00        50\n",
      "           1       0.74      0.78      0.76        50\n",
      "           2       0.77      0.72      0.74        50\n",
      "\n",
      "    accuracy                           0.83       150\n",
      "   macro avg       0.83      0.83      0.83       150\n",
      "weighted avg       0.83      0.83      0.83       150\n",
      "\n"
     ]
    }
   ],
   "source": [
    "# we shouldn't be using classification report here as we know we are not performing classification we are doing clustering. \n",
    "#Just because we have used a classification example we can use it just for reference to above clustering score.\n",
    "print(classification_report(y, relabel))"
   ]
  },
  {
   "cell_type": "markdown",
   "metadata": {},
   "source": [
    "## Bias and Variance and tradeoff \n",
    "We know that in ML we are trying to predict the function f(), given y and X.Here we are trying to predict the function f^() as close as possible to the __\"Ground truth\"__(true) function f().\n",
    "1. __Bias__ : Is the error between our model predicted function __f^()__ to the ground truth function __f()__. See the picture below. Say we ahve a 'Ground true' function which is a arc and we are using a liner regression to predict the curved function. Here no matter what, the liner regression is going to give us a straight line. This kind of modelling where the model misses the little attentions to training data and over generalise the algorithm are said to have __high Bias__ and are called as __underfitted__ in training phase. \n",
    "<img src=\"images/image17.png\" align = \"middle\" style=\"width:300px; height:200px;\"/>\n",
    "2. __Variance__ : On the other hand if we are using a polynomial regression, it is super flexible and hugs the training set along the arc of the true function. Here the polynomial regression pays lots of attention to the training data and does not generalise well on data which it hasn't seen before. As a result, such model perform very well on training data but have high error rates on test data. This is called as __high variance__ situation. High variance can cause an algorithm to model the random noise in the training data, rather than the intended outputs. This kind of model is said to be __overfitted__ in training phase.\n",
    "<img src=\"images/image18.png\" align = \"middle\" style=\"width:300px; height:200px;\"/> \n",
    "3. The fact here is Liner regression which has __high bias__, will have __low variance__ due to generalisation during training phase. And polynomial regression will have __low bias__ in training phase, but will have __high variance in__ testing phase.\n",
    "4. Another fact is its not possible to have a ideal model which will have low bais and low variance. Hence there has to be a __trade-off__ between the two. An __optimal balance of bias and variance would never overfit or underfit the model__. To build a good model, we need to find a good balance between bias and variance such that it minimizes the total error.\n",
    "                __Total Error = Bias^2+Variance+Irreducible Error__  \n",
    "<img src=\"images/image16.png\" align = \"middle\" style=\"width:200px; height:200px;\"/> \n",
    "5. These Bias and Variance is seen mainly in predictive modelling of Supervised Learning Algorithm namely Classification and Regression.\n",
    " \n",
    "6. Reference:\n",
    "    * Mitesh Khapra - https://www.youtube.com/watch?v=Y0m136XU65o\n",
    "    * Josh Stamer - https://www.youtube.com/watch?v=Y0m136XU65o\n",
    "    * https://towardsdatascience.com/understanding-the-bias-variance-tradeoff-165e6942b229"
   ]
  },
  {
   "cell_type": "markdown",
   "metadata": {},
   "source": [
    "## Cross-Validation - https://scikit-learn.org/stable/modules/cross_validation.html\n",
    "1. If we want to know which machine learning algorithm out of N available algorithms to use to solve the problem, we can use cross-validation.\n",
    "2. __Cross validation__ allows us to compare different machine learning methods and get a sense of how well they will work in practice.\n",
    "\n",
    "1. __train_test_split__ - This is the simplest way to split the dataset. But problem with it is that since we split it randomly it may happen that the training data get overly saturated with one type of data and the model may have poor performance on test data.\n",
    "\n",
    "3. __K-Fold CV__: In k-fold cross-validation, you split the training data into k subsets of data (also known as folds). You train an ML model on all but one (k-1) of the subsets, and then evaluate the model on the subset that was not used for training. This process is repeated k times, with a different subset reserved for evaluation (and excluded from training) each time. Then the accuracy is averaged out.\n",
    "    * The __dis-advantages__ with this is that, what if one type of data overload in test/training fold. Then the accuracy of overall model will fall.  \n",
    "<img src=\"images/image19.png\" align = \"middle\" style=\"width:600px; height:150px;\"/> \n",
    "4. __Stratified K-fold CV__: In some cases, there may be a large imbalance in the response variables. For example, in dataset concerning price of houses, there might be large number of houses having high price. Or in case of classification, there might be several times more negative samples than positive samples. For such problems, a slight variation in the K Fold cross validation technique is made, such that each fold contains approximately the same percentage of samples of each target class as the complete set, or in case of prediction problems, the mean response value is approximately equal in all the folds. This variation is also known as Stratified K Fold. Another major difference between KFold and SKFold is that in stratified you need to supply both X and y labels to teh .split(), bacause Stratifying is done on the y lables. Where as in KFold just X si enough.\n",
    "5. __Time Series CV__: Splitting a time-series dataset randomly does not work because the time section of your data will be messed up. For a time series forecasting problem, we perform cross validation in the following manner.\n",
    "<img src=\"images/image20.png\" align = \"middle\" style=\"width:600px; height:150px;\"/> \n",
    "5. Reference:\n",
    "    * https://en.wikipedia.org/wiki/Cross-validation_(statistics)\n",
    "    * john Stamer - https://www.youtube.com/watch?v=fSytzGwwBVw\n",
    "    * https://www.analyticsvidhya.com/blog/2018/05/improve-model-performance-cross-validation-in-python-r/"
   ]
  },
  {
   "cell_type": "markdown",
   "metadata": {},
   "source": [
    "### train_test_split"
   ]
  },
  {
   "cell_type": "code",
   "execution_count": 36,
   "metadata": {},
   "outputs": [
    {
     "name": "stdout",
     "output_type": "stream",
     "text": [
      "              precision    recall  f1-score   support\n",
      "\n",
      "           0       1.00      1.00      1.00        25\n",
      "           1       0.95      1.00      0.97        19\n",
      "           2       1.00      0.94      0.97        16\n",
      "\n",
      "    accuracy                           0.98        60\n",
      "   macro avg       0.98      0.98      0.98        60\n",
      "weighted avg       0.98      0.98      0.98        60\n",
      "\n",
      "***************************\n",
      "0.9833333333333333\n"
     ]
    }
   ],
   "source": [
    "#Simplest method of train_test_split\n",
    "X, y = datasets.load_iris(return_X_y=True)\n",
    "X_train, X_test, y_train, y_test = train_test_split(X, y, test_size=0.4, random_state=32)\n",
    "clf = KNeighborsClassifier(n_neighbors=11, p=2, metric='euclidean')\n",
    "clf.fit(X_train, y_train)\n",
    "clf_pred = clf.predict(X_test)\n",
    "print(classification_report(y_test, clf_pred))\n",
    "print(\"***************************\")\n",
    "print(clf.score(X_test, y_test)) # .score() will first call a predict and then calculate the accuracy\n"
   ]
  },
  {
   "cell_type": "markdown",
   "metadata": {},
   "source": [
    "### K-Fold Cross Validation"
   ]
  },
  {
   "cell_type": "code",
   "execution_count": 37,
   "metadata": {},
   "outputs": [],
   "source": [
    "# Basic usage of KFold\n",
    "# see how the output is divided into 3 parts and in 3 folds it been rotated between train and test\n",
    "kf = KFold(n_splits=3, random_state=None)\n"
   ]
  },
  {
   "cell_type": "code",
   "execution_count": 38,
   "metadata": {},
   "outputs": [
    {
     "name": "stdout",
     "output_type": "stream",
     "text": [
      "[3 4 5 6 7 8] [0 1 2]\n",
      "[0 1 2 6 7 8] [3 4 5]\n",
      "[0 1 2 3 4 5] [6 7 8]\n",
      "***************************\n",
      "              precision    recall  f1-score   support\n",
      "\n",
      "           0       1.00      1.00      1.00         3\n",
      "\n",
      "    accuracy                           1.00         3\n",
      "   macro avg       1.00      1.00      1.00         3\n",
      "weighted avg       1.00      1.00      1.00         3\n",
      "\n",
      "***************************\n",
      "1.0\n"
     ]
    }
   ],
   "source": [
    "clf = KNeighborsClassifier(n_neighbors=3, p=2, metric='euclidean')\n",
    "for train_index, test_index in kf.split([1,2,3,4,5,6,7,8,9]):\n",
    "    print( train_index, test_index)\n",
    "    X_train, X_test, y_train, y_test = X[train_index], X[test_index], y[train_index], y[test_index]\n",
    "clf.fit(X_train, y_train)\n",
    "clf_pred = clf.predict(X_test)\n",
    "print(\"***************************\")\n",
    "print(classification_report(y_test, clf_pred))\n",
    "print(\"***************************\")\n",
    "print(clf.score(X_test, y_test))"
   ]
  },
  {
   "cell_type": "code",
   "execution_count": 39,
   "metadata": {},
   "outputs": [
    {
     "name": "stdout",
     "output_type": "stream",
     "text": [
      "[0.93333333 1.         1.         0.96666667 1.        ]\n"
     ]
    },
    {
     "data": {
      "text/plain": [
       "0.9800000000000001"
      ]
     },
     "execution_count": 39,
     "metadata": {},
     "output_type": "execute_result"
    }
   ],
   "source": [
    "# using cross-validation = KFold CV \n",
    "# Keep in mind that we are giving X and y as the input and not X_train and y_train\n",
    "KnnClf = KNeighborsClassifier(n_neighbors=11, p=2, metric='euclidean')\n",
    "# cross_cal_score is just a method which uses either KFolf or StrtifiedKFold (Check the documentation which one is used when\n",
    "# then gives a list of score on each iteration on model. SO you can see min, ma and mean of the accuracy score.\n",
    "scores = cross_val_score(KnnClf, X, y, cv=5)  #cv=10 means 10 fold\n",
    "print(scores)\n",
    "scores.mean()"
   ]
  },
  {
   "cell_type": "code",
   "execution_count": 40,
   "metadata": {},
   "outputs": [
    {
     "name": "stdout",
     "output_type": "stream",
     "text": [
      "[0.96666667 0.96666667 0.9        0.93333333 1.        ]\n"
     ]
    },
    {
     "data": {
      "text/plain": [
       "0.9533333333333334"
      ]
     },
     "execution_count": 40,
     "metadata": {},
     "output_type": "execute_result"
    }
   ],
   "source": [
    "# Keep in mind that we are giving X and y as the input and not X_train and y_train\n",
    "DtreeClf = tree.DecisionTreeClassifier()\n",
    "scores = cross_val_score(DtreeClf, X, y, cv=5)\n",
    "print(scores)\n",
    "scores.mean()"
   ]
  },
  {
   "cell_type": "markdown",
   "metadata": {},
   "source": [
    "### Stratifies K-Fold CV"
   ]
  },
  {
   "cell_type": "code",
   "execution_count": 41,
   "metadata": {},
   "outputs": [
    {
     "name": "stdout",
     "output_type": "stream",
     "text": [
      "[0.9333333333333333, 1.0, 1.0, 0.9666666666666667, 1.0]\n"
     ]
    },
    {
     "data": {
      "text/plain": [
       "0.9800000000000001"
      ]
     },
     "execution_count": 41,
     "metadata": {},
     "output_type": "execute_result"
    }
   ],
   "source": [
    "# Here SKF tries to create a balanced KFold.\n",
    "# we will use KNN here to find the accuracu using SKF\n",
    "clf = KNeighborsClassifier(n_neighbors=11, p=2, metric='euclidean') \n",
    "\n",
    "skf = StratifiedKFold(n_splits=5, random_state=None)  # n_splits is same as cv=5 above\n",
    "accuracy = []\n",
    "\n",
    "# NOte that in strtified K fold y is required, where as in Kfold its not\n",
    "# Thats because strtification happends on y values.\n",
    "for train_index, test_index in skf.split(X, y):\n",
    "    #print(\"TRAIN:\", train_index, \"TEST:\", test_index)\n",
    "    X_train, X_test = X[train_index], X[test_index]\n",
    "    y_train, y_test = y[train_index], y[test_index]\n",
    "    \n",
    "    clf.fit(X_train, y_train)\n",
    "    predictions = clf.predict(X_test)\n",
    "    scores = accuracy_score(y_test, predictions)\n",
    "    accuracy.append(scores)\n",
    "    \n",
    "print(accuracy)\n",
    "np.array(accuracy).mean()"
   ]
  },
  {
   "cell_type": "code",
   "execution_count": 42,
   "metadata": {},
   "outputs": [
    {
     "name": "stdout",
     "output_type": "stream",
     "text": [
      "Score Card - [0.97777778 0.95555556 0.97777778 0.91111111 0.97777778] \n",
      "Mean - 0.96\n"
     ]
    }
   ],
   "source": [
    "# https://scikit-learn.org/stable/modules/cross_validation.html#computing-cross-validated-metrics\n",
    "# When the cv argument is an integer, cross_val_score uses the KFold or StratifiedKFold strategies by default, \n",
    "# the latter being used if the estimator derives from ClassifierMixin.\n",
    "# It is also possible to use other cross validation strategies by passing a cross validation iterator instead, for instance:\n",
    "from sklearn.model_selection import ShuffleSplit\n",
    "cv = ShuffleSplit(n_splits=5, test_size=0.3, random_state=0) # we can use \n",
    "score = cross_val_score(clf, X, y, cv=cv)\n",
    "print(\"Score Card - {} \\nMean - {}\".format(score, score.mean()))"
   ]
  },
  {
   "cell_type": "code",
   "execution_count": 43,
   "metadata": {},
   "outputs": [
    {
     "name": "stdout",
     "output_type": "stream",
     "text": [
      "Score Card - [0.93333333 1.         1.         0.96666667 1.        ] \n",
      "Mean - 0.9800000000000001\n"
     ]
    }
   ],
   "source": [
    "# using cross_val_score\n",
    "score = cross_val_score(clf, X, y, cv=skf)\n",
    "print(\"Score Card - {} \\nMean - {}\".format(score, score.mean()))"
   ]
  },
  {
   "cell_type": "code",
   "execution_count": 44,
   "metadata": {},
   "outputs": [
    {
     "data": {
      "text/plain": [
       "array([0, 0, 0, 0, 0, 0, 0, 0, 0, 0, 1, 1, 1, 1, 1, 1, 1, 1, 1, 1, 2, 2,\n",
       "       2, 2, 2, 2, 2, 2, 2, 2])"
      ]
     },
     "execution_count": 44,
     "metadata": {},
     "output_type": "execute_result"
    }
   ],
   "source": [
    "clf.predict(X_test)"
   ]
  },
  {
   "cell_type": "code",
   "execution_count": 45,
   "metadata": {},
   "outputs": [
    {
     "data": {
      "text/plain": [
       "array([0.        , 0.        , 0.        , 0.        , 0.        ,\n",
       "       0.        , 0.        , 0.        , 0.        , 0.        ,\n",
       "       1.        , 0.90909091, 1.        , 1.        , 1.        ,\n",
       "       1.        , 1.        , 1.        , 1.        , 1.        ,\n",
       "       0.        , 0.09090909, 0.18181818, 0.        , 0.        ,\n",
       "       0.09090909, 0.18181818, 0.09090909, 0.        , 0.27272727])"
      ]
     },
     "execution_count": 45,
     "metadata": {},
     "output_type": "execute_result"
    }
   ],
   "source": [
    "clf.predict_proba(X_test)\n",
    "clf.predict_proba(X_test)[:,1]"
   ]
  },
  {
   "cell_type": "markdown",
   "metadata": {},
   "source": [
    "### Connecting to Database:"
   ]
  },
  {
   "cell_type": "code",
   "execution_count": 46,
   "metadata": {},
   "outputs": [],
   "source": [
    "# Create your connection.\n",
    "#cnx = sqlite3.connect('database.sqlite')\n",
    "#df = pd.read_sql_query(\"SELECT * FROM Player_Attributes\", cnx)"
   ]
  },
  {
   "cell_type": "markdown",
   "metadata": {},
   "source": [
    "## Regression"
   ]
  },
  {
   "cell_type": "markdown",
   "metadata": {},
   "source": [
    "1. Checkout Data Science Regression documentation in my Google Drive before proceeding further.\n",
    "2. __Regression vs Classification__: In regression we predict the target which are numerical/contineous in nature and in classification we predict the targets which are categorical in nature. \n",
    "3. Regression allows us to model the relationship between 2 or more variables using algebra. The goal of linear regression is to create a model that minimizes the sum of squared errors (SSE)\n",
    "4. There are two kinds of variables:\n",
    "    * __Independent variable__: An independent variable is the variable that is changed or controlled in a scientific experiment to test the effects on the dependent variable. Here total bill is a independent variable.\n",
    "    * __Dependent variable__: A dependent variable is the variable being tested and measured in a scientific experiment. Here “tip” amount is a dependant variable.\n",
    "5. __Linear Regression__: Predicts one DV utilizing one IV.\n",
    "6. __Multiple Regression__: It's the same as linear regression. Here we will have more than one independent variable which will be utilized to predict the value of one depend variable.\n",
    "    * __OVERFITTING__ : Adding more independent variable to a multiple regression does not mean the regression will be better or offer better predictions ; in fact it can make things worse and this is called OVERFITTING. So to get a better prediction model the trick/idea is to pick the best independent variable.\n",
    "    * __Multicollinearity__ : When we have multiple independent variables to consider, there arises another problem where the independent variables will have some correlation among themself in addition to sharing a correlation with the dependent variable.Also since the independent variables are related to each other we are really not sure which one is actually explaining the variation in the dependent variable. We have to make sure we address Multicollinearity in regression problems but we cn ignore (i think cross check) multicollinearity in classification problems.\n",
    "7. __Logistic regression__: A binomial logistic regression (often referred to simply as logistic regression), predicts the probability that an observation falls into one of two categories of a __dichotomous dependent__ variable based on one or more independent variables that can be either continuous or categorical.\n",
    "8. Correlation: First step in calculating the regression line is to find out if there is a good correlation between the two variables (DV and IV, between IVs in case of MR)\n",
    "    * https://www.mathsisfun.com/data/correlation.html\n",
    "9. Evaluation Metrics for performance: \n",
    "    * Error: Error in a regression model is the distance between the actual value and the predicted value.\n",
    "    * RMSE - Root Mean Squared Error is one of the way to measure the performance of the regression matrix.The RMSE is the square root of the variance of the residuals\n",
    "    * \n",
    "0. Reference:\n",
    "    * https://www.youtube.com/watch?v=ZkjP5RJLQF4\n",
    "    * https://www.theanalysisfactor.com/assessing-the-fit-of-regression-models/"
   ]
  },
  {
   "cell_type": "code",
   "execution_count": 47,
   "metadata": {},
   "outputs": [],
   "source": [
    "# Finding correlation\n",
    "cor = tnic_df.corr()\n",
    "cor;"
   ]
  },
  {
   "cell_type": "code",
   "execution_count": 48,
   "metadata": {},
   "outputs": [
    {
     "data": {
      "image/png": "[encoded data removed]",
      "text/plain": [
       "<Figure size 576x288 with 2 Axes>"
      ]
     },
     "metadata": {
      "needs_background": "light"
     },
     "output_type": "display_data"
    }
   ],
   "source": [
    "sbs.heatmap(cor);"
   ]
  },
  {
   "cell_type": "markdown",
   "metadata": {},
   "source": [
    "### Data Manipulation - get_dummies() : We know that Algorithms cannot handle str or text data. So each variable should be converted into a integer. Before that lets see what kind of categorical variables exists\n",
    "1. __Nominal Variable__: These variables have values(string values) which are not related to each other. Say if we denote Men=1 and Women=2 and Children=3, then there is no relation like 1+2 = 3 or order like 1<2<3 (which would mean men<women<children) . And we want the algorithm to make sure it does not assume this kind of relation. So we cannot denote by integers. So we use what is called as 1 hot encoding.\n",
    "2. __Ordinal Variable__: These variables have a order/relation amoung the values. Say ex. high, medium, low if we denote by 1, 2, 3. Then for sure hihg(1) > medium(2) > low(3).  We use Lable Encoding to convert these values. Label encoding assigns each unique value to a different integer\n",
    "<img src=\"images/image58.png\" align = \"middle\" style=\"width:500px; height:200px;\"/>   \n",
    "3. __One hot Encoding__: Here we create one columnn for each of the value in the Nominal Variable. One-hot encoding creates new columns indicating the presence (or absence) of each possible value in the original data. We use OHE from sklearn to get teh job done.\n",
    "    * We set handle_unknown='ignore' to avoid errors when the validation data contains classes that aren't represented in the training data, and\n",
    "    * setting sparse=False ensures that the encoded columns are returned as a numpy array (instead of a sparse matrix).\n",
    "4. __get_dummies__ : Also does the same job of encoding but OHE has better parameters and perfor better in production.\n"
   ]
  },
  {
   "cell_type": "code",
   "execution_count": 49,
   "metadata": {},
   "outputs": [],
   "source": [
    "dct={\n",
    "    'name':['Veena', 'amit', 'seema'],\n",
    "    'age': [32, 35, 40],\n",
    "    'sex': ['female', 'male', 'female'],\n",
    "    'interest': ['cooking', 'sports', 'dancing']\n",
    "}\n",
    "df = pd.DataFrame(dct)"
   ]
  },
  {
   "cell_type": "code",
   "execution_count": 50,
   "metadata": {},
   "outputs": [
    {
     "data": {
      "text/plain": [
       "Index(['name', 'sex', 'interest'], dtype='object')"
      ]
     },
     "execution_count": 50,
     "metadata": {},
     "output_type": "execute_result"
    }
   ],
   "source": [
    "# in big df's use this to find the coumns which has text fields.\n",
    "s = (df.dtypes == 'object')\n",
    "s[s].index  "
   ]
  },
  {
   "cell_type": "code",
   "execution_count": 51,
   "metadata": {},
   "outputs": [
    {
     "data": {
      "text/html": [
       "<div>\n",
       "<style scoped>\n",
       "    .dataframe tbody tr th:only-of-type {\n",
       "        vertical-align: middle;\n",
       "    }\n",
       "\n",
       "    .dataframe tbody tr th {\n",
       "        vertical-align: top;\n",
       "    }\n",
       "\n",
       "    .dataframe thead th {\n",
       "        text-align: right;\n",
       "    }\n",
       "</style>\n",
       "<table border=\"1\" class=\"dataframe\">\n",
       "  <thead>\n",
       "    <tr style=\"text-align: right;\">\n",
       "      <th></th>\n",
       "      <th>name</th>\n",
       "      <th>age</th>\n",
       "      <th>sex</th>\n",
       "      <th>interest</th>\n",
       "      <th>LE</th>\n",
       "    </tr>\n",
       "  </thead>\n",
       "  <tbody>\n",
       "    <tr>\n",
       "      <th>0</th>\n",
       "      <td>Veena</td>\n",
       "      <td>32</td>\n",
       "      <td>female</td>\n",
       "      <td>cooking</td>\n",
       "      <td>0</td>\n",
       "    </tr>\n",
       "    <tr>\n",
       "      <th>1</th>\n",
       "      <td>amit</td>\n",
       "      <td>35</td>\n",
       "      <td>male</td>\n",
       "      <td>sports</td>\n",
       "      <td>1</td>\n",
       "    </tr>\n",
       "    <tr>\n",
       "      <th>2</th>\n",
       "      <td>seema</td>\n",
       "      <td>40</td>\n",
       "      <td>female</td>\n",
       "      <td>dancing</td>\n",
       "      <td>0</td>\n",
       "    </tr>\n",
       "  </tbody>\n",
       "</table>\n",
       "</div>"
      ],
      "text/plain": [
       "    name  age     sex interest  LE\n",
       "0  Veena   32  female  cooking   0\n",
       "1   amit   35    male   sports   1\n",
       "2  seema   40  female  dancing   0"
      ]
     },
     "execution_count": 51,
     "metadata": {},
     "output_type": "execute_result"
    }
   ],
   "source": [
    "# Label Encoding is a class so define it first\n",
    "label_encoder = LabelEncoder()\n",
    "df['LE'] = label_encoder.fit_transform(df['sex'])\n",
    "df"
   ]
  },
  {
   "cell_type": "code",
   "execution_count": null,
   "metadata": {},
   "outputs": [],
   "source": []
  },
  {
   "cell_type": "code",
   "execution_count": 52,
   "metadata": {},
   "outputs": [
    {
     "name": "stdout",
     "output_type": "stream",
     "text": [
      "[[1. 0.]\n",
      " [0. 1.]\n",
      " [1. 0.]] (3, 2)\n",
      "   OHE_F  OHE_M\n",
      "0    1.0    0.0\n",
      "1    0.0    1.0\n",
      "2    1.0    0.0\n"
     ]
    },
    {
     "data": {
      "text/html": [
       "<div>\n",
       "<style scoped>\n",
       "    .dataframe tbody tr th:only-of-type {\n",
       "        vertical-align: middle;\n",
       "    }\n",
       "\n",
       "    .dataframe tbody tr th {\n",
       "        vertical-align: top;\n",
       "    }\n",
       "\n",
       "    .dataframe thead th {\n",
       "        text-align: right;\n",
       "    }\n",
       "</style>\n",
       "<table border=\"1\" class=\"dataframe\">\n",
       "  <thead>\n",
       "    <tr style=\"text-align: right;\">\n",
       "      <th></th>\n",
       "      <th>name</th>\n",
       "      <th>age</th>\n",
       "      <th>sex</th>\n",
       "      <th>interest</th>\n",
       "      <th>LE</th>\n",
       "      <th>OHE_F</th>\n",
       "      <th>OHE_M</th>\n",
       "    </tr>\n",
       "  </thead>\n",
       "  <tbody>\n",
       "    <tr>\n",
       "      <th>0</th>\n",
       "      <td>Veena</td>\n",
       "      <td>32</td>\n",
       "      <td>female</td>\n",
       "      <td>cooking</td>\n",
       "      <td>0</td>\n",
       "      <td>1.0</td>\n",
       "      <td>0.0</td>\n",
       "    </tr>\n",
       "    <tr>\n",
       "      <th>1</th>\n",
       "      <td>amit</td>\n",
       "      <td>35</td>\n",
       "      <td>male</td>\n",
       "      <td>sports</td>\n",
       "      <td>1</td>\n",
       "      <td>0.0</td>\n",
       "      <td>1.0</td>\n",
       "    </tr>\n",
       "    <tr>\n",
       "      <th>2</th>\n",
       "      <td>seema</td>\n",
       "      <td>40</td>\n",
       "      <td>female</td>\n",
       "      <td>dancing</td>\n",
       "      <td>0</td>\n",
       "      <td>1.0</td>\n",
       "      <td>0.0</td>\n",
       "    </tr>\n",
       "  </tbody>\n",
       "</table>\n",
       "</div>"
      ],
      "text/plain": [
       "    name  age     sex interest  LE  OHE_F  OHE_M\n",
       "0  Veena   32  female  cooking   0    1.0    0.0\n",
       "1   amit   35    male   sports   1    0.0    1.0\n",
       "2  seema   40  female  dancing   0    1.0    0.0"
      ]
     },
     "execution_count": 52,
     "metadata": {},
     "output_type": "execute_result"
    }
   ],
   "source": [
    "OH_encoder = OneHotEncoder(handle_unknown='ignore', sparse=False)\n",
    "OH = OH_encoder.fit_transform(df[['sex']]) # This gives a ndarray of (3,2) with two columns one for male one for female\n",
    "print(OH, OH.shape) \n",
    "# Convert it to a df\n",
    "OH_df = pd.DataFrame(OH,columns=['OHE_F', 'OHE_M'])\n",
    "OH_df.index = df.index # One-hot encoding removed index; put it back \n",
    "print(OH_df)\n",
    "df = pd.concat([df, OH_df], axis='columns')\n",
    "df"
   ]
  },
  {
   "cell_type": "code",
   "execution_count": 53,
   "metadata": {},
   "outputs": [
    {
     "data": {
      "text/html": [
       "<div>\n",
       "<style scoped>\n",
       "    .dataframe tbody tr th:only-of-type {\n",
       "        vertical-align: middle;\n",
       "    }\n",
       "\n",
       "    .dataframe tbody tr th {\n",
       "        vertical-align: top;\n",
       "    }\n",
       "\n",
       "    .dataframe thead th {\n",
       "        text-align: right;\n",
       "    }\n",
       "</style>\n",
       "<table border=\"1\" class=\"dataframe\">\n",
       "  <thead>\n",
       "    <tr style=\"text-align: right;\">\n",
       "      <th></th>\n",
       "      <th>name</th>\n",
       "      <th>age</th>\n",
       "      <th>sex</th>\n",
       "      <th>interest</th>\n",
       "      <th>LE</th>\n",
       "      <th>OHE_F</th>\n",
       "      <th>OHE_M</th>\n",
       "      <th>sex_female</th>\n",
       "      <th>sex_male</th>\n",
       "      <th>interest_cooking</th>\n",
       "      <th>interest_dancing</th>\n",
       "      <th>interest_sports</th>\n",
       "    </tr>\n",
       "  </thead>\n",
       "  <tbody>\n",
       "    <tr>\n",
       "      <th>0</th>\n",
       "      <td>Veena</td>\n",
       "      <td>32</td>\n",
       "      <td>female</td>\n",
       "      <td>cooking</td>\n",
       "      <td>0</td>\n",
       "      <td>1.0</td>\n",
       "      <td>0.0</td>\n",
       "      <td>1</td>\n",
       "      <td>0</td>\n",
       "      <td>1</td>\n",
       "      <td>0</td>\n",
       "      <td>0</td>\n",
       "    </tr>\n",
       "    <tr>\n",
       "      <th>1</th>\n",
       "      <td>amit</td>\n",
       "      <td>35</td>\n",
       "      <td>male</td>\n",
       "      <td>sports</td>\n",
       "      <td>1</td>\n",
       "      <td>0.0</td>\n",
       "      <td>1.0</td>\n",
       "      <td>0</td>\n",
       "      <td>1</td>\n",
       "      <td>0</td>\n",
       "      <td>0</td>\n",
       "      <td>1</td>\n",
       "    </tr>\n",
       "    <tr>\n",
       "      <th>2</th>\n",
       "      <td>seema</td>\n",
       "      <td>40</td>\n",
       "      <td>female</td>\n",
       "      <td>dancing</td>\n",
       "      <td>0</td>\n",
       "      <td>1.0</td>\n",
       "      <td>0.0</td>\n",
       "      <td>1</td>\n",
       "      <td>0</td>\n",
       "      <td>0</td>\n",
       "      <td>1</td>\n",
       "      <td>0</td>\n",
       "    </tr>\n",
       "  </tbody>\n",
       "</table>\n",
       "</div>"
      ],
      "text/plain": [
       "    name  age     sex interest  LE  OHE_F  OHE_M  sex_female  sex_male  \\\n",
       "0  Veena   32  female  cooking   0    1.0    0.0           1         0   \n",
       "1   amit   35    male   sports   1    0.0    1.0           0         1   \n",
       "2  seema   40  female  dancing   0    1.0    0.0           1         0   \n",
       "\n",
       "   interest_cooking  interest_dancing  interest_sports  \n",
       "0                 1                 0                0  \n",
       "1                 0                 0                1  \n",
       "2                 0                 1                0  "
      ]
     },
     "execution_count": 53,
     "metadata": {},
     "output_type": "execute_result"
    }
   ],
   "source": [
    "dummies_sex = pd.get_dummies(df[['sex', 'interest']])\n",
    "dummies_sex # then add this df to the original df\n",
    "df = pd.concat([df, dummies_sex], axis='columns')\n",
    "df"
   ]
  },
  {
   "cell_type": "code",
   "execution_count": 54,
   "metadata": {},
   "outputs": [],
   "source": [
    "# note that its very important in ML Algorithms to not have duplicate variables conveying the same information\n",
    "# That will result into multicollinearity issue. So two of the variables out of the three 'se', 'female', 'male'\n",
    "# convey the same information. We cannot keep 'sex' as its str and so we can delete 'sex' and 'male'/'female'\n",
    "df.drop(columns = ['sex', 'sex_male', 'interest', 'interest_cooking'], inplace=True)"
   ]
  },
  {
   "cell_type": "markdown",
   "metadata": {},
   "source": [
    "### Linear Regression"
   ]
  },
  {
   "cell_type": "code",
   "execution_count": 55,
   "metadata": {},
   "outputs": [
    {
     "data": {
      "text/plain": [
       "4.4922900142358175"
      ]
     },
     "execution_count": 55,
     "metadata": {},
     "output_type": "execute_result"
    }
   ],
   "source": [
    "X, y = datasets.load_boston(return_X_y=True) # boston housing price dataset.\n",
    "X_train, X_test, y_train, y_test = train_test_split(X, y, test_size=0.33)\n",
    "regression = LinearRegression()\n",
    "regression.fit(X_train, y_train)\n",
    "pred = regression.predict(X_test)\n",
    "RMSE = sqrt(mean_squared_error(y_test, pred))\n",
    "RMSE"
   ]
  },
  {
   "cell_type": "markdown",
   "metadata": {},
   "source": [
    "### DecisionTreeRegressor\n",
    "With the same X,y split we can see that DCRegressor always did a better job."
   ]
  },
  {
   "cell_type": "code",
   "execution_count": 56,
   "metadata": {},
   "outputs": [
    {
     "data": {
      "text/plain": [
       "4.469818949032024"
      ]
     },
     "execution_count": 56,
     "metadata": {},
     "output_type": "execute_result"
    }
   ],
   "source": [
    "DCreg = tree.DecisionTreeRegressor(random_state=0)\n",
    "DCreg.fit(X_train, y_train)\n",
    "pred = DCreg.predict(X_test)\n",
    "RMSE = sqrt(mean_squared_error(y_test, pred))\n",
    "RMSE "
   ]
  },
  {
   "cell_type": "markdown",
   "metadata": {},
   "source": [
    "### Probabilistic Modelling:\n",
    "1. A probabilistic method or model is based on the theory of probability or the fact that randomness plays a role in predicting future events.\n",
    "2. Read notes on Probability and Statistics before proceding further."
   ]
  },
  {
   "cell_type": "markdown",
   "metadata": {},
   "source": [
    "### Naive Bayes Classifiers:\n",
    "1. In machine learning, naïve Bayes classifiers are a family of simple __\"probabilistic classifiers\"__ based on applying Bayes' theorem with strong (naïve) __independence__ assumptions between the features. They are among the simplest Bayesian network models.\n",
    "2. Naive Bayes calssifier uses Bayes Theorem:\n",
    "    __P(A|B) = $\\frac{P(B|A)*P(A)}{P(B)}$__\n",
    "3. Different Naive Bayes' classifier:   \n",
    "   * __Multi-variate Bernoulli Naive Bayes__: The binomial model is useful if your feature vectors are binary (i.e., 0s and 1s). One application would be text classification with a bag of words model where the 0s 1s are \"word occurs in the document\" and \"word does not occur in the document\".\n",
    "   * __Multinomial Naive Bayes__ The multinomial naive Bayes model is typically used for discrete counts. E.g., if we have a text classification problem, we can take the idea of bernoulli trials one step further and instead of \"word occurs in the document\" we have \"count how often word occurs in the document\", you can think of it as \"number of times outcome number x_i is observed over the n trials\"\n",
    "   * __Gaussian Naive Bayes__ Here, we assume that the features follow a normal distribution. Instead of discrete counts, we have continuous features (e.g., the popular Iris dataset where the features are sepal width, petal width, sepal length, petal length).\n",
    "4. https://www.youtube.com/watch?v=Q8l0Vip5YUw"
   ]
  },
  {
   "cell_type": "markdown",
   "metadata": {},
   "source": [
    "## ToDo add your Titanic notebook link here  as an example to Naive bayes"
   ]
  },
  {
   "cell_type": "markdown",
   "metadata": {},
   "source": [
    "### Feature Extraction:\n",
    "1. The sklearn.feature_extraction module can be used to extract features in a format supported by machine learning algorithms from datasets consisting of formats such as text and image.\n",
    "2. https://scikit-learn.org/stable/modules/feature_extraction.html"
   ]
  },
  {
   "cell_type": "code",
   "execution_count": 57,
   "metadata": {},
   "outputs": [],
   "source": [
    "corpus = [\n",
    "    'This is the first document.',\n",
    "    'This document is the second document.',\n",
    "    'And this is the third one.',\n",
    "    'Is this the first document',\n",
    "]"
   ]
  },
  {
   "cell_type": "code",
   "execution_count": 58,
   "metadata": {},
   "outputs": [
    {
     "data": {
      "text/plain": [
       "['and', 'document', 'first', 'is', 'one', 'second', 'the', 'third', 'this']"
      ]
     },
     "execution_count": 58,
     "metadata": {},
     "output_type": "execute_result"
    }
   ],
   "source": [
    "#  from sklearn.feature_extraction.text import CountVectorizer\n",
    "vectorizer = CountVectorizer()\n",
    "X = vectorizer.fit_transform(corpus)\n",
    "vectorizer.get_feature_names()"
   ]
  },
  {
   "cell_type": "code",
   "execution_count": 59,
   "metadata": {},
   "outputs": [
    {
     "data": {
      "text/plain": [
       "array([[0, 1, 1, 1, 0, 0, 1, 0, 1],\n",
       "       [0, 2, 0, 1, 0, 1, 1, 0, 1],\n",
       "       [1, 0, 0, 1, 1, 0, 1, 1, 1],\n",
       "       [0, 1, 1, 1, 0, 0, 1, 0, 1]], dtype=int64)"
      ]
     },
     "execution_count": 59,
     "metadata": {},
     "output_type": "execute_result"
    }
   ],
   "source": [
    "X.toarray()"
   ]
  },
  {
   "cell_type": "markdown",
   "metadata": {},
   "source": [
    "### Simple Imputer: \n",
    "1. we use SimpleImputer to replace missing values with the some aggregate value along each column."
   ]
  },
  {
   "cell_type": "code",
   "execution_count": 60,
   "metadata": {},
   "outputs": [
    {
     "data": {
      "text/html": [
       "<div>\n",
       "<style scoped>\n",
       "    .dataframe tbody tr th:only-of-type {\n",
       "        vertical-align: middle;\n",
       "    }\n",
       "\n",
       "    .dataframe tbody tr th {\n",
       "        vertical-align: top;\n",
       "    }\n",
       "\n",
       "    .dataframe thead th {\n",
       "        text-align: right;\n",
       "    }\n",
       "</style>\n",
       "<table border=\"1\" class=\"dataframe\">\n",
       "  <thead>\n",
       "    <tr style=\"text-align: right;\">\n",
       "      <th></th>\n",
       "      <th>name</th>\n",
       "      <th>age</th>\n",
       "      <th>sex</th>\n",
       "      <th>height</th>\n",
       "      <th>weight</th>\n",
       "    </tr>\n",
       "  </thead>\n",
       "  <tbody>\n",
       "    <tr>\n",
       "      <th>0</th>\n",
       "      <td>Veena</td>\n",
       "      <td>32</td>\n",
       "      <td>female</td>\n",
       "      <td>NaN</td>\n",
       "      <td>116.0</td>\n",
       "    </tr>\n",
       "    <tr>\n",
       "      <th>1</th>\n",
       "      <td>amit</td>\n",
       "      <td>35</td>\n",
       "      <td>male</td>\n",
       "      <td>5.6</td>\n",
       "      <td>160.0</td>\n",
       "    </tr>\n",
       "    <tr>\n",
       "      <th>2</th>\n",
       "      <td>seema</td>\n",
       "      <td>40</td>\n",
       "      <td>female</td>\n",
       "      <td>5.6</td>\n",
       "      <td>134.0</td>\n",
       "    </tr>\n",
       "    <tr>\n",
       "      <th>3</th>\n",
       "      <td>ranju</td>\n",
       "      <td>50</td>\n",
       "      <td>male</td>\n",
       "      <td>5.0</td>\n",
       "      <td>NaN</td>\n",
       "    </tr>\n",
       "  </tbody>\n",
       "</table>\n",
       "</div>"
      ],
      "text/plain": [
       "    name  age     sex  height  weight\n",
       "0  Veena   32  female     NaN   116.0\n",
       "1   amit   35    male     5.6   160.0\n",
       "2  seema   40  female     5.6   134.0\n",
       "3  ranju   50    male     5.0     NaN"
      ]
     },
     "execution_count": 60,
     "metadata": {},
     "output_type": "execute_result"
    }
   ],
   "source": [
    "dct={\n",
    "    'name':['Veena', 'amit', 'seema', 'ranju'],\n",
    "    'age': [32, 35, 40, 50],\n",
    "    'sex': ['female', 'male', 'female', 'male'],\n",
    "    'height': [np.nan, 5.6, 5.6, 5.0],\n",
    "    'weight': [116, 160, 134, np.nan]\n",
    "}\n",
    "df = pd.DataFrame(dct)\n",
    "df"
   ]
  },
  {
   "cell_type": "code",
   "execution_count": 61,
   "metadata": {},
   "outputs": [
    {
     "data": {
      "text/plain": [
       "array([[5.4],\n",
       "       [5.6],\n",
       "       [5.6],\n",
       "       [5. ]])"
      ]
     },
     "execution_count": 61,
     "metadata": {},
     "output_type": "execute_result"
    }
   ],
   "source": [
    "from sklearn.impute import SimpleImputer\n",
    "imp_mean = SimpleImputer(missing_values=np.nan, strategy='mean')\n",
    "imp_mean.fit_transform(df[['height']])"
   ]
  },
  {
   "cell_type": "code",
   "execution_count": 62,
   "metadata": {},
   "outputs": [
    {
     "data": {
      "text/plain": [
       "array([[0. ],\n",
       "       [5.6],\n",
       "       [5.6],\n",
       "       [5. ]])"
      ]
     },
     "execution_count": 62,
     "metadata": {},
     "output_type": "execute_result"
    }
   ],
   "source": [
    "from sklearn.impute import SimpleImputer\n",
    "imp_mean = SimpleImputer(missing_values=np.nan, strategy='constant')\n",
    "imp_mean.fit_transform(df[['height']])"
   ]
  },
  {
   "cell_type": "markdown",
   "metadata": {},
   "source": [
    "### ColumnTransformer:\n",
    "1. Similar to how a pipeline bundles together preprocessing and modeling steps, we use the ColumnTransformer class to bundle together different preprocessing steps. The code below:\n",
    "    * imputes missing values in numerical data, and\n",
    "    * imputes missing values and applies a one-hot encoding to categorical data."
   ]
  },
  {
   "cell_type": "code",
   "execution_count": 63,
   "metadata": {},
   "outputs": [
    {
     "data": {
      "text/html": [
       "<div>\n",
       "<style scoped>\n",
       "    .dataframe tbody tr th:only-of-type {\n",
       "        vertical-align: middle;\n",
       "    }\n",
       "\n",
       "    .dataframe tbody tr th {\n",
       "        vertical-align: top;\n",
       "    }\n",
       "\n",
       "    .dataframe thead th {\n",
       "        text-align: right;\n",
       "    }\n",
       "</style>\n",
       "<table border=\"1\" class=\"dataframe\">\n",
       "  <thead>\n",
       "    <tr style=\"text-align: right;\">\n",
       "      <th></th>\n",
       "      <th>0</th>\n",
       "      <th>1</th>\n",
       "      <th>2</th>\n",
       "      <th>3</th>\n",
       "      <th>4</th>\n",
       "      <th>5</th>\n",
       "    </tr>\n",
       "  </thead>\n",
       "  <tbody>\n",
       "    <tr>\n",
       "      <th>0</th>\n",
       "      <td>32</td>\n",
       "      <td>5.4</td>\n",
       "      <td>116</td>\n",
       "      <td>1</td>\n",
       "      <td>0</td>\n",
       "      <td>Veena</td>\n",
       "    </tr>\n",
       "    <tr>\n",
       "      <th>1</th>\n",
       "      <td>35</td>\n",
       "      <td>5.6</td>\n",
       "      <td>160</td>\n",
       "      <td>0</td>\n",
       "      <td>1</td>\n",
       "      <td>amit</td>\n",
       "    </tr>\n",
       "    <tr>\n",
       "      <th>2</th>\n",
       "      <td>40</td>\n",
       "      <td>5.6</td>\n",
       "      <td>134</td>\n",
       "      <td>1</td>\n",
       "      <td>0</td>\n",
       "      <td>seema</td>\n",
       "    </tr>\n",
       "    <tr>\n",
       "      <th>3</th>\n",
       "      <td>50</td>\n",
       "      <td>5</td>\n",
       "      <td>136.667</td>\n",
       "      <td>0</td>\n",
       "      <td>1</td>\n",
       "      <td>ranju</td>\n",
       "    </tr>\n",
       "  </tbody>\n",
       "</table>\n",
       "</div>"
      ],
      "text/plain": [
       "    0    1        2  3  4      5\n",
       "0  32  5.4      116  1  0  Veena\n",
       "1  35  5.6      160  0  1   amit\n",
       "2  40  5.6      134  1  0  seema\n",
       "3  50    5  136.667  0  1  ranju"
      ]
     },
     "execution_count": 63,
     "metadata": {},
     "output_type": "execute_result"
    }
   ],
   "source": [
    "# this applies simpleimputer to columns 1,3,4 and OHE to 2\n",
    "t = [('num', SimpleImputer(strategy='mean'), [1,3,4]), ('cat', OneHotEncoder(), [2])]\n",
    "# Any columns not specified in the list of transformers are dropped from the dataset by default; \n",
    "# this can be changed by setting the remainder argument.\n",
    "transformer = ColumnTransformer(t, remainder='passthrough')\n",
    "#The order of the columns in the transformed feature matrix follows the order of how the columns are \n",
    "# specified in the transformers list. \n",
    "t_df = transformer.fit_transform(df) # this gives a array\n",
    "# https://stackoverflow.com/questions/54592115/appending-the-columntransformer-result-to-the-original-data-within-a-pipeline\n",
    "pd.DataFrame(t_df)"
   ]
  },
  {
   "cell_type": "markdown",
   "metadata": {},
   "source": [
    "### Pipeline :\n",
    "1. "
   ]
  },
  {
   "cell_type": "code",
   "execution_count": 64,
   "metadata": {},
   "outputs": [],
   "source": [
    "from sklearn.compose import ColumnTransformer\n",
    "from sklearn.pipeline import Pipeline\n",
    "from sklearn.impute import SimpleImputer\n",
    "from sklearn.preprocessing import OneHotEncoder"
   ]
  },
  {
   "cell_type": "code",
   "execution_count": 65,
   "metadata": {},
   "outputs": [
    {
     "name": "stdout",
     "output_type": "stream",
     "text": [
      "Index(['PassengerId', 'Survived', 'Pclass', 'Name', 'Sex', 'Age', 'SibSp',\n",
      "       'Parch', 'Ticket', 'Fare', 'Cabin', 'Embarked'],\n",
      "      dtype='object')\n"
     ]
    },
    {
     "data": {
      "text/plain": [
       "Index(['Survived', 'Pclass', 'Name', 'Sex', 'Age', 'SibSp', 'Cabin',\n",
       "       'Embarked'],\n",
       "      dtype='object')"
      ]
     },
     "execution_count": 65,
     "metadata": {},
     "output_type": "execute_result"
    }
   ],
   "source": [
    "# we will use titanic data to show piplelining\n",
    "df = tnic_df\n",
    "print(df.columns)\n",
    "df = df.drop(['PassengerId', 'Parch', 'Ticket', 'Fare'], axis='columns') # lets take few columns for analysis\n",
    "df.columns"
   ]
  },
  {
   "cell_type": "code",
   "execution_count": 66,
   "metadata": {},
   "outputs": [
    {
     "data": {
      "text/plain": [
       "Survived      int64\n",
       "Pclass        int64\n",
       "Name         object\n",
       "Sex          object\n",
       "Age         float64\n",
       "SibSp         int64\n",
       "Cabin        object\n",
       "Embarked     object\n",
       "dtype: object"
      ]
     },
     "execution_count": 66,
     "metadata": {},
     "output_type": "execute_result"
    }
   ],
   "source": [
    "df.dtypes"
   ]
  },
  {
   "cell_type": "code",
   "execution_count": 67,
   "metadata": {},
   "outputs": [],
   "source": [
    "# sepearte Target\n",
    "y = df['Survived']\n",
    "X = df.drop(['Survived'], axis='columns')"
   ]
  },
  {
   "cell_type": "code",
   "execution_count": 68,
   "metadata": {},
   "outputs": [],
   "source": [
    "# divide into training and testing data.\n",
    "X_train, X_test, y_train, y_test = train_test_split(X, y, test_size=0.3, random_state=42)"
   ]
  },
  {
   "cell_type": "code",
   "execution_count": 69,
   "metadata": {},
   "outputs": [
    {
     "name": "stdout",
     "output_type": "stream",
     "text": [
      "['Name', 'Sex', 'Cabin', 'Embarked'] ['Pclass', 'Age', 'SibSp']\n"
     ]
    }
   ],
   "source": [
    "#seperate the categorical and numerical data\n",
    "categorical_cols = [cname for cname in X_train.columns if X_train[cname].dtype =='object']\n",
    "numerical_cols = [cname for cname in X_train.columns if X_train[cname].dtype in ['int64', 'float64']]\n",
    "print(categorical_cols, numerical_cols)"
   ]
  },
  {
   "cell_type": "code",
   "execution_count": 70,
   "metadata": {},
   "outputs": [],
   "source": [
    "# Step 1: Define Preprocessing Step\n",
    "# impute missing values in numerical and  impute+OHE in categorical data\n",
    "numerical_transformer = SimpleImputer(strategy='mean')\n",
    "categorical_transformer = Pipeline(steps=[\n",
    "    ('imputer', SimpleImputer(strategy='most_frequent')),\n",
    "    ('onehot', OneHotEncoder(handle_unknown='ignore'))\n",
    "])"
   ]
  },
  {
   "cell_type": "code",
   "execution_count": 71,
   "metadata": {},
   "outputs": [],
   "source": [
    "# Bundle then into Preprocessor using ColumnTransformer\n",
    "preprocessor = ColumnTransformer(\n",
    "    transformers=[\n",
    "        ('num', numerical_transformer, numerical_cols),\n",
    "        ('cat', categorical_transformer, categorical_cols)\n",
    "    ], remainder='passthrough')"
   ]
  },
  {
   "cell_type": "code",
   "execution_count": 72,
   "metadata": {},
   "outputs": [],
   "source": [
    "# Step 2:Define the Model\n",
    "model = GradientBoostingClassifier()"
   ]
  },
  {
   "cell_type": "code",
   "execution_count": 73,
   "metadata": {},
   "outputs": [],
   "source": [
    "# step 3: Create and Evaluvate the Pipeline\n",
    "# Bundle preprocessing and modeling code in a pipeline\n",
    "my_pipeline = Pipeline(steps=[\n",
    "    ('preprocessor', preprocessor),\n",
    "    ('model', model)\n",
    "])"
   ]
  },
  {
   "cell_type": "code",
   "execution_count": 74,
   "metadata": {},
   "outputs": [],
   "source": [
    "# Preprocessing of training data, fit model \n",
    "my_pipeline.fit(X_train, y_train);"
   ]
  },
  {
   "cell_type": "code",
   "execution_count": 75,
   "metadata": {},
   "outputs": [],
   "source": [
    "# Preprocessing of test data, get predictions\n",
    "# see how all the preprocessing is done in a simple way using pieline\n",
    "preds = my_pipeline.predict(X_test)"
   ]
  },
  {
   "cell_type": "code",
   "execution_count": 76,
   "metadata": {},
   "outputs": [
    {
     "data": {
      "text/plain": [
       "0.8134328358208955"
      ]
     },
     "execution_count": 76,
     "metadata": {},
     "output_type": "execute_result"
    }
   ],
   "source": [
    "# Evaluate the model\n",
    "score = accuracy_score(y_test, preds)\n",
    "score"
   ]
  },
  {
   "cell_type": "markdown",
   "metadata": {},
   "source": [
    "Lets see how ???"
   ]
  },
  {
   "cell_type": "code",
   "execution_count": 77,
   "metadata": {},
   "outputs": [
    {
     "name": "stdout",
     "output_type": "stream",
     "text": [
      "(623, 4)\n",
      "False    622\n",
      "True       1\n",
      "Name: Embarked, dtype: int64\n",
      "***************************************\n",
      "(623, 4)\n"
     ]
    }
   ],
   "source": [
    "data = X_train[['Name', 'Sex', 'Cabin', 'Embarked']]\n",
    "print(data.shape)\n",
    "# print(init.head(5))\n",
    "print(data['Embarked'].isnull().value_counts())\n",
    "print('***************************************')\n",
    "imp = SimpleImputer(strategy='most_frequent')\n",
    "imp_data = imp.fit_transform(data)\n",
    "print(imp_data.shape)\n",
    "# imp_data[:,3]"
   ]
  },
  {
   "cell_type": "code",
   "execution_count": 78,
   "metadata": {},
   "outputs": [
    {
     "data": {
      "text/plain": [
       "(623, 734)"
      ]
     },
     "execution_count": 78,
     "metadata": {},
     "output_type": "execute_result"
    }
   ],
   "source": [
    "OHE = OneHotEncoder(handle_unknown='ignore', sparse=False)\n",
    "OHE_data = OHE.fit_transform(imp_data)\n",
    "OHE_data.shape"
   ]
  },
  {
   "cell_type": "code",
   "execution_count": 79,
   "metadata": {},
   "outputs": [
    {
     "name": "stdout",
     "output_type": "stream",
     "text": [
      "Before (623, 4)\n",
      "(623, 734)\n"
     ]
    }
   ],
   "source": [
    "# Lets include the name column\n",
    "data = X_train[['Name', 'Sex', 'Cabin', 'Embarked']]\n",
    "print(\"Before\", data.shape)\n",
    "imp_data = imp.fit_transform(data)\n",
    "OHE = OneHotEncoder(handle_unknown='ignore', sparse=False)\n",
    "OHE_data = OHE.fit_transform(imp_data)\n",
    "print(OHE_data.shape) # see how 700ish columns are added each name is OHencoded. Which is not good"
   ]
  },
  {
   "cell_type": "code",
   "execution_count": 80,
   "metadata": {},
   "outputs": [
    {
     "name": "stdout",
     "output_type": "stream",
     "text": [
      "Before (623, 3)\n",
      "(623, 111)\n"
     ]
    }
   ],
   "source": [
    "data = X_train[['Sex', 'Cabin', 'Embarked']]\n",
    "print(\"Before\", data.shape)\n",
    "imp_data = imp.fit_transform(data)\n",
    "OHE = OneHotEncoder(handle_unknown='ignore', sparse=False)\n",
    "OHE_data = OHE.fit_transform(imp_data)\n",
    "print(OHE_data.shape) # 2(sex)+106(cabin)+3(Embarked) = 111"
   ]
  },
  {
   "cell_type": "markdown",
   "metadata": {},
   "source": [
    "### Ensemble Learning -  Bagging  and Boosting:\n",
    "1. One of the big disadvantage of decision tree classfier is that these kind of classifier works great with the data (training data) used to create them, but they are not flexible when it comes to classifying new samples. So we go with Ensemble Classifier.\n",
    "3. Ensemble Learning: Here we use multiple learning algorithm at the same time to increase accuracy. We can also use same algorithm different many times to get a ensemble model (Random forest classification). Ensemble method gives better accuracy, Higher consistncy(avoids overfitting) and also reduces bias-variace error. You decide on using the ensemble model if you find that the results of ensemble model(compared to single model) is worth the extra training. We can use ensemble model on classification and regression model.\n",
    "<img src=\"images/image60.png\" align = \"middle\" style=\"width:400px; height:150px;\"/>\n",
    "2. BootStrap aggregating or Bagging: It is one of the ensemble method. Here Multiple  models of learning algorithms are trained with subsets of DataSet Randomly picked  from the Training dataset.\n",
    "<img src=\"images/image61.png\" align = \"middle\" style=\"width600px; height:250px;\"/>\n",
    "3. Boosting: The approach is same as Bagging with little difference. In here we train a model with subset of training dataset and test the model using testing dataset. Then based on the results we will train the model again with subset of training dataset , but this time it includes each datapoint of the testing dataset with wrong predictions.\n",
    "<img src=\"images/image62.png\" align = \"middle\" style=\"width600px; height:250px;\"/>"
   ]
  },
  {
   "cell_type": "markdown",
   "metadata": {},
   "source": [
    "### RandomForestClassifier:\n",
    "1. This is one of the Ensemble Classifier. Random forest combines the simplicity of decision tree with flexibity that results in vast improvement in accuracy.\n",
    "2. \n"
   ]
  },
  {
   "cell_type": "code",
   "execution_count": null,
   "metadata": {},
   "outputs": [],
   "source": []
  },
  {
   "cell_type": "code",
   "execution_count": null,
   "metadata": {},
   "outputs": [],
   "source": []
  },
  {
   "cell_type": "code",
   "execution_count": null,
   "metadata": {},
   "outputs": [],
   "source": []
  },
  {
   "cell_type": "code",
   "execution_count": null,
   "metadata": {},
   "outputs": [],
   "source": []
  },
  {
   "cell_type": "code",
   "execution_count": null,
   "metadata": {},
   "outputs": [],
   "source": []
  },
  {
   "cell_type": "code",
   "execution_count": null,
   "metadata": {},
   "outputs": [],
   "source": []
  },
  {
   "cell_type": "code",
   "execution_count": null,
   "metadata": {},
   "outputs": [],
   "source": []
  },
  {
   "cell_type": "code",
   "execution_count": null,
   "metadata": {},
   "outputs": [],
   "source": []
  },
  {
   "cell_type": "code",
   "execution_count": null,
   "metadata": {},
   "outputs": [],
   "source": []
  },
  {
   "cell_type": "code",
   "execution_count": null,
   "metadata": {},
   "outputs": [],
   "source": []
  },
  {
   "cell_type": "code",
   "execution_count": null,
   "metadata": {},
   "outputs": [],
   "source": []
  },
  {
   "cell_type": "code",
   "execution_count": null,
   "metadata": {},
   "outputs": [],
   "source": []
  },
  {
   "cell_type": "code",
   "execution_count": null,
   "metadata": {},
   "outputs": [],
   "source": []
  },
  {
   "cell_type": "code",
   "execution_count": null,
   "metadata": {},
   "outputs": [],
   "source": []
  }
 ],
 "metadata": {
  "kernelspec": {
   "display_name": "Python 3",
   "language": "python",
   "name": "python3"
  },
  "language_info": {
   "codemirror_mode": {
    "name": "ipython",
    "version": 3
   },
   "file_extension": ".py",
   "mimetype": "text/x-python",
   "name": "python",
   "nbconvert_exporter": "python",
   "pygments_lexer": "ipython3",
   "version": "3.8.3"
  }
 },
 "nbformat": 4,
 "nbformat_minor": 2
}
