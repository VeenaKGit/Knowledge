{
 "cells": [
  {
   "cell_type": "markdown",
   "metadata": {
    "tags": [
     "hide_input"
    ]
   },
   "source": [
    "### To install jupyter extensions:\n",
    "* Extensions are like add-ons can make your work on notebooks significantly easier. Follow the steps in below link.\n",
    "* https://github.com/Jupyter-contrib/jupyter_nbextensions_configurator\n",
    "* Hit Tab after . to see all the functions like np. TAB\n",
    "* Hit Shift+Tab after ( opening bracket to see function definition. Like pd.read_csv(  SHIFT+TAB"
   ]
  },
  {
   "cell_type": "code",
   "execution_count": 7,
   "metadata": {},
   "outputs": [],
   "source": [
    "import numpy as np\n",
    "import pandas as pd\n",
    "import random\n",
    "import matplotlib.pyplot as plt\n",
    "import seaborn as sbs\n",
    "\n",
    "from scipy.spatial import distance\n",
    "from sklearn import datasets, tree\n",
    "from sklearn.preprocessing import StandardScaler, scale\n",
    "from sklearn.cluster import KMeans\n",
    "from sklearn.linear_model import LinearRegression\n",
    "from sklearn.preprocessing import LabelEncoder, OrdinalEncoder, PolynomialFeatures\n",
    "from sklearn.preprocessing import OneHotEncoder\n",
    "from sklearn.impute import SimpleImputer\n",
    "from sklearn.compose import ColumnTransformer\n",
    "from sklearn.pipeline import Pipeline\n",
    "from sklearn.ensemble import IsolationForest\n",
    "from sklearn.covariance import EllipticEnvelope\n"
   ]
  },
  {
   "cell_type": "code",
   "execution_count": 8,
   "metadata": {},
   "outputs": [],
   "source": [
    "from sklearn.model_selection import train_test_split, cross_val_score, StratifiedKFold, KFold, ShuffleSplit,cross_validate, \\\n",
    "cross_val_predict\n",
    "from sklearn.metrics import accuracy_score, confusion_matrix, classification_report, adjusted_rand_score, mean_squared_error\n",
    "from sklearn import metrics\n",
    "from sklearn.neighbors import KNeighborsClassifier, LocalOutlierFactor\n",
    "from sklearn.feature_extraction.text import CountVectorizer\n",
    "from sklearn.ensemble import RandomForestClassifier, AdaBoostClassifier, GradientBoostingClassifier"
   ]
  },
  {
   "cell_type": "code",
   "execution_count": 9,
   "metadata": {},
   "outputs": [],
   "source": [
    "from mpl_toolkits.mplot3d import Axes3D\n",
    "from math import sqrt\n",
    "import scipy.stats as stats"
   ]
  },
  {
   "cell_type": "code",
   "execution_count": 5,
   "metadata": {},
   "outputs": [
    {
     "data": {
      "text/html": [
       "<div>\n",
       "<style scoped>\n",
       "    .dataframe tbody tr th:only-of-type {\n",
       "        vertical-align: middle;\n",
       "    }\n",
       "\n",
       "    .dataframe tbody tr th {\n",
       "        vertical-align: top;\n",
       "    }\n",
       "\n",
       "    .dataframe thead th {\n",
       "        text-align: right;\n",
       "    }\n",
       "</style>\n",
       "<table border=\"1\" class=\"dataframe\">\n",
       "  <thead>\n",
       "    <tr style=\"text-align: right;\">\n",
       "      <th></th>\n",
       "      <th>PassengerId</th>\n",
       "      <th>Survived</th>\n",
       "      <th>Pclass</th>\n",
       "      <th>Name</th>\n",
       "      <th>Sex</th>\n",
       "      <th>Age</th>\n",
       "      <th>SibSp</th>\n",
       "      <th>Parch</th>\n",
       "      <th>Ticket</th>\n",
       "      <th>Fare</th>\n",
       "      <th>Cabin</th>\n",
       "      <th>Embarked</th>\n",
       "    </tr>\n",
       "  </thead>\n",
       "  <tbody>\n",
       "    <tr>\n",
       "      <th>0</th>\n",
       "      <td>1</td>\n",
       "      <td>0</td>\n",
       "      <td>3</td>\n",
       "      <td>Braund, Mr. Owen Harris</td>\n",
       "      <td>male</td>\n",
       "      <td>22.0</td>\n",
       "      <td>1</td>\n",
       "      <td>0</td>\n",
       "      <td>A/5 21171</td>\n",
       "      <td>7.2500</td>\n",
       "      <td>NaN</td>\n",
       "      <td>S</td>\n",
       "    </tr>\n",
       "    <tr>\n",
       "      <th>1</th>\n",
       "      <td>2</td>\n",
       "      <td>1</td>\n",
       "      <td>1</td>\n",
       "      <td>Cumings, Mrs. John Bradley (Florence Briggs Th...</td>\n",
       "      <td>female</td>\n",
       "      <td>38.0</td>\n",
       "      <td>1</td>\n",
       "      <td>0</td>\n",
       "      <td>PC 17599</td>\n",
       "      <td>71.2833</td>\n",
       "      <td>C85</td>\n",
       "      <td>C</td>\n",
       "    </tr>\n",
       "    <tr>\n",
       "      <th>2</th>\n",
       "      <td>3</td>\n",
       "      <td>1</td>\n",
       "      <td>3</td>\n",
       "      <td>Heikkinen, Miss. Laina</td>\n",
       "      <td>female</td>\n",
       "      <td>26.0</td>\n",
       "      <td>0</td>\n",
       "      <td>0</td>\n",
       "      <td>STON/O2. 3101282</td>\n",
       "      <td>7.9250</td>\n",
       "      <td>NaN</td>\n",
       "      <td>S</td>\n",
       "    </tr>\n",
       "    <tr>\n",
       "      <th>3</th>\n",
       "      <td>4</td>\n",
       "      <td>1</td>\n",
       "      <td>1</td>\n",
       "      <td>Futrelle, Mrs. Jacques Heath (Lily May Peel)</td>\n",
       "      <td>female</td>\n",
       "      <td>35.0</td>\n",
       "      <td>1</td>\n",
       "      <td>0</td>\n",
       "      <td>113803</td>\n",
       "      <td>53.1000</td>\n",
       "      <td>C123</td>\n",
       "      <td>S</td>\n",
       "    </tr>\n",
       "    <tr>\n",
       "      <th>4</th>\n",
       "      <td>5</td>\n",
       "      <td>0</td>\n",
       "      <td>3</td>\n",
       "      <td>Allen, Mr. William Henry</td>\n",
       "      <td>male</td>\n",
       "      <td>35.0</td>\n",
       "      <td>0</td>\n",
       "      <td>0</td>\n",
       "      <td>373450</td>\n",
       "      <td>8.0500</td>\n",
       "      <td>NaN</td>\n",
       "      <td>S</td>\n",
       "    </tr>\n",
       "  </tbody>\n",
       "</table>\n",
       "</div>"
      ],
      "text/plain": [
       "   PassengerId  Survived  Pclass  \\\n",
       "0            1         0       3   \n",
       "1            2         1       1   \n",
       "2            3         1       3   \n",
       "3            4         1       1   \n",
       "4            5         0       3   \n",
       "\n",
       "                                                Name     Sex   Age  SibSp  \\\n",
       "0                            Braund, Mr. Owen Harris    male  22.0      1   \n",
       "1  Cumings, Mrs. John Bradley (Florence Briggs Th...  female  38.0      1   \n",
       "2                             Heikkinen, Miss. Laina  female  26.0      0   \n",
       "3       Futrelle, Mrs. Jacques Heath (Lily May Peel)  female  35.0      1   \n",
       "4                           Allen, Mr. William Henry    male  35.0      0   \n",
       "\n",
       "   Parch            Ticket     Fare Cabin Embarked  \n",
       "0      0         A/5 21171   7.2500   NaN        S  \n",
       "1      0          PC 17599  71.2833   C85        C  \n",
       "2      0  STON/O2. 3101282   7.9250   NaN        S  \n",
       "3      0            113803  53.1000  C123        S  \n",
       "4      0            373450   8.0500   NaN        S  "
      ]
     },
     "execution_count": 5,
     "metadata": {},
     "output_type": "execute_result"
    }
   ],
   "source": [
    "# lets use the Titanic dataset where ever applicable \n",
    "tnic_df = pd.read_csv('data/titanic_kaggle_dataset.csv', header=0, dtype={'Age':np.float64})\n",
    "tnic_df.head(5)"
   ]
  },
  {
   "cell_type": "code",
   "execution_count": 116,
   "metadata": {},
   "outputs": [
    {
     "data": {
      "text/html": [
       "<div>\n",
       "<style scoped>\n",
       "    .dataframe tbody tr th:only-of-type {\n",
       "        vertical-align: middle;\n",
       "    }\n",
       "\n",
       "    .dataframe tbody tr th {\n",
       "        vertical-align: top;\n",
       "    }\n",
       "\n",
       "    .dataframe thead th {\n",
       "        text-align: right;\n",
       "    }\n",
       "</style>\n",
       "<table border=\"1\" class=\"dataframe\">\n",
       "  <thead>\n",
       "    <tr style=\"text-align: right;\">\n",
       "      <th></th>\n",
       "      <th>CRIM</th>\n",
       "      <th>ZN</th>\n",
       "      <th>INDUS</th>\n",
       "      <th>CHAS</th>\n",
       "      <th>NOX</th>\n",
       "      <th>RM</th>\n",
       "      <th>AGE</th>\n",
       "      <th>DIS</th>\n",
       "      <th>RAD</th>\n",
       "      <th>TAX</th>\n",
       "      <th>PTRATIO</th>\n",
       "      <th>B</th>\n",
       "      <th>LSTAT</th>\n",
       "    </tr>\n",
       "  </thead>\n",
       "  <tbody>\n",
       "    <tr>\n",
       "      <th>0</th>\n",
       "      <td>0.00632</td>\n",
       "      <td>18.0</td>\n",
       "      <td>2.31</td>\n",
       "      <td>0.0</td>\n",
       "      <td>0.538</td>\n",
       "      <td>6.575</td>\n",
       "      <td>65.2</td>\n",
       "      <td>4.0900</td>\n",
       "      <td>1.0</td>\n",
       "      <td>296.0</td>\n",
       "      <td>15.3</td>\n",
       "      <td>396.9</td>\n",
       "      <td>4.98</td>\n",
       "    </tr>\n",
       "    <tr>\n",
       "      <th>1</th>\n",
       "      <td>0.02731</td>\n",
       "      <td>0.0</td>\n",
       "      <td>7.07</td>\n",
       "      <td>0.0</td>\n",
       "      <td>0.469</td>\n",
       "      <td>6.421</td>\n",
       "      <td>78.9</td>\n",
       "      <td>4.9671</td>\n",
       "      <td>2.0</td>\n",
       "      <td>242.0</td>\n",
       "      <td>17.8</td>\n",
       "      <td>396.9</td>\n",
       "      <td>9.14</td>\n",
       "    </tr>\n",
       "  </tbody>\n",
       "</table>\n",
       "</div>"
      ],
      "text/plain": [
       "      CRIM    ZN  INDUS  CHAS    NOX     RM   AGE     DIS  RAD    TAX  \\\n",
       "0  0.00632  18.0   2.31   0.0  0.538  6.575  65.2  4.0900  1.0  296.0   \n",
       "1  0.02731   0.0   7.07   0.0  0.469  6.421  78.9  4.9671  2.0  242.0   \n",
       "\n",
       "   PTRATIO      B  LSTAT  \n",
       "0     15.3  396.9   4.98  \n",
       "1     17.8  396.9   9.14  "
      ]
     },
     "execution_count": 116,
     "metadata": {},
     "output_type": "execute_result"
    }
   ],
   "source": [
    "boston_dataset = datasets.load_boston()\n",
    "boston = pd.DataFrame(boston_dataset.data, columns=boston_dataset.feature_names)\n",
    "boston.head(2)"
   ]
  },
  {
   "cell_type": "markdown",
   "metadata": {},
   "source": [
    "## Linear Regression Using Sklearn"
   ]
  },
  {
   "cell_type": "markdown",
   "metadata": {},
   "source": [
    "# Machine Learning:\n",
    "\n",
    "1. Machine learning is a subset of Artificial Intelligence(AI), which provides machines the ability to learn automatically and improve from experience without being explicitly programmed. \n",
    "2. Applying ML techniques to dig into large amounts of data can help discover patterns that were not immediately apparent. This is called __data mining__.\n",
    "3. Types of Machine Learning Systems:\n",
    "    * __Supervised, Unsupervised, Semi-supervised and Reinforcement Learning__\n",
    "    * __Online Vs Batch Learning__\n",
    "    * __Instance-based vs Model-base learning__\n"
   ]
  },
  {
   "cell_type": "markdown",
   "metadata": {},
   "source": [
    "# Supervised vs Unsupervised SemiSupervised vs Reinforcement Learning:\n",
    "1. __Supervised__: We give the machine Labelled data and teach them this is what is the output.\n",
    "2. __Unsupervised__: Data provided is not labelled and machine has to learn without any supervision. It has to discover hidden pattern and discover the data. Ex photo-hosting services, such as Google Photos, are good examples of this. Once you upload all your family photos to the service, it automatically recognizes that the same person A shows up in photos 1, 5, and 11, while another person B shows up in photos 2, 5, and 7. This is the unsupervised part of the algorithm (clustering).Now all the system needs is for you to tell it who these people are. Just one label per person,4 and it is able to name everyone in every photo, which is useful for searching photos.\n",
    "3. __Semi-Supervised__: Some algorithms can deal with partially labeled training data, usually a lot of unlabeled data and a little bit of labeled data. This is called semisupervised learning.\n",
    "3. __Reinforcement__: Here the machine is put in an unknown environment and it has to learn by itself based on trial and error.For example, many robots implement Reinforcement Learning algorithms to learn how to walk.\n",
    "<img src='images/image95.png' style='width:500px;height:400px' />\n",
    "<img src='images/image96.png' style='width:500px;height:400px' />\n",
    "4. Here in Unsupervised learning the machine learns by itself to classify the different animals that we feed as belonging to either of the two types by studying the animals features that we feed. Of course it will not know that the animals it categorised on left is known as dogs and the right is known as cats. But it learns by itself how cats look and how dogs look and group the fed data  into specific groups.\n",
    "<img src='images/image97.png' style='width:500px;height:400px' />"
   ]
  },
  {
   "cell_type": "markdown",
   "metadata": {},
   "source": [
    "## Supervised:\n",
    "1. __Classification Algorithms__: Classification Algorithms could be broadly classified as the following:\n",
    "    * https://analyticsindiamag.com/7-types-classification-algorithms/\n",
    "    * https://dzone.com/articles/introduction-to-classification-algorithms\n",
    "    * Linear Classifiers\n",
    "        * Logistic regression\n",
    "        * Naive Bayes classifier\n",
    "        * Fisher’s linear discriminant\n",
    "    * Support vector machines\n",
    "        * Least squares support vector machines\n",
    "    * Quadratic classifiers\n",
    "    * Kernel estimation\n",
    "        * k-nearest neighbor\n",
    "    * Decision trees\n",
    "        * Random forests\n",
    "    * Neural networks\n",
    "    * Learning vector quantization\n",
    "2. __Regression Algorithms__: \n",
    "    * Simple Linear Regression model8\n",
    "    * Lasso Regression\n",
    "    * Logistic regression\n",
    "    * Support Vector Machines\n",
    "    * Multivariate Regression algorithm\n",
    "    * Multiple Regression Algorithm"
   ]
  },
  {
   "cell_type": "markdown",
   "metadata": {},
   "source": [
    "# Unsupervised Algorithms\n",
    "*https://www.newtechdojo.com/list-machine-learning-algorithms/\n",
    "1. __Clustering__: You may want to run a clustering algorithm to try to detect groups of similar visitors. Ex say you want to cluster your blog's visitors and have lot of data about your blog’s visitors.\n",
    "    * K-means\n",
    "    * C-means\n",
    "    * Hierarchical Cluster Analysis (HCA)\n",
    "    * mixture models\n",
    "    * DBSCAN\n",
    "2. __Association__:  association rule learning, in which the goal is to dig into large amounts of data and discover interesting relations between attributes. Ex you may want to run a Association on your sales logs Shopping mall sales logs \n",
    "    * Apriori algorithms for assiciation rule\n",
    "    * Eclat\n",
    "2. __Anomaly detection and novelty detection__: __anomaly detection__—for example, detecting unusual credit card transactions to prevent fraud, catching manufacturing defects, or automatically removing outliers from a dataset before feeding it to another learning algorithm. A very similar task is __novelty detection__: the difference is that novelty detection algorithms expect to see only normal data during training, while anomaly detection algorithms are usually more tolerant, they can often perform well even with a small percentage of outliers in the training set.  \n",
    "    * One-Class SVM\n",
    "    * Isolation Forest\n",
    "4. __Visualization and dimensionality reduction__: __Visualization algorithms__ are also good examples of unsupervised learning algorithms: you feed them a lot of complex and unlabeled data, and they output a 2D or 3D representation of your data that can easily be plotted. A related task is __dimensionality reduction__, in which the goal is to simplify the data without losing too much information.  One way to do this is to merge several correlated features into one. For example, a car’s mileage may be very correlated with its age, so the dimensionality reduction algorithm will merge them into one feature that represents the car’s wear and tear. This is called __feature extraction__.\n",
    "    * Principle Component analysis(PCA)\n",
    "    * Kernel PCA\n",
    "    * Locally-Linear Embedding (LLE)b\n",
    "    * t-distributed Stochastic Neighbor Embedding (t-SNE)"
   ]
  },
  {
   "cell_type": "markdown",
   "metadata": {},
   "source": [
    "## Batch Vs Online Laerning:\n",
    "1. Another criterion used to classify Machine Learning systems is whether or not the system can learn incrementally from a stream of incoming data.\n",
    "2. __Batch Learning__ :First the system is trained, and then it is launched into production and runs without learning anymore; it just applies what it has learned. This is called __offline learning__. If you want a batch learning system to know about new data (such as a new type of spam), you need to train a new version of the system from scratch on the full dataset (not just the new data, but also the old data), then stop the old system and replace it with the new one. Fortunately, the whole process of training, evaluating, and launching a Machine Learning system can be automated fairly easily.\n",
    "3. This solution is simple and often works fine, but training using the full set of data can take many hours, so you would typically train a new system only every 24 hours or even just weekly. If your system needs to adapt to rapidly changing data (e.g., to predict stock prices), then you need a more reactive solution. If your resources are limited then you better go for Online Learning.\n",
    "5. __Linear Least Square__ is a Batch learning AL.\n",
    "4. __Online/Incremental Learning__: In online learning, you train the system incrementally by feeding it data instances sequentially, either individually or by small groups called mini-batches. Each learning step is fast and cheap, so the system can learn about new data on the fly, as it arrives. Online learning is great for systems that receive data as a continuous flow (e.g., stock prices) and need to adapt to change rapidly or autonomously.\n",
    "5. One important parameter of online learning systems is how fast they should adapt to changing data: this is called the learning rate. If you set a high learning rate, then your system will rapidly adapt to new data, but it will also tend to quickly forget the old data. Same is other way around.\n",
    "6. A big challenge with online learning is that if bad data is fed to the system, the system’s performance will gradually decline. To reduce this risk, you need to monitor your system closely and promptly switch learning off (and possibly revert to a previously working state) if you detect a drop in performance. You may also want to monitor the input data and react to abnormal data (e.g., using an anomaly detection algorithm).\n",
    "7. __Recursive Least Squares (RLS)__ algorithm is a Online Learning AL.\n",
    "8. https://en.wikipedia.org/wiki/Online_machine_learning"
   ]
  },
  {
   "cell_type": "markdown",
   "metadata": {},
   "source": [
    "## Instance Vs Model based Learning:\n",
    "1. Generalization — usually refers to a ML model’s ability to perform well on new unseen data rather than just the data that it was trained on.\n",
    "2. One more way to categorize Machine Learning systems is by how they generalize. Most Machine Learning tasks are about making predictions. This means that given a number of training examples, the system needs to be able to generalize to examples it has never seen before. Having a good performance measure on the training data is good, but insufficient; the true goal is to perform well on new instances There are two main approaches to generalization: __instance-based learning and model-based learning.__\n",
    "2. __Insatance based__ : sometimes called memory-based learning is a family of learning algorithms that, instead of performing explicit generalization, compares new problem instances with instances seen in training, which have been stored in memory. Ex: Decision Tree, \n",
    "3.  Instance-based learning: the system learns the examples by heart, then generalizes to new cases by comparing them to the learned examples (or a subset of them), using a similarity measure. For example: Instead of just flagging emails that are identical to known spam emails, your spam filter could be programmed to also flag emails that are very similar to known spam emails. This requires a measure of similarity between two emails. A (very basic) similarity measure between two emails could be to count the number of words they have in common. The system would flag an email as spam if it has many words in common with a known spam email. This is called Instanced based learning.\n",
    "3. __Model based__ : Another way to generalize from a set of examples is to build a model of these examples, then use that model to make predictions. This is called model-based learning. Ex: All Rregression ALs.\n",
    "4. In a ML project you gather data in a training set, and you feed the training set to a learning algorithm. If the algorithm is model-based it tunes some parameters to fit the model to the training set (i.e., to make good predictions on the training set itself), and then hopefully it will be able to make good predictions on new cases as well. If the algorithm is instance-based, it just learns the examples by heart and generalizes to new instances by comparing them to the learned instances using a similarity measure."
   ]
  },
  {
   "cell_type": "markdown",
   "metadata": {},
   "source": [
    "### Feature Engineering\n",
    "1. Feature engineering is the addition and construction of additional variables, or features, to your dataset to improve machine learning model performance and accuracy. The most effective feature engineering is based on sound knowledge of the business problem and your available data sources.\n",
    "2. As the saying goes: garbage in, garbage out. Your system will only be capable of learning if the training data contains enough relevant features and not too many irrelevant ones. A critical part of the success of a Machine Learning project is coming up with a good set of features to train on. This process, called feature engineering, involves:\n",
    "    * __Feature Selection__ : selecting the most useful feature.\n",
    "    * __Feature Extraction__ : combining existing features to produce a more useful one (as we saw earlier, dimensionality reduction algorithms can help).\n",
    "    * Creating new feature by gathering new data.\n",
    "    "
   ]
  },
  {
   "cell_type": "markdown",
   "metadata": {},
   "source": [
    "### Evaluation of ALs:\n",
    "1. The only way to know how well a model will generalize to new cases is to actually try it out on new cases. Thats done by dividing the traings set into train and test sets. The error rate on new cases is called the __generalization error__ (or out of __sample error__), and by evaluating your model on the test set, you get an estimate of this error. This value tells you how well your model will perform on instances it has never seen before.\n",
    "10. Accuracy scores cannot be used for regression, its is basically meant for classification. We have 'Mean Squared Error' for regression.\n",
    "12. Reference\n",
    "    * https://scikit-learn.org/stable/modules/model_evaluation.html\n",
    "    * https://machinelearningmastery.com/metrics-evaluate-machine-learning-algorithms-python/"
   ]
  },
  {
   "cell_type": "markdown",
   "metadata": {},
   "source": [
    "### sklearn Preprocessing data\n",
    "* https://scikit-learn.org/stable/modules/preprocessing.html\n",
    "* __Standardization__ of datasets is a common requirement for many machine learning estimators implemented in scikit-learn; they might behave badly if the individual features do not more or less look like standard normally distributed data: Gaussian with zero mean and unit variance.\n",
    "* For instance, many elements used in the objective function of a learning algorithm (such as the RBF kernel of Support Vector Machines or the l1 and l2 regularizers of linear models) assume that all features are centered around zero and have variance in the same order. If a feature has a variance that is orders of magnitude larger than others, it might __dominate__ the objective function and make the estimator unable to learn from other features correctly as expected.\n",
    "* Normalization Vs Standardization:\n",
    "    * https://stats.stackexchange.com/questions/10289/whats-the-difference-between-normalization-and-standardization\n",
    "    * Normalization rescales the values into a range of [0,1]. This might be useful in some cases where all parameters need to have the same positive scale. However, the outliers from the data set are lost.\n",
    "        Xchanged = (X−Xmin) / (Xmax−Xmin)\n",
    "    * Standardization rescales data to have a mean (μ) of 0 and standard deviation (σ) of 1 (unit variance).\n",
    "\n",
    "        Xchanged = X−Mean(μ) / Std Deviation(σ)\n",
    "    For most applications standardization is recommended. "
   ]
  },
  {
   "cell_type": "markdown",
   "metadata": {},
   "source": [
    "### sklearn.preprocessing.scale\n",
    "* sklearn.preprocessing.scale(X, axis=0, with_mean=True, with_std=True, copy=True) --> This will __Standardize__ (Mean = 0 and unit variance) a dataset along any axis\n",
    "* The function scale provides a quick and easy way to perform this operation on a single array-like dataset"
   ]
  },
  {
   "cell_type": "code",
   "execution_count": 6,
   "metadata": {},
   "outputs": [
    {
     "name": "stdout",
     "output_type": "stream",
     "text": [
      "[0. 0. 0.]\n",
      "[1. 1. 1.]\n"
     ]
    }
   ],
   "source": [
    "Sample_train = np.array([[1,2,3],[4,5,6],[1,2,3]])\n",
    "Sample_scale = scale(Sample_train)\n",
    "print(Sample_scale.mean(axis = 0)) # axis = 0 because standardization happen on each col/feature.\n",
    "print(Sample_scale.std(axis = 0))"
   ]
  },
  {
   "cell_type": "markdown",
   "metadata": {},
   "source": [
    "### sklearn.preprocessing.StandardScaler\n",
    "* sklearn.preprocessing.StandardScaler(copy=True, with_mean=True, with_std=True) --> Centering and scaling happen independently on each feature by computing the relevant statistics on the samples in the training set. Mean and standard deviation are then stored to be used on later data using transform..\n",
    "* This class has the following methods:  \n",
    "<img src=\"images/image5.png\" align=\"middle\" style=\"width:400px; height:200px\" />  \n",
    "* Difference between scale and standardScaler\n",
    "    Those are doing exactly the same, but:\n",
    "    preprocessing.scale(x) is just a function, which transforms some data\n",
    "    to Standrd data. StandardScaler() is a class supporting the Transformer API\n",
    "    I would always use the latter, even if i would not need inverse_transform and co. supported by StandardScaler()."
   ]
  },
  {
   "cell_type": "code",
   "execution_count": 6,
   "metadata": {},
   "outputs": [
    {
     "name": "stdout",
     "output_type": "stream",
     "text": [
      "[[1 2 3]\n",
      " [4 5 6]\n",
      " [1 2 3]]\n",
      "[[1 1 1]\n",
      " [2 2 2]\n",
      " [3 3 3]]\n"
     ]
    }
   ],
   "source": [
    "sample_train = np.array([[1,2,3],[4,5,6],[1,2,3]])\n",
    "sample_test = np.array([[1,1,1],[2,2,2],[3,3,3]])\n",
    "print(sample_train)\n",
    "print(sample_test)"
   ]
  },
  {
   "cell_type": "code",
   "execution_count": 7,
   "metadata": {},
   "outputs": [
    {
     "name": "stdout",
     "output_type": "stream",
     "text": [
      "[[-0.70710678 -0.70710678 -0.70710678]\n",
      " [ 1.41421356  1.41421356  1.41421356]\n",
      " [-0.70710678 -0.70710678 -0.70710678]]\n",
      "*** train mean -  [0. 0. 0.]\n",
      "*** train std -  [1. 1. 1.]\n",
      "[[-0.70710678 -1.41421356 -2.12132034]\n",
      " [ 0.         -0.70710678 -1.41421356]\n",
      " [ 0.70710678  0.         -0.70710678]]\n",
      "*** test mean -  [ 0.         -0.70710678 -1.41421356]\n",
      "*** test std -  [0.57735027 0.57735027 0.57735027]\n"
     ]
    }
   ],
   "source": [
    "my_scaler = StandardScaler()\n",
    "my_scaler.fit(Sample_train) # Computes the mean and std deviation and stores in its class attributes\n",
    "scaled_train = my_scaler.transform(Sample_train)# Perform Standardization using fit data stored\n",
    "#my_scaler.fit_transform(Sample_train) # first fit (computes and stores), then apply to sample_train \n",
    "scaled_test = my_scaler.transform(sample_test) # apply the same standardization to testing data\n",
    "print(scaled_train)\n",
    "print(\"*** train mean - \", scaled_train.mean(axis=0))\n",
    "print(\"*** train std - \", scaled_train.std(axis=0))\n",
    "print(scaled_test)\n",
    "print(\"*** test mean - \", scaled_test.mean(axis=0)) # won't be 0 as we are using mean is from train data\n",
    "print(\"*** test std - \", scaled_test.std(axis=0))"
   ]
  },
  {
   "cell_type": "code",
   "execution_count": 8,
   "metadata": {},
   "outputs": [
    {
     "name": "stdout",
     "output_type": "stream",
     "text": [
      "[[1. 2. 3.]\n",
      " [4. 5. 6.]\n",
      " [1. 2. 3.]]\n",
      "[[1. 1. 1.]\n",
      " [2. 2. 2.]\n",
      " [3. 3. 3.]]\n"
     ]
    }
   ],
   "source": [
    "rescaled_train = my_scaler.inverse_transform(scaled_train)\n",
    "rescaled_test = my_scaler.inverse_transform(scaled_test)\n",
    "print(rescaled_train)\n",
    "print(rescaled_test)"
   ]
  },
  {
   "cell_type": "markdown",
   "metadata": {},
   "source": [
    "# Decision Tree"
   ]
  },
  {
   "cell_type": "markdown",
   "metadata": {},
   "source": [
    "1. Decision Tree algorithm belongs to the family of supervised learning algorithms. Unlike other supervised learning algorithms, the decision tree algorithm can be used for solving __regression__ and __classification__ problems too.\n",
    "2. Decision trees are most commonly used. It is one of the few classifier algorithms that is easy to interpret and analyze. We actually know how it works and how it classifies a given data.\n",
    "3. Decision trees use the features( columns) that you provide to build the tree and make the best prediction. So it's important that you choose your features that you feed the decision tree precisely.\n",
    "\n",
    "#### Reference:\n",
    "1. https://www.youtube.com/watch?v=tNa99PG8hR8&list=PLOU2XLYxmsIIuiBfYad6rFYQU_jL2ryal&index=2\n",
    "2. John Gordon - https://www.youtube.com/watch?v=eKD5gxPPeY0\n",
    "3. __*IMP* must listen__ John Gordon - https://www.youtube.com/watch?v=LDRbO9a6XPU&list=PLOU2XLYxmsIIuiBfYad6rFYQU_jL2ryal&index=8\n",
    "4. https://scikit-learn.org/stable/modules/tree.html"
   ]
  },
  {
   "cell_type": "markdown",
   "metadata": {
    "slideshow": {
     "slide_type": "notes"
    }
   },
   "source": [
    " ### Important Terminology: \n",
    "1. __Root Node__: It represents the entire population or sample and this further gets divided into two or more homogeneous sets.\n",
    "2. __Leaf / Terminal Node__: Nodes do not split is called Leaf or Terminal node.\n",
    "3. __Pruning__: When we remove sub-nodes of a decision node, this process is called pruning. You can say the opposite process of splitting.\n",
    "4. __Branch / Sub-Tree__: A subsection of the entire tree is called branch or sub-tree.\n",
    "5. __Decision/Internal Node__: When a sub-node splits into further sub-nodes, then it is called the decision node.\n",
    "6. The root and the decision/internal node have test conditions.\n",
    "\n",
    "<img src=\"images/image1.png\" style=\"width:400px; height:200px; float:left\"/>"
   ]
  },
  {
   "cell_type": "markdown",
   "metadata": {},
   "source": [
    "1. https://en.wikipedia.org/wiki/Decision_tree_learning\n",
    "\n",
    "2. __Gini Impurity__ : \n",
    "    * https://www.youtube.com/watch?v=LDRbO9a6XPU&list=PLOU2XLYxmsIIuiBfYad6rFYQU_jL2ryal&index=8 at time 5:00\n",
    "    * Gini Impurity is a measurement of the likelihood of an incorrect classification of a new instance of a random variable, if that new instance were randomly classified according to the distribution of class labels from the data set. or in simple terms GINI Impurity gives us the probability of being incorrect.\n",
    "    * it ranges  between 0-1. Lower values indicate less uncertanity or mixing and higher value indicate more uncertanity\n",
    "    * It reaches its minimum (zero) when all cases in the node fall into a single target category.\n",
    "    * Gini Impurity : Calculated as         \n",
    "                            j                         j\n",
    "                    G(k) =  Σ P(i) * (1 - P(i)) = 1 - Σ P(i)^2\n",
    "                            i=1                       i=1\n",
    "      \n",
    "    * Gini Gain / Information Gain: (GI of Total dataset) - (Sum of weighted GI of each branch)\n",
    "    Basically Information gain will give us how much impurity will be reduced if we split with this question in the feature comapred to other question in a feature. And this will tell the decision tree to split on specific feature first. Checkout the video.\n",
    "<img src=\"images/image11.png\" align=\"middle\" style=\"width:350px; height:180px\"/>\n",
    "<img src=\"images/image12.png\" align=\"middle\" style=\"width:350px; height:50px\"/>\n",
    "3. https://victorzhou.com/blog/gini-impurity/ --> This will explain how to calculate Gini Impurity and Gini Gain and how it is used to make a split in decision tree. Also read about Information gain."
   ]
  },
  {
   "cell_type": "markdown",
   "metadata": {},
   "source": [
    "### Basic Usage "
   ]
  },
  {
   "cell_type": "code",
   "execution_count": 9,
   "metadata": {},
   "outputs": [],
   "source": [
    "#Apple and Orange classification. Oranges are bumpy and heavier. \n",
    "#training_data = [[140, \"smooth\"], [170, \"bumpy\"], [135, \"smooth\"], [155, \"bumpy\"], [165, \"bumpy\"]] \n",
    "#labels = [\"apple\", \"orange\", \"apple\", \"orange\", \"orange\"]\n",
    "training_data = [[140, 0], [170, 1], [135, 0], [155, 1], [165, 1]]\n",
    "labels = [2, 3, 2, 3, 3]"
   ]
  },
  {
   "cell_type": "code",
   "execution_count": 10,
   "metadata": {},
   "outputs": [],
   "source": [
    "clf = tree.DecisionTreeClassifier()\n",
    "clf = clf.fit(training_data, labels)"
   ]
  },
  {
   "cell_type": "code",
   "execution_count": 11,
   "metadata": {},
   "outputs": [
    {
     "data": {
      "text/plain": [
       "array([2])"
      ]
     },
     "execution_count": 11,
     "metadata": {},
     "output_type": "execute_result"
    }
   ],
   "source": [
    "clf.predict([[135, 0]])  # answer is 2 as its smooth and light weight so it's apple"
   ]
  },
  {
   "cell_type": "markdown",
   "metadata": {},
   "source": [
    "### Plot a decision tree\n",
    "__sklearn.tree.plot_tree__ for the above example we can use tree.plot_tree(clf) to get the decision tree visualisation."
   ]
  },
  {
   "cell_type": "code",
   "execution_count": 12,
   "metadata": {},
   "outputs": [
    {
     "data": {
      "image/png": "[encoded data removed]",
      "text/plain": [
       "<Figure size 432x288 with 1 Axes>"
      ]
     },
     "metadata": {
      "needs_background": "light"
     },
     "output_type": "display_data"
    }
   ],
   "source": [
    "tree.plot_tree(clf);  # ; will remove the text from output cell."
   ]
  },
  {
   "cell_type": "markdown",
   "metadata": {},
   "source": [
    "### Decision Tree Classifier from Scratch"
   ]
  },
  {
   "cell_type": "markdown",
   "metadata": {},
   "source": [
    "##### Classifier can be thought as a function y=f(x) with y being target output/label and f(x) as our features.\n",
    "<img src=\"images/image2.png\" style=\"width:150px; height:100px; float:left\"/>"
   ]
  },
  {
   "cell_type": "code",
   "execution_count": 13,
   "metadata": {},
   "outputs": [],
   "source": [
    "#sklearn provide some datasets to work with, one of which is iris\n",
    "iris = datasets.load_iris() #iris is a dict with keys as 'data', 'target', 'feature_name' etc\n",
    "#iris"
   ]
  },
  {
   "cell_type": "code",
   "execution_count": 14,
   "metadata": {},
   "outputs": [],
   "source": [
    "#use train_test_split to partition the data into training and testing group.\n",
    "X = iris.data\n",
    "y = iris.target\n",
    "\n",
    "X_train, X_test, y_train, y_test = train_test_split(X, y, test_size=0.5) # split 50-50 between test and train data"
   ]
  },
  {
   "cell_type": "markdown",
   "metadata": {},
   "source": [
    "Its pretty easy to switch between different classifier as shown below. 90% of the code flow remains the same."
   ]
  },
  {
   "cell_type": "code",
   "execution_count": 15,
   "metadata": {},
   "outputs": [],
   "source": [
    "\n",
    "clf = KNeighborsClassifier(n_neighbors=11, p=2, metric='euclidean')\n",
    "#clf = tree.DecisionTreeClassifier()\n",
    "clf.fit(X_train, y_train);"
   ]
  },
  {
   "cell_type": "code",
   "execution_count": 16,
   "metadata": {},
   "outputs": [
    {
     "data": {
      "text/plain": [
       "0.9466666666666667"
      ]
     },
     "execution_count": 16,
     "metadata": {},
     "output_type": "execute_result"
    }
   ],
   "source": [
    "predictions = clf.predict(X_test)\n",
    "accuracy_score(y_test, predictions)"
   ]
  },
  {
   "cell_type": "markdown",
   "metadata": {},
   "source": [
    "## k-nearest neighbors classifier algorithm\n",
    "A powerful Supervised machine learning algorithm used for classification and regression (mostly classification). KNN is based on __feature similarity__. It classifies a data point based on how its neighbors are classified.\n",
    "* Algorithm : \n",
    "    * As the name suggest the KNN first studies the training data. \n",
    "    * The for each new test data (a row in iris data set), it will try to find the nearest neighbour( a row in iris training data set) using euclidean distance. \n",
    "    * The nearest neighbour label is assigned to the test data set.\n",
    "    * If two nearest neighour have the same distance, then the k value is used to get a voting.\n",
    "\n",
    "* _k_ in the KNN is a parameter that refers to the number of nearest neighbors to include in the majority voting process. It uses EUCLIDEAN distance to find the nearest neighbor.\n",
    "* Choosing a right value of _k_ is a process called as __parameter tuning__, and is important for better accuracy.  \n",
    "<img src=\"images/image3.png\" align = \"middle\" style=\"width:400px; height:200px;\"/>   \n",
    "* Choose th evalue of _k_:\n",
    "    * __sqrt(n)__ where n is the total number of data points\n",
    "    * after sqrt(n) if the number of feature are even make the _k_ odd and vise-versa\n",
    "* When to use KNN:\n",
    "    * For classification\n",
    "    * Data is labeled.\n",
    "    * Data is noise free \n",
    "    * Dataset is small \n",
    "<img src=\"images/image4.png\" align = \"middle\" style=\"width:400px; height:200px;\"/>\n",
    "\n",
    "\n",
    "__Pros__:\n",
    "* KNN is a __non-parametric__. When we say a technique is non-parametric , it means that it does not make any assumptions on the underlying data distribution. A __parametric model__ is one where we assume the 'shape' of the data, and therefore only have to estimate the coefficients of the model. A __non-parametric model__ is one where we do not assume the 'shape' of the data, and we have to estimate the most suitable form of the model, along with the coefficients.\n",
    "* __parametri model__ : Y = a + bX is a parametric model with parameters \"a\" and \"b\". To find the value of Y at a new value of X, the values of \"a\" and \"b\" are sufficient. We don't need the data that had been used to estimate \"a\" and \"b\". __Ex: Linear/logistic Regression, Perceptron, Naive Bayes.__\n",
    "* __non-parametric model__ :However, in the non-parametric approach, all of the previously used training data need to used along with the untrained value and the estimated quantities in order to perform prediction. Such \"quantities\" in the non-parametric method are sometimes referred to as __\"hyper-parameters\"__. __Ex: k-Nearest Neighbors, Decision Trees like CART and Support Vector Machines__\n",
    "\n",
    "__Cons__:\n",
    "* Its a __lazy__ algorithm. To be more exact, all (or most) the training data is needed during the testing phase.Basically the KNN iterate over every training set data to make a new test prediction.\n",
    "* If your _k_ is too __low__, your predict is not that accurate. If _k_ is too __high__ then its gonna take for ever to process and you are gonna run into processing/resource issues."
   ]
  },
  {
   "cell_type": "markdown",
   "metadata": {},
   "source": [
    "## K-NN classifier from scratch with k=1:\n",
    "reference: https://www.youtube.com/watch?v=AoeEHqVSNOw&list=PLOU2XLYxmsIIuiBfYad6rFYQU_jL2ryal&index=5"
   ]
  },
  {
   "cell_type": "code",
   "execution_count": 16,
   "metadata": {},
   "outputs": [],
   "source": [
    "class ScrappyKNN():\n",
    "    def fit(self, X_train, y_train):\n",
    "        self.X_train = X_train\n",
    "        self.y_train = y_train\n",
    "    \n",
    "    def predict(self, X_test):\n",
    "        predictions = []\n",
    "        for row in X_test:\n",
    "            label = self.closest(row)\n",
    "            predictions.append(label)\n",
    "        return np.array(predictions)\n",
    "    \n",
    "    def closest(self, row):\n",
    "        #from scipy.spatial import distance to calculate the euclidean distance\n",
    "        best_dist = distance.euclidean(row, self.X_train[0])  \n",
    "        best_index = 0\n",
    "        for i in range(1, len(self.X_train)):\n",
    "            dist = distance.euclidean(row, self.X_train[i])\n",
    "            if  dist < best_dist:\n",
    "                best_dist = dist\n",
    "                best_index = i   \n",
    "        return self.y_train[best_index]"
   ]
  },
  {
   "cell_type": "code",
   "execution_count": 17,
   "metadata": {},
   "outputs": [
    {
     "data": {
      "text/plain": [
       "3.7416573867739413"
      ]
     },
     "execution_count": 17,
     "metadata": {},
     "output_type": "execute_result"
    }
   ],
   "source": [
    "a=[1,1,1,1]\n",
    "b=[2,2,2,2]\n",
    "c=[2,3,4,5]\n",
    "distance.euclidean(b,c)"
   ]
  },
  {
   "cell_type": "code",
   "execution_count": 18,
   "metadata": {},
   "outputs": [
    {
     "data": {
      "text/plain": [
       "0.9333333333333333"
      ]
     },
     "execution_count": 18,
     "metadata": {},
     "output_type": "execute_result"
    }
   ],
   "source": [
    "iris = datasets.load_iris()\n",
    "X = iris.data\n",
    "y = iris.target\n",
    "\n",
    "X_train, X_test, y_train, y_test = train_test_split(X, y, test_size=0.5)\n",
    "clf = ScrappyKNN()\n",
    "clf.fit(X_train, y_train);\n",
    "predictions = clf.predict(X_test)\n",
    "accuracy_score(y_test, predictions)"
   ]
  },
  {
   "cell_type": "code",
   "execution_count": 19,
   "metadata": {},
   "outputs": [
    {
     "data": {
      "text/plain": [
       "array([[23,  0,  0],\n",
       "       [ 0, 21,  1],\n",
       "       [ 0,  4, 26]], dtype=int64)"
      ]
     },
     "execution_count": 19,
     "metadata": {},
     "output_type": "execute_result"
    }
   ],
   "source": [
    "confusion_matrix(y_test, predictions)"
   ]
  },
  {
   "cell_type": "markdown",
   "metadata": {},
   "source": [
    "### Classification Accuracy and its Limitations\n",
    "* Classification accuracy is the ratio of correct predictions to total predictions made.  \n",
    "    classification accuracy = $\\frac{correct predictions} {total predictions} * 100$\n",
    "* Classification accuracy can also easily be turned into a misclassification rate or error rate by inverting the value, such as: error rate = (1 - (correct predictions / total predictions)) * 100\n",
    "* The main problem with classification accuracy is that it hides the detail you need to better understand the performance of your classification model. There are two examples where you are most likely to encounter this problem:\n",
    "    1. When your data has more than 2 classes. With 3 or more classes you may get a classification accuracy of 80%, but you don’t know if that is because all classes are being predicted equally well or whether one or two classes are being neglected by the model.\n",
    "    2. When your data does not have an even number of data in classes. You may achieve accuracy of 90% or more, but this is not a good score if 90 records for every 100 belong to one class and you can achieve this score by always predicting the most common class value. Ex: Would you believe someone who claimed to create a model entirely in their head to identify terrorists trying to board flights with greater than 99% accuracy? Well, here is the model: simply label every single person flying from a US airport as not a terrorist. Given the 800 million average passengers on US flights per year and the 19 (confirmed) terrorists who boarded US flights from 2000–2017, this model achieves an astounding accuracy of 99.9999999%!\n",
    "* Classification accuracy can hide the detail you need to diagnose the performance of your model. But thankfully we can tease apart this detail by using a confusion matrix."
   ]
  },
  {
   "cell_type": "markdown",
   "metadata": {},
   "source": [
    "### Confusion Matrix: \n",
    "* A confusion matrix is a technique for summarizing the performance of a classification algorithm.\n",
    "* The number of correct and incorrect predictions are summarized with count values and broken down by each class. This is the key to the confusion matrix.\n",
    "<img src=\"images/image6.png\" align = \"middle\" style=\"width:200px; height:120px;\"/>\n",
    "* True Positive (TP) : these are the events that were correctly predicted by the model as \"occurred = Yes.\"\n",
    "* True Nagative (TN) : These are the events that were correctly predicted by the model as \"occurred = No.\"\n",
    "* False Positive (FP) : These are the events that were predicted as \"occurred = Yes,\" but in reality, it was \"occurred = No.\" __eqv. to false alarm, Type I error__\n",
    "* False Negative (FN) : This is the opposite of FP, i.e. predicted as \"occurred = No,\" but in reality, it was \"occurred = Yes.\" __eqv. to miss, Type II error__\n",
    "\n",
    "#### Reference:\n",
    "1. https://en.wikipedia.org/wiki/Confusion_matrix --> Check this for all the calcualtion\n",
    "2. https://www.youtube.com/watch?v=vP06aMoz4v8 --> Josh Starmer\n",
    "3. https://towardsdatascience.com/beyond-accuracy-precision-and-recall-3da06bea9f6c -- VVIMP must read\n",
    "\n",
    "\n",
    "1. __recall/ sensitivity/ hit rate/ true pos rate (TPR)__: the ability of a model to find all the relevant cases within a dataset.\n",
    "\\begin{equation*}\n",
    "TPR = \\frac{TP}{TP + FN} = 1 - FNR\n",
    "\\end{equation*}\n",
    "<img src=\"images/image7.png\" align = \"middle\" style=\"width:300px; height:200px;\"/>\n",
    "2. __specificity, selectivity or true negative rate (TNR)__:\n",
    "\\begin{equation*}\n",
    "TNR = \\frac{TN}{TN + FP} = 1 - FPR\n",
    "\\end{equation*}\n",
    "<img src=\"images/image8.png\" align = \"middle\" style=\"width:300px; height:200px;\"/>\n",
    "\n",
    "Check the above video to calculate sensitivity and specificity of a model with more than 2 predicting value.\n",
    "\n",
    "3. __precision__ :  the ability of a classification model to identify only the relevant data points.\n",
    "\\begin{equation*}\n",
    "TPR = \\frac{TP}{TP + FP}\n",
    "\\end{equation*}\n",
    "4. __F1-score__ : It combines precision and recall into a single measure. Mathematically it’s the harmonic mean of precision and recall.\n",
    "$F1-score = 2*\\frac{Precision*Recall}{Precision+Recall}$\n",
    "    * We use the harmonic mean instead of a simple average because it punishes extreme values.\n",
    "    * In some situations, we might know that we want to maximize either recall or precision at the expense of the other metric. For example, in preliminary disease screening of patients for follow-up examinations, we would probably want a recall near 1.0 — we want to find all patients who actually have the disease — and we can accept a low precision if the cost of the follow-up examination is not significant. \n",
    "    * If we want to create a balanced classification model with the optimal balance of recall and precision, then we try to maximize the F1 score."
   ]
  },
  {
   "cell_type": "markdown",
   "metadata": {},
   "source": [
    "### Arithmatic Vs Goemetric Vs Harmonic Mean:\n",
    "1. https://towardsdatascience.com/on-average-youre-using-the-wrong-average-geometric-harmonic-means-in-data-analysis-2a703e21ea0\n",
    "4. There are lot of ways to represent the average of a dataset. Like Arithmetic mean, Geometric mean, Harmonic mean. Differetn kind of dataset require different avearges to be used.\n",
    "2. The arithmetic mean is just one among many ways of arriving at an “average” value. Sum / num of elements. AM is very well suited for linearly realated dataset. AM is ill suited if we have large outliers in dataset or exponentila.\n",
    "3. Geometric mean : Assume we have a dataset sqaure of 3 --> [1,3,9,27,81,243,729]. This is a exponential curve. In this situation, the arithmetic mean is ill-suited to produce an “average” number to summarize this data. The arithmetic mean = 156.1. 156 isn’t particularly close to most of the numbers in our dataset. In fact it’s more than 5x the median (middle number), which is 27. Here is where we use Geometric means comes handy\n",
    "<img src='images/image91.png' style='width:200px;height:200px' />\n",
    "4. __Geometric mean__: Since the relationship is multiplicative, to find the geometric mean we multiply rather than add all the numbers. Then to rescale the product back down to the range of the dataset, we have to take the nth root, rather than simply dividing. In our case GM will be 7th root of 1*3*..*729 = 27.  the geometric mean will not always equal the median, only in cases where there is an exact consistent multiplicative relationship between all numbers (e.g. multiplying each previous number by 3, as we did).\n",
    "$GM = {^n}\\sqrt{x_1*x_2..*x_n}$\n",
    "5. It turns out that there are many practical uses for the geometric mean, as multiplicative-ish relationships abound in the real world. One Ex: Assume we have dollar 100,000 that accrues a varying rate of interest each year for 5 years: annual interest rates: 1%, 9%, 6%, 2%, 15%. Similar datatset which has rate equation we use GM.\n",
    "6. A fancy feature of the geometric mean is that you can actually average across numbers on completely different scales. Read the coffeshop rating example from the above link.\n",
    "7. __Harmonic Mean__: Whereas the arithmetic mean requires addition & the geometric mean employs multiplication, the harmonic mean utilizes reciprocals. Another way to think about reciprocals is: two numbers that equal 1 when multiplied together. So when finding the reciprocal of a number n, we are simply asking: what number must we multiply with n in order to get 1. (This is why the reciprocal is also sometimes called the multiplicative inverse.)EX. A simple example from wikipedia: the harmonic mean of 1, 4, and 4 is 2.   \n",
    "$\\frac{3}{\\frac{1}{1}+\\frac{1}{4}+\\frac{1}{4}}$ = 2\n",
    "8. Notice, what we are saying here is: if the reciprocal of every number in our dataset was the same number, what number would it have to be in order to have the same reciprocal sum as our actual dataset?"
   ]
  },
  {
   "cell_type": "markdown",
   "metadata": {},
   "source": [
    "* __Practical application of sensitivity and specificity__ : If we calculate the sensistivity and specficity for two ML models say Random forest and Logistic Regression and here are the numbers.\n",
    "LR: Sensi: 0.81 and Speci: 0.85\n",
    "RF: Sensi: 0.83 and Speci: 0.82\n",
    "A high Sensitivity in RF tell us that the RF can predict the True Positive slightly higher than the LR. So RF is better at predicting people with Heart Desease. So use the RF model if its more important for you to know which patient is going to have a heart disease.\n",
    "A high Specificity in LR tells us that the LR can predict the True Negative slightly higher than the RF. So use the LR model if its more important for you to know which patient is not going to have a heart disease.\n",
    "<img src=\"images/image9.png\" align = \"left\" style=\"width:200px; height:300px;\"/>\n",
    "<img src=\"images/image10.png\" align = \"middle\" style=\"width:200px; height:300px;\"/>"
   ]
  },
  {
   "cell_type": "markdown",
   "metadata": {},
   "source": [
    "### ROC - Reciever Operating Characterstics(ROC) curve\n",
    "1. The other main other than recall and precision technique for showing the performance of a classification model is the Receiver Operating Characteristic (ROC) curve.\n",
    "2. The ROC curve shows how the recall vs precision relationship changes as we vary the threshold for identifying a positive in our model.\n",
    "3. An ROC curve plots the true positive rate on the y-axis versus the false positive rate on the x-axis. The true positive rate (TPR) is the recall and the false positive rate (FPR) is the probability of a false alarm. Both of these can be calculated from the confusion matrix:   \n",
    "$ROC = \\frac{True Positive Rate}{False Positive Rate}$ $TPR = \\frac{TP}{TP+FN}$ $FPR = \\frac{FP}{FP+TN}$\n",
    "4. <img src='images/image90.png' style='width:200px;height:200px'/>\n",
    "5. The black diagonal line indicates a random classifier and the red and blue curves show two different classification models. For a given model, we can only stay on one curve, but we can move along the curve by adjusting our threshold for classifying a positive case. Generally, as we decrease the threshold, we move to the right and upwards along the curve. With a threshold of 1.0, we would be in the lower left of the graph because we identify no data points as positives leading to no true positives and no false positives (TPR = FPR = 0). As we decrease the threshold, we identify more data points as positive, leading to more true positives, but also more false positives (the TPR and FPR increase). Eventually, at a threshold of 0.0 we identify all data points as positive and find ourselves in the upper right corner of the ROC curve (TPR = FPR = 1.0).\n",
    "6. Finally, we can quantify a model’s ROC curve by calculating the total __Area Under the Curve (AUC)__, a metric which falls between 0 and 1 with a higher number indicating better classification performance. In the graph above, the AUC for the blue curve will be greater than that for the red curve, meaning the blue model is better at achieving a blend of precision and recall. A random classifier (the black line) achieves an AUC of 0.5.\n"
   ]
  },
  {
   "cell_type": "code",
   "execution_count": 74,
   "metadata": {},
   "outputs": [
    {
     "name": "stdout",
     "output_type": "stream",
     "text": [
      "Confusion Matrix\n",
      "\n",
      "[[23  0  0]\n",
      " [ 0 21  1]\n",
      " [ 0  4 26]]\n",
      "\n",
      "Accuracy: 0.93\n",
      "\n",
      "Recall:  [1.         0.95454545 0.86666667]\n",
      "Precision:  [1.         0.84       0.96296296]\n",
      "F1-score:  [1.         0.89361702 0.9122807 ]\n",
      "\n",
      "\n",
      "Micro Precision: 0.93\n",
      "Micro Recall: 0.93\n",
      "Micro F1-score: 0.93\n",
      "\n",
      "Macro Precision: 0.93\n",
      "Macro Recall: 0.94\n",
      "Macro F1-score: 0.94\n",
      "\n",
      "Weighted Precision: 0.94\n",
      "Weighted Recall: 0.93\n",
      "Weighted F1-score: 0.93\n",
      "\n",
      "Classification Report\n",
      "\n",
      "              precision    recall  f1-score   support\n",
      "\n",
      "      Setosa       1.00      1.00      1.00        23\n",
      "   Verginica       0.84      0.95      0.89        22\n",
      "  Versicolor       0.96      0.87      0.91        30\n",
      "\n",
      "    accuracy                           0.93        75\n",
      "   macro avg       0.93      0.94      0.94        75\n",
      "weighted avg       0.94      0.93      0.93        75\n",
      "\n"
     ]
    }
   ],
   "source": [
    "# Confusion matrix for above Iris dataset with ScrappyKNN\n",
    "# https://towardsdatascience.com/confusion-matrix-for-your-multi-class-machine-learning-model-ff9aa3bf7826\n",
    "from sklearn.metrics import accuracy_score, precision_score, recall_score, f1_score\n",
    "\n",
    "y_pred = predictions\n",
    "print('Confusion Matrix\\n')\n",
    "print(confusion_matrix(y_test, predictions))\n",
    "print('\\nAccuracy: {:.2f}\\n'.format(accuracy_score(y_test, predictions)))\n",
    "\n",
    "# scores for each class of setosa, verginica, versicolor\n",
    "# precision_score(y_test, y_pred, average=None)\n",
    "print('Recall: ',recall_score(y_test, y_pred, average=None))\n",
    "print('Precision: ',precision_score(y_test, y_pred, average=None))\n",
    "print('F1-score: ',f1_score(y_test, y_pred, average=None))\n",
    "print('\\n')\n",
    "\n",
    "# Calculate metrics globally by counting the total true positives, false negatives and false positives.\n",
    "print('Micro Precision: {:.2f}'.format(precision_score(y_test, y_pred, average='micro')))\n",
    "print('Micro Recall: {:.2f}'.format(recall_score(y_test, y_pred, average='micro')))\n",
    "print('Micro F1-score: {:.2f}\\n'.format(f1_score(y_test, y_pred, average='micro')))\n",
    "\n",
    "# Calculate metrics for each label, and find their unweighted mean. This does not take label imbalance into account.\n",
    "print('Macro Precision: {:.2f}'.format(precision_score(y_test, y_pred, average='macro')))\n",
    "print('Macro Recall: {:.2f}'.format(recall_score(y_test, y_pred, average='macro')))\n",
    "print('Macro F1-score: {:.2f}\\n'.format(f1_score(y_test, y_pred, average='macro')))\n",
    "\n",
    "# Calculate metrics for each label, and find their average weighted by support (the number of true instances for each label). \n",
    "# This alters ‘macro’ to account for label imbalance; it can result in an F-score that is not between precision and recall.\n",
    "print('Weighted Precision: {:.2f}'.format(precision_score(y_test, y_pred, average='weighted')))\n",
    "print('Weighted Recall: {:.2f}'.format(recall_score(y_test, y_pred, average='weighted')))\n",
    "print('Weighted F1-score: {:.2f}'.format(f1_score(y_test, y_pred, average='weighted')))\n",
    "\n",
    "print('\\nClassification Report\\n')\n",
    "print(classification_report(y_test, y_pred, target_names=['Setosa', 'Verginica', 'Versicolor']))\n"
   ]
  },
  {
   "cell_type": "markdown",
   "metadata": {},
   "source": [
    "## Cluster Analysis : An unsupervised ML \n",
    "1. The goal of Cluster Analysis is to organise similar items in your data set into groups or clusters.\n",
    "2. Ex application : In a retail industry segment/cluster your customer base into groups/clusters based on their purchase history. Grouping latest news articles into topics of the day, to itendify the trending topic of the day.\n",
    "3. In theory, data points that are in the same group should have similar properties and/or features, while data points in different groups should have highly dissimilar properties and/or features.\n",
    "4. Eucledean Distance / Manhattan Distance or Cosine Similarity is used in Clustering Algorithm to measure similarity between data points. \n",
    "5. Since clustering is a unsupervised learning technique (there is no labelled data), there is no \"correct\" clustering data. we are just trying to get the best clustering possible. Also clustering can result into numerous groups/clusters without a label. It requires further interpretation and analysis of the cluster we can come with some labels to the cluster and make use of this data.\n"
   ]
  },
  {
   "cell_type": "markdown",
   "metadata": {},
   "source": [
    "### K-Means Clustering Algorithm\n",
    "1. A very important question to ask yourself before starting clustering is, What are you trying to cluster and on what basis. You should know the question you are trying to answer. Ex: given a set of alphabets[A..Z]. We can cluster them based on there phenetic sounds. based on position, based on simplicity of writing them , most commonly used etc etc. So its important to know waht clustering you want.\n",
    "1. Steps in K-Means Algorithm:  https://en.wikipedia.org/wiki/K-means_clustering  \n",
    "    a. To begin, we first select a number of classes/groups(_k_) to use and randomly initialize their respective centroids.  \n",
    "    b. Assign each sample to the closest centroid using Eucledian distance  \n",
    "    c. Calculate mean of cluster which will be your new centroid.  \n",
    "    d. Repeat (b) and (c) until stopping criteria is reached.  \n",
    "<img src=\"images/image13.png\" align = \"middle\" style=\"width:600px; height:300px;\"/>\n",
    "2. How to select Initial Centroid: Lots of sophesticated methods are there, one of the easy method is below.  \n",
    "    a. __Issue__: Final Cluster are sensitive to Initial centroids selected.  \n",
    "    b. __Solution__: Run k-means multiple times with different initial centroid and choose the best results.\n",
    "3. __Evaluating Cluster Results__: error = distance between sample and centroid\n",
    "squared error of all the samples and all the cluster gives us what is called as __WSSE (Within-cluster Sum of Squared Error)__\n",
    "    So __WSSE 1 < WSSE2__, the clsutering with smaller error is better and can be used for further processing.\n",
    "    Note: Larger values of _k_ always reduces the WSSE. So while comparing WSSE of two things we will need to maka sure we are using same _k_  \n",
    "    <img src=\"images/image14.png\" align = \"middle\" style=\"width:400px; height:300px;\"/>\n",
    "4. __Choosing the value of _k___: There are different techniques to determine the vaue of _k_, some of which are  \n",
    "    a. __Visualization__: Visualize the dataset and see if we can fidn some natural grouping of the sample data based on domain knowledge. We can use scattered plots and dimensionality reduction here to visualize the data \n",
    "    b. __Application -depedant__: sometimes ot depends on applicatipn and domain knowledge.  \n",
    "    c. __Elbow Method__: \n",
    "    <img src=\"images/image15.png\" align = \"middle\" style=\"width:400px; height:300px;\"/>"
   ]
  },
  {
   "cell_type": "markdown",
   "metadata": {},
   "source": [
    "### Building and running the Clustering Model with iris dataset"
   ]
  },
  {
   "cell_type": "code",
   "execution_count": 14,
   "metadata": {},
   "outputs": [],
   "source": [
    "iris = datasets.load_iris()\n",
    "#X = scale(iris.data) # with just scale we don't get a inverse_scale() method.\n",
    "scaler = StandardScaler()\n",
    "X = scaler.fit_transform(iris.data)\n",
    "y = pd.DataFrame(iris.target) \n",
    "# y.columns = ['Target']\n"
   ]
  },
  {
   "cell_type": "code",
   "execution_count": 15,
   "metadata": {},
   "outputs": [
    {
     "data": {
      "text/plain": [
       "array([1, 1, 1, 1, 1, 1, 1, 1, 1, 1, 1, 1, 1, 1, 1, 1, 1, 1, 1, 1, 1, 1,\n",
       "       1, 1, 1, 1, 1, 1, 1, 1, 1, 1, 1, 1, 1, 1, 1, 1, 1, 1, 1, 1, 1, 1,\n",
       "       1, 1, 1, 1, 1, 1, 2, 2, 2, 0, 0, 0, 2, 0, 0, 0, 0, 0, 0, 0, 0, 2,\n",
       "       0, 0, 0, 0, 2, 0, 0, 0, 0, 2, 2, 2, 0, 0, 0, 0, 0, 0, 0, 2, 2, 0,\n",
       "       0, 0, 0, 0, 0, 0, 0, 0, 0, 0, 0, 0, 2, 0, 2, 2, 2, 2, 0, 2, 2, 2,\n",
       "       2, 2, 2, 0, 0, 2, 2, 2, 2, 0, 2, 0, 2, 0, 2, 2, 0, 2, 2, 2, 2, 2,\n",
       "       2, 0, 0, 2, 2, 2, 0, 2, 2, 2, 0, 2, 2, 2, 0, 2, 2, 0])"
      ]
     },
     "execution_count": 15,
     "metadata": {},
     "output_type": "execute_result"
    }
   ],
   "source": [
    "# we know iris dataset has 3 different flowers info so k=3\n",
    "# random_state - Determines random number generation for centroid initialization. \n",
    "# Use an int to make the randomness deterministic\n",
    "kmeans = KMeans(n_clusters=3, random_state=5) \n",
    "kmeans.fit(X); # computes KMeans clustering\n",
    "kmeans.labels_# predicted labels of each data point\n",
    "# kmeans.cluster_centers_"
   ]
  },
  {
   "cell_type": "code",
   "execution_count": 16,
   "metadata": {},
   "outputs": [
    {
     "data": {
      "text/plain": [
       "array([[5.80188679, 2.67358491, 4.36981132, 1.41320755],\n",
       "       [5.006     , 3.428     , 1.462     , 0.246     ],\n",
       "       [6.78085106, 3.09574468, 5.5106383 , 1.97234043]])"
      ]
     },
     "execution_count": 16,
     "metadata": {},
     "output_type": "execute_result"
    }
   ],
   "source": [
    "centroids = scaler.inverse_transform(kmeans.cluster_centers_)\n",
    "centroids"
   ]
  },
  {
   "cell_type": "markdown",
   "metadata": {},
   "source": [
    "#### Plotting the model outputs"
   ]
  },
  {
   "cell_type": "code",
   "execution_count": 17,
   "metadata": {},
   "outputs": [],
   "source": [
    "%matplotlib inline\n",
    "plt.rcParams['figure.figsize'] = 8,4  # this parameter is used to resize your figure"
   ]
  },
  {
   "cell_type": "code",
   "execution_count": 19,
   "metadata": {},
   "outputs": [
    {
     "data": {
      "text/plain": [
       "Index(['sepal length', 'sepal width', 'petal length', 'petal width'], dtype='object')"
      ]
     },
     "execution_count": 19,
     "metadata": {},
     "output_type": "execute_result"
    }
   ],
   "source": [
    "iris_df = pd.DataFrame(iris.data)\n",
    "iris_df.columns = [i.split(' (cm)')[0] for i in iris.feature_names]\n",
    "iris_df.columns "
   ]
  },
  {
   "cell_type": "code",
   "execution_count": 20,
   "metadata": {},
   "outputs": [
    {
     "data": {
      "text/plain": [
       "array(['a', 'b', 'a', 'a', 'b'], dtype='<U1')"
      ]
     },
     "execution_count": 20,
     "metadata": {},
     "output_type": "execute_result"
    }
   ],
   "source": [
    "# explanation of what is happening at c=color_theme[iris.target]\n",
    "a=np.array(['a', 'b'])\n",
    "b=np.array([0,1,0,0,1]) #'b' holds the indexes of elements\n",
    "a[b] # selecting your elements from a using b"
   ]
  },
  {
   "cell_type": "code",
   "execution_count": 21,
   "metadata": {},
   "outputs": [
    {
     "data": {
      "text/plain": [
       "Text(0.5, 1.0, 'K-Means Clustering')"
      ]
     },
     "execution_count": 21,
     "metadata": {},
     "output_type": "execute_result"
    },
    {
     "data": {
      "image/png": "[encoded data removed]",
      "text/plain": [
       "<Figure size 576x288 with 2 Axes>"
      ]
     },
     "metadata": {
      "needs_background": "light"
     },
     "output_type": "display_data"
    }
   ],
   "source": [
    "color_theme = np.array(['darkgray', 'lightsalmon', 'powderblue'])\n",
    "\n",
    "plt.subplot(1,2,1)  # creates a subplot with rows=1,cols=2,index=1 selected\n",
    "plt.scatter(x=iris_df['petal length'], y=iris_df['petal width'], c=color_theme[iris.target], s=50)\n",
    "plt.title(\"Ground Truth Classification\")\n",
    "\n",
    "plt.subplot(1,2,2)\n",
    "plt.scatter(x=iris_df['petal length'], y=iris_df['petal width'], c=color_theme[kmeans.labels_], s=50)\n",
    "plt.title(\"K-Means Clustering\")\n"
   ]
  },
  {
   "cell_type": "code",
   "execution_count": 22,
   "metadata": {},
   "outputs": [
    {
     "data": {
      "text/plain": [
       "array([8, 7, 6, 6, 7, 8])"
      ]
     },
     "execution_count": 22,
     "metadata": {},
     "output_type": "execute_result"
    }
   ],
   "source": [
    "# with np.choose(a, choices) we are creating a array with elements from 'choices' choosen/sequenced with index from 'a'.\n",
    "# https://docs.scipy.org/doc/numpy/reference/generated/numpy.choose.html\n",
    "#choices = [[0, 1, 2, 3], [10, 11, 12, 13],[20, 21, 22, 23], [30, 31, 32, 33]]\n",
    "choices = [6,7,8]\n",
    "correction_index = [2,1,0,0,1,2] # the index should not exceed the number of elements in choices.\n",
    "np.choose(correction_index, choices)"
   ]
  },
  {
   "cell_type": "code",
   "execution_count": 23,
   "metadata": {},
   "outputs": [
    {
     "data": {
      "text/plain": [
       "Text(0.5, 1.0, 'K-Means Clustering')"
      ]
     },
     "execution_count": 23,
     "metadata": {},
     "output_type": "execute_result"
    },
    {
     "data": {
      "image/png": "[encoded data removed]",
      "text/plain": [
       "<Figure size 576x288 with 2 Axes>"
      ]
     },
     "metadata": {
      "needs_background": "light"
     },
     "output_type": "display_data"
    }
   ],
   "source": [
    "# here we will relabel the predicted labels_ to correct the coloring\n",
    "#[0,1,2] --> Original label per iris dataset which stands for setosa(0), versicolor(1), verginica(2)\n",
    "#[1,0,2] --> Predicted labels per kmeans setosa(1), versicolor(0), verginica(2)\n",
    "relabel = np.choose(kmeans.labels_,[1,0,2]).astype(np.int64)\n",
    "\n",
    "plt.subplot(1,2,1)\n",
    "plt.scatter(x=iris_df['petal length'], y=iris_df['petal width'], c=color_theme[iris.target], s=50)\n",
    "plt.title(\"Ground Truth Classification\")\n",
    "\n",
    "plt.subplot(1,2,2)\n",
    "plt.scatter(x=iris_df['petal length'], y=iris_df['petal width'], c=color_theme[relabel], s=50)\n",
    "#plot the scaled centroids for our reference.\n",
    "plt.scatter(x=centroids[:,2], y=centroids[:,3], c='b', s=100, marker='*' )\n",
    "plt.title(\"K-Means Clustering\")"
   ]
  },
  {
   "cell_type": "code",
   "execution_count": 24,
   "metadata": {},
   "outputs": [
    {
     "data": {
      "text/plain": [
       "array([[-0.05021989, -0.88337647,  0.34773781,  0.2815273 ],\n",
       "       [-1.01457897,  0.85326268, -1.30498732, -1.25489349],\n",
       "       [ 1.13597027,  0.08842168,  0.99615451,  1.01752612]])"
      ]
     },
     "execution_count": 24,
     "metadata": {},
     "output_type": "execute_result"
    }
   ],
   "source": [
    "# now that kmeans has learnt the clustering, lets try to predict a new data.\n",
    "test_df = pd.DataFrame([\n",
    "    [5.1,3.5,1.4,0.2], # this is setosa(predicted code 1)\n",
    "    [7.0,3.2,4.7,1.4], # this is versicolor(predicted code 0)\n",
    "    [5.9,3.0,5.1,1.8], # this is a virginica( predected code 2)\n",
    "    [5.4,3.9,1.3,0.4], # setosa(predicted code 1)\n",
    "    [5.5,2.3,4.0,1.3], # versicolor(predicted code 0)\n",
    "    [6.2,3.4,5.4,2.3], # virginica( predected code 2)\n",
    "])\n",
    "test_df = scaler.transform(test_df)\n",
    "kmeans.cluster_centers_"
   ]
  },
  {
   "cell_type": "code",
   "execution_count": 25,
   "metadata": {},
   "outputs": [
    {
     "data": {
      "text/plain": [
       "array([1, 2, 0, 1, 0, 2])"
      ]
     },
     "execution_count": 25,
     "metadata": {},
     "output_type": "execute_result"
    }
   ],
   "source": [
    "#as you see setosa is correctly predeicted 100% times but sometimes versicolor and virginica are not predicted correctly.\n",
    "kmeans.predict(test_df)"
   ]
  },
  {
   "cell_type": "code",
   "execution_count": 26,
   "metadata": {},
   "outputs": [
    {
     "data": {
      "text/plain": [
       "array([[-0.05021989, -0.88337647,  0.34773781,  0.2815273 ],\n",
       "       [-1.01457897,  0.85326268, -1.30498732, -1.25489349],\n",
       "       [ 1.13597027,  0.08842168,  0.99615451,  1.01752612]])"
      ]
     },
     "execution_count": 26,
     "metadata": {},
     "output_type": "execute_result"
    }
   ],
   "source": [
    "kmeans.cluster_centers_"
   ]
  },
  {
   "cell_type": "markdown",
   "metadata": {},
   "source": [
    "### Clustering performance evaluation - https://scikit-learn.org/stable/modules/clustering.html#clustering-performance-evaluation\n",
    "1. __from sklearn import metrics__\n",
    "1. Evaluating the performance of a clustering algorithm is not as trivial as counting the number of errors or the precision and recall of a supervised classification algorithm. In particular any evaluation metric should not take the absolute values of the cluster labels into account but rather if this clustering define separations of the data similar to some ground truth set of classes or satisfying some assumption such that members belong to the same class are more similar than members of different classes according to some similarity metric.\n",
    "2. __Adjusted Rand Index__: Given the knowledge of the ground truth class assignments labels_true and our clustering algorithm assignments of the same samples labels_pred, the adjusted Rand index is a function that measures the similarity of the two assignments, ignoring permutations and with chance normalization:\n",
    "    * see below code\n",
    "    * Perfect labeling is scored 1.0\n",
    "    * Bad labeling can be 0.0 or negative"
   ]
  },
  {
   "cell_type": "code",
   "execution_count": 27,
   "metadata": {},
   "outputs": [
    {
     "name": "stdout",
     "output_type": "stream",
     "text": [
      "0.7058823529411765\n",
      "0.7058823529411765\n"
     ]
    }
   ],
   "source": [
    "#label_true = [0,0,0,1,1,1]  \n",
    "#label_pred = [1,1,1,0,0,0] # sequence of clustering labels doesn't matter\n",
    "label_true = [0,0,0,1,1,1]  \n",
    "label_pred = [2,2,0,3,3,3] # we can premute the labels, we can leave it normalised.\n",
    "#label_true = [0,0,0,1,1,1]  \n",
    "#label_pred = [1,2,5,4,2,3] # score as negative\n",
    "print(metrics.adjusted_rand_score(label_true, label_pred))\n",
    "print(metrics.adjusted_rand_score(label_pred, label_true)) # this gives the same score as above, arguments are symmetric"
   ]
  },
  {
   "cell_type": "code",
   "execution_count": 28,
   "metadata": {},
   "outputs": [
    {
     "name": "stdout",
     "output_type": "stream",
     "text": [
      "0.6201351808870379\n",
      "0.45994823920518635\n"
     ]
    }
   ],
   "source": [
    "label_true = y[0].tolist()\n",
    "label_pred = kmeans.labels_ # using relabel gives the same result\n",
    "\n",
    "print(metrics.adjusted_rand_score(label_true, label_pred))#Ground truth is known\n",
    "print(metrics.silhouette_score(X, kmeans.labels_, metric='euclidean')) #Ground truth is not known"
   ]
  },
  {
   "cell_type": "code",
   "execution_count": 35,
   "metadata": {},
   "outputs": [
    {
     "name": "stdout",
     "output_type": "stream",
     "text": [
      "              precision    recall  f1-score   support\n",
      "\n",
      "           0       1.00      1.00      1.00        50\n",
      "           1       0.74      0.78      0.76        50\n",
      "           2       0.77      0.72      0.74        50\n",
      "\n",
      "    accuracy                           0.83       150\n",
      "   macro avg       0.83      0.83      0.83       150\n",
      "weighted avg       0.83      0.83      0.83       150\n",
      "\n"
     ]
    }
   ],
   "source": [
    "# we shouldn't be using classification report here as we know we are not performing classification we are doing clustering. \n",
    "#Just because we have used a classification example we can use it just for reference to above clustering score.\n",
    "print(classification_report(y, relabel))"
   ]
  },
  {
   "cell_type": "markdown",
   "metadata": {},
   "source": [
    "## Bias and Variance and tradeoff \n",
    "We know that in ML we are trying to predict the function f(), given y and X.Here we are trying to predict the function f^() as close as possible to the __\"Ground truth\"__(true) function f().\n",
    "1. __Bias__ : Bias tells us how much our model __f^(x)__ is different from our ground truth model __f(x)__ if I use n different samples of training data from the dataset. As you can see if we use a linear regression for a model with ground truth as sinusidal wave. We will always get a stright line, which is very different from our ground truth, hence this has a __High Bias__. But for every different sample in dataset the linear line is pretty similar, hence it has __Low Variance__.\n",
    "<img src=\"images/image92.png\" align = \"middle\" style=\"width:300px; height:200px;\"/>\n",
    "2. __Variance__: Variance will tell how much my model will vary if I use n different samples of training data from the dataset. If we use a polinomial (say degree 25) we will have curve which will fit our ground truth function pretty nicely, hence we say the polinomial regression has __Low Bias__. But we will get more variance in the sinusidal curve if we use n differetn sample from the dataset, hence we say that this poli regression has __High Variance__.\n",
    "3. Overfitting happens when the model is too complex relative to the amount and noisiness of the training data. The possible solutions are:\n",
    "    * To simplify the model by selecting one with fewer parameters (e.g., a linear model rather than a high-degree polynomial model), by reducing the number of attributes/features in the training data or by constraining the model.\n",
    "    * to gather more training data.\n",
    "    * To reduce e noise in the traininf data (e.g fix data errors and remove outliers)\n",
    "    \n",
    "1. __high bias and low variance__: In this kind of modelling where the model misses the little attentions to training data and over generalise the algorithm are said to have __high Bias__ and are called as __underfitted__ in training phase. Since the generalization is good these model perform well in testing phase.\n",
    "<img src=\"images/image17.png\" align = \"middle\" style=\"width:300px; height:200px;\"/>\n",
    "<img src=\"images/image18.png\" align = \"middle\" style=\"width:300px; height:200px;\"/> \n",
    "12. __Underfitting__ : it occurs when your model is too simple to learn the underlying structure of the data. Reality is just more complex than the model, so its predictions are bound to be inaccurate. The main options to fix this problem are:\n",
    "    * Selecting a more powerful model, with more parameters\n",
    "    * Feeding better features to the learning algorithm (feature engineering)\n",
    "    * Reducing the constraints on the model (e.g., reducing the regularization hyperparameter)\n",
    "    \n",
    "2. __high variance and low bias__ : On the other hand if we are using a polynomial regression, it is super flexible and hugs the training set along the arc of the true function (hence have __low bias__). Here the polynomial regression pays lots of attention to the training data (so they have __high variance__ )and does not generalise well on data which it hasn't seen before. As a result, such model perform very well on training data but have high error rates on test data. This kind of model is said to be __overfitted__ in training phase, because the algorithm models th erandom noise in the training data, rather than the intended outputs.\n",
    "\n",
    "3. The fact here is Liner regression which has __high bias__, will have __low variance__ due to generalisation during training phase. And polynomial regression will have __low bias__ in training phase, but will have __high variance in__ testing phase.\n",
    "4. Another fact is its not possible to have a ideal model which will have low bais and low variance. Hence there has to be a __trade-off__ between the two. An __optimal balance of bias and variance would never overfit or underfit the model__. To build a good model, we need to find a good balance between bias and variance such that it minimizes the total error. \n",
    "                total error = Bias^2+Variance+Irreducible Error  \n",
    "\n",
    "6. But we are actually interested in Test Error - which is the error we get with the predicted data. We basically want to minimize this. To minimize the error we will have to have a good trade off point between Bias and Variance. So check the below image we are looking for this sweet spot the trade off at center which is th ideal model complexity. This is achieved through __Regularization__.\n",
    "  \n",
    "<img src=\"images/image16.png\" align = \"middle\" style=\"width:200px; height:200px;\"/> \n",
    "5. These Bias and Variance is seen mainly in predictive modelling of Supervised Learning Algorithm namely Classification and Regression.\n",
    "7. __Regularization__ : Constraining a model to make it simpler and reduce the risk of overfitting is called regularization. \n",
    "    * You want to find the right balance between fitting the training data perfectly and keeping the model simple enough to ensure that it will generalize well. Page 29 HOML by AG\n",
    "    * The amount of regularization to apply during learning can be controlled by a hyperparameter. A hyperparameter is a parameter of a learning algorithm (not of the model). As such, it is not affected by the learning algorithm itself; it must be set prior to training and remains constant during training. Tuning hyperparameters is an important part of building a Machine Learning system\n",
    "    * https://www.youtube.com/watch?v=gyGMaNUaeic\n",
    " \n",
    "6. Reference:\n",
    "    * Mitesh Khapra - https://www.youtube.com/watch?v=Y0m136XU65o\n",
    "    * Josh Stamer - https://www.youtube.com/watch?v=Y0m136XU65o\n",
    "    * https://towardsdatascience.com/understanding-the-bias-variance-tradeoff-165e6942b229"
   ]
  },
  {
   "cell_type": "markdown",
   "metadata": {},
   "source": [
    "## Cross-Validation - https://scikit-learn.org/stable/modules/cross_validation.html\n",
    "1. It is common practice when performing a __(supervised) machine learning__ experiment to hold out part of the available data as a test set X_test, y_test using train_test_split() method of scikit.\n",
    "2. __train_test_split__ - This is the simplest way to split the dataset. __Split arrays or matrices into random train and test subsets__. But problem with it is that since we split it randomly it may happen that the training data get overly saturated with one type of data and the model may have poor performance on test data. This will result in __overfitting__. That is were Cross-Vlidation comes in picture.\n",
    "    * https://scikit-learn.org/stable/modules/generated/sklearn.model_selection.train_test_split.html?highlight=train_test_split#sklearn.model_selection.train_test_split\n",
    "\n",
    "3. To solve the problem with train_test_split overfitting, yet another part of the dataset can be held out as a so-called “validation set”: training proceeds on the training set, after which evaluation is done on the validation set, and when the experiment seems to be successful, final evaluation can be done on the test set. This is called as __Cross-Validation__. Its important to note that the trained model is trained using all the training dataset(inclusing validation) except the testing dataset.\n",
    "<img src='images/image93.png' style='width:300px;height:200px' />\n",
    "3. __How do you know if your model is OVERFIT__ ? So we start with train_test_split with validation set. We get a accuracy on training set after validating it against validation set. Now when we evaluvate your model against 'test set' you get an estimate how well your model generalizes on the data it has never seen before. This is called as  generalization error. And if your accuracy (error on training set) is better than error on test set (generalization error accuracy is low). That means your model has overfit the training set.\n",
    "2.  __Cross validation__ allows us to avoid overfitting and used in hyperparameter tuning.\n",
    "2. There are different techniques in cross-validation. like K-fold(default basic approach), Stratified K-fold, . Leave One Out (LOO), Leave P Out(LPO) etc etc.\n",
    "3. __K-Fold CV/Default CV__: In k-fold cross-validation, you split the training data into k subsets of data (also known as folds). You train an ML model on all but one (k-1) of the subsets, and then evaluate the model on the subset that was not used for training. This process is repeated k times, with a different subset reserved for evaluation (and excluded from training) each time. Then the accuracy is averaged out. The performance measure reported by k-fold cross-validation is then the average of the values computed in the loop.\n",
    "    * The __dis-advantages__ with this is that, what if one type of data overload in test/training fold. Then the accuracy of overall model will fall.  \n",
    "<img src=\"images/image94.png\" align = \"middle\" style=\"width:600px; height:250px;\"/> \n",
    "4. __Stratified K-fold CV__: In some cases, there may be a large imbalance in the response variables. For example, in dataset concerning price of houses, there might be large number of houses having high price. Or in case of classification, there might be several times more negative samples than positive samples. For such problems, a slight variation in the K Fold cross validation technique is made, such that each fold contains approximately the same percentage of samples of each target class as the complete set, or in case of prediction problems, the mean response value is approximately equal in all the folds. This variation is also known as Stratified K Fold. Another major difference between KFold and SKFold is that in stratified you need to supply both X and y labels to teh .split(), bacause Stratifying is done on the y lables. Where as in KFold just X si enough.\n",
    "5. __Time Series CV__: Splitting a time-series dataset randomly does not work because the time section of your data will be messed up. For a time series forecasting problem, we perform cross validation in the following manner.\n",
    "<img src=\"images/image20.png\" align = \"middle\" style=\"width:600px; height:150px;\"/> \n",
    "5. Reference:\n",
    "    * https://en.wikipedia.org/wiki/Cross-validation_(statistics)\n",
    "    * john Stamer - https://www.youtube.com/watch?v=fSytzGwwBVw\n",
    "    * https://www.analyticsvidhya.com/blog/2018/05/improve-model-performance-cross-validation-in-python-r/"
   ]
  },
  {
   "cell_type": "markdown",
   "metadata": {},
   "source": [
    "### train_test_split"
   ]
  },
  {
   "cell_type": "code",
   "execution_count": 68,
   "metadata": {},
   "outputs": [
    {
     "name": "stdout",
     "output_type": "stream",
     "text": [
      "              precision    recall  f1-score   support\n",
      "\n",
      "           0       1.00      1.00      1.00        25\n",
      "           1       0.95      1.00      0.97        19\n",
      "           2       1.00      0.94      0.97        16\n",
      "\n",
      "    accuracy                           0.98        60\n",
      "   macro avg       0.98      0.98      0.98        60\n",
      "weighted avg       0.98      0.98      0.98        60\n",
      "\n",
      "***************************\n",
      "classification score:  0.9833333333333333\n"
     ]
    }
   ],
   "source": [
    "#Simplest method of train_test_split with out CV\n",
    "X, y = datasets.load_iris(return_X_y=True)\n",
    "X_train, X_test, y_train, y_test = train_test_split(X, y, test_size=0.4, random_state=32)\n",
    "clf = KNeighborsClassifier(n_neighbors=11, p=2, metric='euclidean')\n",
    "clf.fit(X_train, y_train)\n",
    "clf_pred = clf.predict(X_test)\n",
    "print(classification_report(y_test, clf_pred))\n",
    "print(\"***************************\")\n",
    "print(\"classification score: \", clf.score(X_test, y_test)) # .score() will first call a predict and then calculate the accuracy\n",
    "\n",
    "# Another Example Basic train_test_split wihtout CV using regression and diabettic dataset\n",
    "# X1, y1 = datasets.load_diabetes(return_X_y=True)\n",
    "# X1_train, X1_test, y1_train, y1_test = train_test_split(X1, y1, test_size=0.2, random_state=32)\n",
    "# clf = LinearRegression()\n",
    "# clf.fit(X1, y1)\n",
    "# clf_pred = clf.predict(X1_test)\n",
    "# clf.score(X1_test, y1_test)"
   ]
  },
  {
   "cell_type": "markdown",
   "metadata": {},
   "source": [
    "### K-Fold Cross Validation"
   ]
  },
  {
   "cell_type": "code",
   "execution_count": 99,
   "metadata": {},
   "outputs": [],
   "source": [
    "# Basic usage of KFold\n",
    "# see how the output is divided into 3 parts.\n",
    "kf = KFold(n_splits=3, random_state=None)"
   ]
  },
  {
   "cell_type": "code",
   "execution_count": 100,
   "metadata": {},
   "outputs": [
    {
     "name": "stdout",
     "output_type": "stream",
     "text": [
      "[3 4 5 6 7 8] [0 1 2]\n",
      "[0 1 2 6 7 8] [3 4 5]\n",
      "[0 1 2 3 4 5] [6 7 8]\n",
      "***************************\n",
      "              precision    recall  f1-score   support\n",
      "\n",
      "           0       1.00      1.00      1.00         3\n",
      "\n",
      "    accuracy                           1.00         3\n",
      "   macro avg       1.00      1.00      1.00         3\n",
      "weighted avg       1.00      1.00      1.00         3\n",
      "\n",
      "***************************\n",
      "1.0\n"
     ]
    }
   ],
   "source": [
    "X2 = [1,2,3,4,5,6,7,8,9]\n",
    "clf = KNeighborsClassifier(n_neighbors=3, p=2, metric='euclidean')\n",
    "for train_index, test_index in kf.split(X2):\n",
    "    print( train_index, test_index)\n",
    "    X_train, X_test, y_train, y_test = X[train_index], X[test_index], y[train_index], y[test_index]\n",
    "clf.fit(X_train, y_train)\n",
    "clf_pred = clf.predict(X_test)\n",
    "print(\"***************************\")\n",
    "print(classification_report(y_test, clf_pred))\n",
    "print(\"***************************\")\n",
    "print(clf.score(X_test, y_test))\n",
    "# Whole of the above functionality is summed in cross_val_score() function"
   ]
  },
  {
   "cell_type": "markdown",
   "metadata": {},
   "source": [
    "1. The simplest way to use cross-validation is to call the cross_val_score helper function on the estimator and the dataset.\n",
    "\n",
    "2. The following example demonstrates how to estimate the accuracy of a linear kernel support vector machine on the iris dataset by splitting the data, fitting a model and computing the score 5 consecutive times (with different splits each time):\n"
   ]
  },
  {
   "cell_type": "code",
   "execution_count": 71,
   "metadata": {},
   "outputs": [
    {
     "name": "stdout",
     "output_type": "stream",
     "text": [
      "[0.93333333 1.         1.         0.96666667 1.        ]\n",
      "Accuracy: 0.98 (+/- 0.05)\n"
     ]
    }
   ],
   "source": [
    "# Keep in mind that we are giving X and y as the input and not X_train and y_train\n",
    "KnnClf = KNeighborsClassifier(n_neighbors=11, p=2, metric='euclidean')\n",
    "# cross_cal_score is just a method which uses either KFolf or StrtifiedKFold (Check the documentation which one is used when\n",
    "# then gives a list of score on each iteration on model. SO you can see min, ma and mean of the accuracy score.\n",
    "scores = cross_val_score(KnnClf, X, y, cv=5)  #cv=5 means 5 fold\n",
    "print(scores)\n",
    "print(\"Accuracy: %0.2f (+/- %0.2f)\" % (scores.mean(), scores.std() * 2))"
   ]
  },
  {
   "cell_type": "code",
   "execution_count": 77,
   "metadata": {},
   "outputs": [
    {
     "name": "stdout",
     "output_type": "stream",
     "text": [
      "[0.93333333 1.         1.         0.96658312 1.        ]\n",
      "Accuracy: 0.98 (+/- 0.05)\n"
     ]
    }
   ],
   "source": [
    "# By default, the score computed at each CV iteration is the score method of the estimator(here Kneighbours). \n",
    "# It is possible to change this by using the scoring parameter: \n",
    "# https://scikit-learn.org/stable/modules/model_evaluation.html#scoring-parameter\n",
    "scores = cross_val_score(KnnClf, X, y, cv=5, scoring='f1_macro')\n",
    "print(scores)\n",
    "print(\"Accuracy: %0.2f (+/- %0.2f)\" % (scores.mean(), scores.std() * 2))\n",
    "# In the case of the Iris dataset, the samples are balanced across target classes \n",
    "# hence the accuracy and the F1-score are almost equal."
   ]
  },
  {
   "cell_type": "code",
   "execution_count": 83,
   "metadata": {
    "scrolled": true
   },
   "outputs": [
    {
     "name": "stdout",
     "output_type": "stream",
     "text": [
      "[0.97777778 0.93333333 0.93333333 0.91111111 0.97777778]\n",
      "Accuracy: 0.95 (+/- 0.05)\n"
     ]
    }
   ],
   "source": [
    "# Keep in mind that we are giving X and y as the input and not X_train and y_train\n",
    "# When the cv argument is an integer, cross_val_score uses the KFold or StratifiedKFold strategies by default, \n",
    "# the latter being used if the estimator derives from ClassifierMixin.\n",
    "DtreeClf = tree.DecisionTreeClassifier()\n",
    "cv = ShuffleSplit(n_splits=5, test_size=0.3, random_state=0)\n",
    "scores = cross_val_score(DtreeClf, X, y, cv=cv)\n",
    "print(scores)\n",
    "print(\"Accuracy: %0.2f (+/- %0.2f)\" % (scores.mean(), scores.std() * 2))"
   ]
  },
  {
   "cell_type": "markdown",
   "metadata": {},
   "source": [
    "#### The cross_validate function differs from cross_val_score in two ways:\n",
    "\n",
    "    * It allows specifying multiple metrics for evaluation.\n",
    "    * It returns a dict containing fit-times, score-times (and optionally training scores as well as fitted estimators) in addition to the test score.\n"
   ]
  },
  {
   "cell_type": "code",
   "execution_count": 86,
   "metadata": {},
   "outputs": [
    {
     "data": {
      "text/plain": [
       "array([0.93333333, 1.        , 1.        , 0.96666667, 1.        ])"
      ]
     },
     "execution_count": 86,
     "metadata": {},
     "output_type": "execute_result"
    }
   ],
   "source": [
    "KnnClf = KNeighborsClassifier(n_neighbors=11, p=2, metric='euclidean')\n",
    "scoring = ['precision_macro', 'recall_macro']\n",
    "scores = cross_validate(clf, X, y, scoring=scoring)\n",
    "sorted(scores.keys())\n",
    "scores['test_recall_macro']"
   ]
  },
  {
   "cell_type": "code",
   "execution_count": 97,
   "metadata": {},
   "outputs": [
    {
     "data": {
      "image/png": "[encoded data removed]",
      "text/plain": [
       "<Figure size 576x288 with 1 Axes>"
      ]
     },
     "metadata": {
      "needs_background": "light"
     },
     "output_type": "display_data"
    },
    {
     "data": {
      "text/plain": [
       "array([0, 0, 0, 0, 0, 0, 0, 0, 0, 0, 0, 0, 0, 0, 0, 0, 0, 0, 0, 0, 0, 0,\n",
       "       0, 0, 0, 0, 0, 0, 0, 0, 0, 0, 0, 0, 0, 0, 0, 0, 0, 0, 0, 0, 0, 0,\n",
       "       0, 0, 0, 0, 0, 0, 1, 1, 1, 1, 1, 1, 1, 1, 1, 1, 1, 1, 1, 1, 1, 1,\n",
       "       1, 1, 1, 1, 1, 1, 1, 1, 1, 1, 1, 2, 1, 1, 1, 1, 1, 2, 1, 1, 1, 1,\n",
       "       1, 1, 1, 1, 1, 1, 1, 1, 1, 1, 1, 1, 2, 2, 2, 2, 2, 2, 1, 2, 2, 2,\n",
       "       2, 2, 2, 2, 2, 2, 2, 2, 2, 2, 2, 2, 2, 2, 2, 2, 1, 2, 2, 2, 2, 2,\n",
       "       2, 2, 2, 2, 2, 2, 1, 2, 2, 2, 2, 2, 2, 2, 2, 2, 2, 2])"
      ]
     },
     "execution_count": 97,
     "metadata": {},
     "output_type": "execute_result"
    }
   ],
   "source": [
    "# Obtaining predictions by cross-validation and plotting\n",
    "# cross_val_predict returns an array of the same size as `y` where each entry\n",
    "# is a prediction obtained by cross validation:\n",
    "X, y = datasets.load_iris(return_X_y=True)\n",
    "clf = KNeighborsClassifier(n_neighbors=11, p=2, metric='euclidean')\n",
    "# clf = LinearRegression()\n",
    "# X, y = datasets.load_diabetes(return_X_y=True)\n",
    "predicted = cross_val_predict(clf, X, y, cv=10)\n",
    "fig, ax = plt.subplots()\n",
    "ax.scatter(y, predicted, edgecolors=(0, 0, 0))\n",
    "ax.plot([y.min(), y.max()], [y.min(), y.max()], 'k--', lw=4)\n",
    "ax.set_xlabel('Measured')\n",
    "ax.set_ylabel('Predicted')\n",
    "plt.show()\n",
    "predicted"
   ]
  },
  {
   "cell_type": "markdown",
   "metadata": {},
   "source": [
    "### Stratifies K-Fold CV"
   ]
  },
  {
   "cell_type": "code",
   "execution_count": 41,
   "metadata": {},
   "outputs": [
    {
     "name": "stdout",
     "output_type": "stream",
     "text": [
      "[0.9333333333333333, 1.0, 1.0, 0.9666666666666667, 1.0]\n"
     ]
    },
    {
     "data": {
      "text/plain": [
       "0.9800000000000001"
      ]
     },
     "execution_count": 41,
     "metadata": {},
     "output_type": "execute_result"
    }
   ],
   "source": [
    "# Here SKF tries to create a balanced KFold.\n",
    "# we will use KNN here to find the accuracu using SKF\n",
    "clf = KNeighborsClassifier(n_neighbors=11, p=2, metric='euclidean') \n",
    "\n",
    "skf = StratifiedKFold(n_splits=5, random_state=None)  # n_splits is same as cv=5 above\n",
    "accuracy = []\n",
    "\n",
    "# NOte that in strtified K fold y is required, where as in Kfold its not\n",
    "# Thats because strtification happends on y values.\n",
    "for train_index, test_index in skf.split(X, y):\n",
    "    #print(\"TRAIN:\", train_index, \"TEST:\", test_index)\n",
    "    X_train, X_test = X[train_index], X[test_index]\n",
    "    y_train, y_test = y[train_index], y[test_index]\n",
    "    \n",
    "    clf.fit(X_train, y_train)\n",
    "    predictions = clf.predict(X_test)\n",
    "    scores = accuracy_score(y_test, predictions)\n",
    "    accuracy.append(scores)\n",
    "    \n",
    "print(accuracy)\n",
    "np.array(accuracy).mean()"
   ]
  },
  {
   "cell_type": "code",
   "execution_count": 42,
   "metadata": {},
   "outputs": [
    {
     "name": "stdout",
     "output_type": "stream",
     "text": [
      "Score Card - [0.97777778 0.95555556 0.97777778 0.91111111 0.97777778] \n",
      "Mean - 0.96\n"
     ]
    }
   ],
   "source": [
    "# https://scikit-learn.org/stable/modules/cross_validation.html#computing-cross-validated-metrics\n",
    "# When the cv argument is an integer, cross_val_score uses the KFold or StratifiedKFold strategies by default, \n",
    "# the latter being used if the estimator derives from ClassifierMixin.\n",
    "# It is also possible to use other cross validation strategies by passing a cross validation iterator instead, for instance:\n",
    "from sklearn.model_selection import ShuffleSplit\n",
    "cv = ShuffleSplit(n_splits=5, test_size=0.3, random_state=0) # we can use \n",
    "score = cross_val_score(clf, X, y, cv=cv)\n",
    "print(\"Score Card - {} \\nMean - {}\".format(score, score.mean()))"
   ]
  },
  {
   "cell_type": "code",
   "execution_count": 43,
   "metadata": {},
   "outputs": [
    {
     "name": "stdout",
     "output_type": "stream",
     "text": [
      "Score Card - [0.93333333 1.         1.         0.96666667 1.        ] \n",
      "Mean - 0.9800000000000001\n"
     ]
    }
   ],
   "source": [
    "# using cross_val_score\n",
    "score = cross_val_score(clf, X, y, cv=skf)\n",
    "print(\"Score Card - {} \\nMean - {}\".format(score, score.mean()))"
   ]
  },
  {
   "cell_type": "code",
   "execution_count": 44,
   "metadata": {},
   "outputs": [
    {
     "data": {
      "text/plain": [
       "array([0, 0, 0, 0, 0, 0, 0, 0, 0, 0, 1, 1, 1, 1, 1, 1, 1, 1, 1, 1, 2, 2,\n",
       "       2, 2, 2, 2, 2, 2, 2, 2])"
      ]
     },
     "execution_count": 44,
     "metadata": {},
     "output_type": "execute_result"
    }
   ],
   "source": [
    "clf.predict(X_test)"
   ]
  },
  {
   "cell_type": "code",
   "execution_count": 45,
   "metadata": {},
   "outputs": [
    {
     "data": {
      "text/plain": [
       "array([0.        , 0.        , 0.        , 0.        , 0.        ,\n",
       "       0.        , 0.        , 0.        , 0.        , 0.        ,\n",
       "       1.        , 0.90909091, 1.        , 1.        , 1.        ,\n",
       "       1.        , 1.        , 1.        , 1.        , 1.        ,\n",
       "       0.        , 0.09090909, 0.18181818, 0.        , 0.        ,\n",
       "       0.09090909, 0.18181818, 0.09090909, 0.        , 0.27272727])"
      ]
     },
     "execution_count": 45,
     "metadata": {},
     "output_type": "execute_result"
    }
   ],
   "source": [
    "clf.predict_proba(X_test)\n",
    "clf.predict_proba(X_test)[:,1]"
   ]
  },
  {
   "cell_type": "markdown",
   "metadata": {},
   "source": [
    "### Connecting to Database:"
   ]
  },
  {
   "cell_type": "code",
   "execution_count": 3,
   "metadata": {
    "code_folding": []
   },
   "outputs": [],
   "source": [
    "# Create your connection.\n",
    "#cnx = sqlite3.connect('database.sqlite')\n",
    "#df = pd.read_sql_query(\"SELECT * FROM Player_Attributes\", cnx)"
   ]
  },
  {
   "cell_type": "markdown",
   "metadata": {},
   "source": [
    "# Regression"
   ]
  },
  {
   "cell_type": "markdown",
   "metadata": {},
   "source": [
    "\n",
    "## Linear Regression from Statistic Point of View:\n",
    "\n",
    "1. https://www.youtube.com/watch?v=ZkjP5RJLQF4\n",
    "1. https://www.youtube.com/watch?v=iAgYLRy7e20\n",
    "2. https://machinelearningmastery.com/linear-regression-for-machine-learning/\n",
    "2. __Example scenario to refer__: Let’s assume you are a restaurant owner who is looking to develop a model which will allow you to make a prediction of what amount of tip to expect for a given amount of bill. Most of the time the tip amount is related to the total amount of bill.\n",
    "3. Regression allows us to model the relationship between 2 or more variables using algebra.\n",
    "4. There are two kinds of variables:\n",
    "    1. __Independent variable__: An independent variable is the variable that is changed or controlled in a scientific experiment to test the effects on the dependent variable. Here total bill is a independent variable \n",
    "    2. __Dependent variable__: A dependent variable is the variable being tested and measured in a scientific experiment. Here “tip” amount is a dependant variable.\n",
    "5. Given a scenario to predict the next tip amount, given only a single variable(this case the dependent variable - the tip amount). The best way to predict is the mean value.\n",
    "<img src='images/image98.png' style='width:450px;height:300px'/>\n",
    "6. __Residuals/Errors__: The distance of the data points from the “best fit” line is called the residuals/errors. When we square the residuals and sum them we get what is called as Sum of Squared Errors (SSE)\n",
    "7. __Definition of Linear Regression__: The goal of simple linear regression is to create a linear model that minimizes the sum of squared errors (SSE)\n",
    "<img src='images/image99.png' style='width:450px;height:300px'/>\n",
    "8. __Linear regression using least square method__ : \n",
    "    1. First step in calculating the regression line is to find out if there is a good correlation between the two variables. Read https://www.mathsisfun.com/data/correlation.html\n",
    "    <img src='images/image100.png' style='width:450px;height:300px'/> \n",
    "    This is to make sure that there is good correlation between the two variables. Calculated using this https://www.mathsisfun.com/data/correlation-calculator.html\n",
    "    2. When two variables have no relationship, there is no straight-line relationship or non-linear relationship. When one variable changes, it does not influence the other variable.\n",
    "    3. Then the general equation for calculating a Linear Regression is y = b0 +b1x. Where y is the dependent variable, b0 is the y-crossing and b1 is the slope of the line and x is the independent variable.\n",
    "    <img src='images/image101.png' style='width:450px;height:300px'/>\n",
    "    4. Using the above formula it comes to y = 0.1462x - .8188 as the regression line. You need not have to calculate the regression line all by yourself. Scikit learn will do it for you. But what is important is to know how to interpret it and the concept behind it.\n",
    "    <img src='images/image102.png' style='width:450px;height:300px'/>\n",
    "    5. Now let us take the sum of squared error. The SSE has reduced to 30.075 which is a significant reduction. So this regression model is a good fit.\n",
    "    <img src='images/image103.png' style='width:450px;height:300px'/>\n",
    "\n",
    "9. The best fit regression line will/must pass through the Centroid. Centroid is the point where the mean of both the variables(dependent and independent) meet.\n",
    "<img src='images/image104.png' style='width:450px;height:300px'/>\n",
    "10. Multiple Linear Regression: \n",
    "    1. Example to refer:\n",
    "    <img src='images/image105.png' style='width:450px;height:300px'/>\n",
    "    2. What is multiple regression: It's the same as linear regression. Here we will have more than one independent variable which will be utilized to predict the value of one depend variable. If linear regression is line then multiple regression can be thought of as an plane in 2D with 2 IVs.\n",
    "    3. __OVERFITTING__ : Adding more independent variable to a multiple regression does not mean the regression will be better or offer better predictions ; in fact it can make things worse and this is called OVERFITTING. So to get a better prediction model the trick/idea is to pick the best independent variable.\n",
    "    4. __Multicollinearity__ : When we have multiple independent variables to consider, there arises another problem where the independent variables will have some correlation among themself in addition to sharing a correlation with the dependent variable.Also since the independent variables are related to each other we are really not sure which one is actually explaining the variation in the dependent variable.\n",
    "    5. Equation: \n",
    "    <img src='images/image106.png' style='width:450px;height:300px'/>\n",
    "    <img src='images/image107.png' style='width:450px;height:300px'/>\n",
    "    6. Steps to prepare the regression model:\n",
    "    <img src='images/image108.png' style='width:450px;height:300px'/>\n",
    "    7. For the above example of the delivery time prediction we have 3 independent variables and 1 dependent variable. So we have a total of 6 (IV to DV and IV to IV) relationships to analyze.\n",
    "    8. __IV to DV relationship analysis__: The miles travelled and the numDelivered are highly correlated to the traveltime(y). Whereas the gas price is very weakly correlated to the traveltime(y). So we will drop the gas price IV in our multiple regression analysis. But just for learning purposes we will keep the gas price to see how it affects the MR in a negative way.\n",
    "    <img src='images/image109.png' style='width:450px;height:300px'/> \n",
    "    What is p doing in correlation - correlation has a $H_0$ Null hypothesis which states that 2 variable under test have no correlation. Thus the p<0.005 means here that we can reject the Null Hypothesis. https://analyse-it.com/docs/user-guide/multivariate/independence-hypothesis-test#:~:text=For%20a%20product%2Dmoment%20correlation,greater%20than)%20the%20hypothesized%20value.\n",
    "\n",
    "    9. IV to IV relationship : Here the milesTravelled and numDelivered are highly correlated and cause multicollinearity issues. The other 2 are not correlated so does not cause that much of an issue.\n",
    "    <img src='images/image110.png' style='width:450px;height:300px'/>\n",
    "    10. summery: <img src='images/image111.png' style='width:450px;height:300px'/>\n",
    "    11. Next step: <img src='images/image112.png' style='width:450px;height:300px'/>\n",
    "11. https://www.youtube.com/watch?v=wPJ1_Z8b0wk - Watch this complete video to know exactly how its done. Dont skip.\n"
   ]
  },
  {
   "cell_type": "markdown",
   "metadata": {
    "code_folding": []
   },
   "source": [
    "## Logistic Regression:\n",
    "* https://www.youtube.com/watch?v=zAULhNrnuL4&list=PLIeGtxpvyG-JmBQ9XoFD4rs-b3hkcX7Uu&index=1\n",
    "1. A binomial logistic regression (often referred to simply as logistic regression), predicts the probability that an observation falls into one of two categories of a dichotomous dependent variable based on one or more independent variables that can be either continuous or categorical.\n",
    "<img src='images/image116.png' style='width:450px;height:300px'/>\n",
    "<img src='images/image117.png' style='width:450px;height:300px'/>\n",
    "<img src='images/image118.png' style='width:450px;height:300px'/>\n",
    "2. The scattered plot in this situation doesn’t make any sense ? \n",
    "<img src='images/image119.png' style='width:450px;height:300px'/>\n",
    "3. __Why Logistic and why not linear or multiple regression__:  Linear regression is used when we want to predict a quantitative dependent variable based on another quantitative independent variable. And in our case approve or not approve is not a quantitative DV. \n",
    "<img src='images/image120.png' style='width:450px;height:300px'/>"
   ]
  },
  {
   "cell_type": "markdown",
   "metadata": {},
   "source": [
    "## r-squared and adjusted r-squared and r-squared predicted: \n",
    "1. __r-squared__: R-squared is a statistical measure of how __close the data__ are to the fitted regression line. It is also known as the __coefficient of determination__, or the coefficient of multiple determination for multiple regression.\n",
    "    * R-squared = Explained variation / Total variation\n",
    "    * https://en.wikipedia.org/wiki/Coefficient_of_determination - check out the figure it explains the formula\n",
    "    * R-squared is always between 0 and 100% - say a 29% R-squared mean that 29% of data points fall on the regression line.\n",
    "    * In general, the higher the R-squared, the better the model fits your data.\n",
    "    * r-square is inversely proportional to SSE\n",
    "    * r-sq value can be sometimes misleading - In multiple linear regression It’s so easy to add more variables as you think of them, or just because the data are handy. You can add higher-order polynomials to bend and twist that fitted line as you like, but are you fitting real patterns or just connecting the dots? All the while, the R-squared (R2) value increases, teasing you, and egging you on to add more variables!.\n",
    "    * R-squared does not indicate whether a regression model is adequate. You can have a low R-squared value for a good model, or a high R-squared value for a model that does not fit the data!\n",
    "    * https://blog.minitab.com/blog/adventures-in-statistics-2/multiple-regession-analysis-use-adjusted-r-squared-and-predicted-r-squared-to-include-the-correct-number-of-variables#:~:text=The%20adjusted%20R%2Dsquared%20is,less%20than%20expected%20by%20chance.\n",
    "    * __Another problem__: Every time you add a predictor to a model, the R-squared increases, even if due to chance alone. It never decreases. Consequently, a model with more terms may appear to have a better fit simply because it has more terms.\n",
    "2. __Adjusted r-squared__:  The adjusted R-squared increases only if the new term improves the model more than would be expected by chance. It decreases when a predictor improves the model by less than expected by chance. The adjusted R-squared can be negative, but it’s usually not.  It is always lower than the R-squared.\n",
    "3. __Predicted r-sqaured__: The predicted R-squared indicates how well a regression model predicts responses for new observations. This statistic helps you determine when the model fits the original data but is less capable of providing valid predictions for new observations.\n",
    "4. Both adjusted R-squared and predicted R-square provide information that helps you assess the number of predictors in your model:\n",
    "    * Use the adjusted R-square to compare models with different numbers of predictors\n",
    "    * Use the predicted R-square to determine how well the model predicts new observations and whether the model is too complicated\n"
   ]
  },
  {
   "cell_type": "markdown",
   "metadata": {},
   "source": [
    "# points :\n",
    "2. __Regression vs Classification__: In regression we predict the target which are numerical/continuous in nature and in classification we predict the targets which are categorical in nature. \n",
    "3. Regression allows us to model the relationship between 2 or more variables using algebra. The goal of linear regression is to create a model that minimizes the sum of squared errors (SSE). \n",
    "5. __Linear Regression__: Predicts one DV utilizing one IV.\n",
    "6. __Multiple Regression__: It's the same as linear regression. Here we will have more than one independent variable which will be utilized to predict the value of one depend variable.\n",
    "7. __UniVariate and MultiVariate Regression__: \n",
    "    * __Univariate__ : Here in this regression problem we try to predict only one single outcome value with the model. Hence Univariate.\n",
    "    * __MultiVariate__ : If we were trying to predict multiple  output values with the model, it would be a multivariate regression problem.\n",
    "7. __Logistic regression__: A binomial logistic regression (often referred to simply as logistic regression), predicts the probability that an observation falls into one of two categories of a __dichotomous dependent__ variable based on one or more independent variables that can be either continuous or categorical.\n",
    "9. Evaluation Metrics for performance: \n",
    "    * __Error__: Error in a regression model is the distance between the actual value and the predicted value.\n",
    "    * __RMSE__ : Root Mean Squared Error is one of the way to measure the performance of the regression matrix.The RMSE is the square root of the variance of the residuals. Even though the RMSE is generally the preferred performance measure for regression tasks, in some contexts you may prefer to use another function.Like MAE  \n",
    "    $$\\sqrt     \\sum_{i=0}^m \\frac{(\\hat y(i)-y(i))^2}{m} $$\n",
    "    * __MAE__ : suppose that there are many outlier in dataset. In that case, you may consider using the Mean Absolute Error (also called the Average Absolute Deviation). RMSE is more sensitive to outliers than the MAE. But when outliers are exponentially rare (like in a bell-shaped curve), the RMSE performs very well and is generally preferred.\n",
    "         $$\\sum_{i=0}^m |\\frac{(\\hat y(i)-y(i))}{m} |$$\n",
    "    * __SSE__ : Sum of sqaured errors - The distance of the data points from the “best fit” line is called the residuals/errors. When we square the residuals and sum them we get what is called as Sum of Squared Errors (SSE). The square root of SSE is called as RMSE.\n",
    "    * __SE__ - Standard Error - the grey shaded area represents the standard error (probably it’s the 95% confidence band which means that the standard error will be about half of the width). This indicates how uncertain we are about where the best fit line really “should” be, i.e. where it might be if we had a much larger sample so we could get rid of the statistical uncertainty.The simplest formula that expresses the relation between the two is SE=SD/sqrt(n) where n is the sample size and SD (standard deviation) is the square root of the mean squared error. SE = $\\frac{\\sqrt SSE}{\\sqrt n}$\n",
    "        * The standard error can be thought of as the average distance of the data point from the regression line in depedant variable units.\n",
    "11. The Anova Table in regression model analysis gives us the significance of teh overall model. Where as the regression table analysis gives us the stats about regression line.\n",
    "12. __F-value in Regression__: \n",
    "    * https://www.statisticshowto.com/probability-and-statistics/f-statistic-value-test/#Regression\n",
    "    * The F value in regression is the result of a test where the null hypothesis is that all of the regression coefficients are equal to zero. In other words, the model has no predictive capability. Basically, the f-test compares your model with zero predictor variables (the intercept only model), and decides whether your added coefficients improved the model. If you get a significant result(high F value), then whatever coefficients you included in your model improved the model’s fit.\n",
    "    * __Read your p-value first__. If the p-value is small (less than your alpha level), you can reject the null hypothesis. Only then should you consider the f-value. If you don’t reject the null, ignore the f-valu\n",
    "\n",
    "10. what does a p-value tell you in regression : \n",
    "    1.  The p-values help determine whether the relationships that you observe in your sample also exist in the larger population. \n",
    "    2. https://statisticsbyjim.com/regression/interpret-coefficients-p-values-regression/#:~:text=Regression%20analysis%20is%20a%20form,correlation%20with%20the%20dependent%20variable.\n",
    "0. Reference:\n",
    "    * https://www.youtube.com/watch?v=ZkjP5RJLQF4\n",
    "    * https://www.theanalysisfactor.com/assessing-the-fit-of-regression-models/"
   ]
  },
  {
   "cell_type": "markdown",
   "metadata": {},
   "source": [
    "# Detailed on different types of Regression:\n",
    "1. https://machinelearningmastery.com/linear-regression-for-machine-learning/\n",
    "2. https://towardsdatascience.com/5-types-of-regression-and-their-properties-c5e1fa12d55e -- Must read\n",
    "3. https://towardsdatascience.com/polynomial-regression-with-scikit-learn-what-you-should-know-bed9d3296f2\n",
    "4. https://www.analyticsvidhya.com/blog/2015/08/comprehensive-guide-regression/\n",
    "5. How are coefficient dertermined in different regression ?\n",
    "    * __Simple Linear Regression__ : we can use statistics to estimate the coefficients. This requires that you calculate statistical properties from the data such as means, standard deviations, correlations and covariance.\n",
    "    * __Ordinary Least Sqaure__ : When we have __one or more than one input__ we can use Ordinary Least Squares to estimate the values of the coefficients. The Ordinary Least Squares procedure seeks to minimize the sum of the squared residuals. This approach treats the data as a matrix and uses linear algebra operations to estimate the optimal values for the coefficients.\n",
    "    * __Gradient Descent__ : works by starting with random values for each coefficient. The sum of the squared errors are calculated for each pair of input and output values. A learning rate is used as a scale factor and the coefficients are updated in the direction towards minimizing the error. The process is repeated until a minimum sum squared error is achieved or no further improvement is possible.\n",
    "    * __Regularization__ : There are extensions of the training of the linear model called regularization methods. These seek to both minimize the sum of the squared error of the model on the training data (using ordinary least squares) but also to reduce the complexity of the model (like the number or absolute size of the sum of all coefficients in the model). Two most popular method:\n",
    "        * __Lasso Regression__ :where Ordinary Least Squares is modified to also minimize the absolute sum of the coefficients (called L1 regularization).\n",
    "        * __Ridge Regression__ : here Ordinary Least Squares is modified to also minimize the squared absolute sum of the coefficients (called L2 regularization) i.e \n",
    "        __it minimizes sum of residuals + $\\lambda$($coefficients1^2$ + $coefficients2^2$ + ..)__  \n",
    "        \n",
    "        These methods are effective to use when there is collinearity in your input values and ordinary least squares would overfit the training data.\n",
    "6. Preparing data for Regression:\n",
    "    * __Linear Assumption__ : Linear regression assumes that the relationship between your input and output is linear. It does not support anything else. This may be obvious, but it is good to remember when you have a lot of attributes. You may need to transform data to make the relationship linear (e.g. log transform for an exponential relationship).\n",
    "    * __Remove Noise__ : Linear regression assumes that your input and output variables are not noisy. This is most important for the output variable and you want to remove outliers in the output variable (y) if possible.\n",
    "    * __Remove Collinearity__ : Linear regression will over-fit your data when you have highly correlated input variables. Consider calculating pairwise correlations for your input data and removing the most correlated.\n",
    "    * __Gaussian Distributions__ :  Linear regression will make more reliable predictions if your input and output variables have a Gaussian distribution. You may get some benefit using transforms (e.g. log or BoxCox) on you variables to make their distribution more Gaussian looking.\n",
    "    * __Rescale Inputs__ : Linear regression will often make more reliable predictions if you rescale input variables using standardization or normalization.\n",
    "    * See the Wikipedia article on Linear Regression for an excellent list of the assumptions made by the model. https://en.wikipedia.org/wiki/Linear_regression#Assumptions"
   ]
  },
  {
   "cell_type": "markdown",
   "metadata": {},
   "source": [
    "**For Linear Regression Boston housing market study \"Notebook\"**"
   ]
  },
  {
   "cell_type": "markdown",
   "metadata": {},
   "source": [
    "## Polynomial Regression:\n",
    "1. https://towardsdatascience.com/polynomial-regression-with-scikit-learn-what-you-should-know-bed9d3296f2 -- Must read\n",
    "2. https://scikit-learn.org/stable/modules/generated/sklearn.preprocessing.PolynomialFeatures.html\n",
    "2. By using polynomialfeature we convert the X dataset to have polynomial data and then apply a linear regression.\n",
    "3. __Polynomial Interpolation__: In numerical analysis, polynomial interpolation is the interpolation of a given data set by the polynomial of lowest possible degree that passes through the points of the dataset."
   ]
  },
  {
   "cell_type": "code",
   "execution_count": 75,
   "metadata": {},
   "outputs": [
    {
     "name": "stdout",
     "output_type": "stream",
     "text": [
      "(4, 1) [[1]\n",
      " [2]\n",
      " [3]\n",
      " [4]]\n",
      "(4, 3) [[ 1.  1.  1.]\n",
      " [ 1.  2.  4.]\n",
      " [ 1.  3.  9.]\n",
      " [ 1.  4. 16.]]\n"
     ]
    }
   ],
   "source": [
    "# Ex how polynomial feature works to transformation of X to poly X data\n",
    "X = np.array([1,2,3,4]).reshape(-1,1)\n",
    "print(X.shape, X)\n",
    "poly = PolynomialFeatures(degree=2) # degree 2 will produce (2+1) columns\n",
    "X_poly = poly.fit_transform(X)\n",
    "print(X_poly.shape, X_poly)"
   ]
  },
  {
   "cell_type": "code",
   "execution_count": 107,
   "metadata": {},
   "outputs": [
    {
     "data": {
      "text/plain": [
       "<matplotlib.legend.Legend at 0x1a5c7be0>"
      ]
     },
     "execution_count": 107,
     "metadata": {},
     "output_type": "execute_result"
    },
    {
     "data": {
      "image/png": "[encoded data removed]",
      "text/plain": [
       "<Figure size 432x288 with 1 Axes>"
      ]
     },
     "metadata": {
      "needs_background": "light"
     },
     "output_type": "display_data"
    }
   ],
   "source": [
    "# Ex to show how Linear Regression will predict\n",
    "X = np.array([1,2,5,7,9]).reshape(-1,1)\n",
    "y = np.array([2,5,6,1,10])\n",
    "X_test = np.array([3,10,6,8,4]).reshape(-1,1)\n",
    "\n",
    "lin = LinearRegression().fit(X, y)\n",
    "y_pred = lin.predict(X_test)\n",
    "plt.scatter(X,y, color='black', label='training points')\n",
    "plt.plot(X,lin.predict(X), color='blue', linewidth=3, label='regression line')\n",
    "plt.scatter(X_test, y_pred, color='red', label='predictions') # predicted values\n",
    "plt.legend()"
   ]
  },
  {
   "cell_type": "markdown",
   "metadata": {},
   "source": [
    "**This example is just to show the working of Polynomial Regression. We should never use a degree 5 for 5 sample dataset. This is actaully overfitting the model**"
   ]
  },
  {
   "cell_type": "code",
   "execution_count": 106,
   "metadata": {},
   "outputs": [
    {
     "data": {
      "text/plain": [
       "<matplotlib.legend.Legend at 0x1a158238>"
      ]
     },
     "execution_count": 106,
     "metadata": {},
     "output_type": "execute_result"
    },
    {
     "data": {
      "image/png": "[encoded data removed]",
      "text/plain": [
       "<Figure size 432x288 with 1 Axes>"
      ]
     },
     "metadata": {
      "needs_background": "light"
     },
     "output_type": "display_data"
    }
   ],
   "source": [
    "# Using polynomail feature with same dataset as above\n",
    "X_lin = np.array([1,2,5,7,9]).reshape(-1,1)\n",
    "y = np.array([2,5,6,1,10])\n",
    "X_test = np.array([3,10,6,8,4]).reshape(-1,1)\n",
    "\n",
    "degree=5\n",
    "poly = PolynomialFeatures(degree)\n",
    "X = poly.fit_transform(X_lin) # Transform data to polynomial features\n",
    "lin = LinearRegression().fit(X, y)\n",
    "y_pred = lin.predict(poly.transform(X_test))\n",
    "\n",
    "plt.scatter(X_lin,y, color='black', label='training points')\n",
    "plt.plot(X_lin,lin.predict(X), color='blue', linewidth=3, label='regression line')\n",
    "plt.scatter(X_test, y_pred, color='red', label='predictions') # predicted values\n",
    "plt.title(\"Polynomial regression with degree \"+str(degree))\n",
    "plt.legend()"
   ]
  },
  {
   "cell_type": "code",
   "execution_count": 112,
   "metadata": {},
   "outputs": [
    {
     "data": {
      "text/plain": [
       "<matplotlib.legend.Legend at 0x1b6c4dd8>"
      ]
     },
     "execution_count": 112,
     "metadata": {},
     "output_type": "execute_result"
    },
    {
     "data": {
      "image/png": "[encoded data removed]",
      "text/plain": [
       "<Figure size 432x288 with 1 Axes>"
      ]
     },
     "metadata": {
      "needs_background": "light"
     },
     "output_type": "display_data"
    }
   ],
   "source": [
    "# Same above using pipeline\n",
    "X = np.array([1,2,5,7,9]).reshape(-1,1)\n",
    "y = np.array([2,5,6,1,10])\n",
    "X_test = np.array([3,10,6,8,4]).reshape(-1,1)\n",
    "\n",
    "degree=5\n",
    "polyreg=make_pipeline(PolynomialFeatures(degree),LinearRegression())\n",
    "polyreg.fit(X,y)\n",
    "\n",
    "plt.scatter(X_lin,y, color='black', label='training points')\n",
    "plt.plot(X_lin,polyreg.predict(X), color='blue', linewidth=3, label='regression line')\n",
    "plt.scatter(X_test, polyreg.predict(X_test), color='red', label='predictions') # predicted values\n",
    "plt.title(\"Polynomial regression with degree \"+str(degree))\n",
    "plt.legend()\n"
   ]
  },
  {
   "cell_type": "markdown",
   "metadata": {},
   "source": [
    "## Ridge Regression:\n",
    "1. https://www.youtube.com/watch?v=Q81RR3yKn30&t=1078s\n",
    "2. https://scikit-learn.org/stable/modules/generated/sklearn.linear_model.Ridge.html\n",
    "3. https://scikit-learn.org/stable/modules/generated/sklearn.linear_model.Ridge.html\n",
    "4. This is Linear least squares with l2 regularization.\n",
    "5. Is particularly useful to mitigate the problem of multicollinearity in linear regression, which commonly occurs in models with large numbers of parameters"
   ]
  },
  {
   "cell_type": "markdown",
   "metadata": {},
   "source": [
    "## Lasso Regression:\n",
    "1. https://www.youtube.com/watch?v=NGf0voTMlcs"
   ]
  },
  {
   "cell_type": "markdown",
   "metadata": {},
   "source": [
    "## Outliers and how to remove them\n",
    "* https://machinelearningmastery.com/how-to-use-statistics-to-identify-outliers-in-data/\n",
    "1. __Std MEthod__ : For a variable having a Guassian like distribution, we can use the statistic way of removing the outlier using __Standard Deviation Method__. Three standard deviations from the mean is a common cut-off in practice for identifying outliers in a Gaussian or Gaussian-like distribution. \n",
    "data_mean, data_std = mean(data), std(data)  \n",
    "identify outliers  \n",
    "cut_off = data_std * 3  \n",
    "lower, upper = data_mean - cut_off, data_mean + cut_off  \n",
    "2. __Interquartile Range__ : For a variable having non-guassian distribution( like exponential, Gamma, Poisson Distribution) we can use IQR to calculate remove the outliers. Use box plots to quickly visualize the outliers. So in this method IQR = q75-q25. and 1.5*IQR are the cut off for the outliers. SOmetimes 3*IQR is used and it comes with experience.\n",
    "3. More precautions has to be taken while removing Outliers to make sure we are not leaking out data."
   ]
  },
  {
   "cell_type": "markdown",
   "metadata": {},
   "source": [
    "**Using Boston dataset - IQR method**"
   ]
  },
  {
   "cell_type": "code",
   "execution_count": 115,
   "metadata": {},
   "outputs": [
    {
     "data": {
      "image/png": "[encoded data removed]",
      "text/plain": [
       "<Figure size 432x288 with 1 Axes>"
      ]
     },
     "metadata": {
      "needs_background": "light"
     },
     "output_type": "display_data"
    }
   ],
   "source": [
    "# as you can see there are lots of outliers\n",
    "plt.boxplot(boston['B']);"
   ]
  },
  {
   "cell_type": "code",
   "execution_count": 118,
   "metadata": {},
   "outputs": [
    {
     "data": {
      "image/png": "[encoded data removed]",
      "text/plain": [
       "<Figure size 432x288 with 1 Axes>"
      ]
     },
     "metadata": {
      "needs_background": "light"
     },
     "output_type": "display_data"
    }
   ],
   "source": [
    "# distribution is not guassian we use IQR method\n",
    "plt.hist(boston['B']);"
   ]
  },
  {
   "cell_type": "code",
   "execution_count": 121,
   "metadata": {},
   "outputs": [
    {
     "name": "stdout",
     "output_type": "stream",
     "text": [
      "iqr=20.847500000000025, q25=375.3775, q75=396.225\n",
      "count    506.000000\n",
      "mean     356.674032\n",
      "std       91.294864\n",
      "min        0.320000\n",
      "25%      375.377500\n",
      "50%      391.440000\n",
      "75%      396.225000\n",
      "max      396.900000\n",
      "Name: B, dtype: float64\n"
     ]
    }
   ],
   "source": [
    "# import scipy.stats as stats\n",
    "\n",
    "iqr = stats.iqr(boston['B'])\n",
    "q25 = stats.scoreatpercentile(boston['B'], 25)\n",
    "q75 = stats.scoreatpercentile(boston['B'], 75)\n",
    "print(\"iqr={}, q25={}, q75={}\".format(iqr, q25, q75))\n",
    "print(boston['B'].describe())"
   ]
  },
  {
   "cell_type": "code",
   "execution_count": 156,
   "metadata": {},
   "outputs": [
    {
     "name": "stdout",
     "output_type": "stream",
     "text": [
      "344.10624999999993 427.49625000000003\n",
      "(429,)\n"
     ]
    },
    {
     "data": {
      "image/png": "[encoded data removed]",
      "text/plain": [
       "<Figure size 432x288 with 1 Axes>"
      ]
     },
     "metadata": {
      "needs_background": "light"
     },
     "output_type": "display_data"
    }
   ],
   "source": [
    "# Outliers are removed but we still have some\n",
    "cutoff = 1.5*iqr\n",
    "lower, upper = q25 - cutoff, q75 + cutoff\n",
    "print(lower, upper)\n",
    "l = pd.Series([x for x in boston['B'] if x < upper and x > lower])\n",
    "print(l.shape)\n",
    "plt.boxplot(l)\n",
    "plt.show()"
   ]
  },
  {
   "cell_type": "markdown",
   "metadata": {},
   "source": [
    "## Automatic Outlier Detection\n",
    "* \n",
    "1.  The scikit-learn library provides a number of built-in automatic methods for identifying outliers in data.\n",
    "2. __Isoloation Forest__ : Isolation Forest, or iForest for short, is a tree-based anomaly detection algorithm.It is based on modeling the normal data in such a way as to isolate anomalies that are both few in number and different in the feature space.\n",
    "    * Perhaps the most important hyperparameter in the model is the __“contamination” argument__, which is used to help estimate the number of outliers in the dataset. This is a value between 0.0 and 0.5 and by default is set to 0.1.\n",
    "3. __Minimum Covariance Determinant__ : If the input variables have a Gaussian distribution, then simple statistical methods can be used to detect outliers. An object for detecting outliers in a Gaussian distributed dataset.\n",
    "    * This approach can be generalized by defining a hypersphere (ellipsoid) that covers the normal data, and data that falls outside this shape is considered an outlier. An efficient implementation of this technique for multivariate data is known as the Minimum Covariance Determinant, or MCD for short.\n",
    "4. __Local Outlier Factory__ : A simple approach to identifying outliers is to locate those examples that are far from the other examples in the feature space. This can work well for feature spaces with low dimensionality (few features), although it can become less reliable as the number of features is increased, referred to as the curse of dimensionality.\n",
    "    * The local outlier factor, or LOF for short, is a technique that attempts to harness the idea of __nearest neighbors__ for outlier detection. Each example is assigned a scoring of how isolated or how likely it is to be outliers based on the size of its local neighborhood. Those examples with the largest score are more likely to be outliers.\n",
    "5. __One-Class SVM__ : The support vector machine, or SVM, algorithm developed initially for binary classification can be used for one-class classification. When modeling one class, the algorithm captures the density of the majority class and classifies examples on the extremes of the density function as outliers. This modification of SVM is referred to as One-Class SVM.\n",
    "    * The class provides the “nu” argument that specifies the approximate ratio of outliers in the dataset, which defaults to 0.1. In this case, we will set it to 0.01, found with a little trial and error."
   ]
  },
  {
   "cell_type": "code",
   "execution_count": 162,
   "metadata": {},
   "outputs": [
    {
     "name": "stdout",
     "output_type": "stream",
     "text": [
      "(455,)\n"
     ]
    },
    {
     "data": {
      "image/png": "[encoded data removed]",
      "text/plain": [
       "<Figure size 432x288 with 1 Axes>"
      ]
     },
     "metadata": {
      "needs_background": "light"
     },
     "output_type": "display_data"
    }
   ],
   "source": [
    "#from sklearn.ensemble import IsolationForest\n",
    "\n",
    "iso = IsolationForest(contamination=0.1)\n",
    "yhat = iso.fit_predict(pd.DataFrame(boston['B']))\n",
    "mask = yhat != -1\n",
    "# mask gives a True False table\n",
    "l = boston['B'][mask]\n",
    "print(l.shape) # 506-455 outliers removed\n",
    "plt.boxplot(l);"
   ]
  },
  {
   "cell_type": "code",
   "execution_count": 163,
   "metadata": {},
   "outputs": [
    {
     "name": "stdout",
     "output_type": "stream",
     "text": [
      "(500,)\n"
     ]
    },
    {
     "data": {
      "image/png": "[encoded data removed]",
      "text/plain": [
       "<Figure size 432x288 with 1 Axes>"
      ]
     },
     "metadata": {
      "needs_background": "light"
     },
     "output_type": "display_data"
    }
   ],
   "source": [
    "# from sklearn.covariance import EllipticEnvelope\n",
    "ee = EllipticEnvelope(contamination=0.01)\n",
    "yhat = ee.fit_predict(pd.DataFrame(boston['B']))\n",
    "mask = yhat != -1\n",
    "# mask gives a True False table\n",
    "l = boston['B'][mask]\n",
    "print(l.shape) # 506-455 outliers removed\n",
    "plt.boxplot(l); # this removed only 6 outliers, probably because the distribution is not gaussian"
   ]
  },
  {
   "cell_type": "code",
   "execution_count": 164,
   "metadata": {},
   "outputs": [
    {
     "name": "stdout",
     "output_type": "stream",
     "text": [
      "(501,)\n"
     ]
    },
    {
     "data": {
      "image/png": "[encoded data removed]",
      "text/plain": [
       "<Figure size 432x288 with 1 Axes>"
      ]
     },
     "metadata": {
      "needs_background": "light"
     },
     "output_type": "display_data"
    }
   ],
   "source": [
    "# from sklearn.neighbors import LocalOutlierFactor\n",
    "LOF = LocalOutlierFactor()\n",
    "yhat = LOF.fit_predict(pd.DataFrame(boston['B']))\n",
    "mask = yhat != -1\n",
    "# mask gives a True False table\n",
    "l = boston['B'][mask]\n",
    "print(l.shape) # \n",
    "plt.boxplot(l); # "
   ]
  },
  {
   "cell_type": "code",
   "execution_count": 166,
   "metadata": {},
   "outputs": [
    {
     "name": "stdout",
     "output_type": "stream",
     "text": [
      "(470,)\n"
     ]
    },
    {
     "data": {
      "image/png": "[encoded data removed]",
      "text/plain": [
       "<Figure size 432x288 with 1 Axes>"
      ]
     },
     "metadata": {
      "needs_background": "light"
     },
     "output_type": "display_data"
    }
   ],
   "source": [
    "from sklearn.svm import OneClassSVM\n",
    "OCS = OneClassSVM(nu=0.1)\n",
    "yhat = OCS.fit_predict(pd.DataFrame(boston['B']))\n",
    "mask = yhat != -1\n",
    "# mask gives a True False table\n",
    "l = boston['B'][mask]\n",
    "print(l.shape) # \n",
    "plt.boxplot(l); # ToDo"
   ]
  },
  {
   "cell_type": "code",
   "execution_count": 47,
   "metadata": {},
   "outputs": [],
   "source": [
    "# Finding correlation\n",
    "cor = tnic_df.corr()\n",
    "cor;"
   ]
  },
  {
   "cell_type": "code",
   "execution_count": 48,
   "metadata": {},
   "outputs": [
    {
     "data": {
      "image/png": "[encoded data removed]",
      "text/plain": [
       "<Figure size 576x288 with 2 Axes>"
      ]
     },
     "metadata": {
      "needs_background": "light"
     },
     "output_type": "display_data"
    }
   ],
   "source": [
    "sbs.heatmap(cor);"
   ]
  },
  {
   "cell_type": "markdown",
   "metadata": {},
   "source": [
    "### Data Manipulation - get_dummies() : We know that Algorithms cannot handle str or text data. So each variable should be converted into a integer. Before that lets see what kind of categorical variables exists\n",
    "1. __Nominal Variable__: These variables have values(string values) which are not related to each other. Say if we denote Men=1 and Women=2 and Children=3, then there is no relation like 1+2 = 3 or order like 1<2<3 (which would mean men<women<children) . And we want the algorithm to make sure it does not assume this kind of relation. So we cannot denote by integers. So we use what is called as __one hot encoding__ in case of Nominal Variable.\n",
    "2. __Ordinal Variable__: These variables have a order/relation amoung the values. Say ex. high, medium, low if we denote by 1, 2, 3. Then for sure hihg(1) > medium(2) > low(3).  We use __Ordinal Encoding__ to convert these values. Label encoding assigns each unique value to a different integer\n",
    "<img src=\"images/image58.png\" align = \"middle\" style=\"width:500px; height:200px;\"/>   \n",
    "3. __One hot Encoding__: Here we create one columnn for each of the value in the Nominal Variable. One-hot encoding creates new columns indicating the presence (or absence) of each possible value in the original data. We use OHE from sklearn to get teh job done.\n",
    "    * We set handle_unknown='ignore' to avoid errors when the validation data contains classes that aren't represented in the training data, and\n",
    "    * setting sparse=False ensures that the encoded columns are returned as a numpy array (instead of a sparse matrix).\n",
    "4. __get_dummies__ : Also does the same job of encoding but OHE has better parameters and perfor better in production.\n",
    "5. __Label Encoder__ : Encode __target labels__ with value between 0 and n_classes-1. This transformer should be used to encode target values, i.e. y, and not the input X.\n"
   ]
  },
  {
   "cell_type": "code",
   "execution_count": 231,
   "metadata": {},
   "outputs": [
    {
     "name": "stdout",
     "output_type": "stream",
     "text": [
      "['amsterdam', 'paris', 'tokyo']\n",
      "[2 2 1]\n",
      "['tokyo', 'tokyo', 'paris']\n"
     ]
    }
   ],
   "source": [
    "# Label Encoder Ex: say we have a string labels in our target variable 'y'\n",
    "y = [\"paris\", \"paris\", \"tokyo\", \"amsterdam\"] # y has to be a series only or list ..dataframe is not allowed\n",
    "le = LabelEncoder()\n",
    "le.fit(y)\n",
    "print(list(le.classes_)) # Holds the label for each class. Each value will be encoded by its position 0=amsterdam to n-1=tokyo\n",
    "print(le.transform([\"tokyo\", \"tokyo\", \"paris\"]))\n",
    "print(list(le.inverse_transform([2, 2, 1])))"
   ]
  },
  {
   "cell_type": "code",
   "execution_count": 232,
   "metadata": {},
   "outputs": [
    {
     "data": {
      "text/html": [
       "<div>\n",
       "<style scoped>\n",
       "    .dataframe tbody tr th:only-of-type {\n",
       "        vertical-align: middle;\n",
       "    }\n",
       "\n",
       "    .dataframe tbody tr th {\n",
       "        vertical-align: top;\n",
       "    }\n",
       "\n",
       "    .dataframe thead th {\n",
       "        text-align: right;\n",
       "    }\n",
       "</style>\n",
       "<table border=\"1\" class=\"dataframe\">\n",
       "  <thead>\n",
       "    <tr style=\"text-align: right;\">\n",
       "      <th></th>\n",
       "      <th>name</th>\n",
       "      <th>age</th>\n",
       "      <th>sex</th>\n",
       "      <th>rating</th>\n",
       "    </tr>\n",
       "  </thead>\n",
       "  <tbody>\n",
       "    <tr>\n",
       "      <th>0</th>\n",
       "      <td>Veena</td>\n",
       "      <td>32</td>\n",
       "      <td>female</td>\n",
       "      <td>Low</td>\n",
       "    </tr>\n",
       "    <tr>\n",
       "      <th>1</th>\n",
       "      <td>amit</td>\n",
       "      <td>35</td>\n",
       "      <td>male</td>\n",
       "      <td>High</td>\n",
       "    </tr>\n",
       "    <tr>\n",
       "      <th>2</th>\n",
       "      <td>seema</td>\n",
       "      <td>40</td>\n",
       "      <td>female</td>\n",
       "      <td>Medium</td>\n",
       "    </tr>\n",
       "  </tbody>\n",
       "</table>\n",
       "</div>"
      ],
      "text/plain": [
       "    name  age     sex  rating\n",
       "0  Veena   32  female     Low\n",
       "1   amit   35    male    High\n",
       "2  seema   40  female  Medium"
      ]
     },
     "execution_count": 232,
     "metadata": {},
     "output_type": "execute_result"
    }
   ],
   "source": [
    "dct={\n",
    "    'name':['Veena', 'amit', 'seema'],\n",
    "    'age': [32, 35, 40],\n",
    "    'sex': ['female', 'male', 'female'],\n",
    "    'rating': ['Low', 'High', 'Medium']\n",
    "}\n",
    "df = pd.DataFrame(dct)\n",
    "df"
   ]
  },
  {
   "cell_type": "code",
   "execution_count": 233,
   "metadata": {},
   "outputs": [
    {
     "data": {
      "text/plain": [
       "Index(['name', 'sex', 'rating'], dtype='object')"
      ]
     },
     "execution_count": 233,
     "metadata": {},
     "output_type": "execute_result"
    }
   ],
   "source": [
    "# in big df's use this to find the coumns which has text fields.\n",
    "s = (df.dtypes == 'object')\n",
    "s[s].index  "
   ]
  },
  {
   "cell_type": "markdown",
   "metadata": {},
   "source": [
    "### Difference between LabelEncoder() and OridinalEncoder()\n",
    "both have the same functionality. A bit difference is the idea behind. OrdinalEncoder is for converting features, while LabelEncoder is for converting target variable.\n",
    "\n",
    "That's why OrdinalEncoder can fit data that has the shape of (n_samples, n_features) while LabelEncoder can only fit data that has the shape of (n_samples,)"
   ]
  },
  {
   "cell_type": "code",
   "execution_count": 234,
   "metadata": {},
   "outputs": [
    {
     "name": "stdout",
     "output_type": "stream",
     "text": [
      "<class 'pandas.core.frame.DataFrame'>\n",
      "<class 'pandas.core.series.Series'>\n",
      "[array(['High', 'Low', 'Medium'], dtype=object)]\n"
     ]
    },
    {
     "data": {
      "text/html": [
       "<div>\n",
       "<style scoped>\n",
       "    .dataframe tbody tr th:only-of-type {\n",
       "        vertical-align: middle;\n",
       "    }\n",
       "\n",
       "    .dataframe tbody tr th {\n",
       "        vertical-align: top;\n",
       "    }\n",
       "\n",
       "    .dataframe thead th {\n",
       "        text-align: right;\n",
       "    }\n",
       "</style>\n",
       "<table border=\"1\" class=\"dataframe\">\n",
       "  <thead>\n",
       "    <tr style=\"text-align: right;\">\n",
       "      <th></th>\n",
       "      <th>name</th>\n",
       "      <th>age</th>\n",
       "      <th>sex</th>\n",
       "      <th>rating</th>\n",
       "      <th>Encoded</th>\n",
       "    </tr>\n",
       "  </thead>\n",
       "  <tbody>\n",
       "    <tr>\n",
       "      <th>0</th>\n",
       "      <td>Veena</td>\n",
       "      <td>32</td>\n",
       "      <td>female</td>\n",
       "      <td>Low</td>\n",
       "      <td>1.0</td>\n",
       "    </tr>\n",
       "    <tr>\n",
       "      <th>1</th>\n",
       "      <td>amit</td>\n",
       "      <td>35</td>\n",
       "      <td>male</td>\n",
       "      <td>High</td>\n",
       "      <td>0.0</td>\n",
       "    </tr>\n",
       "    <tr>\n",
       "      <th>2</th>\n",
       "      <td>seema</td>\n",
       "      <td>40</td>\n",
       "      <td>female</td>\n",
       "      <td>Medium</td>\n",
       "      <td>2.0</td>\n",
       "    </tr>\n",
       "  </tbody>\n",
       "</table>\n",
       "</div>"
      ],
      "text/plain": [
       "    name  age     sex  rating  Encoded\n",
       "0  Veena   32  female     Low      1.0\n",
       "1   amit   35    male    High      0.0\n",
       "2  seema   40  female  Medium      2.0"
      ]
     },
     "execution_count": 234,
     "metadata": {},
     "output_type": "execute_result"
    }
   ],
   "source": [
    "# ordinal encoder\n",
    "print(type(df[['rating']]))\n",
    "print(type(df['rating']))\n",
    "X = df[['rating']] # df[[]] gives df, \n",
    "# X = df['rating'] # df[] gives series is not allowed in ordinalencoder.\n",
    "encoder = OrdinalEncoder()\n",
    "df['Encoded'] = encoder.fit_transform(X)\n",
    "print(encoder.categories_)\n",
    "df # here ordinal coding is done alphabetically"
   ]
  },
  {
   "cell_type": "code",
   "execution_count": 235,
   "metadata": {},
   "outputs": [
    {
     "name": "stdout",
     "output_type": "stream",
     "text": [
      "[array(['Low', 'Medium', 'High'], dtype=object), array(['male', 'female'], dtype=object)]\n"
     ]
    },
    {
     "data": {
      "text/html": [
       "<div>\n",
       "<style scoped>\n",
       "    .dataframe tbody tr th:only-of-type {\n",
       "        vertical-align: middle;\n",
       "    }\n",
       "\n",
       "    .dataframe tbody tr th {\n",
       "        vertical-align: top;\n",
       "    }\n",
       "\n",
       "    .dataframe thead th {\n",
       "        text-align: right;\n",
       "    }\n",
       "</style>\n",
       "<table border=\"1\" class=\"dataframe\">\n",
       "  <thead>\n",
       "    <tr style=\"text-align: right;\">\n",
       "      <th></th>\n",
       "      <th>name</th>\n",
       "      <th>age</th>\n",
       "      <th>sex</th>\n",
       "      <th>rating</th>\n",
       "      <th>Encoded</th>\n",
       "      <th>En_rating</th>\n",
       "      <th>En_sex</th>\n",
       "    </tr>\n",
       "  </thead>\n",
       "  <tbody>\n",
       "    <tr>\n",
       "      <th>0</th>\n",
       "      <td>Veena</td>\n",
       "      <td>32</td>\n",
       "      <td>female</td>\n",
       "      <td>Low</td>\n",
       "      <td>1.0</td>\n",
       "      <td>0</td>\n",
       "      <td>1</td>\n",
       "    </tr>\n",
       "    <tr>\n",
       "      <th>1</th>\n",
       "      <td>amit</td>\n",
       "      <td>35</td>\n",
       "      <td>male</td>\n",
       "      <td>High</td>\n",
       "      <td>0.0</td>\n",
       "      <td>2</td>\n",
       "      <td>0</td>\n",
       "    </tr>\n",
       "    <tr>\n",
       "      <th>2</th>\n",
       "      <td>seema</td>\n",
       "      <td>40</td>\n",
       "      <td>female</td>\n",
       "      <td>Medium</td>\n",
       "      <td>2.0</td>\n",
       "      <td>1</td>\n",
       "      <td>1</td>\n",
       "    </tr>\n",
       "  </tbody>\n",
       "</table>\n",
       "</div>"
      ],
      "text/plain": [
       "    name  age     sex  rating  Encoded  En_rating  En_sex\n",
       "0  Veena   32  female     Low      1.0          0       1\n",
       "1   amit   35    male    High      0.0          2       0\n",
       "2  seema   40  female  Medium      2.0          1       1"
      ]
     },
     "execution_count": 235,
     "metadata": {},
     "output_type": "execute_result"
    }
   ],
   "source": [
    "# OrdinalEncoder with proper order.\n",
    "X = df[['rating', 'sex']] # df[[]] gives df, \n",
    "# X = df['rating'] # df[] gives series thats not allowed in ordinalencoder.\n",
    "categories = [['Low', 'Medium', 'High'], ['male', 'female']]\n",
    "encoder = OrdinalEncoder(dtype=int, categories=categories)#Define all unique categories in the order you want them to be encoded\n",
    "df[['En_rating', 'En_sex']] = encoder.fit_transform(X)\n",
    "print(encoder.categories_)\n",
    "df"
   ]
  },
  {
   "cell_type": "code",
   "execution_count": 236,
   "metadata": {},
   "outputs": [
    {
     "name": "stdout",
     "output_type": "stream",
     "text": [
      "[[0. 1. 0.]\n",
      " [1. 0. 0.]\n",
      " [0. 0. 1.]] (3, 3)\n"
     ]
    },
    {
     "data": {
      "text/html": [
       "<div>\n",
       "<style scoped>\n",
       "    .dataframe tbody tr th:only-of-type {\n",
       "        vertical-align: middle;\n",
       "    }\n",
       "\n",
       "    .dataframe tbody tr th {\n",
       "        vertical-align: top;\n",
       "    }\n",
       "\n",
       "    .dataframe thead th {\n",
       "        text-align: right;\n",
       "    }\n",
       "</style>\n",
       "<table border=\"1\" class=\"dataframe\">\n",
       "  <thead>\n",
       "    <tr style=\"text-align: right;\">\n",
       "      <th></th>\n",
       "      <th>name</th>\n",
       "      <th>age</th>\n",
       "      <th>sex</th>\n",
       "      <th>rating</th>\n",
       "      <th>Encoded</th>\n",
       "      <th>En_rating</th>\n",
       "      <th>En_sex</th>\n",
       "      <th>Is_F</th>\n",
       "      <th>Is_M</th>\n",
       "    </tr>\n",
       "  </thead>\n",
       "  <tbody>\n",
       "    <tr>\n",
       "      <th>0</th>\n",
       "      <td>Veena</td>\n",
       "      <td>32</td>\n",
       "      <td>female</td>\n",
       "      <td>Low</td>\n",
       "      <td>1.0</td>\n",
       "      <td>0</td>\n",
       "      <td>1</td>\n",
       "      <td>1.0</td>\n",
       "      <td>0.0</td>\n",
       "    </tr>\n",
       "    <tr>\n",
       "      <th>1</th>\n",
       "      <td>amit</td>\n",
       "      <td>35</td>\n",
       "      <td>male</td>\n",
       "      <td>High</td>\n",
       "      <td>0.0</td>\n",
       "      <td>2</td>\n",
       "      <td>0</td>\n",
       "      <td>0.0</td>\n",
       "      <td>1.0</td>\n",
       "    </tr>\n",
       "    <tr>\n",
       "      <th>2</th>\n",
       "      <td>seema</td>\n",
       "      <td>40</td>\n",
       "      <td>female</td>\n",
       "      <td>Medium</td>\n",
       "      <td>2.0</td>\n",
       "      <td>1</td>\n",
       "      <td>1</td>\n",
       "      <td>1.0</td>\n",
       "      <td>0.0</td>\n",
       "    </tr>\n",
       "  </tbody>\n",
       "</table>\n",
       "</div>"
      ],
      "text/plain": [
       "    name  age     sex  rating  Encoded  En_rating  En_sex  Is_F  Is_M\n",
       "0  Veena   32  female     Low      1.0          0       1   1.0   0.0\n",
       "1   amit   35    male    High      0.0          2       0   0.0   1.0\n",
       "2  seema   40  female  Medium      2.0          1       1   1.0   0.0"
      ]
     },
     "execution_count": 236,
     "metadata": {},
     "output_type": "execute_result"
    }
   ],
   "source": [
    "#Encoding a Nominal varible using ONE HOT ENCODING.\n",
    "OH_encoder = OneHotEncoder(handle_unknown='ignore', sparse=False)\n",
    "df[['Is_F', 'Is_M']] = OH_encoder.fit_transform(df[['sex']]) # This gives a ndarray of (rows,features) with two columns one for male one for female\n",
    "print(OH, OH.shape) \n",
    "df"
   ]
  },
  {
   "cell_type": "code",
   "execution_count": 237,
   "metadata": {},
   "outputs": [
    {
     "name": "stdout",
     "output_type": "stream",
     "text": [
      "[array(['female', 'male'], dtype=object), array(['High', 'Low', 'Medium'], dtype=object)]\n",
      "[[1. 0. 0. 1. 0.]\n",
      " [0. 1. 1. 0. 0.]\n",
      " [1. 0. 0. 0. 1.]]\n",
      "['x0_female' 'x0_male' 'x1_High' 'x1_Low' 'x1_Medium']\n",
      "['sex_female' 'sex_male' 'rating_High' 'rating_Low' 'rating_Medium']\n"
     ]
    }
   ],
   "source": [
    "# OHE with multiple columns encoding\n",
    "X = df[['sex', 'rating']]\n",
    "OH_encoder = OneHotEncoder(handle_unknown='ignore', sparse=False)\n",
    "OH = OH_encoder.fit_transform(X)\n",
    "print(OH_encoder.categories_)\n",
    "print(OH) # each category will be a column. So 1st col is female, next male...per this OH_encoder.categories_\n",
    "print(OH_encoder.get_feature_names()) # Return feature names for output features.\n",
    "print(OH_encoder.get_feature_names(['sex', 'rating'])) # Return feature names for output features. This uses your list as prefix\n",
    "# rather than using x0, x1"
   ]
  },
  {
   "cell_type": "code",
   "execution_count": 238,
   "metadata": {},
   "outputs": [
    {
     "name": "stdout",
     "output_type": "stream",
     "text": [
      "[array(['female', 'male'], dtype=object), array(['High', 'Low', 'Medium'], dtype=object)]\n",
      "[[0. 1. 0.]\n",
      " [1. 0. 0.]\n",
      " [0. 0. 1.]]\n",
      "['sex_male' 'rating_Low' 'rating_Medium']\n"
     ]
    }
   ],
   "source": [
    "# OHE has options to drop categoris in a feature check the documentation.\n",
    "# see how it drops the first category in each feature (first in alphabetically) per OH_encoder.categories_\n",
    "X = df[['sex', 'rating']]\n",
    "OH_encoder = OneHotEncoder(handle_unknown='error', sparse=False, drop='first') # handle_unknown='error' this time \n",
    "# this below 'if_binary' will drop the first category in each feature with two categories\n",
    "# OH_encoder = OneHotEncoder(handle_unknown='error', sparse=False, drop='if_binary')\n",
    "OH = OH_encoder.fit_transform(X)\n",
    "print(OH_encoder.categories_)\n",
    "print(OH)\n",
    "print(OH_encoder.get_feature_names(['sex', 'rating']))"
   ]
  },
  {
   "cell_type": "code",
   "execution_count": 241,
   "metadata": {},
   "outputs": [
    {
     "name": "stdout",
     "output_type": "stream",
     "text": [
      "   sex_female  sex_male  rating_High  rating_Low  rating_Medium\n",
      "0           1         0            0           1              0\n",
      "1           0         1            1           0              0\n",
      "2           1         0            0           0              1\n"
     ]
    },
    {
     "data": {
      "text/html": [
       "<div>\n",
       "<style scoped>\n",
       "    .dataframe tbody tr th:only-of-type {\n",
       "        vertical-align: middle;\n",
       "    }\n",
       "\n",
       "    .dataframe tbody tr th {\n",
       "        vertical-align: top;\n",
       "    }\n",
       "\n",
       "    .dataframe thead th {\n",
       "        text-align: right;\n",
       "    }\n",
       "</style>\n",
       "<table border=\"1\" class=\"dataframe\">\n",
       "  <thead>\n",
       "    <tr style=\"text-align: right;\">\n",
       "      <th></th>\n",
       "      <th>name</th>\n",
       "      <th>age</th>\n",
       "      <th>sex</th>\n",
       "      <th>rating</th>\n",
       "      <th>Encoded</th>\n",
       "      <th>En_rating</th>\n",
       "      <th>En_sex</th>\n",
       "      <th>Is_F</th>\n",
       "      <th>Is_M</th>\n",
       "      <th>sex_female</th>\n",
       "      <th>sex_male</th>\n",
       "      <th>rating_High</th>\n",
       "      <th>rating_Low</th>\n",
       "      <th>rating_Medium</th>\n",
       "    </tr>\n",
       "  </thead>\n",
       "  <tbody>\n",
       "    <tr>\n",
       "      <th>0</th>\n",
       "      <td>Veena</td>\n",
       "      <td>32</td>\n",
       "      <td>female</td>\n",
       "      <td>Low</td>\n",
       "      <td>1.0</td>\n",
       "      <td>0</td>\n",
       "      <td>1</td>\n",
       "      <td>1.0</td>\n",
       "      <td>0.0</td>\n",
       "      <td>1</td>\n",
       "      <td>0</td>\n",
       "      <td>0</td>\n",
       "      <td>1</td>\n",
       "      <td>0</td>\n",
       "    </tr>\n",
       "    <tr>\n",
       "      <th>1</th>\n",
       "      <td>amit</td>\n",
       "      <td>35</td>\n",
       "      <td>male</td>\n",
       "      <td>High</td>\n",
       "      <td>0.0</td>\n",
       "      <td>2</td>\n",
       "      <td>0</td>\n",
       "      <td>0.0</td>\n",
       "      <td>1.0</td>\n",
       "      <td>0</td>\n",
       "      <td>1</td>\n",
       "      <td>1</td>\n",
       "      <td>0</td>\n",
       "      <td>0</td>\n",
       "    </tr>\n",
       "    <tr>\n",
       "      <th>2</th>\n",
       "      <td>seema</td>\n",
       "      <td>40</td>\n",
       "      <td>female</td>\n",
       "      <td>Medium</td>\n",
       "      <td>2.0</td>\n",
       "      <td>1</td>\n",
       "      <td>1</td>\n",
       "      <td>1.0</td>\n",
       "      <td>0.0</td>\n",
       "      <td>1</td>\n",
       "      <td>0</td>\n",
       "      <td>0</td>\n",
       "      <td>0</td>\n",
       "      <td>1</td>\n",
       "    </tr>\n",
       "  </tbody>\n",
       "</table>\n",
       "</div>"
      ],
      "text/plain": [
       "    name  age     sex  rating  Encoded  En_rating  En_sex  Is_F  Is_M  \\\n",
       "0  Veena   32  female     Low      1.0          0       1   1.0   0.0   \n",
       "1   amit   35    male    High      0.0          2       0   0.0   1.0   \n",
       "2  seema   40  female  Medium      2.0          1       1   1.0   0.0   \n",
       "\n",
       "   sex_female  sex_male  rating_High  rating_Low  rating_Medium  \n",
       "0           1         0            0           1              0  \n",
       "1           0         1            1           0              0  \n",
       "2           1         0            0           0              1  "
      ]
     },
     "execution_count": 241,
     "metadata": {},
     "output_type": "execute_result"
    }
   ],
   "source": [
    "# dummies = pd.get_dummies(df[['sex', 'rating']])\n",
    "# print(dummies) # then add this df to the original df\n",
    "# df = pd.concat([df, dummies], axis='columns')\n",
    "df #"
   ]
  },
  {
   "cell_type": "code",
   "execution_count": 244,
   "metadata": {},
   "outputs": [
    {
     "data": {
      "text/html": [
       "<div>\n",
       "<style scoped>\n",
       "    .dataframe tbody tr th:only-of-type {\n",
       "        vertical-align: middle;\n",
       "    }\n",
       "\n",
       "    .dataframe tbody tr th {\n",
       "        vertical-align: top;\n",
       "    }\n",
       "\n",
       "    .dataframe thead th {\n",
       "        text-align: right;\n",
       "    }\n",
       "</style>\n",
       "<table border=\"1\" class=\"dataframe\">\n",
       "  <thead>\n",
       "    <tr style=\"text-align: right;\">\n",
       "      <th></th>\n",
       "      <th>name</th>\n",
       "      <th>age</th>\n",
       "      <th>sex</th>\n",
       "      <th>rating</th>\n",
       "      <th>Encoded</th>\n",
       "      <th>En_rating</th>\n",
       "      <th>En_sex</th>\n",
       "      <th>Is_F</th>\n",
       "      <th>Is_M</th>\n",
       "    </tr>\n",
       "  </thead>\n",
       "  <tbody>\n",
       "    <tr>\n",
       "      <th>0</th>\n",
       "      <td>Veena</td>\n",
       "      <td>32</td>\n",
       "      <td>female</td>\n",
       "      <td>Low</td>\n",
       "      <td>1.0</td>\n",
       "      <td>0</td>\n",
       "      <td>1</td>\n",
       "      <td>1.0</td>\n",
       "      <td>0.0</td>\n",
       "    </tr>\n",
       "    <tr>\n",
       "      <th>1</th>\n",
       "      <td>amit</td>\n",
       "      <td>35</td>\n",
       "      <td>male</td>\n",
       "      <td>High</td>\n",
       "      <td>0.0</td>\n",
       "      <td>2</td>\n",
       "      <td>0</td>\n",
       "      <td>0.0</td>\n",
       "      <td>1.0</td>\n",
       "    </tr>\n",
       "    <tr>\n",
       "      <th>2</th>\n",
       "      <td>seema</td>\n",
       "      <td>40</td>\n",
       "      <td>female</td>\n",
       "      <td>Medium</td>\n",
       "      <td>2.0</td>\n",
       "      <td>1</td>\n",
       "      <td>1</td>\n",
       "      <td>1.0</td>\n",
       "      <td>0.0</td>\n",
       "    </tr>\n",
       "  </tbody>\n",
       "</table>\n",
       "</div>"
      ],
      "text/plain": [
       "    name  age     sex  rating  Encoded  En_rating  En_sex  Is_F  Is_M\n",
       "0  Veena   32  female     Low      1.0          0       1   1.0   0.0\n",
       "1   amit   35    male    High      0.0          2       0   0.0   1.0\n",
       "2  seema   40  female  Medium      2.0          1       1   1.0   0.0"
      ]
     },
     "execution_count": 244,
     "metadata": {},
     "output_type": "execute_result"
    }
   ],
   "source": [
    "# note that its very important in ML Algorithms to not have duplicate variables conveying the same information\n",
    "# That will result into multicollinearity issue. So two of the variables out of the three 'se', 'female', 'male'\n",
    "# convey the same information. We cannot keep 'sex' as its str and so we can delete 'sex' and 'male'/'female'\n",
    "# df.drop(columns = ['sex_female', 'sex_male', 'rating_High', 'rating_Low', 'rating_Medium'], inplace=True)\n",
    "df"
   ]
  },
  {
   "cell_type": "markdown",
   "metadata": {},
   "source": [
    "### DecisionTreeRegressor\n",
    "With the same X,y split we can see that DCRegressor always did a better job."
   ]
  },
  {
   "cell_type": "code",
   "execution_count": null,
   "metadata": {},
   "outputs": [],
   "source": [
    "DCreg = tree.DecisionTreeRegressor(random_state=0)\n",
    "DCreg.fit(X_train, y_train)\n",
    "pred = DCreg.predict(X_test)\n",
    "RMSE = sqrt(mean_squared_error(y_test, pred))\n",
    "RMSE "
   ]
  },
  {
   "cell_type": "markdown",
   "metadata": {},
   "source": [
    "### Probabilistic Modelling:\n",
    "1. A probabilistic method or model is based on the theory of probability or the fact that randomness plays a role in predicting future events.\n",
    "2. Read notes on Probability and Statistics before proceding further."
   ]
  },
  {
   "cell_type": "markdown",
   "metadata": {},
   "source": [
    "### Naive Bayes Classifiers:\n",
    "1. In machine learning, naïve Bayes classifiers are a family of simple __\"probabilistic classifiers\"__ based on applying Bayes' theorem with strong (naïve) __independence__ assumptions between the features. They are among the simplest Bayesian network models.\n",
    "2. Naive Bayes calssifier uses Bayes Theorem:\n",
    "    __P(A|B) = $\\frac{P(B|A)*P(A)}{P(B)}$__\n",
    "3. Different Naive Bayes' classifier:   \n",
    "   * __Multi-variate Bernoulli Naive Bayes__: The binomial model is useful if your feature vectors are binary (i.e., 0s and 1s). One application would be text classification with a bag of words model where the 0s 1s are \"word occurs in the document\" and \"word does not occur in the document\".\n",
    "   * __Multinomial Naive Bayes__ The multinomial naive Bayes model is typically used for discrete counts. E.g., if we have a text classification problem, we can take the idea of bernoulli trials one step further and instead of \"word occurs in the document\" we have \"count how often word occurs in the document\", you can think of it as \"number of times outcome number x_i is observed over the n trials\"\n",
    "   * __Gaussian Naive Bayes__ Here, we assume that the features follow a normal distribution. Instead of discrete counts, we have continuous features (e.g., the popular Iris dataset where the features are sepal width, petal width, sepal length, petal length).\n",
    "4. https://www.youtube.com/watch?v=Q8l0Vip5YUw"
   ]
  },
  {
   "cell_type": "markdown",
   "metadata": {},
   "source": [
    "## ToDo add your Titanic notebook link here  as an example to Naive bayes"
   ]
  },
  {
   "cell_type": "markdown",
   "metadata": {},
   "source": [
    "### Feature Extraction:\n",
    "1. The sklearn.feature_extraction module can be used to extract features in a format supported by machine learning algorithms from datasets consisting of formats such as text and image.\n",
    "2. https://scikit-learn.org/stable/modules/feature_extraction.html"
   ]
  },
  {
   "cell_type": "code",
   "execution_count": null,
   "metadata": {},
   "outputs": [],
   "source": [
    "corpus = [\n",
    "    'This is the first document.',\n",
    "    'This document is the second document.',\n",
    "    'And this is the third one.',\n",
    "    'Is this the first document',\n",
    "]"
   ]
  },
  {
   "cell_type": "code",
   "execution_count": null,
   "metadata": {},
   "outputs": [],
   "source": [
    "#  from sklearn.feature_extraction.text import CountVectorizer\n",
    "vectorizer = CountVectorizer()\n",
    "X = vectorizer.fit_transform(corpus)\n",
    "vectorizer.get_feature_names()"
   ]
  },
  {
   "cell_type": "code",
   "execution_count": null,
   "metadata": {},
   "outputs": [],
   "source": [
    "X.toarray()"
   ]
  },
  {
   "cell_type": "markdown",
   "metadata": {},
   "source": [
    "### Simple Imputer: \n",
    "1. we use SimpleImputer to replace missing values with the some aggregate value along each column."
   ]
  },
  {
   "cell_type": "code",
   "execution_count": null,
   "metadata": {},
   "outputs": [],
   "source": [
    "dct={\n",
    "    'name':['Veena', 'amit', 'seema', 'ranju'],\n",
    "    'age': [32, 35, 40, 50],\n",
    "    'sex': ['female', 'male', 'female', 'male'],\n",
    "    'height': [np.nan, 5.6, 5.6, 5.0],\n",
    "    'weight': [116, 160, 134, np.nan]\n",
    "}\n",
    "df = pd.DataFrame(dct)\n",
    "df"
   ]
  },
  {
   "cell_type": "code",
   "execution_count": null,
   "metadata": {},
   "outputs": [],
   "source": [
    "from sklearn.impute import SimpleImputer\n",
    "imp_mean = SimpleImputer(missing_values=np.nan, strategy='mean')\n",
    "imp_mean.fit_transform(df[['height']])"
   ]
  },
  {
   "cell_type": "code",
   "execution_count": null,
   "metadata": {},
   "outputs": [],
   "source": [
    "from sklearn.impute import SimpleImputer\n",
    "imp_mean = SimpleImputer(missing_values=np.nan, strategy='constant')\n",
    "imp_mean.fit_transform(df[['height']])"
   ]
  },
  {
   "cell_type": "markdown",
   "metadata": {},
   "source": [
    "### ColumnTransformer:\n",
    "1. Similar to how a pipeline bundles together preprocessing and modeling steps, we use the ColumnTransformer class to bundle together different preprocessing steps. The code below:\n",
    "    * imputes missing values in numerical data, and\n",
    "    * imputes missing values and applies a one-hot encoding to categorical data."
   ]
  },
  {
   "cell_type": "code",
   "execution_count": null,
   "metadata": {},
   "outputs": [],
   "source": [
    "# this applies simpleimputer to columns 1,3,4 and OHE to 2\n",
    "t = [('num', SimpleImputer(strategy='mean'), [1,3,4]), ('cat', OneHotEncoder(), [2])]\n",
    "# Any columns not specified in the list of transformers are dropped from the dataset by default; \n",
    "# this can be changed by setting the remainder argument.\n",
    "transformer = ColumnTransformer(t, remainder='passthrough')\n",
    "#The order of the columns in the transformed feature matrix follows the order of how the columns are \n",
    "# specified in the transformers list. \n",
    "t_df = transformer.fit_transform(df) # this gives a array\n",
    "# https://stackoverflow.com/questions/54592115/appending-the-columntransformer-result-to-the-original-data-within-a-pipeline\n",
    "pd.DataFrame(t_df)"
   ]
  },
  {
   "cell_type": "markdown",
   "metadata": {},
   "source": [
    "### Pipeline :\n",
    "1. "
   ]
  },
  {
   "cell_type": "code",
   "execution_count": null,
   "metadata": {},
   "outputs": [],
   "source": [
    "from sklearn.compose import ColumnTransformer\n",
    "from sklearn.pipeline import Pipeline\n",
    "from sklearn.impute import SimpleImputer\n",
    "from sklearn.preprocessing import OneHotEncoder"
   ]
  },
  {
   "cell_type": "code",
   "execution_count": null,
   "metadata": {},
   "outputs": [],
   "source": [
    "# we will use titanic data to show piplelining\n",
    "df = tnic_df\n",
    "print(df.columns)\n",
    "df = df.drop(['PassengerId', 'Parch', 'Ticket', 'Fare'], axis='columns') # lets take few columns for analysis\n",
    "df.columns"
   ]
  },
  {
   "cell_type": "code",
   "execution_count": null,
   "metadata": {},
   "outputs": [],
   "source": [
    "df.dtypes"
   ]
  },
  {
   "cell_type": "code",
   "execution_count": null,
   "metadata": {},
   "outputs": [],
   "source": [
    "# sepearte Target\n",
    "y = df['Survived']\n",
    "X = df.drop(['Survived'], axis='columns')"
   ]
  },
  {
   "cell_type": "code",
   "execution_count": null,
   "metadata": {},
   "outputs": [],
   "source": [
    "# divide into training and testing data.\n",
    "X_train, X_test, y_train, y_test = train_test_split(X, y, test_size=0.3, random_state=42)"
   ]
  },
  {
   "cell_type": "code",
   "execution_count": null,
   "metadata": {},
   "outputs": [],
   "source": [
    "#seperate the categorical and numerical data\n",
    "categorical_cols = [cname for cname in X_train.columns if X_train[cname].dtype =='object']\n",
    "numerical_cols = [cname for cname in X_train.columns if X_train[cname].dtype in ['int64', 'float64']]\n",
    "print(categorical_cols, numerical_cols)"
   ]
  },
  {
   "cell_type": "code",
   "execution_count": null,
   "metadata": {},
   "outputs": [],
   "source": [
    "# Step 1: Define Preprocessing Step\n",
    "# impute missing values in numerical and  impute+OHE in categorical data\n",
    "numerical_transformer = SimpleImputer(strategy='mean')\n",
    "categorical_transformer = Pipeline(steps=[\n",
    "    ('imputer', SimpleImputer(strategy='most_frequent')),\n",
    "    ('onehot', OneHotEncoder(handle_unknown='ignore'))\n",
    "])"
   ]
  },
  {
   "cell_type": "code",
   "execution_count": null,
   "metadata": {},
   "outputs": [],
   "source": [
    "# Bundle then into Preprocessor using ColumnTransformer\n",
    "preprocessor = ColumnTransformer(\n",
    "    transformers=[\n",
    "        ('num', numerical_transformer, numerical_cols),\n",
    "        ('cat', categorical_transformer, categorical_cols)\n",
    "    ], remainder='passthrough')"
   ]
  },
  {
   "cell_type": "code",
   "execution_count": null,
   "metadata": {},
   "outputs": [],
   "source": [
    "# Step 2:Define the Model\n",
    "model = GradientBoostingClassifier()"
   ]
  },
  {
   "cell_type": "code",
   "execution_count": null,
   "metadata": {},
   "outputs": [],
   "source": [
    "# step 3: Create and Evaluvate the Pipeline\n",
    "# Bundle preprocessing and modeling code in a pipeline\n",
    "my_pipeline = Pipeline(steps=[\n",
    "    ('preprocessor', preprocessor),\n",
    "    ('model', model)\n",
    "])"
   ]
  },
  {
   "cell_type": "code",
   "execution_count": null,
   "metadata": {},
   "outputs": [],
   "source": [
    "# Preprocessing of training data, fit model \n",
    "my_pipeline.fit(X_train, y_train);"
   ]
  },
  {
   "cell_type": "code",
   "execution_count": null,
   "metadata": {},
   "outputs": [],
   "source": [
    "# Preprocessing of test data, get predictions\n",
    "# see how all the preprocessing is done in a simple way using pieline\n",
    "preds = my_pipeline.predict(X_test)"
   ]
  },
  {
   "cell_type": "code",
   "execution_count": null,
   "metadata": {},
   "outputs": [],
   "source": [
    "# Evaluate the model\n",
    "score = accuracy_score(y_test, preds)\n",
    "score"
   ]
  },
  {
   "cell_type": "markdown",
   "metadata": {},
   "source": [
    "Lets see how ???"
   ]
  },
  {
   "cell_type": "code",
   "execution_count": null,
   "metadata": {},
   "outputs": [],
   "source": [
    "data = X_train[['Name', 'Sex', 'Cabin', 'Embarked']]\n",
    "print(data.shape)\n",
    "# print(init.head(5))\n",
    "print(data['Embarked'].isnull().value_counts())\n",
    "print('***************************************')\n",
    "imp = SimpleImputer(strategy='most_frequent')\n",
    "imp_data = imp.fit_transform(data)\n",
    "print(imp_data.shape)\n",
    "# imp_data[:,3]"
   ]
  },
  {
   "cell_type": "code",
   "execution_count": null,
   "metadata": {},
   "outputs": [],
   "source": [
    "OHE = OneHotEncoder(handle_unknown='ignore', sparse=False)\n",
    "OHE_data = OHE.fit_transform(imp_data)\n",
    "OHE_data.shape"
   ]
  },
  {
   "cell_type": "code",
   "execution_count": null,
   "metadata": {},
   "outputs": [],
   "source": [
    "# Lets include the name column\n",
    "data = X_train[['Name', 'Sex', 'Cabin', 'Embarked']]\n",
    "print(\"Before\", data.shape)\n",
    "imp_data = imp.fit_transform(data)\n",
    "OHE = OneHotEncoder(handle_unknown='ignore', sparse=False)\n",
    "OHE_data = OHE.fit_transform(imp_data)\n",
    "print(OHE_data.shape) # see how 700ish columns are added each name is OHencoded. Which is not good"
   ]
  },
  {
   "cell_type": "code",
   "execution_count": null,
   "metadata": {},
   "outputs": [],
   "source": [
    "data = X_train[['Sex', 'Cabin', 'Embarked']]\n",
    "print(\"Before\", data.shape)\n",
    "imp_data = imp.fit_transform(data)\n",
    "OHE = OneHotEncoder(handle_unknown='ignore', sparse=False)\n",
    "OHE_data = OHE.fit_transform(imp_data)\n",
    "print(OHE_data.shape) # 2(sex)+106(cabin)+3(Embarked) = 111"
   ]
  },
  {
   "cell_type": "markdown",
   "metadata": {},
   "source": [
    "### Ensemble Learning -  Bagging  and Boosting:\n",
    "1. One of the big disadvantage of decision tree classfier is that these kind of classifier works great with the data (training data) used to create them, but they are not flexible when it comes to classifying new samples. So we go with Ensemble Classifier.\n",
    "3. Ensemble Learning: Here we use multiple learning algorithm at the same time to increase accuracy. We can also use same algorithm different many times to get a ensemble model (Random forest classification). Ensemble method gives better accuracy, Higher consistncy(avoids overfitting) and also reduces bias-variace error. You decide on using the ensemble model if you find that the results of ensemble model(compared to single model) is worth the extra training. We can use ensemble model on classification and regression model.\n",
    "<img src=\"images/image60.png\" align = \"middle\" style=\"width:400px; height:150px;\"/>\n",
    "2. BootStrap aggregating or Bagging: It is one of the ensemble method. Here Multiple  models of learning algorithms are trained with subsets of DataSet Randomly picked  from the Training dataset.\n",
    "<img src=\"images/image61.png\" align = \"middle\" style=\"width600px; height:250px;\"/>\n",
    "3. Boosting: The approach is same as Bagging with little difference. In here we train a model with subset of training dataset and test the model using testing dataset. Then based on the results we will train the model again with subset of training dataset , but this time it includes each datapoint of the testing dataset with wrong predictions.\n",
    "<img src=\"images/image62.png\" align = \"middle\" style=\"width600px; height:250px;\"/>"
   ]
  },
  {
   "cell_type": "markdown",
   "metadata": {},
   "source": [
    "### RandomForestClassifier:\n",
    "1. This is one of the Ensemble Classifier. Random forest combines the simplicity of decision tree with flexibity that results in vast improvement in accuracy.\n",
    "2. \n"
   ]
  },
  {
   "cell_type": "code",
   "execution_count": null,
   "metadata": {},
   "outputs": [],
   "source": []
  },
  {
   "cell_type": "code",
   "execution_count": null,
   "metadata": {},
   "outputs": [],
   "source": []
  },
  {
   "cell_type": "code",
   "execution_count": null,
   "metadata": {},
   "outputs": [],
   "source": []
  },
  {
   "cell_type": "code",
   "execution_count": null,
   "metadata": {},
   "outputs": [],
   "source": []
  },
  {
   "cell_type": "code",
   "execution_count": null,
   "metadata": {},
   "outputs": [],
   "source": []
  },
  {
   "cell_type": "code",
   "execution_count": null,
   "metadata": {},
   "outputs": [],
   "source": []
  },
  {
   "cell_type": "code",
   "execution_count": null,
   "metadata": {},
   "outputs": [],
   "source": []
  },
  {
   "cell_type": "code",
   "execution_count": null,
   "metadata": {},
   "outputs": [],
   "source": []
  },
  {
   "cell_type": "code",
   "execution_count": null,
   "metadata": {},
   "outputs": [],
   "source": []
  },
  {
   "cell_type": "code",
   "execution_count": null,
   "metadata": {},
   "outputs": [],
   "source": []
  },
  {
   "cell_type": "code",
   "execution_count": null,
   "metadata": {},
   "outputs": [],
   "source": []
  },
  {
   "cell_type": "code",
   "execution_count": null,
   "metadata": {},
   "outputs": [],
   "source": []
  },
  {
   "cell_type": "code",
   "execution_count": null,
   "metadata": {},
   "outputs": [],
   "source": []
  },
  {
   "cell_type": "code",
   "execution_count": null,
   "metadata": {},
   "outputs": [],
   "source": []
  }
 ],
 "metadata": {
  "kernelspec": {
   "display_name": "Python 3",
   "language": "python",
   "name": "python3"
  },
  "language_info": {
   "codemirror_mode": {
    "name": "ipython",
    "version": 3
   },
   "file_extension": ".py",
   "mimetype": "text/x-python",
   "name": "python",
   "nbconvert_exporter": "python",
   "pygments_lexer": "ipython3",
   "version": "3.8.3"
  }
 },
 "nbformat": 4,
 "nbformat_minor": 2
}
