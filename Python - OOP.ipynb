{
 "cells": [
  {
   "cell_type": "markdown",
   "metadata": {},
   "source": [
    "## Advanced Python - OOP"
   ]
  },
  {
   "cell_type": "markdown",
   "metadata": {},
   "source": [
    "### Module and Package:\n",
    "1. Module: Any python file with a .py extension is a python module.\n",
    "2. Package: A set of .py files in a directory with a special file named \\_\\_init__.py forms a package. his file can be empty, and it indicates that the directory it contains is a Python package, so it can be imported the same way a module can be imported.\n",
    "4. The \\_\\_init__.py file can also decide which modules the package exports as the API, while keeping other modules internal, by overriding the \\_\\_all__ variable, like so:\n",
    "    \\_\\_init__.py :\n",
    "    \\_\\_all__ = [\"bar\"]\n",
    "    \n",
    "3. Say example foo is a directory which contains two files bar.py and _init_.py, then we can import bar module in 2 ways:\n",
    "    1. import foo.bar\n",
    "    2. from foo import bar\n",
    "    3. Difference between the two: https://stackoverflow.com/questions/710551/use-import-module-or-from-module-import"
   ]
  },
  {
   "cell_type": "markdown",
   "metadata": {},
   "source": [
    "## Classes\n",
    "https://docs.python.org/3/tutorial/classes.html#classes\n",
    "1. Classes provide a means of bundling data and functionality(methods which operate on that data) together. A class is a template for objects. ... A class also describes object behavior. An object is a member or an \"instance\" of a class. Each class instance can have attributes attached to it for maintaining its state. Class instances can also have methods (defined by its class) for modifying its state.\n",
    "2. __Instance Variables__: Are variables that are unique to each instance. Ex: self.first, self.last  \n",
    "    a. __Instance variable rules__:        \n",
    "        On use via instance (self.x), search order:\n",
    "            * (1) instance, (2) class, (3) base classes\n",
    "            * this also works for method lookup        \n",
    "        On assigment via instance (self.x = ...):\n",
    "            * always makes an instance variable\n",
    "            * Class variables \"default\" for instance variables\n",
    "        But...!\n",
    "            * mutable class variable: one copy shared by all\n",
    "            * mutable instance variable: each instance its own\n",
    "3. __Class Variables__: Are variables  that are shared amound all instances of a class. When you access the class variables we either have to access it through the class instance or object instance Ex. raise_amount is accessed using Employee.raise_amount or self.raise_amount. So it depends on use case if you want to use self.raise_amount or Employee.raise_amount. If you use self.raise_amount if you want the implementation to be flexible enough so you can give different raise_amount to differnet employees. \n",
    "4. __BUT__ : Its always best practice to not change the value of a class variable for one perticular instance. That defeats the purpose of class variables.Like for example list should never be used as class variables. Check: https://docs.python.org/3/tutorial/classes.html#class-and-instance-variables"
   ]
  },
  {
   "cell_type": "code",
   "execution_count": 2,
   "metadata": {},
   "outputs": [],
   "source": [
    "class Employee:\n",
    "    raise_amount = 1.04\n",
    "    \n",
    "    def __init__(self, first, last, pay):\n",
    "        self.first = first\n",
    "        self.last = last\n",
    "        self.pay = pay\n",
    "        self.email = self.first + \".\" + self.last + \"@company.com\"\n",
    "        self.echo()  # This method is called automatically when a object is instantiated.\n",
    "\n",
    "    def echo(self):\n",
    "        print(\"Hello {}!\".format(self.first))\n",
    "    \n",
    "    # Here self.raise_amount is used so if self.raise_amount of an employee is differnt than Employee.raise_amount \n",
    "    # Then differnt hike is applied to that perticular employee.\n",
    "    def raise_apply(self):\n",
    "        self.pay = self.pay * self.raise_amount \n"
   ]
  },
  {
   "cell_type": "code",
   "execution_count": 3,
   "metadata": {},
   "outputs": [
    {
     "name": "stdout",
     "output_type": "stream",
     "text": [
      "Hello veena!\n",
      "Hello Seema!\n"
     ]
    }
   ],
   "source": [
    "emp1 = Employee(\"veena\", \"kalburgi\", 50000)\n",
    "emp2 = Employee(\"Seema\", \"Mehar\", 40000)"
   ]
  },
  {
   "cell_type": "code",
   "execution_count": 4,
   "metadata": {},
   "outputs": [
    {
     "name": "stdout",
     "output_type": "stream",
     "text": [
      "1.04\n",
      "1.04\n",
      "1.04\n"
     ]
    }
   ],
   "source": [
    "print(Employee.raise_amount)\n",
    "print(emp1.raise_amount)\n",
    "print(emp2.raise_amount)"
   ]
  },
  {
   "cell_type": "code",
   "execution_count": 9,
   "metadata": {},
   "outputs": [
    {
     "name": "stdout",
     "output_type": "stream",
     "text": [
      "1.07\n",
      "1.06\n",
      "1.07\n",
      "-------------------------\n",
      "1.07\n",
      "1.05\n",
      "1.07\n",
      "-------------------------\n",
      "1.06\n",
      "1.05\n",
      "1.06\n",
      "-------------------------\n",
      "1.06\n",
      "-------------------------\n",
      "1.07\n",
      "1.06\n",
      "1.07\n",
      "{'__module__': '__main__', 'raise_amount': 1.07, '__init__': <function Employee.__init__ at 0x000002659961EE50>, 'echo': <function Employee.echo at 0x000002659961EEE0>, 'raise_apply': <function Employee.raise_apply at 0x000002659961EF70>, '__dict__': <attribute '__dict__' of 'Employee' objects>, '__weakref__': <attribute '__weakref__' of 'Employee' objects>, '__doc__': None}\n"
     ]
    }
   ],
   "source": [
    "# When we try to access a attribute on an instance, it will first check if an instance contains that \n",
    "# attribute, then it will check if the class or parent class contians that attribute\n",
    "print(Employee.raise_amount)\n",
    "print(emp1.raise_amount)\n",
    "print(emp2.raise_amount)\n",
    "print(\"{}\".format('-'*25))\n",
    "# If you change the class variable of a instance then it effects only that instance and not others.\n",
    "emp1.raise_amount = 1.05 # this created a raise_amount attribute for that instance which was not existed before\n",
    "# Check the __dict__ for conformation\n",
    "print(Employee.raise_amount)\n",
    "print(emp1.raise_amount)\n",
    "print(emp2.raise_amount)\n",
    "print(\"{}\".format('-'*25))\n",
    "Employee.raise_amount = 1.06\n",
    "print(Employee.raise_amount)\n",
    "print(emp1.raise_amount)\n",
    "print(emp2.raise_amount)\n",
    "print(\"{}\".format('-'*25))\n",
    "# now you want to give emp2 same hike as Employee\n",
    "emp1.raise_amount = Employee.raise_amount\n",
    "print(emp1.raise_amount)\n",
    "emp1.__dict__\n",
    "print(\"{}\".format('-'*25))\n",
    "Employee.raise_amount = 1.07\n",
    "print(Employee.raise_amount)\n",
    "print(emp1.raise_amount)\n",
    "print(emp2.raise_amount)\n"
   ]
  },
  {
   "cell_type": "code",
   "execution_count": 133,
   "metadata": {},
   "outputs": [
    {
     "name": "stdout",
     "output_type": "stream",
     "text": [
      "1\n",
      "{'a': 1}\n",
      "0\n",
      "{}\n"
     ]
    }
   ],
   "source": [
    "# Ex of class variable as being a immutable object\n",
    "class Employee:\n",
    "    a = 0\n",
    "emp1 = Employee()\n",
    "emp2 = Employee()\n",
    "emp1.a = 1 # this creates a instance variable as int is a immutable object\n",
    "print(emp1.a)\n",
    "print(emp1.__dict__)\n",
    "print(emp2.a)\n",
    "print(emp2.__dict__)"
   ]
  },
  {
   "cell_type": "code",
   "execution_count": 126,
   "metadata": {},
   "outputs": [
    {
     "name": "stdout",
     "output_type": "stream",
     "text": [
      "[1]\n",
      "{}\n",
      "[1]\n",
      "{}\n"
     ]
    }
   ],
   "source": [
    "# Example of class variable as being a mutable object.\n",
    "# Never use a class variable as mutable objects that will give you surprising results as it can be muted by any instance.\n",
    "class Employee:\n",
    "    b = []\n",
    "emp1 = Employee()\n",
    "emp2 = Employee()\n",
    "emp1.b.append(1) # this does not creates a instance variable as list is a mutable object\n",
    "# emp1.b+=[1]\n",
    "print(emp1.b)\n",
    "print(emp1.__dict__)\n",
    "print(emp2.b)\n",
    "print(emp2.__dict__)"
   ]
  },
  {
   "cell_type": "markdown",
   "metadata": {},
   "source": [
    "### Class methods and static methods\n",
    "1. __Class methods__ : By defaut the first argument passed to a regular method is the instance (self). But if we want to pass the class as the first argument to a method, we would have to convert the regular method into a class method by adding @classmethod decorator to the method. We need class methods as it can modify a class state(raise_amount) that would apply across all the instances of the class.\n",
    "2. Class methods are also used as a alternative constructors. Usually the classmethod in this(alternative constructor) case starts with a 'from'. See example below\n",
    "3. __Static Methods__: Static methods don't pass anything automatically (neither 'self' as in regular methods nor 'cls'as in classmethods'). They just behaive like regular methods. We use @staticmethod decorator. If you don't happen to use a 'self' or 'cls' anywhere in youe method then probably that should be written as a static method."
   ]
  },
  {
   "cell_type": "code",
   "execution_count": 2,
   "metadata": {},
   "outputs": [
    {
     "name": "stdout",
     "output_type": "stream",
     "text": [
      "1.04\n",
      "1.04\n",
      "1.04\n"
     ]
    }
   ],
   "source": [
    "import datetime\n",
    "class Employee:\n",
    "    raise_amount = 1.04\n",
    "    \n",
    "    def __init__(self, first, last, pay):\n",
    "        self.first = first\n",
    "        self.last = last\n",
    "        self.pay = pay\n",
    "        self.email = self.first + \".\" + self.last + \"@company.com\"\n",
    "    \n",
    "    # Here self.raise_amount is used so if self.raise_amount of an employee is differnt than Employee.raise_amount \n",
    "    # Then differnt hike is applied to that perticular employee.\n",
    "    def raise_apply(self):\n",
    "        self.pay = self.pay * self.raise_amount \n",
    "    \n",
    "    @classmethod\n",
    "    def set_raise_amt(cls, amt):\n",
    "        cls.raise_amount = amt\n",
    "    \n",
    "    @classmethod\n",
    "    def from_string(cls, emp_str):\n",
    "        first, last, pay = emp_str.split('-')\n",
    "        return cls(first, last, pay)\n",
    "    \n",
    "    @staticmethod\n",
    "    def is_workday(day):\n",
    "        if day.weekday() == 5 or day.weekday() == 6: \n",
    "            return False\n",
    "        return True\n",
    "    \n",
    "emp1 = Employee(\"Seema\", \"Murthy\", 55999)\n",
    "emp2 = Employee(\"Naina\", \"Mehar\", 87887)\n",
    "print(Employee.raise_amount)\n",
    "print(emp1.raise_amount)\n",
    "print(emp2.raise_amount)"
   ]
  },
  {
   "cell_type": "code",
   "execution_count": 154,
   "metadata": {},
   "outputs": [
    {
     "name": "stdout",
     "output_type": "stream",
     "text": [
      "1.06\n",
      "1.06\n",
      "1.06\n"
     ]
    }
   ],
   "source": [
    "Employee.set_raise_amt(1.06)\n",
    "print(Employee.raise_amount)\n",
    "print(emp1.raise_amount)\n",
    "print(emp2.raise_amount)"
   ]
  },
  {
   "cell_type": "code",
   "execution_count": 8,
   "metadata": {},
   "outputs": [
    {
     "data": {
      "text/plain": [
       "'John.Doe@company.com'"
      ]
     },
     "execution_count": 8,
     "metadata": {},
     "output_type": "execute_result"
    }
   ],
   "source": [
    "# Classmethod as alternative consturctor.\n",
    "# Say we have a scenario where we are receiving employees detail as a string\n",
    "# @classmethod \n",
    "# def from_string(cls, emp_str):\n",
    "#     first, last, pay = emp_str.split('-')\n",
    "#     return cls(first, last, pay)\n",
    "emp3_str = 'John-Doe-70000'\n",
    "emp3 = Employee.from_string(emp3_str)\n",
    "emp3.email"
   ]
  },
  {
   "cell_type": "code",
   "execution_count": 3,
   "metadata": {},
   "outputs": [
    {
     "name": "stdout",
     "output_type": "stream",
     "text": [
      "2020-05-02\n"
     ]
    },
    {
     "data": {
      "text/plain": [
       "False"
      ]
     },
     "execution_count": 3,
     "metadata": {},
     "output_type": "execute_result"
    }
   ],
   "source": [
    "# Check if a day is workday or not. Here this acts as a static method as it does not depend on\n",
    "# class or instance variables to do its job\n",
    "my_date = datetime.date(2020, 5, 2)\n",
    "print(my_date)\n",
    "Employee.is_workday(my_date)"
   ]
  },
  {
   "cell_type": "markdown",
   "metadata": {},
   "source": [
    "### Magic/Dunder methods\n",
    "1. Magic or Dunder methods are special methods which allow us to emulate some built in behaviour in python. These are also used to implement operator overloading\n",
    "2. These methods are always surroundede by double underscore (dunder).\n",
    "3. List of all teh Magic method names https://docs.python.org/3/reference/datamodel.html#special-method-names\n",
    "4. https://stackoverflow.com/questions/30472716/dirobject-vs-object-dir\n",
    "    My understanding here is __dir(object) is same as object.\\_\\_dir__()__\n",
    "5. \n"
   ]
  },
  {
   "cell_type": "markdown",
   "metadata": {},
   "source": [
    "### dir() and getattr():\n",
    "1. dir() : is a powerful inbuilt function in Python3, which returns list of the attributes and methods of any object (say functions , modules, strings, lists, dictionaries etc.)\n",
    "2. dir() tries to return a valid list of attributes of the object it is called upon. Also, dir() function behaves rather differently with different type of objects, as it aims to produce the most relevant one, rather than the complete information.\n",
    "    * For Class Objects, it returns a list of names of all the valid attributes and base attributes as well.\n",
    "    * For Modules/Library objects, it tries to return a list of names of all the attributes, contained in that module.\n",
    "    * If no parameters are passed it returns a list of names in the current local scope. \n",
    "    \n",
    "3.__getattr(obj, key, def)__ : getattr() function is used to access the attribute value of an object and also give an option of executing the default value in case of unavailability of the key. This has greater application to check for available keys in web development and many other phases of day-to-day programming.\n",
    "    * https://www.geeksforgeeks.org/python-getattr-method/ \n",
    "    * __Syntax__ : getattr(obj, key, def)\n",
    "        __Parameters__ :\n",
    "        __obj__ : The object whose attributes need to be processed.\n",
    "        __key__ : The attribute of object\n",
    "        __def__ : The default value that need to be printed in case attribute is not found.\n",
    "        __Returns__ :\n",
    "        Object value if value is available, default value in case attribute is not present\n",
    "        and returns AttributeError in case attribute is not present and default value is not\n",
    "        specified.\n",
    "    *__Applications__ : The are many applications of getattr(), few of them already mentioned in cases of absence of attributes of objects, in web developments where some of form attributes are optional. Also useful in cases of Machine Learning feature collections in case some features sometimes go missing in data collection."
   ]
  },
  {
   "cell_type": "code",
   "execution_count": 282,
   "metadata": {},
   "outputs": [
    {
     "data": {
      "text/plain": [
       "['__add__',\n",
       " '__class__',\n",
       " '__contains__',\n",
       " '__delattr__',\n",
       " '__delitem__',\n",
       " '__dir__',\n",
       " '__doc__',\n",
       " '__eq__',\n",
       " '__format__',\n",
       " '__ge__',\n",
       " '__getattribute__',\n",
       " '__getitem__',\n",
       " '__gt__',\n",
       " '__hash__',\n",
       " '__iadd__',\n",
       " '__imul__',\n",
       " '__init__',\n",
       " '__init_subclass__',\n",
       " '__iter__',\n",
       " '__le__',\n",
       " '__len__',\n",
       " '__lt__',\n",
       " '__mul__',\n",
       " '__ne__',\n",
       " '__new__',\n",
       " '__reduce__',\n",
       " '__reduce_ex__',\n",
       " '__repr__',\n",
       " '__reversed__',\n",
       " '__rmul__',\n",
       " '__setattr__',\n",
       " '__setitem__',\n",
       " '__sizeof__',\n",
       " '__str__',\n",
       " '__subclasshook__',\n",
       " 'append',\n",
       " 'clear',\n",
       " 'copy',\n",
       " 'count',\n",
       " 'extend',\n",
       " 'index',\n",
       " 'insert',\n",
       " 'pop',\n",
       " 'remove',\n",
       " 'reverse',\n",
       " 'sort']"
      ]
     },
     "execution_count": 282,
     "metadata": {},
     "output_type": "execute_result"
    }
   ],
   "source": [
    "# dir() : dir() is a powerful inbuilt function in Python3, which returns list of the attributes and \n",
    "# methods of any object (say functions , modules, strings, lists, dictionaries etc.)\n",
    "a = [1,2,3]\n",
    "dir(a)"
   ]
  },
  {
   "cell_type": "code",
   "execution_count": 10,
   "metadata": {},
   "outputs": [],
   "source": [
    "class Employee:  \n",
    "    class_attribute = 23\n",
    "    \n",
    "    def __init__(self, first, last, pay):\n",
    "        self.first = first\n",
    "        self.last = last\n",
    "        self.pay = pay\n",
    "        self.email = self.first + \".\" + self.last + \"@company.com\"\n",
    "       \n",
    "    def fullname(self):\n",
    "        return '{} {}'.format(self.first, self.last)\n",
    "    \n",
    "    def __add__(self, other):\n",
    "        if isinstance(other, Employee):\n",
    "            return self.pay + other.pay\n",
    "        return NotImplemented\n",
    "    \n",
    "    def __repr__(self):\n",
    "        return \"Employee('{}', '{}', {})\".format(self.first, self.last, self.pay)\n",
    "    \n",
    "    def __str__(self):\n",
    "        return '{} - {}'.format(self.fullname(), self.email)\n",
    "    \n",
    "emp1 = Employee('Veena', 'Kalburgi', 90000)\n",
    "emp2 = Employee(\"Seema\", \"Mehar\", 40000)"
   ]
  },
  {
   "cell_type": "code",
   "execution_count": 11,
   "metadata": {},
   "outputs": [
    {
     "name": "stdout",
     "output_type": "stream",
     "text": [
      "<function Employee.__add__ at 0x000002053DA094C0>\n",
      "23\n"
     ]
    },
    {
     "data": {
      "text/plain": [
       "<function __main__.Employee.fullname(self)>"
      ]
     },
     "execution_count": 11,
     "metadata": {},
     "output_type": "execute_result"
    }
   ],
   "source": [
    "print(getattr(Employee, '__add__'))\n",
    "print(getattr(Employee, 'class_attribute'))\n",
    "getattr(Employee, 'fullname')"
   ]
  },
  {
   "cell_type": "code",
   "execution_count": 284,
   "metadata": {},
   "outputs": [
    {
     "data": {
      "text/plain": [
       "[('__add__', function),\n",
       " ('__class__', type),\n",
       " ('__delattr__', wrapper_descriptor),\n",
       " ('__dict__', mappingproxy),\n",
       " ('__dir__', method_descriptor),\n",
       " ('__doc__', NoneType),\n",
       " ('__eq__', wrapper_descriptor),\n",
       " ('__format__', method_descriptor),\n",
       " ('__ge__', wrapper_descriptor),\n",
       " ('__getattribute__', wrapper_descriptor),\n",
       " ('__gt__', wrapper_descriptor),\n",
       " ('__hash__', wrapper_descriptor),\n",
       " ('__init__', function),\n",
       " ('__init_subclass__', builtin_function_or_method),\n",
       " ('__le__', wrapper_descriptor),\n",
       " ('__lt__', wrapper_descriptor),\n",
       " ('__module__', str),\n",
       " ('__ne__', wrapper_descriptor),\n",
       " ('__new__', builtin_function_or_method),\n",
       " ('__reduce__', method_descriptor),\n",
       " ('__reduce_ex__', method_descriptor),\n",
       " ('__repr__', function),\n",
       " ('__setattr__', wrapper_descriptor),\n",
       " ('__sizeof__', method_descriptor),\n",
       " ('__str__', function),\n",
       " ('__subclasshook__', builtin_function_or_method),\n",
       " ('__weakref__', getset_descriptor),\n",
       " ('class_attribute', int),\n",
       " ('fullname', function)]"
      ]
     },
     "execution_count": 284,
     "metadata": {},
     "output_type": "execute_result"
    }
   ],
   "source": [
    "# dir(Employee) # Here you won't have much details of what is what so use below code\n",
    "\n",
    "[(name,type(getattr(Employee,name))) for name in dir(Employee)]\n",
    "# Below is for analysis\n",
    "# for name in dir(Employee):\n",
    "#     print(name , type(getattr(Employee, name)))\n",
    "\n",
    "# this lists instance attribute also\n",
    "# for name in dir(emp1):\n",
    "#     print(name , type(getattr(emp1, name)))"
   ]
  },
  {
   "cell_type": "markdown",
   "metadata": {},
   "source": [
    "__ __dict__ __: This dunder method gives access to namespace of any object or class. This dictionary like object contians all the atributes defined for the object. Basically it contains all the attributes which describe the object in question"
   ]
  },
  {
   "cell_type": "code",
   "execution_count": 97,
   "metadata": {},
   "outputs": [
    {
     "data": {
      "text/plain": [
       "{'first': 'Veena',\n",
       " 'last': 'Kalburgi',\n",
       " 'pay': 90000,\n",
       " 'email': 'Veena.Kalburgi@company.com'}"
      ]
     },
     "execution_count": 97,
     "metadata": {},
     "output_type": "execute_result"
    }
   ],
   "source": [
    "emp1.__dict__"
   ]
  },
  {
   "cell_type": "code",
   "execution_count": 98,
   "metadata": {},
   "outputs": [
    {
     "data": {
      "text/plain": [
       "mappingproxy({'__module__': '__main__',\n",
       "              '__init__': <function __main__.Employee.__init__(self, first, last, pay)>,\n",
       "              'fullname': <function __main__.Employee.fullname(self)>,\n",
       "              '__add__': <function __main__.Employee.__add__(self, other)>,\n",
       "              '__repr__': <function __main__.Employee.__repr__(self)>,\n",
       "              '__str__': <function __main__.Employee.__str__(self)>,\n",
       "              '__dict__': <attribute '__dict__' of 'Employee' objects>,\n",
       "              '__weakref__': <attribute '__weakref__' of 'Employee' objects>,\n",
       "              '__doc__': None})"
      ]
     },
     "execution_count": 98,
     "metadata": {},
     "output_type": "execute_result"
    }
   ],
   "source": [
    "Employee.__dict__"
   ]
  },
  {
   "cell_type": "markdown",
   "metadata": {},
   "source": [
    "### Difference between __ __str__ __ and __ __repr__ __ :\n",
    "1. According to the official Python documentation, __repr__ is a built-in function used to compute the \"official\" string reputation of an object, while __str__ is a built-in function that computes the \"informal\" string representations of an object. So both __repr__ and __str__ are used to represent objects, but in different ways.\n",
    "2. The repr is used for debuggin, logging and officail documentation. It is really meant to be seen by other developers. Whereas str is more like a readble representation of an object. And is meant to be used as a display to the end user.\n",
    "3. Calling __str__ on a object will fall back to __repr__ if __str__ does not exist. So __repr__ is a must have.\n",
    "4. Good rule of thumb for __repr__ is that return something so that if you copy paste it in python than will create back the same object."
   ]
  },
  {
   "cell_type": "code",
   "execution_count": 78,
   "metadata": {},
   "outputs": [
    {
     "name": "stdout",
     "output_type": "stream",
     "text": [
      "Employee('Veena', 'Kalburgi', 90000)\n",
      "Veena Kalburgi - Veena.Kalburgi@company.com\n"
     ]
    }
   ],
   "source": [
    "print(repr(emp1))\n",
    "print(str(emp1))"
   ]
  },
  {
   "cell_type": "code",
   "execution_count": 87,
   "metadata": {},
   "outputs": [
    {
     "name": "stdout",
     "output_type": "stream",
     "text": [
      "2\n",
      "2\n",
      "veena\n",
      "'veena'\n"
     ]
    }
   ],
   "source": [
    "#The returns of repr() and str() are identical for int x, \n",
    "# but there's a difference between the return values for str  y -- one is formal and the other is informal\n",
    "a=2\n",
    "print(str(a))\n",
    "print(repr(a))\n",
    "v=\"veena\"\n",
    "print(str(v))\n",
    "print(repr(v))"
   ]
  },
  {
   "cell_type": "markdown",
   "metadata": {},
   "source": [
    "### Method/Operator Overloading __ __add__ __:\n",
    "1. So the __ __add__ __ is a builtin function, say int.\\__add__(1,2), which we can overload in our Employee class to add the salaries of employees.\n",
    "3. Similarly you can overload the \\_\\_len__ method to add some functionality that makes sense to your class.\n",
    "4. It is a good practice to return NotImplemented( rather than throwing a error) as in \\_\\_add__ (in above class), because if the other object is not of type Employee the \\_\\_add__ will return NotImplemented. Now the interpreter will check to see if there is a \\_\\_add__ in other class defination of which the other object belongs to, to see if the other class knows how to handle the operator. Eventually it will throw a error.\n",
    "2. https://docs.python.org/3/reference/datamodel.html#emulating-numeric-types"
   ]
  },
  {
   "cell_type": "code",
   "execution_count": 86,
   "metadata": {},
   "outputs": [
    {
     "name": "stdout",
     "output_type": "stream",
     "text": [
      "130000\n"
     ]
    }
   ],
   "source": [
    "# def __add__(self, other):\n",
    "#   if isinstance(other, Employee):\n",
    "#             return self.pay + other.pay\n",
    "#   return NotImplemented\n",
    "print(emp1 + emp2)"
   ]
  },
  {
   "cell_type": "code",
   "execution_count": 99,
   "metadata": {},
   "outputs": [
    {
     "name": "stdout",
     "output_type": "stream",
     "text": [
      "4\n",
      "4\n"
     ]
    }
   ],
   "source": [
    "print(len('test'))\n",
    "print('test'.__len__())\n",
    "#we can overload this method also in our class"
   ]
  },
  {
   "cell_type": "markdown",
   "metadata": {},
   "source": [
    "### Property Decorators - Getter, Setter, Deleter:\n",
    "1. https://www.youtube.com/watch?v=jCzT9XFZ5bw&list=PL-osiE80TeTsqhIuOqKhwlXsIBIdSeYtc&index=6\n",
    "2. Property decoarator defines a method which allows us to access it like a attribute."
   ]
  },
  {
   "cell_type": "code",
   "execution_count": 105,
   "metadata": {},
   "outputs": [],
   "source": [
    "class Employee:   \n",
    "    def __init__(self, first, last):\n",
    "        self.first = first\n",
    "        self.last = last\n",
    "        self.email = first + \".\" + last + \"@email.com\"\n",
    "       \n",
    "    def fullname(self):\n",
    "        return '{} {}'.format(self.first, self.last)\n",
    "    \n",
    "emp1 = Employee('Veena', 'Kalburgi')\n"
   ]
  },
  {
   "cell_type": "code",
   "execution_count": 102,
   "metadata": {},
   "outputs": [
    {
     "name": "stdout",
     "output_type": "stream",
     "text": [
      "Naina\n",
      "Kalburgi\n",
      "Veena.Kalburgi@email.com\n"
     ]
    }
   ],
   "source": [
    "emp1.first = \"Naina\"\n",
    "print(emp1.first)\n",
    "print(emp1.last)\n",
    "print(emp1.email) # see that email is not updated."
   ]
  },
  {
   "cell_type": "markdown",
   "metadata": {},
   "source": [
    "To solve this problem we use property decorator. Check out corey video to see why property decorator is the best option here."
   ]
  },
  {
   "cell_type": "code",
   "execution_count": 117,
   "metadata": {},
   "outputs": [],
   "source": [
    "class Employee:   \n",
    "    def __init__(self, first, last):\n",
    "        self.first = first\n",
    "        self.last = last\n",
    "       \n",
    "    @property\n",
    "    def email(self):\n",
    "        return '{}.{}@email.com'.format(self.first, self.last)\n",
    "    \n",
    "    # if you put @property to fullname you can access it as a attribute too rather than method\n",
    "    @property\n",
    "    def fullname(self):\n",
    "        return '{} {}'.format(self.first, self.last)\n",
    "    \n",
    "    # what if you want to change the first and last name of a person using fullname\n",
    "    @fullname.setter\n",
    "    def fullname(self, new_name):\n",
    "        first, last = new_name.split(' ')\n",
    "        self.first = first\n",
    "        self.last = last\n",
    "    \n",
    "    # similarly we can use deleter to delete and clean up some code.Say delete email\n",
    "    @fullname.deleter\n",
    "    def fullname(self):\n",
    "        print(\"Deleting {}\".format(self.fullname))\n",
    "        self.first = None\n",
    "        self.last = None\n",
    "    \n",
    "emp1 = Employee('Veena', 'Kalburgi')"
   ]
  },
  {
   "cell_type": "code",
   "execution_count": 109,
   "metadata": {},
   "outputs": [
    {
     "name": "stdout",
     "output_type": "stream",
     "text": [
      "Naina\n",
      "Kalburgi\n",
      "Naina.Kalburgi@email.com\n",
      "Naina Kalburgi\n"
     ]
    }
   ],
   "source": [
    "emp1.first = \"Naina\"\n",
    "print(emp1.first)\n",
    "print(emp1.last)\n",
    "print(emp1.email)\n",
    "print(emp1.fullname)"
   ]
  },
  {
   "cell_type": "code",
   "execution_count": 111,
   "metadata": {},
   "outputs": [
    {
     "name": "stdout",
     "output_type": "stream",
     "text": [
      "Seema\n",
      "Mehar\n",
      "Seema.Mehar@email.com\n",
      "Seema Mehar\n"
     ]
    }
   ],
   "source": [
    "emp1.fullname = \"Seema Mehar\"\n",
    "print(emp1.first)\n",
    "print(emp1.last)\n",
    "print(emp1.email)\n",
    "print(emp1.fullname)"
   ]
  },
  {
   "cell_type": "code",
   "execution_count": 119,
   "metadata": {},
   "outputs": [
    {
     "name": "stdout",
     "output_type": "stream",
     "text": [
      "Deleting None None\n",
      "None.None@email.com\n",
      "None None\n"
     ]
    }
   ],
   "source": [
    "# not a good example this is just for demo\n",
    "del emp1.fullname\n",
    "print(emp1.email)\n",
    "print(emp1.fullname)"
   ]
  },
  {
   "cell_type": "markdown",
   "metadata": {},
   "source": [
    "### Abstraction - Public Private and Protected\n",
    "1. Abstraction is a way to protect/abstract class attributes/methods from being modified. Access specifiers in Python have an important role to play in securing data from unauthorized access and in preventing it from being exploited.\n",
    "1. __Private__: Single underscore indicate that the attribute or method is intended to be private. These are only for internal use. \" from M import * \" does not import objects whose name starts with an underscore.  \n",
    "2. __Protected__\n",
    "    * Any identifier of the form __ __spam__ (at least two leading underscores, at most one trailing underscore) is textually replaced with _classname__spam, where classname is the current class name with leading underscore(s) stripped.\n",
    "    * Protected members (in C++ and JAVA) are those members of the class which cannot be accessed outside the class but can be accessed from within the class and it’s subclasses. To accomplish this in Python, just follow the convention by prefixing the name of the member by a single underscore “_”."
   ]
  },
  {
   "cell_type": "code",
   "execution_count": 159,
   "metadata": {},
   "outputs": [],
   "source": [
    "class A:\n",
    "    def __init__(self):\n",
    "        self.foo = 1\n",
    "        self._bar = 2\n",
    "        self.__zap = 3 # this variable is protected so cannot be accessed (obj.__zap) from outside of the class\n",
    "    def change_zap(self, zap):\n",
    "        self.__zap = zap # we are able to access teh protected variable from within the class without using _classname.\n",
    "        \n",
    "class B(A):\n",
    "    def update_zap(self, zap):\n",
    "        self.__zap = zap"
   ]
  },
  {
   "cell_type": "code",
   "execution_count": 153,
   "metadata": {},
   "outputs": [
    {
     "name": "stdout",
     "output_type": "stream",
     "text": [
      "1\n",
      "2\n",
      "3\n",
      "4\n",
      "5\n",
      "6\n"
     ]
    }
   ],
   "source": [
    "a1 = A()\n",
    "print(a1.foo)\n",
    "print(a1._bar)\n",
    "# print(a1.__zap) # throw error as with dunder the name is mangled\n",
    "print(a1._A__zap) # this is a way to access the protected attribute but not a good practice.\n",
    "a1.foo = 4\n",
    "a1._bar = 5\n",
    "a1._A__zap = 6 # you should not be accessing the protected variable using _classname__attribute\n",
    "print(a1.foo)\n",
    "print(a1._bar)\n",
    "print(a1._A__zap)"
   ]
  },
  {
   "cell_type": "code",
   "execution_count": 154,
   "metadata": {},
   "outputs": [
    {
     "data": {
      "text/plain": [
       "{'foo': 4, '_bar': 5, '_A__zap': 99}"
      ]
     },
     "execution_count": 154,
     "metadata": {},
     "output_type": "execute_result"
    }
   ],
   "source": [
    "a1.change_zap(99)\n",
    "a1.__dict__"
   ]
  },
  {
   "cell_type": "code",
   "execution_count": 160,
   "metadata": {},
   "outputs": [
    {
     "data": {
      "text/plain": [
       "{'foo': 1, '_bar': 2, '_A__zap': 3}"
      ]
     },
     "execution_count": 160,
     "metadata": {},
     "output_type": "execute_result"
    }
   ],
   "source": [
    "b1 = B()\n",
    "b1.__dict__"
   ]
  },
  {
   "cell_type": "code",
   "execution_count": 161,
   "metadata": {},
   "outputs": [
    {
     "data": {
      "text/plain": [
       "{'foo': 1, '_bar': 2, '_A__zap': 3, '_B__zap': 100}"
      ]
     },
     "execution_count": 161,
     "metadata": {},
     "output_type": "execute_result"
    }
   ],
   "source": [
    "b1.update_zap(100)\n",
    "b1.__dict__"
   ]
  },
  {
   "cell_type": "markdown",
   "metadata": {},
   "source": [
    "### Encapsulation:\n",
    "1. __Encapsulation__ : Encapsulation is one of the fundamental concepts in object-oriented programming (OOP). It describes the idea of wrapping data and the methods that work on data within one unit( called class). This puts restrictions on accessing variables and methods directly and can prevent the accidental modification of data. To prevent accidental change, an object’s variable can only be changed by an object’s method. Those type of variables are known as __private__ varibale.\n",
    "2. A class is an example of encapsulation as it encapsulates all the data that is member functions, variables, etc.\n",
    "3. __Composition__: Composition is one of the way to achive encapsulation. In composition, we do not inherit from the base class but establish relationships between classes through the use of instance variables that are references to other objects. In composition, a class known as composite contains an object of another class known to as component.In other words, a composite class has a component of another class.\n",
    "    * The composition relation between two classes is considered loosely coupled. That means that changes to the component class rarely affect the composite class, and changes to the composite class never affect the component class.\n",
    "    * When looking at two competing software designs, one based on inheritance and another based on composition, the composition solution usually is the most flexible. You can now look at how composition works.\n",
    "    * https://realpython.com/inheritance-composition-python/#composition-in-python\n",
    "4. Dynamic Extension: Another way to achieve encapsulation is Dynamic Extension. Sometimes it's necessary to model a concept that may be a subclass of another one, but it isn't possible to know which class should be its superclass until runtime. Not sure about what it means chek google."
   ]
  },
  {
   "cell_type": "code",
   "execution_count": 12,
   "metadata": {},
   "outputs": [
    {
     "name": "stdout",
     "output_type": "stream",
     "text": [
      "Veena Kalburgi is an employee\n",
      "3427 Empress Dr\n",
      "Naperville, Illinois 60564\n"
     ]
    }
   ],
   "source": [
    "# Composition : In this scenario where address itself can contain multiple fields. We can use composition rather than \n",
    "# inheritance. Actually inheritance does even make sense in this kind of situation.\n",
    "\n",
    "class Employee:   \n",
    "    def __init__(self, first, last, address=None):\n",
    "        self.first = first\n",
    "        self.last = last\n",
    "        self.email = first + \".\" + last + \"@email.com\"\n",
    "        self.address = address\n",
    "       \n",
    "    def fullname(self):\n",
    "        return '{} {}'.format(self.first, self.last)\n",
    "    \n",
    "    def __str__(self):\n",
    "        return '{} {} is an employee'.format(self.first, self.last)\n",
    "    \n",
    "class Address:\n",
    "    def __init__(self, street, city, state, zipcode, street2=''):\n",
    "        self.street = street\n",
    "        self.street2 = street2\n",
    "        self.city = city\n",
    "        self.state = state\n",
    "        self.zipcode = zipcode\n",
    "\n",
    "    def __str__(self):\n",
    "        lines = [self.street]\n",
    "        if self.street2:\n",
    "            lines.append(self.street2)\n",
    "        lines.append(f'{self.city}, {self.state} {self.zipcode}')\n",
    "        return '\\n'.join(lines)\n",
    "    \n",
    "emp1_address =  Address(\"3427 Empress Dr\", \"Naperville\", \"Illinois\", \"60564\")  \n",
    "emp1 = Employee('Veena', 'Kalburgi', emp1_address)\n",
    "print(emp1)\n",
    "print(emp1.address)"
   ]
  },
  {
   "cell_type": "markdown",
   "metadata": {},
   "source": [
    "### Inheritance:\n",
    "1. Inheritance is the process by which one class can acquire the properties of another class. The child class can add functionality or overwrite parent methods without effecting the parent class.\n",
    "2. By default  when you create a subclass it will inherit all the attributes (class level attributes also) and methods of the parent class.\n",
    "3. Use __help(classname)__ to visiualize the inheritance of a subclass or class.\n",
    "4. __super().parent_methodName(arguments)__ is used to call a parent method from subclasses.\n",
    "5. isinstance() and issubclass() are helper functions\n",
    "6. https://www.digitalocean.com/community/tutorials/understanding-class-inheritance-in-python-3\n"
   ]
  },
  {
   "cell_type": "code",
   "execution_count": 13,
   "metadata": {},
   "outputs": [],
   "source": [
    "# create Developer subclass, with developer subclass having to handle one more initialization argument, the developer\n",
    "# main programming language.\n",
    "\n",
    "class Developer(Employee):\n",
    "    raise_amount = 1.10  # developer will get higher hike\n",
    "    def __init__(self, first, last, pay, prog_lang):\n",
    "        super().__init__(first, last, pay)\n",
    "        # Employee.__init__(self, first, last, pay) # same as above line of code.\n",
    "        self.prog_lang = prog_lang"
   ]
  },
  {
   "cell_type": "code",
   "execution_count": 14,
   "metadata": {},
   "outputs": [],
   "source": [
    "dev1 = Developer('Naina', 'Se', 101001, 'JAVA')"
   ]
  },
  {
   "cell_type": "code",
   "execution_count": 22,
   "metadata": {},
   "outputs": [
    {
     "name": "stdout",
     "output_type": "stream",
     "text": [
      "Help on class Developer in module __main__:\n",
      "\n",
      "class Developer(Employee)\n",
      " |  Developer(first, last, pay, prog_lang)\n",
      " |  \n",
      " |  Method resolution order:\n",
      " |      Developer\n",
      " |      Employee\n",
      " |      builtins.object\n",
      " |  \n",
      " |  Methods defined here:\n",
      " |  \n",
      " |  __init__(self, first, last, pay, prog_lang)\n",
      " |      Initialize self.  See help(type(self)) for accurate signature.\n",
      " |  \n",
      " |  ----------------------------------------------------------------------\n",
      " |  Data and other attributes defined here:\n",
      " |  \n",
      " |  raise_amount = 1.1\n",
      " |  \n",
      " |  ----------------------------------------------------------------------\n",
      " |  Methods inherited from Employee:\n",
      " |  \n",
      " |  __str__(self)\n",
      " |      Return str(self).\n",
      " |  \n",
      " |  fullname(self)\n",
      " |  \n",
      " |  ----------------------------------------------------------------------\n",
      " |  Data descriptors inherited from Employee:\n",
      " |  \n",
      " |  __dict__\n",
      " |      dictionary for instance variables (if defined)\n",
      " |  \n",
      " |  __weakref__\n",
      " |      list of weak references to the object (if defined)\n",
      "\n"
     ]
    }
   ],
   "source": [
    "# helper function to look at the inherited functionality\n",
    "# uncomment and check it out.\n",
    "help(Developer)"
   ]
  },
  {
   "cell_type": "code",
   "execution_count": 24,
   "metadata": {},
   "outputs": [],
   "source": [
    "# help(type(Developer))"
   ]
  },
  {
   "cell_type": "code",
   "execution_count": 27,
   "metadata": {},
   "outputs": [
    {
     "name": "stdout",
     "output_type": "stream",
     "text": [
      "JAVA\n",
      "Naina.Se@company.com\n"
     ]
    }
   ],
   "source": [
    "print(dev1.prog_lang)\n",
    "print(dev1.email)"
   ]
  },
  {
   "cell_type": "code",
   "execution_count": 54,
   "metadata": {},
   "outputs": [],
   "source": [
    "class Manager(Employee):\n",
    "    \n",
    "    def __init__(self, first, last, pay, reportees=None):\n",
    "        super().__init__(first, last, pay)\n",
    "        # Employee.__init__(self, first, last, pay) # same as above line of code.\n",
    "        if reportees is None:\n",
    "            self.reportees = []\n",
    "        else:\n",
    "            self.reportees = reportees\n",
    "            \n",
    "    def add_emp(self, emp):\n",
    "        if emp not in self.reportees:\n",
    "            self.reportees.append(emp)\n",
    "    \n",
    "    def del_emp(self, emp):\n",
    "        if emp in self.reportees:\n",
    "            self.reportees.remove(emp)\n",
    "    \n",
    "    def print_reportees(self):\n",
    "        for emp in self.reportees:\n",
    "            print('-->',emp.first)"
   ]
  },
  {
   "cell_type": "code",
   "execution_count": 55,
   "metadata": {},
   "outputs": [],
   "source": [
    "mgr1 = Manager(\"Veena\", \"Kalburgi\", 110000, [dev1])"
   ]
  },
  {
   "cell_type": "code",
   "execution_count": 56,
   "metadata": {},
   "outputs": [
    {
     "name": "stdout",
     "output_type": "stream",
     "text": [
      "Veena.Kalburgi@company.com\n",
      "--> Naina\n",
      "--> Seema\n",
      "None\n"
     ]
    }
   ],
   "source": [
    "print(mgr1.email)\n",
    "mgr1.add_emp(emp1)\n",
    "print(mgr1.print_reportees())"
   ]
  },
  {
   "cell_type": "code",
   "execution_count": 59,
   "metadata": {},
   "outputs": [
    {
     "name": "stdout",
     "output_type": "stream",
     "text": [
      "True\n",
      "True\n",
      "False\n"
     ]
    }
   ],
   "source": [
    "print(isinstance(mgr1, Manager))\n",
    "print(isinstance(mgr1, Employee))\n",
    "print(isinstance(mgr1, Developer))"
   ]
  },
  {
   "cell_type": "code",
   "execution_count": 61,
   "metadata": {},
   "outputs": [
    {
     "name": "stdout",
     "output_type": "stream",
     "text": [
      "True\n",
      "True\n",
      "False\n"
     ]
    }
   ],
   "source": [
    "print(issubclass(Manager, Employee))\n",
    "print(issubclass(Developer, Employee))\n",
    "print(issubclass(Developer, Manager))\n"
   ]
  },
  {
   "cell_type": "markdown",
   "metadata": {},
   "source": [
    "### Multiple Inheritance:"
   ]
  },
  {
   "cell_type": "code",
   "execution_count": 182,
   "metadata": {},
   "outputs": [
    {
     "name": "stdout",
     "output_type": "stream",
     "text": [
      "1\n",
      "In A : 1\n",
      "2\n",
      "In B : 2\n",
      "3\n",
      "4\n",
      "In Z : 3 4\n"
     ]
    }
   ],
   "source": [
    "class A:\n",
    "    def __init__(self, a):\n",
    "        self.a = a\n",
    "    def display(self):\n",
    "        return \"In A : {}\".format(self.a)\n",
    "        \n",
    "class B:\n",
    "    def __init__(self, b):\n",
    "        self.b = b\n",
    "    def display(self):\n",
    "        return \"In B : {}\".format(self.b)\n",
    "\n",
    "class Z:\n",
    "    def __init__(self, a, b):\n",
    "        self.a = a\n",
    "        self.b = b\n",
    "    def display(self):\n",
    "        return \"In Z : {} {}\".format(self.a, self.b)\n",
    "        \n",
    "class C(A,B): # Parent A takes priority over B in passing its functionality.\n",
    "    pass\n",
    "\n",
    "class D(B,A): # Parent B takes priority over A in passing its functionality.\n",
    "    pass\n",
    "\n",
    "class E(Z,A,B): # try this E(A,B,Z), it won't work\n",
    "    pass\n",
    "\n",
    "test = C(1)\n",
    "print(test.a)\n",
    "print(test.display())\n",
    "test1 = D(2)\n",
    "print(test1.b)\n",
    "print(test1.display())\n",
    "\n",
    "test2 = E(3,4)\n",
    "print(test2.a)\n",
    "print(test2.b)\n",
    "print(test2.display())"
   ]
  },
  {
   "cell_type": "markdown",
   "metadata": {},
   "source": [
    "### Polymorphism / Duck Typing:\n",
    "1. Object-oriented programming languages support polymorphism, which is characterized by the phrase \"one interface, multiple methods.For example, you might have a program that defines three different types of stacks. One stack is used for integer values, one for character values, and one for floating-point values. Because of polymorphism, you can define one set of names, push() and pop() , that can be used for all three stacks. In your program you will create three specific versions of these functions, one for each type of stack, but names of the functions will be the same. The compiler will automatically select the right function based upon the data being stored. Thus, the interface to a stack—the functions push() and pop() —are the same no matter which type of stack is being used. The individual versions of these functions define the specific implementations (methods) for each type of data. "
   ]
  },
  {
   "cell_type": "code",
   "execution_count": 203,
   "metadata": {},
   "outputs": [
    {
     "name": "stdout",
     "output_type": "stream",
     "text": [
      "2\n",
      "['a', 'b', 'c', 'd', 'e']\n",
      "veena.kalburgi\n"
     ]
    }
   ],
   "source": [
    "def my_sum(a, b):\n",
    "    return a + b\n",
    "\n",
    "print(my_sum(1, 1))\n",
    "print(my_sum([\"a\", \"b\", \"c\"], [\"d\", \"e\"]))\n",
    "print(my_sum(\"veena.\", \"kalburgi\"))\n"
   ]
  },
  {
   "cell_type": "markdown",
   "metadata": {},
   "source": [
    "### \\_\\_name__ == '\\_\\_main__'\n",
    "https://www.youtube.com/watch?v=sugvnHA7ElY"
   ]
  },
  {
   "cell_type": "markdown",
   "metadata": {},
   "source": [
    "## StringIO:\n",
    "1. StringIO — Read and write strings as files. This module implements a file-like class, StringIO."
   ]
  },
  {
   "cell_type": "code",
   "execution_count": 215,
   "metadata": {},
   "outputs": [],
   "source": [
    "from io import StringIO\n",
    "message = \"THis is a ver long message that I want to use in stringIO.\""
   ]
  },
  {
   "cell_type": "code",
   "execution_count": 216,
   "metadata": {},
   "outputs": [
    {
     "data": {
      "text/plain": [
       "_io.StringIO"
      ]
     },
     "execution_count": 216,
     "metadata": {},
     "output_type": "execute_result"
    }
   ],
   "source": [
    "f = StringIO(message)\n",
    "type(f)"
   ]
  },
  {
   "cell_type": "code",
   "execution_count": 217,
   "metadata": {},
   "outputs": [
    {
     "data": {
      "text/plain": [
       "'THis is a ver long message that I want to use in stringIO.'"
      ]
     },
     "execution_count": 217,
     "metadata": {},
     "output_type": "execute_result"
    }
   ],
   "source": [
    "f.read()"
   ]
  },
  {
   "cell_type": "code",
   "execution_count": 218,
   "metadata": {},
   "outputs": [
    {
     "data": {
      "text/plain": [
       "'THis is a ver long message that I want to use in stringIO. Second line written to file like object'"
      ]
     },
     "execution_count": 218,
     "metadata": {},
     "output_type": "execute_result"
    }
   ],
   "source": [
    "f.write(' Second line written to file like object')\n",
    "f.seek(0)\n",
    "f.read()"
   ]
  },
  {
   "cell_type": "markdown",
   "metadata": {},
   "source": [
    "### Errors and Exception Handling:\n",
    "1. Exceptions are error that occur during runtime. Its always nice to gracefully handle these error and output some meaningful error message, rather than the interpretor throwing some weired programming language to the end user.\n",
    "2. List of all the built-in exception - https://docs.python.org/3/library/exceptions.html\n",
    "3. Use try-except block to catch any exceptions which might occur for to suspicious code. \n",
    "\n",
    "    try:\n",
    "        block-1 ...\n",
    "    except Exception1:\n",
    "        handler-1 ...\n",
    "    except Exception2:\n",
    "        handler-2 ...\n",
    "    else:\n",
    "        else-block...Is executed if 'NO' exception occurs in try...\n",
    "    finally:\n",
    "        final-block...ALWAYS EXECUTED\n",
    "4. __raise()__: The raise statement allows the programmer to force a specific exception to occur.\n",
    "    * https://stackoverflow.com/questions/2052390/manually-raising-throwing-an-exception-in-python"
   ]
  },
  {
   "cell_type": "code",
   "execution_count": 316,
   "metadata": {},
   "outputs": [
    {
     "name": "stdout",
     "output_type": "stream",
     "text": [
      "Error: Could not find file or write data [Errno 2] No such file or directory: 'testfile'\n"
     ]
    }
   ],
   "source": [
    "try:\n",
    "    f = open('testfile.txt','r')\n",
    "    f.write('Test write this')\n",
    "except IOError as e:\n",
    "    # This will only check for an IOError exception and then execute this print statement\n",
    "   print(\"Error: Could not find file or write data\", e)\n",
    "else:\n",
    "   print(\"Content written successfully\")\n",
    "   f.close()"
   ]
  },
  {
   "cell_type": "code",
   "execution_count": 341,
   "metadata": {},
   "outputs": [],
   "source": [
    "import os\n",
    "# os.listdir() method in python is used to get the list of all files and directories in the specified directory.\n",
    "check_file_list = os.listdir() # file and directories in cwd.\n",
    "# os.listdir('data/iris') # #looks for file and folders in specified directory.\n",
    "# check_file_list"
   ]
  },
  {
   "cell_type": "code",
   "execution_count": 342,
   "metadata": {},
   "outputs": [
    {
     "ename": "AssertionError",
     "evalue": "No such file present! Check and run again",
     "output_type": "error",
     "traceback": [
      "\u001b[1;31m---------------------------------------------------------------------------\u001b[0m",
      "\u001b[1;31mAssertionError\u001b[0m                            Traceback (most recent call last)",
      "\u001b[1;32m<ipython-input-342-8c3db0bc44f3>\u001b[0m in \u001b[0;36m<module>\u001b[1;34m\u001b[0m\n\u001b[0;32m      2\u001b[0m \u001b[1;31m# assert checks if the expression is True, otherwise throws AssertionError with the error message string provided\u001b[0m\u001b[1;33m\u001b[0m\u001b[1;33m\u001b[0m\u001b[1;33m\u001b[0m\u001b[0m\n\u001b[0;32m      3\u001b[0m \u001b[0merror\u001b[0m \u001b[1;33m=\u001b[0m \u001b[1;34m\"No such file present! Check and run again\"\u001b[0m\u001b[1;33m\u001b[0m\u001b[1;33m\u001b[0m\u001b[0m\n\u001b[1;32m----> 4\u001b[1;33m \u001b[1;32massert\u001b[0m \u001b[1;34m'testfile.txt'\u001b[0m \u001b[1;32min\u001b[0m \u001b[0mcheck_file_list\u001b[0m\u001b[1;33m,\u001b[0m \u001b[0merror\u001b[0m\u001b[1;33m\u001b[0m\u001b[1;33m\u001b[0m\u001b[0m\n\u001b[0m",
      "\u001b[1;31mAssertionError\u001b[0m: No such file present! Check and run again"
     ]
    }
   ],
   "source": [
    "# assert is another way we can check and raise a exception.\n",
    "# assert checks if the expression is True, otherwise throws AssertionError with the error message string provided\n",
    "error = \"No such file present! Check and run again\"\n",
    "assert 'testfile.txt' in check_file_list, error"
   ]
  },
  {
   "cell_type": "code",
   "execution_count": 298,
   "metadata": {},
   "outputs": [
    {
     "name": "stdout",
     "output_type": "stream",
     "text": [
      "There was division by zero exception !!\n",
      "Always Executed\n"
     ]
    }
   ],
   "source": [
    "try:\n",
    "   a = 5/0 # Change it 5/1 to see the finally block execution\n",
    "except Exception as e:\n",
    "    print(\"There was {} exception !!\".format(e))\n",
    "else:\n",
    "    print(\"Result is\", a)\n",
    "finally:\n",
    "    print(\"Always Executed\")"
   ]
  },
  {
   "cell_type": "code",
   "execution_count": 25,
   "metadata": {},
   "outputs": [
    {
     "name": "stdout",
     "output_type": "stream",
     "text": [
      "Please enter an integer: a\n",
      "Looks like you did not enter an integer!\n",
      "Finally, I executed!\n",
      "Please enter an integer: w\n",
      "Looks like you did not enter an integer!\n",
      "Finally, I executed!\n",
      "Please enter an integer: 1\n",
      "Yep thats an integer!\n",
      "1\n",
      "Finally, I executed!\n"
     ]
    }
   ],
   "source": [
    "def GetMeInterger():\n",
    "    while True:\n",
    "        try:\n",
    "            val = int(input(\"Please enter an integer: \"))\n",
    "        except:\n",
    "            print(\"Looks like you did not enter an integer!\")\n",
    "            continue\n",
    "        else:\n",
    "            print('Yep thats an integer!')\n",
    "            print(val) \n",
    "            break\n",
    "        finally:  \n",
    "            print(\"Finally, I executed!\")\n",
    "GetMeInterger()"
   ]
  },
  {
   "cell_type": "code",
   "execution_count": 291,
   "metadata": {},
   "outputs": [
    {
     "name": "stdout",
     "output_type": "stream",
     "text": [
      "['ArithmeticError', 'AssertionError', 'AttributeError', 'BaseException', 'BlockingIOError', 'BrokenPipeError', 'BufferError', 'BytesWarning', 'ChildProcessError', 'ConnectionAbortedError', 'ConnectionError', 'ConnectionRefusedError', 'ConnectionResetError', 'DeprecationWarning', 'EOFError', 'Ellipsis', 'EnvironmentError', 'Exception', 'False', 'FileExistsError', 'FileNotFoundError', 'FloatingPointError', 'FutureWarning', 'GeneratorExit', 'IOError', 'ImportError', 'ImportWarning', 'IndentationError', 'IndexError', 'InterruptedError', 'IsADirectoryError', 'KeyError', 'KeyboardInterrupt', 'LookupError', 'MemoryError', 'ModuleNotFoundError', 'NameError', 'None', 'NotADirectoryError', 'NotImplemented', 'NotImplementedError', 'OSError', 'OverflowError', 'PendingDeprecationWarning', 'PermissionError', 'ProcessLookupError', 'RecursionError', 'ReferenceError', 'ResourceWarning', 'RuntimeError', 'RuntimeWarning', 'StopAsyncIteration', 'StopIteration', 'SyntaxError', 'SyntaxWarning', 'SystemError', 'SystemExit', 'TabError', 'TimeoutError', 'True', 'TypeError', 'UnboundLocalError', 'UnicodeDecodeError', 'UnicodeEncodeError', 'UnicodeError', 'UnicodeTranslateError', 'UnicodeWarning', 'UserWarning', 'ValueError', 'Warning', 'WindowsError', 'ZeroDivisionError', '__IPYTHON__', '__build_class__', '__debug__', '__doc__', '__import__', '__loader__', '__name__', '__package__', '__spec__', 'abs', 'all', 'any', 'ascii', 'bin', 'bool', 'breakpoint', 'bytearray', 'bytes', 'callable', 'chr', 'classmethod', 'compile', 'complex', 'copyright', 'credits', 'delattr', 'dict', 'dir', 'display', 'divmod', 'enumerate', 'eval', 'exec', 'filter', 'float', 'format', 'frozenset', 'get_ipython', 'getattr', 'globals', 'hasattr', 'hash', 'help', 'hex', 'id', 'input', 'int', 'isinstance', 'issubclass', 'iter', 'len', 'license', 'list', 'locals', 'map', 'max', 'memoryview', 'min', 'next', 'object', 'oct', 'open', 'ord', 'pow', 'print', 'property', 'range', 'repr', 'reversed', 'round', 'set', 'setattr', 'slice', 'sorted', 'staticmethod', 'str', 'sum', 'super', 'tuple', 'type', 'vars', 'zip']\n"
     ]
    }
   ],
   "source": [
    "# This gives list of all built-in exceptions\n",
    "print(dir(locals()['__builtins__']))\n"
   ]
  },
  {
   "cell_type": "code",
   "execution_count": 326,
   "metadata": {
    "scrolled": true
   },
   "outputs": [
    {
     "ename": "NameError",
     "evalue": "Hi There!!",
     "output_type": "error",
     "traceback": [
      "\u001b[1;31m---------------------------------------------------------------------------\u001b[0m",
      "\u001b[1;31mNameError\u001b[0m                                 Traceback (most recent call last)",
      "\u001b[1;32m<ipython-input-326-84d8f22935c2>\u001b[0m in \u001b[0;36m<module>\u001b[1;34m\u001b[0m\n\u001b[0;32m      1\u001b[0m \u001b[1;31m# The sole argument to raise indicates the exception to be raised.\u001b[0m\u001b[1;33m\u001b[0m\u001b[1;33m\u001b[0m\u001b[1;33m\u001b[0m\u001b[0m\n\u001b[0;32m      2\u001b[0m \u001b[1;31m# This must be either an exception instance or an exception class (a class that derives from Exception).\u001b[0m\u001b[1;33m\u001b[0m\u001b[1;33m\u001b[0m\u001b[1;33m\u001b[0m\u001b[0m\n\u001b[1;32m----> 3\u001b[1;33m \u001b[1;32mraise\u001b[0m \u001b[0mNameError\u001b[0m\u001b[1;33m(\u001b[0m\u001b[1;34m\"Hi There!!\"\u001b[0m\u001b[1;33m)\u001b[0m \u001b[1;31m# NameError is a exception class\u001b[0m\u001b[1;33m\u001b[0m\u001b[1;33m\u001b[0m\u001b[0m\n\u001b[0m\u001b[0;32m      4\u001b[0m \u001b[1;31m# help(NameError)\u001b[0m\u001b[1;33m\u001b[0m\u001b[1;33m\u001b[0m\u001b[1;33m\u001b[0m\u001b[0m\n",
      "\u001b[1;31mNameError\u001b[0m: Hi There!!"
     ]
    }
   ],
   "source": [
    "# The sole argument to raise indicates the exception to be raised. \n",
    "# This must be either an exception instance or an exception class (a class that derives from Exception).\n",
    "raise NameError(\"Hi There!!\") # NameError is a exception class\n",
    "# help(NameError)"
   ]
  },
  {
   "cell_type": "code",
   "execution_count": 327,
   "metadata": {},
   "outputs": [
    {
     "name": "stdout",
     "output_type": "stream",
     "text": [
      "An exception flew by!\n"
     ]
    },
    {
     "ename": "NameError",
     "evalue": "HiThere",
     "output_type": "error",
     "traceback": [
      "\u001b[1;31m---------------------------------------------------------------------------\u001b[0m",
      "\u001b[1;31mNameError\u001b[0m                                 Traceback (most recent call last)",
      "\u001b[1;32m<ipython-input-327-6ed031d1705c>\u001b[0m in \u001b[0;36m<module>\u001b[1;34m\u001b[0m\n\u001b[0;32m      2\u001b[0m \u001b[1;31m# a simpler form of the raise statement allows you to re-raise the exception:\u001b[0m\u001b[1;33m\u001b[0m\u001b[1;33m\u001b[0m\u001b[1;33m\u001b[0m\u001b[0m\n\u001b[0;32m      3\u001b[0m \u001b[1;32mtry\u001b[0m\u001b[1;33m:\u001b[0m\u001b[1;33m\u001b[0m\u001b[1;33m\u001b[0m\u001b[0m\n\u001b[1;32m----> 4\u001b[1;33m     \u001b[1;32mraise\u001b[0m \u001b[0mNameError\u001b[0m\u001b[1;33m(\u001b[0m\u001b[1;34m'HiThere'\u001b[0m\u001b[1;33m)\u001b[0m\u001b[1;33m\u001b[0m\u001b[1;33m\u001b[0m\u001b[0m\n\u001b[0m\u001b[0;32m      5\u001b[0m \u001b[1;32mexcept\u001b[0m \u001b[0mNameError\u001b[0m\u001b[1;33m:\u001b[0m\u001b[1;33m\u001b[0m\u001b[1;33m\u001b[0m\u001b[0m\n\u001b[0;32m      6\u001b[0m     \u001b[0mprint\u001b[0m\u001b[1;33m(\u001b[0m\u001b[1;34m'An exception flew by!'\u001b[0m\u001b[1;33m)\u001b[0m\u001b[1;33m\u001b[0m\u001b[1;33m\u001b[0m\u001b[0m\n",
      "\u001b[1;31mNameError\u001b[0m: HiThere"
     ]
    }
   ],
   "source": [
    "# If you need to determine whether an exception was raised but don’t intend to handle it, \n",
    "# a simpler form of the raise statement allows you to re-raise the exception:\n",
    "try:\n",
    "    raise NameError('HiThere')\n",
    "except NameError:\n",
    "    print('An exception flew by!')\n",
    "    raise"
   ]
  },
  {
   "cell_type": "markdown",
   "metadata": {},
   "source": [
    "### User-defined Exception:\n",
    "1. Programs may name their own exceptions by creating a new exception class. Exceptions should typically be derived from the Exception class, either directly or indirectly."
   ]
  },
  {
   "cell_type": "code",
   "execution_count": null,
   "metadata": {},
   "outputs": [],
   "source": []
  }
 ],
 "metadata": {
  "kernelspec": {
   "display_name": "Python 3",
   "language": "python",
   "name": "python3"
  },
  "language_info": {
   "codemirror_mode": {
    "name": "ipython",
    "version": 3
   },
   "file_extension": ".py",
   "mimetype": "text/x-python",
   "name": "python",
   "nbconvert_exporter": "python",
   "pygments_lexer": "ipython3",
   "version": "3.8.4"
  }
 },
 "nbformat": 4,
 "nbformat_minor": 2
}
