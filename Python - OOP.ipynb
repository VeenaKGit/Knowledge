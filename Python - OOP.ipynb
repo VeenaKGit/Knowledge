{
 "cells": [
  {
   "cell_type": "markdown",
   "metadata": {},
   "source": [
    "# Python\n",
    "Evrything else about basci python is in google drive."
   ]
  },
  {
   "cell_type": "markdown",
   "metadata": {},
   "source": [
    "# Context manager: _with statement_\n",
    "1. https://docs.python.org/3/reference/compound_stmts.html\n",
    "2. https://docs.python.org/3/reference/datamodel.html#context-managers\n",
    "3. The context manager handles the entry into, and the exit from, the desired runtime context for the execution of the block of code. Context managers are normally invoked using the with statement, but can also be used by directly invoking their methods.\n",
    "4. Typical uses of context managers include saving and restoring various kinds of global state, locking and unlocking resources, closing opened files, etc.\n",
    "5. The with statement is used to wrap the execution of a block with methods defined by a context manager. This allows common try…except…finally usage patterns to be encapsulated for convenient reuse."
   ]
  },
  {
   "cell_type": "markdown",
   "metadata": {},
   "source": [
    "Question : What is PYTHOPATH?  \n",
    "PYTHONPATH is an environment variable which you can set to add additional directories where python will look for modules and packages."
   ]
  },
  {
   "cell_type": "markdown",
   "metadata": {},
   "source": []
  },
  {
   "cell_type": "markdown",
   "metadata": {},
   "source": [
    "### Singly and Doubly Linked List :\n",
    "1. https://realpython.com/linked-lists-python/\n",
    "1. To understand linked list we have to first understand how python list are stored under the hood. The python list are stored as 'C Array' by the Cpyhton under the hood. Ex: a = [1,2,3] id(a[0]), id(a[1]).. are contineous memory addresses. Linked list are not stored this way.\n",
    "2. Linked lists are an ordered collection of objects. So what makes them different from normal lists? Linked lists differ from lists in the way that they store elements in memory. While lists use a contiguous memory block to store references to their data, linked lists store references as part of their own elements.\n",
    "3. Each element of a linked list is called a node, and every node has two different fields:\n",
    "    * __Data__ contains the value to be stored in the node.\n",
    "    * __Next__ contains a reference to the next node on the list.\n",
    "4. A linked list is a collection of nodes. The first node is called the head, and it’s used as the starting point for any iteration through the list. The last node must have its next reference pointing to None to determine the end of the list."
   ]
  },
  {
   "cell_type": "markdown",
   "metadata": {},
   "source": [
    "### Big O notation\n",
    "1. https://www.bigocheatsheet.com/\n",
    "1. Big O notation is used to describe the performance of an algorithm in teh worst-case scenario (slowest).\n",
    "2. O(1) or Constant time: The algorithm will take  the same amount of time  regarless of the number of elements in the collection.\n",
    "3. O(N) or Linear Time: The algorithm performance will depend on the elements in the collection.\n",
    "4. With all this in mind, even though inserting elements at the end of a list using .append() or .insert() will have constant time, O(1), when you try inserting an element closer to or at the beginning of the list, the average time complexity will grow along with the size of the list: O(n)."
   ]
  },
  {
   "cell_type": "markdown",
   "metadata": {},
   "source": [
    "### Application:\n",
    "1. hey can be used to implement (spoiler alert!) queues or stacks as well as graphs. \n",
    "2. Queues - They are FIFO approach\n",
    "3. Stacks - They ause LIFO approach\n",
    "3. Graphs - Graphs can be used to show relationships between objects or to represent different types of networks. For example, a visual representation of a graph—say a **directed acyclic graph** (DAG)—might look like this:"
   ]
  },
  {
   "cell_type": "code",
   "execution_count": null,
   "metadata": {},
   "outputs": [],
   "source": [
    " o"
   ]
  },
  {
   "cell_type": "code",
   "execution_count": null,
   "metadata": {},
   "outputs": [],
   "source": []
  },
  {
   "cell_type": "markdown",
   "metadata": {},
   "source": [
    "## Advanced Python - OOP"
   ]
  },
  {
   "cell_type": "markdown",
   "metadata": {},
   "source": [
    "### Module and Package:\n",
    "1. Module: Any python file with a .py extension is a python module.\n",
    "2. Package: A set of .py files in a directory with a special file named \\_\\_init__.py forms a package. This file can be empty, and it indicates that the directory it contains is a Python package, so it can be imported the same way a module can be imported.\n",
    "4. In the simplest case, __init__.py can just be an empty file, but it can also execute initialization code for the package or set the __all__ variable (which acts to hide some modules from importing when from package import * is done)\n",
    "    * __init__.py is executed on a \"import package.module\" statement or \"import package_name\".\n",
    "    * https://docs.python.org/3/tutorial/modules.html#importing-from-a-package\n",
    "    * https://softwareengineering.stackexchange.com/questions/187403/import-module-vs-from-module-import-function\n",
    "3. Say example foo is a directory which contains two files bar.py and _init_.py, then we can import bar module in 2 ways:\n",
    "    1. import foo.bar\n",
    "    2. from foo import bar\n",
    "    3. Difference between the two: https://stackoverflow.com/questions/710551/use-import-module-or-from-module-import\n",
    "4. Intra-package references: You can use relative path to import sibling subpackages modules.These imports use leading dots to indicate the current and parent packages involved in the relative import. From the surround module for example, you might use:\n",
    " sound/                          Top-level package\n",
    "  __init__.py               Initialize the sound package\n",
    "  formats/                  Subpackage for file format conversions\n",
    "          __init__.py\n",
    "          wavread.py\n",
    "          wavwrite.py\n",
    "          aiffread.py\n",
    "          aiffwrite.py\n",
    "          auread.py\n",
    "          auwrite.py\n",
    "          ...\n",
    "  effects/                  Subpackage for sound effects\n",
    "          __init__.py\n",
    "          echo.py\n",
    "          surround.py\n",
    "          reverse.py\n",
    "          ...\n",
    "  filters/                  Subpackage for filters\n",
    "          __init__.py\n",
    "          equalizer.py\n",
    "          vocoder.py\n",
    "          karaoke.py\n",
    "          ...\n",
    "    1. from . import echo - in vocoder.py - single dot one level above \n",
    "    2. from .. import formats - 2 dot two level above \n",
    "    3. from ..filters import equalizer - 2 level above from filters import equalizer"
   ]
  },
  {
   "cell_type": "markdown",
   "metadata": {},
   "source": [
    "## Classes\n",
    "https://docs.python.org/3/tutorial/classes.html#classes  \n",
    "https://rushter.com/blog/python-class-internals/ --> Very Nice article\n",
    "1. Classes provide a means of bundling data and functionality(methods which operate on that data) together. A class is a template for objects. ... A class also describes object behavior. An object is a member or an \"instance\" of a class. Each class instance can have attributes attached to it for maintaining its state. Class instances can also have methods (defined by its class) for modifying its state.\n",
    "2. __Instance Variables__: Are variables that are unique to each instance. Ex: self.first, self.last  \n",
    "    a. __Instance variable rules__:        \n",
    "        On use via instance (self.x), search order:\n",
    "            * (1) instance, (2) class, (3) base classes\n",
    "            * this also works for method lookup        \n",
    "        On assigment via instance (self.x = ...):\n",
    "            * always makes an instance variable\n",
    "            * Class variables \"default\" for instance variables\n",
    "        But...!\n",
    "            * mutable class variable: one copy shared by all\n",
    "            * mutable instance variable: each instance its own\n",
    "3. __Class Variables__: Are variables  that are shared amound all instances of a class. When you access the class variables we either have to access it through the class instance or object instance Ex. raise_amount is accessed using Employee.raise_amount or self.raise_amount. So it depends on use case if you want to use self.raise_amount or Employee.raise_amount. If you use self.raise_amount if you want the implementation to be flexible enough so you can give different raise_amount to differnet employees. \n",
    "4. __BUT__ : Its always best practice to not change the value of a class variable for one perticular instance. That defeats the purpose of class variables.Like for example list/mutable should never be used as class variables. Check: https://docs.python.org/3/tutorial/classes.html#class-and-instance-variables"
   ]
  },
  {
   "cell_type": "code",
   "execution_count": 1,
   "metadata": {},
   "outputs": [],
   "source": [
    "class Employee:\n",
    "    raise_amount = 1.04\n",
    "    \n",
    "    def __init__(self, first, last, pay):\n",
    "        self.first = first\n",
    "        self.last = last\n",
    "        self.pay = pay\n",
    "        self.email = self.first + \".\" + self.last + \"@company.com\"\n",
    "        self.echo()  # This method is called automatically when a object is instantiated.\n",
    "\n",
    "    def echo(self):\n",
    "        print(\"Hello {}!\".format(self.first))\n",
    "    \n",
    "    # Here self.raise_amount is used so if self.raise_amount of an employee is differnt than Employee.raise_amount \n",
    "    # Then differnt hike is applied to that perticular employee.\n",
    "    def raise_apply(self):\n",
    "        self.pay = self.pay * self.raise_amount \n"
   ]
  },
  {
   "cell_type": "code",
   "execution_count": 2,
   "metadata": {},
   "outputs": [
    {
     "name": "stdout",
     "output_type": "stream",
     "text": [
      "Hello veena!\n",
      "Hello Seema!\n"
     ]
    }
   ],
   "source": [
    "emp1 = Employee(\"veena\", \"kalburgi\", 50000)\n",
    "emp2 = Employee(\"Seema\", \"Mehar\", 40000)"
   ]
  },
  {
   "cell_type": "code",
   "execution_count": 3,
   "metadata": {},
   "outputs": [
    {
     "name": "stdout",
     "output_type": "stream",
     "text": [
      "1.04\n",
      "1.04\n",
      "1.04\n"
     ]
    }
   ],
   "source": [
    "print(Employee.raise_amount)\n",
    "print(emp1.raise_amount)\n",
    "print(emp2.raise_amount)"
   ]
  },
  {
   "cell_type": "code",
   "execution_count": 4,
   "metadata": {},
   "outputs": [
    {
     "name": "stdout",
     "output_type": "stream",
     "text": [
      "1.04\n",
      "1.04\n",
      "1.04\n",
      "-------------------------\n",
      "1.04\n",
      "1.05\n",
      "1.04\n",
      "-------------------------\n",
      "1.06\n",
      "1.05\n",
      "1.06\n",
      "-------------------------\n",
      "1.06\n",
      "-------------------------\n",
      "1.07\n",
      "1.06\n",
      "1.07\n"
     ]
    }
   ],
   "source": [
    "# When we try to access a attribute on an instance, it will first check if an instance contains that \n",
    "# attribute, then it will check if the class or parent class contians that attribute\n",
    "print(Employee.raise_amount)\n",
    "print(emp1.raise_amount)\n",
    "print(emp2.raise_amount)\n",
    "print(\"{}\".format('-'*25))\n",
    "# If you change the class variable of a instance then it effects only that instance and not others.\n",
    "emp1.raise_amount = 1.05 # this created a raise_amount attribute for that instance which was not existed before\n",
    "# Check the __dict__ for conformation\n",
    "print(Employee.raise_amount)\n",
    "print(emp1.raise_amount)\n",
    "print(emp2.raise_amount)\n",
    "print(\"{}\".format('-'*25))\n",
    "Employee.raise_amount = 1.06\n",
    "print(Employee.raise_amount)\n",
    "print(emp1.raise_amount)\n",
    "print(emp2.raise_amount)\n",
    "print(\"{}\".format('-'*25))\n",
    "# now you want to give emp1 same hike as Employee\n",
    "emp1.raise_amount = Employee.raise_amount\n",
    "print(emp1.raise_amount)\n",
    "emp1.__dict__\n",
    "print(\"{}\".format('-'*25))\n",
    "Employee.raise_amount = 1.07\n",
    "print(Employee.raise_amount)\n",
    "print(emp1.raise_amount)\n",
    "print(emp2.raise_amount)\n"
   ]
  },
  {
   "cell_type": "code",
   "execution_count": 5,
   "metadata": {},
   "outputs": [
    {
     "name": "stdout",
     "output_type": "stream",
     "text": [
      "1\n",
      "{'a': 1}\n",
      "0\n",
      "{}\n"
     ]
    }
   ],
   "source": [
    "# Ex of class variable as being a immutable object\n",
    "class Employee:\n",
    "    a = 0 #class variables should never be a mutable objects.\n",
    "emp1 = Employee()\n",
    "emp2 = Employee()\n",
    "emp1.a = 1 # this creates a instance variable as int is a immutable object. \n",
    "print(emp1.a)\n",
    "print(emp1.__dict__)\n",
    "print(emp2.a)\n",
    "print(emp2.__dict__)"
   ]
  },
  {
   "cell_type": "code",
   "execution_count": 126,
   "metadata": {},
   "outputs": [
    {
     "name": "stdout",
     "output_type": "stream",
     "text": [
      "[1]\n",
      "{}\n",
      "[1]\n",
      "{}\n"
     ]
    }
   ],
   "source": [
    "# Example of class variable as being a mutable object.\n",
    "# Never use a class variable as mutable objects that will give you surprising results as it can be muted by any instance.\n",
    "class Employee:\n",
    "    b = []\n",
    "emp1 = Employee()\n",
    "emp2 = Employee()\n",
    "emp1.b.append(1) # this does not creates a instance variable as list is a mutable object\n",
    "# emp1.b+=[1]\n",
    "print(emp1.b)\n",
    "print(emp1.__dict__)\n",
    "print(emp2.b)\n",
    "print(emp2.__dict__)"
   ]
  },
  {
   "cell_type": "markdown",
   "metadata": {},
   "source": [
    "### Class methods and static methods\n",
    "1. __Class methods__ : By defaut the first argument passed to a regular method is the instance (self). But if we want to pass the class as the first argument to a method, we would have to convert the regular method into a class method by adding @classmethod decorator to the method. We need class methods as it can modify a class state(raise_amount) that would apply across all the instances of the class.\n",
    "2. Class methods are also used as a alternative constructors. Usually the classmethod in this(alternative constructor) case starts with a 'from'. See example below\n",
    "3. __Static Methods__: Static methods don't pass anything automatically (neither 'self' as in regular methods nor 'cls'as in classmethods'). They just behaive like regular methods. We use @staticmethod decorator. If you don't happen to use a 'self' or 'cls' anywhere in youe method then probably that should be written as a static method."
   ]
  },
  {
   "cell_type": "code",
   "execution_count": 13,
   "metadata": {},
   "outputs": [
    {
     "name": "stdout",
     "output_type": "stream",
     "text": [
      "1.04\n",
      "1.04\n",
      "1.04\n"
     ]
    }
   ],
   "source": [
    "import datetime\n",
    "class Employee:\n",
    "    raise_amount = 1.04\n",
    "    \n",
    "    # __init__ is a constructor\n",
    "    def __init__(self, first, last, pay):\n",
    "        self.first = first\n",
    "        self.last = last\n",
    "        self.pay = pay\n",
    "        self.email = self.first + \".\" + self.last + \"@company.com\"\n",
    "    \n",
    "    # Here self.raise_amount is used so if self.raise_amount of an employee is differnt than Employee.raise_amount \n",
    "    # Then differnt hike is applied to that perticular employee.\n",
    "    def raise_apply(self):\n",
    "        self.pay = self.pay * self.raise_amount \n",
    "    \n",
    "    @classmethod\n",
    "    def set_raise_amt(cls, amt):\n",
    "        cls.raise_amount = amt\n",
    "    \n",
    "    @classmethod\n",
    "    def from_string(cls, emp_str):\n",
    "        first, last, pay = emp_str.split('-')\n",
    "        return cls(first, last, pay)\n",
    "    \n",
    "    @staticmethod\n",
    "    def is_workday(day):\n",
    "        if day.weekday() == 5 or day.weekday() == 6: \n",
    "            return False\n",
    "        return True\n",
    "    \n",
    "    def __repr__(self):\n",
    "        return \"Employee('{}', '{}', {})\".format(self.first, self.last, self.pay)\n",
    "    \n",
    "emp1 = Employee(\"Seema\", \"Murthy\", 55999)\n",
    "emp2 = Employee(\"Naina\", \"Mehar\", 87887)\n",
    "print(Employee.raise_amount)\n",
    "print(emp1.raise_amount)\n",
    "print(emp2.raise_amount)"
   ]
  },
  {
   "cell_type": "code",
   "execution_count": 6,
   "metadata": {},
   "outputs": [
    {
     "name": "stdout",
     "output_type": "stream",
     "text": [
      "1.06\n",
      "1.06\n",
      "1.06\n"
     ]
    }
   ],
   "source": [
    "Employee.set_raise_amt(1.06)\n",
    "print(Employee.raise_amount)\n",
    "print(emp1.raise_amount)\n",
    "print(emp2.raise_amount)"
   ]
  },
  {
   "cell_type": "code",
   "execution_count": 7,
   "metadata": {},
   "outputs": [
    {
     "data": {
      "text/plain": [
       "'John.Doe@company.com'"
      ]
     },
     "execution_count": 7,
     "metadata": {},
     "output_type": "execute_result"
    }
   ],
   "source": [
    "# Classmethod as alternative consturctor.\n",
    "# Say we have a scenario where we are receiving employees detail as a string\n",
    "# @classmethod \n",
    "# def from_string(cls, emp_str):\n",
    "#     first, last, pay = emp_str.split('-')\n",
    "#     return cls(first, last, pay)\n",
    "emp3_str = 'John-Doe-70000'\n",
    "emp3 = Employee.from_string(emp3_str)\n",
    "emp3.email"
   ]
  },
  {
   "cell_type": "code",
   "execution_count": 8,
   "metadata": {},
   "outputs": [
    {
     "name": "stdout",
     "output_type": "stream",
     "text": [
      "2020-05-02\n",
      "False\n",
      "False\n"
     ]
    }
   ],
   "source": [
    "# Check if a day is workday or not. Here this acts as a static method as it does not depend on\n",
    "# class or instance variables to do its job\n",
    "my_date = datetime.date(2020, 5, 2)\n",
    "print(my_date)\n",
    "print(Employee.is_workday(my_date))\n",
    "print(emp3.is_workday(my_date))"
   ]
  },
  {
   "cell_type": "markdown",
   "metadata": {},
   "source": [
    "### Magic/Dunder methods\n",
    "1. Magic or Dunder methods are special methods which allow us to emulate/overload some built in behaviour in python methods. These are also used to implement operator overloading. Say ex: when we define __repr__ it over writes repr() built in function.\n",
    "2. These methods are always surroundede by double underscore (dunder).\n",
    "3. List of all the Magic method names https://docs.python.org/3/reference/datamodel.html#special-method-names\n",
    "4. https://stackoverflow.com/questions/30472716/dirobject-vs-object-dir\n",
    "    My understanding here is __dir(object) is same as object.\\_\\_dir__()__\n",
    "5. When implementing a class that emulates any built-in type, it is important that the emulation only be implemented to the degree that it makes sense for the object being modelled."
   ]
  },
  {
   "cell_type": "code",
   "execution_count": 14,
   "metadata": {},
   "outputs": [
    {
     "name": "stdout",
     "output_type": "stream",
     "text": [
      "Employee('Seema', 'Murthy', 55999)\n"
     ]
    }
   ],
   "source": [
    "# say example comment the __repr__ of teh above Employee class and run the below code\n",
    "print(emp1) "
   ]
  },
  {
   "cell_type": "markdown",
   "metadata": {},
   "source": [
    "### dir() and getattr():\n",
    "1. dir() : is a powerful inbuilt function in Python3, its a API which returns list of the attributes and methods of any object (say functions , modules, strings, lists, dictionaries etc.). Without arguments, it return the list of names in the current local scope. With an argument, attempt to return a list of valid attributes for that object.\n",
    "2. dir() tries to return a valid list of attributes of the object it is called upon. Also, dir() function behaves rather differently with different type of objects, as it aims to produce the most relevant one, rather than the complete information.\n",
    "    * For Class Objects, it returns a list of names of all the valid attributes and base(parent) attributes as well.\n",
    "    * For Modules/Library objects, it tries to return a list of names of all the attributes, contained in that module.\n",
    "    * If no parameters are passed it returns a list of names in the current local scope. \n",
    "    \n",
    "3.__getattr(obj, key, def)__ : getattr() function is used to access the attribute value of an object and also give an option of executing the default value in case of unavailability of the key. This has greater application to check for available keys in web development and many other phases of day-to-day programming.\n",
    "    * https://www.geeksforgeeks.org/python-getattr-method/ \n",
    "    * __Syntax__ : getattr(obj, key, def)\n",
    "        __Parameters__ :\n",
    "        __obj__ : The object whose attributes need to be processed.\n",
    "        __key__ : The attribute of object\n",
    "        __def__ : The default value that need to be printed in case attribute is not found.\n",
    "        __Returns__ :\n",
    "        Object value if value is available, default value in case attribute is not present\n",
    "        and returns AttributeError in case attribute is not present and default value is not\n",
    "        specified.\n",
    "    *__Applications__ : The are many applications of getattr(), few of them already mentioned in cases of absence of attributes of objects, in web developments where some of form attributes are optional. Also useful in cases of Machine Learning feature collections in case some features sometimes go missing in data collection.\n"
   ]
  },
  {
   "cell_type": "code",
   "execution_count": 25,
   "metadata": {},
   "outputs": [
    {
     "name": "stdout",
     "output_type": "stream",
     "text": [
      "['__add__', '__class__', '__contains__', '__delattr__', '__delitem__', '__dir__', '__doc__', '__eq__', '__format__', '__ge__', '__getattribute__', '__getitem__', '__gt__', '__hash__', '__iadd__', '__imul__', '__init__', '__init_subclass__', '__iter__', '__le__', '__len__', '__lt__', '__mul__', '__ne__', '__new__', '__reduce__', '__reduce_ex__', '__repr__', '__reversed__', '__rmul__', '__setattr__', '__setitem__', '__sizeof__', '__str__', '__subclasshook__', 'append', 'clear', 'copy', 'count', 'extend', 'index', 'insert', 'pop', 'remove', 'reverse', 'sort']\n"
     ]
    }
   ],
   "source": [
    "# dir() : dir() is a powerful inbuilt function in Python3, which returns list of the attributes and \n",
    "# methods of any object (say functions , modules, strings, lists, dictionaries etc.)\n",
    "a = [1,2,3]\n",
    "print(dir(a))"
   ]
  },
  {
   "cell_type": "code",
   "execution_count": 29,
   "metadata": {},
   "outputs": [
    {
     "ename": "AttributeError",
     "evalue": "'list' object has no attribute '__dict__'",
     "output_type": "error",
     "traceback": [
      "\u001b[1;31m---------------------------------------------------------------------------\u001b[0m",
      "\u001b[1;31mAttributeError\u001b[0m                            Traceback (most recent call last)",
      "\u001b[1;32m<ipython-input-29-7c1d4e48b14f>\u001b[0m in \u001b[0;36m<module>\u001b[1;34m\u001b[0m\n\u001b[0;32m      1\u001b[0m \u001b[1;31m# Not all objects have a __dict__ attribute though.why ? https://docs.python.org/2/reference/datamodel.html#slots\u001b[0m\u001b[1;33m\u001b[0m\u001b[1;33m\u001b[0m\u001b[1;33m\u001b[0m\u001b[0m\n\u001b[1;32m----> 2\u001b[1;33m \u001b[0ma\u001b[0m\u001b[1;33m.\u001b[0m\u001b[0m__dict__\u001b[0m  \u001b[1;31m# why ? https://docs.python.org/2/reference/datamodel.html#slots\u001b[0m\u001b[1;33m\u001b[0m\u001b[1;33m\u001b[0m\u001b[0m\n\u001b[0m",
      "\u001b[1;31mAttributeError\u001b[0m: 'list' object has no attribute '__dict__'"
     ]
    }
   ],
   "source": [
    "# Not all objects have a __dict__ attribute though.why ? https://docs.python.org/2/reference/datamodel.html#slots\n",
    "a.__dict__  # why ? https://docs.python.org/2/reference/datamodel.html#slots"
   ]
  },
  {
   "cell_type": "code",
   "execution_count": 19,
   "metadata": {},
   "outputs": [],
   "source": [
    "class Employee:  \n",
    "    class_attribute = 23\n",
    "    \n",
    "    def __init__(self, first, last, pay):\n",
    "        self.first = first\n",
    "        self.last = last\n",
    "        self.pay = pay\n",
    "        self.email = self.first + \".\" + self.last + \"@company.com\"\n",
    "       \n",
    "    def fullname(self):\n",
    "        return '{} {}'.format(self.first, self.last)\n",
    "    \n",
    "    # this is add operation overriding (adds two employes pay)\n",
    "    def __add__(self, other):\n",
    "        if isinstance(other, Employee):\n",
    "            return self.pay + other.pay\n",
    "        return NotImplemented\n",
    "    \n",
    "    def __repr__(self):\n",
    "        return \"Employee('{}', '{}', {})\".format(self.first, self.last, self.pay)\n",
    "    \n",
    "    def __str__(self):\n",
    "        return '{} - {}'.format(self.fullname(), self.email)\n",
    "    \n",
    "emp1 = Employee('Veena', 'Kalburgi', 90000)\n",
    "emp2 = Employee(\"Seema\", \"Mehar\", 40000)"
   ]
  },
  {
   "cell_type": "code",
   "execution_count": 20,
   "metadata": {},
   "outputs": [
    {
     "name": "stdout",
     "output_type": "stream",
     "text": [
      "<function Employee.__add__ at 0x04BD7778>\n",
      "23\n"
     ]
    },
    {
     "data": {
      "text/plain": [
       "<function __main__.Employee.fullname(self)>"
      ]
     },
     "execution_count": 20,
     "metadata": {},
     "output_type": "execute_result"
    }
   ],
   "source": [
    "print(getattr(Employee, '__add__'))\n",
    "print(getattr(Employee, 'class_attribute'))\n",
    "getattr(Employee, 'fullname')"
   ]
  },
  {
   "cell_type": "code",
   "execution_count": 22,
   "metadata": {},
   "outputs": [
    {
     "name": "stdout",
     "output_type": "stream",
     "text": [
      "130000\n"
     ]
    },
    {
     "data": {
      "text/plain": [
       "130000"
      ]
     },
     "execution_count": 22,
     "metadata": {},
     "output_type": "execute_result"
    }
   ],
   "source": [
    "print(emp1.__add__(emp2))\n",
    "emp1+emp2"
   ]
  },
  {
   "cell_type": "code",
   "execution_count": 28,
   "metadata": {},
   "outputs": [
    {
     "data": {
      "text/plain": [
       "[('__add__', function),\n",
       " ('__class__', type),\n",
       " ('__delattr__', wrapper_descriptor),\n",
       " ('__dict__', mappingproxy),\n",
       " ('__dir__', method_descriptor),\n",
       " ('__doc__', NoneType),\n",
       " ('__eq__', wrapper_descriptor),\n",
       " ('__format__', method_descriptor),\n",
       " ('__ge__', wrapper_descriptor),\n",
       " ('__getattribute__', wrapper_descriptor),\n",
       " ('__gt__', wrapper_descriptor),\n",
       " ('__hash__', wrapper_descriptor),\n",
       " ('__init__', function),\n",
       " ('__init_subclass__', builtin_function_or_method),\n",
       " ('__le__', wrapper_descriptor),\n",
       " ('__lt__', wrapper_descriptor),\n",
       " ('__module__', str),\n",
       " ('__ne__', wrapper_descriptor),\n",
       " ('__new__', builtin_function_or_method),\n",
       " ('__reduce__', method_descriptor),\n",
       " ('__reduce_ex__', method_descriptor),\n",
       " ('__repr__', function),\n",
       " ('__setattr__', wrapper_descriptor),\n",
       " ('__sizeof__', method_descriptor),\n",
       " ('__str__', function),\n",
       " ('__subclasshook__', builtin_function_or_method),\n",
       " ('__weakref__', getset_descriptor),\n",
       " ('class_attribute', int),\n",
       " ('fullname', function)]"
      ]
     },
     "execution_count": 28,
     "metadata": {},
     "output_type": "execute_result"
    }
   ],
   "source": [
    "# dir(Employee) # Here you won't have much details of what is what so use below code\n",
    "\n",
    "[(name,type(getattr(Employee,name))) for name in dir(Employee)]\n",
    "# Below is for analysis\n",
    "# for name in dir(Employee):\n",
    "#     print(name , type(getattr(Employee, name)))\n",
    "\n",
    "# this lists instance attribute also\n",
    "# for name in dir(emp1):\n",
    "#     print(name , type(getattr(emp1, name)))"
   ]
  },
  {
   "cell_type": "markdown",
   "metadata": {},
   "source": [
    "__ __dict__ __:This dictionary like object contians all the atributes defined for the object. Basically it contains all the attributes which describe the object in question. More specifically - A dictionary or other mapping object used to store an **object’s (writable) attributes**.\n",
    "**Used to save and restore the state of a class**\n",
    "1. Difference between dir() and __ __dict__ __ https://stackoverflow.com/questions/14361256/whats-the-biggest-difference-between-dir-and-dict-in-python"
   ]
  },
  {
   "cell_type": "code",
   "execution_count": 25,
   "metadata": {},
   "outputs": [
    {
     "data": {
      "text/plain": [
       "{'first': 'Veena',\n",
       " 'last': 'Kalburgi',\n",
       " 'pay': 90000,\n",
       " 'email': 'Veena.Kalburgi@company.com'}"
      ]
     },
     "execution_count": 25,
     "metadata": {},
     "output_type": "execute_result"
    }
   ],
   "source": [
    "emp1.__dict__"
   ]
  },
  {
   "cell_type": "code",
   "execution_count": 26,
   "metadata": {},
   "outputs": [
    {
     "data": {
      "text/plain": [
       "mappingproxy({'__module__': '__main__',\n",
       "              'class_attribute': 23,\n",
       "              '__init__': <function __main__.Employee.__init__(self, first, last, pay)>,\n",
       "              'fullname': <function __main__.Employee.fullname(self)>,\n",
       "              '__add__': <function __main__.Employee.__add__(self, other)>,\n",
       "              '__repr__': <function __main__.Employee.__repr__(self)>,\n",
       "              '__str__': <function __main__.Employee.__str__(self)>,\n",
       "              '__dict__': <attribute '__dict__' of 'Employee' objects>,\n",
       "              '__weakref__': <attribute '__weakref__' of 'Employee' objects>,\n",
       "              '__doc__': None})"
      ]
     },
     "execution_count": 26,
     "metadata": {},
     "output_type": "execute_result"
    }
   ],
   "source": [
    "Employee.__dict__"
   ]
  },
  {
   "cell_type": "code",
   "execution_count": 29,
   "metadata": {},
   "outputs": [],
   "source": [
    "def restore_emp(state):\n",
    "    instance = Employee.__new__(Employee)\n",
    "    instance.__dict__.update(state)\n",
    "    return instance"
   ]
  },
  {
   "cell_type": "code",
   "execution_count": 30,
   "metadata": {},
   "outputs": [],
   "source": [
    "emp1_save = emp1.__dict__.copy()"
   ]
  },
  {
   "cell_type": "code",
   "execution_count": 34,
   "metadata": {},
   "outputs": [
    {
     "ename": "NameError",
     "evalue": "name 'emp1' is not defined",
     "output_type": "error",
     "traceback": [
      "\u001b[1;31m---------------------------------------------------------------------------\u001b[0m",
      "\u001b[1;31mNameError\u001b[0m                                 Traceback (most recent call last)",
      "\u001b[1;32m<ipython-input-34-234f51f44125>\u001b[0m in \u001b[0;36m<module>\u001b[1;34m\u001b[0m\n\u001b[0;32m      1\u001b[0m \u001b[1;31m# del emp1\u001b[0m\u001b[1;33m\u001b[0m\u001b[1;33m\u001b[0m\u001b[1;33m\u001b[0m\u001b[0m\n\u001b[1;32m----> 2\u001b[1;33m \u001b[0memp1\u001b[0m\u001b[1;33m\u001b[0m\u001b[1;33m\u001b[0m\u001b[0m\n\u001b[0m",
      "\u001b[1;31mNameError\u001b[0m: name 'emp1' is not defined"
     ]
    }
   ],
   "source": [
    "del emp1\n",
    "emp1"
   ]
  },
  {
   "cell_type": "code",
   "execution_count": 35,
   "metadata": {},
   "outputs": [
    {
     "data": {
      "text/plain": [
       "Employee('Veena', 'Kalburgi', 90000)"
      ]
     },
     "execution_count": 35,
     "metadata": {},
     "output_type": "execute_result"
    }
   ],
   "source": [
    "emp1 = restore_emp(emp1_save)\n",
    "emp1"
   ]
  },
  {
   "cell_type": "code",
   "execution_count": 36,
   "metadata": {},
   "outputs": [
    {
     "data": {
      "text/plain": [
       "mappingproxy({'__module__': '__main__',\n",
       "              'class_attribute': 23,\n",
       "              '__init__': <function __main__.Employee.__init__(self, first, last, pay)>,\n",
       "              'fullname': <function __main__.Employee.fullname(self)>,\n",
       "              '__add__': <function __main__.Employee.__add__(self, other)>,\n",
       "              '__repr__': <function __main__.Employee.__repr__(self)>,\n",
       "              '__str__': <function __main__.Employee.__str__(self)>,\n",
       "              '__dict__': <attribute '__dict__' of 'Employee' objects>,\n",
       "              '__weakref__': <attribute '__weakref__' of 'Employee' objects>,\n",
       "              '__doc__': None})"
      ]
     },
     "execution_count": 36,
     "metadata": {},
     "output_type": "execute_result"
    }
   ],
   "source": [
    "Employee.__dict__"
   ]
  },
  {
   "cell_type": "code",
   "execution_count": 49,
   "metadata": {},
   "outputs": [
    {
     "name": "stdout",
     "output_type": "stream",
     "text": [
      "5\n"
     ]
    }
   ],
   "source": [
    "# Instances of arbitrary classes can be made 'callable' by defining a __call__() method in their class.\n",
    "# implementing y = ax+b\n",
    "class linear:\n",
    "#     __slot__ = ('bar')\n",
    "    bar = 'spam'\n",
    "    def __init__(self, a, b):\n",
    "        self.a, self.b = a, b\n",
    "\n",
    "    # comment this and see what you get otherwise.\n",
    "    def __call__(self, x):\n",
    "        return self.a * x + self.b\n",
    "\n",
    "\n",
    "tax = linear(2,3)\n",
    "print(tax(1)) # this is x value"
   ]
  },
  {
   "cell_type": "markdown",
   "metadata": {},
   "source": [
    "https://docs.python.org/2/reference/datamodel.html#slots"
   ]
  },
  {
   "cell_type": "code",
   "execution_count": 51,
   "metadata": {},
   "outputs": [
    {
     "name": "stdout",
     "output_type": "stream",
     "text": [
      "['__call__', '__class__', '__delattr__', '__dict__', '__dir__', '__doc__', '__eq__', '__format__', '__ge__', '__getattribute__', '__gt__', '__hash__', '__init__', '__init_subclass__', '__le__', '__lt__', '__module__', '__ne__', '__new__', '__reduce__', '__reduce_ex__', '__repr__', '__setattr__', '__sizeof__', '__str__', '__subclasshook__', '__weakref__', 'bar'] \n",
      "\n",
      "{'__module__': '__main__', 'bar': 'spam', '__init__': <function linear.__init__ at 0x04BD7AD8>, '__call__': <function linear.__call__ at 0x04BD7418>, '__dict__': <attribute '__dict__' of 'linear' objects>, '__weakref__': <attribute '__weakref__' of 'linear' objects>, '__doc__': None} \n",
      "\n",
      "{'a': 2, 'b': 3}\n"
     ]
    }
   ],
   "source": [
    "print(dir(linear), '\\n') # see how __call__ is present , that because we have make linear a callable by adding __call__\n",
    "print(linear.__dict__, '\\n')\n",
    "print(tax.__dict__)"
   ]
  },
  {
   "cell_type": "code",
   "execution_count": 58,
   "metadata": {},
   "outputs": [
    {
     "ename": "ValueError",
     "evalue": "'bar' in __slots__ conflicts with class variable",
     "output_type": "error",
     "traceback": [
      "\u001b[1;31m---------------------------------------------------------------------------\u001b[0m",
      "\u001b[1;31mValueError\u001b[0m                                Traceback (most recent call last)",
      "\u001b[1;32m<ipython-input-58-ec8474e3103c>\u001b[0m in \u001b[0;36m<module>\u001b[1;34m\u001b[0m\n\u001b[0;32m      1\u001b[0m \u001b[1;31m# uncomment __slot__\u001b[0m\u001b[1;33m\u001b[0m\u001b[1;33m\u001b[0m\u001b[1;33m\u001b[0m\u001b[0m\n\u001b[0;32m      2\u001b[0m \u001b[1;31m# see how __dict__ and __weakref__ is not defined to save memory\u001b[0m\u001b[1;33m\u001b[0m\u001b[1;33m\u001b[0m\u001b[1;33m\u001b[0m\u001b[0m\n\u001b[1;32m----> 3\u001b[1;33m \u001b[1;32mclass\u001b[0m \u001b[0mFoo\u001b[0m\u001b[1;33m(\u001b[0m\u001b[1;33m)\u001b[0m\u001b[1;33m:\u001b[0m\u001b[1;33m\u001b[0m\u001b[1;33m\u001b[0m\u001b[0m\n\u001b[0m\u001b[0;32m      4\u001b[0m     \u001b[0m__slots__\u001b[0m \u001b[1;33m=\u001b[0m \u001b[1;33m(\u001b[0m\u001b[1;34m'bar'\u001b[0m\u001b[1;33m,\u001b[0m\u001b[1;33m)\u001b[0m\u001b[1;33m\u001b[0m\u001b[1;33m\u001b[0m\u001b[0m\n\u001b[0;32m      5\u001b[0m     \u001b[0mbar\u001b[0m \u001b[1;33m=\u001b[0m \u001b[1;34m'spam'\u001b[0m\u001b[1;33m\u001b[0m\u001b[1;33m\u001b[0m\u001b[0m\n",
      "\u001b[1;31mValueError\u001b[0m: 'bar' in __slots__ conflicts with class variable"
     ]
    }
   ],
   "source": [
    "# uncomment __slot__ \n",
    "# see how __dict__ and __weakref__ is not defined to save memory\n",
    "class Foo():\n",
    "    __slots__ = ('bar',)\n",
    "    bar = 'spam'\n",
    "\n",
    "f = Foo()\n",
    "print(f.__dict__)\n",
    "print(dir(f))"
   ]
  },
  {
   "cell_type": "markdown",
   "metadata": {},
   "source": [
    "### Difference between __ __str__ __ and __ __repr__ __ :\n",
    "1. According to the official Python documentation, __repr__ is a built-in function used to compute the \"official\" string reputation of an object, while __str__ is a built-in function that computes the \"informal\" string representations of an object. So both __repr__ and __str__ are used to represent objects, but in different ways.\n",
    "2. The repr is used for debuggin, logging and officail documentation. It is really meant to be seen by other developers. Whereas str is more like a readble representation of an object. And is meant to be used as a display to the end user.\n",
    "3. Calling __str__ on a object will fall back to __repr__ if __str__ does not exist. So __repr__ is a must have.\n",
    "4. Good rule of thumb for __repr__ is that return something so that if you copy paste it in python than will create back the same object.\n",
    "5. __repr__ are instance methods. but you can also define it for class - https://stackoverflow.com/questions/8955754/can-i-define-a-repr-for-a-class-rather-than-an-instance"
   ]
  },
  {
   "cell_type": "code",
   "execution_count": 78,
   "metadata": {},
   "outputs": [
    {
     "name": "stdout",
     "output_type": "stream",
     "text": [
      "Employee('Veena', 'Kalburgi', 90000)\n",
      "Veena Kalburgi - Veena.Kalburgi@company.com\n"
     ]
    }
   ],
   "source": [
    "print(repr(emp1))\n",
    "print(str(emp1))"
   ]
  },
  {
   "cell_type": "code",
   "execution_count": 87,
   "metadata": {},
   "outputs": [
    {
     "name": "stdout",
     "output_type": "stream",
     "text": [
      "2\n",
      "2\n",
      "veena\n",
      "'veena'\n"
     ]
    }
   ],
   "source": [
    "#The returns of repr() and str() are identical for int x, \n",
    "# but there's a difference between the return values for str  y -- one is formal and the other is informal\n",
    "a=2\n",
    "print(str(a))\n",
    "print(repr(a))\n",
    "v=\"veena\"\n",
    "print(str(v))\n",
    "print(repr(v))"
   ]
  },
  {
   "cell_type": "markdown",
   "metadata": {},
   "source": [
    "### Method/Operator Overloading __ __add__ __:\n",
    "1. So the __ __add__ __ is a builtin function, say int.\\__add__(1,2), which we can overload in our Employee class to add the salaries of employees.\n",
    "3. Similarly you can overload the \\_\\_len__ method to add some functionality that makes sense to your class.\n",
    "4. It is a good practice to return NotImplemented( rather than throwing a error) as in \\_\\_add__ (in above class), because if the other object is not of type Employee the \\_\\_add__ will return NotImplemented. Now the interpreter will check to see if there is a \\_\\_add__ in other class defination of which the other object belongs to, to see if the other class knows how to handle the operator. Eventually it will throw a error.\n",
    "2. https://docs.python.org/3/reference/datamodel.html#emulating-numeric-types"
   ]
  },
  {
   "cell_type": "code",
   "execution_count": 86,
   "metadata": {},
   "outputs": [
    {
     "name": "stdout",
     "output_type": "stream",
     "text": [
      "130000\n"
     ]
    }
   ],
   "source": [
    "# def __add__(self, other):\n",
    "#   if isinstance(other, Employee):\n",
    "#             return self.pay + other.pay\n",
    "#   return NotImplemented\n",
    "print(emp1 + emp2)"
   ]
  },
  {
   "cell_type": "code",
   "execution_count": 99,
   "metadata": {},
   "outputs": [
    {
     "name": "stdout",
     "output_type": "stream",
     "text": [
      "4\n",
      "4\n"
     ]
    }
   ],
   "source": [
    "print(len('test'))\n",
    "print('test'.__len__())\n",
    "#we can overload this method also in our class"
   ]
  },
  {
   "cell_type": "markdown",
   "metadata": {},
   "source": [
    "### Property Decorators - Getter, Setter, Deleter:\n",
    "1. https://www.youtube.com/watch?v=jCzT9XFZ5bw&list=PL-osiE80TeTsqhIuOqKhwlXsIBIdSeYtc&index=6\n",
    "2. Property decoarator defines a method which allows us to access it like a attribute.\n",
    "3. A property is a more convenient way to achieve __data encapsulation__\n",
    "4. https://docs.python.org/3/library/functions.html#property\n"
   ]
  },
  {
   "cell_type": "markdown",
   "metadata": {},
   "source": [
    "1. __Decorator__ : A function returning another function, usually applied as a function transformation using the @wrapper syntax. Common examples for decorators are @classmethod and @staticmethod  \n",
    "https://docs.python.org/3/glossary.html#term-decorator\n",
    "2. __property__ : Basically a property() is a Python built-in function. It belongs to class property.A property object has getter, setter, and deleter methods usable as decorators that create a copy of the property with the corresponding accessor function set to the decorated function.\n"
   ]
  },
  {
   "cell_type": "markdown",
   "metadata": {},
   "source": [
    "### @property decorator:\n",
    "1. __when to use @property?__ When an attribute is derived(self.email) from other attributes(self.first and self.last) in the class and you want the derived attribute to update whenever the source attributes is changed. You can achieve this by taking out the derived attribute and converting it to a method with @property.\n",
    "2. The **@property** lets a method to be accessed as an attribute instead of as a method. Ex: emp1.email rather than emp1.email(). This way any previously defined objects which access email as an attribute will still be able to access it as attribute even though it's a method now.\n",
    "3. **@method_name.setter** -These are the methods used in OOPS feature which helps to set the value to property attributes in a class. When to use ? When you want to change the value of a source attribute in an indirect way we can use the setter property decorator. \n",
    "4. **@method_name.deleter** - When to use? When you want to delete an object."
   ]
  },
  {
   "cell_type": "code",
   "execution_count": 69,
   "metadata": {},
   "outputs": [],
   "source": [
    "class Employee:   \n",
    "    def __init__(self, first, last):\n",
    "        self.first = first\n",
    "        self.last = last\n",
    "        self.email = first + \".\" + last + \"@email.com\"\n",
    "       \n",
    "    def fullname(self):\n",
    "        return '{} {}'.format(self.first, self.last)\n",
    "    \n",
    "emp1 = Employee('Veena', 'Kalburgi')\n"
   ]
  },
  {
   "cell_type": "code",
   "execution_count": 61,
   "metadata": {},
   "outputs": [
    {
     "name": "stdout",
     "output_type": "stream",
     "text": [
      "Naina\n",
      "Kalburgi\n",
      "Veena.Kalburgi@email.com\n"
     ]
    }
   ],
   "source": [
    "emp1.first = \"Naina\"\n",
    "print(emp1.first)\n",
    "print(emp1.last)\n",
    "print(emp1.email) # see that email is not updated."
   ]
  },
  {
   "cell_type": "markdown",
   "metadata": {},
   "source": [
    "To solve this problem we use property decorator. Check out corey video to see why property decorator is the best option here."
   ]
  },
  {
   "cell_type": "code",
   "execution_count": 65,
   "metadata": {},
   "outputs": [],
   "source": [
    "class Employee:   \n",
    "    def __init__(self, first, last):\n",
    "        self.first = first\n",
    "        self.last = last\n",
    "       \n",
    "    @property\n",
    "    def email(self):\n",
    "        return '{}.{}@email.com'.format(self.first, self.last)\n",
    "    \n",
    "    # if you put @property to fullname you can access it as a attribute too rather than method\n",
    "    @property\n",
    "    def fullname(self):\n",
    "        return '{} {}'.format(self.first, self.last)\n",
    "    \n",
    "    # what if you want to change the first and last name of a person using fullname\n",
    "    @fullname.setter\n",
    "    def fullname(self, new_name):\n",
    "        first, last = new_name.split(' ')\n",
    "        self.first = first\n",
    "        self.last = last\n",
    "    \n",
    "    # similarly we can use deleter to delete and clean up some code.Say delete email\n",
    "    @fullname.deleter\n",
    "    def fullname(self):\n",
    "        print(\"Deleting {}\".format(self.fullname))\n",
    "        self.first = None\n",
    "        self.last = None\n",
    "    \n",
    "emp1 = Employee('Veena', 'Kalburgi')"
   ]
  },
  {
   "cell_type": "code",
   "execution_count": 109,
   "metadata": {},
   "outputs": [
    {
     "name": "stdout",
     "output_type": "stream",
     "text": [
      "Naina\n",
      "Kalburgi\n",
      "Naina.Kalburgi@email.com\n",
      "Naina Kalburgi\n"
     ]
    }
   ],
   "source": [
    "emp1.first = \"Naina\"\n",
    "print(emp1.first)\n",
    "print(emp1.last)\n",
    "print(emp1.email)\n",
    "print(emp1.fullname)"
   ]
  },
  {
   "cell_type": "code",
   "execution_count": 111,
   "metadata": {},
   "outputs": [
    {
     "name": "stdout",
     "output_type": "stream",
     "text": [
      "Seema\n",
      "Mehar\n",
      "Seema.Mehar@email.com\n",
      "Seema Mehar\n"
     ]
    }
   ],
   "source": [
    "emp1.fullname = \"Seema Mehar\"\n",
    "print(emp1.first)\n",
    "print(emp1.last)\n",
    "print(emp1.email)\n",
    "print(emp1.fullname)"
   ]
  },
  {
   "cell_type": "code",
   "execution_count": 119,
   "metadata": {},
   "outputs": [
    {
     "name": "stdout",
     "output_type": "stream",
     "text": [
      "Deleting None None\n",
      "None.None@email.com\n",
      "None None\n"
     ]
    }
   ],
   "source": [
    "# not a good example this is just for demo\n",
    "del emp1.fullname\n",
    "print(emp1.email)\n",
    "print(emp1.fullname)"
   ]
  },
  {
   "cell_type": "markdown",
   "metadata": {},
   "source": [
    "### How property is differenetiated from attribute by python interpretor.\n",
    "https://stackoverflow.com/questions/7374748/whats-the-difference-between-a-python-property-and-attribute\n",
    "**Once we add @property see how __get__, __set__ and __delete__ is added to dir()**"
   ]
  },
  {
   "cell_type": "code",
   "execution_count": 77,
   "metadata": {},
   "outputs": [],
   "source": [
    "class Employee:   \n",
    "    def __init__(self, first, last):\n",
    "        self.first = first\n",
    "        self.last = last\n",
    "        self.email = first + \".\" + last + \"@email.com\"\n",
    "#     @property   \n",
    "    def fullname(self):\n",
    "        return '{} {}'.format(self.first, self.last)\n",
    "    \n",
    "emp1 = Employee('Veena', 'Kalburgi')"
   ]
  },
  {
   "cell_type": "code",
   "execution_count": 78,
   "metadata": {},
   "outputs": [
    {
     "name": "stdout",
     "output_type": "stream",
     "text": [
      "['__annotations__', '__call__', '__class__', '__closure__', '__code__', '__defaults__', '__delattr__', '__dict__', '__dir__', '__doc__', '__eq__', '__format__', '__ge__', '__get__', '__getattribute__', '__globals__', '__gt__', '__hash__', '__init__', '__init_subclass__', '__kwdefaults__', '__le__', '__lt__', '__module__', '__name__', '__ne__', '__new__', '__qualname__', '__reduce__', '__reduce_ex__', '__repr__', '__setattr__', '__sizeof__', '__str__', '__subclasshook__']\n"
     ]
    }
   ],
   "source": [
    "print(dir(Employee.fullname)) # Uncomment @proprty above and run to see the difference"
   ]
  },
  {
   "cell_type": "markdown",
   "metadata": {},
   "source": [
    "### Abstraction - Public Private and Protected\n",
    "1. Abstraction is a way to protect/abstract class attributes/methods from being modified. Access specifiers in Python have an important role to play in securing data from unauthorized access and in preventing it from being exploited.\n",
    "1. __Private__: Single underscore indicate that the attribute or method is intended to be private. These are only for internal use. \" from M import * \" does not import objects whose name starts with an underscore.  \n",
    "2. __Protected__\n",
    "    * Any identifier of the form __ __spam__ (at least two leading underscores, at most one trailing underscore) is textually replaced with _classname__spam, where classname is the current class name with leading underscore(s) stripped.\n",
    "    * Protected members (in C++ and JAVA) are those members of the class which cannot be accessed outside the class but can be accessed from within the class and it’s subclasses. To accomplish this in Python, just follow the convention by prefixing the name of the member by a single underscore “_”."
   ]
  },
  {
   "cell_type": "code",
   "execution_count": 159,
   "metadata": {},
   "outputs": [],
   "source": [
    "class A:\n",
    "    def __init__(self):\n",
    "        self.foo = 1\n",
    "        self._bar = 2\n",
    "        self.__zap = 3 # this variable is protected so cannot be accessed (obj.__zap) from outside of the class\n",
    "    def change_zap(self, zap):\n",
    "        self.__zap = zap # we are able to access teh protected variable from within the class without using _classname.\n",
    "        \n",
    "class B(A):\n",
    "    def update_zap(self, zap):\n",
    "        self.__zap = zap"
   ]
  },
  {
   "cell_type": "code",
   "execution_count": 153,
   "metadata": {},
   "outputs": [
    {
     "name": "stdout",
     "output_type": "stream",
     "text": [
      "1\n",
      "2\n",
      "3\n",
      "4\n",
      "5\n",
      "6\n"
     ]
    }
   ],
   "source": [
    "a1 = A()\n",
    "print(a1.foo)\n",
    "print(a1._bar)\n",
    "# print(a1.__zap) # throw error as with dunder the name is mangled\n",
    "print(a1._A__zap) # this is a way to access the protected attribute but not a good practice.\n",
    "a1.foo = 4\n",
    "a1._bar = 5\n",
    "a1._A__zap = 6 # you should not be accessing the protected variable using _classname__attribute\n",
    "print(a1.foo)\n",
    "print(a1._bar)\n",
    "print(a1._A__zap)"
   ]
  },
  {
   "cell_type": "code",
   "execution_count": 154,
   "metadata": {},
   "outputs": [
    {
     "data": {
      "text/plain": [
       "{'foo': 4, '_bar': 5, '_A__zap': 99}"
      ]
     },
     "execution_count": 154,
     "metadata": {},
     "output_type": "execute_result"
    }
   ],
   "source": [
    "a1.change_zap(99)\n",
    "a1.__dict__"
   ]
  },
  {
   "cell_type": "code",
   "execution_count": 160,
   "metadata": {},
   "outputs": [
    {
     "data": {
      "text/plain": [
       "{'foo': 1, '_bar': 2, '_A__zap': 3}"
      ]
     },
     "execution_count": 160,
     "metadata": {},
     "output_type": "execute_result"
    }
   ],
   "source": [
    "b1 = B()\n",
    "b1.__dict__"
   ]
  },
  {
   "cell_type": "code",
   "execution_count": 161,
   "metadata": {},
   "outputs": [
    {
     "data": {
      "text/plain": [
       "{'foo': 1, '_bar': 2, '_A__zap': 3, '_B__zap': 100}"
      ]
     },
     "execution_count": 161,
     "metadata": {},
     "output_type": "execute_result"
    }
   ],
   "source": [
    "b1.update_zap(100)\n",
    "b1.__dict__"
   ]
  },
  {
   "cell_type": "markdown",
   "metadata": {},
   "source": [
    "### Encapsulation:\n",
    "1. __Encapsulation__ : Encapsulation is one of the fundamental concepts in object-oriented programming (OOP). It describes the idea of wrapping data and the methods that work on data within one unit( called class). This puts restrictions on accessing variables and methods directly and can prevent the accidental modification of data. To prevent accidental change, an object’s variable can only be changed by an object’s method. Those type of variables are known as __private__ varibale.\n",
    "2. A class is an example of encapsulation as it encapsulates all the data that is member functions, variables, etc.\n",
    "3. __Composition__: Composition is one of the way to achive encapsulation. In composition, we do not inherit from the base class but establish relationships between classes through the use of instance variables that are references to other objects. In composition, a class known as composite contains an object of another class known to as component.In other words, a composite class has a component of another class.\n",
    "    * The composition relation between two classes is considered loosely coupled. That means that changes to the component class rarely affect the composite class, and changes to the composite class never affect the component class.\n",
    "    * When looking at two competing software designs, one based on inheritance and another based on composition, the composition solution usually is the most flexible. You can now look at how composition works.\n",
    "    * https://realpython.com/inheritance-composition-python/#composition-in-python\n",
    "4. Dynamic Extension: Another way to achieve encapsulation is Dynamic Extension. Sometimes it's necessary to model a concept that may be a subclass of another one, but it isn't possible to know which class should be its superclass until runtime. Not sure about what it means chek google."
   ]
  },
  {
   "cell_type": "code",
   "execution_count": 87,
   "metadata": {},
   "outputs": [
    {
     "name": "stdout",
     "output_type": "stream",
     "text": [
      "Veena Kalburgi is an employee\n",
      "3427 Empress Dr\n",
      "Naperville, Illinois 60564\n"
     ]
    }
   ],
   "source": [
    "# Composition : In this scenario where address itself can contain multiple fields. We can use composition rather than \n",
    "# inheritance. Actually inheritance does even make sense in this kind of situation.\n",
    "\n",
    "class Employee:   \n",
    "    def __init__(self, first, last, address=None):\n",
    "        self.first = first\n",
    "        self.last = last\n",
    "        self.email = first + \".\" + last + \"@email.com\"\n",
    "        self.address = address\n",
    "       \n",
    "    def fullname(self):\n",
    "        return '{} {}'.format(self.first, self.last)\n",
    "    \n",
    "    def __str__(self):\n",
    "        return '{} {} is an employee'.format(self.first, self.last)\n",
    "    \n",
    "class Address:\n",
    "    def __init__(self, street, city, state, zipcode, street2=''):\n",
    "        self.street = street\n",
    "        self.street2 = street2\n",
    "        self.city = city\n",
    "        self.state = state\n",
    "        self.zipcode = zipcode\n",
    "\n",
    "    def __str__(self):\n",
    "        lines = [self.street]\n",
    "        if self.street2:\n",
    "            lines.append(self.street2)\n",
    "        lines.append(f'{self.city}, {self.state} {self.zipcode}')\n",
    "        return '\\n'.join(lines)\n",
    "    \n",
    "emp1_address =  Address(\"3427 Empress Dr\", \"Naperville\", \"Illinois\", \"60564\")  \n",
    "emp1 = Employee('Veena', 'Kalburgi', emp1_address)\n",
    "print(emp1)\n",
    "print(emp1.address)"
   ]
  },
  {
   "cell_type": "markdown",
   "metadata": {},
   "source": [
    "### Inheritance:\n",
    "1. Inheritance is the process by which one class can acquire the properties of parent/base class. The child class can add functionality or overwrite parent methods without effecting the parent class.\n",
    "2. By default  when you create a subclass it will inherit all the attributes (class level attributes also) and methods of the parent class.\n",
    "3. When a subclass is instantiated, python looks for \\__init__ in the child class if it isn't present then it will look for it in the parent class. \n",
    "3. Once you inherit, you can customise/override any of the parent methods including \\__init__ in the subclasses if needed.\n",
    "3. Use __help(classname)__ to visiualize the inheritance of a subclass or class.\n",
    "4. __super().parent_methodName(arguments)__ is used to call a parent method from subclasses.\n",
    "5. isinstance() and issubclass() are helper functions\n",
    "6. https://www.digitalocean.com/community/tutorials/understanding-class-inheritance-in-python-3\n",
    "7. https://www.youtube.com/watch?v=RSl87lqOXDE \n",
    " "
   ]
  },
  {
   "cell_type": "code",
   "execution_count": 88,
   "metadata": {},
   "outputs": [],
   "source": [
    "# create Developer subclass, with developer subclass having to handle one more initialization argument, the developer\n",
    "# main programming language.\n",
    "class Employee:  \n",
    "    class_attribute = 23\n",
    "    \n",
    "    def __init__(self, first, last, pay):\n",
    "        self.first = first\n",
    "        self.last = last\n",
    "        self.pay = pay\n",
    "        self.email = self.first + \".\" + self.last + \"@company.com\"\n",
    "       \n",
    "    def fullname(self):\n",
    "        return '{} {}'.format(self.first, self.last)\n",
    "    \n",
    "class Developer(Employee):\n",
    "    raise_amount = 1.10  # developer will get higher hike\n",
    "    def __init__(self, first, last, pay, prog_lang):\n",
    "        super().__init__(first, last, pay)\n",
    "        # Employee.__init__(self, first, last, pay) # same as above line of code.\n",
    "        self.prog_lang = prog_lang"
   ]
  },
  {
   "cell_type": "code",
   "execution_count": 89,
   "metadata": {},
   "outputs": [],
   "source": [
    "dev1 = Developer('Naina', 'Se', 101001, 'JAVA')"
   ]
  },
  {
   "cell_type": "code",
   "execution_count": 90,
   "metadata": {},
   "outputs": [
    {
     "name": "stdout",
     "output_type": "stream",
     "text": [
      "Help on class Developer in module __main__:\n",
      "\n",
      "class Developer(Employee)\n",
      " |  Developer(first, last, pay, prog_lang)\n",
      " |  \n",
      " |  Method resolution order:\n",
      " |      Developer\n",
      " |      Employee\n",
      " |      builtins.object\n",
      " |  \n",
      " |  Methods defined here:\n",
      " |  \n",
      " |  __init__(self, first, last, pay, prog_lang)\n",
      " |      Initialize self.  See help(type(self)) for accurate signature.\n",
      " |  \n",
      " |  ----------------------------------------------------------------------\n",
      " |  Data and other attributes defined here:\n",
      " |  \n",
      " |  raise_amount = 1.1\n",
      " |  \n",
      " |  ----------------------------------------------------------------------\n",
      " |  Methods inherited from Employee:\n",
      " |  \n",
      " |  fullname(self)\n",
      " |  \n",
      " |  ----------------------------------------------------------------------\n",
      " |  Data descriptors inherited from Employee:\n",
      " |  \n",
      " |  __dict__\n",
      " |      dictionary for instance variables (if defined)\n",
      " |  \n",
      " |  __weakref__\n",
      " |      list of weak references to the object (if defined)\n",
      " |  \n",
      " |  ----------------------------------------------------------------------\n",
      " |  Data and other attributes inherited from Employee:\n",
      " |  \n",
      " |  class_attribute = 23\n",
      "\n"
     ]
    }
   ],
   "source": [
    "# helper function to look at the inherited functionality\n",
    "# uncomment and check it out.\n",
    "help(Developer)"
   ]
  },
  {
   "cell_type": "code",
   "execution_count": 24,
   "metadata": {},
   "outputs": [],
   "source": [
    "# help(type(Developer))"
   ]
  },
  {
   "cell_type": "code",
   "execution_count": 91,
   "metadata": {},
   "outputs": [
    {
     "name": "stdout",
     "output_type": "stream",
     "text": [
      "JAVA\n",
      "Naina.Se@company.com\n"
     ]
    }
   ],
   "source": [
    "print(dev1.prog_lang)\n",
    "print(dev1.email)"
   ]
  },
  {
   "cell_type": "code",
   "execution_count": 93,
   "metadata": {},
   "outputs": [],
   "source": [
    "class Manager(Employee):\n",
    "    \n",
    "    def __init__(self, first, last, pay, reportees=None):\n",
    "        super().__init__(first, last, pay)\n",
    "        # Employee.__init__(self, first, last, pay) # same as above line of code.\n",
    "        if reportees is None:\n",
    "            self.reportees = []\n",
    "        else:\n",
    "            self.reportees = reportees\n",
    "            \n",
    "    def add_emp(self, emp):\n",
    "        if emp not in self.reportees:\n",
    "            self.reportees.append(emp)\n",
    "    \n",
    "    def del_emp(self, emp):\n",
    "        if emp in self.reportees:\n",
    "            self.reportees.remove(emp)\n",
    "    \n",
    "    def print_reportees(self):\n",
    "        for emp in self.reportees:\n",
    "            print('-->',emp.first)"
   ]
  },
  {
   "cell_type": "code",
   "execution_count": 94,
   "metadata": {},
   "outputs": [],
   "source": [
    "mgr1 = Manager(\"Veena\", \"Kalburgi\", 110000, [dev1])"
   ]
  },
  {
   "cell_type": "code",
   "execution_count": 56,
   "metadata": {},
   "outputs": [
    {
     "name": "stdout",
     "output_type": "stream",
     "text": [
      "Veena.Kalburgi@company.com\n",
      "--> Naina\n",
      "--> Seema\n",
      "None\n"
     ]
    }
   ],
   "source": [
    "print(mgr1.email)\n",
    "mgr1.add_emp(emp1)\n",
    "print(mgr1.print_reportees())"
   ]
  },
  {
   "cell_type": "code",
   "execution_count": 59,
   "metadata": {},
   "outputs": [
    {
     "name": "stdout",
     "output_type": "stream",
     "text": [
      "True\n",
      "True\n",
      "False\n"
     ]
    }
   ],
   "source": [
    "print(isinstance(mgr1, Manager))\n",
    "print(isinstance(mgr1, Employee))\n",
    "print(isinstance(mgr1, Developer))"
   ]
  },
  {
   "cell_type": "code",
   "execution_count": 61,
   "metadata": {},
   "outputs": [
    {
     "name": "stdout",
     "output_type": "stream",
     "text": [
      "True\n",
      "True\n",
      "False\n"
     ]
    }
   ],
   "source": [
    "print(issubclass(Manager, Employee))\n",
    "print(issubclass(Developer, Employee))\n",
    "print(issubclass(Developer, Manager))\n"
   ]
  },
  {
   "cell_type": "markdown",
   "metadata": {},
   "source": [
    "### Multiple Inheritance: Use of super() and Method Resolution Order:\n",
    "1. https://www.youtube.com/channel/UCRwRIpYnYiiXbwE7wChJ6SQ - \n",
    "2. Always check your method resolution order (mro) in case of multiple inheritance. \n",
    "3. Every class has an .\\__mro__ attribute that allows us to inspect the order,"
   ]
  },
  {
   "cell_type": "code",
   "execution_count": 8,
   "metadata": {},
   "outputs": [
    {
     "name": "stdout",
     "output_type": "stream",
     "text": [
      "Base.__init__\n",
      "Child1.__init__\n",
      "(<class '__main__.Child1'>, <class '__main__.Base'>, <class 'object'>)\n",
      "Base Message\n"
     ]
    }
   ],
   "source": [
    "class Base:\n",
    "    def __init__(self):\n",
    "        print('Base.__init__')\n",
    "    \n",
    "    def msg(self):\n",
    "        print('Base Message')\n",
    "\n",
    "class Child1(Base):\n",
    "    def __init__(self):\n",
    "        super().__init__()\n",
    "        print('Child1.__init__')\n",
    "        \n",
    "#     def msg(self):\n",
    "#         print('Child1 message')\n",
    "\n",
    "c = Child1()\n",
    "print(Child1.__mro__) # As expected\n",
    "c.msg() # as expected"
   ]
  },
  {
   "cell_type": "code",
   "execution_count": 1,
   "metadata": {},
   "outputs": [
    {
     "name": "stdout",
     "output_type": "stream",
     "text": [
      "Base.__init__\n",
      "Child2.__init__\n",
      "Child1.__init__\n",
      "Child3.__init__\n",
      "(<class '__main__.Child3'>, <class '__main__.Child1'>, <class '__main__.Child2'>, <class '__main__.Base'>, <class 'object'>)\n"
     ]
    }
   ],
   "source": [
    "class Base:\n",
    "    def __init__(self):\n",
    "        print('Base.__init__')\n",
    "\n",
    "class Child1(Base):\n",
    "    def __init__(self):\n",
    "        super().__init__()\n",
    "        print('Child1.__init__')\n",
    "\n",
    "class Child2(Base):\n",
    "    def __init__(self):\n",
    "        super().__init__()\n",
    "        print('Child2.__init__')\n",
    "\n",
    "class Child3(Child1, Child2):\n",
    "    def __init__(self):\n",
    "        super().__init__()\n",
    "        print('Child3.__init__')\n",
    "\n",
    "c = Child3()\n",
    "print(Child3.__mro__)\n",
    "# When oop code is run, python constructs a method resolution order following an algorithm. The rule is basically this: \n",
    "# \"If the same class appears more than once in the mro, the earlier occurences are removed from the mro.\" So in \n",
    "# (Child3, Child 1, Base, Child2, Base, object) , the earlier Base is removed and the mro thus is \n",
    "# (Child3, Child1, Child2, Base, object). Child2 is Child1's 'virtual parent' and not 'Base' in multiple inheritance.\n",
    "# this explains why base..child2..child1..child3."
   ]
  },
  {
   "cell_type": "code",
   "execution_count": 25,
   "metadata": {},
   "outputs": [
    {
     "name": "stdout",
     "output_type": "stream",
     "text": [
      "(<class '__main__.Child3'>, <class '__main__.Child1'>, <class '__main__.Child2'>, <class '__main__.Base'>, <class 'object'>)\n",
      "Child1 msg\n"
     ]
    }
   ],
   "source": [
    "class Base:\n",
    "    def msg(self):\n",
    "        print('Base msg')\n",
    "\n",
    "class Child1(Base):\n",
    "    def msg(self):\n",
    "        print('Child1 msg')\n",
    "\n",
    "class Child2(Base):\n",
    "    def msg(self):\n",
    "        print('Child2 msg')\n",
    "\n",
    "class Child3(Child1, Child2):\n",
    "    pass\n",
    "#     def msg(self):\n",
    "#         print('Child3 msg')\n",
    "        \n",
    "c = Child3()\n",
    "print(Child3.__mro__)\n",
    "c.msg()"
   ]
  },
  {
   "cell_type": "code",
   "execution_count": 30,
   "metadata": {},
   "outputs": [
    {
     "name": "stdout",
     "output_type": "stream",
     "text": [
      "16\n",
      "100\n",
      "(<class '__main__.Experiment'>, <class '__main__.Ten'>, <class '__main__.Hundred'>, <class 'object'>)\n"
     ]
    }
   ],
   "source": [
    "# How Super can be used in method\n",
    "class Ten():\n",
    "    def adder(self, *args):\n",
    "        print(sum(args) + 10)\n",
    "        super().adder()\n",
    "\n",
    "class Hundred():\n",
    "    def adder(self, *args):\n",
    "        print(sum(args)+100)\n",
    "        \n",
    "class Experiment(Ten, Hundred):\n",
    "    pass\n",
    "\n",
    "c = Experiment()\n",
    "c.adder(1,2,3)\n",
    "print(Experiment.__mro__)\n",
    "# according to mro super of Ten is Hundred so super().adder() calls adder of Hundred after adder in Ten"
   ]
  },
  {
   "cell_type": "markdown",
   "metadata": {},
   "source": [
    "### Polymorphism / Duck Typing:\n",
    "1. Object-oriented programming languages support polymorphism, which is characterized by the phrase \"one interface, multiple methods.For example, you might have a program that defines three different types of stacks. One stack is used for integer values, one for character values, and one for floating-point values. Because of polymorphism, you can define one set of names, push() and pop() , that can be used for all three stacks. In your program you will create three specific versions of these functions, one for each type of stack, but names of the functions will be the same. The compiler will automatically select the right function based upon the data being stored. Thus, the interface to a stack—the functions push() and pop() —are the same no matter which type of stack is being used. The individual versions of these functions define the specific implementations (methods) for each type of data. "
   ]
  },
  {
   "cell_type": "code",
   "execution_count": 203,
   "metadata": {},
   "outputs": [
    {
     "name": "stdout",
     "output_type": "stream",
     "text": [
      "2\n",
      "['a', 'b', 'c', 'd', 'e']\n",
      "veena.kalburgi\n"
     ]
    }
   ],
   "source": [
    "def my_sum(a, b):\n",
    "    return a + b\n",
    "\n",
    "print(my_sum(1, 1))\n",
    "print(my_sum([\"a\", \"b\", \"c\"], [\"d\", \"e\"]))\n",
    "print(my_sum(\"veena.\", \"kalburgi\"))\n"
   ]
  },
  {
   "cell_type": "code",
   "execution_count": 59,
   "metadata": {},
   "outputs": [
    {
     "name": "stdout",
     "output_type": "stream",
     "text": [
      "5\n",
      "3\n",
      "2\n"
     ]
    }
   ],
   "source": [
    "# python shows inbuilt polymorphism\n",
    "print(len('veena'))\n",
    "print(len([1,2,3]))\n",
    "print(len({'name':'seema', 'age':32}))"
   ]
  },
  {
   "cell_type": "markdown",
   "metadata": {},
   "source": [
    "### \\_\\_name__ == '\\_\\_main__'\n",
    "https://www.youtube.com/watch?v=sugvnHA7ElY"
   ]
  },
  {
   "cell_type": "markdown",
   "metadata": {},
   "source": [
    "## StringIO:\n",
    "1. StringIO — Read and write strings as files. This module implements a file-like class, StringIO.\n",
    "2. It's used when you have some API that only takes files, but you need to use a string. For unit-testing\n",
    "3. https://stackoverflow.com/questions/7996479/what-is-stringio-in-python-used-for-in-reality\n",
    "4. https://docs.python.org/3/library/io.html#io.StringIO"
   ]
  },
  {
   "cell_type": "code",
   "execution_count": 215,
   "metadata": {},
   "outputs": [],
   "source": [
    "from io import StringIO\n",
    "message = \"THis is a ver long message that I want to use in stringIO.\""
   ]
  },
  {
   "cell_type": "code",
   "execution_count": 216,
   "metadata": {},
   "outputs": [
    {
     "data": {
      "text/plain": [
       "_io.StringIO"
      ]
     },
     "execution_count": 216,
     "metadata": {},
     "output_type": "execute_result"
    }
   ],
   "source": [
    "f = StringIO(message)\n",
    "type(f)"
   ]
  },
  {
   "cell_type": "code",
   "execution_count": 217,
   "metadata": {},
   "outputs": [
    {
     "data": {
      "text/plain": [
       "'THis is a ver long message that I want to use in stringIO.'"
      ]
     },
     "execution_count": 217,
     "metadata": {},
     "output_type": "execute_result"
    }
   ],
   "source": [
    "f.read()"
   ]
  },
  {
   "cell_type": "code",
   "execution_count": 218,
   "metadata": {},
   "outputs": [
    {
     "data": {
      "text/plain": [
       "'THis is a ver long message that I want to use in stringIO. Second line written to file like object'"
      ]
     },
     "execution_count": 218,
     "metadata": {},
     "output_type": "execute_result"
    }
   ],
   "source": [
    "f.write(' Second line written to file like object')\n",
    "f.seek(0)\n",
    "f.read()"
   ]
  },
  {
   "cell_type": "code",
   "execution_count": 103,
   "metadata": {},
   "outputs": [
    {
     "data": {
      "text/html": [
       "<div>\n",
       "<style scoped>\n",
       "    .dataframe tbody tr th:only-of-type {\n",
       "        vertical-align: middle;\n",
       "    }\n",
       "\n",
       "    .dataframe tbody tr th {\n",
       "        vertical-align: top;\n",
       "    }\n",
       "\n",
       "    .dataframe thead th {\n",
       "        text-align: right;\n",
       "    }\n",
       "</style>\n",
       "<table border=\"1\" class=\"dataframe\">\n",
       "  <thead>\n",
       "    <tr style=\"text-align: right;\">\n",
       "      <th></th>\n",
       "      <th>id</th>\n",
       "      <th>name</th>\n",
       "    </tr>\n",
       "  </thead>\n",
       "  <tbody>\n",
       "    <tr>\n",
       "      <th>0</th>\n",
       "      <td>1</td>\n",
       "      <td>brian</td>\n",
       "    </tr>\n",
       "    <tr>\n",
       "      <th>1</th>\n",
       "      <td>2</td>\n",
       "      <td>amanda</td>\n",
       "    </tr>\n",
       "    <tr>\n",
       "      <th>2</th>\n",
       "      <td>3</td>\n",
       "      <td>zoey</td>\n",
       "    </tr>\n",
       "  </tbody>\n",
       "</table>\n",
       "</div>"
      ],
      "text/plain": [
       "   id    name\n",
       "0   1   brian\n",
       "1   2  amanda\n",
       "2   3    zoey"
      ]
     },
     "execution_count": 103,
     "metadata": {},
     "output_type": "execute_result"
    }
   ],
   "source": [
    "# Another use case:\n",
    "import pandas as pd\n",
    "import io\n",
    "f = io.StringIO(\"id,name\\n1,brian\\n2,amanda\\n3,zoey\\n\")\n",
    "df = pd.read_csv(f) # pandas takes a file path or a file-like object\n",
    "df"
   ]
  },
  {
   "cell_type": "markdown",
   "metadata": {},
   "source": [
    "### Errors and Exception Handling:\n",
    "1. Exceptions are error that occur during runtime. Its always nice to gracefully handle these error and output some meaningful error message, rather than the interpretor throwing some weired programming language to the end user.\n",
    "2. List of all the built-in exception - https://docs.python.org/3/library/exceptions.html\n",
    "3. Use try-except block to catch any exceptions which might occur for to suspicious code. \n",
    "\n",
    "    try:\n",
    "        block-1 ...\n",
    "    except Exception1:\n",
    "        handler-1 ...\n",
    "    except Exception2:\n",
    "        handler-2 ...\n",
    "    else:\n",
    "        else-block...Is executed if 'NO' exception occurs in try...\n",
    "    finally:\n",
    "        final-block...ALWAYS EXECUTED\n",
    "4. __raise()__: The raise statement allows the programmer to force a specific exception to occur.\n",
    "    * https://stackoverflow.com/questions/2052390/manually-raising-throwing-an-exception-in-python"
   ]
  },
  {
   "cell_type": "code",
   "execution_count": 316,
   "metadata": {},
   "outputs": [
    {
     "name": "stdout",
     "output_type": "stream",
     "text": [
      "Error: Could not find file or write data [Errno 2] No such file or directory: 'testfile'\n"
     ]
    }
   ],
   "source": [
    "try:\n",
    "    f = open('testfile.txt','r')\n",
    "    f.write('Test write this')\n",
    "except IOError as e:\n",
    "    # This will only check for an IOError exception and then execute this print statement\n",
    "   print(\"Error: Could not find file or write data\", e)\n",
    "else:\n",
    "   print(\"Content written successfully\")\n",
    "   f.close()"
   ]
  },
  {
   "cell_type": "code",
   "execution_count": 341,
   "metadata": {},
   "outputs": [],
   "source": [
    "import os\n",
    "# os.listdir() method in python is used to get the list of all files and directories in the specified directory.\n",
    "check_file_list = os.listdir() # file and directories in cwd.\n",
    "# os.listdir('data/iris') # #looks for file and folders in specified directory.\n",
    "# check_file_list"
   ]
  },
  {
   "cell_type": "code",
   "execution_count": 342,
   "metadata": {},
   "outputs": [
    {
     "ename": "AssertionError",
     "evalue": "No such file present! Check and run again",
     "output_type": "error",
     "traceback": [
      "\u001b[1;31m---------------------------------------------------------------------------\u001b[0m",
      "\u001b[1;31mAssertionError\u001b[0m                            Traceback (most recent call last)",
      "\u001b[1;32m<ipython-input-342-8c3db0bc44f3>\u001b[0m in \u001b[0;36m<module>\u001b[1;34m\u001b[0m\n\u001b[0;32m      2\u001b[0m \u001b[1;31m# assert checks if the expression is True, otherwise throws AssertionError with the error message string provided\u001b[0m\u001b[1;33m\u001b[0m\u001b[1;33m\u001b[0m\u001b[1;33m\u001b[0m\u001b[0m\n\u001b[0;32m      3\u001b[0m \u001b[0merror\u001b[0m \u001b[1;33m=\u001b[0m \u001b[1;34m\"No such file present! Check and run again\"\u001b[0m\u001b[1;33m\u001b[0m\u001b[1;33m\u001b[0m\u001b[0m\n\u001b[1;32m----> 4\u001b[1;33m \u001b[1;32massert\u001b[0m \u001b[1;34m'testfile.txt'\u001b[0m \u001b[1;32min\u001b[0m \u001b[0mcheck_file_list\u001b[0m\u001b[1;33m,\u001b[0m \u001b[0merror\u001b[0m\u001b[1;33m\u001b[0m\u001b[1;33m\u001b[0m\u001b[0m\n\u001b[0m",
      "\u001b[1;31mAssertionError\u001b[0m: No such file present! Check and run again"
     ]
    }
   ],
   "source": [
    "# assert is another way we can check and raise a exception.\n",
    "# assert checks if the expression is True, otherwise throws AssertionError with the error message string provided\n",
    "error = \"No such file present! Check and run again\"\n",
    "assert 'testfile.txt' in check_file_list, error"
   ]
  },
  {
   "cell_type": "code",
   "execution_count": 298,
   "metadata": {},
   "outputs": [
    {
     "name": "stdout",
     "output_type": "stream",
     "text": [
      "There was division by zero exception !!\n",
      "Always Executed\n"
     ]
    }
   ],
   "source": [
    "try:\n",
    "   a = 5/0 # Change it 5/1 to see the finally block execution\n",
    "except Exception as e:\n",
    "    print(\"There was {} exception !!\".format(e))\n",
    "else:\n",
    "    print(\"Result is\", a)\n",
    "finally:\n",
    "    print(\"Always Executed\")"
   ]
  },
  {
   "cell_type": "code",
   "execution_count": 25,
   "metadata": {},
   "outputs": [
    {
     "name": "stdout",
     "output_type": "stream",
     "text": [
      "Please enter an integer: a\n",
      "Looks like you did not enter an integer!\n",
      "Finally, I executed!\n",
      "Please enter an integer: w\n",
      "Looks like you did not enter an integer!\n",
      "Finally, I executed!\n",
      "Please enter an integer: 1\n",
      "Yep thats an integer!\n",
      "1\n",
      "Finally, I executed!\n"
     ]
    }
   ],
   "source": [
    "def GetMeInterger():\n",
    "    while True:\n",
    "        try:\n",
    "            val = int(input(\"Please enter an integer: \"))\n",
    "        except:\n",
    "            print(\"Looks like you did not enter an integer!\")\n",
    "            continue\n",
    "        else:\n",
    "            print('Yep thats an integer!')\n",
    "            print(val) \n",
    "            break\n",
    "        finally:  \n",
    "            print(\"Finally, I executed!\")\n",
    "GetMeInterger()"
   ]
  },
  {
   "cell_type": "code",
   "execution_count": 291,
   "metadata": {},
   "outputs": [
    {
     "name": "stdout",
     "output_type": "stream",
     "text": [
      "['ArithmeticError', 'AssertionError', 'AttributeError', 'BaseException', 'BlockingIOError', 'BrokenPipeError', 'BufferError', 'BytesWarning', 'ChildProcessError', 'ConnectionAbortedError', 'ConnectionError', 'ConnectionRefusedError', 'ConnectionResetError', 'DeprecationWarning', 'EOFError', 'Ellipsis', 'EnvironmentError', 'Exception', 'False', 'FileExistsError', 'FileNotFoundError', 'FloatingPointError', 'FutureWarning', 'GeneratorExit', 'IOError', 'ImportError', 'ImportWarning', 'IndentationError', 'IndexError', 'InterruptedError', 'IsADirectoryError', 'KeyError', 'KeyboardInterrupt', 'LookupError', 'MemoryError', 'ModuleNotFoundError', 'NameError', 'None', 'NotADirectoryError', 'NotImplemented', 'NotImplementedError', 'OSError', 'OverflowError', 'PendingDeprecationWarning', 'PermissionError', 'ProcessLookupError', 'RecursionError', 'ReferenceError', 'ResourceWarning', 'RuntimeError', 'RuntimeWarning', 'StopAsyncIteration', 'StopIteration', 'SyntaxError', 'SyntaxWarning', 'SystemError', 'SystemExit', 'TabError', 'TimeoutError', 'True', 'TypeError', 'UnboundLocalError', 'UnicodeDecodeError', 'UnicodeEncodeError', 'UnicodeError', 'UnicodeTranslateError', 'UnicodeWarning', 'UserWarning', 'ValueError', 'Warning', 'WindowsError', 'ZeroDivisionError', '__IPYTHON__', '__build_class__', '__debug__', '__doc__', '__import__', '__loader__', '__name__', '__package__', '__spec__', 'abs', 'all', 'any', 'ascii', 'bin', 'bool', 'breakpoint', 'bytearray', 'bytes', 'callable', 'chr', 'classmethod', 'compile', 'complex', 'copyright', 'credits', 'delattr', 'dict', 'dir', 'display', 'divmod', 'enumerate', 'eval', 'exec', 'filter', 'float', 'format', 'frozenset', 'get_ipython', 'getattr', 'globals', 'hasattr', 'hash', 'help', 'hex', 'id', 'input', 'int', 'isinstance', 'issubclass', 'iter', 'len', 'license', 'list', 'locals', 'map', 'max', 'memoryview', 'min', 'next', 'object', 'oct', 'open', 'ord', 'pow', 'print', 'property', 'range', 'repr', 'reversed', 'round', 'set', 'setattr', 'slice', 'sorted', 'staticmethod', 'str', 'sum', 'super', 'tuple', 'type', 'vars', 'zip']\n"
     ]
    }
   ],
   "source": [
    "# This gives list of all built-in exceptions\n",
    "print(dir(locals()['__builtins__']))\n"
   ]
  },
  {
   "cell_type": "code",
   "execution_count": 326,
   "metadata": {
    "scrolled": true
   },
   "outputs": [
    {
     "ename": "NameError",
     "evalue": "Hi There!!",
     "output_type": "error",
     "traceback": [
      "\u001b[1;31m---------------------------------------------------------------------------\u001b[0m",
      "\u001b[1;31mNameError\u001b[0m                                 Traceback (most recent call last)",
      "\u001b[1;32m<ipython-input-326-84d8f22935c2>\u001b[0m in \u001b[0;36m<module>\u001b[1;34m\u001b[0m\n\u001b[0;32m      1\u001b[0m \u001b[1;31m# The sole argument to raise indicates the exception to be raised.\u001b[0m\u001b[1;33m\u001b[0m\u001b[1;33m\u001b[0m\u001b[1;33m\u001b[0m\u001b[0m\n\u001b[0;32m      2\u001b[0m \u001b[1;31m# This must be either an exception instance or an exception class (a class that derives from Exception).\u001b[0m\u001b[1;33m\u001b[0m\u001b[1;33m\u001b[0m\u001b[1;33m\u001b[0m\u001b[0m\n\u001b[1;32m----> 3\u001b[1;33m \u001b[1;32mraise\u001b[0m \u001b[0mNameError\u001b[0m\u001b[1;33m(\u001b[0m\u001b[1;34m\"Hi There!!\"\u001b[0m\u001b[1;33m)\u001b[0m \u001b[1;31m# NameError is a exception class\u001b[0m\u001b[1;33m\u001b[0m\u001b[1;33m\u001b[0m\u001b[0m\n\u001b[0m\u001b[0;32m      4\u001b[0m \u001b[1;31m# help(NameError)\u001b[0m\u001b[1;33m\u001b[0m\u001b[1;33m\u001b[0m\u001b[1;33m\u001b[0m\u001b[0m\n",
      "\u001b[1;31mNameError\u001b[0m: Hi There!!"
     ]
    }
   ],
   "source": [
    "# The sole argument to raise indicates the exception to be raised. \n",
    "# This must be either an exception instance or an exception class (a class that derives from Exception).\n",
    "raise NameError(\"Hi There!!\") # NameError is a exception class\n",
    "# help(NameError)"
   ]
  },
  {
   "cell_type": "code",
   "execution_count": 327,
   "metadata": {},
   "outputs": [
    {
     "name": "stdout",
     "output_type": "stream",
     "text": [
      "An exception flew by!\n"
     ]
    },
    {
     "ename": "NameError",
     "evalue": "HiThere",
     "output_type": "error",
     "traceback": [
      "\u001b[1;31m---------------------------------------------------------------------------\u001b[0m",
      "\u001b[1;31mNameError\u001b[0m                                 Traceback (most recent call last)",
      "\u001b[1;32m<ipython-input-327-6ed031d1705c>\u001b[0m in \u001b[0;36m<module>\u001b[1;34m\u001b[0m\n\u001b[0;32m      2\u001b[0m \u001b[1;31m# a simpler form of the raise statement allows you to re-raise the exception:\u001b[0m\u001b[1;33m\u001b[0m\u001b[1;33m\u001b[0m\u001b[1;33m\u001b[0m\u001b[0m\n\u001b[0;32m      3\u001b[0m \u001b[1;32mtry\u001b[0m\u001b[1;33m:\u001b[0m\u001b[1;33m\u001b[0m\u001b[1;33m\u001b[0m\u001b[0m\n\u001b[1;32m----> 4\u001b[1;33m     \u001b[1;32mraise\u001b[0m \u001b[0mNameError\u001b[0m\u001b[1;33m(\u001b[0m\u001b[1;34m'HiThere'\u001b[0m\u001b[1;33m)\u001b[0m\u001b[1;33m\u001b[0m\u001b[1;33m\u001b[0m\u001b[0m\n\u001b[0m\u001b[0;32m      5\u001b[0m \u001b[1;32mexcept\u001b[0m \u001b[0mNameError\u001b[0m\u001b[1;33m:\u001b[0m\u001b[1;33m\u001b[0m\u001b[1;33m\u001b[0m\u001b[0m\n\u001b[0;32m      6\u001b[0m     \u001b[0mprint\u001b[0m\u001b[1;33m(\u001b[0m\u001b[1;34m'An exception flew by!'\u001b[0m\u001b[1;33m)\u001b[0m\u001b[1;33m\u001b[0m\u001b[1;33m\u001b[0m\u001b[0m\n",
      "\u001b[1;31mNameError\u001b[0m: HiThere"
     ]
    }
   ],
   "source": [
    "# If you need to determine whether an exception was raised but don’t intend to handle it, \n",
    "# a simpler form of the raise statement allows you to re-raise the exception:\n",
    "try:\n",
    "    raise NameError('HiThere')\n",
    "except NameError:\n",
    "    print('An exception flew by!')\n",
    "    raise"
   ]
  },
  {
   "cell_type": "markdown",
   "metadata": {},
   "source": [
    "### User-defined Exception:\n",
    "1. Programs may name their own exceptions by creating a new exception class. Exceptions should typically be derived from the Exception class, either directly or indirectly."
   ]
  },
  {
   "cell_type": "markdown",
   "metadata": {},
   "source": [
    "# TESTING you Python code \n",
    "## unittest vs pytest:"
   ]
  },
  {
   "cell_type": "markdown",
   "metadata": {},
   "source": [
    "**unittest**:\n",
    "1. This is a testing framework built in python std library. No need to install unittest.\n",
    "3. 'unittest' is more explicit. Like you will have to select differetn assert statement yourself like, assertEqual, assertNotEqual, assertTrue, asssertFalse, assertIs, assertIsNot etc...\n",
    "2. https://www.youtube.com/watch?v=6tNS--WetLI\n",
    "3. https://docs.python.org/3/library/unittest.html#test-cases\n",
    "4. https://docs.python.org/3/library/unittest.html#unittest.TestCase.debug"
   ]
  },
  {
   "cell_type": "markdown",
   "metadata": {},
   "source": [
    "**pytest** \n",
    "1. pytest has only one statement called \"assert\" for testing our code. pytest internally handle the specifics. pytest is more implicit."
   ]
  },
  {
   "cell_type": "code",
   "execution_count": 1,
   "metadata": {},
   "outputs": [],
   "source": [
    "# test_calc.py\n",
    "import unittest\n",
    "import calc\n",
    "\n",
    "class TestCalc(unittest.TestCase):\n",
    "    \n",
    "    @classmethod\n",
    "    def setUpClass(cls):\n",
    "        print('setUpClass') # Run at very start of the testing like creating populating database with dummy values\n",
    "        \n",
    "    @classmethod\n",
    "    def tearDownClass(cls):\n",
    "        print('tearDownClass') # Run at very end after all the test cases\n",
    "        \n",
    "    # Method called to prepare the test fixture\n",
    "    def setUp(self)\n",
    "        # this is where instances are created or initial setup is done\n",
    "        print('setUp')\n",
    "        \n",
    "    # test case shoudl start with test_\n",
    "    def test_add(self):\n",
    "        self.assertEqual(calc.add(2,3), 5)\n",
    "        \n",
    "    def test_sub(self):\n",
    "        self.assertEqual(calc.sub(2,3), -1)\n",
    "    \n",
    "    def test_div(self):\n",
    "        # say if our divide function is raising a divide by zero error - ValueError('')\n",
    "        # this is one of the way to test but not preferred.\n",
    "        self.assertRaises(ValueError, calc.divide, 10, 0)\n",
    "        # this is now its done using context manager\n",
    "        with self.assertRaises(ValueError):\n",
    "            calc.divide(10, 0)\n",
    "    \n",
    "    # Method called immediately after the test method has been called and the result recorded\n",
    "    def tearDown(self):\n",
    "        print('tearDown')\n",
    "        \n",
    "if __name__ == '__main__'\n",
    "    unittest.main() # allows you to run your teh file as module. Just run normally."
   ]
  },
  {
   "cell_type": "markdown",
   "metadata": {},
   "source": [
    "Output:\n",
    "\n",
    "**setUpClass**\n",
    "\n",
    "setUp  \n",
    "test_add  \n",
    "tearDown  \n",
    "\n",
    "setUp  \n",
    "test_sub  \n",
    "tearDown  \n",
    "\n",
    "setUp  \n",
    "test_div  \n",
    "tearDown  \n",
    "\n",
    "**tearDownClass**"
   ]
  },
  {
   "cell_type": "markdown",
   "metadata": {},
   "source": [
    "### Mocking with unittest"
   ]
  },
  {
   "cell_type": "code",
   "execution_count": 2,
   "metadata": {
    "code_folding": []
   },
   "outputs": [],
   "source": [
    "#employee.py\n",
    "\n",
    "class Employee:\n",
    "    \n",
    "    def monthly_schedule(self, month):\n",
    "        response = requests.get(f'http://company.com/{self.last}/{month}')\n",
    "        if response.ok:\n",
    "            return response.text\n",
    "        else:\n",
    "            return 'bad response!'"
   ]
  },
  {
   "cell_type": "code",
   "execution_count": null,
   "metadata": {},
   "outputs": [],
   "source": [
    "#test_calc.py\n",
    "from unittest.mock import patch\n",
    "# we can use patch as a decorator or as a context manager\n",
    "class TestCalc(unittest.TestCase):\n",
    "    \n",
    "    def setUp(self):\n",
    "        self.emp_1 = Employee('Corey', 'Schafer', 50000)\n",
    "        \n",
    "    def test_monthly_schedule(self):\n",
    "        with patch('employee.request.get') as mocked_get:\n",
    "            mocked_get.return_value.ok = True\n",
    "            mocked_get.retuen_value.text = 'Success'\n",
    "            # this is the actual test to see when the response is 'Ok'\n",
    "            schedule = self.emp_1.monthly_schedule('May')\n",
    "            mocked_get.assert_called_with('http://comapany.com/Schafer/May')\n",
    "            self.assertEqual(schedule, 'Success')\n",
    "            # this is the actual test to see when the response is 'bad response'\n",
    "            \n",
    "            mocked_get.return_value.ok = False\n",
    "            schedule = self.emp_1.monthly_schedule('May')\n",
    "            mocked_get.assert_called_with('http://comapany.com/Schafer/May')\n",
    "            self.assertEqual(schedule, 'bas response!')"
   ]
  },
  {
   "cell_type": "markdown",
   "metadata": {},
   "source": [
    "# doctest - Another way to testing - _I dont like it_\n",
    "1. https://docs.python.org/3/library/doctest.html\n",
    "2. The doctest module searches for pieces of text that look like interactive Python sessions, and then executes those sessions to verify that they work exactly as shown"
   ]
  },
  {
   "cell_type": "code",
   "execution_count": 1,
   "metadata": {},
   "outputs": [
    {
     "name": "stdout",
     "output_type": "stream",
     "text": [
      "Trying:\n",
      "    add(1,1)\n",
      "Expecting:\n",
      "    2\n",
      "ok\n",
      "1 items had no tests:\n",
      "    __main__\n",
      "1 items passed all tests:\n",
      "   1 tests in __main__.add\n",
      "1 tests in 2 items.\n",
      "1 passed and 0 failed.\n",
      "Test passed.\n"
     ]
    }
   ],
   "source": [
    "def add(a,b):\n",
    "    '''\n",
    "    >>> add(1,1)\n",
    "    2\n",
    "    '''\n",
    "    return a+b\n",
    "\n",
    "if __name__ == '__main__':\n",
    "    import doctest\n",
    "    doctest.testmod(verbose=True)"
   ]
  },
  {
   "cell_type": "markdown",
   "metadata": {},
   "source": [
    "### Metaclasses : Type and Classes:\n",
    "1. https://realpython.com/python-metaclasses/\n",
    "2. With python 3 and onwards, all classes are of 'type'"
   ]
  },
  {
   "cell_type": "code",
   "execution_count": 31,
   "metadata": {
    "scrolled": true
   },
   "outputs": [
    {
     "name": "stdout",
     "output_type": "stream",
     "text": [
      "<class '__main__.Foo'>\n",
      "<class 'type'>\n",
      "<class 'type'>\n"
     ]
    }
   ],
   "source": [
    "class Foo:\n",
    "    pass\n",
    "\n",
    "x=Foo()\n",
    "print(type(x))\n",
    "print(type(Foo))\n"
   ]
  },
  {
   "cell_type": "code",
   "execution_count": 34,
   "metadata": {},
   "outputs": [
    {
     "name": "stdout",
     "output_type": "stream",
     "text": [
      "<class 'type'>\n",
      "<class 'type'>\n",
      "<class 'type'>\n",
      "<class 'type'>\n",
      "<class 'type'>\n",
      "<class 'type'>\n"
     ]
    }
   ],
   "source": [
    "# In general, the type of any new-style class is 'type'.\n",
    "for i in int, float, list, dict, tuple:\n",
    "    print(type(i))\n",
    "print(type(type)) # For that matter, the type of 'type' is type as well (yes, really):"
   ]
  },
  {
   "cell_type": "markdown",
   "metadata": {},
   "source": [
    "**'type' is a metaclass, of which classes are instances. Just as an ordinary object is an instance of a class, any new-style class in Python, and thus any class in Python 3, is an instance of the type metaclass**"
   ]
  },
  {
   "cell_type": "markdown",
   "metadata": {},
   "source": [
    "### Defining a Class Dynamically:\n",
    "1. You can also call type() with three arguments—type(name, bases, dct):\n",
    "    * __name__ specifies the class name. This becomes the __name__ attribute of the class.\n",
    "    * __bases__ specifies a tuple of the base classes from which the class inherits. This becomes the __bases__ attribute of the class.\n",
    "    * __dct__ specifies a namespace dictionary containing definitions for the class body. This becomes the __dict__ attribute of the class.\n",
    "Calling type() in this manner creates a new instance of the type metaclass. In other words, it dynamically creates a new class.\n"
   ]
  },
  {
   "cell_type": "code",
   "execution_count": 37,
   "metadata": {},
   "outputs": [
    {
     "data": {
      "text/plain": [
       "<__main__.Foo at 0x5e10ee0>"
      ]
     },
     "execution_count": 37,
     "metadata": {},
     "output_type": "execute_result"
    }
   ],
   "source": [
    "# Normal style:\n",
    "class Foo:\n",
    "    pass\n",
    "\n",
    "x=Foo()\n",
    "x"
   ]
  },
  {
   "cell_type": "code",
   "execution_count": 38,
   "metadata": {},
   "outputs": [
    {
     "data": {
      "text/plain": [
       "<__main__.Foo at 0x5e10b38>"
      ]
     },
     "execution_count": 38,
     "metadata": {},
     "output_type": "execute_result"
    }
   ],
   "source": [
    "# Using 'type': No difference its same\n",
    "Foo = type('Foo', (), {})\n",
    "x=Foo()\n",
    "x"
   ]
  },
  {
   "cell_type": "code",
   "execution_count": 40,
   "metadata": {},
   "outputs": [
    {
     "name": "stdout",
     "output_type": "stream",
     "text": [
      "100\n",
      "100\n"
     ]
    }
   ],
   "source": [
    "# Normal style:\n",
    "class Bar(Foo):\n",
    "    attr = 100\n",
    "    def attr_val(self):\n",
    "        return self.attr\n",
    "\n",
    "x=Bar()\n",
    "print(x.attr)\n",
    "print(x.attr_val())"
   ]
  },
  {
   "cell_type": "code",
   "execution_count": 44,
   "metadata": {},
   "outputs": [
    {
     "name": "stdout",
     "output_type": "stream",
     "text": [
      "100\n",
      "100\n"
     ]
    }
   ],
   "source": [
    "# Using 'type'\n",
    "Bar = type('Bar', (Foo,),\n",
    "          {\n",
    "              'attr':100,\n",
    "              'attr_val': lambda x: x.attr\n",
    "          })\n",
    "x=Bar()\n",
    "print(x.attr)\n",
    "print(x.attr_val())"
   ]
  },
  {
   "cell_type": "markdown",
   "metadata": {},
   "source": [
    "### Custome MetaClasses:"
   ]
  },
  {
   "cell_type": "markdown",
   "metadata": {},
   "source": [
    "class Foo:  \n",
    "    pass\n",
    "f = Foo()  \n",
    "\n",
    "The expression Foo() creates a new instance of class Foo. When the interpreter encounters Foo(), the following occurs:\n",
    "1. The \\__call__() method of Foo’s parent class is called. Since Foo is a standard new-style class, its parent class is the type metaclass, so type’s \\__call__() method is invoked.\n",
    "2. That \\__call__() method in turn invokes the following:\n",
    "\\__new__()\n",
    "\\__init__()\n",
    "If Foo does not define \\__new__() and \\__init__(), default methods are inherited from Foo’s ancestry. But if Foo does define these methods, they override those from the ancestry, which allows for customized behavior when instantiating Foo."
   ]
  },
  {
   "cell_type": "code",
   "execution_count": 50,
   "metadata": {},
   "outputs": [
    {
     "data": {
      "text/plain": [
       "100"
      ]
     },
     "execution_count": 50,
     "metadata": {},
     "output_type": "execute_result"
    }
   ],
   "source": [
    "# Customizing __new__\n",
    "class Foo:\n",
    "    def __new__(cls):\n",
    "        x = object.__new__(cls)\n",
    "        x.attr = 100\n",
    "        return x\n",
    "    \n",
    "x = Foo()\n",
    "x.attr"
   ]
  },
  {
   "cell_type": "code",
   "execution_count": 76,
   "metadata": {},
   "outputs": [
    {
     "name": "stdout",
     "output_type": "stream",
     "text": [
      "__repr__ of instance\n",
      "<class '__main__.Foo'>\n"
     ]
    }
   ],
   "source": [
    "# better example:__repr__() is a instance method customise it for cls\n",
    "# https://stackoverflow.com/questions/8955754/can-i-define-a-repr-for-a-class-rather-than-an-instance\n",
    "class Foo:\n",
    "    def __repr__(self):\n",
    "        return \"__repr__ of instance\"\n",
    "    \n",
    "print(Foo()) # instance repr\n",
    "print(Foo) # class repr"
   ]
  },
  {
   "cell_type": "code",
   "execution_count": 77,
   "metadata": {},
   "outputs": [
    {
     "data": {
      "text/plain": [
       "__main__.Foo"
      ]
     },
     "execution_count": 77,
     "metadata": {},
     "output_type": "execute_result"
    }
   ],
   "source": [
    "Foo."
   ]
  },
  {
   "cell_type": "code",
   "execution_count": 67,
   "metadata": {},
   "outputs": [
    {
     "name": "stdout",
     "output_type": "stream",
     "text": [
      "__repr__ of instance\n",
      "__repr__ of class\n"
     ]
    }
   ],
   "source": [
    "class Meta(type):\n",
    "    def __repr__(cls):\n",
    "        return \"__repr__ of class\"\n",
    "    \n",
    "class Foo(metaclass=Meta):\n",
    "    def __repr__(self):\n",
    "        return \"__repr__ of instance\"\n",
    "    \n",
    "print(Foo()) # instance repr\n",
    "print(Foo) # class repr"
   ]
  },
  {
   "cell_type": "markdown",
   "metadata": {},
   "source": [
    "**Following can be customised through Metaclass**\n",
    "https://docs.python.org/3/reference/datamodel.html?highlight=__new__#basic-customization\n"
   ]
  },
  {
   "cell_type": "code",
   "execution_count": 189,
   "metadata": {},
   "outputs": [
    {
     "name": "stdout",
     "output_type": "stream",
     "text": [
      "<__main__.Earth object at 0x05E47E80> <__main__.Earth object at 0x05E47E80>\n",
      "True\n"
     ]
    }
   ],
   "source": [
    "# Another example : Write metaclass to make sure to have only one instance of a class earth\n",
    "\n",
    "class Singleton(type):\n",
    "    def __init__(self, *args, **kwargs):\n",
    "        self.__instance = None\n",
    "        super().__init__(*args, **kwargs)\n",
    "        \n",
    "    def __call__(self, *args, **kwargs):\n",
    "        if self.__instance is None:\n",
    "            self.__instance = super().__call__(*args, *kwargs)\n",
    "            return self.__instance\n",
    "        else:\n",
    "            return self.__instance\n",
    "\n",
    "class Earth(metaclass=Singleton):\n",
    "    pass\n",
    "\n",
    "unique_earth = Earth()\n",
    "duplicate_earth = Earth() # No second instance created, same first insatnce is passed\n",
    "print(unique_earth, duplicate_earth)\n",
    "print(unique_earth is duplicate_earth)"
   ]
  },
  {
   "cell_type": "markdown",
   "metadata": {},
   "source": [
    "**Most of the time Metaclass is not required, avoid if we can get the things done using @ decorators**\n",
    "But, practically speaking there are used for enforcing cosing conventions. Say, you write a python library for internal use within a company. You use Metaclass to enforce restrictions/ to find errors in early state.\n",
    "https://www.youtube.com/watch?v=0NFFk32CJ8s&t=2s @7:00"
   ]
  },
  {
   "cell_type": "markdown",
   "metadata": {},
   "source": [
    "### Decorators:\n",
    "1. By definition, a decorator is a function that takes another function and extends the behavior of the latter function without explicitly modifying it.\n",
    "2. Great article - https://realpython.com/primer-on-python-decorators/ with real world examples."
   ]
  },
  {
   "cell_type": "code",
   "execution_count": 174,
   "metadata": {},
   "outputs": [
    {
     "name": "stdout",
     "output_type": "stream",
     "text": [
      "<function my_decorator.<locals>.wrapper at 0x06D4C340> \n",
      "\n",
      "Something happenning here before the function is called!\n",
      "Whee!\n",
      "Something happenning here after the function is called!\n",
      "None\n"
     ]
    }
   ],
   "source": [
    "def my_decorator(func):\n",
    "    def wrapper():\n",
    "        print(\"Something happenning here before the function is called!\")\n",
    "        func()\n",
    "        print(\"Something happenning here after the function is called!\")\n",
    "    return wrapper\n",
    "\n",
    "@my_decorator\n",
    "def say_whee():\n",
    "    print(\"Whee!\")    \n",
    "\n",
    "# without the @decorator say_whee actaully returns this - <function say_whee at 0x06C69FA0>, it points to a function\n",
    "print(say_whee, '\\n') # because of the @decorator, say_whee now points to wrapper function.\n",
    "print(say_whee())"
   ]
  },
  {
   "cell_type": "code",
   "execution_count": 178,
   "metadata": {},
   "outputs": [
    {
     "name": "stdout",
     "output_type": "stream",
     "text": [
      "<function say_whee at 0x06D4C3D0>\n",
      "<function my.<locals>.wrapper at 0x06D4C388>\n",
      "<function my.<locals>.wrapper at 0x06D4C388>\n",
      "Something happenning here before the function is called!\n",
      "Whee!\n",
      "Something happenning here after the function is called!\n"
     ]
    }
   ],
   "source": [
    "# This is what happens inside with a @decorator\n",
    "def my(func):\n",
    "    def wrapper():\n",
    "        print(\"Something happenning here before the function is called!\")\n",
    "        func()\n",
    "        print(\"Something happenning here after the function is called!\")\n",
    "    return wrapper\n",
    "\n",
    "def say_whee():\n",
    "    print(\"Whee!\")   \n",
    "    \n",
    "print(say_whee)\n",
    "print(my(say_whee))\n",
    "say_whee = my(say_whee)  # this returns the wrapper function, which we can then assign to say_whee\n",
    "print(say_whee)\n",
    "say_whee()"
   ]
  },
  {
   "cell_type": "markdown",
   "metadata": {},
   "source": [
    "### Reusing Decorators\n",
    "1. Usually decorators are moved to there own module \"decorators.py\" for reusability. Below you can see how we can use args and kwargs to reuse the decorator"
   ]
  },
  {
   "cell_type": "markdown",
   "metadata": {},
   "source": [
    "### Decorating Functions With Arguments:"
   ]
  },
  {
   "cell_type": "code",
   "execution_count": 210,
   "metadata": {},
   "outputs": [
    {
     "name": "stdout",
     "output_type": "stream",
     "text": [
      "Say Whee !!\n",
      "Say Whee !!\n",
      "Hello Veena!\n",
      "Hello Veena!\n"
     ]
    }
   ],
   "source": [
    "def do_twice(func):\n",
    "    def do_twice_wrapper(*args, **kwargs):\n",
    "        func(*args, **kwargs)\n",
    "        func(*args, **kwargs)\n",
    "    return do_twice_wrapper\n",
    "\n",
    "@do_twice\n",
    "def say_whee():\n",
    "    print(\"Say Whee !!\")\n",
    "    \n",
    "@do_twice \n",
    "def say_hello(name):\n",
    "    print('Hello {}!'.format(name))\n",
    "    \n",
    "say_whee()\n",
    "say_hello('Veena')"
   ]
  },
  {
   "cell_type": "markdown",
   "metadata": {},
   "source": [
    "### Decorators with Arguments:\n",
    "Sometimes, it’s useful to pass arguments to your decorators."
   ]
  },
  {
   "cell_type": "code",
   "execution_count": 257,
   "metadata": {},
   "outputs": [
    {
     "name": "stdout",
     "output_type": "stream",
     "text": [
      "Hello Veena!!\n",
      "Hello Veena!!\n",
      "Hello Veena!!\n",
      "Hello Veena!!\n"
     ]
    }
   ],
   "source": [
    "def repeat(n):\n",
    "    def do_twice(func):\n",
    "        def do_twice_wrapper(*args, **kwargs):\n",
    "            for _ in range(n):\n",
    "                func(*args, **kwargs)\n",
    "        return do_twice_wrapper\n",
    "    return do_twice\n",
    "\n",
    "@repeat(4)\n",
    "def say_hello(name):\n",
    "    print(\"Hello {}!!\".format(name))\n",
    "    \n",
    "say_hello('Veena')"
   ]
  },
  {
   "cell_type": "code",
   "execution_count": 261,
   "metadata": {},
   "outputs": [],
   "source": [
    "# Validate JSON\n",
    "# https://realpython.com/primer-on-python-decorators/#validating-json\n",
    "from flask import Flask, request, abort\n",
    "import functools\n",
    "app = Flask(__name__)\n",
    "\n",
    "def validate_json(*expected_args):                  # 1\n",
    "    def decorator_validate_json(func):\n",
    "        @functools.wraps(func)\n",
    "        def wrapper_validate_json(*args, **kwargs):\n",
    "            json_object = request.get_json()\n",
    "            for expected_arg in expected_args:      # 2\n",
    "                if expected_arg not in json_object:\n",
    "                    abort(400)\n",
    "            return func(*args, **kwargs)\n",
    "        return wrapper_validate_json\n",
    "    return decorator_validate_json\n",
    "\n",
    "@app.route(\"/grade\", methods=[\"POST\"])\n",
    "@validate_json(\"student_id\")\n",
    "def update_grade():\n",
    "    json_data = request.get_json()\n",
    "    # Update database.\n",
    "    return \"success!\"\n"
   ]
  },
  {
   "cell_type": "markdown",
   "metadata": {},
   "source": [
    "### Returning Values From Decorated Functions"
   ]
  },
  {
   "cell_type": "code",
   "execution_count": 215,
   "metadata": {},
   "outputs": [
    {
     "name": "stdout",
     "output_type": "stream",
     "text": [
      "Welcome!\n",
      "Welcome!\n"
     ]
    },
    {
     "data": {
      "text/plain": [
       "'Thanks for visiting'"
      ]
     },
     "execution_count": 215,
     "metadata": {},
     "output_type": "execute_result"
    }
   ],
   "source": [
    "# But you can return on only once from within the wrapper function\n",
    "def do_twice(func):\n",
    "    def do_twice_wrapper(*args, **kwargs):\n",
    "        func(*args, **kwargs)\n",
    "        return func(*args, **kwargs)\n",
    "    return do_twice_wrapper\n",
    "\n",
    "@do_twice\n",
    "def greeting(name):\n",
    "    print(\"Welcome!\")\n",
    "    return 'Thanks for visiting'.format(name)\n",
    "   \n",
    "greeting('veena')"
   ]
  },
  {
   "cell_type": "code",
   "execution_count": 237,
   "metadata": {},
   "outputs": [
    {
     "name": "stdout",
     "output_type": "stream",
     "text": [
      "Welcome!\n",
      "Welcome!\n"
     ]
    },
    {
     "data": {
      "text/plain": [
       "[(0, 'Thanks for visiting'), (1, 'Thanks for visiting')]"
      ]
     },
     "execution_count": 237,
     "metadata": {},
     "output_type": "execute_result"
    }
   ],
   "source": [
    "# But you can returncollect the return and return in one go\n",
    "def do_twice(func):\n",
    "    def do_twice_wrapper(*args, **kwargs):\n",
    "        # do somethig before calling func\n",
    "        value1 = func(*args, **kwargs)\n",
    "        value2 = func(*args, **kwargs)\n",
    "        # do something after calling func like clean up\n",
    "        return list(zip(range(0,2),(value1,value2)))\n",
    "    return do_twice_wrapper\n",
    "\n",
    "@do_twice\n",
    "def greeting(name):\n",
    "    print(\"Welcome!\")\n",
    "    return 'Thanks for visiting'.format(name)\n",
    "   \n",
    "greeting('veena')"
   ]
  },
  {
   "cell_type": "markdown",
   "metadata": {},
   "source": [
    "1. A great convenience when working with Python, especially in the interactive shell, is its powerful introspection ability. Introspection is the ability of an object to know about its own attributes at runtime.\n",
    "2. However, after being decorated, say_whee() has gotten very confused about its identity. It now reports being the wrapper_do_twice() inner function inside the do_twice() decorator.\n",
    "3. To fix this, decorators should use the @functools.wraps decorator, which will preserve information about the original function."
   ]
  },
  {
   "cell_type": "code",
   "execution_count": 224,
   "metadata": {},
   "outputs": [
    {
     "name": "stdout",
     "output_type": "stream",
     "text": [
      "<class 'list'>\n",
      "<function do_twice.<locals>.do_twice_wrapper at 0x06A93028>\n",
      "<built-in function print>\n",
      "Help on built-in function print in module builtins:\n",
      "\n",
      "print(...)\n",
      "    print(value, ..., sep=' ', end='\\n', file=sys.stdout, flush=False)\n",
      "    \n",
      "    Prints the values to a stream, or to sys.stdout by default.\n",
      "    Optional keyword arguments:\n",
      "    file:  a file-like object (stream); defaults to the current sys.stdout.\n",
      "    sep:   string inserted between values, default a space.\n",
      "    end:   string appended after the last value, default a newline.\n",
      "    flush: whether to forcibly flush the stream.\n",
      "\n"
     ]
    }
   ],
   "source": [
    "print(list)\n",
    "print(greeting)\n",
    "print(print)\n",
    "help(print)"
   ]
  },
  {
   "cell_type": "code",
   "execution_count": 225,
   "metadata": {},
   "outputs": [
    {
     "name": "stdout",
     "output_type": "stream",
     "text": [
      "<function do_twice.<locals>.do_twice_wrapper at 0x06A93220>\n"
     ]
    }
   ],
   "source": [
    "print(greeting)"
   ]
  },
  {
   "cell_type": "markdown",
   "metadata": {},
   "source": [
    "The @functools.wraps decorator uses the function functools.update_wrapper() to update special attributes like \\__name__ and \\__doc__ that are used in the introspection."
   ]
  },
  {
   "cell_type": "code",
   "execution_count": 230,
   "metadata": {},
   "outputs": [
    {
     "name": "stdout",
     "output_type": "stream",
     "text": [
      "Welcome!\n",
      "Welcome!\n",
      "Thanks for visiting\n"
     ]
    },
    {
     "data": {
      "text/plain": [
       "<function __main__.greeting(name)>"
      ]
     },
     "execution_count": 230,
     "metadata": {},
     "output_type": "execute_result"
    }
   ],
   "source": [
    "import functools\n",
    "\n",
    "def do_twice(func):\n",
    "    @functools.wraps(func)\n",
    "    def do_twice_wrapper(*args, **kwargs):\n",
    "        func(*args, **kwargs)\n",
    "        return func(*args, **kwargs)\n",
    "    return do_twice_wrapper\n",
    "\n",
    "@do_twice\n",
    "def greeting(name):\n",
    "    print(\"Welcome!\")\n",
    "    return 'Thanks for visiting'.format(name)\n",
    "   \n",
    "print(greeting('veena'))\n",
    "greeting"
   ]
  },
  {
   "cell_type": "markdown",
   "metadata": {},
   "source": [
    "Check this for some real world examples\n",
    "https://realpython.com/primer-on-python-decorators/#a-few-real-world-examples"
   ]
  },
  {
   "cell_type": "markdown",
   "metadata": {},
   "source": [
    "### Decorating Classes:\n",
    "1. There are two different ways you can use decorators on classes.One is class methods and anotehr is class\n",
    "2. Some commonly used decorators that are even built-ins in Python are **@classmethod, @staticmethod, and @property**. \n",
    "3. The other way to use decorators on classes is to decorate the whole class.\n",
    "4. You can stack multiple decorators on top of each other, but their order will matter."
   ]
  },
  {
   "cell_type": "code",
   "execution_count": 248,
   "metadata": {},
   "outputs": [
    {
     "name": "stdout",
     "output_type": "stream",
     "text": [
      "<__main__.Earth object at 0x05E6E760>\n",
      "<__main__.Earth object at 0x05E6E760>\n",
      "True\n"
     ]
    }
   ],
   "source": [
    "# make a decorator to have singleton class\n",
    "\n",
    "import functools\n",
    "\n",
    "def singleton(cls):\n",
    "    @functools.wraps(cls)\n",
    "    def wrapper_singleton(*args, **kwargs):\n",
    "        if not wrapper_singleton.instance:\n",
    "            wrapper_singleton.instance = cls(*args, **kwargs)\n",
    "        return wrapper_singleton.instance\n",
    "    wrapper_singleton.instance = None\n",
    "    return wrapper_singleton\n",
    "\n",
    "@singleton\n",
    "class Earth():\n",
    "    pass\n",
    "\n",
    "earth1 = Earth()\n",
    "print(earth1)  \n",
    "earth2 = Earth()\n",
    "print(earth2)\n",
    "print(earth1 is earth2)"
   ]
  },
  {
   "cell_type": "markdown",
   "metadata": {},
   "source": [
    "## Python function as a first class Citizens\n",
    "1. https://dbader.org/blog/python-first-class-functions\n",
    "2. Everything in Python is an object, including functions. You can assign them to variables, store them in data structures, and pass or return them to and from other functions (first-class functions.)\n",
    "3. First-class functions allow you to abstract away and pass around behavior in your programs.\n",
    "4. Functions can be nested and they can capture and carry some of the parent function’s state with them. Functions that do this are called closures.\n",
    "5. Objects can be made callable which allows you to treat them like functions in many cases."
   ]
  },
  {
   "cell_type": "markdown",
   "metadata": {},
   "source": [
    "**Lexical Closures( or just Closure functions)**\n",
    " A closure remembers the values from its enclosing lexical scope even when the program flow is no longer in that scope."
   ]
  },
  {
   "cell_type": "code",
   "execution_count": 241,
   "metadata": {},
   "outputs": [
    {
     "name": "stdout",
     "output_type": "stream",
     "text": [
      "7\n",
      "8\n"
     ]
    }
   ],
   "source": [
    "# here the add() functions remember's its parent's 'n' value, even when out of scope.\n",
    "def make_adder(n):\n",
    "    def add(x):\n",
    "        return n + x\n",
    "    return add\n",
    "\n",
    "adder_3 = make_adder(3)\n",
    "print(adder_3(4))\n",
    "print(adder_3(5))\n",
    "# Here basically our make_adder() function is pre-configuring the add() behaviour.\n",
    "# Notice how the “add” functions can still access the n argument of the make_adder function (the enclosing scope)."
   ]
  },
  {
   "cell_type": "markdown",
   "metadata": {},
   "source": [
    "# Profiling in Python\n",
    "1. **cProfile** and **profile** provide deterministic profiling of Python programs. A profile is a set of statistics that describes how often and for how long various parts of the program executed. These statistics can be formatted into reports via the **pstats** module.\n",
    "2. The Python standard library provides two different implementations of the same profiling interface:\n",
    "    * __cProfile__ is recommended for most users; it’s a C extension with reasonable overhead that makes it suitable for profiling long-running programs.\n",
    "    * __profile__, a pure Python module whose interface is imitated by cProfile, but which adds significant overhead to profiled programs. If you’re trying to extend the profiler in some way, the task might be easier with this module. "
   ]
  },
  {
   "cell_type": "code",
   "execution_count": 142,
   "metadata": {},
   "outputs": [
    {
     "data": {
      "text/plain": [
       "[0, 1, 1, 2, 3, 5, 8, 13, 21, 34]"
      ]
     },
     "execution_count": 142,
     "metadata": {},
     "output_type": "execute_result"
    }
   ],
   "source": [
    "def fib(n):\n",
    "    series = [0]\n",
    "    a, b = 0, 1\n",
    "    for i in range(1, n):\n",
    "        a, b = b, a+b\n",
    "        series.append(a)\n",
    "    return series\n",
    "fib(10)"
   ]
  },
  {
   "cell_type": "code",
   "execution_count": 143,
   "metadata": {},
   "outputs": [
    {
     "data": {
      "text/plain": [
       "[0, 1, 1, 2, 3, 5, 8, 13, 21, 34]"
      ]
     },
     "execution_count": 143,
     "metadata": {},
     "output_type": "execute_result"
    }
   ],
   "source": [
    "series = []\n",
    "def fibRecur(n, a=0, b=1):\n",
    "    series.append(a)\n",
    "    if n == 0:\n",
    "        return 0\n",
    "    elif n > 1:\n",
    "        return fibRecur(n-1, b, a+b)\n",
    "    return series   \n",
    "fibRecur(10)"
   ]
  },
  {
   "cell_type": "code",
   "execution_count": 149,
   "metadata": {},
   "outputs": [],
   "source": [
    "import cProfile, pstats, sys"
   ]
  },
  {
   "cell_type": "code",
   "execution_count": 145,
   "metadata": {},
   "outputs": [
    {
     "name": "stdout",
     "output_type": "stream",
     "text": [
      "         11 function calls in 0.000 seconds\n",
      "\n",
      "   Ordered by: standard name\n",
      "\n",
      "   ncalls  tottime  percall  cumtime  percall filename:lineno(function)\n",
      "        1    0.000    0.000    0.000    0.000 <ipython-input-142-16383419b21a>:1(fib)\n",
      "        9    0.000    0.000    0.000    0.000 {method 'append' of 'list' objects}\n",
      "        1    0.000    0.000    0.000    0.000 {method 'disable' of '_lsprof.Profiler' objects}\n",
      "\n",
      "\n"
     ]
    }
   ],
   "source": [
    "profiler = cProfile.Profile()\n",
    "profiler.runcall(fib, n=10)\n",
    "profiler.print_stats()"
   ]
  },
  {
   "cell_type": "code",
   "execution_count": 148,
   "metadata": {},
   "outputs": [
    {
     "name": "stdout",
     "output_type": "stream",
     "text": [
      "         21 function calls (12 primitive calls) in 0.000 seconds\n",
      "\n",
      "   Ordered by: standard name\n",
      "\n",
      "   ncalls  tottime  percall  cumtime  percall filename:lineno(function)\n",
      "     10/1    0.000    0.000    0.000    0.000 <ipython-input-143-5c0d73b4c780>:2(fibRecur)\n",
      "       10    0.000    0.000    0.000    0.000 {method 'append' of 'list' objects}\n",
      "        1    0.000    0.000    0.000    0.000 {method 'disable' of '_lsprof.Profiler' objects}\n",
      "\n",
      "\n"
     ]
    }
   ],
   "source": [
    "profiler = cProfile.Profile()\n",
    "profiler.runcall(fibRecur, n=10)\n",
    "profiler.print_stats()"
   ]
  },
  {
   "cell_type": "code",
   "execution_count": 147,
   "metadata": {},
   "outputs": [
    {
     "ename": "SyntaxError",
     "evalue": "invalid syntax (<ipython-input-147-dfc26d4c11ac>, line 1)",
     "output_type": "error",
     "traceback": [
      "\u001b[1;36m  File \u001b[1;32m\"<ipython-input-147-dfc26d4c11ac>\"\u001b[1;36m, line \u001b[1;32m1\u001b[0m\n\u001b[1;33m    TBD ...\u001b[0m\n\u001b[1;37m        ^\u001b[0m\n\u001b[1;31mSyntaxError\u001b[0m\u001b[1;31m:\u001b[0m invalid syntax\n"
     ]
    }
   ],
   "source": [
    "To-Do profiling..."
   ]
  },
  {
   "cell_type": "markdown",
   "metadata": {},
   "source": [
    "### Serializing and Deserializing : Pickle module and How JSON is better option than pickle\n",
    "1. Evrything about serlization, pickle and JSON is in Pandas and Numpy notebook"
   ]
  },
  {
   "cell_type": "markdown",
   "metadata": {},
   "source": [
    "## Concurrency / Parallel Processing:\n",
    "1. Python provides three standard library for concurrency:\n",
    "    * threading - used for I/O bound computing\n",
    "    * asyncio - used for I/O bound computing\n",
    "    * multiprocessing - actual works with multiple processor or used for multiprocessing\n",
    "2. GIL (Global Interpretor Lock) usually comes in your way of multiprocessing its a locking mechanism by Interpretor which will allow interpretor to run only one thing is executed at a time. You have to work around with the GIL to make multi processing.\n",
    "3. Latency --> Latency is basically some kind of delay in transmitting or processing data, which can be caused by wide variety of reasons. Basically Latency(delay) of following are in increasing order:\n",
    "    * CPU time to access RAM - Here CPU spends more time computing than waiting\n",
    "    * CPU time to access Disk - Here CPU spends like more time waiting than computing\n",
    "    * CPU time to access I/O - Here CPU spends actually more time waiting than computing\n",
    "    * CPU time to make a network access like a ping to europe - Here CPU spending huge time waiting than computing\n",
    "4. \n"
   ]
  },
  {
   "cell_type": "code",
   "execution_count": null,
   "metadata": {},
   "outputs": [],
   "source": []
  },
  {
   "cell_type": "code",
   "execution_count": null,
   "metadata": {},
   "outputs": [],
   "source": []
  },
  {
   "cell_type": "code",
   "execution_count": null,
   "metadata": {},
   "outputs": [],
   "source": []
  },
  {
   "cell_type": "code",
   "execution_count": null,
   "metadata": {},
   "outputs": [],
   "source": []
  }
 ],
 "metadata": {
  "kernelspec": {
   "display_name": "Python 3",
   "language": "python",
   "name": "python3"
  },
  "language_info": {
   "codemirror_mode": {
    "name": "ipython",
    "version": 3
   },
   "file_extension": ".py",
   "mimetype": "text/x-python",
   "name": "python",
   "nbconvert_exporter": "python",
   "pygments_lexer": "ipython3",
   "version": "3.8.3"
  }
 },
 "nbformat": 4,
 "nbformat_minor": 2
}
